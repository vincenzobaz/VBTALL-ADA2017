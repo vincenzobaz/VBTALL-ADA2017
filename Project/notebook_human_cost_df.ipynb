{
 "cells": [
  {
   "cell_type": "code",
   "execution_count": 1,
   "metadata": {
    "ExecuteTime": {
     "end_time": "2017-12-17T02:42:21.740805Z",
     "start_time": "2017-12-17T02:42:20.995156Z"
    },
    "collapsed": true
   },
   "outputs": [],
   "source": [
    "import os\n",
    "\n",
    "import numpy as np\n",
    "import pandas as pd\n",
    "import networkx as nx\n",
    "import pickle\n",
    "from tqdm import tqdm\n",
    "import geopandas as gpd\n",
    "\n",
    "from scipy import stats\n",
    "\n",
    "import re\n",
    "import unidecode"
   ]
  },
  {
   "cell_type": "code",
   "execution_count": 2,
   "metadata": {
    "ExecuteTime": {
     "end_time": "2017-12-17T02:42:21.810457Z",
     "start_time": "2017-12-17T02:42:21.742253Z"
    },
    "collapsed": true
   },
   "outputs": [],
   "source": [
    "with open(os.path.join(\"pickle\", 'conflict.pickle'), 'rb') as data_source:\n",
    "    conflict_df = pickle.load(data_source)"
   ]
  },
  {
   "cell_type": "code",
   "execution_count": 3,
   "metadata": {
    "ExecuteTime": {
     "end_time": "2017-12-17T02:42:21.815284Z",
     "start_time": "2017-12-17T02:42:21.811810Z"
    },
    "collapsed": true
   },
   "outputs": [],
   "source": [
    "with open(os.path.join(\"pickle\", 'refugee.pickle'), 'rb') as data_source:\n",
    "    refugee_df = pickle.load(data_source)"
   ]
  },
  {
   "cell_type": "markdown",
   "metadata": {},
   "source": [
    "# Combined displacement and event dataframe"
   ]
  },
  {
   "cell_type": "markdown",
   "metadata": {},
   "source": [
    "The goal of this section is to create a dataframe that links the displacement information given by the UNHCR with the events and deaths given by the GED dataset. This will be grouped by year and will keep track of the number of events and of the event identifiers.\n",
    "\n",
    "The columns will be:\n",
    "\n",
    "|country_id|year|number_of_events|events_id|displacement_extern|displacement_intern|total_displacement|deaths|\n",
    "\n",
    "where number_of_events is the number of events in a country in a year\n",
    "where events_id is an array containing the id of each event accounted for\n",
    "where displacement_extern is the sum of [refugee, asylum, stateless, others]\n",
    "where displacement_intern is the value of internally_displaced"
   ]
  },
  {
   "cell_type": "code",
   "execution_count": 4,
   "metadata": {
    "ExecuteTime": {
     "end_time": "2017-12-17T02:42:21.823713Z",
     "start_time": "2017-12-17T02:42:21.816696Z"
    },
    "collapsed": true
   },
   "outputs": [],
   "source": [
    "COUNTRY_HUMAN_COST_DF_COLUMNS = [\"country_id\", \"year\", \"number_of_events\", \"events_id\", \"displacement_extern\", \"displacement_intern\", \"total_displacement\", \"deaths\"]"
   ]
  },
  {
   "cell_type": "markdown",
   "metadata": {},
   "source": [
    "## Manage index and data types"
   ]
  },
  {
   "cell_type": "code",
   "execution_count": 5,
   "metadata": {
    "ExecuteTime": {
     "end_time": "2017-12-17T02:42:21.904779Z",
     "start_time": "2017-12-17T02:42:21.825022Z"
    }
   },
   "outputs": [
    {
     "data": {
      "text/html": [
       "<div>\n",
       "<style>\n",
       "    .dataframe thead tr:only-child th {\n",
       "        text-align: right;\n",
       "    }\n",
       "\n",
       "    .dataframe thead th {\n",
       "        text-align: left;\n",
       "    }\n",
       "\n",
       "    .dataframe tbody tr th {\n",
       "        vertical-align: top;\n",
       "    }\n",
       "</style>\n",
       "<table border=\"1\" class=\"dataframe\">\n",
       "  <thead>\n",
       "    <tr style=\"text-align: right;\">\n",
       "      <th></th>\n",
       "      <th>id</th>\n",
       "      <th>year</th>\n",
       "      <th>type_of_violence</th>\n",
       "      <th>conflict_new_id</th>\n",
       "      <th>conflict_name</th>\n",
       "      <th>side_a_new_id</th>\n",
       "      <th>gwnoa</th>\n",
       "      <th>side_a</th>\n",
       "      <th>gwnob</th>\n",
       "      <th>side_b_new_id</th>\n",
       "      <th>...</th>\n",
       "      <th>longitude</th>\n",
       "      <th>geom_wkt</th>\n",
       "      <th>country</th>\n",
       "      <th>country_id</th>\n",
       "      <th>date_start</th>\n",
       "      <th>deaths_a</th>\n",
       "      <th>deaths_b</th>\n",
       "      <th>deaths_civilians</th>\n",
       "      <th>deaths_unknown</th>\n",
       "      <th>best</th>\n",
       "    </tr>\n",
       "  </thead>\n",
       "  <tbody>\n",
       "    <tr>\n",
       "      <th>107883</th>\n",
       "      <td>186087</td>\n",
       "      <td>1989</td>\n",
       "      <td>1</td>\n",
       "      <td>381</td>\n",
       "      <td>Haiti:Government</td>\n",
       "      <td>6</td>\n",
       "      <td>41.0</td>\n",
       "      <td>Government of Haiti</td>\n",
       "      <td>NaN</td>\n",
       "      <td>763</td>\n",
       "      <td>...</td>\n",
       "      <td>-72.335</td>\n",
       "      <td>POINT (-72.335000 18.539170)</td>\n",
       "      <td>Haiti</td>\n",
       "      <td>41</td>\n",
       "      <td>1989</td>\n",
       "      <td>0</td>\n",
       "      <td>4</td>\n",
       "      <td>0</td>\n",
       "      <td>0</td>\n",
       "      <td>4</td>\n",
       "    </tr>\n",
       "    <tr>\n",
       "      <th>107890</th>\n",
       "      <td>186122</td>\n",
       "      <td>1989</td>\n",
       "      <td>1</td>\n",
       "      <td>381</td>\n",
       "      <td>Haiti:Government</td>\n",
       "      <td>6</td>\n",
       "      <td>41.0</td>\n",
       "      <td>Government of Haiti</td>\n",
       "      <td>NaN</td>\n",
       "      <td>763</td>\n",
       "      <td>...</td>\n",
       "      <td>-72.335</td>\n",
       "      <td>POINT (-72.335000 18.539170)</td>\n",
       "      <td>Haiti</td>\n",
       "      <td>41</td>\n",
       "      <td>1989</td>\n",
       "      <td>0</td>\n",
       "      <td>0</td>\n",
       "      <td>0</td>\n",
       "      <td>1</td>\n",
       "      <td>1</td>\n",
       "    </tr>\n",
       "  </tbody>\n",
       "</table>\n",
       "<p>2 rows × 26 columns</p>\n",
       "</div>"
      ],
      "text/plain": [
       "            id  year  type_of_violence  conflict_new_id     conflict_name  \\\n",
       "107883  186087  1989                 1              381  Haiti:Government   \n",
       "107890  186122  1989                 1              381  Haiti:Government   \n",
       "\n",
       "        side_a_new_id  gwnoa               side_a  gwnob  side_b_new_id  ...   \\\n",
       "107883              6   41.0  Government of Haiti    NaN            763  ...    \n",
       "107890              6   41.0  Government of Haiti    NaN            763  ...    \n",
       "\n",
       "       longitude                      geom_wkt country country_id date_start  \\\n",
       "107883   -72.335  POINT (-72.335000 18.539170)   Haiti         41       1989   \n",
       "107890   -72.335  POINT (-72.335000 18.539170)   Haiti         41       1989   \n",
       "\n",
       "        deaths_a  deaths_b deaths_civilians deaths_unknown  best  \n",
       "107883         0         4                0              0     4  \n",
       "107890         0         0                0              1     1  \n",
       "\n",
       "[2 rows x 26 columns]"
      ]
     },
     "execution_count": 5,
     "metadata": {},
     "output_type": "execute_result"
    }
   ],
   "source": [
    "# Sort conflict dataframe so we can easily iter through it\n",
    "sorted_conflict_df = conflict_df.sort_values([\"year\", \"country_id\"], axis=0)\n",
    "sorted_conflict_df.head(2)"
   ]
  },
  {
   "cell_type": "code",
   "execution_count": 6,
   "metadata": {
    "ExecuteTime": {
     "end_time": "2017-12-17T02:42:21.928369Z",
     "start_time": "2017-12-17T02:42:21.906701Z"
    }
   },
   "outputs": [
    {
     "data": {
      "text/html": [
       "<div>\n",
       "<style>\n",
       "    .dataframe thead tr:only-child th {\n",
       "        text-align: right;\n",
       "    }\n",
       "\n",
       "    .dataframe thead th {\n",
       "        text-align: left;\n",
       "    }\n",
       "\n",
       "    .dataframe tbody tr th {\n",
       "        vertical-align: top;\n",
       "    }\n",
       "</style>\n",
       "<table border=\"1\" class=\"dataframe\">\n",
       "  <thead>\n",
       "    <tr style=\"text-align: right;\">\n",
       "      <th></th>\n",
       "      <th>id</th>\n",
       "      <th>year</th>\n",
       "      <th>type_of_violence</th>\n",
       "      <th>conflict_new_id</th>\n",
       "      <th>conflict_name</th>\n",
       "      <th>side_a_new_id</th>\n",
       "      <th>gwnoa</th>\n",
       "      <th>side_a</th>\n",
       "      <th>gwnob</th>\n",
       "      <th>side_b_new_id</th>\n",
       "      <th>...</th>\n",
       "      <th>longitude</th>\n",
       "      <th>geom_wkt</th>\n",
       "      <th>country</th>\n",
       "      <th>country_id</th>\n",
       "      <th>date_start</th>\n",
       "      <th>deaths_a</th>\n",
       "      <th>deaths_b</th>\n",
       "      <th>deaths_civilians</th>\n",
       "      <th>deaths_unknown</th>\n",
       "      <th>best</th>\n",
       "    </tr>\n",
       "  </thead>\n",
       "  <tbody>\n",
       "    <tr>\n",
       "      <th>0</th>\n",
       "      <td>4</td>\n",
       "      <td>2010</td>\n",
       "      <td>1</td>\n",
       "      <td>230</td>\n",
       "      <td>Yemen (North Yemen):Government</td>\n",
       "      <td>123</td>\n",
       "      <td>678.0</td>\n",
       "      <td>Government of Yemen (North Yemen)</td>\n",
       "      <td>NaN</td>\n",
       "      <td>881</td>\n",
       "      <td>...</td>\n",
       "      <td>44.206667</td>\n",
       "      <td>POINT (44.206667 15.354722)</td>\n",
       "      <td>Yemen (North Yemen)</td>\n",
       "      <td>678</td>\n",
       "      <td>2010</td>\n",
       "      <td>2</td>\n",
       "      <td>0</td>\n",
       "      <td>0</td>\n",
       "      <td>0</td>\n",
       "      <td>2</td>\n",
       "    </tr>\n",
       "  </tbody>\n",
       "</table>\n",
       "<p>1 rows × 26 columns</p>\n",
       "</div>"
      ],
      "text/plain": [
       "   id  year  type_of_violence  conflict_new_id  \\\n",
       "0   4  2010                 1              230   \n",
       "\n",
       "                    conflict_name  side_a_new_id  gwnoa  \\\n",
       "0  Yemen (North Yemen):Government            123  678.0   \n",
       "\n",
       "                              side_a  gwnob  side_b_new_id  ...   longitude  \\\n",
       "0  Government of Yemen (North Yemen)    NaN            881  ...   44.206667   \n",
       "\n",
       "                      geom_wkt              country country_id date_start  \\\n",
       "0  POINT (44.206667 15.354722)  Yemen (North Yemen)        678       2010   \n",
       "\n",
       "   deaths_a  deaths_b deaths_civilians deaths_unknown  best  \n",
       "0         2         0                0              0     2  \n",
       "\n",
       "[1 rows x 26 columns]"
      ]
     },
     "metadata": {},
     "output_type": "display_data"
    }
   ],
   "source": [
    "display(conflict_df.head(1))"
   ]
  },
  {
   "cell_type": "code",
   "execution_count": 7,
   "metadata": {
    "ExecuteTime": {
     "end_time": "2017-12-17T02:42:21.936772Z",
     "start_time": "2017-12-17T02:42:21.930249Z"
    },
    "collapsed": true
   },
   "outputs": [],
   "source": [
    "refugee_df[\"year\"] = pd.to_numeric(refugee_df[\"year\"])\n",
    "refugee_df[\"country_id\"] = pd.to_numeric(refugee_df[\"country_id\"])"
   ]
  },
  {
   "cell_type": "code",
   "execution_count": 8,
   "metadata": {
    "ExecuteTime": {
     "end_time": "2017-12-17T02:42:22.246389Z",
     "start_time": "2017-12-17T02:42:21.938775Z"
    }
   },
   "outputs": [
    {
     "data": {
      "text/html": [
       "<div>\n",
       "<style>\n",
       "    .dataframe thead tr:only-child th {\n",
       "        text-align: right;\n",
       "    }\n",
       "\n",
       "    .dataframe thead th {\n",
       "        text-align: left;\n",
       "    }\n",
       "\n",
       "    .dataframe tbody tr th {\n",
       "        vertical-align: top;\n",
       "    }\n",
       "</style>\n",
       "<table border=\"1\" class=\"dataframe\">\n",
       "  <thead>\n",
       "    <tr style=\"text-align: right;\">\n",
       "      <th></th>\n",
       "      <th></th>\n",
       "      <th>refugee</th>\n",
       "      <th>asylum</th>\n",
       "      <th>internally_displaced</th>\n",
       "      <th>stateless</th>\n",
       "      <th>others</th>\n",
       "      <th>total</th>\n",
       "      <th>displacement_extern</th>\n",
       "    </tr>\n",
       "    <tr>\n",
       "      <th>year</th>\n",
       "      <th>country_id</th>\n",
       "      <th></th>\n",
       "      <th></th>\n",
       "      <th></th>\n",
       "      <th></th>\n",
       "      <th></th>\n",
       "      <th></th>\n",
       "      <th></th>\n",
       "    </tr>\n",
       "  </thead>\n",
       "  <tbody>\n",
       "    <tr>\n",
       "      <th>1989.0</th>\n",
       "      <th>490.0</th>\n",
       "      <td>100786.0</td>\n",
       "      <td>0.0</td>\n",
       "      <td>0.0</td>\n",
       "      <td>0.0</td>\n",
       "      <td>0.0</td>\n",
       "      <td>100786.0</td>\n",
       "      <td>100786.0</td>\n",
       "    </tr>\n",
       "  </tbody>\n",
       "</table>\n",
       "</div>"
      ],
      "text/plain": [
       "                    refugee  asylum  internally_displaced  stateless  others  \\\n",
       "year   country_id                                                              \n",
       "1989.0 490.0       100786.0     0.0                   0.0        0.0     0.0   \n",
       "\n",
       "                      total  displacement_extern  \n",
       "year   country_id                                 \n",
       "1989.0 490.0       100786.0             100786.0  "
      ]
     },
     "execution_count": 8,
     "metadata": {},
     "output_type": "execute_result"
    }
   ],
   "source": [
    "# Index refugee_df for easier search\n",
    "try:\n",
    "    refugee_df = refugee_df.set_index([\"year\", \"country_id\"])\n",
    "except: # if we run this two times\n",
    "    pass\n",
    "# Get the displacement_extern value\n",
    "refugee_df[\"displacement_extern\"] = refugee_df.apply(\\\n",
    "                                    lambda row: row.refugee + row.asylum + row.stateless + row.others, axis=1)\n",
    "refugee_df.head(1)"
   ]
  },
  {
   "cell_type": "code",
   "execution_count": 9,
   "metadata": {
    "ExecuteTime": {
     "end_time": "2017-12-17T02:42:22.263404Z",
     "start_time": "2017-12-17T02:42:22.248402Z"
    }
   },
   "outputs": [
    {
     "data": {
      "text/html": [
       "<div>\n",
       "<style>\n",
       "    .dataframe thead tr:only-child th {\n",
       "        text-align: right;\n",
       "    }\n",
       "\n",
       "    .dataframe thead th {\n",
       "        text-align: left;\n",
       "    }\n",
       "\n",
       "    .dataframe tbody tr th {\n",
       "        vertical-align: top;\n",
       "    }\n",
       "</style>\n",
       "<table border=\"1\" class=\"dataframe\">\n",
       "  <thead>\n",
       "    <tr style=\"text-align: right;\">\n",
       "      <th></th>\n",
       "      <th></th>\n",
       "      <th>refugee</th>\n",
       "      <th>asylum</th>\n",
       "      <th>internally_displaced</th>\n",
       "      <th>stateless</th>\n",
       "      <th>others</th>\n",
       "      <th>total</th>\n",
       "      <th>displacement_extern</th>\n",
       "    </tr>\n",
       "    <tr>\n",
       "      <th>year</th>\n",
       "      <th>country_id</th>\n",
       "      <th></th>\n",
       "      <th></th>\n",
       "      <th></th>\n",
       "      <th></th>\n",
       "      <th></th>\n",
       "      <th></th>\n",
       "      <th></th>\n",
       "    </tr>\n",
       "  </thead>\n",
       "  <tbody>\n",
       "    <tr>\n",
       "      <th rowspan=\"5\" valign=\"top\">1989.0</th>\n",
       "      <th>40.0</th>\n",
       "      <td>7682.0</td>\n",
       "      <td>0.0</td>\n",
       "      <td>0.0</td>\n",
       "      <td>0.0</td>\n",
       "      <td>0.0</td>\n",
       "      <td>7682.0</td>\n",
       "      <td>7682.0</td>\n",
       "    </tr>\n",
       "    <tr>\n",
       "      <th>41.0</th>\n",
       "      <td>3344.0</td>\n",
       "      <td>0.0</td>\n",
       "      <td>0.0</td>\n",
       "      <td>0.0</td>\n",
       "      <td>0.0</td>\n",
       "      <td>3344.0</td>\n",
       "      <td>3344.0</td>\n",
       "    </tr>\n",
       "    <tr>\n",
       "      <th>55.0</th>\n",
       "      <td>5.0</td>\n",
       "      <td>0.0</td>\n",
       "      <td>0.0</td>\n",
       "      <td>0.0</td>\n",
       "      <td>0.0</td>\n",
       "      <td>5.0</td>\n",
       "      <td>5.0</td>\n",
       "    </tr>\n",
       "    <tr>\n",
       "      <th>90.0</th>\n",
       "      <td>45413.0</td>\n",
       "      <td>0.0</td>\n",
       "      <td>0.0</td>\n",
       "      <td>0.0</td>\n",
       "      <td>0.0</td>\n",
       "      <td>45413.0</td>\n",
       "      <td>45413.0</td>\n",
       "    </tr>\n",
       "    <tr>\n",
       "      <th>91.0</th>\n",
       "      <td>5.0</td>\n",
       "      <td>0.0</td>\n",
       "      <td>0.0</td>\n",
       "      <td>0.0</td>\n",
       "      <td>0.0</td>\n",
       "      <td>5.0</td>\n",
       "      <td>5.0</td>\n",
       "    </tr>\n",
       "  </tbody>\n",
       "</table>\n",
       "</div>"
      ],
      "text/plain": [
       "                   refugee  asylum  internally_displaced  stateless  others  \\\n",
       "year   country_id                                                             \n",
       "1989.0 40.0         7682.0     0.0                   0.0        0.0     0.0   \n",
       "       41.0         3344.0     0.0                   0.0        0.0     0.0   \n",
       "       55.0            5.0     0.0                   0.0        0.0     0.0   \n",
       "       90.0        45413.0     0.0                   0.0        0.0     0.0   \n",
       "       91.0            5.0     0.0                   0.0        0.0     0.0   \n",
       "\n",
       "                     total  displacement_extern  \n",
       "year   country_id                                \n",
       "1989.0 40.0         7682.0               7682.0  \n",
       "       41.0         3344.0               3344.0  \n",
       "       55.0            5.0                  5.0  \n",
       "       90.0        45413.0              45413.0  \n",
       "       91.0            5.0                  5.0  "
      ]
     },
     "metadata": {},
     "output_type": "display_data"
    }
   ],
   "source": [
    "refugee_df = refugee_df.sort_index()\n",
    "display(refugee_df.head(5))"
   ]
  },
  {
   "cell_type": "code",
   "execution_count": 10,
   "metadata": {
    "ExecuteTime": {
     "end_time": "2017-12-17T02:42:22.267766Z",
     "start_time": "2017-12-17T02:42:22.264929Z"
    }
   },
   "outputs": [
    {
     "name": "stdout",
     "output_type": "stream",
     "text": [
      "['country_id', 'year', 'number_of_events', 'events_id', 'displacement_extern', 'displacement_intern', 'total_displacement', 'deaths']\n"
     ]
    }
   ],
   "source": [
    "print(COUNTRY_HUMAN_COST_DF_COLUMNS)"
   ]
  },
  {
   "cell_type": "markdown",
   "metadata": {},
   "source": [
    "## Do actual merge"
   ]
  },
  {
   "cell_type": "code",
   "execution_count": 11,
   "metadata": {
    "ExecuteTime": {
     "end_time": "2017-12-17T02:42:22.277690Z",
     "start_time": "2017-12-17T02:42:22.269153Z"
    },
    "collapsed": true
   },
   "outputs": [],
   "source": [
    "def get_total_deaths_from_event_ids(conflict_df, event_ids):\n",
    "    \"\"\"This function will return the total deaths associated with a list of event id\"\"\"\n",
    "    deaths = 0\n",
    "    for event in event_ids:\n",
    "        index = conflict_df.index[conflict_df.id == event].tolist()[0]\n",
    "        deaths += conflict_df.loc[index, \"best\"]\n",
    "    return deaths"
   ]
  },
  {
   "cell_type": "code",
   "execution_count": 12,
   "metadata": {
    "ExecuteTime": {
     "end_time": "2017-12-17T02:42:22.293942Z",
     "start_time": "2017-12-17T02:42:22.279014Z"
    },
    "collapsed": true
   },
   "outputs": [],
   "source": [
    "def get_append_series(conflict_df, refugee_df, year, country_id, event_ids=[]):\n",
    "    \"\"\"This function will create a serie to be appended to the country_human_cost_df with the proper values\n",
    "       at each column\n",
    "    \"\"\"\n",
    "    try:\n",
    "        displacement_extern = refugee_df.displacement_extern[year, country_id]\n",
    "        displacement_intern = refugee_df.internally_displaced[year, country_id]\n",
    "        total_displacement  = refugee_df.total[year, country_id]\n",
    "    except KeyError: # No value for this key\n",
    "        displacement_extern = 0\n",
    "        displacement_intern = 0\n",
    "        total_displacement  = 0\n",
    "        \n",
    "    deaths = get_total_deaths_from_event_ids(conflict_df, event_ids)\n",
    "    \n",
    "    data = [ country_id, year, len(event_ids), event_ids,\n",
    "             displacement_extern, displacement_intern,\n",
    "             total_displacement, deaths\n",
    "           ] \n",
    "    series_to_append = pd.Series(data = data, index=COUNTRY_HUMAN_COST_DF_COLUMNS)\n",
    "    return series_to_append"
   ]
  },
  {
   "cell_type": "code",
   "execution_count": 13,
   "metadata": {
    "ExecuteTime": {
     "end_time": "2017-12-17T02:43:02.256156Z",
     "start_time": "2017-12-17T02:42:22.295471Z"
    },
    "run_control": {
     "marked": true
    }
   },
   "outputs": [
    {
     "name": "stderr",
     "output_type": "stream",
     "text": [
      "135181it [00:39, 3385.06it/s]\n"
     ]
    }
   ],
   "source": [
    "# Create the country_human_cost_df and fill it for each country in which there was a conflict, by year\n",
    "# Init variables\n",
    "current_year = None\n",
    "current_country_id = None\n",
    "event_ids = []\n",
    "\n",
    "country_human_cost_df = pd.DataFrame(columns=COUNTRY_HUMAN_COST_DF_COLUMNS) \n",
    "for row in tqdm(sorted_conflict_df.itertuples()):\n",
    "    # Check if we are still in the same year and country\n",
    "    if (current_year != row.year) or (current_country_id != row.country_id):\n",
    "        # If we registered event, add a row to the country_human_cost_df\n",
    "        if event_ids:\n",
    "            series_to_append = get_append_series(conflict_df, refugee_df, current_year, current_country_id, event_ids)\n",
    "            country_human_cost_df = country_human_cost_df.append(series_to_append, ignore_index=True)\n",
    "        \n",
    "        # Set the variables to the desired values\n",
    "        event_ids = []\n",
    "        current_year = row.year\n",
    "        current_country_id = row.country_id\n",
    "        \n",
    "    # Add the event to the list\n",
    "    event_ids.append(row.id)"
   ]
  },
  {
   "cell_type": "code",
   "execution_count": 14,
   "metadata": {
    "ExecuteTime": {
     "end_time": "2017-12-17T02:43:02.277103Z",
     "start_time": "2017-12-17T02:43:02.257784Z"
    }
   },
   "outputs": [
    {
     "data": {
      "text/html": [
       "<div>\n",
       "<style>\n",
       "    .dataframe thead tr:only-child th {\n",
       "        text-align: right;\n",
       "    }\n",
       "\n",
       "    .dataframe thead th {\n",
       "        text-align: left;\n",
       "    }\n",
       "\n",
       "    .dataframe tbody tr th {\n",
       "        vertical-align: top;\n",
       "    }\n",
       "</style>\n",
       "<table border=\"1\" class=\"dataframe\">\n",
       "  <thead>\n",
       "    <tr style=\"text-align: right;\">\n",
       "      <th></th>\n",
       "      <th>country_id</th>\n",
       "      <th>year</th>\n",
       "      <th>number_of_events</th>\n",
       "      <th>events_id</th>\n",
       "      <th>displacement_extern</th>\n",
       "      <th>displacement_intern</th>\n",
       "      <th>total_displacement</th>\n",
       "      <th>deaths</th>\n",
       "    </tr>\n",
       "  </thead>\n",
       "  <tbody>\n",
       "    <tr>\n",
       "      <th>0</th>\n",
       "      <td>41</td>\n",
       "      <td>1989</td>\n",
       "      <td>4</td>\n",
       "      <td>[186087, 186122, 186123, 186124]</td>\n",
       "      <td>3344.0</td>\n",
       "      <td>0.0</td>\n",
       "      <td>3344.0</td>\n",
       "      <td>48</td>\n",
       "    </tr>\n",
       "    <tr>\n",
       "      <th>1</th>\n",
       "      <td>51</td>\n",
       "      <td>1989</td>\n",
       "      <td>1</td>\n",
       "      <td>[107752]</td>\n",
       "      <td>0.0</td>\n",
       "      <td>0.0</td>\n",
       "      <td>0.0</td>\n",
       "      <td>1</td>\n",
       "    </tr>\n",
       "    <tr>\n",
       "      <th>2</th>\n",
       "      <td>70</td>\n",
       "      <td>1989</td>\n",
       "      <td>2</td>\n",
       "      <td>[182047, 182048]</td>\n",
       "      <td>0.0</td>\n",
       "      <td>0.0</td>\n",
       "      <td>0.0</td>\n",
       "      <td>3</td>\n",
       "    </tr>\n",
       "    <tr>\n",
       "      <th>3</th>\n",
       "      <td>90</td>\n",
       "      <td>1989</td>\n",
       "      <td>78</td>\n",
       "      <td>[193728, 193732, 193764, 193765, 193766, 19376...</td>\n",
       "      <td>45413.0</td>\n",
       "      <td>0.0</td>\n",
       "      <td>45413.0</td>\n",
       "      <td>491</td>\n",
       "    </tr>\n",
       "    <tr>\n",
       "      <th>4</th>\n",
       "      <td>92</td>\n",
       "      <td>1989</td>\n",
       "      <td>58</td>\n",
       "      <td>[120534, 120536, 120537, 120538, 120539, 12054...</td>\n",
       "      <td>39582.0</td>\n",
       "      <td>0.0</td>\n",
       "      <td>39582.0</td>\n",
       "      <td>4924</td>\n",
       "    </tr>\n",
       "  </tbody>\n",
       "</table>\n",
       "</div>"
      ],
      "text/plain": [
       "  country_id  year number_of_events  \\\n",
       "0         41  1989                4   \n",
       "1         51  1989                1   \n",
       "2         70  1989                2   \n",
       "3         90  1989               78   \n",
       "4         92  1989               58   \n",
       "\n",
       "                                           events_id  displacement_extern  \\\n",
       "0                   [186087, 186122, 186123, 186124]               3344.0   \n",
       "1                                           [107752]                  0.0   \n",
       "2                                   [182047, 182048]                  0.0   \n",
       "3  [193728, 193732, 193764, 193765, 193766, 19376...              45413.0   \n",
       "4  [120534, 120536, 120537, 120538, 120539, 12054...              39582.0   \n",
       "\n",
       "   displacement_intern  total_displacement deaths  \n",
       "0                  0.0              3344.0     48  \n",
       "1                  0.0                 0.0      1  \n",
       "2                  0.0                 0.0      3  \n",
       "3                  0.0             45413.0    491  \n",
       "4                  0.0             39582.0   4924  "
      ]
     },
     "metadata": {},
     "output_type": "display_data"
    }
   ],
   "source": [
    "display(country_human_cost_df.head(5))\n",
    "country_human_cost_df[\"country_id\"] = pd.to_numeric(country_human_cost_df[\"country_id\"])\n",
    "country_human_cost_df[\"year\"] = pd.to_numeric(country_human_cost_df[\"year\"])"
   ]
  },
  {
   "cell_type": "code",
   "execution_count": 15,
   "metadata": {
    "ExecuteTime": {
     "end_time": "2017-12-17T02:43:02.300204Z",
     "start_time": "2017-12-17T02:43:02.278914Z"
    }
   },
   "outputs": [
    {
     "data": {
      "text/html": [
       "<div>\n",
       "<style>\n",
       "    .dataframe thead tr:only-child th {\n",
       "        text-align: right;\n",
       "    }\n",
       "\n",
       "    .dataframe thead th {\n",
       "        text-align: left;\n",
       "    }\n",
       "\n",
       "    .dataframe tbody tr th {\n",
       "        vertical-align: top;\n",
       "    }\n",
       "</style>\n",
       "<table border=\"1\" class=\"dataframe\">\n",
       "  <thead>\n",
       "    <tr style=\"text-align: right;\">\n",
       "      <th></th>\n",
       "      <th></th>\n",
       "      <th>number_of_events</th>\n",
       "      <th>events_id</th>\n",
       "      <th>displacement_extern</th>\n",
       "      <th>displacement_intern</th>\n",
       "      <th>total_displacement</th>\n",
       "      <th>deaths</th>\n",
       "    </tr>\n",
       "    <tr>\n",
       "      <th>year</th>\n",
       "      <th>country_id</th>\n",
       "      <th></th>\n",
       "      <th></th>\n",
       "      <th></th>\n",
       "      <th></th>\n",
       "      <th></th>\n",
       "      <th></th>\n",
       "    </tr>\n",
       "  </thead>\n",
       "  <tbody>\n",
       "    <tr>\n",
       "      <th rowspan=\"5\" valign=\"top\">1989</th>\n",
       "      <th>41</th>\n",
       "      <td>4</td>\n",
       "      <td>[186087, 186122, 186123, 186124]</td>\n",
       "      <td>3344.0</td>\n",
       "      <td>0.0</td>\n",
       "      <td>3344.0</td>\n",
       "      <td>48</td>\n",
       "    </tr>\n",
       "    <tr>\n",
       "      <th>51</th>\n",
       "      <td>1</td>\n",
       "      <td>[107752]</td>\n",
       "      <td>0.0</td>\n",
       "      <td>0.0</td>\n",
       "      <td>0.0</td>\n",
       "      <td>1</td>\n",
       "    </tr>\n",
       "    <tr>\n",
       "      <th>70</th>\n",
       "      <td>2</td>\n",
       "      <td>[182047, 182048]</td>\n",
       "      <td>0.0</td>\n",
       "      <td>0.0</td>\n",
       "      <td>0.0</td>\n",
       "      <td>3</td>\n",
       "    </tr>\n",
       "    <tr>\n",
       "      <th>90</th>\n",
       "      <td>78</td>\n",
       "      <td>[193728, 193732, 193764, 193765, 193766, 19376...</td>\n",
       "      <td>45413.0</td>\n",
       "      <td>0.0</td>\n",
       "      <td>45413.0</td>\n",
       "      <td>491</td>\n",
       "    </tr>\n",
       "    <tr>\n",
       "      <th>92</th>\n",
       "      <td>58</td>\n",
       "      <td>[120534, 120536, 120537, 120538, 120539, 12054...</td>\n",
       "      <td>39582.0</td>\n",
       "      <td>0.0</td>\n",
       "      <td>39582.0</td>\n",
       "      <td>4924</td>\n",
       "    </tr>\n",
       "  </tbody>\n",
       "</table>\n",
       "</div>"
      ],
      "text/plain": [
       "                number_of_events  \\\n",
       "year country_id                    \n",
       "1989 41                        4   \n",
       "     51                        1   \n",
       "     70                        2   \n",
       "     90                       78   \n",
       "     92                       58   \n",
       "\n",
       "                                                         events_id  \\\n",
       "year country_id                                                      \n",
       "1989 41                           [186087, 186122, 186123, 186124]   \n",
       "     51                                                   [107752]   \n",
       "     70                                           [182047, 182048]   \n",
       "     90          [193728, 193732, 193764, 193765, 193766, 19376...   \n",
       "     92          [120534, 120536, 120537, 120538, 120539, 12054...   \n",
       "\n",
       "                 displacement_extern  displacement_intern  total_displacement  \\\n",
       "year country_id                                                                 \n",
       "1989 41                       3344.0                  0.0              3344.0   \n",
       "     51                          0.0                  0.0                 0.0   \n",
       "     70                          0.0                  0.0                 0.0   \n",
       "     90                      45413.0                  0.0             45413.0   \n",
       "     92                      39582.0                  0.0             39582.0   \n",
       "\n",
       "                deaths  \n",
       "year country_id         \n",
       "1989 41             48  \n",
       "     51              1  \n",
       "     70              3  \n",
       "     90            491  \n",
       "     92           4924  "
      ]
     },
     "execution_count": 15,
     "metadata": {},
     "output_type": "execute_result"
    }
   ],
   "source": [
    "# Index country_human_cost_df by year and country\n",
    "try:\n",
    "    country_human_cost_df = country_human_cost_df.set_index([\"year\", \"country_id\"])\n",
    "except:  # In case cell is re-run\n",
    "    pass\n",
    "country_human_cost_df = country_human_cost_df.sort_index()\n",
    "country_human_cost_df.head(5)"
   ]
  },
  {
   "cell_type": "code",
   "execution_count": 16,
   "metadata": {
    "ExecuteTime": {
     "end_time": "2017-12-17T02:43:22.811099Z",
     "start_time": "2017-12-17T02:43:02.301693Z"
    }
   },
   "outputs": [
    {
     "name": "stderr",
     "output_type": "stream",
     "text": [
      "4749it [00:20, 231.72it/s]\n"
     ]
    }
   ],
   "source": [
    "# Add the displacement informations for countries where there was no conflict\n",
    "new_country_human_cost_df = country_human_cost_df\n",
    "for row in tqdm(refugee_df.itertuples()):\n",
    "    try:\n",
    "        country_human_cost_df.loc[row.Index]\n",
    "    except KeyError: # The row is not in the country_human_cost_df\n",
    "        series_to_append = get_append_series(conflict_df, refugee_df, row.Index[0], row.Index[1]) \n",
    "        df_to_append = pd.DataFrame([series_to_append.transpose()])\n",
    "        df_to_append = df_to_append.set_index([\"year\", \"country_id\"])\n",
    "        new_country_human_cost_df = new_country_human_cost_df.append(df_to_append)\n",
    "    except TypeError:\n",
    "        continue\n"
   ]
  },
  {
   "cell_type": "code",
   "execution_count": 17,
   "metadata": {
    "ExecuteTime": {
     "end_time": "2017-12-17T02:43:22.815297Z",
     "start_time": "2017-12-17T02:43:22.812855Z"
    },
    "collapsed": true
   },
   "outputs": [],
   "source": [
    "country_human_cost_df = new_country_human_cost_df"
   ]
  },
  {
   "cell_type": "code",
   "execution_count": 18,
   "metadata": {
    "ExecuteTime": {
     "end_time": "2017-12-17T02:43:22.838740Z",
     "start_time": "2017-12-17T02:43:22.816693Z"
    }
   },
   "outputs": [
    {
     "data": {
      "text/html": [
       "<div>\n",
       "<style>\n",
       "    .dataframe thead tr:only-child th {\n",
       "        text-align: right;\n",
       "    }\n",
       "\n",
       "    .dataframe thead th {\n",
       "        text-align: left;\n",
       "    }\n",
       "\n",
       "    .dataframe tbody tr th {\n",
       "        vertical-align: top;\n",
       "    }\n",
       "</style>\n",
       "<table border=\"1\" class=\"dataframe\">\n",
       "  <thead>\n",
       "    <tr style=\"text-align: right;\">\n",
       "      <th></th>\n",
       "      <th></th>\n",
       "      <th>number_of_events</th>\n",
       "      <th>events_id</th>\n",
       "      <th>displacement_extern</th>\n",
       "      <th>displacement_intern</th>\n",
       "      <th>total_displacement</th>\n",
       "      <th>deaths</th>\n",
       "    </tr>\n",
       "    <tr>\n",
       "      <th>year</th>\n",
       "      <th>country_id</th>\n",
       "      <th></th>\n",
       "      <th></th>\n",
       "      <th></th>\n",
       "      <th></th>\n",
       "      <th></th>\n",
       "      <th></th>\n",
       "    </tr>\n",
       "  </thead>\n",
       "  <tbody>\n",
       "    <tr>\n",
       "      <th rowspan=\"5\" valign=\"top\">1989.0</th>\n",
       "      <th>40.0</th>\n",
       "      <td>0</td>\n",
       "      <td>[]</td>\n",
       "      <td>7682.0</td>\n",
       "      <td>0.0</td>\n",
       "      <td>7682.0</td>\n",
       "      <td>0</td>\n",
       "    </tr>\n",
       "    <tr>\n",
       "      <th>41.0</th>\n",
       "      <td>4</td>\n",
       "      <td>[186087, 186122, 186123, 186124]</td>\n",
       "      <td>3344.0</td>\n",
       "      <td>0.0</td>\n",
       "      <td>3344.0</td>\n",
       "      <td>48</td>\n",
       "    </tr>\n",
       "    <tr>\n",
       "      <th>51.0</th>\n",
       "      <td>1</td>\n",
       "      <td>[107752]</td>\n",
       "      <td>0.0</td>\n",
       "      <td>0.0</td>\n",
       "      <td>0.0</td>\n",
       "      <td>1</td>\n",
       "    </tr>\n",
       "    <tr>\n",
       "      <th>55.0</th>\n",
       "      <td>0</td>\n",
       "      <td>[]</td>\n",
       "      <td>5.0</td>\n",
       "      <td>0.0</td>\n",
       "      <td>5.0</td>\n",
       "      <td>0</td>\n",
       "    </tr>\n",
       "    <tr>\n",
       "      <th>70.0</th>\n",
       "      <td>2</td>\n",
       "      <td>[182047, 182048]</td>\n",
       "      <td>0.0</td>\n",
       "      <td>0.0</td>\n",
       "      <td>0.0</td>\n",
       "      <td>3</td>\n",
       "    </tr>\n",
       "  </tbody>\n",
       "</table>\n",
       "</div>"
      ],
      "text/plain": [
       "                  number_of_events                         events_id  \\\n",
       "year   country_id                                                      \n",
       "1989.0 40.0                      0                                []   \n",
       "       41.0                      4  [186087, 186122, 186123, 186124]   \n",
       "       51.0                      1                          [107752]   \n",
       "       55.0                      0                                []   \n",
       "       70.0                      2                  [182047, 182048]   \n",
       "\n",
       "                   displacement_extern  displacement_intern  \\\n",
       "year   country_id                                             \n",
       "1989.0 40.0                     7682.0                  0.0   \n",
       "       41.0                     3344.0                  0.0   \n",
       "       51.0                        0.0                  0.0   \n",
       "       55.0                        5.0                  0.0   \n",
       "       70.0                        0.0                  0.0   \n",
       "\n",
       "                   total_displacement deaths  \n",
       "year   country_id                             \n",
       "1989.0 40.0                    7682.0      0  \n",
       "       41.0                    3344.0     48  \n",
       "       51.0                       0.0      1  \n",
       "       55.0                       5.0      0  \n",
       "       70.0                       0.0      3  "
      ]
     },
     "metadata": {},
     "output_type": "display_data"
    }
   ],
   "source": [
    "country_human_cost_df = country_human_cost_df.sort_index()\n",
    "display(country_human_cost_df.head(5))"
   ]
  },
  {
   "cell_type": "markdown",
   "metadata": {
    "ExecuteTime": {
     "end_time": "2017-12-14T22:35:53.539591Z",
     "start_time": "2017-12-14T22:35:53.537714Z"
    }
   },
   "source": [
    "## Add the GDP to the dataframe"
   ]
  },
  {
   "cell_type": "code",
   "execution_count": 19,
   "metadata": {
    "ExecuteTime": {
     "end_time": "2017-12-17T02:43:22.844300Z",
     "start_time": "2017-12-17T02:43:22.840477Z"
    },
    "collapsed": true
   },
   "outputs": [],
   "source": [
    "with open(os.path.join(\"pickle\", 'gdp.pickle'), 'rb') as data_source:\n",
    "    gdp_df = pickle.load(data_source)"
   ]
  },
  {
   "cell_type": "code",
   "execution_count": 20,
   "metadata": {
    "ExecuteTime": {
     "end_time": "2017-12-17T02:43:22.857738Z",
     "start_time": "2017-12-17T02:43:22.845809Z"
    }
   },
   "outputs": [
    {
     "data": {
      "text/html": [
       "<div>\n",
       "<style>\n",
       "    .dataframe thead tr:only-child th {\n",
       "        text-align: right;\n",
       "    }\n",
       "\n",
       "    .dataframe thead th {\n",
       "        text-align: left;\n",
       "    }\n",
       "\n",
       "    .dataframe tbody tr th {\n",
       "        vertical-align: top;\n",
       "    }\n",
       "</style>\n",
       "<table border=\"1\" class=\"dataframe\">\n",
       "  <thead>\n",
       "    <tr style=\"text-align: right;\">\n",
       "      <th></th>\n",
       "      <th></th>\n",
       "      <th>gdp</th>\n",
       "    </tr>\n",
       "    <tr>\n",
       "      <th>year</th>\n",
       "      <th>country_id</th>\n",
       "      <th></th>\n",
       "    </tr>\n",
       "  </thead>\n",
       "  <tbody>\n",
       "    <tr>\n",
       "      <th rowspan=\"5\" valign=\"top\">1989</th>\n",
       "      <th>2.0</th>\n",
       "      <td>22599.992143</td>\n",
       "    </tr>\n",
       "    <tr>\n",
       "      <th>20.0</th>\n",
       "      <td>20700.799311</td>\n",
       "    </tr>\n",
       "    <tr>\n",
       "      <th>31.0</th>\n",
       "      <td>14213.543372</td>\n",
       "    </tr>\n",
       "    <tr>\n",
       "      <th>40.0</th>\n",
       "      <td>2577.207019</td>\n",
       "    </tr>\n",
       "    <tr>\n",
       "      <th>41.0</th>\n",
       "      <td>393.347528</td>\n",
       "    </tr>\n",
       "  </tbody>\n",
       "</table>\n",
       "</div>"
      ],
      "text/plain": [
       "                          gdp\n",
       "year country_id              \n",
       "1989 2.0         22599.992143\n",
       "     20.0        20700.799311\n",
       "     31.0        14213.543372\n",
       "     40.0         2577.207019\n",
       "     41.0          393.347528"
      ]
     },
     "metadata": {},
     "output_type": "display_data"
    }
   ],
   "source": [
    "display(gdp_df.head(5))"
   ]
  },
  {
   "cell_type": "code",
   "execution_count": 21,
   "metadata": {
    "ExecuteTime": {
     "end_time": "2017-12-17T02:43:22.866354Z",
     "start_time": "2017-12-17T02:43:22.859739Z"
    },
    "collapsed": true
   },
   "outputs": [],
   "source": [
    "try: # Set index if not already done\n",
    "    gdp_df = gdp_df.set_index([\"year\", \"country_id\"])\n",
    "except:\n",
    "    pass"
   ]
  },
  {
   "cell_type": "code",
   "execution_count": 22,
   "metadata": {
    "ExecuteTime": {
     "end_time": "2017-12-17T02:43:22.877371Z",
     "start_time": "2017-12-17T02:43:22.867680Z"
    }
   },
   "outputs": [
    {
     "data": {
      "text/plain": [
       "0"
      ]
     },
     "execution_count": 22,
     "metadata": {},
     "output_type": "execute_result"
    }
   ],
   "source": [
    "gdp_df.index.duplicated().sum()"
   ]
  },
  {
   "cell_type": "code",
   "execution_count": 23,
   "metadata": {
    "ExecuteTime": {
     "end_time": "2017-12-17T02:43:22.904907Z",
     "start_time": "2017-12-17T02:43:22.878842Z"
    }
   },
   "outputs": [
    {
     "data": {
      "text/html": [
       "<div>\n",
       "<style>\n",
       "    .dataframe thead tr:only-child th {\n",
       "        text-align: right;\n",
       "    }\n",
       "\n",
       "    .dataframe thead th {\n",
       "        text-align: left;\n",
       "    }\n",
       "\n",
       "    .dataframe tbody tr th {\n",
       "        vertical-align: top;\n",
       "    }\n",
       "</style>\n",
       "<table border=\"1\" class=\"dataframe\">\n",
       "  <thead>\n",
       "    <tr style=\"text-align: right;\">\n",
       "      <th></th>\n",
       "      <th></th>\n",
       "      <th>number_of_events</th>\n",
       "      <th>events_id</th>\n",
       "      <th>displacement_extern</th>\n",
       "      <th>displacement_intern</th>\n",
       "      <th>total_displacement</th>\n",
       "      <th>deaths</th>\n",
       "      <th>gdp</th>\n",
       "    </tr>\n",
       "    <tr>\n",
       "      <th>year</th>\n",
       "      <th>country_id</th>\n",
       "      <th></th>\n",
       "      <th></th>\n",
       "      <th></th>\n",
       "      <th></th>\n",
       "      <th></th>\n",
       "      <th></th>\n",
       "      <th></th>\n",
       "    </tr>\n",
       "  </thead>\n",
       "  <tbody>\n",
       "    <tr>\n",
       "      <th rowspan=\"5\" valign=\"top\">1989.0</th>\n",
       "      <th>2.0</th>\n",
       "      <td>NaN</td>\n",
       "      <td>NaN</td>\n",
       "      <td>NaN</td>\n",
       "      <td>NaN</td>\n",
       "      <td>NaN</td>\n",
       "      <td>NaN</td>\n",
       "      <td>22599.992143</td>\n",
       "    </tr>\n",
       "    <tr>\n",
       "      <th>20.0</th>\n",
       "      <td>NaN</td>\n",
       "      <td>NaN</td>\n",
       "      <td>NaN</td>\n",
       "      <td>NaN</td>\n",
       "      <td>NaN</td>\n",
       "      <td>NaN</td>\n",
       "      <td>20700.799311</td>\n",
       "    </tr>\n",
       "    <tr>\n",
       "      <th>31.0</th>\n",
       "      <td>NaN</td>\n",
       "      <td>NaN</td>\n",
       "      <td>NaN</td>\n",
       "      <td>NaN</td>\n",
       "      <td>NaN</td>\n",
       "      <td>NaN</td>\n",
       "      <td>14213.543372</td>\n",
       "    </tr>\n",
       "    <tr>\n",
       "      <th>40.0</th>\n",
       "      <td>0</td>\n",
       "      <td>[]</td>\n",
       "      <td>7682.0</td>\n",
       "      <td>0.0</td>\n",
       "      <td>7682.0</td>\n",
       "      <td>0</td>\n",
       "      <td>2577.207019</td>\n",
       "    </tr>\n",
       "    <tr>\n",
       "      <th>41.0</th>\n",
       "      <td>4</td>\n",
       "      <td>[186087, 186122, 186123, 186124]</td>\n",
       "      <td>3344.0</td>\n",
       "      <td>0.0</td>\n",
       "      <td>3344.0</td>\n",
       "      <td>48</td>\n",
       "      <td>393.347528</td>\n",
       "    </tr>\n",
       "  </tbody>\n",
       "</table>\n",
       "</div>"
      ],
      "text/plain": [
       "                  number_of_events                         events_id  \\\n",
       "year   country_id                                                      \n",
       "1989.0 2.0                     NaN                               NaN   \n",
       "       20.0                    NaN                               NaN   \n",
       "       31.0                    NaN                               NaN   \n",
       "       40.0                      0                                []   \n",
       "       41.0                      4  [186087, 186122, 186123, 186124]   \n",
       "\n",
       "                   displacement_extern  displacement_intern  \\\n",
       "year   country_id                                             \n",
       "1989.0 2.0                         NaN                  NaN   \n",
       "       20.0                        NaN                  NaN   \n",
       "       31.0                        NaN                  NaN   \n",
       "       40.0                     7682.0                  0.0   \n",
       "       41.0                     3344.0                  0.0   \n",
       "\n",
       "                   total_displacement deaths           gdp  \n",
       "year   country_id                                           \n",
       "1989.0 2.0                        NaN    NaN  22599.992143  \n",
       "       20.0                       NaN    NaN  20700.799311  \n",
       "       31.0                       NaN    NaN  14213.543372  \n",
       "       40.0                    7682.0      0   2577.207019  \n",
       "       41.0                    3344.0     48    393.347528  "
      ]
     },
     "metadata": {},
     "output_type": "display_data"
    }
   ],
   "source": [
    "human_cost_gdp_df = pd.merge(country_human_cost_df, gdp_df, how='outer',\n",
    "                             left_index=True, right_index=True, sort=True)\n",
    "display(human_cost_gdp_df.head(5))      "
   ]
  },
  {
   "cell_type": "code",
   "execution_count": 24,
   "metadata": {
    "ExecuteTime": {
     "end_time": "2017-12-17T02:43:22.925280Z",
     "start_time": "2017-12-17T02:43:22.907010Z"
    }
   },
   "outputs": [
    {
     "data": {
      "text/html": [
       "<div>\n",
       "<style>\n",
       "    .dataframe thead tr:only-child th {\n",
       "        text-align: right;\n",
       "    }\n",
       "\n",
       "    .dataframe thead th {\n",
       "        text-align: left;\n",
       "    }\n",
       "\n",
       "    .dataframe tbody tr th {\n",
       "        vertical-align: top;\n",
       "    }\n",
       "</style>\n",
       "<table border=\"1\" class=\"dataframe\">\n",
       "  <thead>\n",
       "    <tr style=\"text-align: right;\">\n",
       "      <th></th>\n",
       "      <th></th>\n",
       "      <th>number_of_events</th>\n",
       "      <th>events_id</th>\n",
       "      <th>displacement_extern</th>\n",
       "      <th>displacement_intern</th>\n",
       "      <th>total_displacement</th>\n",
       "      <th>deaths</th>\n",
       "      <th>gdp</th>\n",
       "    </tr>\n",
       "    <tr>\n",
       "      <th>year</th>\n",
       "      <th>country_id</th>\n",
       "      <th></th>\n",
       "      <th></th>\n",
       "      <th></th>\n",
       "      <th></th>\n",
       "      <th></th>\n",
       "      <th></th>\n",
       "      <th></th>\n",
       "    </tr>\n",
       "  </thead>\n",
       "  <tbody>\n",
       "    <tr>\n",
       "      <th rowspan=\"5\" valign=\"top\">1989.0</th>\n",
       "      <th>2.0</th>\n",
       "      <td>0</td>\n",
       "      <td>0</td>\n",
       "      <td>0.0</td>\n",
       "      <td>0.0</td>\n",
       "      <td>0.0</td>\n",
       "      <td>0</td>\n",
       "      <td>22599.992143</td>\n",
       "    </tr>\n",
       "    <tr>\n",
       "      <th>20.0</th>\n",
       "      <td>0</td>\n",
       "      <td>0</td>\n",
       "      <td>0.0</td>\n",
       "      <td>0.0</td>\n",
       "      <td>0.0</td>\n",
       "      <td>0</td>\n",
       "      <td>20700.799311</td>\n",
       "    </tr>\n",
       "    <tr>\n",
       "      <th>31.0</th>\n",
       "      <td>0</td>\n",
       "      <td>0</td>\n",
       "      <td>0.0</td>\n",
       "      <td>0.0</td>\n",
       "      <td>0.0</td>\n",
       "      <td>0</td>\n",
       "      <td>14213.543372</td>\n",
       "    </tr>\n",
       "    <tr>\n",
       "      <th>40.0</th>\n",
       "      <td>0</td>\n",
       "      <td>[]</td>\n",
       "      <td>7682.0</td>\n",
       "      <td>0.0</td>\n",
       "      <td>7682.0</td>\n",
       "      <td>0</td>\n",
       "      <td>2577.207019</td>\n",
       "    </tr>\n",
       "    <tr>\n",
       "      <th>41.0</th>\n",
       "      <td>4</td>\n",
       "      <td>[186087, 186122, 186123, 186124]</td>\n",
       "      <td>3344.0</td>\n",
       "      <td>0.0</td>\n",
       "      <td>3344.0</td>\n",
       "      <td>48</td>\n",
       "      <td>393.347528</td>\n",
       "    </tr>\n",
       "  </tbody>\n",
       "</table>\n",
       "</div>"
      ],
      "text/plain": [
       "                   number_of_events                         events_id  \\\n",
       "year   country_id                                                       \n",
       "1989.0 2.0                        0                                 0   \n",
       "       20.0                       0                                 0   \n",
       "       31.0                       0                                 0   \n",
       "       40.0                       0                                []   \n",
       "       41.0                       4  [186087, 186122, 186123, 186124]   \n",
       "\n",
       "                   displacement_extern  displacement_intern  \\\n",
       "year   country_id                                             \n",
       "1989.0 2.0                         0.0                  0.0   \n",
       "       20.0                        0.0                  0.0   \n",
       "       31.0                        0.0                  0.0   \n",
       "       40.0                     7682.0                  0.0   \n",
       "       41.0                     3344.0                  0.0   \n",
       "\n",
       "                   total_displacement  deaths           gdp  \n",
       "year   country_id                                            \n",
       "1989.0 2.0                        0.0       0  22599.992143  \n",
       "       20.0                       0.0       0  20700.799311  \n",
       "       31.0                       0.0       0  14213.543372  \n",
       "       40.0                    7682.0       0   2577.207019  \n",
       "       41.0                    3344.0      48    393.347528  "
      ]
     },
     "metadata": {},
     "output_type": "display_data"
    }
   ],
   "source": [
    "human_cost_gdp_df.fillna(value=0, inplace=True)\n",
    "    \n",
    "display(human_cost_gdp_df.head(5))"
   ]
  },
  {
   "cell_type": "code",
   "execution_count": 25,
   "metadata": {
    "ExecuteTime": {
     "end_time": "2017-12-17T02:43:22.930364Z",
     "start_time": "2017-12-17T02:43:22.927495Z"
    },
    "collapsed": true
   },
   "outputs": [],
   "source": [
    "country_human_cost_df = human_cost_gdp_df"
   ]
  },
  {
   "cell_type": "markdown",
   "metadata": {},
   "source": [
    "## Add HDI to the DF"
   ]
  },
  {
   "cell_type": "code",
   "execution_count": 26,
   "metadata": {
    "ExecuteTime": {
     "end_time": "2017-12-17T02:43:22.939974Z",
     "start_time": "2017-12-17T02:43:22.932998Z"
    },
    "collapsed": true
   },
   "outputs": [],
   "source": [
    "with open(os.path.join(\"pickle\", 'hdi.pickle'), 'rb') as data_source:\n",
    "    hdi_df = pickle.load(data_source)"
   ]
  },
  {
   "cell_type": "code",
   "execution_count": 27,
   "metadata": {
    "ExecuteTime": {
     "end_time": "2017-12-17T02:43:22.954756Z",
     "start_time": "2017-12-17T02:43:22.941596Z"
    }
   },
   "outputs": [
    {
     "data": {
      "text/html": [
       "<div>\n",
       "<style>\n",
       "    .dataframe thead tr:only-child th {\n",
       "        text-align: right;\n",
       "    }\n",
       "\n",
       "    .dataframe thead th {\n",
       "        text-align: left;\n",
       "    }\n",
       "\n",
       "    .dataframe tbody tr th {\n",
       "        vertical-align: top;\n",
       "    }\n",
       "</style>\n",
       "<table border=\"1\" class=\"dataframe\">\n",
       "  <thead>\n",
       "    <tr style=\"text-align: right;\">\n",
       "      <th></th>\n",
       "      <th>year</th>\n",
       "      <th>hdi</th>\n",
       "      <th>country_id</th>\n",
       "    </tr>\n",
       "  </thead>\n",
       "  <tbody>\n",
       "    <tr>\n",
       "      <th>0</th>\n",
       "      <td>1990</td>\n",
       "      <td>0.295</td>\n",
       "      <td>700</td>\n",
       "    </tr>\n",
       "    <tr>\n",
       "      <th>1</th>\n",
       "      <td>1991</td>\n",
       "      <td>0.300</td>\n",
       "      <td>700</td>\n",
       "    </tr>\n",
       "  </tbody>\n",
       "</table>\n",
       "</div>"
      ],
      "text/plain": [
       "   year    hdi  country_id\n",
       "0  1990  0.295         700\n",
       "1  1991  0.300         700"
      ]
     },
     "metadata": {},
     "output_type": "display_data"
    }
   ],
   "source": [
    "display(hdi_df.head(2))"
   ]
  },
  {
   "cell_type": "code",
   "execution_count": 28,
   "metadata": {
    "ExecuteTime": {
     "end_time": "2017-12-17T02:43:22.964315Z",
     "start_time": "2017-12-17T02:43:22.957648Z"
    }
   },
   "outputs": [
    {
     "name": "stdout",
     "output_type": "stream",
     "text": [
      "4267\n"
     ]
    }
   ],
   "source": [
    "hdi_df = hdi_df.set_index([\"year\", \"country_id\"])\n",
    "print(len(hdi_df))"
   ]
  },
  {
   "cell_type": "code",
   "execution_count": 29,
   "metadata": {
    "ExecuteTime": {
     "end_time": "2017-12-17T02:43:22.977163Z",
     "start_time": "2017-12-17T02:43:22.966395Z"
    }
   },
   "outputs": [
    {
     "name": "stdout",
     "output_type": "stream",
     "text": [
      "4162\n"
     ]
    },
    {
     "data": {
      "text/html": [
       "<div>\n",
       "<style>\n",
       "    .dataframe thead tr:only-child th {\n",
       "        text-align: right;\n",
       "    }\n",
       "\n",
       "    .dataframe thead th {\n",
       "        text-align: left;\n",
       "    }\n",
       "\n",
       "    .dataframe tbody tr th {\n",
       "        vertical-align: top;\n",
       "    }\n",
       "</style>\n",
       "<table border=\"1\" class=\"dataframe\">\n",
       "  <thead>\n",
       "    <tr style=\"text-align: right;\">\n",
       "      <th></th>\n",
       "      <th></th>\n",
       "      <th>hdi</th>\n",
       "    </tr>\n",
       "    <tr>\n",
       "      <th>year</th>\n",
       "      <th>country_id</th>\n",
       "      <th></th>\n",
       "    </tr>\n",
       "  </thead>\n",
       "  <tbody>\n",
       "    <tr>\n",
       "      <th>1990</th>\n",
       "      <th>700</th>\n",
       "      <td>0.295</td>\n",
       "    </tr>\n",
       "  </tbody>\n",
       "</table>\n",
       "</div>"
      ],
      "text/plain": [
       "                   hdi\n",
       "year country_id       \n",
       "1990 700         0.295"
      ]
     },
     "metadata": {},
     "output_type": "display_data"
    }
   ],
   "source": [
    "hdi_duplicated_index = hdi_df.index.duplicated()\n",
    "hdi_df = hdi_df.loc[~hdi_duplicated_index]\n",
    "print(len(hdi_df))\n",
    "display(hdi_df.head(1))\n"
   ]
  },
  {
   "cell_type": "code",
   "execution_count": 30,
   "metadata": {
    "ExecuteTime": {
     "end_time": "2017-12-17T02:43:23.001349Z",
     "start_time": "2017-12-17T02:43:22.979300Z"
    },
    "collapsed": true
   },
   "outputs": [],
   "source": [
    "human_cost_hdi_df = pd.merge(country_human_cost_df, hdi_df, how='outer',\n",
    "                             left_index=True, right_index=True, sort=True)"
   ]
  },
  {
   "cell_type": "code",
   "execution_count": 31,
   "metadata": {
    "ExecuteTime": {
     "end_time": "2017-12-17T02:43:23.020299Z",
     "start_time": "2017-12-17T02:43:23.002903Z"
    }
   },
   "outputs": [
    {
     "data": {
      "text/html": [
       "<div>\n",
       "<style>\n",
       "    .dataframe thead tr:only-child th {\n",
       "        text-align: right;\n",
       "    }\n",
       "\n",
       "    .dataframe thead th {\n",
       "        text-align: left;\n",
       "    }\n",
       "\n",
       "    .dataframe tbody tr th {\n",
       "        vertical-align: top;\n",
       "    }\n",
       "</style>\n",
       "<table border=\"1\" class=\"dataframe\">\n",
       "  <thead>\n",
       "    <tr style=\"text-align: right;\">\n",
       "      <th></th>\n",
       "      <th></th>\n",
       "      <th>number_of_events</th>\n",
       "      <th>events_id</th>\n",
       "      <th>displacement_extern</th>\n",
       "      <th>displacement_intern</th>\n",
       "      <th>total_displacement</th>\n",
       "      <th>deaths</th>\n",
       "      <th>gdp</th>\n",
       "      <th>hdi</th>\n",
       "    </tr>\n",
       "    <tr>\n",
       "      <th>year</th>\n",
       "      <th>country_id</th>\n",
       "      <th></th>\n",
       "      <th></th>\n",
       "      <th></th>\n",
       "      <th></th>\n",
       "      <th></th>\n",
       "      <th></th>\n",
       "      <th></th>\n",
       "      <th></th>\n",
       "    </tr>\n",
       "  </thead>\n",
       "  <tbody>\n",
       "    <tr>\n",
       "      <th rowspan=\"5\" valign=\"top\">1989.0</th>\n",
       "      <th>2.0</th>\n",
       "      <td>0.0</td>\n",
       "      <td>0</td>\n",
       "      <td>0.0</td>\n",
       "      <td>0.0</td>\n",
       "      <td>0.0</td>\n",
       "      <td>0.0</td>\n",
       "      <td>22599.992143</td>\n",
       "      <td>0.0</td>\n",
       "    </tr>\n",
       "    <tr>\n",
       "      <th>20.0</th>\n",
       "      <td>0.0</td>\n",
       "      <td>0</td>\n",
       "      <td>0.0</td>\n",
       "      <td>0.0</td>\n",
       "      <td>0.0</td>\n",
       "      <td>0.0</td>\n",
       "      <td>20700.799311</td>\n",
       "      <td>0.0</td>\n",
       "    </tr>\n",
       "    <tr>\n",
       "      <th>31.0</th>\n",
       "      <td>0.0</td>\n",
       "      <td>0</td>\n",
       "      <td>0.0</td>\n",
       "      <td>0.0</td>\n",
       "      <td>0.0</td>\n",
       "      <td>0.0</td>\n",
       "      <td>14213.543372</td>\n",
       "      <td>0.0</td>\n",
       "    </tr>\n",
       "    <tr>\n",
       "      <th>40.0</th>\n",
       "      <td>0.0</td>\n",
       "      <td>[]</td>\n",
       "      <td>7682.0</td>\n",
       "      <td>0.0</td>\n",
       "      <td>7682.0</td>\n",
       "      <td>0.0</td>\n",
       "      <td>2577.207019</td>\n",
       "      <td>0.0</td>\n",
       "    </tr>\n",
       "    <tr>\n",
       "      <th>41.0</th>\n",
       "      <td>4.0</td>\n",
       "      <td>[186087, 186122, 186123, 186124]</td>\n",
       "      <td>3344.0</td>\n",
       "      <td>0.0</td>\n",
       "      <td>3344.0</td>\n",
       "      <td>48.0</td>\n",
       "      <td>393.347528</td>\n",
       "      <td>0.0</td>\n",
       "    </tr>\n",
       "  </tbody>\n",
       "</table>\n",
       "</div>"
      ],
      "text/plain": [
       "                   number_of_events                         events_id  \\\n",
       "year   country_id                                                       \n",
       "1989.0 2.0                      0.0                                 0   \n",
       "       20.0                     0.0                                 0   \n",
       "       31.0                     0.0                                 0   \n",
       "       40.0                     0.0                                []   \n",
       "       41.0                     4.0  [186087, 186122, 186123, 186124]   \n",
       "\n",
       "                   displacement_extern  displacement_intern  \\\n",
       "year   country_id                                             \n",
       "1989.0 2.0                         0.0                  0.0   \n",
       "       20.0                        0.0                  0.0   \n",
       "       31.0                        0.0                  0.0   \n",
       "       40.0                     7682.0                  0.0   \n",
       "       41.0                     3344.0                  0.0   \n",
       "\n",
       "                   total_displacement  deaths           gdp  hdi  \n",
       "year   country_id                                                 \n",
       "1989.0 2.0                        0.0     0.0  22599.992143  0.0  \n",
       "       20.0                       0.0     0.0  20700.799311  0.0  \n",
       "       31.0                       0.0     0.0  14213.543372  0.0  \n",
       "       40.0                    7682.0     0.0   2577.207019  0.0  \n",
       "       41.0                    3344.0    48.0    393.347528  0.0  "
      ]
     },
     "metadata": {},
     "output_type": "display_data"
    }
   ],
   "source": [
    "human_cost_hdi_df.fillna(value=0, inplace=True)\n",
    "    \n",
    "display(human_cost_hdi_df.head(5))"
   ]
  },
  {
   "cell_type": "code",
   "execution_count": 32,
   "metadata": {
    "ExecuteTime": {
     "end_time": "2017-12-17T02:43:23.024952Z",
     "start_time": "2017-12-17T02:43:23.022140Z"
    },
    "collapsed": true
   },
   "outputs": [],
   "source": [
    "country_human_cost_df = human_cost_hdi_df"
   ]
  },
  {
   "cell_type": "markdown",
   "metadata": {},
   "source": [
    "## Add country codes to the dataframe"
   ]
  },
  {
   "cell_type": "code",
   "execution_count": 33,
   "metadata": {
    "ExecuteTime": {
     "end_time": "2017-12-17T02:43:23.063026Z",
     "start_time": "2017-12-17T02:43:23.027011Z"
    }
   },
   "outputs": [
    {
     "data": {
      "text/html": [
       "<div>\n",
       "<style>\n",
       "    .dataframe thead tr:only-child th {\n",
       "        text-align: right;\n",
       "    }\n",
       "\n",
       "    .dataframe thead th {\n",
       "        text-align: left;\n",
       "    }\n",
       "\n",
       "    .dataframe tbody tr th {\n",
       "        vertical-align: top;\n",
       "    }\n",
       "</style>\n",
       "<table border=\"1\" class=\"dataframe\">\n",
       "  <thead>\n",
       "    <tr style=\"text-align: right;\">\n",
       "      <th></th>\n",
       "      <th>Unnamed: 0</th>\n",
       "      <th>ar5</th>\n",
       "      <th>continent</th>\n",
       "      <th>cowc</th>\n",
       "      <th>cown</th>\n",
       "      <th>eu28</th>\n",
       "      <th>eurocontrol_pru</th>\n",
       "      <th>eurocontrol_statfor</th>\n",
       "      <th>fao</th>\n",
       "      <th>fips105</th>\n",
       "      <th>...</th>\n",
       "      <th>country.name.es</th>\n",
       "      <th>country.name.fr</th>\n",
       "      <th>country.name.ru</th>\n",
       "      <th>country.name.zh</th>\n",
       "      <th>eurostat</th>\n",
       "      <th>wb_api2c</th>\n",
       "      <th>wb_api3c</th>\n",
       "      <th>p4_scode</th>\n",
       "      <th>p4_ccode</th>\n",
       "      <th>wvs</th>\n",
       "    </tr>\n",
       "  </thead>\n",
       "  <tbody>\n",
       "    <tr>\n",
       "      <th>0</th>\n",
       "      <td>1</td>\n",
       "      <td>ASIA</td>\n",
       "      <td>Asia</td>\n",
       "      <td>AFG</td>\n",
       "      <td>700.0</td>\n",
       "      <td>NaN</td>\n",
       "      <td>Asia</td>\n",
       "      <td>Asia/Pacific</td>\n",
       "      <td>2.0</td>\n",
       "      <td>AF</td>\n",
       "      <td>...</td>\n",
       "      <td>Afganistán</td>\n",
       "      <td>Afghanistan</td>\n",
       "      <td>Афганистан</td>\n",
       "      <td>阿富汗</td>\n",
       "      <td>AF</td>\n",
       "      <td>AF</td>\n",
       "      <td>AFG</td>\n",
       "      <td>AFG</td>\n",
       "      <td>700.0</td>\n",
       "      <td>4.0</td>\n",
       "    </tr>\n",
       "    <tr>\n",
       "      <th>1</th>\n",
       "      <td>2</td>\n",
       "      <td>OECD1990</td>\n",
       "      <td>Europe</td>\n",
       "      <td>NaN</td>\n",
       "      <td>NaN</td>\n",
       "      <td>NaN</td>\n",
       "      <td>Eurocontrol</td>\n",
       "      <td>ESRA North-West</td>\n",
       "      <td>NaN</td>\n",
       "      <td>NaN</td>\n",
       "      <td>...</td>\n",
       "      <td>NaN</td>\n",
       "      <td>NaN</td>\n",
       "      <td>NaN</td>\n",
       "      <td>NaN</td>\n",
       "      <td>NaN</td>\n",
       "      <td>NaN</td>\n",
       "      <td>NaN</td>\n",
       "      <td>NaN</td>\n",
       "      <td>NaN</td>\n",
       "      <td>NaN</td>\n",
       "    </tr>\n",
       "    <tr>\n",
       "      <th>2</th>\n",
       "      <td>3</td>\n",
       "      <td>EIT</td>\n",
       "      <td>Europe</td>\n",
       "      <td>ALB</td>\n",
       "      <td>339.0</td>\n",
       "      <td>NaN</td>\n",
       "      <td>Eurocontrol</td>\n",
       "      <td>ESRA East</td>\n",
       "      <td>3.0</td>\n",
       "      <td>AL</td>\n",
       "      <td>...</td>\n",
       "      <td>Albania</td>\n",
       "      <td>Albanie</td>\n",
       "      <td>Албания</td>\n",
       "      <td>阿尔巴尼亚</td>\n",
       "      <td>AL</td>\n",
       "      <td>AL</td>\n",
       "      <td>ALB</td>\n",
       "      <td>ALB</td>\n",
       "      <td>339.0</td>\n",
       "      <td>8.0</td>\n",
       "    </tr>\n",
       "    <tr>\n",
       "      <th>3</th>\n",
       "      <td>4</td>\n",
       "      <td>MAF</td>\n",
       "      <td>Africa</td>\n",
       "      <td>ALG</td>\n",
       "      <td>615.0</td>\n",
       "      <td>NaN</td>\n",
       "      <td>Africa</td>\n",
       "      <td>North-Africa</td>\n",
       "      <td>4.0</td>\n",
       "      <td>AG</td>\n",
       "      <td>...</td>\n",
       "      <td>Argelia</td>\n",
       "      <td>Algérie</td>\n",
       "      <td>Алжир</td>\n",
       "      <td>阿尔及利亚</td>\n",
       "      <td>DZ</td>\n",
       "      <td>DZ</td>\n",
       "      <td>DZA</td>\n",
       "      <td>ALG</td>\n",
       "      <td>615.0</td>\n",
       "      <td>12.0</td>\n",
       "    </tr>\n",
       "    <tr>\n",
       "      <th>4</th>\n",
       "      <td>5</td>\n",
       "      <td>ASIA</td>\n",
       "      <td>Oceania</td>\n",
       "      <td>NaN</td>\n",
       "      <td>NaN</td>\n",
       "      <td>NaN</td>\n",
       "      <td>Asia</td>\n",
       "      <td>Asia/Pacific</td>\n",
       "      <td>NaN</td>\n",
       "      <td>AQ</td>\n",
       "      <td>...</td>\n",
       "      <td>NaN</td>\n",
       "      <td>NaN</td>\n",
       "      <td>NaN</td>\n",
       "      <td>NaN</td>\n",
       "      <td>AS</td>\n",
       "      <td>AS</td>\n",
       "      <td>ASM</td>\n",
       "      <td>NaN</td>\n",
       "      <td>NaN</td>\n",
       "      <td>16.0</td>\n",
       "    </tr>\n",
       "  </tbody>\n",
       "</table>\n",
       "<p>5 rows × 35 columns</p>\n",
       "</div>"
      ],
      "text/plain": [
       "   Unnamed: 0       ar5 continent cowc   cown eu28 eurocontrol_pru  \\\n",
       "0           1      ASIA      Asia  AFG  700.0  NaN            Asia   \n",
       "1           2  OECD1990    Europe  NaN    NaN  NaN     Eurocontrol   \n",
       "2           3       EIT    Europe  ALB  339.0  NaN     Eurocontrol   \n",
       "3           4       MAF    Africa  ALG  615.0  NaN          Africa   \n",
       "4           5      ASIA   Oceania  NaN    NaN  NaN            Asia   \n",
       "\n",
       "  eurocontrol_statfor  fao fips105  ...  country.name.es country.name.fr  \\\n",
       "0        Asia/Pacific  2.0      AF  ...       Afganistán     Afghanistan   \n",
       "1     ESRA North-West  NaN     NaN  ...              NaN             NaN   \n",
       "2           ESRA East  3.0      AL  ...          Albania         Albanie   \n",
       "3        North-Africa  4.0      AG  ...          Argelia         Algérie   \n",
       "4        Asia/Pacific  NaN      AQ  ...              NaN             NaN   \n",
       "\n",
       "   country.name.ru country.name.zh eurostat wb_api2c  wb_api3c p4_scode  \\\n",
       "0       Афганистан             阿富汗       AF       AF       AFG      AFG   \n",
       "1              NaN             NaN      NaN      NaN       NaN      NaN   \n",
       "2          Албания           阿尔巴尼亚       AL       AL       ALB      ALB   \n",
       "3            Алжир           阿尔及利亚       DZ       DZ       DZA      ALG   \n",
       "4              NaN             NaN       AS       AS       ASM      NaN   \n",
       "\n",
       "   p4_ccode   wvs  \n",
       "0     700.0   4.0  \n",
       "1       NaN   NaN  \n",
       "2     339.0   8.0  \n",
       "3     615.0  12.0  \n",
       "4       NaN  16.0  \n",
       "\n",
       "[5 rows x 35 columns]"
      ]
     },
     "metadata": {},
     "output_type": "display_data"
    }
   ],
   "source": [
    "country_codes_df = pd.read_csv(os.path.join(\"data\", \"countrycode.csv\"))\n",
    "display(country_codes_df.head(5))"
   ]
  },
  {
   "cell_type": "code",
   "execution_count": 34,
   "metadata": {
    "ExecuteTime": {
     "end_time": "2017-12-17T02:43:23.078028Z",
     "start_time": "2017-12-17T02:43:23.065182Z"
    }
   },
   "outputs": [
    {
     "name": "stdout",
     "output_type": "stream",
     "text": [
      "USA\n"
     ]
    }
   ],
   "source": [
    "def extract_iso3_from_gnow(gnwo):\n",
    "    \"\"\"Get the iso3 country code with the gnwo value, return None if no match was found\"\"\"\n",
    "    try:\n",
    "        iso3 = country_codes_df.loc[country_codes_df.cown == gnwo][\"wb_api3c\"].values[0]\n",
    "    except IndexError as e:\n",
    "        # 99 = Great Columbia\n",
    "        # 711 = Tibet\n",
    "        # 972 = Tonga\n",
    "        # 973 = Tuvalu\n",
    "        if not (gnwo == 99 or gnwo == 711 or gnwo == 971 or gnwo == 972 or gnwo == 973 or pd.isnull(gnwo) or gnwo == 340):\n",
    "            print(e, \"with gnwo: {}\".format(gnwo))\n",
    "        return None\n",
    "    return iso3\n",
    "print(extract_iso3_from_gnow(2))"
   ]
  },
  {
   "cell_type": "code",
   "execution_count": 35,
   "metadata": {
    "ExecuteTime": {
     "end_time": "2017-12-17T02:43:23.103450Z",
     "start_time": "2017-12-17T02:43:23.080029Z"
    }
   },
   "outputs": [
    {
     "data": {
      "text/html": [
       "<div>\n",
       "<style>\n",
       "    .dataframe thead tr:only-child th {\n",
       "        text-align: right;\n",
       "    }\n",
       "\n",
       "    .dataframe thead th {\n",
       "        text-align: left;\n",
       "    }\n",
       "\n",
       "    .dataframe tbody tr th {\n",
       "        vertical-align: top;\n",
       "    }\n",
       "</style>\n",
       "<table border=\"1\" class=\"dataframe\">\n",
       "  <thead>\n",
       "    <tr style=\"text-align: right;\">\n",
       "      <th></th>\n",
       "      <th>code</th>\n",
       "      <th>name</th>\n",
       "    </tr>\n",
       "    <tr>\n",
       "      <th>id</th>\n",
       "      <th></th>\n",
       "      <th></th>\n",
       "    </tr>\n",
       "  </thead>\n",
       "  <tbody>\n",
       "    <tr>\n",
       "      <th>2</th>\n",
       "      <td>USA</td>\n",
       "      <td>United States of America</td>\n",
       "    </tr>\n",
       "    <tr>\n",
       "      <th>20</th>\n",
       "      <td>CAN</td>\n",
       "      <td>Canada</td>\n",
       "    </tr>\n",
       "    <tr>\n",
       "      <th>31</th>\n",
       "      <td>BHM</td>\n",
       "      <td>Bahamas</td>\n",
       "    </tr>\n",
       "    <tr>\n",
       "      <th>40</th>\n",
       "      <td>CUB</td>\n",
       "      <td>Cuba</td>\n",
       "    </tr>\n",
       "    <tr>\n",
       "      <th>41</th>\n",
       "      <td>HAI</td>\n",
       "      <td>Haiti</td>\n",
       "    </tr>\n",
       "  </tbody>\n",
       "</table>\n",
       "</div>"
      ],
      "text/plain": [
       "   code                      name\n",
       "id                               \n",
       "2   USA  United States of America\n",
       "20  CAN                    Canada\n",
       "31  BHM                   Bahamas\n",
       "40  CUB                      Cuba\n",
       "41  HAI                     Haiti"
      ]
     },
     "metadata": {},
     "output_type": "display_data"
    }
   ],
   "source": [
    "def extract_gnwo_countries_to_df():\n",
    "    \"\"\"Extract the countries from the gnwo and their id from the gnwo files\"\"\"\n",
    "    countries_list = []\n",
    "    # First gnwo file, contains id, code, name for all gnow numbers\n",
    "    with open(os.path.join(\"data\", \"gnwo.txt\"), \"r\") as gnow:\n",
    "        for line in gnow:\n",
    "            split_line = re.split(r'\\t+', line)\n",
    "            countries_list.append(split_line[0:3])\n",
    "    countries_df = pd.DataFrame(countries_list, columns=[\"id\", \"code\", \"name\"])\n",
    "    countries_df[\"id\"] = pd.to_numeric(countries_df[\"id\"])\n",
    "    countries_df = countries_df.drop_duplicates()\n",
    "    return countries_df.set_index(\"id\")\n",
    "countries_list = extract_gnwo_countries_to_df()\n",
    "display(countries_list.head(5))"
   ]
  },
  {
   "cell_type": "code",
   "execution_count": 36,
   "metadata": {
    "ExecuteTime": {
     "end_time": "2017-12-17T02:43:25.791481Z",
     "start_time": "2017-12-17T02:43:23.104865Z"
    },
    "collapsed": true
   },
   "outputs": [],
   "source": [
    "# Add code column to the country_human_cost_df\n",
    "countries_codes = []\n",
    "for row in country_human_cost_df.itertuples():\n",
    "    countries_codes.append([row.Index[0], row.Index[1], extract_iso3_from_gnow(row.Index[1])])\n",
    "countries_codes = pd.DataFrame(countries_codes, columns=[\"year\", \"country_id\",\"country_code\"]).set_index([\"year\", \"country_id\"])"
   ]
  },
  {
   "cell_type": "code",
   "execution_count": 37,
   "metadata": {
    "ExecuteTime": {
     "end_time": "2017-12-17T02:43:25.810923Z",
     "start_time": "2017-12-17T02:43:25.793374Z"
    }
   },
   "outputs": [
    {
     "data": {
      "text/html": [
       "<div>\n",
       "<style>\n",
       "    .dataframe thead tr:only-child th {\n",
       "        text-align: right;\n",
       "    }\n",
       "\n",
       "    .dataframe thead th {\n",
       "        text-align: left;\n",
       "    }\n",
       "\n",
       "    .dataframe tbody tr th {\n",
       "        vertical-align: top;\n",
       "    }\n",
       "</style>\n",
       "<table border=\"1\" class=\"dataframe\">\n",
       "  <thead>\n",
       "    <tr style=\"text-align: right;\">\n",
       "      <th></th>\n",
       "      <th></th>\n",
       "      <th>number_of_events</th>\n",
       "      <th>events_id</th>\n",
       "      <th>displacement_extern</th>\n",
       "      <th>displacement_intern</th>\n",
       "      <th>total_displacement</th>\n",
       "      <th>deaths</th>\n",
       "      <th>gdp</th>\n",
       "      <th>hdi</th>\n",
       "      <th>country_code</th>\n",
       "    </tr>\n",
       "    <tr>\n",
       "      <th>year</th>\n",
       "      <th>country_id</th>\n",
       "      <th></th>\n",
       "      <th></th>\n",
       "      <th></th>\n",
       "      <th></th>\n",
       "      <th></th>\n",
       "      <th></th>\n",
       "      <th></th>\n",
       "      <th></th>\n",
       "      <th></th>\n",
       "    </tr>\n",
       "  </thead>\n",
       "  <tbody>\n",
       "    <tr>\n",
       "      <th rowspan=\"5\" valign=\"top\">1989.0</th>\n",
       "      <th>2.0</th>\n",
       "      <td>0.0</td>\n",
       "      <td>0</td>\n",
       "      <td>0.0</td>\n",
       "      <td>0.0</td>\n",
       "      <td>0.0</td>\n",
       "      <td>0.0</td>\n",
       "      <td>22599.992143</td>\n",
       "      <td>0.0</td>\n",
       "      <td>USA</td>\n",
       "    </tr>\n",
       "    <tr>\n",
       "      <th>20.0</th>\n",
       "      <td>0.0</td>\n",
       "      <td>0</td>\n",
       "      <td>0.0</td>\n",
       "      <td>0.0</td>\n",
       "      <td>0.0</td>\n",
       "      <td>0.0</td>\n",
       "      <td>20700.799311</td>\n",
       "      <td>0.0</td>\n",
       "      <td>CAN</td>\n",
       "    </tr>\n",
       "    <tr>\n",
       "      <th>31.0</th>\n",
       "      <td>0.0</td>\n",
       "      <td>0</td>\n",
       "      <td>0.0</td>\n",
       "      <td>0.0</td>\n",
       "      <td>0.0</td>\n",
       "      <td>0.0</td>\n",
       "      <td>14213.543372</td>\n",
       "      <td>0.0</td>\n",
       "      <td>BHS</td>\n",
       "    </tr>\n",
       "    <tr>\n",
       "      <th>40.0</th>\n",
       "      <td>0.0</td>\n",
       "      <td>[]</td>\n",
       "      <td>7682.0</td>\n",
       "      <td>0.0</td>\n",
       "      <td>7682.0</td>\n",
       "      <td>0.0</td>\n",
       "      <td>2577.207019</td>\n",
       "      <td>0.0</td>\n",
       "      <td>CUB</td>\n",
       "    </tr>\n",
       "    <tr>\n",
       "      <th>41.0</th>\n",
       "      <td>4.0</td>\n",
       "      <td>[186087, 186122, 186123, 186124]</td>\n",
       "      <td>3344.0</td>\n",
       "      <td>0.0</td>\n",
       "      <td>3344.0</td>\n",
       "      <td>48.0</td>\n",
       "      <td>393.347528</td>\n",
       "      <td>0.0</td>\n",
       "      <td>HTI</td>\n",
       "    </tr>\n",
       "  </tbody>\n",
       "</table>\n",
       "</div>"
      ],
      "text/plain": [
       "                   number_of_events                         events_id  \\\n",
       "year   country_id                                                       \n",
       "1989.0 2.0                      0.0                                 0   \n",
       "       20.0                     0.0                                 0   \n",
       "       31.0                     0.0                                 0   \n",
       "       40.0                     0.0                                []   \n",
       "       41.0                     4.0  [186087, 186122, 186123, 186124]   \n",
       "\n",
       "                   displacement_extern  displacement_intern  \\\n",
       "year   country_id                                             \n",
       "1989.0 2.0                         0.0                  0.0   \n",
       "       20.0                        0.0                  0.0   \n",
       "       31.0                        0.0                  0.0   \n",
       "       40.0                     7682.0                  0.0   \n",
       "       41.0                     3344.0                  0.0   \n",
       "\n",
       "                   total_displacement  deaths           gdp  hdi country_code  \n",
       "year   country_id                                                              \n",
       "1989.0 2.0                        0.0     0.0  22599.992143  0.0          USA  \n",
       "       20.0                       0.0     0.0  20700.799311  0.0          CAN  \n",
       "       31.0                       0.0     0.0  14213.543372  0.0          BHS  \n",
       "       40.0                    7682.0     0.0   2577.207019  0.0          CUB  \n",
       "       41.0                    3344.0    48.0    393.347528  0.0          HTI  "
      ]
     },
     "metadata": {},
     "output_type": "display_data"
    }
   ],
   "source": [
    "if not \"country_code\" in country_human_cost_df.columns:\n",
    "    country_human_cost_df = pd.concat([country_human_cost_df, countries_codes], axis=1, join_axes=[country_human_cost_df.index])\n",
    "display(country_human_cost_df.head(5))"
   ]
  },
  {
   "cell_type": "code",
   "execution_count": 38,
   "metadata": {
    "ExecuteTime": {
     "end_time": "2017-12-17T02:43:25.837848Z",
     "start_time": "2017-12-17T02:43:25.812604Z"
    }
   },
   "outputs": [
    {
     "data": {
      "text/html": [
       "<div>\n",
       "<style>\n",
       "    .dataframe thead tr:only-child th {\n",
       "        text-align: right;\n",
       "    }\n",
       "\n",
       "    .dataframe thead th {\n",
       "        text-align: left;\n",
       "    }\n",
       "\n",
       "    .dataframe tbody tr th {\n",
       "        vertical-align: top;\n",
       "    }\n",
       "</style>\n",
       "<table border=\"1\" class=\"dataframe\">\n",
       "  <thead>\n",
       "    <tr style=\"text-align: right;\">\n",
       "      <th></th>\n",
       "      <th></th>\n",
       "      <th>number_of_events</th>\n",
       "      <th>events_id</th>\n",
       "      <th>displacement_extern</th>\n",
       "      <th>displacement_intern</th>\n",
       "      <th>total_displacement</th>\n",
       "      <th>deaths</th>\n",
       "      <th>gdp</th>\n",
       "      <th>hdi</th>\n",
       "      <th>country_code</th>\n",
       "    </tr>\n",
       "    <tr>\n",
       "      <th>year</th>\n",
       "      <th>country_id</th>\n",
       "      <th></th>\n",
       "      <th></th>\n",
       "      <th></th>\n",
       "      <th></th>\n",
       "      <th></th>\n",
       "      <th></th>\n",
       "      <th></th>\n",
       "      <th></th>\n",
       "      <th></th>\n",
       "    </tr>\n",
       "  </thead>\n",
       "  <tbody>\n",
       "    <tr>\n",
       "      <th rowspan=\"5\" valign=\"top\">1989.0</th>\n",
       "      <th>2.0</th>\n",
       "      <td>0.0</td>\n",
       "      <td>0</td>\n",
       "      <td>0.0</td>\n",
       "      <td>0.0</td>\n",
       "      <td>0.0</td>\n",
       "      <td>0.0</td>\n",
       "      <td>22599.992143</td>\n",
       "      <td>0.0</td>\n",
       "      <td>USA</td>\n",
       "    </tr>\n",
       "    <tr>\n",
       "      <th>20.0</th>\n",
       "      <td>0.0</td>\n",
       "      <td>0</td>\n",
       "      <td>0.0</td>\n",
       "      <td>0.0</td>\n",
       "      <td>0.0</td>\n",
       "      <td>0.0</td>\n",
       "      <td>20700.799311</td>\n",
       "      <td>0.0</td>\n",
       "      <td>CAN</td>\n",
       "    </tr>\n",
       "    <tr>\n",
       "      <th>31.0</th>\n",
       "      <td>0.0</td>\n",
       "      <td>0</td>\n",
       "      <td>0.0</td>\n",
       "      <td>0.0</td>\n",
       "      <td>0.0</td>\n",
       "      <td>0.0</td>\n",
       "      <td>14213.543372</td>\n",
       "      <td>0.0</td>\n",
       "      <td>BHS</td>\n",
       "    </tr>\n",
       "    <tr>\n",
       "      <th>40.0</th>\n",
       "      <td>0.0</td>\n",
       "      <td>[]</td>\n",
       "      <td>7682.0</td>\n",
       "      <td>0.0</td>\n",
       "      <td>7682.0</td>\n",
       "      <td>0.0</td>\n",
       "      <td>2577.207019</td>\n",
       "      <td>0.0</td>\n",
       "      <td>CUB</td>\n",
       "    </tr>\n",
       "    <tr>\n",
       "      <th>41.0</th>\n",
       "      <td>4.0</td>\n",
       "      <td>[186087, 186122, 186123, 186124]</td>\n",
       "      <td>3344.0</td>\n",
       "      <td>0.0</td>\n",
       "      <td>3344.0</td>\n",
       "      <td>48.0</td>\n",
       "      <td>393.347528</td>\n",
       "      <td>0.0</td>\n",
       "      <td>HTI</td>\n",
       "    </tr>\n",
       "  </tbody>\n",
       "</table>\n",
       "</div>"
      ],
      "text/plain": [
       "                   number_of_events                         events_id  \\\n",
       "year   country_id                                                       \n",
       "1989.0 2.0                      0.0                                 0   \n",
       "       20.0                     0.0                                 0   \n",
       "       31.0                     0.0                                 0   \n",
       "       40.0                     0.0                                []   \n",
       "       41.0                     4.0  [186087, 186122, 186123, 186124]   \n",
       "\n",
       "                   displacement_extern  displacement_intern  \\\n",
       "year   country_id                                             \n",
       "1989.0 2.0                         0.0                  0.0   \n",
       "       20.0                        0.0                  0.0   \n",
       "       31.0                        0.0                  0.0   \n",
       "       40.0                     7682.0                  0.0   \n",
       "       41.0                     3344.0                  0.0   \n",
       "\n",
       "                   total_displacement  deaths           gdp  hdi country_code  \n",
       "year   country_id                                                              \n",
       "1989.0 2.0                        0.0     0.0  22599.992143  0.0          USA  \n",
       "       20.0                       0.0     0.0  20700.799311  0.0          CAN  \n",
       "       31.0                       0.0     0.0  14213.543372  0.0          BHS  \n",
       "       40.0                    7682.0     0.0   2577.207019  0.0          CUB  \n",
       "       41.0                    3344.0    48.0    393.347528  0.0          HTI  "
      ]
     },
     "metadata": {},
     "output_type": "display_data"
    }
   ],
   "source": [
    "# For now drop bad rows... could do something different later on\n",
    "country_human_cost_df = country_human_cost_df[~country_human_cost_df.country_code.isnull()]\n",
    "display(country_human_cost_df.head(5))"
   ]
  },
  {
   "cell_type": "code",
   "execution_count": 39,
   "metadata": {
    "ExecuteTime": {
     "end_time": "2017-12-17T02:43:25.845083Z",
     "start_time": "2017-12-17T02:43:25.839530Z"
    }
   },
   "outputs": [
    {
     "data": {
      "text/plain": [
       "False"
      ]
     },
     "metadata": {},
     "output_type": "display_data"
    }
   ],
   "source": [
    "display(country_human_cost_df.country_code.isnull().any())"
   ]
  },
  {
   "cell_type": "code",
   "execution_count": 40,
   "metadata": {
    "ExecuteTime": {
     "end_time": "2017-12-17T02:43:25.884081Z",
     "start_time": "2017-12-17T02:43:25.846778Z"
    }
   },
   "outputs": [
    {
     "data": {
      "text/html": [
       "<div>\n",
       "<style>\n",
       "    .dataframe thead tr:only-child th {\n",
       "        text-align: right;\n",
       "    }\n",
       "\n",
       "    .dataframe thead th {\n",
       "        text-align: left;\n",
       "    }\n",
       "\n",
       "    .dataframe tbody tr th {\n",
       "        vertical-align: top;\n",
       "    }\n",
       "</style>\n",
       "<table border=\"1\" class=\"dataframe\">\n",
       "  <thead>\n",
       "    <tr style=\"text-align: right;\">\n",
       "      <th></th>\n",
       "      <th>pop_est</th>\n",
       "      <th>continent</th>\n",
       "      <th>name</th>\n",
       "      <th>iso_a3</th>\n",
       "      <th>gdp_md_est</th>\n",
       "      <th>geometry</th>\n",
       "    </tr>\n",
       "  </thead>\n",
       "  <tbody>\n",
       "    <tr>\n",
       "      <th>0</th>\n",
       "      <td>28400000.0</td>\n",
       "      <td>Asia</td>\n",
       "      <td>Afghanistan</td>\n",
       "      <td>AFG</td>\n",
       "      <td>22270.0</td>\n",
       "      <td>POLYGON ((61.21081709172574 35.65007233330923,...</td>\n",
       "    </tr>\n",
       "    <tr>\n",
       "      <th>1</th>\n",
       "      <td>12799293.0</td>\n",
       "      <td>Africa</td>\n",
       "      <td>Angola</td>\n",
       "      <td>AGO</td>\n",
       "      <td>110300.0</td>\n",
       "      <td>(POLYGON ((16.32652835456705 -5.87747039146621...</td>\n",
       "    </tr>\n",
       "    <tr>\n",
       "      <th>2</th>\n",
       "      <td>3639453.0</td>\n",
       "      <td>Europe</td>\n",
       "      <td>Albania</td>\n",
       "      <td>ALB</td>\n",
       "      <td>21810.0</td>\n",
       "      <td>POLYGON ((20.59024743010491 41.85540416113361,...</td>\n",
       "    </tr>\n",
       "    <tr>\n",
       "      <th>3</th>\n",
       "      <td>4798491.0</td>\n",
       "      <td>Asia</td>\n",
       "      <td>United Arab Emirates</td>\n",
       "      <td>ARE</td>\n",
       "      <td>184300.0</td>\n",
       "      <td>POLYGON ((51.57951867046327 24.24549713795111,...</td>\n",
       "    </tr>\n",
       "    <tr>\n",
       "      <th>4</th>\n",
       "      <td>40913584.0</td>\n",
       "      <td>South America</td>\n",
       "      <td>Argentina</td>\n",
       "      <td>ARG</td>\n",
       "      <td>573900.0</td>\n",
       "      <td>(POLYGON ((-65.50000000000003 -55.199999999999...</td>\n",
       "    </tr>\n",
       "  </tbody>\n",
       "</table>\n",
       "</div>"
      ],
      "text/plain": [
       "      pop_est      continent                  name iso_a3  gdp_md_est  \\\n",
       "0  28400000.0           Asia           Afghanistan    AFG     22270.0   \n",
       "1  12799293.0         Africa                Angola    AGO    110300.0   \n",
       "2   3639453.0         Europe               Albania    ALB     21810.0   \n",
       "3   4798491.0           Asia  United Arab Emirates    ARE    184300.0   \n",
       "4  40913584.0  South America             Argentina    ARG    573900.0   \n",
       "\n",
       "                                            geometry  \n",
       "0  POLYGON ((61.21081709172574 35.65007233330923,...  \n",
       "1  (POLYGON ((16.32652835456705 -5.87747039146621...  \n",
       "2  POLYGON ((20.59024743010491 41.85540416113361,...  \n",
       "3  POLYGON ((51.57951867046327 24.24549713795111,...  \n",
       "4  (POLYGON ((-65.50000000000003 -55.199999999999...  "
      ]
     },
     "metadata": {},
     "output_type": "display_data"
    }
   ],
   "source": [
    "# Compare the obtained country code with the one in the geopanda world dataset\n",
    "world = gpd.read_file(gpd.datasets.get_path('naturalearth_lowres'))\n",
    "display(world.head(5))"
   ]
  },
  {
   "cell_type": "code",
   "execution_count": 41,
   "metadata": {
    "ExecuteTime": {
     "end_time": "2017-12-17T02:43:25.976795Z",
     "start_time": "2017-12-17T02:43:25.885565Z"
    }
   },
   "outputs": [
    {
     "data": {
      "text/html": [
       "<div>\n",
       "<style>\n",
       "    .dataframe thead tr:only-child th {\n",
       "        text-align: right;\n",
       "    }\n",
       "\n",
       "    .dataframe thead th {\n",
       "        text-align: left;\n",
       "    }\n",
       "\n",
       "    .dataframe tbody tr th {\n",
       "        vertical-align: top;\n",
       "    }\n",
       "</style>\n",
       "<table border=\"1\" class=\"dataframe\">\n",
       "  <thead>\n",
       "    <tr style=\"text-align: right;\">\n",
       "      <th></th>\n",
       "      <th></th>\n",
       "      <th>number_of_events</th>\n",
       "      <th>events_id</th>\n",
       "      <th>displacement_extern</th>\n",
       "      <th>displacement_intern</th>\n",
       "      <th>total_displacement</th>\n",
       "      <th>deaths</th>\n",
       "      <th>gdp</th>\n",
       "      <th>hdi</th>\n",
       "      <th>country_code</th>\n",
       "    </tr>\n",
       "    <tr>\n",
       "      <th>year</th>\n",
       "      <th>country_id</th>\n",
       "      <th></th>\n",
       "      <th></th>\n",
       "      <th></th>\n",
       "      <th></th>\n",
       "      <th></th>\n",
       "      <th></th>\n",
       "      <th></th>\n",
       "      <th></th>\n",
       "      <th></th>\n",
       "    </tr>\n",
       "  </thead>\n",
       "  <tbody>\n",
       "    <tr>\n",
       "      <th rowspan=\"5\" valign=\"top\">1989.0</th>\n",
       "      <th>2.0</th>\n",
       "      <td>0.0</td>\n",
       "      <td>0</td>\n",
       "      <td>0.0</td>\n",
       "      <td>0.0</td>\n",
       "      <td>0.0</td>\n",
       "      <td>0.0</td>\n",
       "      <td>22599.992143</td>\n",
       "      <td>0.0</td>\n",
       "      <td>USA</td>\n",
       "    </tr>\n",
       "    <tr>\n",
       "      <th>20.0</th>\n",
       "      <td>0.0</td>\n",
       "      <td>0</td>\n",
       "      <td>0.0</td>\n",
       "      <td>0.0</td>\n",
       "      <td>0.0</td>\n",
       "      <td>0.0</td>\n",
       "      <td>20700.799311</td>\n",
       "      <td>0.0</td>\n",
       "      <td>CAN</td>\n",
       "    </tr>\n",
       "    <tr>\n",
       "      <th>31.0</th>\n",
       "      <td>0.0</td>\n",
       "      <td>0</td>\n",
       "      <td>0.0</td>\n",
       "      <td>0.0</td>\n",
       "      <td>0.0</td>\n",
       "      <td>0.0</td>\n",
       "      <td>14213.543372</td>\n",
       "      <td>0.0</td>\n",
       "      <td>BHS</td>\n",
       "    </tr>\n",
       "    <tr>\n",
       "      <th>40.0</th>\n",
       "      <td>0.0</td>\n",
       "      <td>[]</td>\n",
       "      <td>7682.0</td>\n",
       "      <td>0.0</td>\n",
       "      <td>7682.0</td>\n",
       "      <td>0.0</td>\n",
       "      <td>2577.207019</td>\n",
       "      <td>0.0</td>\n",
       "      <td>CUB</td>\n",
       "    </tr>\n",
       "    <tr>\n",
       "      <th>41.0</th>\n",
       "      <td>4.0</td>\n",
       "      <td>[186087, 186122, 186123, 186124]</td>\n",
       "      <td>3344.0</td>\n",
       "      <td>0.0</td>\n",
       "      <td>3344.0</td>\n",
       "      <td>48.0</td>\n",
       "      <td>393.347528</td>\n",
       "      <td>0.0</td>\n",
       "      <td>HTI</td>\n",
       "    </tr>\n",
       "  </tbody>\n",
       "</table>\n",
       "</div>"
      ],
      "text/plain": [
       "                   number_of_events                         events_id  \\\n",
       "year   country_id                                                       \n",
       "1989.0 2.0                      0.0                                 0   \n",
       "       20.0                     0.0                                 0   \n",
       "       31.0                     0.0                                 0   \n",
       "       40.0                     0.0                                []   \n",
       "       41.0                     4.0  [186087, 186122, 186123, 186124]   \n",
       "\n",
       "                   displacement_extern  displacement_intern  \\\n",
       "year   country_id                                             \n",
       "1989.0 2.0                         0.0                  0.0   \n",
       "       20.0                        0.0                  0.0   \n",
       "       31.0                        0.0                  0.0   \n",
       "       40.0                     7682.0                  0.0   \n",
       "       41.0                     3344.0                  0.0   \n",
       "\n",
       "                   total_displacement  deaths           gdp  hdi country_code  \n",
       "year   country_id                                                              \n",
       "1989.0 2.0                        0.0     0.0  22599.992143  0.0          USA  \n",
       "       20.0                       0.0     0.0  20700.799311  0.0          CAN  \n",
       "       31.0                       0.0     0.0  14213.543372  0.0          BHS  \n",
       "       40.0                    7682.0     0.0   2577.207019  0.0          CUB  \n",
       "       41.0                    3344.0    48.0    393.347528  0.0          HTI  "
      ]
     },
     "metadata": {},
     "output_type": "display_data"
    }
   ],
   "source": [
    "# Drop country for which we don't have a corresponding country code\n",
    "country_code_to_drop = []\n",
    "for country_code in country_human_cost_df.country_code.unique():\n",
    "    if not world.iso_a3.str.contains(country_code).any():\n",
    "        country_code_to_drop.append(country_code)\n",
    "\n",
    "# Remove unrecognized countries from the dataframe\n",
    "country_human_cost_df = country_human_cost_df[~country_human_cost_df.country_code.isin(country_code_to_drop)]\n",
    "display(country_human_cost_df.head(5))"
   ]
  },
  {
   "cell_type": "markdown",
   "metadata": {},
   "source": [
    "## Pickle the result"
   ]
  },
  {
   "cell_type": "code",
   "execution_count": 42,
   "metadata": {
    "ExecuteTime": {
     "end_time": "2017-12-17T02:43:26.312272Z",
     "start_time": "2017-12-17T02:43:25.978414Z"
    },
    "collapsed": true
   },
   "outputs": [],
   "source": [
    "with open(os.path.join(\"pickle\", 'country_human_cost.pickle'), 'wb') as out:\n",
    "    pickle.dump(country_human_cost_df, out)"
   ]
  },
  {
   "cell_type": "code",
   "execution_count": 43,
   "metadata": {
    "ExecuteTime": {
     "end_time": "2017-12-17T02:43:26.358379Z",
     "start_time": "2017-12-17T02:43:26.314355Z"
    },
    "collapsed": true
   },
   "outputs": [],
   "source": [
    "with open(os.path.join(\"pickle\", 'country_human_cost.pickle'), 'rb') as data_source:\n",
    "    country_human_cost_df = pickle.load(data_source)"
   ]
  }
 ],
 "metadata": {
  "kernelspec": {
   "display_name": "Python [default]",
   "language": "python",
   "name": "python3"
  },
  "language_info": {
   "codemirror_mode": {
    "name": "ipython",
    "version": 3
   },
   "file_extension": ".py",
   "mimetype": "text/x-python",
   "name": "python",
   "nbconvert_exporter": "python",
   "pygments_lexer": "ipython3",
   "version": "3.6.2"
  },
  "toc": {
   "nav_menu": {},
   "number_sections": true,
   "sideBar": true,
   "skip_h1_title": false,
   "toc_cell": false,
   "toc_position": {},
   "toc_section_display": "block",
   "toc_window_display": false
  },
  "varInspector": {
   "cols": {
    "lenName": 16,
    "lenType": 16,
    "lenVar": 40
   },
   "kernels_config": {
    "python": {
     "delete_cmd_postfix": "",
     "delete_cmd_prefix": "del ",
     "library": "var_list.py",
     "varRefreshCmd": "print(var_dic_list())"
    },
    "r": {
     "delete_cmd_postfix": ") ",
     "delete_cmd_prefix": "rm(",
     "library": "var_list.r",
     "varRefreshCmd": "cat(var_dic_list()) "
    }
   },
   "types_to_exclude": [
    "module",
    "function",
    "builtin_function_or_method",
    "instance",
    "_Feature"
   ],
   "window_display": false
  }
 },
 "nbformat": 4,
 "nbformat_minor": 2
}
