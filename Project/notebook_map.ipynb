{
 "cells": [
  {
   "cell_type": "markdown",
   "metadata": {},
   "source": [
    "# Creation of maps with the extracted datasets"
   ]
  },
  {
   "cell_type": "code",
   "execution_count": 106,
   "metadata": {
    "ExecuteTime": {
     "end_time": "2017-12-17T05:40:48.903714Z",
     "start_time": "2017-12-17T05:40:48.886184Z"
    },
    "collapsed": true
   },
   "outputs": [],
   "source": [
    "import os\n",
    "import fileinput\n",
    "\n",
    "import numpy as np\n",
    "import pandas as pd\n",
    "import geopandas as gpd\n",
    "import pickle\n",
    "from tqdm import tqdm\n",
    "from bs4 import BeautifulSoup\n",
    "import matplotlib.pyplot as plt\n",
    "import shapely.wkt\n",
    "from shapely.geometry import Point, Polygon\n",
    "import pysal\n",
    "\n",
    "import re\n",
    "\n",
    "from scipy import stats\n",
    "\n",
    "from branca.colormap import linear\n",
    "\n",
    "import folium\n",
    "import folium.plugins as plugins\n",
    "from folium.plugins import MarkerCluster, FastMarkerCluster, HeatMapWithTime, TimeSliderChoropleth\n",
    "from folium import IFrame"
   ]
  },
  {
   "cell_type": "markdown",
   "metadata": {},
   "source": [
    "## Create basic event map with geopandas"
   ]
  },
  {
   "cell_type": "code",
   "execution_count": null,
   "metadata": {
    "ExecuteTime": {
     "end_time": "2017-12-16T23:10:15.429757Z",
     "start_time": "2017-12-16T23:10:15.364242Z"
    },
    "collapsed": true,
    "run_control": {
     "marked": true
    }
   },
   "outputs": [],
   "source": [
    "with open(os.path.join(\"pickle\", 'conflict.pickle'), 'rb') as data_source:\n",
    "    conflict_df = pickle.load(data_source)"
   ]
  },
  {
   "cell_type": "code",
   "execution_count": null,
   "metadata": {
    "ExecuteTime": {
     "end_time": "2017-12-16T23:10:17.305355Z",
     "start_time": "2017-12-16T23:10:15.431266Z"
    },
    "collapsed": true
   },
   "outputs": [],
   "source": [
    "geometry = conflict_df['geom_wkt'].map(shapely.wkt.loads)\n",
    "conflict_df = conflict_df.drop('geom_wkt', axis=1)\n",
    "crs = {'init': 'epsg:4326'}\n",
    "conflict_gdf = gpd.GeoDataFrame(conflict_df, crs=crs, geometry=geometry)\n"
   ]
  },
  {
   "cell_type": "code",
   "execution_count": null,
   "metadata": {
    "ExecuteTime": {
     "end_time": "2017-12-16T23:10:24.200157Z",
     "start_time": "2017-12-16T23:10:17.306862Z"
    }
   },
   "outputs": [],
   "source": [
    "fig, ax = plt.subplots(figsize=(10,5))\n",
    "\n",
    "world = gpd.read_file(gpd.datasets.get_path('naturalearth_lowres'))\n",
    "\n",
    "\n",
    "world.plot(ax=ax, color='white', edgecolor='black')\n",
    "conflict_gdf.plot(ax=ax, markersize=(conflict_gdf.loc[:, \"best\"]/1000), cmap=\"autumn\")\n",
    "    \n",
    "plt.show()"
   ]
  },
  {
   "cell_type": "markdown",
   "metadata": {},
   "source": [
    "## Create heatmap"
   ]
  },
  {
   "cell_type": "markdown",
   "metadata": {},
   "source": [
    "### Generate the event_list dataframe"
   ]
  },
  {
   "cell_type": "code",
   "execution_count": null,
   "metadata": {
    "ExecuteTime": {
     "end_time": "2017-12-16T23:12:50.094177Z",
     "start_time": "2017-12-16T23:12:50.072529Z"
    }
   },
   "outputs": [],
   "source": [
    "display(conflict_df.head(1))"
   ]
  },
  {
   "cell_type": "code",
   "execution_count": null,
   "metadata": {
    "ExecuteTime": {
     "end_time": "2017-12-16T23:12:50.121872Z",
     "start_time": "2017-12-16T23:12:50.095500Z"
    }
   },
   "outputs": [],
   "source": [
    "event_list = conflict_df[[\"id\", \"latitude\", \"longitude\", \"deaths_civilians\", \"best\", \"year\"]]\n",
    "display(event_list.head(2))"
   ]
  },
  {
   "cell_type": "code",
   "execution_count": null,
   "metadata": {
    "ExecuteTime": {
     "end_time": "2017-12-16T23:12:50.128384Z",
     "start_time": "2017-12-16T23:12:50.123276Z"
    },
    "collapsed": true
   },
   "outputs": [],
   "source": [
    "# keep only events w/ deaths\n",
    "event_list = event_list[event_list.best > 0]"
   ]
  },
  {
   "cell_type": "code",
   "execution_count": null,
   "metadata": {
    "ExecuteTime": {
     "end_time": "2017-12-16T23:12:50.142690Z",
     "start_time": "2017-12-16T23:12:50.129658Z"
    },
    "collapsed": true
   },
   "outputs": [],
   "source": [
    "event_list = event_list.sort_values(\"year\")"
   ]
  },
  {
   "cell_type": "code",
   "execution_count": null,
   "metadata": {
    "ExecuteTime": {
     "end_time": "2017-12-16T23:12:50.198158Z",
     "start_time": "2017-12-16T23:12:50.144230Z"
    }
   },
   "outputs": [],
   "source": [
    "event_list.sort_values(\"best\", ascending = False)\n",
    "display(event_list.sort_values(\"best\").head(5))"
   ]
  },
  {
   "cell_type": "markdown",
   "metadata": {},
   "source": [
    "### Create Heatmap with each events layered by year"
   ]
  },
  {
   "cell_type": "code",
   "execution_count": null,
   "metadata": {
    "ExecuteTime": {
     "end_time": "2017-12-16T23:12:50.238718Z",
     "start_time": "2017-12-16T23:12:50.199764Z"
    },
    "run_control": {
     "marked": true
    }
   },
   "outputs": [],
   "source": [
    "event_df_array = []\n",
    "for year in np.sort(event_list.year.unique()):\n",
    "    print(year, end=\", \") #make sure years are in the desired order\n",
    "    event_df_array.append(event_list[event_list.year == year])"
   ]
  },
  {
   "cell_type": "code",
   "execution_count": null,
   "metadata": {
    "ExecuteTime": {
     "end_time": "2017-12-16T23:12:50.500159Z",
     "start_time": "2017-12-16T23:12:50.240915Z"
    },
    "collapsed": true
   },
   "outputs": [],
   "source": [
    "event_pos_date_array = []\n",
    "for index in range(len(event_df_array)):\n",
    "    event_pos_date_array.append([[row.latitude, row.longitude] for row in event_df_array[index].itertuples()])"
   ]
  },
  {
   "cell_type": "code",
   "execution_count": null,
   "metadata": {
    "ExecuteTime": {
     "end_time": "2017-12-16T23:12:52.106790Z",
     "start_time": "2017-12-16T23:12:50.501587Z"
    },
    "collapsed": true
   },
   "outputs": [],
   "source": [
    "m = folium.Map(tiles='cartodbpositron', world_copy_jump = True, no_wrap=True, zoom_start=8)\n",
    "\n",
    "index = 0\n",
    "# TODO: find good gradient color for colorblind that still show the heatmap\n",
    "for index, year in enumerate(event_list.year.unique()):\n",
    "    m.add_child(plugins.HeatMap(event_pos_date_array[index],\n",
    "                                name=\"{}\".format(year),\n",
    "                                max_val=event_list.best.max(),\n",
    "                                min_opacity=0.99,\n",
    "                                radius=2,\n",
    "                                blur=3,\n",
    "                                max_zoom=10,\n",
    "                                gradient ={0.01: 'blue', 0.04: 'cyan', 0.07: 'green', 0.15: 'yellow', 0.3:'orange', 0.5:'red',  1: 'magenta'},\n",
    "                                overlay=True))\n",
    "\n",
    "\n",
    "folium.LayerControl().add_to(m)\n",
    "folium.plugins.Fullscreen().add_to(m)\n",
    "m.save(os.path.join(\"results\", 'heatmap_w_time_layered.html'))"
   ]
  },
  {
   "cell_type": "markdown",
   "metadata": {},
   "source": [
    "### Create a timestamped heatmap"
   ]
  },
  {
   "cell_type": "code",
   "execution_count": null,
   "metadata": {
    "ExecuteTime": {
     "end_time": "2017-12-16T23:12:52.143744Z",
     "start_time": "2017-12-16T23:12:52.108359Z"
    },
    "run_control": {
     "marked": true
    }
   },
   "outputs": [],
   "source": [
    "NBR_OF_BINS=1000\n",
    "binned_deaths, bins = pd.qcut(event_list.best, q=NBR_OF_BINS, duplicates='drop', labels=False, retbins=True)\n",
    "binned_deaths.name=\"bin_deaths\"\n",
    "# We add 1 to avoid bins at 0, because they would have null weight\n",
    "binned_deaths += 1\n",
    "binned_deaths_df = pd.DataFrame(binned_deaths )\n",
    "print(len(bins))\n",
    "display(binned_deaths_df.head(5))\n",
    "# Avoid doing the merge multiple times\n",
    "if \"bin_deaths\" not in event_list.columns:\n",
    "    event_list = event_list.merge(binned_deaths_df,left_index=True, right_index=True )"
   ]
  },
  {
   "cell_type": "code",
   "execution_count": null,
   "metadata": {
    "ExecuteTime": {
     "end_time": "2017-12-16T23:12:52.371918Z",
     "start_time": "2017-12-16T23:12:52.145264Z"
    }
   },
   "outputs": [],
   "source": [
    "# NOT USEFULL SECTION FOR NOW! MIGHT BE USEFULL TO SHOW A LEGEND OR A BIN GRAPH\n",
    "bin_df_cols = [\"bin\", \"bin_range\" , \"nbr\"]\n",
    "heatmap_bins_df = pd.DataFrame([], columns=bin_df_cols).set_index(bin_df_cols[0])\n",
    "\n",
    "for index, value in enumerate(bins):\n",
    "    min_val = bins[index-1] if index is not 0 else 0\n",
    "    max_val = bins[index]\n",
    "    bin_range = (min_val, max_val)\n",
    "    nbr =  len(event_list.loc[event_list.bin_deaths == (index+1)])\n",
    "    temp_bin_df = pd.DataFrame([[index, bin_range, nbr]], columns=bin_df_cols)\n",
    "    temp_bin_df = temp_bin_df.set_index(bin_df_cols[0])\n",
    "    heatmap_bins_df = heatmap_bins_df.append(temp_bin_df)\n",
    "display(heatmap_bins_df.head(5))"
   ]
  },
  {
   "cell_type": "code",
   "execution_count": null,
   "metadata": {
    "ExecuteTime": {
     "end_time": "2017-12-16T23:12:54.304835Z",
     "start_time": "2017-12-16T23:12:52.373578Z"
    },
    "collapsed": true
   },
   "outputs": [],
   "source": [
    "m = folium.Map(tiles='cartodbpositron', world_copy_jump = True, no_wrap=True, zoom_start=8)\n",
    "\n",
    "# We used bin dataset because it filters the extreme values, especially on the maximum size\n",
    "# The norm isn't a 0 to 1 norm, it is a 1/bin_deaths.max() to 1, to force every event to be showed\n",
    "column_to_use = \"bin_deaths\"\n",
    "best_max = event_list[column_to_use].max()\n",
    "best_min = event_list[column_to_use].min()\n",
    "get_norm = lambda best: (best)/(best_max)\n",
    "\n",
    "\n",
    "\n",
    "data_to_show = []\n",
    "time_array = []\n",
    "for year in event_list.year.unique():\n",
    "    time_array.append(year)\n",
    "    year_data = [[row.latitude, row.longitude, get_norm(row.bin_deaths)] for row in event_list.loc[event_list.year == year].itertuples()]\n",
    "    data_to_show.append(year_data)\n",
    "    \n",
    "hm = plugins.HeatMapWithTime(data=data_to_show,\n",
    "                             index=time_array,\n",
    "                             name=\"deaths heatmap\",\n",
    "                             radius=5,\n",
    "                             min_opacity=0.3,\n",
    "                             max_opacity=0.9,\n",
    "                             #scale_radius=True,\n",
    "                             use_local_extrema=True,\n",
    "                             display_index=True,\n",
    "                             auto_play=True,\n",
    "                             speed_step=0.1,\n",
    "                             )\n",
    "hm.add_to(m)\n",
    "\n",
    "folium.plugins.Fullscreen().add_to(m)\n",
    "m.save(os.path.join(\"results\", 'heatmap_w_time.html'))"
   ]
  },
  {
   "cell_type": "markdown",
   "metadata": {},
   "source": [
    "## Create maps with choroplets and events superposed using GeoPandas"
   ]
  },
  {
   "cell_type": "markdown",
   "metadata": {},
   "source": [
    "### Create human cost GeoDataFrame"
   ]
  },
  {
   "cell_type": "code",
   "execution_count": 9,
   "metadata": {
    "ExecuteTime": {
     "end_time": "2017-12-17T02:51:55.769880Z",
     "start_time": "2017-12-17T02:51:55.721680Z"
    },
    "collapsed": true
   },
   "outputs": [],
   "source": [
    "with open(os.path.join(\"pickle\", 'country_human_cost.pickle'), 'rb') as data_source:\n",
    "    country_human_cost_df = pickle.load(data_source)"
   ]
  },
  {
   "cell_type": "code",
   "execution_count": 11,
   "metadata": {
    "ExecuteTime": {
     "end_time": "2017-12-17T02:52:07.454121Z",
     "start_time": "2017-12-17T02:52:07.438079Z"
    }
   },
   "outputs": [
    {
     "data": {
      "text/html": [
       "<div>\n",
       "<style>\n",
       "    .dataframe thead tr:only-child th {\n",
       "        text-align: right;\n",
       "    }\n",
       "\n",
       "    .dataframe thead th {\n",
       "        text-align: left;\n",
       "    }\n",
       "\n",
       "    .dataframe tbody tr th {\n",
       "        vertical-align: top;\n",
       "    }\n",
       "</style>\n",
       "<table border=\"1\" class=\"dataframe\">\n",
       "  <thead>\n",
       "    <tr style=\"text-align: right;\">\n",
       "      <th></th>\n",
       "      <th></th>\n",
       "      <th>number_of_events</th>\n",
       "      <th>events_id</th>\n",
       "      <th>displacement_extern</th>\n",
       "      <th>displacement_intern</th>\n",
       "      <th>total_displacement</th>\n",
       "      <th>deaths</th>\n",
       "      <th>gdp</th>\n",
       "      <th>hdi</th>\n",
       "      <th>country_code</th>\n",
       "    </tr>\n",
       "    <tr>\n",
       "      <th>year</th>\n",
       "      <th>country_id</th>\n",
       "      <th></th>\n",
       "      <th></th>\n",
       "      <th></th>\n",
       "      <th></th>\n",
       "      <th></th>\n",
       "      <th></th>\n",
       "      <th></th>\n",
       "      <th></th>\n",
       "      <th></th>\n",
       "    </tr>\n",
       "  </thead>\n",
       "  <tbody>\n",
       "    <tr>\n",
       "      <th rowspan=\"10\" valign=\"top\">1989.0</th>\n",
       "      <th>2.0</th>\n",
       "      <td>0.0</td>\n",
       "      <td>0</td>\n",
       "      <td>0.0</td>\n",
       "      <td>0.0</td>\n",
       "      <td>0.0</td>\n",
       "      <td>0.0</td>\n",
       "      <td>22599.992143</td>\n",
       "      <td>0.0</td>\n",
       "      <td>USA</td>\n",
       "    </tr>\n",
       "    <tr>\n",
       "      <th>20.0</th>\n",
       "      <td>0.0</td>\n",
       "      <td>0</td>\n",
       "      <td>0.0</td>\n",
       "      <td>0.0</td>\n",
       "      <td>0.0</td>\n",
       "      <td>0.0</td>\n",
       "      <td>20700.799311</td>\n",
       "      <td>0.0</td>\n",
       "      <td>CAN</td>\n",
       "    </tr>\n",
       "    <tr>\n",
       "      <th>31.0</th>\n",
       "      <td>0.0</td>\n",
       "      <td>0</td>\n",
       "      <td>0.0</td>\n",
       "      <td>0.0</td>\n",
       "      <td>0.0</td>\n",
       "      <td>0.0</td>\n",
       "      <td>14213.543372</td>\n",
       "      <td>0.0</td>\n",
       "      <td>BHS</td>\n",
       "    </tr>\n",
       "    <tr>\n",
       "      <th>40.0</th>\n",
       "      <td>0.0</td>\n",
       "      <td>[]</td>\n",
       "      <td>7682.0</td>\n",
       "      <td>0.0</td>\n",
       "      <td>7682.0</td>\n",
       "      <td>0.0</td>\n",
       "      <td>2577.207019</td>\n",
       "      <td>0.0</td>\n",
       "      <td>CUB</td>\n",
       "    </tr>\n",
       "    <tr>\n",
       "      <th>41.0</th>\n",
       "      <td>4.0</td>\n",
       "      <td>[186087, 186122, 186123, 186124]</td>\n",
       "      <td>3344.0</td>\n",
       "      <td>0.0</td>\n",
       "      <td>3344.0</td>\n",
       "      <td>48.0</td>\n",
       "      <td>393.347528</td>\n",
       "      <td>0.0</td>\n",
       "      <td>HTI</td>\n",
       "    </tr>\n",
       "    <tr>\n",
       "      <th>42.0</th>\n",
       "      <td>0.0</td>\n",
       "      <td>0</td>\n",
       "      <td>0.0</td>\n",
       "      <td>0.0</td>\n",
       "      <td>0.0</td>\n",
       "      <td>0.0</td>\n",
       "      <td>2604.425557</td>\n",
       "      <td>0.0</td>\n",
       "      <td>DOM</td>\n",
       "    </tr>\n",
       "    <tr>\n",
       "      <th>51.0</th>\n",
       "      <td>1.0</td>\n",
       "      <td>[107752]</td>\n",
       "      <td>0.0</td>\n",
       "      <td>0.0</td>\n",
       "      <td>0.0</td>\n",
       "      <td>1.0</td>\n",
       "      <td>1945.132761</td>\n",
       "      <td>0.0</td>\n",
       "      <td>JAM</td>\n",
       "    </tr>\n",
       "    <tr>\n",
       "      <th>52.0</th>\n",
       "      <td>0.0</td>\n",
       "      <td>0</td>\n",
       "      <td>0.0</td>\n",
       "      <td>0.0</td>\n",
       "      <td>0.0</td>\n",
       "      <td>0.0</td>\n",
       "      <td>3562.104294</td>\n",
       "      <td>0.0</td>\n",
       "      <td>TTO</td>\n",
       "    </tr>\n",
       "    <tr>\n",
       "      <th>70.0</th>\n",
       "      <td>2.0</td>\n",
       "      <td>[182047, 182048]</td>\n",
       "      <td>0.0</td>\n",
       "      <td>0.0</td>\n",
       "      <td>0.0</td>\n",
       "      <td>3.0</td>\n",
       "      <td>2967.677913</td>\n",
       "      <td>0.0</td>\n",
       "      <td>MEX</td>\n",
       "    </tr>\n",
       "    <tr>\n",
       "      <th>80.0</th>\n",
       "      <td>0.0</td>\n",
       "      <td>0</td>\n",
       "      <td>0.0</td>\n",
       "      <td>0.0</td>\n",
       "      <td>0.0</td>\n",
       "      <td>0.0</td>\n",
       "      <td>1979.342672</td>\n",
       "      <td>0.0</td>\n",
       "      <td>BLZ</td>\n",
       "    </tr>\n",
       "  </tbody>\n",
       "</table>\n",
       "</div>"
      ],
      "text/plain": [
       "                   number_of_events                         events_id  \\\n",
       "year   country_id                                                       \n",
       "1989.0 2.0                      0.0                                 0   \n",
       "       20.0                     0.0                                 0   \n",
       "       31.0                     0.0                                 0   \n",
       "       40.0                     0.0                                []   \n",
       "       41.0                     4.0  [186087, 186122, 186123, 186124]   \n",
       "       42.0                     0.0                                 0   \n",
       "       51.0                     1.0                          [107752]   \n",
       "       52.0                     0.0                                 0   \n",
       "       70.0                     2.0                  [182047, 182048]   \n",
       "       80.0                     0.0                                 0   \n",
       "\n",
       "                   displacement_extern  displacement_intern  \\\n",
       "year   country_id                                             \n",
       "1989.0 2.0                         0.0                  0.0   \n",
       "       20.0                        0.0                  0.0   \n",
       "       31.0                        0.0                  0.0   \n",
       "       40.0                     7682.0                  0.0   \n",
       "       41.0                     3344.0                  0.0   \n",
       "       42.0                        0.0                  0.0   \n",
       "       51.0                        0.0                  0.0   \n",
       "       52.0                        0.0                  0.0   \n",
       "       70.0                        0.0                  0.0   \n",
       "       80.0                        0.0                  0.0   \n",
       "\n",
       "                   total_displacement  deaths           gdp  hdi country_code  \n",
       "year   country_id                                                              \n",
       "1989.0 2.0                        0.0     0.0  22599.992143  0.0          USA  \n",
       "       20.0                       0.0     0.0  20700.799311  0.0          CAN  \n",
       "       31.0                       0.0     0.0  14213.543372  0.0          BHS  \n",
       "       40.0                    7682.0     0.0   2577.207019  0.0          CUB  \n",
       "       41.0                    3344.0    48.0    393.347528  0.0          HTI  \n",
       "       42.0                       0.0     0.0   2604.425557  0.0          DOM  \n",
       "       51.0                       0.0     1.0   1945.132761  0.0          JAM  \n",
       "       52.0                       0.0     0.0   3562.104294  0.0          TTO  \n",
       "       70.0                       0.0     3.0   2967.677913  0.0          MEX  \n",
       "       80.0                       0.0     0.0   1979.342672  0.0          BLZ  "
      ]
     },
     "metadata": {},
     "output_type": "display_data"
    }
   ],
   "source": [
    "display(country_human_cost_df.head(5))"
   ]
  },
  {
   "cell_type": "code",
   "execution_count": null,
   "metadata": {
    "ExecuteTime": {
     "end_time": "2017-12-16T23:12:54.396986Z",
     "start_time": "2017-12-16T23:12:54.377567Z"
    },
    "collapsed": true
   },
   "outputs": [],
   "source": [
    "world = gpd.read_file(gpd.datasets.get_path('naturalearth_lowres'))"
   ]
  },
  {
   "cell_type": "code",
   "execution_count": null,
   "metadata": {
    "ExecuteTime": {
     "end_time": "2017-12-16T23:12:54.422266Z",
     "start_time": "2017-12-16T23:12:54.398400Z"
    }
   },
   "outputs": [],
   "source": [
    "world.head(5)"
   ]
  },
  {
   "cell_type": "code",
   "execution_count": null,
   "metadata": {
    "ExecuteTime": {
     "end_time": "2017-12-16T23:12:54.440782Z",
     "start_time": "2017-12-16T23:12:54.424179Z"
    }
   },
   "outputs": [],
   "source": [
    "indexed_world = world.set_index([\"iso_a3\"])\n",
    "display(indexed_world.head(5))"
   ]
  },
  {
   "cell_type": "code",
   "execution_count": null,
   "metadata": {
    "ExecuteTime": {
     "end_time": "2017-12-16T23:12:59.623726Z",
     "start_time": "2017-12-16T23:12:54.442712Z"
    }
   },
   "outputs": [],
   "source": [
    "geometry = pd.DataFrame([], columns=[\"year\", \"country_id\", \"geometry\"])\n",
    "for row in country_human_cost_df.itertuples():\n",
    "    geometry_val = indexed_world.loc[row.country_code, \"geometry\"]\n",
    "    temp_geo = pd.DataFrame([[row.Index[0], row.Index[1], geometry_val]], columns=[\"year\", \"country_id\", \"geometry\"])\n",
    "    geometry = pd.concat([geometry, temp_geo])\n",
    "display(geometry.head(5))"
   ]
  },
  {
   "cell_type": "code",
   "execution_count": null,
   "metadata": {
    "ExecuteTime": {
     "end_time": "2017-12-16T23:12:59.629334Z",
     "start_time": "2017-12-16T23:12:59.625126Z"
    },
    "collapsed": true
   },
   "outputs": [],
   "source": [
    "geometry = geometry.set_index([\"year\", \"country_id\"])"
   ]
  },
  {
   "cell_type": "code",
   "execution_count": null,
   "metadata": {
    "ExecuteTime": {
     "end_time": "2017-12-16T23:12:59.638310Z",
     "start_time": "2017-12-16T23:12:59.630528Z"
    },
    "collapsed": true
   },
   "outputs": [],
   "source": [
    "crs = {'init': 'epsg:4326'}\n",
    "human_cost_gdf = gpd.GeoDataFrame(country_human_cost_df, crs=crs, geometry=geometry.geometry.values)"
   ]
  },
  {
   "cell_type": "code",
   "execution_count": null,
   "metadata": {
    "ExecuteTime": {
     "end_time": "2017-12-16T23:12:59.673750Z",
     "start_time": "2017-12-16T23:12:59.639702Z"
    }
   },
   "outputs": [],
   "source": [
    "display(human_cost_gdf.head(3))"
   ]
  },
  {
   "cell_type": "code",
   "execution_count": null,
   "metadata": {
    "ExecuteTime": {
     "end_time": "2017-12-16T23:12:59.698068Z",
     "start_time": "2017-12-16T23:12:59.675450Z"
    }
   },
   "outputs": [],
   "source": [
    "display(conflict_gdf.head(3))"
   ]
  },
  {
   "cell_type": "code",
   "execution_count": null,
   "metadata": {
    "ExecuteTime": {
     "end_time": "2017-12-16T23:12:59.705159Z",
     "start_time": "2017-12-16T23:12:59.699531Z"
    }
   },
   "outputs": [],
   "source": [
    "nbr_of_years = len(conflict_gdf.year.unique())\n",
    "print(nbr_of_years)"
   ]
  },
  {
   "cell_type": "code",
   "execution_count": null,
   "metadata": {
    "ExecuteTime": {
     "end_time": "2017-12-16T23:12:59.725476Z",
     "start_time": "2017-12-16T23:12:59.706564Z"
    }
   },
   "outputs": [],
   "source": [
    "def gen_map_event_with_col(human_cost_gdf, conflict_gdf, column=\"total_displacement\", name=\"map_event_deaths\"):\n",
    "    fig, ax = plt.subplots(ncols=2, nrows=14, figsize=(20,100))\n",
    "\n",
    "    for centered_year in tqdm(range(nbr_of_years)):\n",
    "        row = centered_year // 2\n",
    "        col = centered_year % 2\n",
    "        conflict_gdf_subset = conflict_gdf.loc[conflict_gdf.year == 1989+centered_year]\n",
    "        world.plot(ax=ax[row, col], color='white', edgecolor='black')\n",
    "        human_cost_gdf.loc[1989+centered_year].plot(ax=ax[row, col], column=column, cmap=\"GnBu\", scheme='quantiles', legend=column)\n",
    "        conflict_gdf_subset.plot(ax=ax[row, col], markersize=np.log2(conflict_gdf_subset.loc[:, \"best\"]), alpha=0.5, cmap=\"YlOrRd\", legend=\"Event Deaths\")\n",
    "        ax[row, col].legend(pos=3) \n",
    "        ax[row, col].set_title(\"{}\".format(1989+centered_year))\n",
    "    fig.savefig(os.path.join(\"results\", \"{}_{}.png\".format(name,column)))\n",
    "    fig.clf()\n"
   ]
  },
  {
   "cell_type": "code",
   "execution_count": null,
   "metadata": {
    "ExecuteTime": {
     "end_time": "2017-12-16T23:16:15.136817Z",
     "start_time": "2017-12-16T23:12:59.727605Z"
    }
   },
   "outputs": [],
   "source": [
    "# gen maps for total displacement and gdp with events\n",
    "gen_map_event_with_col(human_cost_gdf, conflict_gdf, column=\"total_displacement\", name=\"map_event_deaths\")\n",
    "gen_map_event_with_col(human_cost_gdf, conflict_gdf, column=\"gdp\", name=\"map_event_deaths\")"
   ]
  },
  {
   "cell_type": "code",
   "execution_count": null,
   "metadata": {
    "ExecuteTime": {
     "end_time": "2017-12-16T23:16:15.151905Z",
     "start_time": "2017-12-16T23:16:15.138132Z"
    }
   },
   "outputs": [],
   "source": [
    "# Calculate data correlations\n",
    "print(\"Total_displacement\")\n",
    "print(\"Pearson: \", stats.stats.pearsonr(human_cost_gdf[\"total_displacement\"], human_cost_gdf[\"deaths\"]))\n",
    "print(\"Spearman: \", stats.stats.spearmanr(human_cost_gdf[\"total_displacement\"], human_cost_gdf[\"deaths\"]))\n",
    "print(\"GDP\")\n",
    "print(\"Pearson: \", stats.stats.pearsonr(human_cost_gdf[\"gdp\"], human_cost_gdf[\"deaths\"]))\n",
    "print(\"Spearman: \", stats.stats.spearmanr(human_cost_gdf[\"gdp\"], human_cost_gdf[\"deaths\"]))"
   ]
  },
  {
   "cell_type": "markdown",
   "metadata": {},
   "source": [
    "### Plot by conflict instead of singular event"
   ]
  },
  {
   "cell_type": "code",
   "execution_count": null,
   "metadata": {
    "ExecuteTime": {
     "end_time": "2017-12-16T23:16:15.166342Z",
     "start_time": "2017-12-16T23:16:15.153669Z"
    }
   },
   "outputs": [],
   "source": [
    "new_conflict_gdf = conflict_gdf[[\"year\", \"conflict_new_id\", \"best\", \"geometry\" ]]\n",
    "display(new_conflict_gdf.head(5))"
   ]
  },
  {
   "cell_type": "code",
   "execution_count": null,
   "metadata": {
    "ExecuteTime": {
     "end_time": "2017-12-16T23:16:15.929187Z",
     "start_time": "2017-12-16T23:16:15.167797Z"
    }
   },
   "outputs": [],
   "source": [
    "dissolved_conflict_gdf = new_conflict_gdf.dissolve(by=[\"year\", \"conflict_new_id\"], aggfunc='sum').reset_index()\n",
    "display(dissolved_conflict_gdf.head(5))"
   ]
  },
  {
   "cell_type": "code",
   "execution_count": null,
   "metadata": {
    "ExecuteTime": {
     "end_time": "2017-12-16T23:16:17.647588Z",
     "start_time": "2017-12-16T23:16:15.930511Z"
    }
   },
   "outputs": [],
   "source": [
    "new_geometry = dissolved_conflict_gdf[\"geometry\"].apply(lambda x: x if type(x) is Point or len(x) < 3 else Polygon([(p.x, p.y) for p in x]))\n",
    "dissolved_conflict_gdf.loc[:, \"geometry\"] = new_geometry\n",
    "display(dissolved_conflict_gdf.head(5))"
   ]
  },
  {
   "cell_type": "code",
   "execution_count": null,
   "metadata": {
    "ExecuteTime": {
     "end_time": "2017-12-16T23:18:13.243667Z",
     "start_time": "2017-12-16T23:16:17.649028Z"
    }
   },
   "outputs": [],
   "source": [
    "# gen maps for total displacement and gdp with conflicts\n",
    "gen_map_event_with_col(human_cost_gdf, dissolved_conflict_gdf, column=\"total_displacement\", name=\"map_conflict_deaths\")\n",
    "gen_map_event_with_col(human_cost_gdf, dissolved_conflict_gdf, column=\"gdp\", name=\"map_conflict_deaths\")"
   ]
  },
  {
   "cell_type": "markdown",
   "metadata": {
    "ExecuteTime": {
     "end_time": "2017-12-13T03:23:38.504932Z",
     "start_time": "2017-12-13T03:23:38.502456Z"
    }
   },
   "source": [
    "## Create interactive event + metric maps with folium"
   ]
  },
  {
   "cell_type": "markdown",
   "metadata": {},
   "source": [
    "### Use time slider"
   ]
  },
  {
   "cell_type": "code",
   "execution_count": 55,
   "metadata": {
    "ExecuteTime": {
     "end_time": "2017-12-17T04:16:05.739522Z",
     "start_time": "2017-12-17T04:16:05.729780Z"
    }
   },
   "outputs": [
    {
     "data": {
      "text/plain": [
       "array(['599612400', '631148400', '662684400', '694220400', '725842800',\n",
       "       '757378800', '788914800', '820450800', '852073200', '883609200',\n",
       "       '915145200', '946681200', '978303600', '1009839600', '1041375600',\n",
       "       '1072911600', '1104534000', '1136070000', '1167606000',\n",
       "       '1199142000', '1230764400', '1262300400', '1293836400',\n",
       "       '1325372400', '1356994800', '1388530800', '1420066800', '1451602800'],\n",
       "      dtype='<U10')"
      ]
     },
     "metadata": {},
     "output_type": "display_data"
    },
    {
     "data": {
      "text/plain": [
       "{1989: '599612400',\n",
       " 1990: '631148400',\n",
       " 1991: '662684400',\n",
       " 1992: '694220400',\n",
       " 1993: '725842800',\n",
       " 1994: '757378800',\n",
       " 1995: '788914800',\n",
       " 1996: '820450800',\n",
       " 1997: '852073200',\n",
       " 1998: '883609200',\n",
       " 1999: '915145200',\n",
       " 2000: '946681200',\n",
       " 2001: '978303600',\n",
       " 2002: '1009839600',\n",
       " 2003: '1041375600',\n",
       " 2004: '1072911600',\n",
       " 2005: '1104534000',\n",
       " 2006: '1136070000',\n",
       " 2007: '1167606000',\n",
       " 2008: '1199142000',\n",
       " 2009: '1230764400',\n",
       " 2010: '1262300400',\n",
       " 2011: '1293836400',\n",
       " 2012: '1325372400',\n",
       " 2013: '1356994800',\n",
       " 2014: '1388530800',\n",
       " 2015: '1420066800',\n",
       " 2016: '1451602800'}"
      ]
     },
     "metadata": {},
     "output_type": "display_data"
    }
   ],
   "source": [
    "dt_index = pd.date_range(start=pd.datetime(1989, 1, 1), periods=28, freq='AS').strftime('%s')\n",
    "year_to_dt_index_dict = {}\n",
    "for year in range(len(dt_index)):\n",
    "    year_to_dt_index_dict[year+1989] = dt_index[year]\n",
    "display(dt_index)"
   ]
  },
  {
   "cell_type": "code",
   "execution_count": null,
   "metadata": {
    "ExecuteTime": {
     "end_time": "2017-12-16T23:18:13.276896Z",
     "start_time": "2017-12-16T23:18:13.254142Z"
    }
   },
   "outputs": [],
   "source": [
    "# First we start with the chloropleth maps, its easier to manage\n",
    "display(human_cost_gdf.head(1))"
   ]
  },
  {
   "cell_type": "code",
   "execution_count": null,
   "metadata": {
    "ExecuteTime": {
     "end_time": "2017-12-16T23:18:13.282767Z",
     "start_time": "2017-12-16T23:18:13.278778Z"
    },
    "collapsed": true
   },
   "outputs": [],
   "source": [
    "def year_list_to_dt_index(year_list):\n",
    "    indexes = np.subtract(year_list, 1989).astype(int)\n",
    "    values = dt_index[indexes]\n",
    "    return values"
   ]
  },
  {
   "cell_type": "code",
   "execution_count": null,
   "metadata": {
    "ExecuteTime": {
     "end_time": "2017-12-16T23:18:13.300835Z",
     "start_time": "2017-12-16T23:18:13.284756Z"
    },
    "collapsed": true
   },
   "outputs": [],
   "source": [
    "# We will use constant opacity and variable color to represent the metrics\n",
    "def get_colormap(df, column=\"gdp\"):\n",
    "    min_value = df[column].min() \n",
    "    max_value = df[column].max() \n",
    "    cmap = linear.GnBu.scale(min_value, max_value)\n",
    "    return cmap\n",
    "\n",
    "cmap_gdp = get_colormap(human_cost_gdf, \"gdp\")\n",
    "cmap_disp = get_colormap(human_cost_gdf, \"total_displacement\")\n",
    "cmap_deaths = get_colormap(human_cost_gdf, \"deaths\")"
   ]
  },
  {
   "cell_type": "code",
   "execution_count": null,
   "metadata": {
    "ExecuteTime": {
     "end_time": "2017-12-16T23:18:13.316221Z",
     "start_time": "2017-12-16T23:18:13.302156Z"
    }
   },
   "outputs": [],
   "source": [
    "display(human_cost_gdf.index.get_level_values(1))\n",
    "human_cost_gdf.sort_index(inplace=True)"
   ]
  },
  {
   "cell_type": "code",
   "execution_count": null,
   "metadata": {
    "ExecuteTime": {
     "end_time": "2017-12-16T23:18:13.341754Z",
     "start_time": "2017-12-16T23:18:13.317803Z"
    },
    "collapsed": true,
    "run_control": {
     "marked": true
    }
   },
   "outputs": [],
   "source": [
    "def get_style_data(df, column=\"gdp\", opacity=0.7, ):\n",
    "    cmap = get_colormap(df, column)\n",
    "    style_data_dict = {}\n",
    "    nbr_of_years = len(dt_index)\n",
    "    min_color_value = \"#ffffffff\" \n",
    "    for country in df.index.get_level_values(1).unique():\n",
    "        \n",
    "        years = df.loc[(slice(None), country) , :].index.remove_unused_levels().get_level_values(0)\n",
    "        \n",
    "        partial_color_list = df.loc[(slice(None), country), column].apply(cmap).values\n",
    "        partial_opacity_list = np.full(nbr_of_years, opacity)\n",
    "        color_list = np.full(nbr_of_years, min_color_value)\n",
    "        for index, year in enumerate(years):\n",
    "            color_list[np.where(dt_index == year_to_dt_index_dict[year])] = partial_color_list[index]\n",
    "        opacity_list = np.full(nbr_of_years, opacity)\n",
    "        \n",
    "        local_df = pd.DataFrame(\n",
    "            {'color' : color_list,\n",
    "             'opacity' : opacity_list},\n",
    "             index=dt_index\n",
    "        )\n",
    "        local_df = local_df.sort_index()\n",
    "        style_data_dict[str(int(country))] = local_df.to_dict(orient='index')\n",
    "    return style_data_dict"
   ]
  },
  {
   "cell_type": "code",
   "execution_count": null,
   "metadata": {
    "ExecuteTime": {
     "end_time": "2017-12-16T23:18:13.383899Z",
     "start_time": "2017-12-16T23:18:13.343723Z"
    },
    "run_control": {
     "marked": true
    }
   },
   "outputs": [],
   "source": [
    "only_country_gdf = human_cost_gdf.copy()\n",
    "try:\n",
    "    only_country_gdf.index = only_country_gdf.index.droplevel(\"year\")\n",
    "except: # If we rerun\n",
    "    pass\n",
    "only_country_gdf = only_country_gdf.iloc[~only_country_gdf.index.duplicated()].sort_index()\n",
    "only_country_gdf = only_country_gdf.reset_index()\n",
    "only_country_gdf[\"country_id\"] = only_country_gdf[\"country_id\"].astype(int)\n",
    "only_country_gdf = only_country_gdf.set_index(\"country_id\")\n",
    "display(only_country_gdf.head(5))"
   ]
  },
  {
   "cell_type": "code",
   "execution_count": null,
   "metadata": {
    "ExecuteTime": {
     "end_time": "2017-12-16T23:18:14.558526Z",
     "start_time": "2017-12-16T23:18:13.385814Z"
    }
   },
   "outputs": [],
   "source": [
    "style_dict_gdp = get_style_data(human_cost_gdf, \"gdp\", 1.0)\n",
    "print(len(style_dict_gdp))\n",
    "display(style_dict_gdp)"
   ]
  },
  {
   "cell_type": "code",
   "execution_count": null,
   "metadata": {
    "ExecuteTime": {
     "end_time": "2017-12-16T23:18:14.622194Z",
     "start_time": "2017-12-16T23:18:14.559699Z"
    }
   },
   "outputs": [],
   "source": [
    "only_country_gdf = only_country_gdf[[\"total_displacement\", \"deaths\", \"gdp\", \"geometry\"]]\n",
    "only_country_json = only_country_gdf.to_json() \n",
    "print(len(only_country_gdf))"
   ]
  },
  {
   "cell_type": "code",
   "execution_count": null,
   "metadata": {
    "ExecuteTime": {
     "end_time": "2017-12-16T23:18:15.958872Z",
     "start_time": "2017-12-16T23:18:14.623621Z"
    }
   },
   "outputs": [],
   "source": [
    "m = folium.Map(tiles='cartodbpositron', world_copy_jump = True, no_wrap=True, zoom_start=5)\n",
    "slider_gdp = plugins.TimeSliderChoropleth(\n",
    "    only_country_json,\n",
    "    styledict = get_style_data(human_cost_gdf, \"gdp\", 0.7),\n",
    "    name=\"gdp\"\n",
    ").add_to(m)\n",
    "folium.LayerControl().add_to(m)\n",
    "folium.plugins.Fullscreen().add_to(m)\n",
    "m.save(os.path.join(\"results\", \"gdp_time_slider.html\"))\n",
    "m"
   ]
  },
  {
   "cell_type": "markdown",
   "metadata": {
    "collapsed": true
   },
   "source": [
    "This result is interesting, but the time slider is somewhat buggy and we can't add the event data to the timeline... we need to find another solution"
   ]
  },
  {
   "cell_type": "markdown",
   "metadata": {},
   "source": [
    "### Use TimeStamped GeoJson"
   ]
  },
  {
   "cell_type": "code",
   "execution_count": 23,
   "metadata": {
    "ExecuteTime": {
     "end_time": "2017-12-17T04:05:37.120471Z",
     "start_time": "2017-12-17T04:05:37.116943Z"
    },
    "collapsed": true
   },
   "outputs": [],
   "source": [
    "# Time stamped GeoJson makes it possible to use custom js for each event and for each country\n",
    "# TODO:\n",
    "# 2) Recreate the timeslider with colors for country with TS.GJ\n",
    "# 3) Add the events to the TS.GJ\n",
    "# 4) Try to split them into different layers"
   ]
  },
  {
   "cell_type": "code",
   "execution_count": 379,
   "metadata": {
    "ExecuteTime": {
     "end_time": "2017-12-17T13:02:57.930453Z",
     "start_time": "2017-12-17T13:02:56.961285Z"
    }
   },
   "outputs": [],
   "source": [
    "with open(os.path.join(\"pickle\", 'distance_nx.pickle'), 'rb') as data_source:\n",
    "    distance_graph = pickle.load(data_source)"
   ]
  },
  {
   "cell_type": "code",
   "execution_count": 380,
   "metadata": {
    "ExecuteTime": {
     "end_time": "2017-12-17T13:03:13.567250Z",
     "start_time": "2017-12-17T13:02:59.633342Z"
    }
   },
   "outputs": [
    {
     "name": "stderr",
     "output_type": "stream",
     "text": [
      "100%|██████████| 136178/136178 [00:13<00:00, 9791.53it/s]   \n"
     ]
    },
    {
     "data": {
      "text/html": [
       "<div>\n",
       "<style>\n",
       "    .dataframe thead tr:only-child th {\n",
       "        text-align: right;\n",
       "    }\n",
       "\n",
       "    .dataframe thead th {\n",
       "        text-align: left;\n",
       "    }\n",
       "\n",
       "    .dataframe tbody tr th {\n",
       "        vertical-align: top;\n",
       "    }\n",
       "</style>\n",
       "<table border=\"1\" class=\"dataframe\">\n",
       "  <thead>\n",
       "    <tr style=\"text-align: right;\">\n",
       "      <th></th>\n",
       "      <th>best</th>\n",
       "      <th>conflict_id</th>\n",
       "      <th>deaths_a</th>\n",
       "      <th>deaths_b</th>\n",
       "      <th>deaths_civilians</th>\n",
       "      <th>gwnoa</th>\n",
       "      <th>gwnob</th>\n",
       "      <th>latitude</th>\n",
       "      <th>longitude</th>\n",
       "      <th>side_a</th>\n",
       "      <th>side_b</th>\n",
       "      <th>type_of_violence</th>\n",
       "      <th>year</th>\n",
       "    </tr>\n",
       "  </thead>\n",
       "  <tbody>\n",
       "    <tr>\n",
       "      <th>0</th>\n",
       "      <td>175.0</td>\n",
       "      <td>230.0</td>\n",
       "      <td>109.0</td>\n",
       "      <td>51.0</td>\n",
       "      <td>3.0</td>\n",
       "      <td>678.0</td>\n",
       "      <td>NaN</td>\n",
       "      <td>14.257709</td>\n",
       "      <td>45.931985</td>\n",
       "      <td>Government of Yemen (North Yemen)</td>\n",
       "      <td>AQAP</td>\n",
       "      <td>1.0</td>\n",
       "      <td>2010.0</td>\n",
       "    </tr>\n",
       "    <tr>\n",
       "      <th>1</th>\n",
       "      <td>1140.0</td>\n",
       "      <td>230.0</td>\n",
       "      <td>398.0</td>\n",
       "      <td>658.0</td>\n",
       "      <td>42.0</td>\n",
       "      <td>678.0</td>\n",
       "      <td>NaN</td>\n",
       "      <td>13.457949</td>\n",
       "      <td>45.633967</td>\n",
       "      <td>Government of Yemen (North Yemen)</td>\n",
       "      <td>AQAP</td>\n",
       "      <td>1.0</td>\n",
       "      <td>2011.0</td>\n",
       "    </tr>\n",
       "    <tr>\n",
       "      <th>2</th>\n",
       "      <td>2330.0</td>\n",
       "      <td>230.0</td>\n",
       "      <td>672.0</td>\n",
       "      <td>1534.0</td>\n",
       "      <td>45.0</td>\n",
       "      <td>678.0</td>\n",
       "      <td>NaN</td>\n",
       "      <td>13.953383</td>\n",
       "      <td>45.794770</td>\n",
       "      <td>Government of Yemen (North Yemen)</td>\n",
       "      <td>AQAP</td>\n",
       "      <td>1.0</td>\n",
       "      <td>2012.0</td>\n",
       "    </tr>\n",
       "    <tr>\n",
       "      <th>3</th>\n",
       "      <td>94.0</td>\n",
       "      <td>230.0</td>\n",
       "      <td>5.0</td>\n",
       "      <td>48.0</td>\n",
       "      <td>41.0</td>\n",
       "      <td>678.0</td>\n",
       "      <td>NaN</td>\n",
       "      <td>15.051622</td>\n",
       "      <td>46.343938</td>\n",
       "      <td>Government of Yemen (North Yemen)</td>\n",
       "      <td>AQAP</td>\n",
       "      <td>1.0</td>\n",
       "      <td>2009.0</td>\n",
       "    </tr>\n",
       "    <tr>\n",
       "      <th>4</th>\n",
       "      <td>582.0</td>\n",
       "      <td>230.0</td>\n",
       "      <td>207.0</td>\n",
       "      <td>282.0</td>\n",
       "      <td>35.0</td>\n",
       "      <td>678.0</td>\n",
       "      <td>NaN</td>\n",
       "      <td>14.564638</td>\n",
       "      <td>46.561987</td>\n",
       "      <td>Government of Yemen (North Yemen)</td>\n",
       "      <td>AQAP</td>\n",
       "      <td>1.0</td>\n",
       "      <td>2013.0</td>\n",
       "    </tr>\n",
       "    <tr>\n",
       "      <th>5</th>\n",
       "      <td>1660.0</td>\n",
       "      <td>230.0</td>\n",
       "      <td>578.0</td>\n",
       "      <td>905.0</td>\n",
       "      <td>54.0</td>\n",
       "      <td>678.0</td>\n",
       "      <td>NaN</td>\n",
       "      <td>14.727340</td>\n",
       "      <td>46.227271</td>\n",
       "      <td>Government of Yemen (North Yemen)</td>\n",
       "      <td>AQAP</td>\n",
       "      <td>1.0</td>\n",
       "      <td>2014.0</td>\n",
       "    </tr>\n",
       "    <tr>\n",
       "      <th>6</th>\n",
       "      <td>6532.0</td>\n",
       "      <td>230.0</td>\n",
       "      <td>2706.0</td>\n",
       "      <td>940.0</td>\n",
       "      <td>1483.0</td>\n",
       "      <td>678.0</td>\n",
       "      <td>NaN</td>\n",
       "      <td>14.580992</td>\n",
       "      <td>44.481574</td>\n",
       "      <td>Government of Yemen (North Yemen)</td>\n",
       "      <td>AQAP</td>\n",
       "      <td>1.0</td>\n",
       "      <td>2015.0</td>\n",
       "    </tr>\n",
       "    <tr>\n",
       "      <th>7</th>\n",
       "      <td>2536.0</td>\n",
       "      <td>230.0</td>\n",
       "      <td>810.0</td>\n",
       "      <td>528.0</td>\n",
       "      <td>585.0</td>\n",
       "      <td>678.0</td>\n",
       "      <td>NaN</td>\n",
       "      <td>15.544922</td>\n",
       "      <td>44.270784</td>\n",
       "      <td>Government of Yemen (North Yemen)</td>\n",
       "      <td>Forces of Hadi</td>\n",
       "      <td>1.0</td>\n",
       "      <td>2016.0</td>\n",
       "    </tr>\n",
       "    <tr>\n",
       "      <th>8</th>\n",
       "      <td>142.0</td>\n",
       "      <td>715.0</td>\n",
       "      <td>0.0</td>\n",
       "      <td>0.0</td>\n",
       "      <td>89.0</td>\n",
       "      <td>678.0</td>\n",
       "      <td>NaN</td>\n",
       "      <td>13.941369</td>\n",
       "      <td>44.424773</td>\n",
       "      <td>Government of Yemen (North Yemen)</td>\n",
       "      <td>Civilians</td>\n",
       "      <td>3.0</td>\n",
       "      <td>2011.0</td>\n",
       "    </tr>\n",
       "    <tr>\n",
       "      <th>9</th>\n",
       "      <td>1489.0</td>\n",
       "      <td>402.0</td>\n",
       "      <td>515.0</td>\n",
       "      <td>71.0</td>\n",
       "      <td>308.0</td>\n",
       "      <td>678.0</td>\n",
       "      <td>NaN</td>\n",
       "      <td>13.428009</td>\n",
       "      <td>45.247445</td>\n",
       "      <td>Government of Yemen (North Yemen)</td>\n",
       "      <td>Democratic Republic of Yemen</td>\n",
       "      <td>1.0</td>\n",
       "      <td>1994.0</td>\n",
       "    </tr>\n",
       "  </tbody>\n",
       "</table>\n",
       "</div>"
      ],
      "text/plain": [
       "     best  conflict_id  deaths_a  deaths_b  deaths_civilians  gwnoa  gwnob  \\\n",
       "0   175.0        230.0     109.0      51.0               3.0  678.0    NaN   \n",
       "1  1140.0        230.0     398.0     658.0              42.0  678.0    NaN   \n",
       "2  2330.0        230.0     672.0    1534.0              45.0  678.0    NaN   \n",
       "3    94.0        230.0       5.0      48.0              41.0  678.0    NaN   \n",
       "4   582.0        230.0     207.0     282.0              35.0  678.0    NaN   \n",
       "5  1660.0        230.0     578.0     905.0              54.0  678.0    NaN   \n",
       "6  6532.0        230.0    2706.0     940.0            1483.0  678.0    NaN   \n",
       "7  2536.0        230.0     810.0     528.0             585.0  678.0    NaN   \n",
       "8   142.0        715.0       0.0       0.0              89.0  678.0    NaN   \n",
       "9  1489.0        402.0     515.0      71.0             308.0  678.0    NaN   \n",
       "\n",
       "    latitude  longitude                             side_a  \\\n",
       "0  14.257709  45.931985  Government of Yemen (North Yemen)   \n",
       "1  13.457949  45.633967  Government of Yemen (North Yemen)   \n",
       "2  13.953383  45.794770  Government of Yemen (North Yemen)   \n",
       "3  15.051622  46.343938  Government of Yemen (North Yemen)   \n",
       "4  14.564638  46.561987  Government of Yemen (North Yemen)   \n",
       "5  14.727340  46.227271  Government of Yemen (North Yemen)   \n",
       "6  14.580992  44.481574  Government of Yemen (North Yemen)   \n",
       "7  15.544922  44.270784  Government of Yemen (North Yemen)   \n",
       "8  13.941369  44.424773  Government of Yemen (North Yemen)   \n",
       "9  13.428009  45.247445  Government of Yemen (North Yemen)   \n",
       "\n",
       "                         side_b  type_of_violence    year  \n",
       "0                          AQAP               1.0  2010.0  \n",
       "1                          AQAP               1.0  2011.0  \n",
       "2                          AQAP               1.0  2012.0  \n",
       "3                          AQAP               1.0  2009.0  \n",
       "4                          AQAP               1.0  2013.0  \n",
       "5                          AQAP               1.0  2014.0  \n",
       "6                          AQAP               1.0  2015.0  \n",
       "7                Forces of Hadi               1.0  2016.0  \n",
       "8                     Civilians               3.0  2011.0  \n",
       "9  Democratic Republic of Yemen               1.0  1994.0  "
      ]
     },
     "metadata": {},
     "output_type": "display_data"
    }
   ],
   "source": [
    "conflict_graph_df = pd.DataFrame([])\n",
    "for node in tqdm(distance_graph.nodes()):\n",
    "    if distance_graph.node[node][\"nature\"] == \"event\":\n",
    "        continue\n",
    "    for year in distance_graph.node[node][\"yearly_dict\"]:\n",
    "        conflict_graph_df = conflict_graph_df.append(distance_graph.node[node][\"yearly_dict\"][year],ignore_index=True)\n",
    "display(conflict_graph_df.head(10))"
   ]
  },
  {
   "cell_type": "markdown",
   "metadata": {
    "ExecuteTime": {
     "end_time": "2017-12-16T23:18:16.037564Z",
     "start_time": "2017-12-16T23:18:16.034303Z"
    }
   },
   "source": [
    "#### Get circle icons features for every events"
   ]
  },
  {
   "cell_type": "code",
   "execution_count": 502,
   "metadata": {
    "ExecuteTime": {
     "end_time": "2017-12-17T13:59:25.450509Z",
     "start_time": "2017-12-17T13:59:25.430497Z"
    }
   },
   "outputs": [],
   "source": [
    "def get_circle_icon_style_from_series(pd_series, opacity=0.7, color='green', radius_scale=1.0):\n",
    "    \"\"\"Get the icon_style to create circles with a radius influenced by the value\n",
    "       TODO: add option to cmap the color field also\n",
    "    \"\"\"\n",
    "    radius_array = list(pd_series.map(lambda val: radius_scale*np.log(val) if val != 0 else 0))\n",
    "    icon_style_dict_array = []\n",
    "    for index, val in tqdm(enumerate(radius_array)):\n",
    "        icon_style_base_dict = {}\n",
    "        icon_style_base_dict['fillColor'] = color\n",
    "        icon_style_base_dict['fillOpacity'] = opacity\n",
    "        icon_style_base_dict['opacity'] = 0\n",
    "        local_dict = icon_style_base_dict\n",
    "        local_dict['radius'] = np.asscalar(radius_array[index])\n",
    "        icon_style_dict_array.append(local_dict)\n",
    "    return icon_style_dict_array"
   ]
  },
  {
   "cell_type": "code",
   "execution_count": 503,
   "metadata": {
    "ExecuteTime": {
     "end_time": "2017-12-17T13:59:27.455265Z",
     "start_time": "2017-12-17T13:59:27.437270Z"
    }
   },
   "outputs": [],
   "source": [
    "def get_feature_circle_array(df, columns=[\"best\", \"deaths_civilians\"], opacity =[0.5, 1], color=[\"red\", \"yellow\"], radius_scale=[1.0, 1.0]):\n",
    "    \"\"\"Get the feature array for the circles. Each circles has its own params\"\"\"\n",
    "    circle_style_array = []\n",
    "    for index, column in tqdm(enumerate(columns)):\n",
    "        circle_style_array.append(get_circle_icon_style_from_series(df[column], opacity=opacity[index], color=color[index], radius_scale=radius_scale[index]))\n",
    "    # Create associated Features\n",
    "    features = [[], []]\n",
    "    for row in tqdm(df.itertuples()):\n",
    "        for index in range(len(columns)):\n",
    "            start = \"{}-01-01\".format(int(row.year))\n",
    "            end = \"{}-01-01\".format(int(row.year)+1)\n",
    "            local_marker_feature_dict = {\n",
    "                                   \"type\": \"Feature\",\n",
    "                                   \"geometry\": {\"type\": \"Point\",\n",
    "                                                \"coordinates\": [row.longitude, row.latitude]\n",
    "                                               },\n",
    "                                   \"properties\" : {\"time\": \"{}-01-01\".format(int(row.year)),\n",
    "                                                   \"icon\": \"circle\",\n",
    "                                                   \"iconstyle\": circle_style_array[index][row.Index],\n",
    "                                                   \"id\":\"cir{}_{}\".format(row.Index, index)\n",
    "                                   }\n",
    "            }\n",
    "            features[index].append(local_marker_feature_dict)\n",
    "    return features"
   ]
  },
  {
   "cell_type": "code",
   "execution_count": 526,
   "metadata": {
    "ExecuteTime": {
     "end_time": "2017-12-17T14:02:15.871887Z",
     "start_time": "2017-12-17T14:02:15.781599Z"
    }
   },
   "outputs": [
    {
     "name": "stderr",
     "output_type": "stream",
     "text": [
      "0it [00:00, ?it/s]\n",
      "0it [00:00, ?it/s]\u001b[A\n",
      "4865it [00:00, 670014.41it/s]\u001b[A\n",
      "0it [00:00, ?it/s]\u001b[A\n",
      "2it [00:00, 61.09it/s]92it/s]\u001b[A\n",
      "4865it [00:00, 110923.63it/s]\n"
     ]
    }
   ],
   "source": [
    "feature_circle_array = get_feature_circle_array(\n",
    "    conflict_graph_df,\n",
    "    columns=[\"best\", \"deaths_civilians\"],\n",
    "    opacity =[0.8, 1],\n",
    "    color=[\"red\", \"blue\"],\n",
    "    radius_scale=[1, 1]\n",
    "    )"
   ]
  },
  {
   "cell_type": "code",
   "execution_count": 527,
   "metadata": {
    "ExecuteTime": {
     "end_time": "2017-12-17T14:02:17.611714Z",
     "start_time": "2017-12-17T14:02:17.608794Z"
    }
   },
   "outputs": [
    {
     "name": "stdout",
     "output_type": "stream",
     "text": [
      "{'type': 'Feature', 'geometry': {'type': 'Point', 'coordinates': [45.633966856321884, 13.45794864942529]}, 'properties': {'time': '2011-01-01', 'icon': 'circle', 'iconstyle': {'fillColor': 'blue', 'fillOpacity': 1, 'opacity': 0, 'radius': 3.7376696182833684}, 'id': 'cir1_1'}}\n"
     ]
    }
   ],
   "source": [
    "print(feature_circle_array[1][1])"
   ]
  },
  {
   "cell_type": "markdown",
   "metadata": {},
   "source": [
    "#### Get popup marker icons features for every events"
   ]
  },
  {
   "cell_type": "code",
   "execution_count": 528,
   "metadata": {
    "ExecuteTime": {
     "end_time": "2017-12-17T14:02:19.312890Z",
     "start_time": "2017-12-17T14:02:19.296515Z"
    }
   },
   "outputs": [
    {
     "data": {
      "text/html": [
       "<div>\n",
       "<style>\n",
       "    .dataframe thead tr:only-child th {\n",
       "        text-align: right;\n",
       "    }\n",
       "\n",
       "    .dataframe thead th {\n",
       "        text-align: left;\n",
       "    }\n",
       "\n",
       "    .dataframe tbody tr th {\n",
       "        vertical-align: top;\n",
       "    }\n",
       "</style>\n",
       "<table border=\"1\" class=\"dataframe\">\n",
       "  <thead>\n",
       "    <tr style=\"text-align: right;\">\n",
       "      <th></th>\n",
       "      <th>code</th>\n",
       "      <th>name</th>\n",
       "    </tr>\n",
       "    <tr>\n",
       "      <th>id</th>\n",
       "      <th></th>\n",
       "      <th></th>\n",
       "    </tr>\n",
       "  </thead>\n",
       "  <tbody>\n",
       "    <tr>\n",
       "      <th>2</th>\n",
       "      <td>USA</td>\n",
       "      <td>United States of America</td>\n",
       "    </tr>\n",
       "  </tbody>\n",
       "</table>\n",
       "</div>"
      ],
      "text/plain": [
       "   code                      name\n",
       "id                               \n",
       "2   USA  United States of America"
      ]
     },
     "metadata": {},
     "output_type": "display_data"
    }
   ],
   "source": [
    "def extract_gnwo_countries_to_df():\n",
    "    \"\"\"Extract the countries from the gnwo and their id from the gnwo files\"\"\"\n",
    "    countries_list = []\n",
    "    # First gnwo file, contains id, code, name for all gnow numbers\n",
    "    with open(os.path.join(\"data\", \"gnwo.txt\"), \"r\") as gnow:\n",
    "        for line in gnow:\n",
    "            split_line = re.split(r'\\t+', line)\n",
    "            countries_list.append(split_line[0:3])\n",
    "    countries =  pd.DataFrame(countries_list, columns=[\"id\", \"code\" ,\"name\"])\n",
    "    countries[\"id\"] = pd.to_numeric(countries[\"id\"])\n",
    "    countries = countries.set_index(\"id\")\n",
    "    return countries\n",
    "countries = extract_gnwo_countries_to_df()\n",
    "\n",
    "display(countries.head(1))"
   ]
  },
  {
   "cell_type": "code",
   "execution_count": 529,
   "metadata": {
    "ExecuteTime": {
     "end_time": "2017-12-17T14:02:21.097413Z",
     "start_time": "2017-12-17T14:02:21.093582Z"
    }
   },
   "outputs": [],
   "source": [
    "def get_country_name(gwno):\n",
    "    try:\n",
    "        name = countries.loc[gwno, \"name\"]\n",
    "    except:\n",
    "        name = \"N/A\"\n",
    "    return name"
   ]
  },
  {
   "cell_type": "code",
   "execution_count": 530,
   "metadata": {
    "ExecuteTime": {
     "end_time": "2017-12-17T14:02:22.766750Z",
     "start_time": "2017-12-17T14:02:22.749871Z"
    },
    "collapsed": true
   },
   "outputs": [],
   "source": [
    "def get_popup_icon_style_from_conflict_type(pd_series, size=5):\n",
    "    \"\"\"Really basic function to get the icon style from the type of series, could be more complex\"\"\" \n",
    "    BASE_MARKER_NAME=\"free-map-marker-icon-\"\n",
    "    icon_style_dict_array = []\n",
    "    for index, value in enumerate(pd_series):\n",
    "        # Add more values as needed\n",
    "        icon_style_base_dict = {}\n",
    "        icon_style_base_dict['iconSize'] = [size, size]\n",
    "        local_dict = icon_style_base_dict\n",
    "        if value == 1:\n",
    "            color = 'blue'\n",
    "        elif value == 2:\n",
    "            color = 'orange'\n",
    "        elif value == 3:\n",
    "            color = 'pink'\n",
    "        #local_dict['iconColor'] = color\n",
    "        icon_name = BASE_MARKER_NAME+color+\".png\"\n",
    "        local_dict['iconUrl'] = os.path.join(\"../data\", \"icons\", icon_name)#\"http://besticons.net/sites/default/files/chat-exclamation-icon-8614.png\"\n",
    "        local_dict['iconOpacity'] = 0.1\n",
    "        local_dict['iconAnchor'] = (size//2,size)\n",
    "        icon_style_dict_array.append(local_dict)\n",
    "    return icon_style_dict_array"
   ]
  },
  {
   "cell_type": "code",
   "execution_count": 531,
   "metadata": {
    "ExecuteTime": {
     "end_time": "2017-12-17T14:02:24.476645Z",
     "start_time": "2017-12-17T14:02:24.471803Z"
    },
    "collapsed": true
   },
   "outputs": [],
   "source": [
    "base_popup_table_str = \"\"\"\n",
    "        <h3>Conflict Id: {}<h3>\n",
    "        <h4>Conflict Type: {}<h4>\n",
    "        <table style=\\\"width:100%\\\">\n",
    "          <tr>\n",
    "            <th>Side</th>\n",
    "            <th>Actor Name</th> \n",
    "            <th>Country</th>\n",
    "          </tr>\n",
    "          <tr>\n",
    "            <td>Side A</td>\n",
    "            <td>{}</td> \n",
    "            <td>{}</td>\n",
    "          </tr>\n",
    "          <tr>\n",
    "            <td>Side B</td>\n",
    "            <td>{}</td> \n",
    "            <td>{}</td>\n",
    "          </tr>\n",
    "        </table>\n",
    "        <table style=\\\"width:100%\\\">\n",
    "          <tr>\n",
    "            <th>Actor</th>\n",
    "            <th>Deaths</th> \n",
    "          </tr>\n",
    "          <tr>\n",
    "            <td>Side A</td>\n",
    "            <td>{}</td> \n",
    "          </tr>\n",
    "          <tr>\n",
    "            <td>Side B</td>\n",
    "            <td>{}</td> \n",
    "          </tr>\n",
    "          <tr>\n",
    "            <td>Civilians</td>\n",
    "            <td>{}</td> \n",
    "          </tr>\n",
    "          <tr>\n",
    "            <td>Total</td>\n",
    "            <td>{}</td> \n",
    "          </tr\n",
    "        </table>\n",
    "    \"\"\""
   ]
  },
  {
   "cell_type": "code",
   "execution_count": 532,
   "metadata": {
    "ExecuteTime": {
     "end_time": "2017-12-17T14:02:26.141425Z",
     "start_time": "2017-12-17T14:02:26.138916Z"
    },
    "collapsed": true
   },
   "outputs": [],
   "source": [
    "conflict_type_from_nbr = {\n",
    "    1:\"State Based\",\n",
    "    2:\"Non State\",\n",
    "    3:\"One Sided\",\n",
    "}"
   ]
  },
  {
   "cell_type": "code",
   "execution_count": 533,
   "metadata": {
    "ExecuteTime": {
     "end_time": "2017-12-17T14:02:27.948419Z",
     "start_time": "2017-12-17T14:02:27.925808Z"
    }
   },
   "outputs": [],
   "source": [
    "def get_feature_marker_array(df):\n",
    "    \"\"\"This function uses the extracted features to create the feature dictionnary\"\"\"\n",
    "    marker_style_array = get_popup_icon_style_from_conflict_type(df.type_of_violence, size=20)\n",
    "    features = []\n",
    "    for row in tqdm(df.itertuples()):\n",
    "        if row.best is 0:\n",
    "            continue\n",
    "        local_marker_feature_dict = {\n",
    "           \"type\": \"Feature\",\n",
    "           \"geometry\": {\"type\": \"Point\",\n",
    "                        \"coordinates\": [row.longitude, row.latitude]\n",
    "                       },\n",
    "           \"properties\" : {\"time\": \"{}-01-01\".format(int(row.year)),\n",
    "                           #\"popup\": \"<h1>{}</h1>\".format(np.asscalar(row.conflict_id)),\n",
    "                           \"popup\": base_popup_table_str.format(np.asscalar(row.conflict_id),\n",
    "                                          conflict_type_from_nbr[row.type_of_violence],\n",
    "                                          row.side_a,\n",
    "                                          get_country_name(row.gwnoa),\n",
    "                                          row.side_b,\n",
    "                                          get_country_name(row.gwnob),\n",
    "                                          np.asscalar(row.deaths_a),\n",
    "                                          np.asscalar(row.deaths_b),\n",
    "                                          np.asscalar(row.deaths_civilians),\n",
    "                                          np.asscalar(row.best)\n",
    "                                    ),\n",
    "                           \"icon\": \"marker\",\n",
    "                           \"iconstyle\": marker_style_array[row.Index],\n",
    "                           \"id\":\"marker_{}\".format(np.asscalar(row.Index))\n",
    "\n",
    "           }\n",
    "        }\n",
    "        features.append(local_marker_feature_dict)\n",
    "    return features\n",
    "        "
   ]
  },
  {
   "cell_type": "code",
   "execution_count": 534,
   "metadata": {
    "ExecuteTime": {
     "end_time": "2017-12-17T14:02:30.546383Z",
     "start_time": "2017-12-17T14:02:29.694467Z"
    }
   },
   "outputs": [
    {
     "name": "stderr",
     "output_type": "stream",
     "text": [
      "4865it [00:00, 5873.78it/s]\n"
     ]
    }
   ],
   "source": [
    "feature_marker_array = get_feature_marker_array(conflict_graph_df)"
   ]
  },
  {
   "cell_type": "code",
   "execution_count": 307,
   "metadata": {
    "ExecuteTime": {
     "end_time": "2017-12-17T07:25:39.156840Z",
     "start_time": "2017-12-17T07:25:39.153924Z"
    },
    "deletable": false,
    "editable": false,
    "run_control": {
     "frozen": true
    }
   },
   "outputs": [
    {
     "name": "stdout",
     "output_type": "stream",
     "text": [
      "{'type': 'Feature', 'geometry': {'type': 'Point', 'coordinates': [45.931985114754106, 14.257709180327867]}, 'properties': {'time': '2010-01-01', 'popup': '<h1>230.0</h1>', 'icon': 'marker', 'iconstyle': {'iconSize': [5, 5], 'iconColor': 'cadetblue', 'icon': <folium.map.Icon object at 0x7f2a3cefc630>}, 'id': 'marker_0'}}\n"
     ]
    }
   ],
   "source": [
    "print(feature_marker_array[0])"
   ]
  },
  {
   "cell_type": "markdown",
   "metadata": {},
   "source": [
    "#### Create feature for the various countries metrics"
   ]
  },
  {
   "cell_type": "markdown",
   "metadata": {},
   "source": [
    "#### Create Map"
   ]
  },
  {
   "cell_type": "code",
   "execution_count": 535,
   "metadata": {
    "ExecuteTime": {
     "end_time": "2017-12-17T14:02:34.029579Z",
     "start_time": "2017-12-17T14:02:32.128836Z"
    }
   },
   "outputs": [],
   "source": [
    "m = folium.Map(tiles='cartodbpositron', world_copy_jump = True, no_wrap=True, zoom_start=5)\n",
    "feature_group = folium.FeatureGroup(name='Total Deaths')\n",
    "\n",
    "total_deaths_circle = plugins.TimestampedGeoJson(\n",
    "    {\n",
    "        'type': 'FeatureCollection',\n",
    "        'features': feature_circle_array[0]\n",
    "    },\n",
    "    period='P1Y',\n",
    "    add_last_point=False,\n",
    "    auto_play=False,\n",
    "    loop=False,\n",
    "    max_speed=1,\n",
    "    loop_button=True,\n",
    "    date_options='YYYY',\n",
    "    time_slider_drag_update=True,\n",
    ")\n",
    "m.add_child(total_deaths_circle, name=\"Total Deaths\")\n",
    "\n",
    "civilian_deaths_circle = plugins.TimestampedGeoJson(\n",
    "    {\n",
    "        'type': 'FeatureCollection',\n",
    "        'features': feature_circle_array[1]\n",
    "    },\n",
    "    period='P1Y',\n",
    "    add_last_point=False,\n",
    "    auto_play=False,\n",
    "    loop=False,\n",
    "    max_speed=10,\n",
    "    loop_button=True,\n",
    "    date_options='YYYY',\n",
    "    time_slider_drag_update=True,\n",
    ")\n",
    "m.add_child(civilian_deaths_circle, name=\"Civilian Deaths\")\n",
    "\n",
    "popup_markers = plugins.TimestampedGeoJson(\n",
    "    {\n",
    "        'type': 'FeatureCollection',\n",
    "        'features': feature_marker_array \n",
    "    },\n",
    "    period='P1Y',\n",
    "    add_last_point=False,\n",
    "    auto_play=False,\n",
    "    loop=False,\n",
    "    max_speed=1,\n",
    "    loop_button=True,\n",
    "    date_options='YYYY',\n",
    "    time_slider_drag_update=True,\n",
    ")\n",
    "m.add_child(popup_markers, name=\"Conflict Markers\")\n",
    "\n",
    "\n",
    "folium.LayerControl().add_to(m)\n",
    "\n",
    "m.save(os.path.join('results', \"map_conflict_feature_geojson.html\"))"
   ]
  },
  {
   "cell_type": "code",
   "execution_count": 536,
   "metadata": {
    "ExecuteTime": {
     "end_time": "2017-12-17T14:02:35.861043Z",
     "start_time": "2017-12-17T14:02:35.768528Z"
    }
   },
   "outputs": [],
   "source": [
    "# HACK: We do this because of the limitations of the Folium library\n",
    "# NOTE: need to add: duration: period in the html script of the TimestampedGeoJson plugin\n",
    "#                       at the line 147, in geoJson Layer instanciation\n",
    "# First hack to have good refresh\n",
    "replace_period = '\"P11M\"'\n",
    "with fileinput.FileInput(os.path.join('results', \"map_conflict_feature_geojson.html\"), inplace=True, backup='.back') as f:\n",
    "    TEXT_TO_SEARCH = \"updateTimeDimension: \"\n",
    "    TEXT_TO_REPLACE = \"duration: {}, {}\".format(replace_period, TEXT_TO_SEARCH)\n",
    "    for line in f:\n",
    "        print(line.replace(TEXT_TO_SEARCH, TEXT_TO_REPLACE), end='')\n",
    " \n",
    "# Second hack to remove multiple occurences of the TimeDimension Control\n",
    "with fileinput.FileInput(os.path.join('results', \"map_conflict_feature_geojson.html\"), inplace=True, backup='.back') as f:      \n",
    "    counter = 0\n",
    "    TEXT_TO_SEARCH = \"L.Control.TimeDimensionCustom = L.Control.TimeDimension.extend\"\n",
    "    for line_nbr, line in enumerate(f):\n",
    "        if line_nbr < 128: # End of first map layer\n",
    "            print(line, end='')\n",
    "        # Skip lines starting from the TimeDimensionCustom\n",
    "        elif TEXT_TO_SEARCH in line:\n",
    "            print(\"//{}\".format(line),end='')\n",
    "            counter += 1\n",
    "            continue\n",
    "        elif 0 < counter < 22:\n",
    "            print(\"//{}\".format(line),end='')\n",
    "            counter += 1\n",
    "        else:\n",
    "            counter = 0\n",
    "            print(line,end='')\n"
   ]
  },
  {
   "cell_type": "code",
   "execution_count": null,
   "metadata": {
    "collapsed": true
   },
   "outputs": [],
   "source": []
  }
 ],
 "metadata": {
  "kernelspec": {
   "display_name": "Python [default]",
   "language": "python",
   "name": "python3"
  },
  "toc": {
   "nav_menu": {},
   "number_sections": true,
   "sideBar": true,
   "skip_h1_title": false,
   "toc_cell": false,
   "toc_position": {},
   "toc_section_display": "block",
   "toc_window_display": false
  },
  "varInspector": {
   "cols": {
    "lenName": 16,
    "lenType": 16,
    "lenVar": 40
   },
   "kernels_config": {
    "python": {
     "delete_cmd_postfix": "",
     "delete_cmd_prefix": "del ",
     "library": "var_list.py",
     "varRefreshCmd": "print(var_dic_list())"
    },
    "r": {
     "delete_cmd_postfix": ") ",
     "delete_cmd_prefix": "rm(",
     "library": "var_list.r",
     "varRefreshCmd": "cat(var_dic_list()) "
    }
   },
   "types_to_exclude": [
    "module",
    "function",
    "builtin_function_or_method",
    "instance",
    "_Feature"
   ],
   "window_display": false
  }
 },
 "nbformat": 4,
 "nbformat_minor": 2
}
