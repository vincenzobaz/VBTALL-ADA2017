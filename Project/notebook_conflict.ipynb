{
 "cells": [
  {
   "cell_type": "markdown",
   "metadata": {},
   "source": [
    "# Extraction and cleanup of the refugee data"
   ]
  },
  {
   "cell_type": "code",
   "execution_count": 94,
   "metadata": {
    "ExecuteTime": {
     "end_time": "2017-11-29T14:22:29.399770Z",
     "start_time": "2017-11-29T14:22:29.391402Z"
    },
    "collapsed": true
   },
   "outputs": [],
   "source": [
    "import numpy as np\n",
    "import pandas as pd\n",
    "import geopandas as gpd\n",
    "import pickle\n",
    "from tqdm import tqdm\n",
    "from bs4 import BeautifulSoup\n",
    "import matplotlib.pyplot as plt\n",
    "import shapely.wkt\n",
    "\n",
    "\n",
    "import folium\n",
    "from folium.plugins import MarkerCluster, FastMarkerCluster, HeatMapWithTime\n",
    "from folium import IFrame"
   ]
  },
  {
   "cell_type": "code",
   "execution_count": 63,
   "metadata": {
    "ExecuteTime": {
     "end_time": "2017-11-29T13:42:00.347488Z",
     "start_time": "2017-11-29T13:41:59.435527Z"
    }
   },
   "outputs": [
    {
     "data": {
      "text/html": [
       "<div>\n",
       "<style>\n",
       "    .dataframe thead tr:only-child th {\n",
       "        text-align: right;\n",
       "    }\n",
       "\n",
       "    .dataframe thead th {\n",
       "        text-align: left;\n",
       "    }\n",
       "\n",
       "    .dataframe tbody tr th {\n",
       "        vertical-align: top;\n",
       "    }\n",
       "</style>\n",
       "<table border=\"1\" class=\"dataframe\">\n",
       "  <thead>\n",
       "    <tr style=\"text-align: right;\">\n",
       "      <th></th>\n",
       "      <th>id</th>\n",
       "      <th>year</th>\n",
       "      <th>active_year</th>\n",
       "      <th>type_of_violence</th>\n",
       "      <th>conflict_new_id</th>\n",
       "      <th>conflict_name</th>\n",
       "      <th>dyad_new_id</th>\n",
       "      <th>dyad_name</th>\n",
       "      <th>side_a_new_id</th>\n",
       "      <th>gwnoa</th>\n",
       "      <th>...</th>\n",
       "      <th>date_prec</th>\n",
       "      <th>date_start</th>\n",
       "      <th>date_end</th>\n",
       "      <th>deaths_a</th>\n",
       "      <th>deaths_b</th>\n",
       "      <th>deaths_civilians</th>\n",
       "      <th>deaths_unknown</th>\n",
       "      <th>best</th>\n",
       "      <th>low</th>\n",
       "      <th>high</th>\n",
       "    </tr>\n",
       "  </thead>\n",
       "  <tbody>\n",
       "    <tr>\n",
       "      <th>0</th>\n",
       "      <td>4</td>\n",
       "      <td>2010</td>\n",
       "      <td>1</td>\n",
       "      <td>1</td>\n",
       "      <td>230</td>\n",
       "      <td>Yemen (North Yemen):Government</td>\n",
       "      <td>459</td>\n",
       "      <td>Government of Yemen (North Yemen) - AQAP</td>\n",
       "      <td>123</td>\n",
       "      <td>678.0</td>\n",
       "      <td>...</td>\n",
       "      <td>1</td>\n",
       "      <td>2010-09-25</td>\n",
       "      <td>2010-09-25</td>\n",
       "      <td>2</td>\n",
       "      <td>0</td>\n",
       "      <td>0</td>\n",
       "      <td>0</td>\n",
       "      <td>2</td>\n",
       "      <td>2</td>\n",
       "      <td>2</td>\n",
       "    </tr>\n",
       "    <tr>\n",
       "      <th>1</th>\n",
       "      <td>5</td>\n",
       "      <td>2011</td>\n",
       "      <td>1</td>\n",
       "      <td>3</td>\n",
       "      <td>715</td>\n",
       "      <td>Government of Yemen (North Yemen) - Civilians</td>\n",
       "      <td>1182</td>\n",
       "      <td>Government of Yemen (North Yemen) - Civilians</td>\n",
       "      <td>123</td>\n",
       "      <td>678.0</td>\n",
       "      <td>...</td>\n",
       "      <td>1</td>\n",
       "      <td>2011-02-19</td>\n",
       "      <td>2011-02-19</td>\n",
       "      <td>0</td>\n",
       "      <td>0</td>\n",
       "      <td>0</td>\n",
       "      <td>0</td>\n",
       "      <td>0</td>\n",
       "      <td>0</td>\n",
       "      <td>2</td>\n",
       "    </tr>\n",
       "    <tr>\n",
       "      <th>2</th>\n",
       "      <td>6</td>\n",
       "      <td>2011</td>\n",
       "      <td>1</td>\n",
       "      <td>1</td>\n",
       "      <td>230</td>\n",
       "      <td>Yemen (North Yemen):Government</td>\n",
       "      <td>459</td>\n",
       "      <td>Government of Yemen (North Yemen) - AQAP</td>\n",
       "      <td>123</td>\n",
       "      <td>678.0</td>\n",
       "      <td>...</td>\n",
       "      <td>1</td>\n",
       "      <td>2011-04-16</td>\n",
       "      <td>2011-04-16</td>\n",
       "      <td>0</td>\n",
       "      <td>0</td>\n",
       "      <td>0</td>\n",
       "      <td>0</td>\n",
       "      <td>0</td>\n",
       "      <td>0</td>\n",
       "      <td>1</td>\n",
       "    </tr>\n",
       "    <tr>\n",
       "      <th>3</th>\n",
       "      <td>7</td>\n",
       "      <td>2012</td>\n",
       "      <td>1</td>\n",
       "      <td>1</td>\n",
       "      <td>230</td>\n",
       "      <td>Yemen (North Yemen):Government</td>\n",
       "      <td>459</td>\n",
       "      <td>Government of Yemen (North Yemen) - AQAP</td>\n",
       "      <td>123</td>\n",
       "      <td>678.0</td>\n",
       "      <td>...</td>\n",
       "      <td>1</td>\n",
       "      <td>2012-06-04</td>\n",
       "      <td>2012-06-04</td>\n",
       "      <td>4</td>\n",
       "      <td>1</td>\n",
       "      <td>0</td>\n",
       "      <td>0</td>\n",
       "      <td>5</td>\n",
       "      <td>5</td>\n",
       "      <td>5</td>\n",
       "    </tr>\n",
       "    <tr>\n",
       "      <th>4</th>\n",
       "      <td>10</td>\n",
       "      <td>2012</td>\n",
       "      <td>1</td>\n",
       "      <td>1</td>\n",
       "      <td>230</td>\n",
       "      <td>Yemen (North Yemen):Government</td>\n",
       "      <td>459</td>\n",
       "      <td>Government of Yemen (North Yemen) - AQAP</td>\n",
       "      <td>123</td>\n",
       "      <td>678.0</td>\n",
       "      <td>...</td>\n",
       "      <td>1</td>\n",
       "      <td>2012-12-09</td>\n",
       "      <td>2012-12-09</td>\n",
       "      <td>0</td>\n",
       "      <td>4</td>\n",
       "      <td>1</td>\n",
       "      <td>0</td>\n",
       "      <td>5</td>\n",
       "      <td>5</td>\n",
       "      <td>5</td>\n",
       "    </tr>\n",
       "  </tbody>\n",
       "</table>\n",
       "<p>5 rows × 42 columns</p>\n",
       "</div>"
      ],
      "text/plain": [
       "   id  year  active_year  type_of_violence  conflict_new_id  \\\n",
       "0   4  2010            1                 1              230   \n",
       "1   5  2011            1                 3              715   \n",
       "2   6  2011            1                 1              230   \n",
       "3   7  2012            1                 1              230   \n",
       "4  10  2012            1                 1              230   \n",
       "\n",
       "                                   conflict_name  dyad_new_id  \\\n",
       "0                 Yemen (North Yemen):Government          459   \n",
       "1  Government of Yemen (North Yemen) - Civilians         1182   \n",
       "2                 Yemen (North Yemen):Government          459   \n",
       "3                 Yemen (North Yemen):Government          459   \n",
       "4                 Yemen (North Yemen):Government          459   \n",
       "\n",
       "                                       dyad_name  side_a_new_id  gwnoa ...   \\\n",
       "0       Government of Yemen (North Yemen) - AQAP            123  678.0 ...    \n",
       "1  Government of Yemen (North Yemen) - Civilians            123  678.0 ...    \n",
       "2       Government of Yemen (North Yemen) - AQAP            123  678.0 ...    \n",
       "3       Government of Yemen (North Yemen) - AQAP            123  678.0 ...    \n",
       "4       Government of Yemen (North Yemen) - AQAP            123  678.0 ...    \n",
       "\n",
       "  date_prec  date_start    date_end deaths_a  deaths_b deaths_civilians  \\\n",
       "0         1  2010-09-25  2010-09-25        2         0                0   \n",
       "1         1  2011-02-19  2011-02-19        0         0                0   \n",
       "2         1  2011-04-16  2011-04-16        0         0                0   \n",
       "3         1  2012-06-04  2012-06-04        4         1                0   \n",
       "4         1  2012-12-09  2012-12-09        0         4                1   \n",
       "\n",
       "  deaths_unknown best low high  \n",
       "0              0    2   2    2  \n",
       "1              0    0   0    2  \n",
       "2              0    0   0    1  \n",
       "3              0    5   5    5  \n",
       "4              0    5   5    5  \n",
       "\n",
       "[5 rows x 42 columns]"
      ]
     },
     "metadata": {},
     "output_type": "display_data"
    }
   ],
   "source": [
    "CONFLICT_DATA_PATH = \"ged171.csv\"\n",
    "raw_conflict_df = pd.read_csv(CONFLICT_DATA_PATH)\n",
    "display(raw_conflict_df.head(5))"
   ]
  },
  {
   "cell_type": "code",
   "execution_count": 64,
   "metadata": {
    "ExecuteTime": {
     "end_time": "2017-11-29T13:42:13.922569Z",
     "start_time": "2017-11-29T13:42:00.348853Z"
    }
   },
   "outputs": [
    {
     "name": "stderr",
     "output_type": "stream",
     "text": [
      "100%|██████████| 28/28 [00:13<00:00,  2.06it/s]\n"
     ]
    }
   ],
   "source": [
    "for year in tqdm(raw_conflict_df.year.unique()):\n",
    "    for conflict_new_id in raw_conflict_df[raw_conflict_df.year == year].conflict_new_id.unique():\n",
    "        subdf = raw_conflict_df[(raw_conflict_df.year == year) & (raw_conflict_df.year == year)]"
   ]
  },
  {
   "cell_type": "code",
   "execution_count": 65,
   "metadata": {
    "ExecuteTime": {
     "end_time": "2017-11-29T13:42:13.926955Z",
     "start_time": "2017-11-29T13:42:13.923887Z"
    }
   },
   "outputs": [
    {
     "name": "stdout",
     "output_type": "stream",
     "text": [
      "Index(['id', 'year', 'active_year', 'type_of_violence', 'conflict_new_id',\n",
      "       'conflict_name', 'dyad_new_id', 'dyad_name', 'side_a_new_id', 'gwnoa',\n",
      "       'side_a', 'side_b_new_id', 'gwnob', 'side_b', 'number_of_sources',\n",
      "       'source_article', 'source_office', 'source_date', 'source_headline',\n",
      "       'source_original', 'where_prec', 'where_coordinates', 'adm_1', 'adm_2',\n",
      "       'latitude', 'longitude', 'geom_wkt', 'priogrid_gid', 'country',\n",
      "       'country_id', 'region', 'event_clarity', 'date_prec', 'date_start',\n",
      "       'date_end', 'deaths_a', 'deaths_b', 'deaths_civilians',\n",
      "       'deaths_unknown', 'best', 'low', 'high'],\n",
      "      dtype='object')\n"
     ]
    }
   ],
   "source": [
    "print(raw_conflict_df.columns)"
   ]
  },
  {
   "cell_type": "code",
   "execution_count": 66,
   "metadata": {
    "ExecuteTime": {
     "end_time": "2017-11-29T13:42:13.935854Z",
     "start_time": "2017-11-29T13:42:13.928419Z"
    },
    "collapsed": true
   },
   "outputs": [],
   "source": [
    "# TODO: explain why we keep what\n",
    "KEPT_COLUMNS= ['id', 'year', 'type_of_violence', 'conflict_new_id',\n",
    "       'conflict_name', 'side_a_new_id', 'gwnoa',\n",
    "       'side_a', 'gwnob', 'side_b_new_id','side_b',\n",
    "       'where_prec', 'where_coordinates', 'adm_1', 'adm_2',\n",
    "       'latitude', 'longitude', 'geom_wkt','country',\n",
    "       'country_id','date_start', 'deaths_a', 'deaths_b',\n",
    "       'deaths_civilians',\n",
    "       'deaths_unknown', 'best'] "
   ]
  },
  {
   "cell_type": "code",
   "execution_count": 67,
   "metadata": {
    "ExecuteTime": {
     "end_time": "2017-11-29T13:42:13.954466Z",
     "start_time": "2017-11-29T13:42:13.937615Z"
    },
    "collapsed": true
   },
   "outputs": [],
   "source": [
    "conflict_df = raw_conflict_df[KEPT_COLUMNS]"
   ]
  },
  {
   "cell_type": "code",
   "execution_count": 68,
   "metadata": {
    "ExecuteTime": {
     "end_time": "2017-11-29T13:42:14.510371Z",
     "start_time": "2017-11-29T13:42:13.956514Z"
    },
    "collapsed": true
   },
   "outputs": [],
   "source": [
    "conflict_df = conflict_df.replace(to_replace=\"-[0-9]{2}-[0-9]{2}\", value=\"\", regex=True)"
   ]
  },
  {
   "cell_type": "code",
   "execution_count": 69,
   "metadata": {
    "ExecuteTime": {
     "end_time": "2017-11-29T13:42:14.534059Z",
     "start_time": "2017-11-29T13:42:14.511897Z"
    }
   },
   "outputs": [
    {
     "data": {
      "text/html": [
       "<div>\n",
       "<style>\n",
       "    .dataframe thead tr:only-child th {\n",
       "        text-align: right;\n",
       "    }\n",
       "\n",
       "    .dataframe thead th {\n",
       "        text-align: left;\n",
       "    }\n",
       "\n",
       "    .dataframe tbody tr th {\n",
       "        vertical-align: top;\n",
       "    }\n",
       "</style>\n",
       "<table border=\"1\" class=\"dataframe\">\n",
       "  <thead>\n",
       "    <tr style=\"text-align: right;\">\n",
       "      <th></th>\n",
       "      <th>id</th>\n",
       "      <th>year</th>\n",
       "      <th>type_of_violence</th>\n",
       "      <th>conflict_new_id</th>\n",
       "      <th>conflict_name</th>\n",
       "      <th>side_a_new_id</th>\n",
       "      <th>gwnoa</th>\n",
       "      <th>side_a</th>\n",
       "      <th>gwnob</th>\n",
       "      <th>side_b_new_id</th>\n",
       "      <th>...</th>\n",
       "      <th>longitude</th>\n",
       "      <th>geom_wkt</th>\n",
       "      <th>country</th>\n",
       "      <th>country_id</th>\n",
       "      <th>date_start</th>\n",
       "      <th>deaths_a</th>\n",
       "      <th>deaths_b</th>\n",
       "      <th>deaths_civilians</th>\n",
       "      <th>deaths_unknown</th>\n",
       "      <th>best</th>\n",
       "    </tr>\n",
       "  </thead>\n",
       "  <tbody>\n",
       "    <tr>\n",
       "      <th>0</th>\n",
       "      <td>4</td>\n",
       "      <td>2010</td>\n",
       "      <td>1</td>\n",
       "      <td>230</td>\n",
       "      <td>Yemen (North Yemen):Government</td>\n",
       "      <td>123</td>\n",
       "      <td>678.0</td>\n",
       "      <td>Government of Yemen (North Yemen)</td>\n",
       "      <td>NaN</td>\n",
       "      <td>881</td>\n",
       "      <td>...</td>\n",
       "      <td>44.206667</td>\n",
       "      <td>POINT (44.206667 15.354722)</td>\n",
       "      <td>Yemen (North Yemen)</td>\n",
       "      <td>678</td>\n",
       "      <td>2010</td>\n",
       "      <td>2</td>\n",
       "      <td>0</td>\n",
       "      <td>0</td>\n",
       "      <td>0</td>\n",
       "      <td>2</td>\n",
       "    </tr>\n",
       "    <tr>\n",
       "      <th>1</th>\n",
       "      <td>5</td>\n",
       "      <td>2011</td>\n",
       "      <td>3</td>\n",
       "      <td>715</td>\n",
       "      <td>Government of Yemen (North Yemen) - Civilians</td>\n",
       "      <td>123</td>\n",
       "      <td>678.0</td>\n",
       "      <td>Government of Yemen (North Yemen)</td>\n",
       "      <td>NaN</td>\n",
       "      <td>1</td>\n",
       "      <td>...</td>\n",
       "      <td>45.036667</td>\n",
       "      <td>POINT (45.036667 12.779444)</td>\n",
       "      <td>Yemen (North Yemen)</td>\n",
       "      <td>678</td>\n",
       "      <td>2011</td>\n",
       "      <td>0</td>\n",
       "      <td>0</td>\n",
       "      <td>0</td>\n",
       "      <td>0</td>\n",
       "      <td>0</td>\n",
       "    </tr>\n",
       "    <tr>\n",
       "      <th>2</th>\n",
       "      <td>6</td>\n",
       "      <td>2011</td>\n",
       "      <td>1</td>\n",
       "      <td>230</td>\n",
       "      <td>Yemen (North Yemen):Government</td>\n",
       "      <td>123</td>\n",
       "      <td>678.0</td>\n",
       "      <td>Government of Yemen (North Yemen)</td>\n",
       "      <td>NaN</td>\n",
       "      <td>881</td>\n",
       "      <td>...</td>\n",
       "      <td>46.141765</td>\n",
       "      <td>POINT (46.141765 13.786202)</td>\n",
       "      <td>Yemen (North Yemen)</td>\n",
       "      <td>678</td>\n",
       "      <td>2011</td>\n",
       "      <td>0</td>\n",
       "      <td>0</td>\n",
       "      <td>0</td>\n",
       "      <td>0</td>\n",
       "      <td>0</td>\n",
       "    </tr>\n",
       "    <tr>\n",
       "      <th>3</th>\n",
       "      <td>7</td>\n",
       "      <td>2012</td>\n",
       "      <td>1</td>\n",
       "      <td>230</td>\n",
       "      <td>Yemen (North Yemen):Government</td>\n",
       "      <td>123</td>\n",
       "      <td>678.0</td>\n",
       "      <td>Government of Yemen (North Yemen)</td>\n",
       "      <td>NaN</td>\n",
       "      <td>881</td>\n",
       "      <td>...</td>\n",
       "      <td>46.141765</td>\n",
       "      <td>POINT (46.141765 13.786202)</td>\n",
       "      <td>Yemen (North Yemen)</td>\n",
       "      <td>678</td>\n",
       "      <td>2012</td>\n",
       "      <td>4</td>\n",
       "      <td>1</td>\n",
       "      <td>0</td>\n",
       "      <td>0</td>\n",
       "      <td>5</td>\n",
       "    </tr>\n",
       "    <tr>\n",
       "      <th>4</th>\n",
       "      <td>10</td>\n",
       "      <td>2012</td>\n",
       "      <td>1</td>\n",
       "      <td>230</td>\n",
       "      <td>Yemen (North Yemen):Government</td>\n",
       "      <td>123</td>\n",
       "      <td>678.0</td>\n",
       "      <td>Government of Yemen (North Yemen)</td>\n",
       "      <td>NaN</td>\n",
       "      <td>881</td>\n",
       "      <td>...</td>\n",
       "      <td>45.300000</td>\n",
       "      <td>POINT (45.300000 15.616667)</td>\n",
       "      <td>Yemen (North Yemen)</td>\n",
       "      <td>678</td>\n",
       "      <td>2012</td>\n",
       "      <td>0</td>\n",
       "      <td>4</td>\n",
       "      <td>1</td>\n",
       "      <td>0</td>\n",
       "      <td>5</td>\n",
       "    </tr>\n",
       "  </tbody>\n",
       "</table>\n",
       "<p>5 rows × 26 columns</p>\n",
       "</div>"
      ],
      "text/plain": [
       "   id  year  type_of_violence  conflict_new_id  \\\n",
       "0   4  2010                 1              230   \n",
       "1   5  2011                 3              715   \n",
       "2   6  2011                 1              230   \n",
       "3   7  2012                 1              230   \n",
       "4  10  2012                 1              230   \n",
       "\n",
       "                                   conflict_name  side_a_new_id  gwnoa  \\\n",
       "0                 Yemen (North Yemen):Government            123  678.0   \n",
       "1  Government of Yemen (North Yemen) - Civilians            123  678.0   \n",
       "2                 Yemen (North Yemen):Government            123  678.0   \n",
       "3                 Yemen (North Yemen):Government            123  678.0   \n",
       "4                 Yemen (North Yemen):Government            123  678.0   \n",
       "\n",
       "                              side_a  gwnob  side_b_new_id  ...   longitude  \\\n",
       "0  Government of Yemen (North Yemen)    NaN            881  ...   44.206667   \n",
       "1  Government of Yemen (North Yemen)    NaN              1  ...   45.036667   \n",
       "2  Government of Yemen (North Yemen)    NaN            881  ...   46.141765   \n",
       "3  Government of Yemen (North Yemen)    NaN            881  ...   46.141765   \n",
       "4  Government of Yemen (North Yemen)    NaN            881  ...   45.300000   \n",
       "\n",
       "                      geom_wkt              country country_id date_start  \\\n",
       "0  POINT (44.206667 15.354722)  Yemen (North Yemen)        678       2010   \n",
       "1  POINT (45.036667 12.779444)  Yemen (North Yemen)        678       2011   \n",
       "2  POINT (46.141765 13.786202)  Yemen (North Yemen)        678       2011   \n",
       "3  POINT (46.141765 13.786202)  Yemen (North Yemen)        678       2012   \n",
       "4  POINT (45.300000 15.616667)  Yemen (North Yemen)        678       2012   \n",
       "\n",
       "   deaths_a  deaths_b deaths_civilians deaths_unknown  best  \n",
       "0         2         0                0              0     2  \n",
       "1         0         0                0              0     0  \n",
       "2         0         0                0              0     0  \n",
       "3         4         1                0              0     5  \n",
       "4         0         4                1              0     5  \n",
       "\n",
       "[5 rows x 26 columns]"
      ]
     },
     "execution_count": 69,
     "metadata": {},
     "output_type": "execute_result"
    }
   ],
   "source": [
    "conflict_df.head(5)"
   ]
  },
  {
   "cell_type": "code",
   "execution_count": 70,
   "metadata": {
    "ExecuteTime": {
     "end_time": "2017-11-29T13:42:14.672103Z",
     "start_time": "2017-11-29T13:42:14.535378Z"
    },
    "collapsed": true
   },
   "outputs": [],
   "source": [
    "with open('conflict.pickle', 'wb') as out:\n",
    "    pickle.dump(conflict_df, out)"
   ]
  },
  {
   "cell_type": "code",
   "execution_count": 71,
   "metadata": {
    "ExecuteTime": {
     "end_time": "2017-11-29T13:42:14.731813Z",
     "start_time": "2017-11-29T13:42:14.673300Z"
    },
    "collapsed": true
   },
   "outputs": [],
   "source": [
    "with open('conflict.pickle', 'rb') as data_source:\n",
    "    conflict_df = pickle.load(data_source)"
   ]
  }
 ],
 "metadata": {
  "kernelspec": {
   "display_name": "Python [default]",
   "language": "python",
   "name": "python3"
  },
  "language_info": {
   "codemirror_mode": {
    "name": "ipython",
    "version": 3
   },
   "file_extension": ".py",
   "mimetype": "text/x-python",
   "name": "python",
   "nbconvert_exporter": "python",
   "pygments_lexer": "ipython3",
   "version": "3.6.2"
  },
  "toc": {
   "nav_menu": {},
   "number_sections": true,
   "sideBar": true,
   "skip_h1_title": false,
   "toc_cell": false,
   "toc_position": {},
   "toc_section_display": "block",
   "toc_window_display": false
  },
  "varInspector": {
   "cols": {
    "lenName": 16,
    "lenType": 16,
    "lenVar": 40
   },
   "kernels_config": {
    "python": {
     "delete_cmd_postfix": "",
     "delete_cmd_prefix": "del ",
     "library": "var_list.py",
     "varRefreshCmd": "print(var_dic_list())"
    },
    "r": {
     "delete_cmd_postfix": ") ",
     "delete_cmd_prefix": "rm(",
     "library": "var_list.r",
     "varRefreshCmd": "cat(var_dic_list()) "
    }
   },
   "types_to_exclude": [
    "module",
    "function",
    "builtin_function_or_method",
    "instance",
    "_Feature"
   ],
   "window_display": false
  }
 },
 "nbformat": 4,
 "nbformat_minor": 2
}
