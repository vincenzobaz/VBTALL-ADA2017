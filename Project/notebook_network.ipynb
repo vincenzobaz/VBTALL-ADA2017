{
 "cells": [
  {
   "cell_type": "markdown",
   "metadata": {},
   "source": [
    "# Networking"
   ]
  },
  {
   "cell_type": "code",
   "execution_count": 82,
   "metadata": {
    "ExecuteTime": {
     "end_time": "2017-11-27T15:03:39.248004Z",
     "start_time": "2017-11-27T15:03:39.244154Z"
    },
    "collapsed": true
   },
   "outputs": [],
   "source": [
    "import numpy as np\n",
    "import pandas as pd\n",
    "import networkx as nx\n",
    "import pickle\n",
    "from tqdm import tqdm\n",
    "\n",
    "from geopy.distance import vincenty, great_circle\n"
   ]
  },
  {
   "cell_type": "code",
   "execution_count": 2,
   "metadata": {
    "ExecuteTime": {
     "end_time": "2017-11-27T13:50:53.113104Z",
     "start_time": "2017-11-27T13:50:53.051285Z"
    },
    "collapsed": true
   },
   "outputs": [],
   "source": [
    "with open('conflict.pickle', 'rb') as data_source:\n",
    "    conflict_df = pickle.load(data_source)"
   ]
  },
  {
   "cell_type": "code",
   "execution_count": 3,
   "metadata": {
    "ExecuteTime": {
     "end_time": "2017-11-27T13:50:53.118058Z",
     "start_time": "2017-11-27T13:50:53.114759Z"
    },
    "collapsed": true
   },
   "outputs": [],
   "source": [
    "with open('refugee.pickle', 'rb') as data_source:\n",
    "    refugee_df = pickle.load(data_source)"
   ]
  },
  {
   "cell_type": "code",
   "execution_count": null,
   "metadata": {
    "collapsed": true
   },
   "outputs": [],
   "source": []
  },
  {
   "cell_type": "code",
   "execution_count": 4,
   "metadata": {
    "ExecuteTime": {
     "end_time": "2017-11-27T13:50:53.160803Z",
     "start_time": "2017-11-27T13:50:53.119390Z"
    }
   },
   "outputs": [
    {
     "data": {
      "text/html": [
       "<div>\n",
       "<style>\n",
       "    .dataframe thead tr:only-child th {\n",
       "        text-align: right;\n",
       "    }\n",
       "\n",
       "    .dataframe thead th {\n",
       "        text-align: left;\n",
       "    }\n",
       "\n",
       "    .dataframe tbody tr th {\n",
       "        vertical-align: top;\n",
       "    }\n",
       "</style>\n",
       "<table border=\"1\" class=\"dataframe\">\n",
       "  <thead>\n",
       "    <tr style=\"text-align: right;\">\n",
       "      <th></th>\n",
       "      <th>id</th>\n",
       "      <th>year</th>\n",
       "      <th>type_of_violence</th>\n",
       "      <th>conflict_new_id</th>\n",
       "      <th>conflict_name</th>\n",
       "      <th>side_a_new_id</th>\n",
       "      <th>gwnoa</th>\n",
       "      <th>side_a</th>\n",
       "      <th>gwnob</th>\n",
       "      <th>side_b_new_id</th>\n",
       "      <th>...</th>\n",
       "      <th>longitude</th>\n",
       "      <th>geom_wkt</th>\n",
       "      <th>country</th>\n",
       "      <th>country_id</th>\n",
       "      <th>date_start</th>\n",
       "      <th>deaths_a</th>\n",
       "      <th>deaths_b</th>\n",
       "      <th>deaths_civilians</th>\n",
       "      <th>deaths_unknown</th>\n",
       "      <th>best</th>\n",
       "    </tr>\n",
       "  </thead>\n",
       "  <tbody>\n",
       "    <tr>\n",
       "      <th>0</th>\n",
       "      <td>4</td>\n",
       "      <td>2010</td>\n",
       "      <td>1</td>\n",
       "      <td>230</td>\n",
       "      <td>Yemen (North Yemen):Government</td>\n",
       "      <td>123</td>\n",
       "      <td>678.0</td>\n",
       "      <td>Government of Yemen (North Yemen)</td>\n",
       "      <td>NaN</td>\n",
       "      <td>881</td>\n",
       "      <td>...</td>\n",
       "      <td>44.206667</td>\n",
       "      <td>POINT (44.206667 15.354722)</td>\n",
       "      <td>Yemen (North Yemen)</td>\n",
       "      <td>678</td>\n",
       "      <td>2010</td>\n",
       "      <td>2</td>\n",
       "      <td>0</td>\n",
       "      <td>0</td>\n",
       "      <td>0</td>\n",
       "      <td>2</td>\n",
       "    </tr>\n",
       "  </tbody>\n",
       "</table>\n",
       "<p>1 rows × 26 columns</p>\n",
       "</div>"
      ],
      "text/plain": [
       "   id  year  type_of_violence  conflict_new_id  \\\n",
       "0   4  2010                 1              230   \n",
       "\n",
       "                    conflict_name  side_a_new_id  gwnoa  \\\n",
       "0  Yemen (North Yemen):Government            123  678.0   \n",
       "\n",
       "                              side_a  gwnob  side_b_new_id  ...   longitude  \\\n",
       "0  Government of Yemen (North Yemen)    NaN            881  ...   44.206667   \n",
       "\n",
       "                      geom_wkt              country country_id date_start  \\\n",
       "0  POINT (44.206667 15.354722)  Yemen (North Yemen)        678       2010   \n",
       "\n",
       "   deaths_a  deaths_b deaths_civilians deaths_unknown  best  \n",
       "0         2         0                0              0     2  \n",
       "\n",
       "[1 rows x 26 columns]"
      ]
     },
     "metadata": {},
     "output_type": "display_data"
    },
    {
     "data": {
      "text/html": [
       "<div>\n",
       "<style>\n",
       "    .dataframe thead tr:only-child th {\n",
       "        text-align: right;\n",
       "    }\n",
       "\n",
       "    .dataframe thead th {\n",
       "        text-align: left;\n",
       "    }\n",
       "\n",
       "    .dataframe tbody tr th {\n",
       "        vertical-align: top;\n",
       "    }\n",
       "</style>\n",
       "<table border=\"1\" class=\"dataframe\">\n",
       "  <thead>\n",
       "    <tr style=\"text-align: right;\">\n",
       "      <th></th>\n",
       "      <th>year</th>\n",
       "      <th>origin</th>\n",
       "      <th>refugee</th>\n",
       "      <th>asylum</th>\n",
       "      <th>internally_displaced</th>\n",
       "      <th>stateless</th>\n",
       "      <th>others</th>\n",
       "      <th>total</th>\n",
       "    </tr>\n",
       "  </thead>\n",
       "  <tbody>\n",
       "    <tr>\n",
       "      <th>0</th>\n",
       "      <td>1989.0</td>\n",
       "      <td>Dem. Rep. of the Congo</td>\n",
       "      <td>100786.0</td>\n",
       "      <td>0.0</td>\n",
       "      <td>0.0</td>\n",
       "      <td>0.0</td>\n",
       "      <td>0.0</td>\n",
       "      <td>100786.0</td>\n",
       "    </tr>\n",
       "  </tbody>\n",
       "</table>\n",
       "</div>"
      ],
      "text/plain": [
       "     year                  origin   refugee  asylum  internally_displaced  \\\n",
       "0  1989.0  Dem. Rep. of the Congo  100786.0     0.0                   0.0   \n",
       "\n",
       "   stateless  others     total  \n",
       "0        0.0     0.0  100786.0  "
      ]
     },
     "metadata": {},
     "output_type": "display_data"
    }
   ],
   "source": [
    "display(conflict_df.head(1))\n",
    "display(refugee_df.head(1))"
   ]
  },
  {
   "cell_type": "code",
   "execution_count": 5,
   "metadata": {
    "ExecuteTime": {
     "end_time": "2017-11-27T13:50:53.200253Z",
     "start_time": "2017-11-27T13:50:53.162667Z"
    }
   },
   "outputs": [
    {
     "data": {
      "text/html": [
       "<div>\n",
       "<style>\n",
       "    .dataframe thead tr:only-child th {\n",
       "        text-align: right;\n",
       "    }\n",
       "\n",
       "    .dataframe thead th {\n",
       "        text-align: left;\n",
       "    }\n",
       "\n",
       "    .dataframe tbody tr th {\n",
       "        vertical-align: top;\n",
       "    }\n",
       "</style>\n",
       "<table border=\"1\" class=\"dataframe\">\n",
       "  <thead>\n",
       "    <tr style=\"text-align: right;\">\n",
       "      <th></th>\n",
       "      <th>year</th>\n",
       "      <th>type_of_violence</th>\n",
       "      <th>conflict_new_id</th>\n",
       "      <th>conflict_name</th>\n",
       "      <th>side_a_new_id</th>\n",
       "      <th>gwnoa</th>\n",
       "      <th>side_a</th>\n",
       "      <th>gwnob</th>\n",
       "      <th>side_b_new_id</th>\n",
       "      <th>side_b</th>\n",
       "      <th>...</th>\n",
       "      <th>longitude</th>\n",
       "      <th>geom_wkt</th>\n",
       "      <th>country</th>\n",
       "      <th>country_id</th>\n",
       "      <th>date_start</th>\n",
       "      <th>deaths_a</th>\n",
       "      <th>deaths_b</th>\n",
       "      <th>deaths_civilians</th>\n",
       "      <th>deaths_unknown</th>\n",
       "      <th>best</th>\n",
       "    </tr>\n",
       "    <tr>\n",
       "      <th>id</th>\n",
       "      <th></th>\n",
       "      <th></th>\n",
       "      <th></th>\n",
       "      <th></th>\n",
       "      <th></th>\n",
       "      <th></th>\n",
       "      <th></th>\n",
       "      <th></th>\n",
       "      <th></th>\n",
       "      <th></th>\n",
       "      <th></th>\n",
       "      <th></th>\n",
       "      <th></th>\n",
       "      <th></th>\n",
       "      <th></th>\n",
       "      <th></th>\n",
       "      <th></th>\n",
       "      <th></th>\n",
       "      <th></th>\n",
       "      <th></th>\n",
       "      <th></th>\n",
       "    </tr>\n",
       "  </thead>\n",
       "  <tbody>\n",
       "    <tr>\n",
       "      <th>4</th>\n",
       "      <td>2010</td>\n",
       "      <td>1</td>\n",
       "      <td>230</td>\n",
       "      <td>Yemen (North Yemen):Government</td>\n",
       "      <td>123</td>\n",
       "      <td>678.0</td>\n",
       "      <td>Government of Yemen (North Yemen)</td>\n",
       "      <td>NaN</td>\n",
       "      <td>881</td>\n",
       "      <td>AQAP</td>\n",
       "      <td>...</td>\n",
       "      <td>44.206667</td>\n",
       "      <td>POINT (44.206667 15.354722)</td>\n",
       "      <td>Yemen (North Yemen)</td>\n",
       "      <td>678</td>\n",
       "      <td>2010</td>\n",
       "      <td>2</td>\n",
       "      <td>0</td>\n",
       "      <td>0</td>\n",
       "      <td>0</td>\n",
       "      <td>2</td>\n",
       "    </tr>\n",
       "    <tr>\n",
       "      <th>5</th>\n",
       "      <td>2011</td>\n",
       "      <td>3</td>\n",
       "      <td>715</td>\n",
       "      <td>Government of Yemen (North Yemen) - Civilians</td>\n",
       "      <td>123</td>\n",
       "      <td>678.0</td>\n",
       "      <td>Government of Yemen (North Yemen)</td>\n",
       "      <td>NaN</td>\n",
       "      <td>1</td>\n",
       "      <td>Civilians</td>\n",
       "      <td>...</td>\n",
       "      <td>45.036667</td>\n",
       "      <td>POINT (45.036667 12.779444)</td>\n",
       "      <td>Yemen (North Yemen)</td>\n",
       "      <td>678</td>\n",
       "      <td>2011</td>\n",
       "      <td>0</td>\n",
       "      <td>0</td>\n",
       "      <td>0</td>\n",
       "      <td>0</td>\n",
       "      <td>0</td>\n",
       "    </tr>\n",
       "  </tbody>\n",
       "</table>\n",
       "<p>2 rows × 25 columns</p>\n",
       "</div>"
      ],
      "text/plain": [
       "    year  type_of_violence  conflict_new_id  \\\n",
       "id                                            \n",
       "4   2010                 1              230   \n",
       "5   2011                 3              715   \n",
       "\n",
       "                                    conflict_name  side_a_new_id  gwnoa  \\\n",
       "id                                                                        \n",
       "4                  Yemen (North Yemen):Government            123  678.0   \n",
       "5   Government of Yemen (North Yemen) - Civilians            123  678.0   \n",
       "\n",
       "                               side_a  gwnob  side_b_new_id     side_b ...   \\\n",
       "id                                                                     ...    \n",
       "4   Government of Yemen (North Yemen)    NaN            881       AQAP ...    \n",
       "5   Government of Yemen (North Yemen)    NaN              1  Civilians ...    \n",
       "\n",
       "    longitude                     geom_wkt              country country_id  \\\n",
       "id                                                                           \n",
       "4   44.206667  POINT (44.206667 15.354722)  Yemen (North Yemen)        678   \n",
       "5   45.036667  POINT (45.036667 12.779444)  Yemen (North Yemen)        678   \n",
       "\n",
       "    date_start  deaths_a deaths_b deaths_civilians  deaths_unknown best  \n",
       "id                                                                       \n",
       "4         2010         2        0                0               0    2  \n",
       "5         2011         0        0                0               0    0  \n",
       "\n",
       "[2 rows x 25 columns]"
      ]
     },
     "metadata": {},
     "output_type": "display_data"
    }
   ],
   "source": [
    "# graph indexed\n",
    "conflict_df = conflict_df.set_index('id')\n",
    "display(conflict_df.head(2))"
   ]
  },
  {
   "cell_type": "code",
   "execution_count": 83,
   "metadata": {
    "ExecuteTime": {
     "end_time": "2017-11-27T15:04:11.485860Z",
     "start_time": "2017-11-27T15:04:11.468790Z"
    },
    "collapsed": true,
    "run_control": {
     "marked": true
    }
   },
   "outputs": [],
   "source": [
    "def distance_between_nodes(graph, node_1_id, node_2_id):\n",
    "    \"\"\"Get distance between two nodes by using their latitude and longitude property\"\"\"\n",
    "    pos_1 = (graph.node[node_1_id][\"latitude\"], graph.node[node_1_id][\"longitude\"])\n",
    "    pos_2 = (graph.node[node_2_id][\"latitude\"], graph.node[node_2_id][\"longitude\"])\n",
    "    # Sometime vincenty doesn't converge, just put None as weight\n",
    "    try:\n",
    "        distance = vincenty(pos_1, pos_2)\n",
    "    except:\n",
    "        # Try to get great circle distance instead\n",
    "        try:\n",
    "            distance = great_circle(pos_1, pos_2)\n",
    "        except:\n",
    "            print(\"Error: failed to get distance between node {} and node {}\".format(node_1_id, node_2_id))\n",
    "            print(\"Node 1 positions: {}\".format(pos_1))\n",
    "            print(\"Node 2 positions: {}\".format(pos_2))\n",
    "            distance = None\n",
    "    return distance\n",
    "    "
   ]
  },
  {
   "cell_type": "code",
   "execution_count": 78,
   "metadata": {
    "ExecuteTime": {
     "end_time": "2017-11-27T15:01:37.826700Z",
     "start_time": "2017-11-27T15:01:37.822225Z"
    },
    "collapsed": true
   },
   "outputs": [],
   "source": [
    "def get_conflict_lat_long(conflict_id):\n",
    "    \"\"\"Get the average latitude and longitude for a particular conflict id\"\"\"\n",
    "    longitude = conflict_df[conflict_df.conflict_new_id == conflict_id].longitude.mean()\n",
    "    latitude = conflict_df[conflict_df.conflict_new_id == conflict_id].latitude.mean()\n",
    "    return (latitude, longitude)\n",
    "    "
   ]
  },
  {
   "cell_type": "code",
   "execution_count": 79,
   "metadata": {
    "ExecuteTime": {
     "end_time": "2017-11-27T15:01:41.268717Z",
     "start_time": "2017-11-27T15:01:38.187532Z"
    }
   },
   "outputs": [],
   "source": [
    "G = nx.Graph()\n",
    "\n",
    "# Create a node for each conflict event\n",
    "G.add_nodes_from(conflict_df.index.values, nature=\"event\")\n",
    "\n",
    "# Set longitude and latitude for each node\n",
    "for index in conflict_df.index.values:\n",
    "    G.node[index][\"longitude\"] = conflict_df.loc[index, \"longitude\"]\n",
    "    G.node[index][\"latitude\"] = conflict_df.loc[index, \"latitude\"]\n",
    "\n",
    "# Create a node for each unique conflict, use a special node id to avoid conflict with events\n",
    "for conflict_id in conflict_df.conflict_new_id.unique():\n",
    "    conflict_node_name = \"conflict_{}\".format(conflict_id)\n",
    "    G.add_node(conflict_node_name, nature=\"conflict\")\n",
    "    \n",
    "    # Get the average position for the conflict\n",
    "    latitude, longitude = get_conflict_lat_long(conflict_id)\n",
    "    G.node[conflict_node_name][\"longitude\"] = longitude\n",
    "    G.node[conflict_node_name][\"latitude\"] = latitude"
   ]
  },
  {
   "cell_type": "code",
   "execution_count": 80,
   "metadata": {
    "ExecuteTime": {
     "end_time": "2017-11-27T15:01:45.147735Z",
     "start_time": "2017-11-27T15:01:41.615987Z"
    }
   },
   "outputs": [
    {
     "name": "stderr",
     "output_type": "stream",
     "text": [
      "\n",
      "  0%|          | 0/997 [00:00<?, ?it/s]\u001b[A\n",
      "  1%|          | 6/997 [00:00<00:23, 42.04it/s]\u001b[A\n",
      "  4%|▎         | 36/997 [00:00<00:06, 148.00it/s]\u001b[A\n",
      " 11%|█         | 111/997 [00:00<00:02, 321.86it/s]\u001b[A\n",
      " 14%|█▍        | 141/997 [00:00<00:02, 308.33it/s]\u001b[A\n",
      " 19%|█▉        | 191/997 [00:00<00:02, 341.19it/s]\u001b[A\n",
      " 23%|██▎       | 226/997 [00:00<00:02, 326.90it/s]\u001b[A\n",
      " 32%|███▏      | 323/997 [00:00<00:01, 394.15it/s]\u001b[A\n",
      " 37%|███▋      | 369/997 [00:00<00:01, 384.52it/s]\u001b[A\n",
      " 41%|████      | 411/997 [00:01<00:01, 387.77it/s]\u001b[A\n",
      " 52%|█████▏    | 515/997 [00:01<00:01, 436.06it/s]\u001b[A\n",
      "Exception in thread Thread-11:\n",
      "Traceback (most recent call last):\n",
      "  File \"/home/lal/Programs/anaconda3/lib/python3.6/threading.py\", line 916, in _bootstrap_inner\n",
      "    self.run()\n",
      "  File \"/home/lal/Programs/anaconda3/lib/python3.6/site-packages/tqdm/_tqdm.py\", line 144, in run\n",
      "    for instance in self.tqdm_cls._instances:\n",
      "  File \"/home/lal/Programs/anaconda3/lib/python3.6/_weakrefset.py\", line 60, in __iter__\n",
      "    for itemref in self.data:\n",
      "RuntimeError: Set changed size during iteration\n",
      "\n",
      "100%|██████████| 997/997 [00:03<00:00, 282.91it/s]\n"
     ]
    }
   ],
   "source": [
    "# Create edges from event to their conflict\n",
    "for conflict_id in tqdm(conflict_df.conflict_new_id.unique()):\n",
    "    conflict_node_name = \"conflict_{}\".format(conflict_id)\n",
    "    for event_id in conflict_df[conflict_df.conflict_new_id == conflict_id].index.values:\n",
    "        G.add_edge(conflict_node_name, event_id,\n",
    "                   weight=distance_between_nodes(G, conflict_node_name, event_id))\n",
    "        "
   ]
  },
  {
   "cell_type": "code",
   "execution_count": 84,
   "metadata": {
    "ExecuteTime": {
     "end_time": "2017-11-27T15:04:40.799850Z",
     "start_time": "2017-11-27T15:04:14.820863Z"
    }
   },
   "outputs": [
    {
     "name": "stderr",
     "output_type": "stream",
     "text": [
      "100%|██████████| 997/997 [00:25<00:00, 38.40it/s]\n"
     ]
    }
   ],
   "source": [
    "# Extract the distance between all conflicts \n",
    "for conflict_id_1 in tqdm(conflict_df.conflict_new_id.unique()):\n",
    "    conflict_node_name_1 = \"conflict_{}\".format(conflict_id_1)\n",
    "    \n",
    "    for conflict_id_2 in conflict_df.conflict_new_id.unique():   \n",
    "        conflict_node_name_2 = \"conflict_{}\".format(conflict_id_2)   \n",
    "        \n",
    "        # No self loop\n",
    "        if conflict_id_1 == conflict_id_2:\n",
    "            pass\n",
    "        \n",
    "        G.add_edge(conflict_node_name_1, conflict_node_name_2, \n",
    "                  weight=distance_between_nodes(G, conflict_node_name_1, conflict_node_name_2))"
   ]
  },
  {
   "cell_type": "code",
   "execution_count": 85,
   "metadata": {
    "ExecuteTime": {
     "end_time": "2017-11-27T15:06:39.415332Z",
     "start_time": "2017-11-27T15:06:36.424307Z"
    },
    "collapsed": true
   },
   "outputs": [],
   "source": [
    "with open('distance_nx.pickle', 'wb') as out:\n",
    "    pickle.dump(G, out)"
   ]
  },
  {
   "cell_type": "code",
   "execution_count": null,
   "metadata": {
    "collapsed": true
   },
   "outputs": [],
   "source": []
  }
 ],
 "metadata": {
  "kernelspec": {
   "display_name": "Python [default]",
   "language": "python",
   "name": "python3"
  },
  "language_info": {
   "codemirror_mode": {
    "name": "ipython",
    "version": 3
   },
   "file_extension": ".py",
   "mimetype": "text/x-python",
   "name": "python",
   "nbconvert_exporter": "python",
   "pygments_lexer": "ipython3",
   "version": "3.6.2"
  },
  "toc": {
   "nav_menu": {},
   "number_sections": true,
   "sideBar": true,
   "skip_h1_title": false,
   "toc_cell": false,
   "toc_position": {},
   "toc_section_display": "block",
   "toc_window_display": false
  },
  "varInspector": {
   "cols": {
    "lenName": 16,
    "lenType": 16,
    "lenVar": 40
   },
   "kernels_config": {
    "python": {
     "delete_cmd_postfix": "",
     "delete_cmd_prefix": "del ",
     "library": "var_list.py",
     "varRefreshCmd": "print(var_dic_list())"
    },
    "r": {
     "delete_cmd_postfix": ") ",
     "delete_cmd_prefix": "rm(",
     "library": "var_list.r",
     "varRefreshCmd": "cat(var_dic_list()) "
    }
   },
   "types_to_exclude": [
    "module",
    "function",
    "builtin_function_or_method",
    "instance",
    "_Feature"
   ],
   "window_display": false
  }
 },
 "nbformat": 4,
 "nbformat_minor": 2
}
