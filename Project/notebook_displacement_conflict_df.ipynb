{
 "cells": [
  {
   "cell_type": "markdown",
   "metadata": {},
   "source": [
    "# Distance Network "
   ]
  },
  {
   "cell_type": "code",
   "execution_count": 1,
   "metadata": {
    "ExecuteTime": {
     "end_time": "2017-11-29T02:07:10.064577Z",
     "start_time": "2017-11-29T02:07:09.474267Z"
    },
    "collapsed": true
   },
   "outputs": [],
   "source": [
    "import numpy as np\n",
    "import pandas as pd\n",
    "import networkx as nx\n",
    "import pickle\n",
    "from tqdm import tqdm\n",
    "\n",
    "from scipy import stats\n",
    "\n",
    "import re\n",
    "import unidecode"
   ]
  },
  {
   "cell_type": "code",
   "execution_count": 2,
   "metadata": {
    "ExecuteTime": {
     "end_time": "2017-11-29T02:07:10.130075Z",
     "start_time": "2017-11-29T02:07:10.066278Z"
    },
    "collapsed": true
   },
   "outputs": [],
   "source": [
    "with open('conflict.pickle', 'rb') as data_source:\n",
    "    conflict_df = pickle.load(data_source)"
   ]
  },
  {
   "cell_type": "code",
   "execution_count": 3,
   "metadata": {
    "ExecuteTime": {
     "end_time": "2017-11-29T02:07:10.134654Z",
     "start_time": "2017-11-29T02:07:10.131566Z"
    },
    "collapsed": true
   },
   "outputs": [],
   "source": [
    "with open('refugee.pickle', 'rb') as data_source:\n",
    "    refugee_df = pickle.load(data_source)"
   ]
  },
  {
   "cell_type": "markdown",
   "metadata": {},
   "source": [
    "## Combined displacement and event dataframe"
   ]
  },
  {
   "cell_type": "markdown",
   "metadata": {},
   "source": [
    "The goal of this section is to create a dataframe that links the displacement information given by the UNHCR with the events and deaths given by the GED dataset. This will be grouped by year and will keep track of the number of events and of the event identifiers.\n",
    "\n",
    "The columns will be:\n",
    "\n",
    "|country_id|year|number_of_events|events_id|displacement_extern|displacement_intern|total_displacement|deaths|\n",
    "\n",
    "where number_of_events is the number of events in a country in a year\n",
    "where events_id is an array containing the id of each event accounted for\n",
    "where displacement_extern is the sum of [refugee, asylum, stateless, others]\n",
    "where displacement_intern is the value of internally_displaced"
   ]
  },
  {
   "cell_type": "code",
   "execution_count": 4,
   "metadata": {
    "ExecuteTime": {
     "end_time": "2017-11-29T02:07:10.143633Z",
     "start_time": "2017-11-29T02:07:10.135951Z"
    },
    "collapsed": true
   },
   "outputs": [],
   "source": [
    "COUNTRY_HUMAN_COST_DF_COLUMNS = [\"country_id\", \"year\", \"number_of_events\", \"events_id\", \"displacement_extern\", \"displacement_intern\", \"total_displacement\", \"deaths\"]"
   ]
  },
  {
   "cell_type": "code",
   "execution_count": 5,
   "metadata": {
    "ExecuteTime": {
     "end_time": "2017-11-29T02:07:10.201115Z",
     "start_time": "2017-11-29T02:07:10.145084Z"
    }
   },
   "outputs": [
    {
     "data": {
      "text/html": [
       "<div>\n",
       "<style>\n",
       "    .dataframe thead tr:only-child th {\n",
       "        text-align: right;\n",
       "    }\n",
       "\n",
       "    .dataframe thead th {\n",
       "        text-align: left;\n",
       "    }\n",
       "\n",
       "    .dataframe tbody tr th {\n",
       "        vertical-align: top;\n",
       "    }\n",
       "</style>\n",
       "<table border=\"1\" class=\"dataframe\">\n",
       "  <thead>\n",
       "    <tr style=\"text-align: right;\">\n",
       "      <th></th>\n",
       "      <th>id</th>\n",
       "      <th>year</th>\n",
       "      <th>type_of_violence</th>\n",
       "      <th>conflict_new_id</th>\n",
       "      <th>conflict_name</th>\n",
       "      <th>side_a_new_id</th>\n",
       "      <th>gwnoa</th>\n",
       "      <th>side_a</th>\n",
       "      <th>gwnob</th>\n",
       "      <th>side_b_new_id</th>\n",
       "      <th>...</th>\n",
       "      <th>longitude</th>\n",
       "      <th>geom_wkt</th>\n",
       "      <th>country</th>\n",
       "      <th>country_id</th>\n",
       "      <th>date_start</th>\n",
       "      <th>deaths_a</th>\n",
       "      <th>deaths_b</th>\n",
       "      <th>deaths_civilians</th>\n",
       "      <th>deaths_unknown</th>\n",
       "      <th>best</th>\n",
       "    </tr>\n",
       "  </thead>\n",
       "  <tbody>\n",
       "    <tr>\n",
       "      <th>107883</th>\n",
       "      <td>186087</td>\n",
       "      <td>1989</td>\n",
       "      <td>1</td>\n",
       "      <td>381</td>\n",
       "      <td>Haiti:Government</td>\n",
       "      <td>6</td>\n",
       "      <td>41.0</td>\n",
       "      <td>Government of Haiti</td>\n",
       "      <td>NaN</td>\n",
       "      <td>763</td>\n",
       "      <td>...</td>\n",
       "      <td>-72.335</td>\n",
       "      <td>POINT (-72.335000 18.539170)</td>\n",
       "      <td>Haiti</td>\n",
       "      <td>41</td>\n",
       "      <td>1989</td>\n",
       "      <td>0</td>\n",
       "      <td>4</td>\n",
       "      <td>0</td>\n",
       "      <td>0</td>\n",
       "      <td>4</td>\n",
       "    </tr>\n",
       "    <tr>\n",
       "      <th>107890</th>\n",
       "      <td>186122</td>\n",
       "      <td>1989</td>\n",
       "      <td>1</td>\n",
       "      <td>381</td>\n",
       "      <td>Haiti:Government</td>\n",
       "      <td>6</td>\n",
       "      <td>41.0</td>\n",
       "      <td>Government of Haiti</td>\n",
       "      <td>NaN</td>\n",
       "      <td>763</td>\n",
       "      <td>...</td>\n",
       "      <td>-72.335</td>\n",
       "      <td>POINT (-72.335000 18.539170)</td>\n",
       "      <td>Haiti</td>\n",
       "      <td>41</td>\n",
       "      <td>1989</td>\n",
       "      <td>0</td>\n",
       "      <td>0</td>\n",
       "      <td>0</td>\n",
       "      <td>1</td>\n",
       "      <td>1</td>\n",
       "    </tr>\n",
       "  </tbody>\n",
       "</table>\n",
       "<p>2 rows × 26 columns</p>\n",
       "</div>"
      ],
      "text/plain": [
       "            id  year  type_of_violence  conflict_new_id     conflict_name  \\\n",
       "107883  186087  1989                 1              381  Haiti:Government   \n",
       "107890  186122  1989                 1              381  Haiti:Government   \n",
       "\n",
       "        side_a_new_id  gwnoa               side_a  gwnob  side_b_new_id  ...   \\\n",
       "107883              6   41.0  Government of Haiti    NaN            763  ...    \n",
       "107890              6   41.0  Government of Haiti    NaN            763  ...    \n",
       "\n",
       "       longitude                      geom_wkt country country_id date_start  \\\n",
       "107883   -72.335  POINT (-72.335000 18.539170)   Haiti         41       1989   \n",
       "107890   -72.335  POINT (-72.335000 18.539170)   Haiti         41       1989   \n",
       "\n",
       "        deaths_a  deaths_b deaths_civilians deaths_unknown  best  \n",
       "107883         0         4                0              0     4  \n",
       "107890         0         0                0              1     1  \n",
       "\n",
       "[2 rows x 26 columns]"
      ]
     },
     "execution_count": 5,
     "metadata": {},
     "output_type": "execute_result"
    }
   ],
   "source": [
    "# Sort conflict dataframe so we can easily iter through it\n",
    "sorted_conflict_df = conflict_df.sort_values([\"year\", \"country_id\"], axis=0)\n",
    "sorted_conflict_df.head(2)"
   ]
  },
  {
   "cell_type": "code",
   "execution_count": 6,
   "metadata": {
    "ExecuteTime": {
     "end_time": "2017-11-29T02:07:10.223310Z",
     "start_time": "2017-11-29T02:07:10.202670Z"
    }
   },
   "outputs": [
    {
     "data": {
      "text/html": [
       "<div>\n",
       "<style>\n",
       "    .dataframe thead tr:only-child th {\n",
       "        text-align: right;\n",
       "    }\n",
       "\n",
       "    .dataframe thead th {\n",
       "        text-align: left;\n",
       "    }\n",
       "\n",
       "    .dataframe tbody tr th {\n",
       "        vertical-align: top;\n",
       "    }\n",
       "</style>\n",
       "<table border=\"1\" class=\"dataframe\">\n",
       "  <thead>\n",
       "    <tr style=\"text-align: right;\">\n",
       "      <th></th>\n",
       "      <th>id</th>\n",
       "      <th>year</th>\n",
       "      <th>type_of_violence</th>\n",
       "      <th>conflict_new_id</th>\n",
       "      <th>conflict_name</th>\n",
       "      <th>side_a_new_id</th>\n",
       "      <th>gwnoa</th>\n",
       "      <th>side_a</th>\n",
       "      <th>gwnob</th>\n",
       "      <th>side_b_new_id</th>\n",
       "      <th>...</th>\n",
       "      <th>longitude</th>\n",
       "      <th>geom_wkt</th>\n",
       "      <th>country</th>\n",
       "      <th>country_id</th>\n",
       "      <th>date_start</th>\n",
       "      <th>deaths_a</th>\n",
       "      <th>deaths_b</th>\n",
       "      <th>deaths_civilians</th>\n",
       "      <th>deaths_unknown</th>\n",
       "      <th>best</th>\n",
       "    </tr>\n",
       "  </thead>\n",
       "  <tbody>\n",
       "    <tr>\n",
       "      <th>0</th>\n",
       "      <td>4</td>\n",
       "      <td>2010</td>\n",
       "      <td>1</td>\n",
       "      <td>230</td>\n",
       "      <td>Yemen (North Yemen):Government</td>\n",
       "      <td>123</td>\n",
       "      <td>678.0</td>\n",
       "      <td>Government of Yemen (North Yemen)</td>\n",
       "      <td>NaN</td>\n",
       "      <td>881</td>\n",
       "      <td>...</td>\n",
       "      <td>44.206667</td>\n",
       "      <td>POINT (44.206667 15.354722)</td>\n",
       "      <td>Yemen (North Yemen)</td>\n",
       "      <td>678</td>\n",
       "      <td>2010</td>\n",
       "      <td>2</td>\n",
       "      <td>0</td>\n",
       "      <td>0</td>\n",
       "      <td>0</td>\n",
       "      <td>2</td>\n",
       "    </tr>\n",
       "  </tbody>\n",
       "</table>\n",
       "<p>1 rows × 26 columns</p>\n",
       "</div>"
      ],
      "text/plain": [
       "   id  year  type_of_violence  conflict_new_id  \\\n",
       "0   4  2010                 1              230   \n",
       "\n",
       "                    conflict_name  side_a_new_id  gwnoa  \\\n",
       "0  Yemen (North Yemen):Government            123  678.0   \n",
       "\n",
       "                              side_a  gwnob  side_b_new_id  ...   longitude  \\\n",
       "0  Government of Yemen (North Yemen)    NaN            881  ...   44.206667   \n",
       "\n",
       "                      geom_wkt              country country_id date_start  \\\n",
       "0  POINT (44.206667 15.354722)  Yemen (North Yemen)        678       2010   \n",
       "\n",
       "   deaths_a  deaths_b deaths_civilians deaths_unknown  best  \n",
       "0         2         0                0              0     2  \n",
       "\n",
       "[1 rows x 26 columns]"
      ]
     },
     "metadata": {},
     "output_type": "display_data"
    }
   ],
   "source": [
    "display(conflict_df.head(1))"
   ]
  },
  {
   "cell_type": "code",
   "execution_count": 7,
   "metadata": {
    "ExecuteTime": {
     "end_time": "2017-11-29T02:07:10.234475Z",
     "start_time": "2017-11-29T02:07:10.224814Z"
    },
    "collapsed": true
   },
   "outputs": [],
   "source": [
    "refugee_df[\"country_id\"] = pd.to_numeric(refugee_df[\"country_id\"])"
   ]
  },
  {
   "cell_type": "code",
   "execution_count": 8,
   "metadata": {
    "ExecuteTime": {
     "end_time": "2017-11-29T02:07:10.540150Z",
     "start_time": "2017-11-29T02:07:10.235972Z"
    }
   },
   "outputs": [
    {
     "data": {
      "text/html": [
       "<div>\n",
       "<style>\n",
       "    .dataframe thead tr:only-child th {\n",
       "        text-align: right;\n",
       "    }\n",
       "\n",
       "    .dataframe thead th {\n",
       "        text-align: left;\n",
       "    }\n",
       "\n",
       "    .dataframe tbody tr th {\n",
       "        vertical-align: top;\n",
       "    }\n",
       "</style>\n",
       "<table border=\"1\" class=\"dataframe\">\n",
       "  <thead>\n",
       "    <tr style=\"text-align: right;\">\n",
       "      <th></th>\n",
       "      <th></th>\n",
       "      <th>refugee</th>\n",
       "      <th>asylum</th>\n",
       "      <th>internally_displaced</th>\n",
       "      <th>stateless</th>\n",
       "      <th>others</th>\n",
       "      <th>total</th>\n",
       "      <th>displacement_extern</th>\n",
       "    </tr>\n",
       "    <tr>\n",
       "      <th>year</th>\n",
       "      <th>country_id</th>\n",
       "      <th></th>\n",
       "      <th></th>\n",
       "      <th></th>\n",
       "      <th></th>\n",
       "      <th></th>\n",
       "      <th></th>\n",
       "      <th></th>\n",
       "    </tr>\n",
       "  </thead>\n",
       "  <tbody>\n",
       "    <tr>\n",
       "      <th>1989.0</th>\n",
       "      <th>490.0</th>\n",
       "      <td>100786.0</td>\n",
       "      <td>0.0</td>\n",
       "      <td>0.0</td>\n",
       "      <td>0.0</td>\n",
       "      <td>0.0</td>\n",
       "      <td>100786.0</td>\n",
       "      <td>100786.0</td>\n",
       "    </tr>\n",
       "  </tbody>\n",
       "</table>\n",
       "</div>"
      ],
      "text/plain": [
       "                    refugee  asylum  internally_displaced  stateless  others  \\\n",
       "year   country_id                                                              \n",
       "1989.0 490.0       100786.0     0.0                   0.0        0.0     0.0   \n",
       "\n",
       "                      total  displacement_extern  \n",
       "year   country_id                                 \n",
       "1989.0 490.0       100786.0             100786.0  "
      ]
     },
     "execution_count": 8,
     "metadata": {},
     "output_type": "execute_result"
    }
   ],
   "source": [
    "# Index refugee_df for easier search\n",
    "try:\n",
    "    refugee_df = refugee_df.set_index([\"year\", \"country_id\"])\n",
    "except: # if we run this two times\n",
    "    pass\n",
    "# Get the displacement_extern value\n",
    "refugee_df[\"displacement_extern\"] = refugee_df.apply(\\\n",
    "                                    lambda row: row.refugee + row.asylum + row.stateless + row.others, axis=1)\n",
    "refugee_df.head(1)"
   ]
  },
  {
   "cell_type": "code",
   "execution_count": 9,
   "metadata": {
    "ExecuteTime": {
     "end_time": "2017-11-29T02:07:10.555436Z",
     "start_time": "2017-11-29T02:07:10.541778Z"
    }
   },
   "outputs": [
    {
     "data": {
      "text/html": [
       "<div>\n",
       "<style>\n",
       "    .dataframe thead tr:only-child th {\n",
       "        text-align: right;\n",
       "    }\n",
       "\n",
       "    .dataframe thead th {\n",
       "        text-align: left;\n",
       "    }\n",
       "\n",
       "    .dataframe tbody tr th {\n",
       "        vertical-align: top;\n",
       "    }\n",
       "</style>\n",
       "<table border=\"1\" class=\"dataframe\">\n",
       "  <thead>\n",
       "    <tr style=\"text-align: right;\">\n",
       "      <th></th>\n",
       "      <th></th>\n",
       "      <th>refugee</th>\n",
       "      <th>asylum</th>\n",
       "      <th>internally_displaced</th>\n",
       "      <th>stateless</th>\n",
       "      <th>others</th>\n",
       "      <th>total</th>\n",
       "      <th>displacement_extern</th>\n",
       "    </tr>\n",
       "    <tr>\n",
       "      <th>year</th>\n",
       "      <th>country_id</th>\n",
       "      <th></th>\n",
       "      <th></th>\n",
       "      <th></th>\n",
       "      <th></th>\n",
       "      <th></th>\n",
       "      <th></th>\n",
       "      <th></th>\n",
       "    </tr>\n",
       "  </thead>\n",
       "  <tbody>\n",
       "    <tr>\n",
       "      <th rowspan=\"5\" valign=\"top\">1989.0</th>\n",
       "      <th>40.0</th>\n",
       "      <td>7682.0</td>\n",
       "      <td>0.0</td>\n",
       "      <td>0.0</td>\n",
       "      <td>0.0</td>\n",
       "      <td>0.0</td>\n",
       "      <td>7682.0</td>\n",
       "      <td>7682.0</td>\n",
       "    </tr>\n",
       "    <tr>\n",
       "      <th>41.0</th>\n",
       "      <td>3344.0</td>\n",
       "      <td>0.0</td>\n",
       "      <td>0.0</td>\n",
       "      <td>0.0</td>\n",
       "      <td>0.0</td>\n",
       "      <td>3344.0</td>\n",
       "      <td>3344.0</td>\n",
       "    </tr>\n",
       "    <tr>\n",
       "      <th>55.0</th>\n",
       "      <td>5.0</td>\n",
       "      <td>0.0</td>\n",
       "      <td>0.0</td>\n",
       "      <td>0.0</td>\n",
       "      <td>0.0</td>\n",
       "      <td>5.0</td>\n",
       "      <td>5.0</td>\n",
       "    </tr>\n",
       "    <tr>\n",
       "      <th>90.0</th>\n",
       "      <td>45413.0</td>\n",
       "      <td>0.0</td>\n",
       "      <td>0.0</td>\n",
       "      <td>0.0</td>\n",
       "      <td>0.0</td>\n",
       "      <td>45413.0</td>\n",
       "      <td>45413.0</td>\n",
       "    </tr>\n",
       "    <tr>\n",
       "      <th>91.0</th>\n",
       "      <td>5.0</td>\n",
       "      <td>0.0</td>\n",
       "      <td>0.0</td>\n",
       "      <td>0.0</td>\n",
       "      <td>0.0</td>\n",
       "      <td>5.0</td>\n",
       "      <td>5.0</td>\n",
       "    </tr>\n",
       "  </tbody>\n",
       "</table>\n",
       "</div>"
      ],
      "text/plain": [
       "                   refugee  asylum  internally_displaced  stateless  others  \\\n",
       "year   country_id                                                             \n",
       "1989.0 40.0         7682.0     0.0                   0.0        0.0     0.0   \n",
       "       41.0         3344.0     0.0                   0.0        0.0     0.0   \n",
       "       55.0            5.0     0.0                   0.0        0.0     0.0   \n",
       "       90.0        45413.0     0.0                   0.0        0.0     0.0   \n",
       "       91.0            5.0     0.0                   0.0        0.0     0.0   \n",
       "\n",
       "                     total  displacement_extern  \n",
       "year   country_id                                \n",
       "1989.0 40.0         7682.0               7682.0  \n",
       "       41.0         3344.0               3344.0  \n",
       "       55.0            5.0                  5.0  \n",
       "       90.0        45413.0              45413.0  \n",
       "       91.0            5.0                  5.0  "
      ]
     },
     "metadata": {},
     "output_type": "display_data"
    }
   ],
   "source": [
    "refugee_df = refugee_df.sort_index()\n",
    "display(refugee_df.head(5))"
   ]
  },
  {
   "cell_type": "code",
   "execution_count": 10,
   "metadata": {
    "ExecuteTime": {
     "end_time": "2017-11-29T02:07:10.559728Z",
     "start_time": "2017-11-29T02:07:10.556796Z"
    }
   },
   "outputs": [
    {
     "name": "stdout",
     "output_type": "stream",
     "text": [
      "['country_id', 'year', 'number_of_events', 'events_id', 'displacement_extern', 'displacement_intern', 'total_displacement', 'deaths']\n"
     ]
    }
   ],
   "source": [
    "print(COUNTRY_HUMAN_COST_DF_COLUMNS)"
   ]
  },
  {
   "cell_type": "code",
   "execution_count": 11,
   "metadata": {
    "ExecuteTime": {
     "end_time": "2017-11-29T02:07:10.568029Z",
     "start_time": "2017-11-29T02:07:10.561010Z"
    },
    "collapsed": true
   },
   "outputs": [],
   "source": [
    "def get_total_deaths_from_event_ids(conflict_df, event_ids):\n",
    "    \"\"\"This function will return the total deaths associated with a list of event id\"\"\"\n",
    "    deaths = 0\n",
    "    for event in event_ids:\n",
    "        index = conflict_df.index[conflict_df.id == event].tolist()[0]\n",
    "        deaths += conflict_df.loc[index, \"best\"]\n",
    "    return deaths"
   ]
  },
  {
   "cell_type": "code",
   "execution_count": 12,
   "metadata": {
    "ExecuteTime": {
     "end_time": "2017-11-29T02:07:10.582605Z",
     "start_time": "2017-11-29T02:07:10.569429Z"
    }
   },
   "outputs": [],
   "source": [
    "def get_append_series(conflict_df, refugee_df, year, country_id, event_ids=[]):\n",
    "    \"\"\"This function will create a serie to be appended to the country_human_cost_df with the proper values\n",
    "       at each column\n",
    "    \"\"\"\n",
    "    try:\n",
    "        displacement_extern = refugee_df.displacement_extern[year, country_id]\n",
    "        displacement_intern = refugee_df.internally_displaced[year, country_id]\n",
    "        total_displacement  = refugee_df.total[year, country_id]\n",
    "    except KeyError: # No value for this key\n",
    "        displacement_extern = 0\n",
    "        displacement_intern = 0\n",
    "        total_displacement  = 0\n",
    "        \n",
    "        \n",
    "    deaths = get_total_deaths_from_event_ids(conflict_df, event_ids)\n",
    "    data = [ country_id, year, len(event_ids), event_ids,\n",
    "             displacement_extern, displacement_intern,\n",
    "             total_displacement, deaths\n",
    "           ] \n",
    "    series_to_append = pd.Series(data = data, index=COUNTRY_HUMAN_COST_DF_COLUMNS)\n",
    "    return series_to_append"
   ]
  },
  {
   "cell_type": "code",
   "execution_count": 13,
   "metadata": {
    "ExecuteTime": {
     "end_time": "2017-11-29T02:08:09.001128Z",
     "start_time": "2017-11-29T02:07:10.583871Z"
    },
    "run_control": {
     "marked": true
    }
   },
   "outputs": [
    {
     "name": "stderr",
     "output_type": "stream",
     "text": [
      "0it [00:00, ?it/s]/home/lal/Programs/anaconda3/lib/python3.6/site-packages/ipykernel/zmqshell.py:533: PerformanceWarning: indexing past lexsort depth may impact performance.\n",
      "  return super(ZMQInteractiveShell, self).run_cell(*args, **kwargs)\n",
      "/home/lal/Programs/anaconda3/lib/python3.6/site-packages/IPython/core/interactiveshell.py:2802: PerformanceWarning: indexing past lexsort depth may impact performance.\n",
      "  if self.run_code(code, result):\n",
      "135181it [00:58, 2314.99it/s]\n"
     ]
    }
   ],
   "source": [
    "# Create the country_human_cost_df and fill it for each country in which there was a conflict, by year\n",
    "# Init variables\n",
    "current_year = None\n",
    "current_country_id = None\n",
    "event_ids = []\n",
    "\n",
    "country_human_cost_df = pd.DataFrame(columns=COUNTRY_HUMAN_COST_DF_COLUMNS) \n",
    "for row in tqdm(sorted_conflict_df.itertuples()):\n",
    "    # Check if we are still in the same year and country\n",
    "    if (current_year != row.year) or (current_country_id != row.country_id):\n",
    "        # If we registered event, add a row to the country_human_cost_df\n",
    "        if event_ids:\n",
    "            series_to_append = get_append_series(conflict_df, refugee_df, current_year, current_country_id, event_ids)\n",
    "            country_human_cost_df = country_human_cost_df.append(series_to_append, ignore_index=True)\n",
    "        \n",
    "        # Set the variables to the desired values\n",
    "        event_ids = []\n",
    "        current_year = row.year\n",
    "        current_country_id = row.country_id\n",
    "        \n",
    "    # Add the event to the list\n",
    "    event_ids.append(row.id)"
   ]
  },
  {
   "cell_type": "code",
   "execution_count": 14,
   "metadata": {
    "ExecuteTime": {
     "end_time": "2017-11-29T02:08:09.016749Z",
     "start_time": "2017-11-29T02:08:09.002498Z"
    }
   },
   "outputs": [
    {
     "data": {
      "text/html": [
       "<div>\n",
       "<style>\n",
       "    .dataframe thead tr:only-child th {\n",
       "        text-align: right;\n",
       "    }\n",
       "\n",
       "    .dataframe thead th {\n",
       "        text-align: left;\n",
       "    }\n",
       "\n",
       "    .dataframe tbody tr th {\n",
       "        vertical-align: top;\n",
       "    }\n",
       "</style>\n",
       "<table border=\"1\" class=\"dataframe\">\n",
       "  <thead>\n",
       "    <tr style=\"text-align: right;\">\n",
       "      <th></th>\n",
       "      <th>country_id</th>\n",
       "      <th>year</th>\n",
       "      <th>number_of_events</th>\n",
       "      <th>events_id</th>\n",
       "      <th>displacement_extern</th>\n",
       "      <th>displacement_intern</th>\n",
       "      <th>total_displacement</th>\n",
       "      <th>deaths</th>\n",
       "    </tr>\n",
       "  </thead>\n",
       "  <tbody>\n",
       "    <tr>\n",
       "      <th>0</th>\n",
       "      <td>41</td>\n",
       "      <td>1989</td>\n",
       "      <td>4</td>\n",
       "      <td>[186087, 186122, 186123, 186124]</td>\n",
       "      <td>3344</td>\n",
       "      <td>0</td>\n",
       "      <td>3344</td>\n",
       "      <td>48</td>\n",
       "    </tr>\n",
       "    <tr>\n",
       "      <th>1</th>\n",
       "      <td>51</td>\n",
       "      <td>1989</td>\n",
       "      <td>1</td>\n",
       "      <td>[107752]</td>\n",
       "      <td>0</td>\n",
       "      <td>0</td>\n",
       "      <td>0</td>\n",
       "      <td>1</td>\n",
       "    </tr>\n",
       "    <tr>\n",
       "      <th>2</th>\n",
       "      <td>70</td>\n",
       "      <td>1989</td>\n",
       "      <td>2</td>\n",
       "      <td>[182047, 182048]</td>\n",
       "      <td>0</td>\n",
       "      <td>0</td>\n",
       "      <td>0</td>\n",
       "      <td>3</td>\n",
       "    </tr>\n",
       "    <tr>\n",
       "      <th>3</th>\n",
       "      <td>90</td>\n",
       "      <td>1989</td>\n",
       "      <td>78</td>\n",
       "      <td>[193728, 193732, 193764, 193765, 193766, 19376...</td>\n",
       "      <td>45413</td>\n",
       "      <td>0</td>\n",
       "      <td>45413</td>\n",
       "      <td>491</td>\n",
       "    </tr>\n",
       "    <tr>\n",
       "      <th>4</th>\n",
       "      <td>92</td>\n",
       "      <td>1989</td>\n",
       "      <td>58</td>\n",
       "      <td>[120534, 120536, 120537, 120538, 120539, 12054...</td>\n",
       "      <td>39582</td>\n",
       "      <td>0</td>\n",
       "      <td>39582</td>\n",
       "      <td>4924</td>\n",
       "    </tr>\n",
       "  </tbody>\n",
       "</table>\n",
       "</div>"
      ],
      "text/plain": [
       "  country_id  year number_of_events  \\\n",
       "0         41  1989                4   \n",
       "1         51  1989                1   \n",
       "2         70  1989                2   \n",
       "3         90  1989               78   \n",
       "4         92  1989               58   \n",
       "\n",
       "                                           events_id displacement_extern  \\\n",
       "0                   [186087, 186122, 186123, 186124]                3344   \n",
       "1                                           [107752]                   0   \n",
       "2                                   [182047, 182048]                   0   \n",
       "3  [193728, 193732, 193764, 193765, 193766, 19376...               45413   \n",
       "4  [120534, 120536, 120537, 120538, 120539, 12054...               39582   \n",
       "\n",
       "  displacement_intern total_displacement deaths  \n",
       "0                   0               3344     48  \n",
       "1                   0                  0      1  \n",
       "2                   0                  0      3  \n",
       "3                   0              45413    491  \n",
       "4                   0              39582   4924  "
      ]
     },
     "metadata": {},
     "output_type": "display_data"
    }
   ],
   "source": [
    "display(country_human_cost_df.head(5))"
   ]
  },
  {
   "cell_type": "code",
   "execution_count": 15,
   "metadata": {
    "ExecuteTime": {
     "end_time": "2017-11-29T02:08:09.038048Z",
     "start_time": "2017-11-29T02:08:09.018079Z"
    }
   },
   "outputs": [
    {
     "data": {
      "text/html": [
       "<div>\n",
       "<style>\n",
       "    .dataframe thead tr:only-child th {\n",
       "        text-align: right;\n",
       "    }\n",
       "\n",
       "    .dataframe thead th {\n",
       "        text-align: left;\n",
       "    }\n",
       "\n",
       "    .dataframe tbody tr th {\n",
       "        vertical-align: top;\n",
       "    }\n",
       "</style>\n",
       "<table border=\"1\" class=\"dataframe\">\n",
       "  <thead>\n",
       "    <tr style=\"text-align: right;\">\n",
       "      <th></th>\n",
       "      <th></th>\n",
       "      <th>number_of_events</th>\n",
       "      <th>events_id</th>\n",
       "      <th>displacement_extern</th>\n",
       "      <th>displacement_intern</th>\n",
       "      <th>total_displacement</th>\n",
       "      <th>deaths</th>\n",
       "    </tr>\n",
       "    <tr>\n",
       "      <th>year</th>\n",
       "      <th>country_id</th>\n",
       "      <th></th>\n",
       "      <th></th>\n",
       "      <th></th>\n",
       "      <th></th>\n",
       "      <th></th>\n",
       "      <th></th>\n",
       "    </tr>\n",
       "  </thead>\n",
       "  <tbody>\n",
       "    <tr>\n",
       "      <th rowspan=\"5\" valign=\"top\">1989</th>\n",
       "      <th>41</th>\n",
       "      <td>4</td>\n",
       "      <td>[186087, 186122, 186123, 186124]</td>\n",
       "      <td>3344</td>\n",
       "      <td>0</td>\n",
       "      <td>3344</td>\n",
       "      <td>48</td>\n",
       "    </tr>\n",
       "    <tr>\n",
       "      <th>51</th>\n",
       "      <td>1</td>\n",
       "      <td>[107752]</td>\n",
       "      <td>0</td>\n",
       "      <td>0</td>\n",
       "      <td>0</td>\n",
       "      <td>1</td>\n",
       "    </tr>\n",
       "    <tr>\n",
       "      <th>70</th>\n",
       "      <td>2</td>\n",
       "      <td>[182047, 182048]</td>\n",
       "      <td>0</td>\n",
       "      <td>0</td>\n",
       "      <td>0</td>\n",
       "      <td>3</td>\n",
       "    </tr>\n",
       "    <tr>\n",
       "      <th>90</th>\n",
       "      <td>78</td>\n",
       "      <td>[193728, 193732, 193764, 193765, 193766, 19376...</td>\n",
       "      <td>45413</td>\n",
       "      <td>0</td>\n",
       "      <td>45413</td>\n",
       "      <td>491</td>\n",
       "    </tr>\n",
       "    <tr>\n",
       "      <th>92</th>\n",
       "      <td>58</td>\n",
       "      <td>[120534, 120536, 120537, 120538, 120539, 12054...</td>\n",
       "      <td>39582</td>\n",
       "      <td>0</td>\n",
       "      <td>39582</td>\n",
       "      <td>4924</td>\n",
       "    </tr>\n",
       "  </tbody>\n",
       "</table>\n",
       "</div>"
      ],
      "text/plain": [
       "                number_of_events  \\\n",
       "year country_id                    \n",
       "1989 41                        4   \n",
       "     51                        1   \n",
       "     70                        2   \n",
       "     90                       78   \n",
       "     92                       58   \n",
       "\n",
       "                                                         events_id  \\\n",
       "year country_id                                                      \n",
       "1989 41                           [186087, 186122, 186123, 186124]   \n",
       "     51                                                   [107752]   \n",
       "     70                                           [182047, 182048]   \n",
       "     90          [193728, 193732, 193764, 193765, 193766, 19376...   \n",
       "     92          [120534, 120536, 120537, 120538, 120539, 12054...   \n",
       "\n",
       "                displacement_extern displacement_intern total_displacement  \\\n",
       "year country_id                                                              \n",
       "1989 41                        3344                   0               3344   \n",
       "     51                           0                   0                  0   \n",
       "     70                           0                   0                  0   \n",
       "     90                       45413                   0              45413   \n",
       "     92                       39582                   0              39582   \n",
       "\n",
       "                deaths  \n",
       "year country_id         \n",
       "1989 41             48  \n",
       "     51              1  \n",
       "     70              3  \n",
       "     90            491  \n",
       "     92           4924  "
      ]
     },
     "execution_count": 15,
     "metadata": {},
     "output_type": "execute_result"
    }
   ],
   "source": [
    "# Index country_human_cost_df by year and country\n",
    "try:\n",
    "    country_human_cost_df = country_human_cost_df.set_index([\"year\", \"country_id\"])\n",
    "except:  # In case cell is re-run\n",
    "    pass\n",
    "country_human_cost_df = country_human_cost_df.sort_index()\n",
    "country_human_cost_df.head(5)"
   ]
  },
  {
   "cell_type": "code",
   "execution_count": 16,
   "metadata": {
    "ExecuteTime": {
     "end_time": "2017-11-29T02:08:34.150750Z",
     "start_time": "2017-11-29T02:08:09.039384Z"
    }
   },
   "outputs": [
    {
     "name": "stderr",
     "output_type": "stream",
     "text": [
      "5043it [00:25, 200.91it/s]\n"
     ]
    }
   ],
   "source": [
    "# Add the displacement informations for countries where there was no conflict\n",
    "\n",
    "for row in tqdm(refugee_df.itertuples()):\n",
    "    try:\n",
    "        country_human_cost_df[row.Index]\n",
    "    except KeyError: # The row is not in the country_human_cost_df\n",
    "        series_to_append = get_append_series(conflict_df, refugee_df, row.Index[0], row.Index[1]) \n",
    "        df_to_append = pd.DataFrame([series_to_append.transpose()])\n",
    "        df_to_append = df_to_append.set_index([\"year\", \"country_id\"])\n",
    "        country_human_cost_df = country_human_cost_df.append(df_to_append)"
   ]
  },
  {
   "cell_type": "code",
   "execution_count": 17,
   "metadata": {
    "ExecuteTime": {
     "end_time": "2017-11-29T02:08:34.168118Z",
     "start_time": "2017-11-29T02:08:34.152219Z"
    }
   },
   "outputs": [
    {
     "data": {
      "text/html": [
       "<div>\n",
       "<style>\n",
       "    .dataframe thead tr:only-child th {\n",
       "        text-align: right;\n",
       "    }\n",
       "\n",
       "    .dataframe thead th {\n",
       "        text-align: left;\n",
       "    }\n",
       "\n",
       "    .dataframe tbody tr th {\n",
       "        vertical-align: top;\n",
       "    }\n",
       "</style>\n",
       "<table border=\"1\" class=\"dataframe\">\n",
       "  <thead>\n",
       "    <tr style=\"text-align: right;\">\n",
       "      <th></th>\n",
       "      <th></th>\n",
       "      <th>number_of_events</th>\n",
       "      <th>events_id</th>\n",
       "      <th>displacement_extern</th>\n",
       "      <th>displacement_intern</th>\n",
       "      <th>total_displacement</th>\n",
       "      <th>deaths</th>\n",
       "    </tr>\n",
       "    <tr>\n",
       "      <th>year</th>\n",
       "      <th>country_id</th>\n",
       "      <th></th>\n",
       "      <th></th>\n",
       "      <th></th>\n",
       "      <th></th>\n",
       "      <th></th>\n",
       "      <th></th>\n",
       "    </tr>\n",
       "  </thead>\n",
       "  <tbody>\n",
       "    <tr>\n",
       "      <th rowspan=\"5\" valign=\"top\">1989.0</th>\n",
       "      <th>40.0</th>\n",
       "      <td>0</td>\n",
       "      <td>[]</td>\n",
       "      <td>7682</td>\n",
       "      <td>0</td>\n",
       "      <td>7682</td>\n",
       "      <td>0</td>\n",
       "    </tr>\n",
       "    <tr>\n",
       "      <th>41.0</th>\n",
       "      <td>4</td>\n",
       "      <td>[186087, 186122, 186123, 186124]</td>\n",
       "      <td>3344</td>\n",
       "      <td>0</td>\n",
       "      <td>3344</td>\n",
       "      <td>48</td>\n",
       "    </tr>\n",
       "    <tr>\n",
       "      <th>41.0</th>\n",
       "      <td>0</td>\n",
       "      <td>[]</td>\n",
       "      <td>3344</td>\n",
       "      <td>0</td>\n",
       "      <td>3344</td>\n",
       "      <td>0</td>\n",
       "    </tr>\n",
       "    <tr>\n",
       "      <th>51.0</th>\n",
       "      <td>1</td>\n",
       "      <td>[107752]</td>\n",
       "      <td>0</td>\n",
       "      <td>0</td>\n",
       "      <td>0</td>\n",
       "      <td>1</td>\n",
       "    </tr>\n",
       "    <tr>\n",
       "      <th>55.0</th>\n",
       "      <td>0</td>\n",
       "      <td>[]</td>\n",
       "      <td>5</td>\n",
       "      <td>0</td>\n",
       "      <td>5</td>\n",
       "      <td>0</td>\n",
       "    </tr>\n",
       "  </tbody>\n",
       "</table>\n",
       "</div>"
      ],
      "text/plain": [
       "                  number_of_events                         events_id  \\\n",
       "year   country_id                                                      \n",
       "1989.0 40.0                      0                                []   \n",
       "       41.0                      4  [186087, 186122, 186123, 186124]   \n",
       "       41.0                      0                                []   \n",
       "       51.0                      1                          [107752]   \n",
       "       55.0                      0                                []   \n",
       "\n",
       "                  displacement_extern displacement_intern total_displacement  \\\n",
       "year   country_id                                                              \n",
       "1989.0 40.0                      7682                   0               7682   \n",
       "       41.0                      3344                   0               3344   \n",
       "       41.0                      3344                   0               3344   \n",
       "       51.0                         0                   0                  0   \n",
       "       55.0                         5                   0                  5   \n",
       "\n",
       "                  deaths  \n",
       "year   country_id         \n",
       "1989.0 40.0            0  \n",
       "       41.0           48  \n",
       "       41.0            0  \n",
       "       51.0            1  \n",
       "       55.0            0  "
      ]
     },
     "metadata": {},
     "output_type": "display_data"
    }
   ],
   "source": [
    "country_human_cost_df = country_human_cost_df.sort_index()\n",
    "display(country_human_cost_df.head(5))"
   ]
  },
  {
   "cell_type": "code",
   "execution_count": 18,
   "metadata": {
    "ExecuteTime": {
     "end_time": "2017-11-29T02:08:34.598248Z",
     "start_time": "2017-11-29T02:08:34.169419Z"
    },
    "collapsed": true
   },
   "outputs": [],
   "source": [
    "with open('country_human_cost.pickle', 'wb') as out:\n",
    "    pickle.dump(country_human_cost_df, out)"
   ]
  },
  {
   "cell_type": "code",
   "execution_count": 19,
   "metadata": {
    "ExecuteTime": {
     "end_time": "2017-11-29T02:08:34.842932Z",
     "start_time": "2017-11-29T02:08:34.599774Z"
    },
    "collapsed": true
   },
   "outputs": [],
   "source": [
    "with open('country_human_cost.pickle', 'rb') as data_source:\n",
    "    country_human_cost_df = pickle.load(data_source)"
   ]
  }
 ],
 "metadata": {
  "kernelspec": {
   "display_name": "Python [default]",
   "language": "python",
   "name": "python3"
  },
  "language_info": {
   "codemirror_mode": {
    "name": "ipython",
    "version": 3
   },
   "file_extension": ".py",
   "mimetype": "text/x-python",
   "name": "python",
   "nbconvert_exporter": "python",
   "pygments_lexer": "ipython3",
   "version": "3.6.2"
  },
  "toc": {
   "nav_menu": {},
   "number_sections": true,
   "sideBar": true,
   "skip_h1_title": false,
   "toc_cell": false,
   "toc_position": {},
   "toc_section_display": "block",
   "toc_window_display": false
  },
  "varInspector": {
   "cols": {
    "lenName": 16,
    "lenType": 16,
    "lenVar": 40
   },
   "kernels_config": {
    "python": {
     "delete_cmd_postfix": "",
     "delete_cmd_prefix": "del ",
     "library": "var_list.py",
     "varRefreshCmd": "print(var_dic_list())"
    },
    "r": {
     "delete_cmd_postfix": ") ",
     "delete_cmd_prefix": "rm(",
     "library": "var_list.r",
     "varRefreshCmd": "cat(var_dic_list()) "
    }
   },
   "types_to_exclude": [
    "module",
    "function",
    "builtin_function_or_method",
    "instance",
    "_Feature"
   ],
   "window_display": false
  }
 },
 "nbformat": 4,
 "nbformat_minor": 2
}
