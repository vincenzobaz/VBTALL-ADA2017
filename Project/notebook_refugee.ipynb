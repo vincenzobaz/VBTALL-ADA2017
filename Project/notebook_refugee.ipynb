{
 "cells": [
  {
   "cell_type": "markdown",
   "metadata": {},
   "source": [
    "# Extraction and cleanup of the refugee data"
   ]
  },
  {
   "cell_type": "code",
   "execution_count": null,
   "metadata": {
    "ExecuteTime": {
     "end_time": "2017-11-26T21:02:13.364109Z",
     "start_time": "2017-11-26T21:02:13.085605Z"
    },
    "collapsed": true
   },
   "outputs": [],
   "source": [
    "import numpy as np\n",
    "import pandas as pd\n",
    "import pickle\n",
    "from tqdm import tqdm"
   ]
  },
  {
   "cell_type": "code",
   "execution_count": null,
   "metadata": {
    "ExecuteTime": {
     "end_time": "2017-11-26T21:02:13.459386Z",
     "start_time": "2017-11-26T21:02:13.365553Z"
    }
   },
   "outputs": [],
   "source": [
    "REFUGEE_DATA_PATH = \"unhcr_refugee.csv\"\n",
    "RAW_COLUMN_NAMES = [\"year\", \"country_dest\", \"origin\", \"refugee\",\n",
    "                \"asylum\", \"returned_refugee\", \"internally_displaced\", \"returned_idp\",\n",
    "                \"stateless\", \"others\", \"total\"\n",
    "               ]\n",
    "RAW_COLUMN_TYPE = {\"year\": int, \"coutry_dest\" : object, \"origin\" : object, \"refugee\" : float,\n",
    "               \"asylum\" : float, \"returned_refugee\" : float, \"idp\" : float, \"returned_idp\" : float,\n",
    "               \"stateless\" : float, \"others\" : float, \"total\" : float\n",
    "              }\n",
    "raw_refugee_df = pd.read_csv(REFUGEE_DATA_PATH, skiprows=4, names=RAW_COLUMN_NAMES, dtype=RAW_COLUMN_TYPE, na_values=[\"*\"])\n",
    "raw_refugee_df.head(5)"
   ]
  },
  {
   "cell_type": "code",
   "execution_count": null,
   "metadata": {
    "ExecuteTime": {
     "end_time": "2017-11-26T21:02:13.482927Z",
     "start_time": "2017-11-26T21:02:13.460907Z"
    }
   },
   "outputs": [],
   "source": [
    "raw_refugee_df.fillna(value=0, inplace=True)\n",
    "raw_refugee_df.head(5)"
   ]
  },
  {
   "cell_type": "code",
   "execution_count": null,
   "metadata": {
    "ExecuteTime": {
     "end_time": "2017-11-26T21:02:13.553753Z",
     "start_time": "2017-11-26T21:02:13.484220Z"
    }
   },
   "outputs": [],
   "source": [
    "# We drop all the origins that are 'Various/Unknown', we are interested in the country of origins, so\n",
    "# this identifient is useless to our analysis\n",
    "raw_refugee_df = raw_refugee_df[(raw_refugee_df.origin != 'Various/Unknown') & (raw_refugee_df.origin != 'Stateless')]\n",
    "\n",
    "# We also drop the returned columns because it is symptomatic of past refugee and doesn't really fit in our analysis\n",
    "try:\n",
    "    raw_refugee_df.drop(['returned_refugee', 'returned_idp'], axis=1, inplace=True)\n",
    "except: # avoid error if we re-run this code\n",
    "    pass\n",
    "\n",
    "display(raw_refugee_df.head(5))"
   ]
  },
  {
   "cell_type": "code",
   "execution_count": null,
   "metadata": {
    "ExecuteTime": {
     "end_time": "2017-11-26T21:03:08.669559Z",
     "start_time": "2017-11-26T21:02:13.555645Z"
    },
    "run_control": {
     "marked": true
    }
   },
   "outputs": [],
   "source": [
    "REFUGEE_COLUMNS = [\"year\", \"origin\", \"refugee\", \"asylum\", \"internally_displaced\", \"stateless\", \"others\", \"total\"]\n",
    "refugee_df = pd.DataFrame(columns=REFUGEE_COLUMNS)\n",
    "\n",
    "for year in tqdm(raw_refugee_df.year.unique()):\n",
    "    for origin in raw_refugee_df[raw_refugee_df.year == year].origin.unique():\n",
    "        index = (raw_refugee_df.year == year) & (raw_refugee_df.origin == origin)\n",
    "        temp_df_no_dest = raw_refugee_df[index].drop([\"country_dest\"], axis=1)\n",
    "        sum_series = temp_df_no_dest.sum(numeric_only=True)\n",
    "        # drop the row if the column of interest are zero (except total, because it might take into account returned)\n",
    "        if (sum_series[1:5] == 0).all():\n",
    "            continue\n",
    "            \n",
    "        sum_series[\"year\"] = year\n",
    "        sum_series[\"origin\"] = origin\n",
    "        sum_series[\"total\"] = sum_series[1:5].sum()\n",
    "        \n",
    "        refugee_df = refugee_df.append(sum_series, ignore_index=True)\n",
    "        \n",
    "display(refugee_df.head(5))"
   ]
  },
  {
   "cell_type": "code",
   "execution_count": null,
   "metadata": {
    "ExecuteTime": {
     "end_time": "2017-11-26T21:06:23.161663Z",
     "start_time": "2017-11-26T21:06:23.156265Z"
    },
    "collapsed": true
   },
   "outputs": [],
   "source": [
    "with open('refugee.pickle', 'wb') as out:\n",
    "    pickle.dump(refugee_df, out)"
   ]
  },
  {
   "cell_type": "code",
   "execution_count": null,
   "metadata": {
    "ExecuteTime": {
     "end_time": "2017-11-26T21:06:23.974435Z",
     "start_time": "2017-11-26T21:06:23.971346Z"
    },
    "collapsed": true
   },
   "outputs": [],
   "source": [
    "with open('refugee.pickle', 'rb') as data_source:\n",
    "    refugee_df = pickle.load(data_source)"
   ]
  },
  {
   "cell_type": "code",
   "execution_count": null,
   "metadata": {
    "collapsed": true
   },
   "outputs": [],
   "source": []
  }
 ],
 "metadata": {
  "kernelspec": {
   "display_name": "Python [default]",
   "language": "python",
   "name": "python3"
  },
  "language_info": {
   "codemirror_mode": {
    "name": "ipython",
    "version": 3
   },
   "file_extension": ".py",
   "mimetype": "text/x-python",
   "name": "python",
   "nbconvert_exporter": "python",
   "pygments_lexer": "ipython3",
   "version": "3.6.2"
  },
  "toc": {
   "nav_menu": {},
   "number_sections": true,
   "sideBar": true,
   "skip_h1_title": false,
   "toc_cell": false,
   "toc_position": {},
   "toc_section_display": "block",
   "toc_window_display": false
  },
  "varInspector": {
   "cols": {
    "lenName": 16,
    "lenType": 16,
    "lenVar": 40
   },
   "kernels_config": {
    "python": {
     "delete_cmd_postfix": "",
     "delete_cmd_prefix": "del ",
     "library": "var_list.py",
     "varRefreshCmd": "print(var_dic_list())"
    },
    "r": {
     "delete_cmd_postfix": ") ",
     "delete_cmd_prefix": "rm(",
     "library": "var_list.r",
     "varRefreshCmd": "cat(var_dic_list()) "
    }
   },
   "types_to_exclude": [
    "module",
    "function",
    "builtin_function_or_method",
    "instance",
    "_Feature"
   ],
   "window_display": false
  }
 },
 "nbformat": 4,
 "nbformat_minor": 2
}
