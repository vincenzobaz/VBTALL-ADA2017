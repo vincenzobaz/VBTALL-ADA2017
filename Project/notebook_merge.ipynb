{
 "cells": [
  {
   "cell_type": "markdown",
   "metadata": {},
   "source": [
    "# Data collection and Description"
   ]
  },
  {
   "cell_type": "code",
   "execution_count": 1,
   "metadata": {
    "ExecuteTime": {
     "end_time": "2017-11-28T20:18:46.754605Z",
     "start_time": "2017-11-28T20:18:46.738579Z"
    },
    "collapsed": true
   },
   "outputs": [],
   "source": [
    "import numpy as np\n",
    "from scipy import stats\n",
    "import pandas as pd\n",
    "import networkx as nx\n",
    "\n",
    "import pickle\n",
    "from tqdm import tqdm\n",
    "\n",
    "from bs4 import BeautifulSoup\n",
    "\n",
    "import folium\n",
    "from folium.plugins import MarkerCluster, FastMarkerCluster\n",
    "from folium import IFrame\n",
    "\n",
    "import geopandas as gpd\n",
    "import matplotlib.pyplot as plt\n",
    "import shapely.wkt\n",
    "\n",
    "from IPython.display import display\n",
    "\n",
    "from geopy.distance import vincenty, great_circle\n",
    "\n",
    "import json\n",
    "\n",
    "import re\n",
    "import unidecode\n",
    "\n",
    "%matplotlib inline\n",
    "import seaborn as sns"
   ]
  },
  {
   "cell_type": "markdown",
   "metadata": {},
   "source": [
    "## Data extraction"
   ]
  },
  {
   "cell_type": "markdown",
   "metadata": {},
   "source": [
    "In this section we will extract and clean the data from the two datasets we use.\n",
    "Those dataset are the ged171 dataset from the ucdp(http://ucdp.uu.se/downloads/) and the refugee dataset from the UNHCR (http://popstats.unhcr.org/en/persons_of_concern).\n",
    "\n",
    "We will keep as much data as possible in this section, so we will avoid removing rows from our dataset.\n",
    "\n",
    "In later sections we might use subset of the full data in certain analysis."
   ]
  },
  {
   "cell_type": "markdown",
   "metadata": {},
   "source": [
    "### Extraction and cleanup of the conflict data (ged171)"
   ]
  },
  {
   "cell_type": "code",
   "execution_count": 2,
   "metadata": {
    "ExecuteTime": {
     "end_time": "2017-11-28T20:18:48.105173Z",
     "start_time": "2017-11-28T20:18:47.064177Z"
    }
   },
   "outputs": [
    {
     "data": {
      "text/html": [
       "<div>\n",
       "<style>\n",
       "    .dataframe thead tr:only-child th {\n",
       "        text-align: right;\n",
       "    }\n",
       "\n",
       "    .dataframe thead th {\n",
       "        text-align: left;\n",
       "    }\n",
       "\n",
       "    .dataframe tbody tr th {\n",
       "        vertical-align: top;\n",
       "    }\n",
       "</style>\n",
       "<table border=\"1\" class=\"dataframe\">\n",
       "  <thead>\n",
       "    <tr style=\"text-align: right;\">\n",
       "      <th></th>\n",
       "      <th>id</th>\n",
       "      <th>year</th>\n",
       "      <th>active_year</th>\n",
       "      <th>type_of_violence</th>\n",
       "      <th>conflict_new_id</th>\n",
       "      <th>conflict_name</th>\n",
       "      <th>dyad_new_id</th>\n",
       "      <th>dyad_name</th>\n",
       "      <th>side_a_new_id</th>\n",
       "      <th>gwnoa</th>\n",
       "      <th>...</th>\n",
       "      <th>date_prec</th>\n",
       "      <th>date_start</th>\n",
       "      <th>date_end</th>\n",
       "      <th>deaths_a</th>\n",
       "      <th>deaths_b</th>\n",
       "      <th>deaths_civilians</th>\n",
       "      <th>deaths_unknown</th>\n",
       "      <th>best</th>\n",
       "      <th>low</th>\n",
       "      <th>high</th>\n",
       "    </tr>\n",
       "  </thead>\n",
       "  <tbody>\n",
       "    <tr>\n",
       "      <th>0</th>\n",
       "      <td>4</td>\n",
       "      <td>2010</td>\n",
       "      <td>1</td>\n",
       "      <td>1</td>\n",
       "      <td>230</td>\n",
       "      <td>Yemen (North Yemen):Government</td>\n",
       "      <td>459</td>\n",
       "      <td>Government of Yemen (North Yemen) - AQAP</td>\n",
       "      <td>123</td>\n",
       "      <td>678.0</td>\n",
       "      <td>...</td>\n",
       "      <td>1</td>\n",
       "      <td>2010-09-25</td>\n",
       "      <td>2010-09-25</td>\n",
       "      <td>2</td>\n",
       "      <td>0</td>\n",
       "      <td>0</td>\n",
       "      <td>0</td>\n",
       "      <td>2</td>\n",
       "      <td>2</td>\n",
       "      <td>2</td>\n",
       "    </tr>\n",
       "    <tr>\n",
       "      <th>1</th>\n",
       "      <td>5</td>\n",
       "      <td>2011</td>\n",
       "      <td>1</td>\n",
       "      <td>3</td>\n",
       "      <td>715</td>\n",
       "      <td>Government of Yemen (North Yemen) - Civilians</td>\n",
       "      <td>1182</td>\n",
       "      <td>Government of Yemen (North Yemen) - Civilians</td>\n",
       "      <td>123</td>\n",
       "      <td>678.0</td>\n",
       "      <td>...</td>\n",
       "      <td>1</td>\n",
       "      <td>2011-02-19</td>\n",
       "      <td>2011-02-19</td>\n",
       "      <td>0</td>\n",
       "      <td>0</td>\n",
       "      <td>0</td>\n",
       "      <td>0</td>\n",
       "      <td>0</td>\n",
       "      <td>0</td>\n",
       "      <td>2</td>\n",
       "    </tr>\n",
       "  </tbody>\n",
       "</table>\n",
       "<p>2 rows × 42 columns</p>\n",
       "</div>"
      ],
      "text/plain": [
       "   id  year  active_year  type_of_violence  conflict_new_id  \\\n",
       "0   4  2010            1                 1              230   \n",
       "1   5  2011            1                 3              715   \n",
       "\n",
       "                                   conflict_name  dyad_new_id  \\\n",
       "0                 Yemen (North Yemen):Government          459   \n",
       "1  Government of Yemen (North Yemen) - Civilians         1182   \n",
       "\n",
       "                                       dyad_name  side_a_new_id  gwnoa ...   \\\n",
       "0       Government of Yemen (North Yemen) - AQAP            123  678.0 ...    \n",
       "1  Government of Yemen (North Yemen) - Civilians            123  678.0 ...    \n",
       "\n",
       "  date_prec  date_start    date_end deaths_a  deaths_b deaths_civilians  \\\n",
       "0         1  2010-09-25  2010-09-25        2         0                0   \n",
       "1         1  2011-02-19  2011-02-19        0         0                0   \n",
       "\n",
       "  deaths_unknown best low high  \n",
       "0              0    2   2    2  \n",
       "1              0    0   0    2  \n",
       "\n",
       "[2 rows x 42 columns]"
      ]
     },
     "metadata": {},
     "output_type": "display_data"
    }
   ],
   "source": [
    "CONFLICT_DATA_PATH = \"ged171.csv\"\n",
    "raw_conflict_df = pd.read_csv(CONFLICT_DATA_PATH)\n",
    "display(raw_conflict_df.head(2))"
   ]
  },
  {
   "cell_type": "code",
   "execution_count": 3,
   "metadata": {
    "ExecuteTime": {
     "end_time": "2017-11-28T20:19:02.638302Z",
     "start_time": "2017-11-28T20:18:48.106787Z"
    }
   },
   "outputs": [
    {
     "name": "stderr",
     "output_type": "stream",
     "text": [
      "100%|██████████| 28/28 [00:17<00:00,  1.57it/s]\n"
     ]
    }
   ],
   "source": [
    "for year in tqdm(raw_conflict_df.year.unique()):\n",
    "    for conflict_new_id in raw_conflict_df[raw_conflict_df.year == year].conflict_new_id.unique():\n",
    "        subdf = raw_conflict_df[(raw_conflict_df.year == year) & (raw_conflict_df.year == year)]"
   ]
  },
  {
   "cell_type": "code",
   "execution_count": 4,
   "metadata": {
    "ExecuteTime": {
     "end_time": "2017-11-28T20:19:02.643156Z",
     "start_time": "2017-11-28T20:19:02.639862Z"
    }
   },
   "outputs": [
    {
     "name": "stdout",
     "output_type": "stream",
     "text": [
      "Index(['id', 'year', 'active_year', 'type_of_violence', 'conflict_new_id',\n",
      "       'conflict_name', 'dyad_new_id', 'dyad_name', 'side_a_new_id', 'gwnoa',\n",
      "       'side_a', 'side_b_new_id', 'gwnob', 'side_b', 'number_of_sources',\n",
      "       'source_article', 'source_office', 'source_date', 'source_headline',\n",
      "       'source_original', 'where_prec', 'where_coordinates', 'adm_1', 'adm_2',\n",
      "       'latitude', 'longitude', 'geom_wkt', 'priogrid_gid', 'country',\n",
      "       'country_id', 'region', 'event_clarity', 'date_prec', 'date_start',\n",
      "       'date_end', 'deaths_a', 'deaths_b', 'deaths_civilians',\n",
      "       'deaths_unknown', 'best', 'low', 'high'],\n",
      "      dtype='object')\n"
     ]
    }
   ],
   "source": [
    "print(raw_conflict_df.columns)"
   ]
  },
  {
   "cell_type": "code",
   "execution_count": 5,
   "metadata": {
    "ExecuteTime": {
     "end_time": "2017-11-28T20:19:02.651560Z",
     "start_time": "2017-11-28T20:19:02.644797Z"
    },
    "collapsed": true
   },
   "outputs": [],
   "source": [
    "# We kept the columns that we found meaningfull from the dataset\n",
    "# To guide our choice we used the ged171.pdf document that can be found in the repository\n",
    "KEPT_COLUMNS= ['id', 'year', 'type_of_violence', 'conflict_new_id',\n",
    "       'conflict_name', 'side_a_new_id', 'gwnoa',\n",
    "       'side_a', 'gwnob', 'side_b_new_id','side_b',\n",
    "       'where_prec', 'where_coordinates', 'adm_1', 'adm_2',\n",
    "       'latitude', 'longitude', 'geom_wkt','country',\n",
    "       'country_id','date_start', 'date_end', 'deaths_a', 'deaths_b',\n",
    "       'deaths_civilians',\n",
    "       'deaths_unknown', 'best'] "
   ]
  },
  {
   "cell_type": "code",
   "execution_count": 6,
   "metadata": {
    "ExecuteTime": {
     "end_time": "2017-11-28T20:19:02.672017Z",
     "start_time": "2017-11-28T20:19:02.652892Z"
    },
    "collapsed": true
   },
   "outputs": [],
   "source": [
    "conflict_df = raw_conflict_df[KEPT_COLUMNS]"
   ]
  },
  {
   "cell_type": "code",
   "execution_count": 7,
   "metadata": {
    "ExecuteTime": {
     "end_time": "2017-11-28T20:19:03.225533Z",
     "start_time": "2017-11-28T20:19:02.673737Z"
    },
    "collapsed": true
   },
   "outputs": [],
   "source": [
    "conflict_df = conflict_df.replace(to_replace=\"-[0-9]{2}-[0-9]{2}\", value=\"\", regex=True)"
   ]
  },
  {
   "cell_type": "code",
   "execution_count": 8,
   "metadata": {
    "ExecuteTime": {
     "end_time": "2017-11-28T20:19:03.249850Z",
     "start_time": "2017-11-28T20:19:03.227233Z"
    }
   },
   "outputs": [
    {
     "data": {
      "text/html": [
       "<div>\n",
       "<style>\n",
       "    .dataframe thead tr:only-child th {\n",
       "        text-align: right;\n",
       "    }\n",
       "\n",
       "    .dataframe thead th {\n",
       "        text-align: left;\n",
       "    }\n",
       "\n",
       "    .dataframe tbody tr th {\n",
       "        vertical-align: top;\n",
       "    }\n",
       "</style>\n",
       "<table border=\"1\" class=\"dataframe\">\n",
       "  <thead>\n",
       "    <tr style=\"text-align: right;\">\n",
       "      <th></th>\n",
       "      <th>id</th>\n",
       "      <th>year</th>\n",
       "      <th>type_of_violence</th>\n",
       "      <th>conflict_new_id</th>\n",
       "      <th>conflict_name</th>\n",
       "      <th>side_a_new_id</th>\n",
       "      <th>gwnoa</th>\n",
       "      <th>side_a</th>\n",
       "      <th>gwnob</th>\n",
       "      <th>side_b_new_id</th>\n",
       "      <th>...</th>\n",
       "      <th>geom_wkt</th>\n",
       "      <th>country</th>\n",
       "      <th>country_id</th>\n",
       "      <th>date_start</th>\n",
       "      <th>date_end</th>\n",
       "      <th>deaths_a</th>\n",
       "      <th>deaths_b</th>\n",
       "      <th>deaths_civilians</th>\n",
       "      <th>deaths_unknown</th>\n",
       "      <th>best</th>\n",
       "    </tr>\n",
       "  </thead>\n",
       "  <tbody>\n",
       "    <tr>\n",
       "      <th>0</th>\n",
       "      <td>4</td>\n",
       "      <td>2010</td>\n",
       "      <td>1</td>\n",
       "      <td>230</td>\n",
       "      <td>Yemen (North Yemen):Government</td>\n",
       "      <td>123</td>\n",
       "      <td>678.0</td>\n",
       "      <td>Government of Yemen (North Yemen)</td>\n",
       "      <td>NaN</td>\n",
       "      <td>881</td>\n",
       "      <td>...</td>\n",
       "      <td>POINT (44.206667 15.354722)</td>\n",
       "      <td>Yemen (North Yemen)</td>\n",
       "      <td>678</td>\n",
       "      <td>2010</td>\n",
       "      <td>2010</td>\n",
       "      <td>2</td>\n",
       "      <td>0</td>\n",
       "      <td>0</td>\n",
       "      <td>0</td>\n",
       "      <td>2</td>\n",
       "    </tr>\n",
       "    <tr>\n",
       "      <th>1</th>\n",
       "      <td>5</td>\n",
       "      <td>2011</td>\n",
       "      <td>3</td>\n",
       "      <td>715</td>\n",
       "      <td>Government of Yemen (North Yemen) - Civilians</td>\n",
       "      <td>123</td>\n",
       "      <td>678.0</td>\n",
       "      <td>Government of Yemen (North Yemen)</td>\n",
       "      <td>NaN</td>\n",
       "      <td>1</td>\n",
       "      <td>...</td>\n",
       "      <td>POINT (45.036667 12.779444)</td>\n",
       "      <td>Yemen (North Yemen)</td>\n",
       "      <td>678</td>\n",
       "      <td>2011</td>\n",
       "      <td>2011</td>\n",
       "      <td>0</td>\n",
       "      <td>0</td>\n",
       "      <td>0</td>\n",
       "      <td>0</td>\n",
       "      <td>0</td>\n",
       "    </tr>\n",
       "    <tr>\n",
       "      <th>2</th>\n",
       "      <td>6</td>\n",
       "      <td>2011</td>\n",
       "      <td>1</td>\n",
       "      <td>230</td>\n",
       "      <td>Yemen (North Yemen):Government</td>\n",
       "      <td>123</td>\n",
       "      <td>678.0</td>\n",
       "      <td>Government of Yemen (North Yemen)</td>\n",
       "      <td>NaN</td>\n",
       "      <td>881</td>\n",
       "      <td>...</td>\n",
       "      <td>POINT (46.141765 13.786202)</td>\n",
       "      <td>Yemen (North Yemen)</td>\n",
       "      <td>678</td>\n",
       "      <td>2011</td>\n",
       "      <td>2011</td>\n",
       "      <td>0</td>\n",
       "      <td>0</td>\n",
       "      <td>0</td>\n",
       "      <td>0</td>\n",
       "      <td>0</td>\n",
       "    </tr>\n",
       "    <tr>\n",
       "      <th>3</th>\n",
       "      <td>7</td>\n",
       "      <td>2012</td>\n",
       "      <td>1</td>\n",
       "      <td>230</td>\n",
       "      <td>Yemen (North Yemen):Government</td>\n",
       "      <td>123</td>\n",
       "      <td>678.0</td>\n",
       "      <td>Government of Yemen (North Yemen)</td>\n",
       "      <td>NaN</td>\n",
       "      <td>881</td>\n",
       "      <td>...</td>\n",
       "      <td>POINT (46.141765 13.786202)</td>\n",
       "      <td>Yemen (North Yemen)</td>\n",
       "      <td>678</td>\n",
       "      <td>2012</td>\n",
       "      <td>2012</td>\n",
       "      <td>4</td>\n",
       "      <td>1</td>\n",
       "      <td>0</td>\n",
       "      <td>0</td>\n",
       "      <td>5</td>\n",
       "    </tr>\n",
       "    <tr>\n",
       "      <th>4</th>\n",
       "      <td>10</td>\n",
       "      <td>2012</td>\n",
       "      <td>1</td>\n",
       "      <td>230</td>\n",
       "      <td>Yemen (North Yemen):Government</td>\n",
       "      <td>123</td>\n",
       "      <td>678.0</td>\n",
       "      <td>Government of Yemen (North Yemen)</td>\n",
       "      <td>NaN</td>\n",
       "      <td>881</td>\n",
       "      <td>...</td>\n",
       "      <td>POINT (45.300000 15.616667)</td>\n",
       "      <td>Yemen (North Yemen)</td>\n",
       "      <td>678</td>\n",
       "      <td>2012</td>\n",
       "      <td>2012</td>\n",
       "      <td>0</td>\n",
       "      <td>4</td>\n",
       "      <td>1</td>\n",
       "      <td>0</td>\n",
       "      <td>5</td>\n",
       "    </tr>\n",
       "  </tbody>\n",
       "</table>\n",
       "<p>5 rows × 27 columns</p>\n",
       "</div>"
      ],
      "text/plain": [
       "   id  year  type_of_violence  conflict_new_id  \\\n",
       "0   4  2010                 1              230   \n",
       "1   5  2011                 3              715   \n",
       "2   6  2011                 1              230   \n",
       "3   7  2012                 1              230   \n",
       "4  10  2012                 1              230   \n",
       "\n",
       "                                   conflict_name  side_a_new_id  gwnoa  \\\n",
       "0                 Yemen (North Yemen):Government            123  678.0   \n",
       "1  Government of Yemen (North Yemen) - Civilians            123  678.0   \n",
       "2                 Yemen (North Yemen):Government            123  678.0   \n",
       "3                 Yemen (North Yemen):Government            123  678.0   \n",
       "4                 Yemen (North Yemen):Government            123  678.0   \n",
       "\n",
       "                              side_a  gwnob  side_b_new_id  ...   \\\n",
       "0  Government of Yemen (North Yemen)    NaN            881  ...    \n",
       "1  Government of Yemen (North Yemen)    NaN              1  ...    \n",
       "2  Government of Yemen (North Yemen)    NaN            881  ...    \n",
       "3  Government of Yemen (North Yemen)    NaN            881  ...    \n",
       "4  Government of Yemen (North Yemen)    NaN            881  ...    \n",
       "\n",
       "                      geom_wkt              country country_id date_start  \\\n",
       "0  POINT (44.206667 15.354722)  Yemen (North Yemen)        678       2010   \n",
       "1  POINT (45.036667 12.779444)  Yemen (North Yemen)        678       2011   \n",
       "2  POINT (46.141765 13.786202)  Yemen (North Yemen)        678       2011   \n",
       "3  POINT (46.141765 13.786202)  Yemen (North Yemen)        678       2012   \n",
       "4  POINT (45.300000 15.616667)  Yemen (North Yemen)        678       2012   \n",
       "\n",
       "  date_end  deaths_a  deaths_b deaths_civilians deaths_unknown  best  \n",
       "0     2010         2         0                0              0     2  \n",
       "1     2011         0         0                0              0     0  \n",
       "2     2011         0         0                0              0     0  \n",
       "3     2012         4         1                0              0     5  \n",
       "4     2012         0         4                1              0     5  \n",
       "\n",
       "[5 rows x 27 columns]"
      ]
     },
     "metadata": {},
     "output_type": "display_data"
    }
   ],
   "source": [
    "display(conflict_df.head())"
   ]
  },
  {
   "cell_type": "code",
   "execution_count": 9,
   "metadata": {
    "ExecuteTime": {
     "end_time": "2017-11-28T20:19:03.415143Z",
     "start_time": "2017-11-28T20:19:03.251804Z"
    },
    "collapsed": true
   },
   "outputs": [],
   "source": [
    "with open('conflict.pickle', 'wb') as out:\n",
    "    pickle.dump(conflict_df, out)"
   ]
  },
  {
   "cell_type": "markdown",
   "metadata": {},
   "source": [
    "### Combining events into conflicts (MOVED TO NEW NOTEBOOK)"
   ]
  },
  {
   "cell_type": "markdown",
   "metadata": {},
   "source": [
    "### Extraction and cleanup of the refugee data"
   ]
  },
  {
   "cell_type": "code",
   "execution_count": 16,
   "metadata": {
    "ExecuteTime": {
     "end_time": "2017-11-28T20:19:03.506677Z",
     "start_time": "2017-11-28T20:19:03.416642Z"
    }
   },
   "outputs": [
    {
     "data": {
      "text/html": [
       "<div>\n",
       "<style>\n",
       "    .dataframe thead tr:only-child th {\n",
       "        text-align: right;\n",
       "    }\n",
       "\n",
       "    .dataframe thead th {\n",
       "        text-align: left;\n",
       "    }\n",
       "\n",
       "    .dataframe tbody tr th {\n",
       "        vertical-align: top;\n",
       "    }\n",
       "</style>\n",
       "<table border=\"1\" class=\"dataframe\">\n",
       "  <thead>\n",
       "    <tr style=\"text-align: right;\">\n",
       "      <th></th>\n",
       "      <th>year</th>\n",
       "      <th>country_dest</th>\n",
       "      <th>origin</th>\n",
       "      <th>refugee</th>\n",
       "      <th>asylum</th>\n",
       "      <th>returned_refugee</th>\n",
       "      <th>internally_displaced</th>\n",
       "      <th>returned_idp</th>\n",
       "      <th>stateless</th>\n",
       "      <th>others</th>\n",
       "      <th>total</th>\n",
       "    </tr>\n",
       "  </thead>\n",
       "  <tbody>\n",
       "    <tr>\n",
       "      <th>0</th>\n",
       "      <td>1989</td>\n",
       "      <td>Angola</td>\n",
       "      <td>Dem. Rep. of the Congo</td>\n",
       "      <td>9654.0</td>\n",
       "      <td>NaN</td>\n",
       "      <td>NaN</td>\n",
       "      <td>NaN</td>\n",
       "      <td>NaN</td>\n",
       "      <td>NaN</td>\n",
       "      <td>NaN</td>\n",
       "      <td>9654.0</td>\n",
       "    </tr>\n",
       "    <tr>\n",
       "      <th>1</th>\n",
       "      <td>1989</td>\n",
       "      <td>Angola</td>\n",
       "      <td>Namibia</td>\n",
       "      <td>1145.0</td>\n",
       "      <td>NaN</td>\n",
       "      <td>NaN</td>\n",
       "      <td>NaN</td>\n",
       "      <td>NaN</td>\n",
       "      <td>NaN</td>\n",
       "      <td>NaN</td>\n",
       "      <td>1145.0</td>\n",
       "    </tr>\n",
       "    <tr>\n",
       "      <th>2</th>\n",
       "      <td>1989</td>\n",
       "      <td>Angola</td>\n",
       "      <td>South Africa</td>\n",
       "      <td>2100.0</td>\n",
       "      <td>NaN</td>\n",
       "      <td>NaN</td>\n",
       "      <td>NaN</td>\n",
       "      <td>NaN</td>\n",
       "      <td>NaN</td>\n",
       "      <td>NaN</td>\n",
       "      <td>2100.0</td>\n",
       "    </tr>\n",
       "    <tr>\n",
       "      <th>3</th>\n",
       "      <td>1989</td>\n",
       "      <td>United Arab Emirates</td>\n",
       "      <td>Various/Unknown</td>\n",
       "      <td>70.0</td>\n",
       "      <td>NaN</td>\n",
       "      <td>NaN</td>\n",
       "      <td>NaN</td>\n",
       "      <td>NaN</td>\n",
       "      <td>NaN</td>\n",
       "      <td>NaN</td>\n",
       "      <td>70.0</td>\n",
       "    </tr>\n",
       "    <tr>\n",
       "      <th>4</th>\n",
       "      <td>1989</td>\n",
       "      <td>Argentina</td>\n",
       "      <td>Various/Unknown</td>\n",
       "      <td>12634.0</td>\n",
       "      <td>NaN</td>\n",
       "      <td>1060.0</td>\n",
       "      <td>NaN</td>\n",
       "      <td>NaN</td>\n",
       "      <td>NaN</td>\n",
       "      <td>NaN</td>\n",
       "      <td>13694.0</td>\n",
       "    </tr>\n",
       "  </tbody>\n",
       "</table>\n",
       "</div>"
      ],
      "text/plain": [
       "   year          country_dest                  origin  refugee  asylum  \\\n",
       "0  1989                Angola  Dem. Rep. of the Congo   9654.0     NaN   \n",
       "1  1989                Angola                 Namibia   1145.0     NaN   \n",
       "2  1989                Angola            South Africa   2100.0     NaN   \n",
       "3  1989  United Arab Emirates         Various/Unknown     70.0     NaN   \n",
       "4  1989             Argentina         Various/Unknown  12634.0     NaN   \n",
       "\n",
       "   returned_refugee  internally_displaced  returned_idp  stateless  others  \\\n",
       "0               NaN                   NaN           NaN        NaN     NaN   \n",
       "1               NaN                   NaN           NaN        NaN     NaN   \n",
       "2               NaN                   NaN           NaN        NaN     NaN   \n",
       "3               NaN                   NaN           NaN        NaN     NaN   \n",
       "4            1060.0                   NaN           NaN        NaN     NaN   \n",
       "\n",
       "     total  \n",
       "0   9654.0  \n",
       "1   1145.0  \n",
       "2   2100.0  \n",
       "3     70.0  \n",
       "4  13694.0  "
      ]
     },
     "execution_count": 16,
     "metadata": {},
     "output_type": "execute_result"
    }
   ],
   "source": [
    "REFUGEE_DATA_PATH = \"unhcr_refugee.csv\"\n",
    "RAW_COLUMN_NAMES = [\"year\", \"country_dest\", \"origin\", \"refugee\",\n",
    "                \"asylum\", \"returned_refugee\", \"internally_displaced\", \"returned_idp\",\n",
    "                \"stateless\", \"others\", \"total\"\n",
    "               ]\n",
    "RAW_COLUMN_TYPE = {\"year\": int, \"coutry_dest\" : object, \"origin\" : object, \"refugee\" : float,\n",
    "               \"asylum\" : float, \"returned_refugee\" : float, \"idp\" : float, \"returned_idp\" : float,\n",
    "               \"stateless\" : float, \"others\" : float, \"total\" : float\n",
    "              }\n",
    "raw_refugee_df = pd.read_csv(REFUGEE_DATA_PATH, skiprows=4, names=RAW_COLUMN_NAMES, dtype=RAW_COLUMN_TYPE, na_values=[\"*\"])\n",
    "raw_refugee_df.head(5)"
   ]
  },
  {
   "cell_type": "code",
   "execution_count": 17,
   "metadata": {
    "ExecuteTime": {
     "end_time": "2017-11-28T20:19:03.534855Z",
     "start_time": "2017-11-28T20:19:03.508188Z"
    }
   },
   "outputs": [
    {
     "data": {
      "text/html": [
       "<div>\n",
       "<style>\n",
       "    .dataframe thead tr:only-child th {\n",
       "        text-align: right;\n",
       "    }\n",
       "\n",
       "    .dataframe thead th {\n",
       "        text-align: left;\n",
       "    }\n",
       "\n",
       "    .dataframe tbody tr th {\n",
       "        vertical-align: top;\n",
       "    }\n",
       "</style>\n",
       "<table border=\"1\" class=\"dataframe\">\n",
       "  <thead>\n",
       "    <tr style=\"text-align: right;\">\n",
       "      <th></th>\n",
       "      <th>year</th>\n",
       "      <th>country_dest</th>\n",
       "      <th>origin</th>\n",
       "      <th>refugee</th>\n",
       "      <th>asylum</th>\n",
       "      <th>returned_refugee</th>\n",
       "      <th>internally_displaced</th>\n",
       "      <th>returned_idp</th>\n",
       "      <th>stateless</th>\n",
       "      <th>others</th>\n",
       "      <th>total</th>\n",
       "    </tr>\n",
       "  </thead>\n",
       "  <tbody>\n",
       "    <tr>\n",
       "      <th>0</th>\n",
       "      <td>1989</td>\n",
       "      <td>Angola</td>\n",
       "      <td>Dem. Rep. of the Congo</td>\n",
       "      <td>9654.0</td>\n",
       "      <td>0.0</td>\n",
       "      <td>0.0</td>\n",
       "      <td>0.0</td>\n",
       "      <td>0.0</td>\n",
       "      <td>0.0</td>\n",
       "      <td>0.0</td>\n",
       "      <td>9654.0</td>\n",
       "    </tr>\n",
       "    <tr>\n",
       "      <th>1</th>\n",
       "      <td>1989</td>\n",
       "      <td>Angola</td>\n",
       "      <td>Namibia</td>\n",
       "      <td>1145.0</td>\n",
       "      <td>0.0</td>\n",
       "      <td>0.0</td>\n",
       "      <td>0.0</td>\n",
       "      <td>0.0</td>\n",
       "      <td>0.0</td>\n",
       "      <td>0.0</td>\n",
       "      <td>1145.0</td>\n",
       "    </tr>\n",
       "    <tr>\n",
       "      <th>2</th>\n",
       "      <td>1989</td>\n",
       "      <td>Angola</td>\n",
       "      <td>South Africa</td>\n",
       "      <td>2100.0</td>\n",
       "      <td>0.0</td>\n",
       "      <td>0.0</td>\n",
       "      <td>0.0</td>\n",
       "      <td>0.0</td>\n",
       "      <td>0.0</td>\n",
       "      <td>0.0</td>\n",
       "      <td>2100.0</td>\n",
       "    </tr>\n",
       "    <tr>\n",
       "      <th>3</th>\n",
       "      <td>1989</td>\n",
       "      <td>United Arab Emirates</td>\n",
       "      <td>Various/Unknown</td>\n",
       "      <td>70.0</td>\n",
       "      <td>0.0</td>\n",
       "      <td>0.0</td>\n",
       "      <td>0.0</td>\n",
       "      <td>0.0</td>\n",
       "      <td>0.0</td>\n",
       "      <td>0.0</td>\n",
       "      <td>70.0</td>\n",
       "    </tr>\n",
       "    <tr>\n",
       "      <th>4</th>\n",
       "      <td>1989</td>\n",
       "      <td>Argentina</td>\n",
       "      <td>Various/Unknown</td>\n",
       "      <td>12634.0</td>\n",
       "      <td>0.0</td>\n",
       "      <td>1060.0</td>\n",
       "      <td>0.0</td>\n",
       "      <td>0.0</td>\n",
       "      <td>0.0</td>\n",
       "      <td>0.0</td>\n",
       "      <td>13694.0</td>\n",
       "    </tr>\n",
       "  </tbody>\n",
       "</table>\n",
       "</div>"
      ],
      "text/plain": [
       "   year          country_dest                  origin  refugee  asylum  \\\n",
       "0  1989                Angola  Dem. Rep. of the Congo   9654.0     0.0   \n",
       "1  1989                Angola                 Namibia   1145.0     0.0   \n",
       "2  1989                Angola            South Africa   2100.0     0.0   \n",
       "3  1989  United Arab Emirates         Various/Unknown     70.0     0.0   \n",
       "4  1989             Argentina         Various/Unknown  12634.0     0.0   \n",
       "\n",
       "   returned_refugee  internally_displaced  returned_idp  stateless  others  \\\n",
       "0               0.0                   0.0           0.0        0.0     0.0   \n",
       "1               0.0                   0.0           0.0        0.0     0.0   \n",
       "2               0.0                   0.0           0.0        0.0     0.0   \n",
       "3               0.0                   0.0           0.0        0.0     0.0   \n",
       "4            1060.0                   0.0           0.0        0.0     0.0   \n",
       "\n",
       "     total  \n",
       "0   9654.0  \n",
       "1   1145.0  \n",
       "2   2100.0  \n",
       "3     70.0  \n",
       "4  13694.0  "
      ]
     },
     "execution_count": 17,
     "metadata": {},
     "output_type": "execute_result"
    }
   ],
   "source": [
    "raw_refugee_df.fillna(value=0, inplace=True)\n",
    "raw_refugee_df.head(5)"
   ]
  },
  {
   "cell_type": "code",
   "execution_count": 18,
   "metadata": {
    "ExecuteTime": {
     "end_time": "2017-11-28T20:19:03.664748Z",
     "start_time": "2017-11-28T20:19:03.536424Z"
    }
   },
   "outputs": [
    {
     "data": {
      "text/html": [
       "<div>\n",
       "<style>\n",
       "    .dataframe thead tr:only-child th {\n",
       "        text-align: right;\n",
       "    }\n",
       "\n",
       "    .dataframe thead th {\n",
       "        text-align: left;\n",
       "    }\n",
       "\n",
       "    .dataframe tbody tr th {\n",
       "        vertical-align: top;\n",
       "    }\n",
       "</style>\n",
       "<table border=\"1\" class=\"dataframe\">\n",
       "  <thead>\n",
       "    <tr style=\"text-align: right;\">\n",
       "      <th></th>\n",
       "      <th>year</th>\n",
       "      <th>country_dest</th>\n",
       "      <th>origin</th>\n",
       "      <th>refugee</th>\n",
       "      <th>asylum</th>\n",
       "      <th>internally_displaced</th>\n",
       "      <th>stateless</th>\n",
       "      <th>others</th>\n",
       "      <th>total</th>\n",
       "    </tr>\n",
       "  </thead>\n",
       "  <tbody>\n",
       "    <tr>\n",
       "      <th>0</th>\n",
       "      <td>1989</td>\n",
       "      <td>Angola</td>\n",
       "      <td>Dem. Rep. of the Congo</td>\n",
       "      <td>9654.0</td>\n",
       "      <td>0.0</td>\n",
       "      <td>0.0</td>\n",
       "      <td>0.0</td>\n",
       "      <td>0.0</td>\n",
       "      <td>9654.0</td>\n",
       "    </tr>\n",
       "    <tr>\n",
       "      <th>1</th>\n",
       "      <td>1989</td>\n",
       "      <td>Angola</td>\n",
       "      <td>Namibia</td>\n",
       "      <td>1145.0</td>\n",
       "      <td>0.0</td>\n",
       "      <td>0.0</td>\n",
       "      <td>0.0</td>\n",
       "      <td>0.0</td>\n",
       "      <td>1145.0</td>\n",
       "    </tr>\n",
       "    <tr>\n",
       "      <th>2</th>\n",
       "      <td>1989</td>\n",
       "      <td>Angola</td>\n",
       "      <td>South Africa</td>\n",
       "      <td>2100.0</td>\n",
       "      <td>0.0</td>\n",
       "      <td>0.0</td>\n",
       "      <td>0.0</td>\n",
       "      <td>0.0</td>\n",
       "      <td>2100.0</td>\n",
       "    </tr>\n",
       "    <tr>\n",
       "      <th>7</th>\n",
       "      <td>1989</td>\n",
       "      <td>Burundi</td>\n",
       "      <td>Dem. Rep. of the Congo</td>\n",
       "      <td>59557.0</td>\n",
       "      <td>0.0</td>\n",
       "      <td>0.0</td>\n",
       "      <td>0.0</td>\n",
       "      <td>0.0</td>\n",
       "      <td>59557.0</td>\n",
       "    </tr>\n",
       "    <tr>\n",
       "      <th>8</th>\n",
       "      <td>1989</td>\n",
       "      <td>Burundi</td>\n",
       "      <td>Rwanda</td>\n",
       "      <td>207486.0</td>\n",
       "      <td>0.0</td>\n",
       "      <td>0.0</td>\n",
       "      <td>0.0</td>\n",
       "      <td>0.0</td>\n",
       "      <td>207486.0</td>\n",
       "    </tr>\n",
       "  </tbody>\n",
       "</table>\n",
       "</div>"
      ],
      "text/plain": [
       "   year country_dest                  origin   refugee  asylum  \\\n",
       "0  1989       Angola  Dem. Rep. of the Congo    9654.0     0.0   \n",
       "1  1989       Angola                 Namibia    1145.0     0.0   \n",
       "2  1989       Angola            South Africa    2100.0     0.0   \n",
       "7  1989      Burundi  Dem. Rep. of the Congo   59557.0     0.0   \n",
       "8  1989      Burundi                  Rwanda  207486.0     0.0   \n",
       "\n",
       "   internally_displaced  stateless  others     total  \n",
       "0                   0.0        0.0     0.0    9654.0  \n",
       "1                   0.0        0.0     0.0    1145.0  \n",
       "2                   0.0        0.0     0.0    2100.0  \n",
       "7                   0.0        0.0     0.0   59557.0  \n",
       "8                   0.0        0.0     0.0  207486.0  "
      ]
     },
     "metadata": {},
     "output_type": "display_data"
    }
   ],
   "source": [
    "# We drop all the origins that are 'Various/Unknown', we are interested in the country of origins, so\n",
    "# this identifient is useless to our analysis\n",
    "raw_refugee_df = raw_refugee_df[(raw_refugee_df.origin != 'Various/Unknown') & (raw_refugee_df.origin != 'Stateless')]\n",
    "\n",
    "# We also drop the returned columns because it is symptomatic of past refugee and doesn't really fit in our analysis\n",
    "try:\n",
    "    raw_refugee_df.drop(['returned_refugee', 'returned_idp'], axis=1, inplace=True)\n",
    "except: # avoid error if we re-run this code\n",
    "    pass\n",
    "\n",
    "display(raw_refugee_df.head(5))"
   ]
  },
  {
   "cell_type": "code",
   "execution_count": 19,
   "metadata": {
    "ExecuteTime": {
     "end_time": "2017-11-28T20:19:59.988062Z",
     "start_time": "2017-11-28T20:19:03.666267Z"
    },
    "run_control": {
     "marked": true
    }
   },
   "outputs": [
    {
     "name": "stderr",
     "output_type": "stream",
     "text": [
      "100%|██████████| 28/28 [01:27<00:00,  3.11s/it]\n"
     ]
    },
    {
     "data": {
      "text/html": [
       "<div>\n",
       "<style>\n",
       "    .dataframe thead tr:only-child th {\n",
       "        text-align: right;\n",
       "    }\n",
       "\n",
       "    .dataframe thead th {\n",
       "        text-align: left;\n",
       "    }\n",
       "\n",
       "    .dataframe tbody tr th {\n",
       "        vertical-align: top;\n",
       "    }\n",
       "</style>\n",
       "<table border=\"1\" class=\"dataframe\">\n",
       "  <thead>\n",
       "    <tr style=\"text-align: right;\">\n",
       "      <th></th>\n",
       "      <th>year</th>\n",
       "      <th>origin</th>\n",
       "      <th>refugee</th>\n",
       "      <th>asylum</th>\n",
       "      <th>internally_displaced</th>\n",
       "      <th>stateless</th>\n",
       "      <th>others</th>\n",
       "      <th>total</th>\n",
       "    </tr>\n",
       "  </thead>\n",
       "  <tbody>\n",
       "    <tr>\n",
       "      <th>0</th>\n",
       "      <td>1989.0</td>\n",
       "      <td>Dem. Rep. of the Congo</td>\n",
       "      <td>100786.0</td>\n",
       "      <td>0.0</td>\n",
       "      <td>0.0</td>\n",
       "      <td>0.0</td>\n",
       "      <td>0.0</td>\n",
       "      <td>100786.0</td>\n",
       "    </tr>\n",
       "    <tr>\n",
       "      <th>1</th>\n",
       "      <td>1989.0</td>\n",
       "      <td>Namibia</td>\n",
       "      <td>3704.0</td>\n",
       "      <td>0.0</td>\n",
       "      <td>0.0</td>\n",
       "      <td>0.0</td>\n",
       "      <td>0.0</td>\n",
       "      <td>3704.0</td>\n",
       "    </tr>\n",
       "    <tr>\n",
       "      <th>2</th>\n",
       "      <td>1989.0</td>\n",
       "      <td>South Africa</td>\n",
       "      <td>17137.0</td>\n",
       "      <td>0.0</td>\n",
       "      <td>0.0</td>\n",
       "      <td>0.0</td>\n",
       "      <td>0.0</td>\n",
       "      <td>17137.0</td>\n",
       "    </tr>\n",
       "    <tr>\n",
       "      <th>3</th>\n",
       "      <td>1989.0</td>\n",
       "      <td>Rwanda</td>\n",
       "      <td>319501.0</td>\n",
       "      <td>0.0</td>\n",
       "      <td>0.0</td>\n",
       "      <td>0.0</td>\n",
       "      <td>0.0</td>\n",
       "      <td>319501.0</td>\n",
       "    </tr>\n",
       "    <tr>\n",
       "      <th>4</th>\n",
       "      <td>1989.0</td>\n",
       "      <td>Uganda</td>\n",
       "      <td>21358.0</td>\n",
       "      <td>0.0</td>\n",
       "      <td>0.0</td>\n",
       "      <td>0.0</td>\n",
       "      <td>0.0</td>\n",
       "      <td>21358.0</td>\n",
       "    </tr>\n",
       "  </tbody>\n",
       "</table>\n",
       "</div>"
      ],
      "text/plain": [
       "     year                  origin   refugee  asylum  internally_displaced  \\\n",
       "0  1989.0  Dem. Rep. of the Congo  100786.0     0.0                   0.0   \n",
       "1  1989.0                 Namibia    3704.0     0.0                   0.0   \n",
       "2  1989.0            South Africa   17137.0     0.0                   0.0   \n",
       "3  1989.0                  Rwanda  319501.0     0.0                   0.0   \n",
       "4  1989.0                  Uganda   21358.0     0.0                   0.0   \n",
       "\n",
       "   stateless  others     total  \n",
       "0        0.0     0.0  100786.0  \n",
       "1        0.0     0.0    3704.0  \n",
       "2        0.0     0.0   17137.0  \n",
       "3        0.0     0.0  319501.0  \n",
       "4        0.0     0.0   21358.0  "
      ]
     },
     "metadata": {},
     "output_type": "display_data"
    }
   ],
   "source": [
    "REFUGEE_COLUMNS = [\"year\", \"origin\", \"refugee\", \"asylum\", \"internally_displaced\", \"stateless\", \"others\", \"total\"]\n",
    "refugee_df = pd.DataFrame(columns=REFUGEE_COLUMNS)\n",
    "\n",
    "for year in tqdm(raw_refugee_df.year.unique()):\n",
    "    for origin in raw_refugee_df[raw_refugee_df.year == year].origin.unique():\n",
    "        index = (raw_refugee_df.year == year) & (raw_refugee_df.origin == origin)\n",
    "        temp_df_no_dest = raw_refugee_df[index].drop([\"country_dest\"], axis=1)\n",
    "        sum_series = temp_df_no_dest.sum(numeric_only=True)\n",
    "        # drop the row if the column of interest are zero (except total, because it might take into account returned)\n",
    "        if (sum_series[1:5] == 0).all():\n",
    "            continue\n",
    "            \n",
    "        sum_series[\"year\"] = year\n",
    "        sum_series[\"origin\"] = origin\n",
    "        sum_series[\"total\"] = sum_series[1:5].sum()\n",
    "        \n",
    "        refugee_df = refugee_df.append(sum_series, ignore_index=True)\n",
    "        \n",
    "display(refugee_df.head(5))"
   ]
  },
  {
   "cell_type": "code",
   "execution_count": 20,
   "metadata": {
    "ExecuteTime": {
     "end_time": "2017-11-28T20:19:59.993411Z",
     "start_time": "2017-11-28T20:19:59.989662Z"
    },
    "collapsed": true
   },
   "outputs": [],
   "source": [
    "with open('refugee.pickle', 'wb') as out:\n",
    "    pickle.dump(refugee_df, out)"
   ]
  },
  {
   "cell_type": "markdown",
   "metadata": {},
   "source": [
    "## Creation of Networks from the datasets"
   ]
  },
  {
   "cell_type": "markdown",
   "metadata": {},
   "source": [
    "Networks are a great way to analyze the information. They can group data in a manner that can be easily visualized.\n",
    "Also, network theory can be used on them, which can extract meaningful information on the dataset."
   ]
  },
  {
   "cell_type": "code",
   "execution_count": 21,
   "metadata": {
    "ExecuteTime": {
     "end_time": "2017-11-28T20:20:00.064100Z",
     "start_time": "2017-11-28T20:19:59.994812Z"
    },
    "collapsed": true
   },
   "outputs": [],
   "source": [
    "with open('conflict.pickle', 'rb') as data_source:\n",
    "    conflict_df = pickle.load(data_source)"
   ]
  },
  {
   "cell_type": "code",
   "execution_count": 22,
   "metadata": {
    "ExecuteTime": {
     "end_time": "2017-11-28T20:20:00.070383Z",
     "start_time": "2017-11-28T20:20:00.065934Z"
    },
    "collapsed": true
   },
   "outputs": [],
   "source": [
    "with open('refugee.pickle', 'rb') as data_source:\n",
    "    refugee_df = pickle.load(data_source)"
   ]
  },
  {
   "cell_type": "markdown",
   "metadata": {},
   "source": [
    "### Create a dataframe of sides (MOVED TO NEW NOTEBOOK)"
   ]
  },
  {
   "cell_type": "markdown",
   "metadata": {},
   "source": [
    "### Create a network of sides (MOVED TO NEW NOTEBOOK)"
   ]
  },
  {
   "cell_type": "markdown",
   "metadata": {},
   "source": [
    "### Create a network with sides and conflicts\n",
    "\n",
    "We will create a first simple network with sides as nodes and link them with the conflicts they were involved in."
   ]
  },
  {
   "cell_type": "code",
   "execution_count": 29,
   "metadata": {
    "collapsed": true
   },
   "outputs": [],
   "source": [
    "side_network = nx.Graph()\n",
    "\n",
    "#create a node for each side\n",
    "side_network.add_nodes_from(conflict_df.side_a_new_id.append(conflict_df.side_b_new_id).unique())\n",
    "\n",
    "#create an edge for each conflict\n",
    "for row in conflict_df.itertuples():\n",
    "    side_network.add_edge(row.side_a_new_id,row.side_b_new_id, weight=row.deaths_a+row.deaths_b)"
   ]
  },
  {
   "cell_type": "markdown",
   "metadata": {},
   "source": [
    "### Create a network of distances"
   ]
  },
  {
   "cell_type": "markdown",
   "metadata": {},
   "source": [
    "We will split this network in two types of node: events and conflicts.\n",
    "Each conflict location will be the centroid of all its events (mean longitude and latitude)\n",
    "Each event will be linked to it's respective conflict with the edge representing the distance to the center of the conflict.\n",
    "Each conflicts will be linked together by an edge describing the distance.\n",
    "\n",
    "For each conflict node, we will also extract the statistics of its event distances with stats.describe.\n",
    "\n",
    "This network will be used to find spatial relationship between various conflicts.\n",
    "Also, because each node has a longitude and latitude information, it will be possible to print it on a map and\n",
    "selectively print links between event and conflicts or between conflicts."
   ]
  },
  {
   "cell_type": "code",
   "execution_count": 30,
   "metadata": {
    "ExecuteTime": {
     "end_time": "2017-11-28T20:20:00.110758Z",
     "start_time": "2017-11-28T20:20:00.072221Z"
    }
   },
   "outputs": [
    {
     "data": {
      "text/html": [
       "<div>\n",
       "<style>\n",
       "    .dataframe thead tr:only-child th {\n",
       "        text-align: right;\n",
       "    }\n",
       "\n",
       "    .dataframe thead th {\n",
       "        text-align: left;\n",
       "    }\n",
       "\n",
       "    .dataframe tbody tr th {\n",
       "        vertical-align: top;\n",
       "    }\n",
       "</style>\n",
       "<table border=\"1\" class=\"dataframe\">\n",
       "  <thead>\n",
       "    <tr style=\"text-align: right;\">\n",
       "      <th></th>\n",
       "      <th>id</th>\n",
       "      <th>year</th>\n",
       "      <th>type_of_violence</th>\n",
       "      <th>conflict_new_id</th>\n",
       "      <th>conflict_name</th>\n",
       "      <th>side_a_new_id</th>\n",
       "      <th>gwnoa</th>\n",
       "      <th>side_a</th>\n",
       "      <th>gwnob</th>\n",
       "      <th>side_b_new_id</th>\n",
       "      <th>...</th>\n",
       "      <th>geom_wkt</th>\n",
       "      <th>country</th>\n",
       "      <th>country_id</th>\n",
       "      <th>date_start</th>\n",
       "      <th>date_end</th>\n",
       "      <th>deaths_a</th>\n",
       "      <th>deaths_b</th>\n",
       "      <th>deaths_civilians</th>\n",
       "      <th>deaths_unknown</th>\n",
       "      <th>best</th>\n",
       "    </tr>\n",
       "  </thead>\n",
       "  <tbody>\n",
       "    <tr>\n",
       "      <th>0</th>\n",
       "      <td>4</td>\n",
       "      <td>2010</td>\n",
       "      <td>1</td>\n",
       "      <td>230</td>\n",
       "      <td>Yemen (North Yemen):Government</td>\n",
       "      <td>123</td>\n",
       "      <td>678.0</td>\n",
       "      <td>Government of Yemen (North Yemen)</td>\n",
       "      <td>NaN</td>\n",
       "      <td>881</td>\n",
       "      <td>...</td>\n",
       "      <td>POINT (44.206667 15.354722)</td>\n",
       "      <td>Yemen (North Yemen)</td>\n",
       "      <td>678</td>\n",
       "      <td>2010</td>\n",
       "      <td>2010</td>\n",
       "      <td>2</td>\n",
       "      <td>0</td>\n",
       "      <td>0</td>\n",
       "      <td>0</td>\n",
       "      <td>2</td>\n",
       "    </tr>\n",
       "  </tbody>\n",
       "</table>\n",
       "<p>1 rows × 27 columns</p>\n",
       "</div>"
      ],
      "text/plain": [
       "   id  year  type_of_violence  conflict_new_id  \\\n",
       "0   4  2010                 1              230   \n",
       "\n",
       "                    conflict_name  side_a_new_id  gwnoa  \\\n",
       "0  Yemen (North Yemen):Government            123  678.0   \n",
       "\n",
       "                              side_a  gwnob  side_b_new_id  ...   \\\n",
       "0  Government of Yemen (North Yemen)    NaN            881  ...    \n",
       "\n",
       "                      geom_wkt              country country_id date_start  \\\n",
       "0  POINT (44.206667 15.354722)  Yemen (North Yemen)        678       2010   \n",
       "\n",
       "  date_end  deaths_a  deaths_b deaths_civilians deaths_unknown  best  \n",
       "0     2010         2         0                0              0     2  \n",
       "\n",
       "[1 rows x 27 columns]"
      ]
     },
     "metadata": {},
     "output_type": "display_data"
    },
    {
     "data": {
      "text/html": [
       "<div>\n",
       "<style>\n",
       "    .dataframe thead tr:only-child th {\n",
       "        text-align: right;\n",
       "    }\n",
       "\n",
       "    .dataframe thead th {\n",
       "        text-align: left;\n",
       "    }\n",
       "\n",
       "    .dataframe tbody tr th {\n",
       "        vertical-align: top;\n",
       "    }\n",
       "</style>\n",
       "<table border=\"1\" class=\"dataframe\">\n",
       "  <thead>\n",
       "    <tr style=\"text-align: right;\">\n",
       "      <th></th>\n",
       "      <th>year</th>\n",
       "      <th>origin</th>\n",
       "      <th>refugee</th>\n",
       "      <th>asylum</th>\n",
       "      <th>internally_displaced</th>\n",
       "      <th>stateless</th>\n",
       "      <th>others</th>\n",
       "      <th>total</th>\n",
       "    </tr>\n",
       "  </thead>\n",
       "  <tbody>\n",
       "    <tr>\n",
       "      <th>0</th>\n",
       "      <td>1989.0</td>\n",
       "      <td>Dem. Rep. of the Congo</td>\n",
       "      <td>100786.0</td>\n",
       "      <td>0.0</td>\n",
       "      <td>0.0</td>\n",
       "      <td>0.0</td>\n",
       "      <td>0.0</td>\n",
       "      <td>100786.0</td>\n",
       "    </tr>\n",
       "  </tbody>\n",
       "</table>\n",
       "</div>"
      ],
      "text/plain": [
       "     year                  origin   refugee  asylum  internally_displaced  \\\n",
       "0  1989.0  Dem. Rep. of the Congo  100786.0     0.0                   0.0   \n",
       "\n",
       "   stateless  others     total  \n",
       "0        0.0     0.0  100786.0  "
      ]
     },
     "metadata": {},
     "output_type": "display_data"
    }
   ],
   "source": [
    "display(conflict_df.head(1))\n",
    "display(refugee_df.head(1))"
   ]
  },
  {
   "cell_type": "code",
   "execution_count": 31,
   "metadata": {
    "ExecuteTime": {
     "end_time": "2017-11-28T20:20:00.142488Z",
     "start_time": "2017-11-28T20:20:00.112082Z"
    }
   },
   "outputs": [
    {
     "data": {
      "text/html": [
       "<div>\n",
       "<style>\n",
       "    .dataframe thead tr:only-child th {\n",
       "        text-align: right;\n",
       "    }\n",
       "\n",
       "    .dataframe thead th {\n",
       "        text-align: left;\n",
       "    }\n",
       "\n",
       "    .dataframe tbody tr th {\n",
       "        vertical-align: top;\n",
       "    }\n",
       "</style>\n",
       "<table border=\"1\" class=\"dataframe\">\n",
       "  <thead>\n",
       "    <tr style=\"text-align: right;\">\n",
       "      <th></th>\n",
       "      <th>year</th>\n",
       "      <th>type_of_violence</th>\n",
       "      <th>conflict_new_id</th>\n",
       "      <th>conflict_name</th>\n",
       "      <th>side_a_new_id</th>\n",
       "      <th>gwnoa</th>\n",
       "      <th>side_a</th>\n",
       "      <th>gwnob</th>\n",
       "      <th>side_b_new_id</th>\n",
       "      <th>side_b</th>\n",
       "      <th>...</th>\n",
       "      <th>geom_wkt</th>\n",
       "      <th>country</th>\n",
       "      <th>country_id</th>\n",
       "      <th>date_start</th>\n",
       "      <th>date_end</th>\n",
       "      <th>deaths_a</th>\n",
       "      <th>deaths_b</th>\n",
       "      <th>deaths_civilians</th>\n",
       "      <th>deaths_unknown</th>\n",
       "      <th>best</th>\n",
       "    </tr>\n",
       "    <tr>\n",
       "      <th>id</th>\n",
       "      <th></th>\n",
       "      <th></th>\n",
       "      <th></th>\n",
       "      <th></th>\n",
       "      <th></th>\n",
       "      <th></th>\n",
       "      <th></th>\n",
       "      <th></th>\n",
       "      <th></th>\n",
       "      <th></th>\n",
       "      <th></th>\n",
       "      <th></th>\n",
       "      <th></th>\n",
       "      <th></th>\n",
       "      <th></th>\n",
       "      <th></th>\n",
       "      <th></th>\n",
       "      <th></th>\n",
       "      <th></th>\n",
       "      <th></th>\n",
       "      <th></th>\n",
       "    </tr>\n",
       "  </thead>\n",
       "  <tbody>\n",
       "    <tr>\n",
       "      <th>4</th>\n",
       "      <td>2010</td>\n",
       "      <td>1</td>\n",
       "      <td>230</td>\n",
       "      <td>Yemen (North Yemen):Government</td>\n",
       "      <td>123</td>\n",
       "      <td>678.0</td>\n",
       "      <td>Government of Yemen (North Yemen)</td>\n",
       "      <td>NaN</td>\n",
       "      <td>881</td>\n",
       "      <td>AQAP</td>\n",
       "      <td>...</td>\n",
       "      <td>POINT (44.206667 15.354722)</td>\n",
       "      <td>Yemen (North Yemen)</td>\n",
       "      <td>678</td>\n",
       "      <td>2010</td>\n",
       "      <td>2010</td>\n",
       "      <td>2</td>\n",
       "      <td>0</td>\n",
       "      <td>0</td>\n",
       "      <td>0</td>\n",
       "      <td>2</td>\n",
       "    </tr>\n",
       "    <tr>\n",
       "      <th>5</th>\n",
       "      <td>2011</td>\n",
       "      <td>3</td>\n",
       "      <td>715</td>\n",
       "      <td>Government of Yemen (North Yemen) - Civilians</td>\n",
       "      <td>123</td>\n",
       "      <td>678.0</td>\n",
       "      <td>Government of Yemen (North Yemen)</td>\n",
       "      <td>NaN</td>\n",
       "      <td>1</td>\n",
       "      <td>Civilians</td>\n",
       "      <td>...</td>\n",
       "      <td>POINT (45.036667 12.779444)</td>\n",
       "      <td>Yemen (North Yemen)</td>\n",
       "      <td>678</td>\n",
       "      <td>2011</td>\n",
       "      <td>2011</td>\n",
       "      <td>0</td>\n",
       "      <td>0</td>\n",
       "      <td>0</td>\n",
       "      <td>0</td>\n",
       "      <td>0</td>\n",
       "    </tr>\n",
       "  </tbody>\n",
       "</table>\n",
       "<p>2 rows × 26 columns</p>\n",
       "</div>"
      ],
      "text/plain": [
       "    year  type_of_violence  conflict_new_id  \\\n",
       "id                                            \n",
       "4   2010                 1              230   \n",
       "5   2011                 3              715   \n",
       "\n",
       "                                    conflict_name  side_a_new_id  gwnoa  \\\n",
       "id                                                                        \n",
       "4                  Yemen (North Yemen):Government            123  678.0   \n",
       "5   Government of Yemen (North Yemen) - Civilians            123  678.0   \n",
       "\n",
       "                               side_a  gwnob  side_b_new_id     side_b ...   \\\n",
       "id                                                                     ...    \n",
       "4   Government of Yemen (North Yemen)    NaN            881       AQAP ...    \n",
       "5   Government of Yemen (North Yemen)    NaN              1  Civilians ...    \n",
       "\n",
       "                       geom_wkt              country country_id date_start  \\\n",
       "id                                                                           \n",
       "4   POINT (44.206667 15.354722)  Yemen (North Yemen)        678       2010   \n",
       "5   POINT (45.036667 12.779444)  Yemen (North Yemen)        678       2011   \n",
       "\n",
       "    date_end  deaths_a deaths_b deaths_civilians  deaths_unknown best  \n",
       "id                                                                     \n",
       "4       2010         2        0                0               0    2  \n",
       "5       2011         0        0                0               0    0  \n",
       "\n",
       "[2 rows x 26 columns]"
      ]
     },
     "metadata": {},
     "output_type": "display_data"
    }
   ],
   "source": [
    "# graph indexed\n",
    "conflict_df = conflict_df.set_index('id')\n",
    "display(conflict_df.head(2))"
   ]
  },
  {
   "cell_type": "code",
   "execution_count": 32,
   "metadata": {
    "ExecuteTime": {
     "end_time": "2017-11-28T20:20:00.161307Z",
     "start_time": "2017-11-28T20:20:00.144271Z"
    },
    "collapsed": true,
    "run_control": {
     "marked": true
    }
   },
   "outputs": [],
   "source": [
    "def distance_between_nodes(graph, node_1_id, node_2_id):\n",
    "    \"\"\"Get distance between two nodes by using their latitude and longitude property\"\"\"\n",
    "    pos_1 = (graph.node[node_1_id][\"latitude\"], graph.node[node_1_id][\"longitude\"])\n",
    "    pos_2 = (graph.node[node_2_id][\"latitude\"], graph.node[node_2_id][\"longitude\"])\n",
    "    # Sometime vincenty doesn't converge, just put None as weight\n",
    "    try:\n",
    "        distance = vincenty(pos_1, pos_2).km\n",
    "    except:\n",
    "        # Try to get great circle distance instead\n",
    "        try:\n",
    "            distance = great_circle(pos_1, pos_2).km\n",
    "        except:\n",
    "            print(\"Error: failed to get distance between node {} and node {}\".format(node_1_id, node_2_id))\n",
    "            print(\"Node 1 positions: {}\".format(pos_1))\n",
    "            print(\"Node 2 positions: {}\".format(pos_2))\n",
    "            distance = None\n",
    "    return distance\n",
    "    "
   ]
  },
  {
   "cell_type": "code",
   "execution_count": 33,
   "metadata": {
    "ExecuteTime": {
     "end_time": "2017-11-28T20:20:00.178482Z",
     "start_time": "2017-11-28T20:20:00.162846Z"
    },
    "collapsed": true
   },
   "outputs": [],
   "source": [
    "def get_conflict_lat_long(conflict_id):\n",
    "    \"\"\"Get the average latitude and longitude for a particular conflict id\"\"\"\n",
    "    longitude = conflict_df[conflict_df.conflict_new_id == conflict_id].longitude.mean()\n",
    "    latitude = conflict_df[conflict_df.conflict_new_id == conflict_id].latitude.mean()\n",
    "    return (latitude, longitude)\n",
    "    "
   ]
  },
  {
   "cell_type": "code",
   "execution_count": 34,
   "metadata": {
    "ExecuteTime": {
     "end_time": "2017-11-28T20:20:03.792981Z",
     "start_time": "2017-11-28T20:20:00.180103Z"
    },
    "collapsed": true
   },
   "outputs": [],
   "source": [
    "distance_graph = nx.Graph()\n",
    "\n",
    "# Create a node for each conflict event\n",
    "distance_graph.add_nodes_from(conflict_df.index.values, nature=\"event\", year=conflict_df.year)\n",
    "\n",
    "# Set longitude and latitude for each node\n",
    "for index in conflict_df.index.values:\n",
    "    distance_graph.node[index][\"longitude\"] = conflict_df.loc[index, \"longitude\"]\n",
    "    distance_graph.node[index][\"latitude\"] = conflict_df.loc[index, \"latitude\"]\n",
    "\n",
    "# Create a node for each unique conflict, use a special node id to avoid conflict with events\n",
    "for conflict_id in conflict_df.conflict_new_id.unique():\n",
    "    conflict_node_name = \"conflict_{}\".format(conflict_id)\n",
    "    distance_graph.add_node(conflict_node_name, nature=\"conflict\")\n",
    "    \n",
    "    # Get the average position for the conflict\n",
    "    latitude, longitude = get_conflict_lat_long(conflict_id)\n",
    "    distance_graph.node[conflict_node_name][\"longitude\"] = longitude\n",
    "    distance_graph.node[conflict_node_name][\"latitude\"] = latitude"
   ]
  },
  {
   "cell_type": "code",
   "execution_count": 35,
   "metadata": {
    "ExecuteTime": {
     "end_time": "2017-11-28T20:20:08.070220Z",
     "start_time": "2017-11-28T20:20:03.794759Z"
    }
   },
   "outputs": [
    {
     "name": "stderr",
     "output_type": "stream",
     "text": [
      "100%|██████████| 997/997 [00:05<00:00, 168.15it/s]\n"
     ]
    }
   ],
   "source": [
    "# Create edges from event to their conflict\n",
    "for conflict_id in tqdm(conflict_df.conflict_new_id.unique()):\n",
    "    conflict_node_name = \"conflict_{}\".format(conflict_id)\n",
    "    \n",
    "    for event_id in conflict_df[conflict_df.conflict_new_id == conflict_id].index.values:\n",
    "        distance = distance_between_nodes(distance_graph, conflict_node_name, event_id)\n",
    "        distance_graph.add_edge(conflict_node_name, event_id, weight=distance, nature=\"event_to_conflict\")\n"
   ]
  },
  {
   "cell_type": "code",
   "execution_count": 36,
   "metadata": {
    "ExecuteTime": {
     "end_time": "2017-11-28T20:20:38.658209Z",
     "start_time": "2017-11-28T20:20:08.071809Z"
    }
   },
   "outputs": [
    {
     "name": "stderr",
     "output_type": "stream",
     "text": [
      "100%|██████████| 997/997 [00:44<00:00, 22.61it/s]\n"
     ]
    }
   ],
   "source": [
    "# Extract the distance between all conflicts \n",
    "for conflict_id_1 in tqdm(conflict_df.conflict_new_id.unique()):\n",
    "    conflict_node_name_1 = \"conflict_{}\".format(conflict_id_1)\n",
    "    \n",
    "    for conflict_id_2 in conflict_df.conflict_new_id.unique():   \n",
    "        conflict_node_name_2 = \"conflict_{}\".format(conflict_id_2)   \n",
    "        \n",
    "        # No self loop\n",
    "        if conflict_id_1 == conflict_id_2:\n",
    "            pass\n",
    "        \n",
    "        # Don't do two times the same edge\n",
    "        if distance_graph.has_edge(conflict_node_name_1, conflict_node_name_2):\n",
    "            pass\n",
    "        \n",
    "        distance_graph.add_edge(conflict_node_name_1, conflict_node_name_2, \n",
    "                  weight = distance_between_nodes(distance_graph, conflict_node_name_1, conflict_node_name_2),\n",
    "                  nature = \"conflict_to_conflict\")\n",
    "        "
   ]
  },
  {
   "cell_type": "code",
   "execution_count": 37,
   "metadata": {
    "ExecuteTime": {
     "end_time": "2017-11-28T20:20:38.670055Z",
     "start_time": "2017-11-28T20:20:38.660081Z"
    },
    "collapsed": true
   },
   "outputs": [],
   "source": [
    "def get_event_weights(graph, node, nature=\"event_to_conflict\"):\n",
    "    \"\"\"Return the event weights for the given nature. Can be an array of natures\"\"\"\n",
    "    edges = [e[2] for e in distance_graph.edges_iter(nbunch=node, data=True)] \n",
    "    if type(nature) == str:\n",
    "        return [d[\"weight\"] for d in edges if d[\"nature\"] == nature]\n",
    "    else:\n",
    "        weights = [[] for x in range(len(nature))]\n",
    "        for index, item in enumerate(nature):\n",
    "            weights[index] = [d[\"weight\"] for d in edges if d[\"nature\"] == item]\n",
    "        return weights\n",
    "    "
   ]
  },
  {
   "cell_type": "code",
   "execution_count": 38,
   "metadata": {
    "ExecuteTime": {
     "end_time": "2017-11-28T20:20:39.649836Z",
     "start_time": "2017-11-28T20:20:38.671349Z"
    }
   },
   "outputs": [
    {
     "name": "stderr",
     "output_type": "stream",
     "text": [
      " 98%|█████████▊| 133173/136178 [00:00<00:00, 1331429.70it/s]/home/vinz/anaconda3/lib/python3.6/site-packages/numpy/core/fromnumeric.py:3126: RuntimeWarning: Degrees of freedom <= 0 for slice\n",
      "  **kwargs)\n",
      "/home/vinz/anaconda3/lib/python3.6/site-packages/numpy/core/_methods.py:127: RuntimeWarning: invalid value encountered in double_scalars\n",
      "  ret = ret.dtype.type(ret / rcount)\n",
      "100%|██████████| 136178/136178 [00:01<00:00, 109419.55it/s] \n"
     ]
    }
   ],
   "source": [
    "# Extract conflict statistics\n",
    "for node in tqdm(distance_graph.nodes()):\n",
    "    if distance_graph.node[node][\"nature\"] == \"event\":\n",
    "        continue\n",
    "    \n",
    "    weights = get_event_weights(distance_graph, node, nature=[\"event_to_conflict\", \"conflict_to_conflict\"])\n",
    "    \n",
    "    distance_graph.node[node][\"events_stats\"] = stats.describe(weights[0])\n",
    "    #distance_graph.node[node][\"conflicts_stats\"] = stats.describe(weights[1])\n",
    "        "
   ]
  },
  {
   "cell_type": "code",
   "execution_count": 39,
   "metadata": {
    "ExecuteTime": {
     "end_time": "2017-11-28T20:20:41.758127Z",
     "start_time": "2017-11-28T20:20:39.651424Z"
    },
    "collapsed": true
   },
   "outputs": [],
   "source": [
    "with open('distance_nx.pickle', 'wb') as out:\n",
    "    pickle.dump(distance_graph, out)"
   ]
  },
  {
   "cell_type": "code",
   "execution_count": 40,
   "metadata": {
    "ExecuteTime": {
     "end_time": "2017-11-28T20:20:42.776840Z",
     "start_time": "2017-11-28T20:20:41.760133Z"
    },
    "collapsed": true
   },
   "outputs": [],
   "source": [
    "with open('distance_nx.pickle', 'rb') as data_source:\n",
    "    distance_graph = pickle.load(data_source) "
   ]
  },
  {
   "cell_type": "markdown",
   "metadata": {
    "ExecuteTime": {
     "end_time": "2017-11-28T20:13:20.338860Z",
     "start_time": "2017-11-28T20:13:20.335995Z"
    }
   },
   "source": [
    "## Creation of specific Dataframes"
   ]
  },
  {
   "cell_type": "markdown",
   "metadata": {},
   "source": [
    "In this section, we create dataframe from our base dataset that combine or merge important information from the datasets."
   ]
  },
  {
   "cell_type": "markdown",
   "metadata": {},
   "source": [
    "### Combined displacement and event dataframe"
   ]
  },
  {
   "cell_type": "markdown",
   "metadata": {},
   "source": [
    "TODO: THIS SECTION IS NOT COMPLETE YET"
   ]
  },
  {
   "cell_type": "markdown",
   "metadata": {},
   "source": [
    "The goal of this section is to create a dataframe that links the displacement information given by the UNHCR with the events and deaths given by the GED dataset. This will be grouped by year and will keep track of the number of events and of the event identifiers."
   ]
  },
  {
   "cell_type": "code",
   "execution_count": 41,
   "metadata": {
    "ExecuteTime": {
     "end_time": "2017-11-28T20:20:42.842568Z",
     "start_time": "2017-11-28T20:20:42.778440Z"
    },
    "collapsed": true
   },
   "outputs": [],
   "source": [
    "with open('conflict.pickle', 'rb') as data_source:\n",
    "    conflict_df = pickle.load(data_source)"
   ]
  },
  {
   "cell_type": "code",
   "execution_count": 42,
   "metadata": {
    "ExecuteTime": {
     "end_time": "2017-11-28T20:20:42.847419Z",
     "start_time": "2017-11-28T20:20:42.843882Z"
    },
    "collapsed": true
   },
   "outputs": [],
   "source": [
    "with open('refugee.pickle', 'rb') as data_source:\n",
    "    refugee_df = pickle.load(data_source)"
   ]
  },
  {
   "cell_type": "code",
   "execution_count": 43,
   "metadata": {
    "ExecuteTime": {
     "end_time": "2017-11-28T20:20:42.885043Z",
     "start_time": "2017-11-28T20:20:42.848756Z"
    }
   },
   "outputs": [
    {
     "data": {
      "text/html": [
       "<div>\n",
       "<style>\n",
       "    .dataframe thead tr:only-child th {\n",
       "        text-align: right;\n",
       "    }\n",
       "\n",
       "    .dataframe thead th {\n",
       "        text-align: left;\n",
       "    }\n",
       "\n",
       "    .dataframe tbody tr th {\n",
       "        vertical-align: top;\n",
       "    }\n",
       "</style>\n",
       "<table border=\"1\" class=\"dataframe\">\n",
       "  <thead>\n",
       "    <tr style=\"text-align: right;\">\n",
       "      <th></th>\n",
       "      <th>id</th>\n",
       "      <th>year</th>\n",
       "      <th>type_of_violence</th>\n",
       "      <th>conflict_new_id</th>\n",
       "      <th>conflict_name</th>\n",
       "      <th>side_a_new_id</th>\n",
       "      <th>gwnoa</th>\n",
       "      <th>side_a</th>\n",
       "      <th>gwnob</th>\n",
       "      <th>side_b_new_id</th>\n",
       "      <th>...</th>\n",
       "      <th>geom_wkt</th>\n",
       "      <th>country</th>\n",
       "      <th>country_id</th>\n",
       "      <th>date_start</th>\n",
       "      <th>date_end</th>\n",
       "      <th>deaths_a</th>\n",
       "      <th>deaths_b</th>\n",
       "      <th>deaths_civilians</th>\n",
       "      <th>deaths_unknown</th>\n",
       "      <th>best</th>\n",
       "    </tr>\n",
       "  </thead>\n",
       "  <tbody>\n",
       "    <tr>\n",
       "      <th>0</th>\n",
       "      <td>4</td>\n",
       "      <td>2010</td>\n",
       "      <td>1</td>\n",
       "      <td>230</td>\n",
       "      <td>Yemen (North Yemen):Government</td>\n",
       "      <td>123</td>\n",
       "      <td>678.0</td>\n",
       "      <td>Government of Yemen (North Yemen)</td>\n",
       "      <td>NaN</td>\n",
       "      <td>881</td>\n",
       "      <td>...</td>\n",
       "      <td>POINT (44.206667 15.354722)</td>\n",
       "      <td>Yemen (North Yemen)</td>\n",
       "      <td>678</td>\n",
       "      <td>2010</td>\n",
       "      <td>2010</td>\n",
       "      <td>2</td>\n",
       "      <td>0</td>\n",
       "      <td>0</td>\n",
       "      <td>0</td>\n",
       "      <td>2</td>\n",
       "    </tr>\n",
       "    <tr>\n",
       "      <th>1</th>\n",
       "      <td>5</td>\n",
       "      <td>2011</td>\n",
       "      <td>3</td>\n",
       "      <td>715</td>\n",
       "      <td>Government of Yemen (North Yemen) - Civilians</td>\n",
       "      <td>123</td>\n",
       "      <td>678.0</td>\n",
       "      <td>Government of Yemen (North Yemen)</td>\n",
       "      <td>NaN</td>\n",
       "      <td>1</td>\n",
       "      <td>...</td>\n",
       "      <td>POINT (45.036667 12.779444)</td>\n",
       "      <td>Yemen (North Yemen)</td>\n",
       "      <td>678</td>\n",
       "      <td>2011</td>\n",
       "      <td>2011</td>\n",
       "      <td>0</td>\n",
       "      <td>0</td>\n",
       "      <td>0</td>\n",
       "      <td>0</td>\n",
       "      <td>0</td>\n",
       "    </tr>\n",
       "  </tbody>\n",
       "</table>\n",
       "<p>2 rows × 27 columns</p>\n",
       "</div>"
      ],
      "text/plain": [
       "   id  year  type_of_violence  conflict_new_id  \\\n",
       "0   4  2010                 1              230   \n",
       "1   5  2011                 3              715   \n",
       "\n",
       "                                   conflict_name  side_a_new_id  gwnoa  \\\n",
       "0                 Yemen (North Yemen):Government            123  678.0   \n",
       "1  Government of Yemen (North Yemen) - Civilians            123  678.0   \n",
       "\n",
       "                              side_a  gwnob  side_b_new_id  ...   \\\n",
       "0  Government of Yemen (North Yemen)    NaN            881  ...    \n",
       "1  Government of Yemen (North Yemen)    NaN              1  ...    \n",
       "\n",
       "                      geom_wkt              country country_id date_start  \\\n",
       "0  POINT (44.206667 15.354722)  Yemen (North Yemen)        678       2010   \n",
       "1  POINT (45.036667 12.779444)  Yemen (North Yemen)        678       2011   \n",
       "\n",
       "  date_end  deaths_a  deaths_b deaths_civilians deaths_unknown  best  \n",
       "0     2010         2         0                0              0     2  \n",
       "1     2011         0         0                0              0     0  \n",
       "\n",
       "[2 rows x 27 columns]"
      ]
     },
     "metadata": {},
     "output_type": "display_data"
    },
    {
     "data": {
      "text/html": [
       "<div>\n",
       "<style>\n",
       "    .dataframe thead tr:only-child th {\n",
       "        text-align: right;\n",
       "    }\n",
       "\n",
       "    .dataframe thead th {\n",
       "        text-align: left;\n",
       "    }\n",
       "\n",
       "    .dataframe tbody tr th {\n",
       "        vertical-align: top;\n",
       "    }\n",
       "</style>\n",
       "<table border=\"1\" class=\"dataframe\">\n",
       "  <thead>\n",
       "    <tr style=\"text-align: right;\">\n",
       "      <th></th>\n",
       "      <th>year</th>\n",
       "      <th>origin</th>\n",
       "      <th>refugee</th>\n",
       "      <th>asylum</th>\n",
       "      <th>internally_displaced</th>\n",
       "      <th>stateless</th>\n",
       "      <th>others</th>\n",
       "      <th>total</th>\n",
       "    </tr>\n",
       "  </thead>\n",
       "  <tbody>\n",
       "    <tr>\n",
       "      <th>0</th>\n",
       "      <td>1989.0</td>\n",
       "      <td>Dem. Rep. of the Congo</td>\n",
       "      <td>100786.0</td>\n",
       "      <td>0.0</td>\n",
       "      <td>0.0</td>\n",
       "      <td>0.0</td>\n",
       "      <td>0.0</td>\n",
       "      <td>100786.0</td>\n",
       "    </tr>\n",
       "    <tr>\n",
       "      <th>1</th>\n",
       "      <td>1989.0</td>\n",
       "      <td>Namibia</td>\n",
       "      <td>3704.0</td>\n",
       "      <td>0.0</td>\n",
       "      <td>0.0</td>\n",
       "      <td>0.0</td>\n",
       "      <td>0.0</td>\n",
       "      <td>3704.0</td>\n",
       "    </tr>\n",
       "  </tbody>\n",
       "</table>\n",
       "</div>"
      ],
      "text/plain": [
       "     year                  origin   refugee  asylum  internally_displaced  \\\n",
       "0  1989.0  Dem. Rep. of the Congo  100786.0     0.0                   0.0   \n",
       "1  1989.0                 Namibia    3704.0     0.0                   0.0   \n",
       "\n",
       "   stateless  others     total  \n",
       "0        0.0     0.0  100786.0  \n",
       "1        0.0     0.0    3704.0  "
      ]
     },
     "metadata": {},
     "output_type": "display_data"
    }
   ],
   "source": [
    "display(conflict_df.head(2))\n",
    "display(refugee_df.head(2))"
   ]
  },
  {
   "cell_type": "code",
   "execution_count": 44,
   "metadata": {
    "ExecuteTime": {
     "end_time": "2017-11-28T20:20:42.901570Z",
     "start_time": "2017-11-28T20:20:42.886712Z"
    }
   },
   "outputs": [
    {
     "data": {
      "text/html": [
       "<div>\n",
       "<style>\n",
       "    .dataframe thead tr:only-child th {\n",
       "        text-align: right;\n",
       "    }\n",
       "\n",
       "    .dataframe thead th {\n",
       "        text-align: left;\n",
       "    }\n",
       "\n",
       "    .dataframe tbody tr th {\n",
       "        vertical-align: top;\n",
       "    }\n",
       "</style>\n",
       "<table border=\"1\" class=\"dataframe\">\n",
       "  <thead>\n",
       "    <tr style=\"text-align: right;\">\n",
       "      <th></th>\n",
       "      <th>id</th>\n",
       "      <th>code</th>\n",
       "      <th>name</th>\n",
       "    </tr>\n",
       "  </thead>\n",
       "  <tbody>\n",
       "    <tr>\n",
       "      <th>0</th>\n",
       "      <td>2</td>\n",
       "      <td>USA</td>\n",
       "      <td>United States of America</td>\n",
       "    </tr>\n",
       "    <tr>\n",
       "      <th>1</th>\n",
       "      <td>20</td>\n",
       "      <td>CAN</td>\n",
       "      <td>Canada</td>\n",
       "    </tr>\n",
       "  </tbody>\n",
       "</table>\n",
       "</div>"
      ],
      "text/plain": [
       "   id code                      name\n",
       "0   2  USA  United States of America\n",
       "1  20  CAN                    Canada"
      ]
     },
     "metadata": {},
     "output_type": "display_data"
    }
   ],
   "source": [
    "def extract_gnwo_countries_to_df():\n",
    "    \"\"\"Extract the countries from the gnwo and their id from the gnwo.txt file\"\"\"\n",
    "    with open(\"gnwo.txt\", \"r\") as gnow:\n",
    "        countries_list = []\n",
    "        for line in gnow:\n",
    "            split_line = re.split(r'\\t+', line)\n",
    "            countries_list.append(split_line[0:3])\n",
    "        # Create a dataframe\n",
    "        return pd.DataFrame(countries_list, columns=[\"id\", \"code\" ,\"name\"])\n",
    "countries = extract_gnwo_countries_to_df()\n",
    "display(countries.head(2))"
   ]
  },
  {
   "cell_type": "code",
   "execution_count": 45,
   "metadata": {
    "ExecuteTime": {
     "end_time": "2017-11-28T20:20:42.910027Z",
     "start_time": "2017-11-28T20:20:42.902968Z"
    },
    "collapsed": true
   },
   "outputs": [],
   "source": [
    "def is_standard_country_name(country_name, country_df):\n",
    "    \"\"\"Check if the country name is in the standard countries dataset\"\"\"\n",
    "    found = False\n",
    "    for country in countries.name:\n",
    "        if country_name == country:\n",
    "            found = True\n",
    "            break\n",
    "    return found"
   ]
  },
  {
   "cell_type": "code",
   "execution_count": 46,
   "metadata": {
    "ExecuteTime": {
     "end_time": "2017-11-28T20:20:42.934469Z",
     "start_time": "2017-11-28T20:20:42.911314Z"
    },
    "collapsed": true
   },
   "outputs": [],
   "source": [
    "def exist_in_substring(country_name, country_df):\n",
    "    \"\"\"Returns the id of the country if the substring is in the country_df names, else return none\"\"\"\n",
    "    for data in country_df.itertuples():\n",
    "        # Force ascii\n",
    "        country_name = unidecode.unidecode(country_name)\n",
    "        # manage Dem. Rep. of problem\n",
    "        country_name = re.sub(r\"Dem\\. Rep\\. of\", \"\", country_name) \n",
    "        # manage Rep. of. problem\n",
    "        country_name = re.sub(r\"Rep\\. of\", \"\", country_name) \n",
    "        # Manage diminutive problem\n",
    "        country_name = re.sub(r\"Dem\\.\", \"Democratic\", country_name)\n",
    "        country_name = re.sub(r\"Rep\\.\", \"Republic\", country_name)\n",
    "        # Manage China\n",
    "        country_name = re.sub(r\".*China.*\", \"China\", country_name)\n",
    "        # Manage Russia\n",
    "        country_name = re.sub(r\"Russian Federation\", \"Russia\", country_name)\n",
    "\n",
    "\n",
    "        try:\n",
    "            if country_name in data.name:\n",
    "                return data\n",
    "            elif country_name.split()[0] in data.name:\n",
    "                return data\n",
    "        except:\n",
    "            print(\"EXCEPTION!!!\")\n",
    "            print(country_name, data)\n",
    "    return None"
   ]
  },
  {
   "cell_type": "code",
   "execution_count": 47,
   "metadata": {
    "ExecuteTime": {
     "end_time": "2017-11-28T20:20:43.101375Z",
     "start_time": "2017-11-28T20:20:42.936033Z"
    }
   },
   "outputs": [
    {
     "name": "stdout",
     "output_type": "stream",
     "text": [
      "Palestinian\n",
      "Romania\n",
      "Syrian Arab Rep.\n",
      "Suriname\n",
      "Tibetan\n",
      "Sao Tome and Principe\n",
      "Cabo Verde\n",
      "French Guiana\n",
      "Kyrgyzstan\n",
      "The former Yugoslav Republic of Macedonia\n",
      "Puerto Rico\n",
      "Martinique\n",
      "Bermuda\n",
      "Timor-Leste\n",
      "Cayman Islands\n",
      "Gibraltar\n",
      "Turks and Caicos Islands\n",
      "Niue\n",
      "French Polynesia\n",
      "Holy See (the)\n",
      "Cook Islands\n",
      "Aruba\n",
      "Curaçao\n",
      "British Virgin Islands\n",
      "Guadeloupe\n",
      "Anguilla\n",
      "Norfolk Island\n",
      "Wallis and Futuna Islands \n",
      "Saint-Pierre-et-Miquelon\n",
      "Svalbard and Jan Mayen\n"
     ]
    }
   ],
   "source": [
    "for country in refugee_df.origin.unique():\n",
    "    found = is_standard_country_name(country, countries)\n",
    "    \n",
    "    # We constructed a dictionnary manually to change the names\n",
    "    if not found:\n",
    "        if not exist_in_substring(country, countries):\n",
    "            print(country)\n",
    "        #print(country)\n",
    "        #print(change_country_names_refugee_dict[country])\n",
    "        \n",
    "        "
   ]
  },
  {
   "cell_type": "markdown",
   "metadata": {},
   "source": [
    "## Visualization"
   ]
  },
  {
   "cell_type": "markdown",
   "metadata": {
    "ExecuteTime": {
     "end_time": "2017-11-28T20:24:14.298538Z",
     "start_time": "2017-11-28T20:24:14.293729Z"
    }
   },
   "source": [
    "In this section we provide sample visualization of the datasets.\n",
    "For now they are mainly tests to validate the capacities of the respective libraries with datasets of the size we use.\n",
    "\n",
    "Obviously, they will be refined during the last segment of the project."
   ]
  },
  {
   "cell_type": "markdown",
   "metadata": {
    "collapsed": true
   },
   "source": [
    "### Examples of visualisation on a map"
   ]
  },
  {
   "cell_type": "code",
   "execution_count": 48,
   "metadata": {
    "ExecuteTime": {
     "end_time": "2017-11-28T20:20:43.166945Z",
     "start_time": "2017-11-28T20:20:43.102822Z"
    },
    "collapsed": true
   },
   "outputs": [],
   "source": [
    "with open('conflict.pickle', 'rb') as data_source:\n",
    "    conflict_df = pickle.load(data_source)"
   ]
  },
  {
   "cell_type": "code",
   "execution_count": 49,
   "metadata": {
    "ExecuteTime": {
     "end_time": "2017-11-28T20:20:45.024063Z",
     "start_time": "2017-11-28T20:20:43.168433Z"
    },
    "collapsed": true
   },
   "outputs": [],
   "source": [
    "geometry = conflict_df['geom_wkt'].map(shapely.wkt.loads)\n",
    "conflict_df = conflict_df.drop('geom_wkt', axis=1)\n",
    "crs = {'init': 'epsg:4326'}\n",
    "gdf = gpd.GeoDataFrame(conflict_df, crs=crs, geometry=geometry)\n"
   ]
  },
  {
   "cell_type": "markdown",
   "metadata": {},
   "source": [
    "#### Display using matplotlib"
   ]
  },
  {
   "cell_type": "code",
   "execution_count": 50,
   "metadata": {
    "ExecuteTime": {
     "end_time": "2017-11-28T20:20:52.515730Z",
     "start_time": "2017-11-28T20:20:45.025816Z"
    }
   },
   "outputs": [
    {
     "data": {
      "image/png": "[encoded data removed]",
      "text/plain": [
       "<matplotlib.figure.Figure at 0x7fa5fc24e278>"
      ]
     },
     "metadata": {},
     "output_type": "display_data"
    }
   ],
   "source": [
    "fig, ax = plt.subplots(figsize=(10,5))\n",
    "\n",
    "world = gpd.read_file(gpd.datasets.get_path('naturalearth_lowres'))\n",
    "\n",
    "\n",
    "world.plot(ax=ax, color='white', edgecolor='black')\n",
    "gdf.plot(ax=ax, markersize=(gdf.loc[:, \"best\"]/1000), cmap=\"autumn\")\n",
    "    \n",
    "plt.show()"
   ]
  },
  {
   "cell_type": "markdown",
   "metadata": {},
   "source": [
    "#### Display using folium"
   ]
  },
  {
   "cell_type": "code",
   "execution_count": 51,
   "metadata": {
    "ExecuteTime": {
     "end_time": "2017-11-28T20:20:52.548433Z",
     "start_time": "2017-11-28T20:20:52.517347Z"
    },
    "collapsed": true
   },
   "outputs": [],
   "source": [
    "m = folium.Map(tiles='cartodbpositron')"
   ]
  },
  {
   "cell_type": "code",
   "execution_count": 52,
   "metadata": {
    "ExecuteTime": {
     "end_time": "2017-11-28T20:20:52.607273Z",
     "start_time": "2017-11-28T20:20:52.549946Z"
    },
    "run_control": {
     "marked": true
    },
    "scrolled": true
   },
   "outputs": [
    {
     "data": {
      "text/html": [
       "<div style=\"width:100%;\"><div style=\"position:relative;width:100%;height:0;padding-bottom:60%;\"><iframe src=\"data:text/html;charset=utf-8;base64,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\" style=\"position:absolute;width:100%;height:100%;left:0;top:0;border:none !important;\" allowfullscreen webkitallowfullscreen mozallowfullscreen></iframe></div></div>"
      ],
      "text/plain": [
       "<folium.folium.Map at 0x7fa5fc24e470>"
      ]
     },
     "execution_count": 52,
     "metadata": {},
     "output_type": "execute_result"
    }
   ],
   "source": [
    "geojson_gdf = gdf[:50].to_crs(epsg='4326').to_json()\n",
    "points = folium.features.GeoJson(geojson_gdf)\n",
    "m.add_child(points)"
   ]
  },
  {
   "cell_type": "markdown",
   "metadata": {},
   "source": [
    "**Note:** We attemted and succeeded to plot all the events on a map.\n",
    "\n",
    "The code used is **VERY** slow on the notebook because of the size of the dataset.\n",
    "\n",
    "Because of this, we used a separate python script to run it ( see \"fast_map.py\")\n",
    "\n",
    "The resulting map is named \"output_map.html\" and can be found in the git folder."
   ]
  },
  {
   "cell_type": "code",
   "execution_count": null,
   "metadata": {
    "collapsed": true
   },
   "outputs": [],
   "source": []
  },
  {
   "cell_type": "code",
   "execution_count": null,
   "metadata": {
    "collapsed": true
   },
   "outputs": [],
   "source": []
  }
 ],
 "metadata": {
  "kernelspec": {
   "display_name": "Python 3",
   "language": "python",
   "name": "python3"
  },
  "language_info": {
   "codemirror_mode": {
    "name": "ipython",
    "version": 3
   },
   "file_extension": ".py",
   "mimetype": "text/x-python",
   "name": "python",
   "nbconvert_exporter": "python",
   "pygments_lexer": "ipython3",
   "version": "3.6.1"
  },
  "toc": {
   "nav_menu": {},
   "number_sections": true,
   "sideBar": true,
   "skip_h1_title": false,
   "toc_cell": false,
   "toc_position": {},
   "toc_section_display": "block",
   "toc_window_display": false
  },
  "varInspector": {
   "cols": {
    "lenName": 16,
    "lenType": 16,
    "lenVar": 40
   },
   "kernels_config": {
    "python": {
     "delete_cmd_postfix": "",
     "delete_cmd_prefix": "del ",
     "library": "var_list.py",
     "varRefreshCmd": "print(var_dic_list())"
    },
    "r": {
     "delete_cmd_postfix": ") ",
     "delete_cmd_prefix": "rm(",
     "library": "var_list.r",
     "varRefreshCmd": "cat(var_dic_list()) "
    }
   },
   "types_to_exclude": [
    "module",
    "function",
    "builtin_function_or_method",
    "instance",
    "_Feature"
   ],
   "window_display": false
  }
 },
 "nbformat": 4,
 "nbformat_minor": 2
}
