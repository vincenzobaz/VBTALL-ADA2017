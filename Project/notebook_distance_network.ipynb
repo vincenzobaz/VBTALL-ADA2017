{
 "cells": [
  {
   "cell_type": "markdown",
   "metadata": {},
   "source": [
    "# Distance Network "
   ]
  },
  {
   "cell_type": "code",
   "execution_count": 3,
   "metadata": {
    "ExecuteTime": {
     "end_time": "2017-12-14T23:05:49.974456Z",
     "start_time": "2017-12-14T23:05:49.969095Z"
    },
    "collapsed": true
   },
   "outputs": [],
   "source": [
    "import os\n",
    "\n",
    "import numpy as np\n",
    "import pandas as pd\n",
    "import networkx as nx\n",
    "import pickle\n",
    "from tqdm import tqdm\n",
    "\n",
    "from geopy.distance import vincenty, great_circle\n",
    "\n",
    "from scipy import stats"
   ]
  },
  {
   "cell_type": "code",
   "execution_count": 4,
   "metadata": {
    "ExecuteTime": {
     "end_time": "2017-12-14T23:05:50.078586Z",
     "start_time": "2017-12-14T23:05:49.976088Z"
    }
   },
   "outputs": [],
   "source": [
    "with open(os.path.join(\"pickle\", 'conflict.pickle'), 'rb') as data_source:\n",
    "    conflict_df = pickle.load(data_source)"
   ]
  },
  {
   "cell_type": "code",
   "execution_count": 5,
   "metadata": {
    "ExecuteTime": {
     "end_time": "2017-12-14T23:05:50.085480Z",
     "start_time": "2017-12-14T23:05:50.081203Z"
    },
    "collapsed": true
   },
   "outputs": [],
   "source": [
    "with open(os.path.join(\"pickle\", 'refugee.pickle'), 'rb') as data_source:\n",
    "    refugee_df = pickle.load(data_source)"
   ]
  },
  {
   "cell_type": "markdown",
   "metadata": {},
   "source": [
    "## Create a network of distances"
   ]
  },
  {
   "cell_type": "markdown",
   "metadata": {},
   "source": [
    "We will split this network in two types of node: events and conflicts.\n",
    "Each conflict location will be the centroid of all its events (mean longitude and latitude)\n",
    "Each event will be linked to it's respective conflict with the edge representing the distance to the center of the conflict.\n",
    "Each conflicts will be linked together by an edge describing the distance.\n",
    "\n",
    "For each conflict node, we will also extract the statistics of its event distances with stats.describe.\n",
    "\n",
    "This network will be used to find spatial relationship between various conflicts.\n",
    "Also, because each node has a longitude and latitude information, it will be possible to print it on a map and\n",
    "selectively print links between event and conflicts or between conflicts."
   ]
  },
  {
   "cell_type": "code",
   "execution_count": 6,
   "metadata": {
    "ExecuteTime": {
     "end_time": "2017-12-14T23:05:50.135054Z",
     "start_time": "2017-12-14T23:05:50.087396Z"
    }
   },
   "outputs": [
    {
     "data": {
      "text/html": [
       "<div>\n",
       "<style>\n",
       "    .dataframe thead tr:only-child th {\n",
       "        text-align: right;\n",
       "    }\n",
       "\n",
       "    .dataframe thead th {\n",
       "        text-align: left;\n",
       "    }\n",
       "\n",
       "    .dataframe tbody tr th {\n",
       "        vertical-align: top;\n",
       "    }\n",
       "</style>\n",
       "<table border=\"1\" class=\"dataframe\">\n",
       "  <thead>\n",
       "    <tr style=\"text-align: right;\">\n",
       "      <th></th>\n",
       "      <th>id</th>\n",
       "      <th>year</th>\n",
       "      <th>type_of_violence</th>\n",
       "      <th>conflict_new_id</th>\n",
       "      <th>conflict_name</th>\n",
       "      <th>side_a_new_id</th>\n",
       "      <th>gwnoa</th>\n",
       "      <th>side_a</th>\n",
       "      <th>gwnob</th>\n",
       "      <th>side_b_new_id</th>\n",
       "      <th>...</th>\n",
       "      <th>longitude</th>\n",
       "      <th>geom_wkt</th>\n",
       "      <th>country</th>\n",
       "      <th>country_id</th>\n",
       "      <th>date_start</th>\n",
       "      <th>deaths_a</th>\n",
       "      <th>deaths_b</th>\n",
       "      <th>deaths_civilians</th>\n",
       "      <th>deaths_unknown</th>\n",
       "      <th>best</th>\n",
       "    </tr>\n",
       "  </thead>\n",
       "  <tbody>\n",
       "    <tr>\n",
       "      <th>0</th>\n",
       "      <td>4</td>\n",
       "      <td>2010</td>\n",
       "      <td>1</td>\n",
       "      <td>230</td>\n",
       "      <td>Yemen (North Yemen):Government</td>\n",
       "      <td>123</td>\n",
       "      <td>678.0</td>\n",
       "      <td>Government of Yemen (North Yemen)</td>\n",
       "      <td>NaN</td>\n",
       "      <td>881</td>\n",
       "      <td>...</td>\n",
       "      <td>44.206667</td>\n",
       "      <td>POINT (44.206667 15.354722)</td>\n",
       "      <td>Yemen (North Yemen)</td>\n",
       "      <td>678</td>\n",
       "      <td>2010</td>\n",
       "      <td>2</td>\n",
       "      <td>0</td>\n",
       "      <td>0</td>\n",
       "      <td>0</td>\n",
       "      <td>2</td>\n",
       "    </tr>\n",
       "  </tbody>\n",
       "</table>\n",
       "<p>1 rows × 26 columns</p>\n",
       "</div>"
      ],
      "text/plain": [
       "   id  year  type_of_violence  conflict_new_id  \\\n",
       "0   4  2010                 1              230   \n",
       "\n",
       "                    conflict_name  side_a_new_id  gwnoa  \\\n",
       "0  Yemen (North Yemen):Government            123  678.0   \n",
       "\n",
       "                              side_a  gwnob  side_b_new_id  ...   longitude  \\\n",
       "0  Government of Yemen (North Yemen)    NaN            881  ...   44.206667   \n",
       "\n",
       "                      geom_wkt              country country_id date_start  \\\n",
       "0  POINT (44.206667 15.354722)  Yemen (North Yemen)        678       2010   \n",
       "\n",
       "   deaths_a  deaths_b deaths_civilians deaths_unknown  best  \n",
       "0         2         0                0              0     2  \n",
       "\n",
       "[1 rows x 26 columns]"
      ]
     },
     "metadata": {},
     "output_type": "display_data"
    },
    {
     "data": {
      "text/html": [
       "<div>\n",
       "<style>\n",
       "    .dataframe thead tr:only-child th {\n",
       "        text-align: right;\n",
       "    }\n",
       "\n",
       "    .dataframe thead th {\n",
       "        text-align: left;\n",
       "    }\n",
       "\n",
       "    .dataframe tbody tr th {\n",
       "        vertical-align: top;\n",
       "    }\n",
       "</style>\n",
       "<table border=\"1\" class=\"dataframe\">\n",
       "  <thead>\n",
       "    <tr style=\"text-align: right;\">\n",
       "      <th></th>\n",
       "      <th>year</th>\n",
       "      <th>refugee</th>\n",
       "      <th>asylum</th>\n",
       "      <th>internally_displaced</th>\n",
       "      <th>stateless</th>\n",
       "      <th>others</th>\n",
       "      <th>total</th>\n",
       "      <th>country_id</th>\n",
       "    </tr>\n",
       "  </thead>\n",
       "  <tbody>\n",
       "    <tr>\n",
       "      <th>0</th>\n",
       "      <td>1989.0</td>\n",
       "      <td>100786.0</td>\n",
       "      <td>0.0</td>\n",
       "      <td>0.0</td>\n",
       "      <td>0.0</td>\n",
       "      <td>0.0</td>\n",
       "      <td>100786.0</td>\n",
       "      <td>490.0</td>\n",
       "    </tr>\n",
       "  </tbody>\n",
       "</table>\n",
       "</div>"
      ],
      "text/plain": [
       "     year   refugee  asylum  internally_displaced  stateless  others  \\\n",
       "0  1989.0  100786.0     0.0                   0.0        0.0     0.0   \n",
       "\n",
       "      total  country_id  \n",
       "0  100786.0       490.0  "
      ]
     },
     "metadata": {},
     "output_type": "display_data"
    }
   ],
   "source": [
    "display(conflict_df.head(1))\n",
    "display(refugee_df.head(1))"
   ]
  },
  {
   "cell_type": "code",
   "execution_count": 7,
   "metadata": {
    "ExecuteTime": {
     "end_time": "2017-12-14T23:05:50.205459Z",
     "start_time": "2017-12-14T23:05:50.136345Z"
    }
   },
   "outputs": [
    {
     "data": {
      "text/html": [
       "<div>\n",
       "<style>\n",
       "    .dataframe thead tr:only-child th {\n",
       "        text-align: right;\n",
       "    }\n",
       "\n",
       "    .dataframe thead th {\n",
       "        text-align: left;\n",
       "    }\n",
       "\n",
       "    .dataframe tbody tr th {\n",
       "        vertical-align: top;\n",
       "    }\n",
       "</style>\n",
       "<table border=\"1\" class=\"dataframe\">\n",
       "  <thead>\n",
       "    <tr style=\"text-align: right;\">\n",
       "      <th></th>\n",
       "      <th>year</th>\n",
       "      <th>type_of_violence</th>\n",
       "      <th>conflict_new_id</th>\n",
       "      <th>conflict_name</th>\n",
       "      <th>side_a_new_id</th>\n",
       "      <th>gwnoa</th>\n",
       "      <th>side_a</th>\n",
       "      <th>gwnob</th>\n",
       "      <th>side_b_new_id</th>\n",
       "      <th>side_b</th>\n",
       "      <th>...</th>\n",
       "      <th>longitude</th>\n",
       "      <th>geom_wkt</th>\n",
       "      <th>country</th>\n",
       "      <th>country_id</th>\n",
       "      <th>date_start</th>\n",
       "      <th>deaths_a</th>\n",
       "      <th>deaths_b</th>\n",
       "      <th>deaths_civilians</th>\n",
       "      <th>deaths_unknown</th>\n",
       "      <th>best</th>\n",
       "    </tr>\n",
       "    <tr>\n",
       "      <th>id</th>\n",
       "      <th></th>\n",
       "      <th></th>\n",
       "      <th></th>\n",
       "      <th></th>\n",
       "      <th></th>\n",
       "      <th></th>\n",
       "      <th></th>\n",
       "      <th></th>\n",
       "      <th></th>\n",
       "      <th></th>\n",
       "      <th></th>\n",
       "      <th></th>\n",
       "      <th></th>\n",
       "      <th></th>\n",
       "      <th></th>\n",
       "      <th></th>\n",
       "      <th></th>\n",
       "      <th></th>\n",
       "      <th></th>\n",
       "      <th></th>\n",
       "      <th></th>\n",
       "    </tr>\n",
       "  </thead>\n",
       "  <tbody>\n",
       "    <tr>\n",
       "      <th>4</th>\n",
       "      <td>2010</td>\n",
       "      <td>1</td>\n",
       "      <td>230</td>\n",
       "      <td>Yemen (North Yemen):Government</td>\n",
       "      <td>123</td>\n",
       "      <td>678.0</td>\n",
       "      <td>Government of Yemen (North Yemen)</td>\n",
       "      <td>NaN</td>\n",
       "      <td>881</td>\n",
       "      <td>AQAP</td>\n",
       "      <td>...</td>\n",
       "      <td>44.206667</td>\n",
       "      <td>POINT (44.206667 15.354722)</td>\n",
       "      <td>Yemen (North Yemen)</td>\n",
       "      <td>678</td>\n",
       "      <td>2010</td>\n",
       "      <td>2</td>\n",
       "      <td>0</td>\n",
       "      <td>0</td>\n",
       "      <td>0</td>\n",
       "      <td>2</td>\n",
       "    </tr>\n",
       "    <tr>\n",
       "      <th>5</th>\n",
       "      <td>2011</td>\n",
       "      <td>3</td>\n",
       "      <td>715</td>\n",
       "      <td>Government of Yemen (North Yemen) - Civilians</td>\n",
       "      <td>123</td>\n",
       "      <td>678.0</td>\n",
       "      <td>Government of Yemen (North Yemen)</td>\n",
       "      <td>NaN</td>\n",
       "      <td>1</td>\n",
       "      <td>Civilians</td>\n",
       "      <td>...</td>\n",
       "      <td>45.036667</td>\n",
       "      <td>POINT (45.036667 12.779444)</td>\n",
       "      <td>Yemen (North Yemen)</td>\n",
       "      <td>678</td>\n",
       "      <td>2011</td>\n",
       "      <td>0</td>\n",
       "      <td>0</td>\n",
       "      <td>0</td>\n",
       "      <td>0</td>\n",
       "      <td>0</td>\n",
       "    </tr>\n",
       "  </tbody>\n",
       "</table>\n",
       "<p>2 rows × 25 columns</p>\n",
       "</div>"
      ],
      "text/plain": [
       "    year  type_of_violence  conflict_new_id  \\\n",
       "id                                            \n",
       "4   2010                 1              230   \n",
       "5   2011                 3              715   \n",
       "\n",
       "                                    conflict_name  side_a_new_id  gwnoa  \\\n",
       "id                                                                        \n",
       "4                  Yemen (North Yemen):Government            123  678.0   \n",
       "5   Government of Yemen (North Yemen) - Civilians            123  678.0   \n",
       "\n",
       "                               side_a  gwnob  side_b_new_id     side_b ...   \\\n",
       "id                                                                     ...    \n",
       "4   Government of Yemen (North Yemen)    NaN            881       AQAP ...    \n",
       "5   Government of Yemen (North Yemen)    NaN              1  Civilians ...    \n",
       "\n",
       "    longitude                     geom_wkt              country country_id  \\\n",
       "id                                                                           \n",
       "4   44.206667  POINT (44.206667 15.354722)  Yemen (North Yemen)        678   \n",
       "5   45.036667  POINT (45.036667 12.779444)  Yemen (North Yemen)        678   \n",
       "\n",
       "    date_start  deaths_a deaths_b deaths_civilians  deaths_unknown best  \n",
       "id                                                                       \n",
       "4         2010         2        0                0               0    2  \n",
       "5         2011         0        0                0               0    0  \n",
       "\n",
       "[2 rows x 25 columns]"
      ]
     },
     "metadata": {},
     "output_type": "display_data"
    }
   ],
   "source": [
    "# graph indexed\n",
    "conflict_df = conflict_df.set_index('id')\n",
    "display(conflict_df.head(2))"
   ]
  },
  {
   "cell_type": "code",
   "execution_count": 8,
   "metadata": {
    "ExecuteTime": {
     "end_time": "2017-12-14T23:05:50.227464Z",
     "start_time": "2017-12-14T23:05:50.207417Z"
    },
    "collapsed": true,
    "run_control": {
     "marked": true
    }
   },
   "outputs": [],
   "source": [
    "def distance_between_nodes(graph, node_1_id, node_2_id):\n",
    "    \"\"\"Get distance between two nodes by using their latitude and longitude property\"\"\"\n",
    "    pos_1 = (graph.node[node_1_id][\"latitude\"], graph.node[node_1_id][\"longitude\"])\n",
    "    pos_2 = (graph.node[node_2_id][\"latitude\"], graph.node[node_2_id][\"longitude\"])\n",
    "    # Sometime vincenty doesn't converge, just put None as weight\n",
    "    try:\n",
    "        distance = vincenty(pos_1, pos_2).km\n",
    "    except:\n",
    "        # Try to get great circle distance instead\n",
    "        try:\n",
    "            distance = great_circle(pos_1, pos_2).km\n",
    "        except:\n",
    "            print(\"Error: failed to get distance between node {} and node {}\".format(node_1_id, node_2_id))\n",
    "            print(\"Node 1 positions: {}\".format(pos_1))\n",
    "            print(\"Node 2 positions: {}\".format(pos_2))\n",
    "            distance = None\n",
    "    return distance\n",
    "    "
   ]
  },
  {
   "cell_type": "code",
   "execution_count": 9,
   "metadata": {
    "ExecuteTime": {
     "end_time": "2017-12-14T23:05:50.235956Z",
     "start_time": "2017-12-14T23:05:50.229174Z"
    },
    "collapsed": true
   },
   "outputs": [],
   "source": [
    "def get_conflict_lat_long(conflict_id):\n",
    "    \"\"\"Get the average latitude and longitude for a particular conflict id\"\"\"\n",
    "    longitude = conflict_df[conflict_df.conflict_new_id == conflict_id].longitude.mean()\n",
    "    latitude = conflict_df[conflict_df.conflict_new_id == conflict_id].latitude.mean()\n",
    "    return (latitude, longitude)\n",
    "    "
   ]
  },
  {
   "cell_type": "code",
   "execution_count": 10,
   "metadata": {
    "ExecuteTime": {
     "end_time": "2017-12-14T23:05:53.779741Z",
     "start_time": "2017-12-14T23:05:50.237440Z"
    },
    "collapsed": true
   },
   "outputs": [],
   "source": [
    "distance_graph = nx.Graph()\n",
    "\n",
    "# Create a node for each conflict event\n",
    "distance_graph.add_nodes_from(conflict_df.index.values, nature=\"event\", year=conflict_df.year)\n",
    "\n",
    "# Set longitude and latitude for each node\n",
    "for index in conflict_df.index.values:\n",
    "    distance_graph.node[index][\"longitude\"] = conflict_df.loc[index, \"longitude\"]\n",
    "    distance_graph.node[index][\"latitude\"] = conflict_df.loc[index, \"latitude\"]\n",
    "\n",
    "# Create a node for each unique conflict, use a special node id to avoid conflict with events\n",
    "for conflict_id in conflict_df.conflict_new_id.unique():\n",
    "    conflict_node_name = \"conflict_{}\".format(conflict_id)\n",
    "    distance_graph.add_node(conflict_node_name, nature=\"conflict\")\n",
    "    \n",
    "    # Get the average position for the conflict\n",
    "    latitude, longitude = get_conflict_lat_long(conflict_id)\n",
    "    distance_graph.node[conflict_node_name][\"longitude\"] = longitude\n",
    "    distance_graph.node[conflict_node_name][\"latitude\"] = latitude"
   ]
  },
  {
   "cell_type": "code",
   "execution_count": 11,
   "metadata": {
    "ExecuteTime": {
     "end_time": "2017-12-14T23:05:58.133707Z",
     "start_time": "2017-12-14T23:05:53.780987Z"
    }
   },
   "outputs": [
    {
     "name": "stderr",
     "output_type": "stream",
     "text": [
      "100%|██████████| 997/997 [00:04<00:00, 229.53it/s]\n"
     ]
    }
   ],
   "source": [
    "# Create edges from event to their conflict\n",
    "for conflict_id in tqdm(conflict_df.conflict_new_id.unique()):\n",
    "    conflict_node_name = \"conflict_{}\".format(conflict_id)\n",
    "    \n",
    "    for event_id in conflict_df[conflict_df.conflict_new_id == conflict_id].index.values:\n",
    "        distance = distance_between_nodes(distance_graph, conflict_node_name, event_id)\n",
    "        distance_graph.add_edge(conflict_node_name, event_id, weight=distance, nature=\"event_to_conflict\")\n"
   ]
  },
  {
   "cell_type": "code",
   "execution_count": 12,
   "metadata": {
    "ExecuteTime": {
     "end_time": "2017-12-14T23:06:27.696361Z",
     "start_time": "2017-12-14T23:05:58.134983Z"
    }
   },
   "outputs": [
    {
     "name": "stderr",
     "output_type": "stream",
     "text": [
      "100%|██████████| 997/997 [00:29<00:00, 33.74it/s]\n"
     ]
    }
   ],
   "source": [
    "# Extract the distance between all conflicts \n",
    "for conflict_id_1 in tqdm(conflict_df.conflict_new_id.unique()):\n",
    "    conflict_node_name_1 = \"conflict_{}\".format(conflict_id_1)\n",
    "    \n",
    "    for conflict_id_2 in conflict_df.conflict_new_id.unique():   \n",
    "        conflict_node_name_2 = \"conflict_{}\".format(conflict_id_2)   \n",
    "        \n",
    "        # No self loop\n",
    "        if conflict_id_1 == conflict_id_2:\n",
    "            pass\n",
    "        \n",
    "        # Don't do two times the same edge\n",
    "        if distance_graph.has_edge(conflict_node_name_1, conflict_node_name_2):\n",
    "            pass\n",
    "        \n",
    "        distance_graph.add_edge(conflict_node_name_1, conflict_node_name_2, \n",
    "                  weight = distance_between_nodes(distance_graph, conflict_node_name_1, conflict_node_name_2),\n",
    "                  nature = \"conflict_to_conflict\")\n",
    "        "
   ]
  },
  {
   "cell_type": "code",
   "execution_count": 13,
   "metadata": {
    "ExecuteTime": {
     "end_time": "2017-12-14T23:06:27.709298Z",
     "start_time": "2017-12-14T23:06:27.697895Z"
    },
    "collapsed": true
   },
   "outputs": [],
   "source": [
    "def get_event_weights(graph, node, nature=\"event_to_conflict\"):\n",
    "    \"\"\"Return the event weights for the given nature. Can be an array of natures\"\"\"\n",
    "    edges = [e[2] for e in distance_graph.edges_iter(nbunch=node, data=True)] \n",
    "    if type(nature) == str:\n",
    "        return [d[\"weight\"] for d in edges if d[\"nature\"] == nature]\n",
    "    else:\n",
    "        weights = [[] for x in range(len(nature))]\n",
    "        for index, item in enumerate(nature):\n",
    "            weights[index] = [d[\"weight\"] for d in edges if d[\"nature\"] == item]\n",
    "        return weights\n",
    "    "
   ]
  },
  {
   "cell_type": "code",
   "execution_count": 14,
   "metadata": {
    "ExecuteTime": {
     "end_time": "2017-12-14T23:06:28.636550Z",
     "start_time": "2017-12-14T23:06:27.711187Z"
    }
   },
   "outputs": [
    {
     "name": "stderr",
     "output_type": "stream",
     "text": [
      "  0%|          | 0/136178 [00:00<?, ?it/s]/home/lal/Programs/anaconda3/lib/python3.6/site-packages/numpy/core/fromnumeric.py:3146: RuntimeWarning: Degrees of freedom <= 0 for slice\n",
      "  **kwargs)\n",
      "/home/lal/Programs/anaconda3/lib/python3.6/site-packages/numpy/core/_methods.py:127: RuntimeWarning: invalid value encountered in double_scalars\n",
      "  ret = ret.dtype.type(ret / rcount)\n",
      "100%|██████████| 136178/136178 [00:00<00:00, 148714.57it/s] \n"
     ]
    }
   ],
   "source": [
    "# Extract conflict statistics\n",
    "for node in tqdm(distance_graph.nodes()):\n",
    "    if distance_graph.node[node][\"nature\"] == \"event\":\n",
    "        continue\n",
    "    \n",
    "    weights = get_event_weights(distance_graph, node, nature=[\"event_to_conflict\", \"conflict_to_conflict\"])\n",
    "    \n",
    "    distance_graph.node[node][\"events_stats\"] = stats.describe(weights[0])\n",
    "    #distance_graph.node[node][\"conflicts_stats\"] = stats.describe(weights[1])\n",
    "        "
   ]
  },
  {
   "cell_type": "code",
   "execution_count": 15,
   "metadata": {
    "ExecuteTime": {
     "end_time": "2017-12-14T23:06:31.800626Z",
     "start_time": "2017-12-14T23:06:28.637923Z"
    },
    "collapsed": true
   },
   "outputs": [],
   "source": [
    "with open(os.path.join(\"pickle\", 'distance_nx.pickle'), 'wb') as out:\n",
    "    pickle.dump(distance_graph, out)"
   ]
  },
  {
   "cell_type": "code",
   "execution_count": 16,
   "metadata": {
    "ExecuteTime": {
     "end_time": "2017-12-14T23:06:33.113609Z",
     "start_time": "2017-12-14T23:06:31.802152Z"
    },
    "collapsed": true
   },
   "outputs": [],
   "source": [
    "with open(os.path.join(\"pickle\", 'distance_nx.pickle'), 'rb') as data_source:\n",
    "    distance_graph = pickle.load(data_source) "
   ]
  }
 ],
 "metadata": {
  "kernelspec": {
   "display_name": "Python [default]",
   "language": "python",
   "name": "python3"
  },
  "language_info": {
   "codemirror_mode": {
    "name": "ipython",
    "version": 3
   },
   "file_extension": ".py",
   "mimetype": "text/x-python",
   "name": "python",
   "nbconvert_exporter": "python",
   "pygments_lexer": "ipython3",
   "version": "3.6.2"
  },
  "toc": {
   "nav_menu": {},
   "number_sections": true,
   "sideBar": true,
   "skip_h1_title": false,
   "toc_cell": false,
   "toc_position": {},
   "toc_section_display": "block",
   "toc_window_display": false
  },
  "varInspector": {
   "cols": {
    "lenName": 16,
    "lenType": 16,
    "lenVar": 40
   },
   "kernels_config": {
    "python": {
     "delete_cmd_postfix": "",
     "delete_cmd_prefix": "del ",
     "library": "var_list.py",
     "varRefreshCmd": "print(var_dic_list())"
    },
    "r": {
     "delete_cmd_postfix": ") ",
     "delete_cmd_prefix": "rm(",
     "library": "var_list.r",
     "varRefreshCmd": "cat(var_dic_list()) "
    }
   },
   "types_to_exclude": [
    "module",
    "function",
    "builtin_function_or_method",
    "instance",
    "_Feature"
   ],
   "window_display": false
  }
 },
 "nbformat": 4,
 "nbformat_minor": 2
}
