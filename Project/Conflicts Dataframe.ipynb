{
 "cells": [
  {
   "cell_type": "code",
   "execution_count": 93,
   "metadata": {
    "collapsed": true
   },
   "outputs": [],
   "source": [
    "import pandas as pd\n",
    "\n",
    "%matplotlib inline"
   ]
  },
  {
   "cell_type": "code",
   "execution_count": 94,
   "metadata": {
    "collapsed": true,
    "scrolled": false
   },
   "outputs": [],
   "source": [
    "events = pd.read_csv('ged171.csv')\n",
    "events.type_of_violence = events.type_of_violence.astype('category')\n",
    "events.where_prec       = events.where_prec.astype('category')\n",
    "events.date_prec        = events.date_prec.astype('category')\n",
    "events.type_of_violence.cat.rename_categories(['state-based', 'non-state', 'one-sided'], inplace=True)\n",
    "events.set_index('id', inplace=True)"
   ]
  },
  {
   "cell_type": "code",
   "execution_count": 95,
   "metadata": {
    "scrolled": true
   },
   "outputs": [
    {
     "data": {
      "text/plain": [
       "Index(['year', 'active_year', 'type_of_violence', 'conflict_new_id',\n",
       "       'conflict_name', 'dyad_new_id', 'dyad_name', 'side_a_new_id', 'gwnoa',\n",
       "       'side_a', 'side_b_new_id', 'gwnob', 'side_b', 'number_of_sources',\n",
       "       'source_article', 'source_office', 'source_date', 'source_headline',\n",
       "       'source_original', 'where_prec', 'where_coordinates', 'adm_1', 'adm_2',\n",
       "       'latitude', 'longitude', 'geom_wkt', 'priogrid_gid', 'country',\n",
       "       'country_id', 'region', 'event_clarity', 'date_prec', 'date_start',\n",
       "       'date_end', 'deaths_a', 'deaths_b', 'deaths_civilians',\n",
       "       'deaths_unknown', 'best', 'low', 'high'],\n",
       "      dtype='object')"
      ]
     },
     "execution_count": 95,
     "metadata": {},
     "output_type": "execute_result"
    }
   ],
   "source": [
    "events.columns"
   ]
  },
  {
   "cell_type": "code",
   "execution_count": 96,
   "metadata": {
    "scrolled": true
   },
   "outputs": [
    {
     "data": {
      "text/html": [
       "<div>\n",
       "<style>\n",
       "    .dataframe thead tr:only-child th {\n",
       "        text-align: right;\n",
       "    }\n",
       "\n",
       "    .dataframe thead th {\n",
       "        text-align: left;\n",
       "    }\n",
       "\n",
       "    .dataframe tbody tr th {\n",
       "        vertical-align: top;\n",
       "    }\n",
       "</style>\n",
       "<table border=\"1\" class=\"dataframe\">\n",
       "  <thead>\n",
       "    <tr style=\"text-align: right;\">\n",
       "      <th></th>\n",
       "      <th>geom_wkt</th>\n",
       "      <th>longitude</th>\n",
       "      <th>latitude</th>\n",
       "    </tr>\n",
       "    <tr>\n",
       "      <th>id</th>\n",
       "      <th></th>\n",
       "      <th></th>\n",
       "      <th></th>\n",
       "    </tr>\n",
       "  </thead>\n",
       "  <tbody>\n",
       "    <tr>\n",
       "      <th>4</th>\n",
       "      <td>POINT (44.206667 15.354722)</td>\n",
       "      <td>44.206667</td>\n",
       "      <td>15.354722</td>\n",
       "    </tr>\n",
       "    <tr>\n",
       "      <th>5</th>\n",
       "      <td>POINT (45.036667 12.779444)</td>\n",
       "      <td>45.036667</td>\n",
       "      <td>12.779444</td>\n",
       "    </tr>\n",
       "    <tr>\n",
       "      <th>6</th>\n",
       "      <td>POINT (46.141765 13.786202)</td>\n",
       "      <td>46.141765</td>\n",
       "      <td>13.786202</td>\n",
       "    </tr>\n",
       "    <tr>\n",
       "      <th>7</th>\n",
       "      <td>POINT (46.141765 13.786202)</td>\n",
       "      <td>46.141765</td>\n",
       "      <td>13.786202</td>\n",
       "    </tr>\n",
       "    <tr>\n",
       "      <th>10</th>\n",
       "      <td>POINT (45.300000 15.616667)</td>\n",
       "      <td>45.300000</td>\n",
       "      <td>15.616667</td>\n",
       "    </tr>\n",
       "  </tbody>\n",
       "</table>\n",
       "</div>"
      ],
      "text/plain": [
       "                       geom_wkt  longitude   latitude\n",
       "id                                                   \n",
       "4   POINT (44.206667 15.354722)  44.206667  15.354722\n",
       "5   POINT (45.036667 12.779444)  45.036667  12.779444\n",
       "6   POINT (46.141765 13.786202)  46.141765  13.786202\n",
       "7   POINT (46.141765 13.786202)  46.141765  13.786202\n",
       "10  POINT (45.300000 15.616667)  45.300000  15.616667"
      ]
     },
     "execution_count": 96,
     "metadata": {},
     "output_type": "execute_result"
    }
   ],
   "source": [
    "events[['geom_wkt', 'longitude', 'latitude']].head() # Can drop 1"
   ]
  },
  {
   "cell_type": "markdown",
   "metadata": {},
   "source": [
    "## DF to Map"
   ]
  },
  {
   "cell_type": "markdown",
   "metadata": {},
   "source": [
    "TOO slow apparently, need batch processing"
   ]
  },
  {
   "cell_type": "code",
   "execution_count": 97,
   "metadata": {
    "collapsed": true
   },
   "outputs": [],
   "source": [
    "def add_markers_from_df(df, m, marker_generator, lat_col='latitude', lon_col='longitude'):\n",
    "    \"\"\"Creates markers on provided folium map\n",
    "    \n",
    "    Keyword arguments:\n",
    "    df -- dataframe containing a longitude and latitude column\n",
    "    m -- the map where markers will be placed\n",
    "    marker_generator -- used to generate the marker.\n",
    "                        It has to accept the dataframe index of the\n",
    "                        provided df and the position as a tuple.\n",
    "                        e.g. lambda index, position\n",
    "    \"\"\"\n",
    "    shrunk_df = df[[lat_col, lon_col]]\n",
    "    for idx, pos in shrunk_df.iterrows():\n",
    "        marker_generator(idx, pos).add_to(m)\n",
    "    return m"
   ]
  },
  {
   "cell_type": "markdown",
   "metadata": {},
   "source": [
    "### Usage example"
   ]
  },
  {
   "cell_type": "code",
   "execution_count": 6,
   "metadata": {
    "collapsed": true
   },
   "outputs": [],
   "source": [
    "def simple_marker_generator(idx, pos, df):\n",
    "    return folium.Marker(pos, popup=df.iloc[idx].conflict_name)"
   ]
  },
  {
   "cell_type": "code",
   "execution_count": 185,
   "metadata": {
    "collapsed": true,
    "scrolled": true
   },
   "outputs": [],
   "source": [
    "# Do not execute, crashes\n",
    "#m = folium.Map()\n",
    "#generator = lambda idx, pos: simple_marker_generator(idx, pos, events)\n",
    "#add_markers_from_df(events, m, generator)"
   ]
  },
  {
   "cell_type": "markdown",
   "metadata": {},
   "source": [
    "# One dataframe for all conflicts"
   ]
  },
  {
   "cell_type": "markdown",
   "metadata": {},
   "source": [
    "- `date_start` and `date_end` are combined to obtain a length for each event that will be summed across all events.\n",
    "- `date_start` becomes the oldest date in the list of start dates of the events in a conflict.\n",
    "- `date_end` similarly becomes the most recent\n",
    "- all the deaths counts are summed.\n",
    "- A list of all sides, countries and coordinates is kept for each conflict"
   ]
  },
  {
   "cell_type": "code",
   "execution_count": 108,
   "metadata": {},
   "outputs": [
    {
     "data": {
      "text/plain": [
       "Index(['year', 'active_year', 'type_of_violence', 'conflict_new_id',\n",
       "       'conflict_name', 'dyad_new_id', 'dyad_name', 'side_a_new_id', 'gwnoa',\n",
       "       'side_a', 'side_b_new_id', 'gwnob', 'side_b', 'number_of_sources',\n",
       "       'source_article', 'source_office', 'source_date', 'source_headline',\n",
       "       'source_original', 'where_prec', 'where_coordinates', 'adm_1', 'adm_2',\n",
       "       'latitude', 'longitude', 'geom_wkt', 'priogrid_gid', 'country',\n",
       "       'country_id', 'region', 'event_clarity', 'date_prec', 'date_start',\n",
       "       'date_end', 'deaths_a', 'deaths_b', 'deaths_civilians',\n",
       "       'deaths_unknown', 'best', 'low', 'high', 'duration'],\n",
       "      dtype='object')"
      ]
     },
     "execution_count": 108,
     "metadata": {},
     "output_type": "execute_result"
    }
   ],
   "source": [
    "events.columns"
   ]
  },
  {
   "cell_type": "code",
   "execution_count": 107,
   "metadata": {
    "collapsed": true
   },
   "outputs": [],
   "source": [
    "format = '%Y-%m-%d'\n",
    "events['date_start'] = pd.to_datetime(events.date_start, format=format)\n",
    "events['date_end'] = pd.to_datetime(events.date_end, format=format)\n",
    "events['duration'] = events.date_end - events.date_start"
   ]
  },
  {
   "cell_type": "code",
   "execution_count": 174,
   "metadata": {},
   "outputs": [],
   "source": [
    "conflicts = events.groupby('conflict_new_id').agg({\n",
    "    'duration': 'sum',\n",
    "    'date_start': 'min',\n",
    "    'date_end': 'max',\n",
    "    'deaths_civilians': 'sum',\n",
    "    'deaths_unknown': 'sum',\n",
    "    'best': 'sum',\n",
    "    'low': 'sum',\n",
    "    'high': 'sum',\n",
    "    'latitude': lambda x: list(x),\n",
    "    'longitude': lambda x: list(x),\n",
    "    'country': lambda x: set(x),\n",
    "    'side_a': lambda x: list(x),\n",
    "    'side_b': lambda x: list(x)\n",
    "})"
   ]
  },
  {
   "cell_type": "code",
   "execution_count": 181,
   "metadata": {},
   "outputs": [],
   "source": [
    "names = events[['conflict_new_id', 'conflict_name']].drop_duplicates().set_index('conflict_new_id').conflict_name"
   ]
  },
  {
   "cell_type": "code",
   "execution_count": 183,
   "metadata": {
    "scrolled": false
   },
   "outputs": [],
   "source": [
    "conflicts['name'] = names"
   ]
  },
  {
   "cell_type": "code",
   "execution_count": 186,
   "metadata": {
    "scrolled": false
   },
   "outputs": [
    {
     "data": {
      "text/html": [
       "<div>\n",
       "<style>\n",
       "    .dataframe thead tr:only-child th {\n",
       "        text-align: right;\n",
       "    }\n",
       "\n",
       "    .dataframe thead th {\n",
       "        text-align: left;\n",
       "    }\n",
       "\n",
       "    .dataframe tbody tr th {\n",
       "        vertical-align: top;\n",
       "    }\n",
       "</style>\n",
       "<table border=\"1\" class=\"dataframe\">\n",
       "  <thead>\n",
       "    <tr style=\"text-align: right;\">\n",
       "      <th></th>\n",
       "      <th>duration</th>\n",
       "      <th>date_start</th>\n",
       "      <th>date_end</th>\n",
       "      <th>deaths_civilians</th>\n",
       "      <th>deaths_unknown</th>\n",
       "      <th>best</th>\n",
       "      <th>low</th>\n",
       "      <th>high</th>\n",
       "      <th>latitude</th>\n",
       "      <th>longitude</th>\n",
       "      <th>country</th>\n",
       "      <th>side_a</th>\n",
       "      <th>side_b</th>\n",
       "      <th>name</th>\n",
       "    </tr>\n",
       "    <tr>\n",
       "      <th>conflict_new_id</th>\n",
       "      <th></th>\n",
       "      <th></th>\n",
       "      <th></th>\n",
       "      <th></th>\n",
       "      <th></th>\n",
       "      <th></th>\n",
       "      <th></th>\n",
       "      <th></th>\n",
       "      <th></th>\n",
       "      <th></th>\n",
       "      <th></th>\n",
       "      <th></th>\n",
       "      <th></th>\n",
       "      <th></th>\n",
       "    </tr>\n",
       "  </thead>\n",
       "  <tbody>\n",
       "    <tr>\n",
       "      <th>205</th>\n",
       "      <td>104 days</td>\n",
       "      <td>1990-04-17</td>\n",
       "      <td>2016-09-18</td>\n",
       "      <td>92</td>\n",
       "      <td>56</td>\n",
       "      <td>218</td>\n",
       "      <td>218</td>\n",
       "      <td>543</td>\n",
       "      <td>[36.246389, 36.155278, 37.32322, 35.73671, 36....</td>\n",
       "      <td>[46.266389, 45.478889, 48.041134, 46.274843, 4...</td>\n",
       "      <td>{Germany, Iraq, Turkey, Iran}</td>\n",
       "      <td>[Government of Iran, Government of Iran, Gover...</td>\n",
       "      <td>[KDPI, KDPI, KDPI, KDPI, KDPI, KDPI, KDPI, KDP...</td>\n",
       "      <td>Iran:Kurdistan</td>\n",
       "    </tr>\n",
       "    <tr>\n",
       "      <th>209</th>\n",
       "      <td>3978 days</td>\n",
       "      <td>1989-01-01</td>\n",
       "      <td>2016-08-20</td>\n",
       "      <td>276</td>\n",
       "      <td>221</td>\n",
       "      <td>7786</td>\n",
       "      <td>7735</td>\n",
       "      <td>10479</td>\n",
       "      <td>[12.782008, 7.780424, 12.75, 8.895, 12.4863, 1...</td>\n",
       "      <td>[123.952024, 123.292649, 124.033333, 125.77527...</td>\n",
       "      <td>{Philippines}</td>\n",
       "      <td>[Government of Philippines, Government of Phil...</td>\n",
       "      <td>[CPP, CPP, CPP, CPP, CPP, CPP, CPP, CPP, CPP, ...</td>\n",
       "      <td>Philippines:Government</td>\n",
       "    </tr>\n",
       "    <tr>\n",
       "      <th>218</th>\n",
       "      <td>3917 days</td>\n",
       "      <td>1989-01-01</td>\n",
       "      <td>2016-12-30</td>\n",
       "      <td>187</td>\n",
       "      <td>331</td>\n",
       "      <td>1701</td>\n",
       "      <td>1677</td>\n",
       "      <td>2492</td>\n",
       "      <td>[34.57173, 34.683056, 34.484389, 33.831266, 34...</td>\n",
       "      <td>[73.89724, 76.645, 75.658389, 74.046931, 73.85...</td>\n",
       "      <td>{Pakistan, India}</td>\n",
       "      <td>[Government of India, Government of India, Gov...</td>\n",
       "      <td>[Government of Pakistan, Government of Pakista...</td>\n",
       "      <td>Government of India-Government of Pakistan</td>\n",
       "    </tr>\n",
       "    <tr>\n",
       "      <th>220</th>\n",
       "      <td>0 days</td>\n",
       "      <td>1989-02-03</td>\n",
       "      <td>1989-02-03</td>\n",
       "      <td>0</td>\n",
       "      <td>150</td>\n",
       "      <td>150</td>\n",
       "      <td>17</td>\n",
       "      <td>300</td>\n",
       "      <td>[-25.29389]</td>\n",
       "      <td>[-57.611111]</td>\n",
       "      <td>{Paraguay}</td>\n",
       "      <td>[Government of Paraguay]</td>\n",
       "      <td>[Military faction (forces of Andres Rodriguez)]</td>\n",
       "      <td>Paraguay:Government</td>\n",
       "    </tr>\n",
       "    <tr>\n",
       "      <th>221</th>\n",
       "      <td>3086 days</td>\n",
       "      <td>1989-01-01</td>\n",
       "      <td>2015-09-30</td>\n",
       "      <td>196</td>\n",
       "      <td>1366</td>\n",
       "      <td>4550</td>\n",
       "      <td>4155</td>\n",
       "      <td>6362</td>\n",
       "      <td>[17.5, 17.5, 17.5, 17.5, 17.5, 17.5, 22.0, 17....</td>\n",
       "      <td>[97.75, 97.75, 97.75, 97.75, 97.75, 97.75, 98....</td>\n",
       "      <td>{Myanmar (Burma), Thailand}</td>\n",
       "      <td>[Government of Myanmar (Burma), Government of ...</td>\n",
       "      <td>[KNU, KNU, KNU, KNU, KNU, DKBA 5, KNU, KNU, KN...</td>\n",
       "      <td>Myanmar (Burma):Karen</td>\n",
       "    </tr>\n",
       "  </tbody>\n",
       "</table>\n",
       "</div>"
      ],
      "text/plain": [
       "                 duration date_start   date_end  deaths_civilians  \\\n",
       "conflict_new_id                                                     \n",
       "205              104 days 1990-04-17 2016-09-18                92   \n",
       "209             3978 days 1989-01-01 2016-08-20               276   \n",
       "218             3917 days 1989-01-01 2016-12-30               187   \n",
       "220                0 days 1989-02-03 1989-02-03                 0   \n",
       "221             3086 days 1989-01-01 2015-09-30               196   \n",
       "\n",
       "                 deaths_unknown  best   low   high  \\\n",
       "conflict_new_id                                      \n",
       "205                          56   218   218    543   \n",
       "209                         221  7786  7735  10479   \n",
       "218                         331  1701  1677   2492   \n",
       "220                         150   150    17    300   \n",
       "221                        1366  4550  4155   6362   \n",
       "\n",
       "                                                          latitude  \\\n",
       "conflict_new_id                                                      \n",
       "205              [36.246389, 36.155278, 37.32322, 35.73671, 36....   \n",
       "209              [12.782008, 7.780424, 12.75, 8.895, 12.4863, 1...   \n",
       "218              [34.57173, 34.683056, 34.484389, 33.831266, 34...   \n",
       "220                                                    [-25.29389]   \n",
       "221              [17.5, 17.5, 17.5, 17.5, 17.5, 17.5, 22.0, 17....   \n",
       "\n",
       "                                                         longitude  \\\n",
       "conflict_new_id                                                      \n",
       "205              [46.266389, 45.478889, 48.041134, 46.274843, 4...   \n",
       "209              [123.952024, 123.292649, 124.033333, 125.77527...   \n",
       "218              [73.89724, 76.645, 75.658389, 74.046931, 73.85...   \n",
       "220                                                   [-57.611111]   \n",
       "221              [97.75, 97.75, 97.75, 97.75, 97.75, 97.75, 98....   \n",
       "\n",
       "                                       country  \\\n",
       "conflict_new_id                                  \n",
       "205              {Germany, Iraq, Turkey, Iran}   \n",
       "209                              {Philippines}   \n",
       "218                          {Pakistan, India}   \n",
       "220                                 {Paraguay}   \n",
       "221                {Myanmar (Burma), Thailand}   \n",
       "\n",
       "                                                            side_a  \\\n",
       "conflict_new_id                                                      \n",
       "205              [Government of Iran, Government of Iran, Gover...   \n",
       "209              [Government of Philippines, Government of Phil...   \n",
       "218              [Government of India, Government of India, Gov...   \n",
       "220                                       [Government of Paraguay]   \n",
       "221              [Government of Myanmar (Burma), Government of ...   \n",
       "\n",
       "                                                            side_b  \\\n",
       "conflict_new_id                                                      \n",
       "205              [KDPI, KDPI, KDPI, KDPI, KDPI, KDPI, KDPI, KDP...   \n",
       "209              [CPP, CPP, CPP, CPP, CPP, CPP, CPP, CPP, CPP, ...   \n",
       "218              [Government of Pakistan, Government of Pakista...   \n",
       "220                [Military faction (forces of Andres Rodriguez)]   \n",
       "221              [KNU, KNU, KNU, KNU, KNU, DKBA 5, KNU, KNU, KN...   \n",
       "\n",
       "                                                       name  \n",
       "conflict_new_id                                              \n",
       "205                                          Iran:Kurdistan  \n",
       "209                                  Philippines:Government  \n",
       "218              Government of India-Government of Pakistan  \n",
       "220                                     Paraguay:Government  \n",
       "221                                   Myanmar (Burma):Karen  "
      ]
     },
     "execution_count": 186,
     "metadata": {},
     "output_type": "execute_result"
    }
   ],
   "source": [
    "conflicts.head()"
   ]
  },
  {
   "cell_type": "code",
   "execution_count": 190,
   "metadata": {},
   "outputs": [],
   "source": [
    "conflicts = conflicts.rename(columns={\n",
    "    'country': 'countries',\n",
    "    'side_a': 'sides_a',\n",
    "    'side_b': 'sides_b',\n",
    "    'latitude': 'latitudes',\n",
    "    'longitude': 'longitudes'\n",
    "})"
   ]
  }
 ],
 "metadata": {
  "kernelspec": {
   "display_name": "Python 3",
   "language": "python",
   "name": "python3"
  },
  "language_info": {
   "codemirror_mode": {
    "name": "ipython",
    "version": 3
   },
   "file_extension": ".py",
   "mimetype": "text/x-python",
   "name": "python",
   "nbconvert_exporter": "python",
   "pygments_lexer": "ipython3",
   "version": "3.6.1"
  }
 },
 "nbformat": 4,
 "nbformat_minor": 2
}
