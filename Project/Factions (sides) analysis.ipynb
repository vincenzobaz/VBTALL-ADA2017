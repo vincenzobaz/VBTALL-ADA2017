{
 "cells": [
  {
   "cell_type": "code",
   "execution_count": 1,
   "metadata": {
    "ExecuteTime": {
     "end_time": "2017-12-18T16:01:31.370969Z",
     "start_time": "2017-12-18T16:01:31.360566Z"
    },
    "collapsed": true
   },
   "outputs": [],
   "source": [
    "import os\n",
    "\n",
    "import numpy as np\n",
    "import pandas as pd\n",
    "import networkx as nx\n",
    "\n",
    "import pickle\n",
    "\n",
    "import matplotlib.pyplot as plt\n",
    "import seaborn as sns\n",
    "%matplotlib inline\n",
    "\n",
    "from collections import Counter\n",
    "from IPython.display import HTML"
   ]
  },
  {
   "cell_type": "markdown",
   "metadata": {},
   "source": [
    "# Import the data"
   ]
  },
  {
   "cell_type": "code",
   "execution_count": 2,
   "metadata": {
    "ExecuteTime": {
     "end_time": "2017-12-18T16:01:31.464537Z",
     "start_time": "2017-12-18T16:01:31.372685Z"
    },
    "collapsed": true
   },
   "outputs": [],
   "source": [
    "with open(os.path.join('pickle', 'conflict.pickle'), 'rb') as src:\n",
    "    events = pickle.load(src)\n",
    "    \n",
    "events.type_of_violence = events.type_of_violence.astype('category')\n",
    "events.where_prec       = events.where_prec.astype('category')\n",
    "events.type_of_violence.cat.rename_categories(['state-based', 'non-state', 'one-sided'], inplace=True)"
   ]
  },
  {
   "cell_type": "code",
   "execution_count": 3,
   "metadata": {
    "ExecuteTime": {
     "end_time": "2017-12-18T16:01:31.492200Z",
     "start_time": "2017-12-18T16:01:31.466173Z"
    }
   },
   "outputs": [
    {
     "data": {
      "text/html": [
       "<div>\n",
       "<style>\n",
       "    .dataframe thead tr:only-child th {\n",
       "        text-align: right;\n",
       "    }\n",
       "\n",
       "    .dataframe thead th {\n",
       "        text-align: left;\n",
       "    }\n",
       "\n",
       "    .dataframe tbody tr th {\n",
       "        vertical-align: top;\n",
       "    }\n",
       "</style>\n",
       "<table border=\"1\" class=\"dataframe\">\n",
       "  <thead>\n",
       "    <tr style=\"text-align: right;\">\n",
       "      <th></th>\n",
       "      <th>id</th>\n",
       "      <th>year</th>\n",
       "      <th>type_of_violence</th>\n",
       "      <th>conflict_new_id</th>\n",
       "      <th>conflict_name</th>\n",
       "      <th>side_a_new_id</th>\n",
       "      <th>gwnoa</th>\n",
       "      <th>side_a</th>\n",
       "      <th>gwnob</th>\n",
       "      <th>side_b_new_id</th>\n",
       "      <th>...</th>\n",
       "      <th>country</th>\n",
       "      <th>country_id</th>\n",
       "      <th>region</th>\n",
       "      <th>date_start</th>\n",
       "      <th>date_end</th>\n",
       "      <th>deaths_a</th>\n",
       "      <th>deaths_b</th>\n",
       "      <th>deaths_civilians</th>\n",
       "      <th>deaths_unknown</th>\n",
       "      <th>best</th>\n",
       "    </tr>\n",
       "  </thead>\n",
       "  <tbody>\n",
       "    <tr>\n",
       "      <th>0</th>\n",
       "      <td>4</td>\n",
       "      <td>2010</td>\n",
       "      <td>state-based</td>\n",
       "      <td>230</td>\n",
       "      <td>Yemen (North Yemen):Government</td>\n",
       "      <td>123</td>\n",
       "      <td>678.0</td>\n",
       "      <td>Government of Yemen (North Yemen)</td>\n",
       "      <td>NaN</td>\n",
       "      <td>881</td>\n",
       "      <td>...</td>\n",
       "      <td>Yemen (North Yemen)</td>\n",
       "      <td>678</td>\n",
       "      <td>Middle East</td>\n",
       "      <td>2010</td>\n",
       "      <td>2010</td>\n",
       "      <td>2</td>\n",
       "      <td>0</td>\n",
       "      <td>0</td>\n",
       "      <td>0</td>\n",
       "      <td>2</td>\n",
       "    </tr>\n",
       "    <tr>\n",
       "      <th>1</th>\n",
       "      <td>5</td>\n",
       "      <td>2011</td>\n",
       "      <td>one-sided</td>\n",
       "      <td>715</td>\n",
       "      <td>Government of Yemen (North Yemen) - Civilians</td>\n",
       "      <td>123</td>\n",
       "      <td>678.0</td>\n",
       "      <td>Government of Yemen (North Yemen)</td>\n",
       "      <td>NaN</td>\n",
       "      <td>1</td>\n",
       "      <td>...</td>\n",
       "      <td>Yemen (North Yemen)</td>\n",
       "      <td>678</td>\n",
       "      <td>Middle East</td>\n",
       "      <td>2011</td>\n",
       "      <td>2011</td>\n",
       "      <td>0</td>\n",
       "      <td>0</td>\n",
       "      <td>0</td>\n",
       "      <td>0</td>\n",
       "      <td>0</td>\n",
       "    </tr>\n",
       "  </tbody>\n",
       "</table>\n",
       "<p>2 rows × 28 columns</p>\n",
       "</div>"
      ],
      "text/plain": [
       "   id  year type_of_violence  conflict_new_id  \\\n",
       "0   4  2010      state-based              230   \n",
       "1   5  2011        one-sided              715   \n",
       "\n",
       "                                   conflict_name  side_a_new_id  gwnoa  \\\n",
       "0                 Yemen (North Yemen):Government            123  678.0   \n",
       "1  Government of Yemen (North Yemen) - Civilians            123  678.0   \n",
       "\n",
       "                              side_a  gwnob  side_b_new_id  ...   \\\n",
       "0  Government of Yemen (North Yemen)    NaN            881  ...    \n",
       "1  Government of Yemen (North Yemen)    NaN              1  ...    \n",
       "\n",
       "               country country_id       region date_start date_end  deaths_a  \\\n",
       "0  Yemen (North Yemen)        678  Middle East       2010     2010         2   \n",
       "1  Yemen (North Yemen)        678  Middle East       2011     2011         0   \n",
       "\n",
       "   deaths_b deaths_civilians deaths_unknown  best  \n",
       "0         0                0              0     2  \n",
       "1         0                0              0     0  \n",
       "\n",
       "[2 rows x 28 columns]"
      ]
     },
     "execution_count": 3,
     "metadata": {},
     "output_type": "execute_result"
    }
   ],
   "source": [
    "events.head(2)"
   ]
  },
  {
   "cell_type": "markdown",
   "metadata": {},
   "source": [
    "# Combining events into conflicts"
   ]
  },
  {
   "cell_type": "markdown",
   "metadata": {},
   "source": [
    "The fundental unit of the dataset is the event. However we are interested in conflicts. Therefore we group events into conflicts and aggregate some of the features:\n",
    "\n",
    "- `date_start` and `date_end` are combined to obtain a length for each event that will be summed across all events.\n",
    "- `date_start` becomes the oldest date in the list of start dates of the events in a conflict.\n",
    "- `date_end` similarly becomes the most recent\n",
    "- all the deaths counts are summed.\n",
    "- A list of all sides, countries and coordinates is kept for each conflict"
   ]
  },
  {
   "cell_type": "code",
   "execution_count": 4,
   "metadata": {
    "ExecuteTime": {
     "end_time": "2017-12-18T16:01:31.604224Z",
     "start_time": "2017-12-18T16:01:31.493554Z"
    },
    "collapsed": true
   },
   "outputs": [],
   "source": [
    "format = '%Y-%m-%d'\n",
    "events['date_start'] = pd.to_datetime(events.date_start, format=format)\n",
    "events['date_end'] = pd.to_datetime(events.date_end, format=format)\n",
    "events['duration'] = events.date_end - events.date_start"
   ]
  },
  {
   "cell_type": "code",
   "execution_count": 5,
   "metadata": {
    "ExecuteTime": {
     "end_time": "2017-12-18T16:01:32.023845Z",
     "start_time": "2017-12-18T16:01:31.605542Z"
    },
    "collapsed": true
   },
   "outputs": [],
   "source": [
    "conflicts = events.groupby('conflict_new_id').agg({\n",
    "    'duration': 'sum',\n",
    "    'date_start': 'min',\n",
    "    'date_end': 'max',\n",
    "    'deaths_civilians': 'sum',\n",
    "    'deaths_unknown': 'sum',\n",
    "    'best': 'sum',\n",
    "    'latitude': lambda x: list(x),\n",
    "    'longitude': lambda x: list(x),\n",
    "    'country': lambda x: set(x),\n",
    "    'side_a': lambda x: list(x),\n",
    "    'side_b': lambda x: list(x),\n",
    "    'region' : lambda x: set(x)\n",
    "})"
   ]
  },
  {
   "cell_type": "code",
   "execution_count": 6,
   "metadata": {
    "ExecuteTime": {
     "end_time": "2017-12-18T16:01:32.041559Z",
     "start_time": "2017-12-18T16:01:32.025080Z"
    },
    "collapsed": true
   },
   "outputs": [],
   "source": [
    "names = events[['conflict_new_id', 'conflict_name']].drop_duplicates()\\\n",
    "                                                    .set_index('conflict_new_id').conflict_name"
   ]
  },
  {
   "cell_type": "code",
   "execution_count": 7,
   "metadata": {
    "ExecuteTime": {
     "end_time": "2017-12-18T16:01:32.047479Z",
     "start_time": "2017-12-18T16:01:32.043410Z"
    },
    "collapsed": true
   },
   "outputs": [],
   "source": [
    "conflicts['name'] = names"
   ]
  },
  {
   "cell_type": "code",
   "execution_count": 8,
   "metadata": {
    "ExecuteTime": {
     "end_time": "2017-12-18T16:01:32.056778Z",
     "start_time": "2017-12-18T16:01:32.049539Z"
    },
    "collapsed": true
   },
   "outputs": [],
   "source": [
    "conflicts = conflicts.rename(columns={\n",
    "    'country': 'countries',\n",
    "    'side_a': 'sides_a',\n",
    "    'side_b': 'sides_b',\n",
    "    'latitude': 'latitudes',\n",
    "    'longitude': 'longitudes'\n",
    "})"
   ]
  },
  {
   "cell_type": "code",
   "execution_count": 9,
   "metadata": {
    "ExecuteTime": {
     "end_time": "2017-12-18T16:01:32.097724Z",
     "start_time": "2017-12-18T16:01:32.058246Z"
    }
   },
   "outputs": [
    {
     "data": {
      "text/html": [
       "<div>\n",
       "<style>\n",
       "    .dataframe thead tr:only-child th {\n",
       "        text-align: right;\n",
       "    }\n",
       "\n",
       "    .dataframe thead th {\n",
       "        text-align: left;\n",
       "    }\n",
       "\n",
       "    .dataframe tbody tr th {\n",
       "        vertical-align: top;\n",
       "    }\n",
       "</style>\n",
       "<table border=\"1\" class=\"dataframe\">\n",
       "  <thead>\n",
       "    <tr style=\"text-align: right;\">\n",
       "      <th></th>\n",
       "      <th>duration</th>\n",
       "      <th>date_start</th>\n",
       "      <th>date_end</th>\n",
       "      <th>deaths_civilians</th>\n",
       "      <th>deaths_unknown</th>\n",
       "      <th>best</th>\n",
       "      <th>latitudes</th>\n",
       "      <th>longitudes</th>\n",
       "      <th>countries</th>\n",
       "      <th>sides_a</th>\n",
       "      <th>sides_b</th>\n",
       "      <th>region</th>\n",
       "      <th>name</th>\n",
       "    </tr>\n",
       "    <tr>\n",
       "      <th>conflict_new_id</th>\n",
       "      <th></th>\n",
       "      <th></th>\n",
       "      <th></th>\n",
       "      <th></th>\n",
       "      <th></th>\n",
       "      <th></th>\n",
       "      <th></th>\n",
       "      <th></th>\n",
       "      <th></th>\n",
       "      <th></th>\n",
       "      <th></th>\n",
       "      <th></th>\n",
       "      <th></th>\n",
       "    </tr>\n",
       "  </thead>\n",
       "  <tbody>\n",
       "    <tr>\n",
       "      <th>205</th>\n",
       "      <td>0 days</td>\n",
       "      <td>1990-01-01</td>\n",
       "      <td>2016-01-01</td>\n",
       "      <td>92</td>\n",
       "      <td>56</td>\n",
       "      <td>218</td>\n",
       "      <td>[36.246389, 36.155278, 37.32322, 35.73671, 36....</td>\n",
       "      <td>[46.266389, 45.478889, 48.041134, 46.274843, 4...</td>\n",
       "      <td>{Turkey, Germany, Iran, Iraq}</td>\n",
       "      <td>[Government of Iran, Government of Iran, Gover...</td>\n",
       "      <td>[KDPI, KDPI, KDPI, KDPI, KDPI, KDPI, KDPI, KDP...</td>\n",
       "      <td>{Middle East, Europe}</td>\n",
       "      <td>Iran:Kurdistan</td>\n",
       "    </tr>\n",
       "    <tr>\n",
       "      <th>209</th>\n",
       "      <td>0 days</td>\n",
       "      <td>1989-01-01</td>\n",
       "      <td>2016-01-01</td>\n",
       "      <td>276</td>\n",
       "      <td>221</td>\n",
       "      <td>7786</td>\n",
       "      <td>[12.782008, 7.780424, 12.75, 8.895, 12.4863, 1...</td>\n",
       "      <td>[123.952024, 123.292649, 124.033333, 125.77527...</td>\n",
       "      <td>{Philippines}</td>\n",
       "      <td>[Government of Philippines, Government of Phil...</td>\n",
       "      <td>[CPP, CPP, CPP, CPP, CPP, CPP, CPP, CPP, CPP, ...</td>\n",
       "      <td>{Asia}</td>\n",
       "      <td>Philippines:Government</td>\n",
       "    </tr>\n",
       "    <tr>\n",
       "      <th>218</th>\n",
       "      <td>0 days</td>\n",
       "      <td>1989-01-01</td>\n",
       "      <td>2016-01-01</td>\n",
       "      <td>187</td>\n",
       "      <td>331</td>\n",
       "      <td>1701</td>\n",
       "      <td>[34.57173, 34.683056, 34.484389, 33.831266, 34...</td>\n",
       "      <td>[73.89724, 76.645, 75.658389, 74.046931, 73.85...</td>\n",
       "      <td>{Pakistan, India}</td>\n",
       "      <td>[Government of India, Government of India, Gov...</td>\n",
       "      <td>[Government of Pakistan, Government of Pakista...</td>\n",
       "      <td>{Asia}</td>\n",
       "      <td>Government of India-Government of Pakistan</td>\n",
       "    </tr>\n",
       "    <tr>\n",
       "      <th>220</th>\n",
       "      <td>0 days</td>\n",
       "      <td>1989-01-01</td>\n",
       "      <td>1989-01-01</td>\n",
       "      <td>0</td>\n",
       "      <td>150</td>\n",
       "      <td>150</td>\n",
       "      <td>[-25.29389]</td>\n",
       "      <td>[-57.611111]</td>\n",
       "      <td>{Paraguay}</td>\n",
       "      <td>[Government of Paraguay]</td>\n",
       "      <td>[Military faction (forces of Andres Rodriguez)]</td>\n",
       "      <td>{Americas}</td>\n",
       "      <td>Paraguay:Government</td>\n",
       "    </tr>\n",
       "    <tr>\n",
       "      <th>221</th>\n",
       "      <td>0 days</td>\n",
       "      <td>1989-01-01</td>\n",
       "      <td>2015-01-01</td>\n",
       "      <td>196</td>\n",
       "      <td>1366</td>\n",
       "      <td>4550</td>\n",
       "      <td>[17.5, 17.5, 17.5, 17.5, 17.5, 17.5, 22.0, 17....</td>\n",
       "      <td>[97.75, 97.75, 97.75, 97.75, 97.75, 97.75, 98....</td>\n",
       "      <td>{Myanmar (Burma), Thailand}</td>\n",
       "      <td>[Government of Myanmar (Burma), Government of ...</td>\n",
       "      <td>[KNU, KNU, KNU, KNU, KNU, DKBA 5, KNU, KNU, KN...</td>\n",
       "      <td>{Asia}</td>\n",
       "      <td>Myanmar (Burma):Karen</td>\n",
       "    </tr>\n",
       "  </tbody>\n",
       "</table>\n",
       "</div>"
      ],
      "text/plain": [
       "                duration date_start   date_end  deaths_civilians  \\\n",
       "conflict_new_id                                                    \n",
       "205               0 days 1990-01-01 2016-01-01                92   \n",
       "209               0 days 1989-01-01 2016-01-01               276   \n",
       "218               0 days 1989-01-01 2016-01-01               187   \n",
       "220               0 days 1989-01-01 1989-01-01                 0   \n",
       "221               0 days 1989-01-01 2015-01-01               196   \n",
       "\n",
       "                 deaths_unknown  best  \\\n",
       "conflict_new_id                         \n",
       "205                          56   218   \n",
       "209                         221  7786   \n",
       "218                         331  1701   \n",
       "220                         150   150   \n",
       "221                        1366  4550   \n",
       "\n",
       "                                                         latitudes  \\\n",
       "conflict_new_id                                                      \n",
       "205              [36.246389, 36.155278, 37.32322, 35.73671, 36....   \n",
       "209              [12.782008, 7.780424, 12.75, 8.895, 12.4863, 1...   \n",
       "218              [34.57173, 34.683056, 34.484389, 33.831266, 34...   \n",
       "220                                                    [-25.29389]   \n",
       "221              [17.5, 17.5, 17.5, 17.5, 17.5, 17.5, 22.0, 17....   \n",
       "\n",
       "                                                        longitudes  \\\n",
       "conflict_new_id                                                      \n",
       "205              [46.266389, 45.478889, 48.041134, 46.274843, 4...   \n",
       "209              [123.952024, 123.292649, 124.033333, 125.77527...   \n",
       "218              [73.89724, 76.645, 75.658389, 74.046931, 73.85...   \n",
       "220                                                   [-57.611111]   \n",
       "221              [97.75, 97.75, 97.75, 97.75, 97.75, 97.75, 98....   \n",
       "\n",
       "                                     countries  \\\n",
       "conflict_new_id                                  \n",
       "205              {Turkey, Germany, Iran, Iraq}   \n",
       "209                              {Philippines}   \n",
       "218                          {Pakistan, India}   \n",
       "220                                 {Paraguay}   \n",
       "221                {Myanmar (Burma), Thailand}   \n",
       "\n",
       "                                                           sides_a  \\\n",
       "conflict_new_id                                                      \n",
       "205              [Government of Iran, Government of Iran, Gover...   \n",
       "209              [Government of Philippines, Government of Phil...   \n",
       "218              [Government of India, Government of India, Gov...   \n",
       "220                                       [Government of Paraguay]   \n",
       "221              [Government of Myanmar (Burma), Government of ...   \n",
       "\n",
       "                                                           sides_b  \\\n",
       "conflict_new_id                                                      \n",
       "205              [KDPI, KDPI, KDPI, KDPI, KDPI, KDPI, KDPI, KDP...   \n",
       "209              [CPP, CPP, CPP, CPP, CPP, CPP, CPP, CPP, CPP, ...   \n",
       "218              [Government of Pakistan, Government of Pakista...   \n",
       "220                [Military faction (forces of Andres Rodriguez)]   \n",
       "221              [KNU, KNU, KNU, KNU, KNU, DKBA 5, KNU, KNU, KN...   \n",
       "\n",
       "                                region  \\\n",
       "conflict_new_id                          \n",
       "205              {Middle East, Europe}   \n",
       "209                             {Asia}   \n",
       "218                             {Asia}   \n",
       "220                         {Americas}   \n",
       "221                             {Asia}   \n",
       "\n",
       "                                                       name  \n",
       "conflict_new_id                                              \n",
       "205                                          Iran:Kurdistan  \n",
       "209                                  Philippines:Government  \n",
       "218              Government of India-Government of Pakistan  \n",
       "220                                     Paraguay:Government  \n",
       "221                                   Myanmar (Burma):Karen  "
      ]
     },
     "execution_count": 9,
     "metadata": {},
     "output_type": "execute_result"
    }
   ],
   "source": [
    "conflicts.head()"
   ]
  },
  {
   "cell_type": "code",
   "execution_count": 10,
   "metadata": {
    "ExecuteTime": {
     "end_time": "2017-12-18T16:01:32.602624Z",
     "start_time": "2017-12-18T16:01:32.099814Z"
    },
    "scrolled": false
   },
   "outputs": [
    {
     "data": {
      "text/plain": [
       "<matplotlib.axes._subplots.AxesSubplot at 0x7f3ab0d457b8>"
      ]
     },
     "execution_count": 10,
     "metadata": {},
     "output_type": "execute_result"
    },
    {
     "data": {
      "image/png": "[encoded data removed]",
      "text/plain": [
       "<matplotlib.figure.Figure at 0x7f3ab05c9128>"
      ]
     },
     "metadata": {},
     "output_type": "display_data"
    }
   ],
   "source": [
    "conflicts[['name', 'best']].sort_values(by='best')[-50:].set_index('name')\\\n",
    "                           .plot(kind='barh', figsize=(10,10), title='Deadliest conflicts')"
   ]
  },
  {
   "cell_type": "markdown",
   "metadata": {},
   "source": [
    "# Analyzing factions (sides)"
   ]
  },
  {
   "cell_type": "markdown",
   "metadata": {},
   "source": [
    "## Create the dataframe with one record per (side_a, side_b)"
   ]
  },
  {
   "cell_type": "code",
   "execution_count": 11,
   "metadata": {
    "ExecuteTime": {
     "end_time": "2017-12-18T16:01:32.649786Z",
     "start_time": "2017-12-18T16:01:32.604339Z"
    }
   },
   "outputs": [
    {
     "name": "stdout",
     "output_type": "stream",
     "text": [
      "The total number of sides is 1143\n"
     ]
    }
   ],
   "source": [
    "sides_a = events[['side_a_new_id', 'side_a']]\n",
    "sides_a.columns = ['id', 'name']\n",
    "sides_a = sides_a.set_index('id')\n",
    "\n",
    "sides_b = events[['side_b_new_id', 'side_b']]\n",
    "sides_b.columns = ['id', 'name']\n",
    "sides_b = sides_b.set_index('id')\n",
    "\n",
    "sides = pd.concat([sides_a, sides_b]).drop_duplicates()\n",
    "\n",
    "print('The total number of sides is {}'.format(len(sides)))"
   ]
  },
  {
   "cell_type": "code",
   "execution_count": 12,
   "metadata": {
    "ExecuteTime": {
     "end_time": "2017-12-18T16:01:32.693720Z",
     "start_time": "2017-12-18T16:01:32.651143Z"
    }
   },
   "outputs": [],
   "source": [
    "# Aggregate data\n",
    "sides_victims = events.groupby(['side_a_new_id', 'side_b_new_id']).best.sum()\n",
    "sum_victims_a = events.groupby(['side_a_new_id', 'side_b_new_id']).deaths_a.sum()\n",
    "sum_victims_b = events.groupby(['side_a_new_id', 'side_b_new_id']).deaths_b.sum()\n",
    "\n",
    "# Build new dataframe\n",
    "sides_victims = pd.DataFrame({\n",
    "    'dead': sides_victims,\n",
    "    'dead_a': sum_victims_a,\n",
    "    'dead_b': sum_victims_b\n",
    "}).reset_index()\n",
    "\n",
    "# Merge to have side names\n",
    "sides_victims = sides_victims.merge(sides, left_on='side_a_new_id', right_index=True)\n",
    "sides_victims = sides_victims.merge(sides, left_on='side_b_new_id', right_index=True)\n",
    "\n",
    "# Rename columns and sort\n",
    "sides_victims.columns = ['id_a', 'id_b', 'dead', 'dead_a', 'dead_b', 'name_a', 'name_b']\n",
    "sides_victims.sort_values(by='dead', inplace=True, ascending=False)\n",
    "\n",
    "# Prepare region data\n",
    "region = events[['side_a_new_id', 'side_b_new_id', 'region']]\n",
    "region = region.groupby(['side_a_new_id', 'side_b_new_id', 'region']).region.apply(set)\n",
    "region = pd.DataFrame(region)\n",
    "region.columns = ['setRegion']\n",
    "region = region.reset_index()\n",
    "region = region[['side_a_new_id', 'side_b_new_id', 'region']]\n",
    "region.columns = ['id_a', 'id_b', 'region']\n",
    "\n",
    "sides_victims = sides_victims.merge(region, on=['id_a', 'id_b'])\n",
    "sides_victims['dead_sides'] = sides_victims.dead_a + sides_victims.dead_b"
   ]
  },
  {
   "cell_type": "code",
   "execution_count": 15,
   "metadata": {
    "ExecuteTime": {
     "end_time": "2017-12-18T16:01:32.720435Z",
     "start_time": "2017-12-18T16:01:32.701295Z"
    },
    "scrolled": true
   },
   "outputs": [
    {
     "data": {
      "text/html": [
       "<div>\n",
       "<style>\n",
       "    .dataframe thead tr:only-child th {\n",
       "        text-align: right;\n",
       "    }\n",
       "\n",
       "    .dataframe thead th {\n",
       "        text-align: left;\n",
       "    }\n",
       "\n",
       "    .dataframe tbody tr th {\n",
       "        vertical-align: top;\n",
       "    }\n",
       "</style>\n",
       "<table border=\"1\" class=\"dataframe\">\n",
       "  <thead>\n",
       "    <tr style=\"text-align: right;\">\n",
       "      <th></th>\n",
       "      <th>id_a</th>\n",
       "      <th>id_b</th>\n",
       "      <th>dead</th>\n",
       "      <th>dead_a</th>\n",
       "      <th>dead_b</th>\n",
       "      <th>name_a</th>\n",
       "      <th>name_b</th>\n",
       "      <th>region</th>\n",
       "      <th>dead_sides</th>\n",
       "    </tr>\n",
       "  </thead>\n",
       "  <tbody>\n",
       "    <tr>\n",
       "      <th>0</th>\n",
       "      <td>94</td>\n",
       "      <td>1</td>\n",
       "      <td>511531</td>\n",
       "      <td>0</td>\n",
       "      <td>0</td>\n",
       "      <td>Government of Rwanda</td>\n",
       "      <td>Civilians</td>\n",
       "      <td>Africa</td>\n",
       "      <td>0</td>\n",
       "    </tr>\n",
       "    <tr>\n",
       "      <th>1</th>\n",
       "      <td>130</td>\n",
       "      <td>303</td>\n",
       "      <td>107344</td>\n",
       "      <td>23596</td>\n",
       "      <td>67146</td>\n",
       "      <td>Government of Afghanistan</td>\n",
       "      <td>Taleban</td>\n",
       "      <td>Asia</td>\n",
       "      <td>90742</td>\n",
       "    </tr>\n",
       "    <tr>\n",
       "      <th>2</th>\n",
       "      <td>98</td>\n",
       "      <td>97</td>\n",
       "      <td>97435</td>\n",
       "      <td>13817</td>\n",
       "      <td>5140</td>\n",
       "      <td>Government of Eritrea</td>\n",
       "      <td>Government of Ethiopia</td>\n",
       "      <td>Africa</td>\n",
       "      <td>18957</td>\n",
       "    </tr>\n",
       "    <tr>\n",
       "      <th>3</th>\n",
       "      <td>145</td>\n",
       "      <td>320</td>\n",
       "      <td>60697</td>\n",
       "      <td>14462</td>\n",
       "      <td>37568</td>\n",
       "      <td>Government of Sri Lanka</td>\n",
       "      <td>LTTE</td>\n",
       "      <td>Asia</td>\n",
       "      <td>52030</td>\n",
       "    </tr>\n",
       "    <tr>\n",
       "      <th>4</th>\n",
       "      <td>145</td>\n",
       "      <td>320</td>\n",
       "      <td>60697</td>\n",
       "      <td>14462</td>\n",
       "      <td>37568</td>\n",
       "      <td>Government of Sri Lanka</td>\n",
       "      <td>LTTE</td>\n",
       "      <td>Europe</td>\n",
       "      <td>52030</td>\n",
       "    </tr>\n",
       "    <tr>\n",
       "      <th>5</th>\n",
       "      <td>116</td>\n",
       "      <td>234</td>\n",
       "      <td>47859</td>\n",
       "      <td>9487</td>\n",
       "      <td>25570</td>\n",
       "      <td>Government of Iraq</td>\n",
       "      <td>IS</td>\n",
       "      <td>Africa</td>\n",
       "      <td>35057</td>\n",
       "    </tr>\n",
       "    <tr>\n",
       "      <th>6</th>\n",
       "      <td>116</td>\n",
       "      <td>234</td>\n",
       "      <td>47859</td>\n",
       "      <td>9487</td>\n",
       "      <td>25570</td>\n",
       "      <td>Government of Iraq</td>\n",
       "      <td>IS</td>\n",
       "      <td>Europe</td>\n",
       "      <td>35057</td>\n",
       "    </tr>\n",
       "    <tr>\n",
       "      <th>7</th>\n",
       "      <td>116</td>\n",
       "      <td>234</td>\n",
       "      <td>47859</td>\n",
       "      <td>9487</td>\n",
       "      <td>25570</td>\n",
       "      <td>Government of Iraq</td>\n",
       "      <td>IS</td>\n",
       "      <td>Middle East</td>\n",
       "      <td>35057</td>\n",
       "    </tr>\n",
       "    <tr>\n",
       "      <th>8</th>\n",
       "      <td>97</td>\n",
       "      <td>416</td>\n",
       "      <td>43470</td>\n",
       "      <td>42900</td>\n",
       "      <td>0</td>\n",
       "      <td>Government of Ethiopia</td>\n",
       "      <td>EPLF</td>\n",
       "      <td>Africa</td>\n",
       "      <td>42900</td>\n",
       "    </tr>\n",
       "    <tr>\n",
       "      <th>9</th>\n",
       "      <td>97</td>\n",
       "      <td>414</td>\n",
       "      <td>41269</td>\n",
       "      <td>39893</td>\n",
       "      <td>376</td>\n",
       "      <td>Government of Ethiopia</td>\n",
       "      <td>EPRDF</td>\n",
       "      <td>Africa</td>\n",
       "      <td>40269</td>\n",
       "    </tr>\n",
       "  </tbody>\n",
       "</table>\n",
       "</div>"
      ],
      "text/plain": [
       "   id_a  id_b    dead  dead_a  dead_b                     name_a  \\\n",
       "0    94     1  511531       0       0       Government of Rwanda   \n",
       "1   130   303  107344   23596   67146  Government of Afghanistan   \n",
       "2    98    97   97435   13817    5140      Government of Eritrea   \n",
       "3   145   320   60697   14462   37568    Government of Sri Lanka   \n",
       "4   145   320   60697   14462   37568    Government of Sri Lanka   \n",
       "5   116   234   47859    9487   25570         Government of Iraq   \n",
       "6   116   234   47859    9487   25570         Government of Iraq   \n",
       "7   116   234   47859    9487   25570         Government of Iraq   \n",
       "8    97   416   43470   42900       0     Government of Ethiopia   \n",
       "9    97   414   41269   39893     376     Government of Ethiopia   \n",
       "\n",
       "                   name_b       region  dead_sides  \n",
       "0               Civilians       Africa           0  \n",
       "1                 Taleban         Asia       90742  \n",
       "2  Government of Ethiopia       Africa       18957  \n",
       "3                    LTTE         Asia       52030  \n",
       "4                    LTTE       Europe       52030  \n",
       "5                      IS       Africa       35057  \n",
       "6                      IS       Europe       35057  \n",
       "7                      IS  Middle East       35057  \n",
       "8                    EPLF       Africa       42900  \n",
       "9                   EPRDF       Africa       40269  "
      ]
     },
     "execution_count": 15,
     "metadata": {},
     "output_type": "execute_result"
    }
   ],
   "source": [
    "sides_victims.head(10)"
   ]
  },
  {
   "cell_type": "code",
   "execution_count": 14,
   "metadata": {
    "ExecuteTime": {
     "end_time": "2017-12-18T16:01:32.699388Z",
     "start_time": "2017-12-18T16:01:32.695230Z"
    },
    "collapsed": true
   },
   "outputs": [],
   "source": [
    "sides_victims.to_json(os.path.join('results', 'sides.json'), orient='records') # Export to json to build visualizations"
   ]
  },
  {
   "cell_type": "markdown",
   "metadata": {},
   "source": [
    "## Create a network of sides"
   ]
  },
  {
   "cell_type": "code",
   "execution_count": null,
   "metadata": {
    "ExecuteTime": {
     "end_time": "2017-12-18T16:01:32.758061Z",
     "start_time": "2017-12-18T16:01:32.749277Z"
    },
    "collapsed": true
   },
   "outputs": [],
   "source": [
    "sides_net = nx.from_pandas_dataframe(sides_victims[:100], source='name_a', target='name_b', edge_attr='dead')"
   ]
  },
  {
   "cell_type": "code",
   "execution_count": null,
   "metadata": {
    "ExecuteTime": {
     "end_time": "2017-12-18T16:01:33.403680Z",
     "start_time": "2017-12-18T16:01:32.760481Z"
    }
   },
   "outputs": [],
   "source": [
    "fig, ax = plt.subplots(figsize=(15, 15))\n",
    "nx.draw_networkx(sides_net, ax=ax)"
   ]
  },
  {
   "cell_type": "code",
   "execution_count": null,
   "metadata": {
    "ExecuteTime": {
     "end_time": "2017-12-18T16:01:33.407581Z",
     "start_time": "2017-12-18T16:01:33.405162Z"
    },
    "collapsed": true
   },
   "outputs": [],
   "source": [
    "faction, degree = zip(*map(tuple, sides_net.degree().items()))"
   ]
  },
  {
   "cell_type": "code",
   "execution_count": null,
   "metadata": {
    "ExecuteTime": {
     "end_time": "2017-12-18T16:01:33.416630Z",
     "start_time": "2017-12-18T16:01:33.408909Z"
    },
    "collapsed": true
   },
   "outputs": [],
   "source": [
    "def degree_distribution(degrees):\n",
    "    c = Counter()\n",
    "    for deg in degrees:\n",
    "        c[deg] += 1\n",
    "    return c"
   ]
  },
  {
   "cell_type": "code",
   "execution_count": null,
   "metadata": {
    "ExecuteTime": {
     "end_time": "2017-12-18T16:01:33.425804Z",
     "start_time": "2017-12-18T16:01:33.417913Z"
    },
    "collapsed": true
   },
   "outputs": [],
   "source": [
    "degree, count = zip(*sorted(degree_distribution(degree).items(), key=lambda k: k[0]))"
   ]
  },
  {
   "cell_type": "code",
   "execution_count": null,
   "metadata": {
    "ExecuteTime": {
     "end_time": "2017-12-18T16:01:33.597813Z",
     "start_time": "2017-12-18T16:01:33.427108Z"
    }
   },
   "outputs": [],
   "source": [
    "ax = sns.barplot(degree, count)\n",
    "ax.set_title('Degree distribution of the network of sides')\n",
    "ax.set_xlabel('Number of rival factions')\n",
    "ax.set_ylabel('Factions with that number of rivals')"
   ]
  },
  {
   "cell_type": "markdown",
   "metadata": {},
   "source": [
    "We see that most of the faction only fought against one opponent. There is no \"big villain\" who tries to conquer the world.\n",
    "As most of the nodes have degree 1, it is not really a graph."
   ]
  },
  {
   "cell_type": "markdown",
   "metadata": {},
   "source": [
    "As we characterized each edge with the number of dead people for that pair of sides, we can visualize this as a flow using a sankey diagram. The color and width of the edges varies from blue to red proportionally to the number of victims.\n",
    "Here is the graph for the top 20 most deadly rivalities"
   ]
  },
  {
   "cell_type": "markdown",
   "metadata": {},
   "source": [
    "![sankey](results/sankey.svg)"
   ]
  },
  {
   "cell_type": "markdown",
   "metadata": {},
   "source": [
    "In addition that, when we have enough precision in the data such that the $victims_{a} + victims_{b} = total$ we can use a chord diagram to visualize, for the nodes with degree bigger than one, the proportion of victims caused by each enemy:"
   ]
  },
  {
   "cell_type": "markdown",
   "metadata": {},
   "source": [
    "![chord](results/chord.png)"
   ]
  },
  {
   "cell_type": "code",
   "execution_count": null,
   "metadata": {
    "collapsed": true
   },
   "outputs": [],
   "source": []
  }
 ],
 "metadata": {
  "kernelspec": {
   "display_name": "Python 3",
   "language": "python",
   "name": "python3"
  },
  "language_info": {
   "codemirror_mode": {
    "name": "ipython",
    "version": 3
   },
   "file_extension": ".py",
   "mimetype": "text/x-python",
   "name": "python",
   "nbconvert_exporter": "python",
   "pygments_lexer": "ipython3",
   "version": "3.6.1"
  },
  "toc": {
   "nav_menu": {},
   "number_sections": true,
   "sideBar": true,
   "skip_h1_title": false,
   "toc_cell": false,
   "toc_position": {},
   "toc_section_display": "block",
   "toc_window_display": false
  },
  "varInspector": {
   "cols": {
    "lenName": 16,
    "lenType": 16,
    "lenVar": 40
   },
   "kernels_config": {
    "python": {
     "delete_cmd_postfix": "",
     "delete_cmd_prefix": "del ",
     "library": "var_list.py",
     "varRefreshCmd": "print(var_dic_list())"
    },
    "r": {
     "delete_cmd_postfix": ") ",
     "delete_cmd_prefix": "rm(",
     "library": "var_list.r",
     "varRefreshCmd": "cat(var_dic_list()) "
    }
   },
   "types_to_exclude": [
    "module",
    "function",
    "builtin_function_or_method",
    "instance",
    "_Feature"
   ],
   "window_display": false
  }
 },
 "nbformat": 4,
 "nbformat_minor": 2
}
