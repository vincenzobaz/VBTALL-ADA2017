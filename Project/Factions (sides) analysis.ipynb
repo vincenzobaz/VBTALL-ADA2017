{
 "cells": [
  {
   "cell_type": "code",
   "execution_count": 4,
   "metadata": {
    "collapsed": true
   },
   "outputs": [],
   "source": [
    "import numpy as np\n",
    "import pandas as pd\n",
    "import networkx as nx\n",
    "\n",
    "import pickle"
   ]
  },
  {
   "cell_type": "markdown",
   "metadata": {},
   "source": [
    "# Import the data"
   ]
  },
  {
   "cell_type": "code",
   "execution_count": 5,
   "metadata": {
    "collapsed": true
   },
   "outputs": [],
   "source": [
    "with open('conflict.pickle', 'rb') as src:\n",
    "    events = pickle.load(src)"
   ]
  },
  {
   "cell_type": "code",
   "execution_count": 7,
   "metadata": {},
   "outputs": [
    {
     "data": {
      "text/html": [
       "<div>\n",
       "<style>\n",
       "    .dataframe thead tr:only-child th {\n",
       "        text-align: right;\n",
       "    }\n",
       "\n",
       "    .dataframe thead th {\n",
       "        text-align: left;\n",
       "    }\n",
       "\n",
       "    .dataframe tbody tr th {\n",
       "        vertical-align: top;\n",
       "    }\n",
       "</style>\n",
       "<table border=\"1\" class=\"dataframe\">\n",
       "  <thead>\n",
       "    <tr style=\"text-align: right;\">\n",
       "      <th></th>\n",
       "      <th>id</th>\n",
       "      <th>year</th>\n",
       "      <th>type_of_violence</th>\n",
       "      <th>conflict_new_id</th>\n",
       "      <th>conflict_name</th>\n",
       "      <th>side_a_new_id</th>\n",
       "      <th>gwnoa</th>\n",
       "      <th>side_a</th>\n",
       "      <th>gwnob</th>\n",
       "      <th>side_b_new_id</th>\n",
       "      <th>...</th>\n",
       "      <th>geom_wkt</th>\n",
       "      <th>country</th>\n",
       "      <th>country_id</th>\n",
       "      <th>date_start</th>\n",
       "      <th>date_end</th>\n",
       "      <th>deaths_a</th>\n",
       "      <th>deaths_b</th>\n",
       "      <th>deaths_civilians</th>\n",
       "      <th>deaths_unknown</th>\n",
       "      <th>best</th>\n",
       "    </tr>\n",
       "  </thead>\n",
       "  <tbody>\n",
       "    <tr>\n",
       "      <th>0</th>\n",
       "      <td>4</td>\n",
       "      <td>2010</td>\n",
       "      <td>1</td>\n",
       "      <td>230</td>\n",
       "      <td>Yemen (North Yemen):Government</td>\n",
       "      <td>123</td>\n",
       "      <td>678.0</td>\n",
       "      <td>Government of Yemen (North Yemen)</td>\n",
       "      <td>NaN</td>\n",
       "      <td>881</td>\n",
       "      <td>...</td>\n",
       "      <td>POINT (44.206667 15.354722)</td>\n",
       "      <td>Yemen (North Yemen)</td>\n",
       "      <td>678</td>\n",
       "      <td>2010</td>\n",
       "      <td>2010</td>\n",
       "      <td>2</td>\n",
       "      <td>0</td>\n",
       "      <td>0</td>\n",
       "      <td>0</td>\n",
       "      <td>2</td>\n",
       "    </tr>\n",
       "    <tr>\n",
       "      <th>1</th>\n",
       "      <td>5</td>\n",
       "      <td>2011</td>\n",
       "      <td>3</td>\n",
       "      <td>715</td>\n",
       "      <td>Government of Yemen (North Yemen) - Civilians</td>\n",
       "      <td>123</td>\n",
       "      <td>678.0</td>\n",
       "      <td>Government of Yemen (North Yemen)</td>\n",
       "      <td>NaN</td>\n",
       "      <td>1</td>\n",
       "      <td>...</td>\n",
       "      <td>POINT (45.036667 12.779444)</td>\n",
       "      <td>Yemen (North Yemen)</td>\n",
       "      <td>678</td>\n",
       "      <td>2011</td>\n",
       "      <td>2011</td>\n",
       "      <td>0</td>\n",
       "      <td>0</td>\n",
       "      <td>0</td>\n",
       "      <td>0</td>\n",
       "      <td>0</td>\n",
       "    </tr>\n",
       "  </tbody>\n",
       "</table>\n",
       "<p>2 rows × 27 columns</p>\n",
       "</div>"
      ],
      "text/plain": [
       "   id  year  type_of_violence  conflict_new_id  \\\n",
       "0   4  2010                 1              230   \n",
       "1   5  2011                 3              715   \n",
       "\n",
       "                                   conflict_name  side_a_new_id  gwnoa  \\\n",
       "0                 Yemen (North Yemen):Government            123  678.0   \n",
       "1  Government of Yemen (North Yemen) - Civilians            123  678.0   \n",
       "\n",
       "                              side_a  gwnob  side_b_new_id  ...   \\\n",
       "0  Government of Yemen (North Yemen)    NaN            881  ...    \n",
       "1  Government of Yemen (North Yemen)    NaN              1  ...    \n",
       "\n",
       "                      geom_wkt              country country_id date_start  \\\n",
       "0  POINT (44.206667 15.354722)  Yemen (North Yemen)        678       2010   \n",
       "1  POINT (45.036667 12.779444)  Yemen (North Yemen)        678       2011   \n",
       "\n",
       "  date_end  deaths_a  deaths_b deaths_civilians deaths_unknown  best  \n",
       "0     2010         2         0                0              0     2  \n",
       "1     2011         0         0                0              0     0  \n",
       "\n",
       "[2 rows x 27 columns]"
      ]
     },
     "execution_count": 7,
     "metadata": {},
     "output_type": "execute_result"
    }
   ],
   "source": [
    "events.head(2)"
   ]
  },
  {
   "cell_type": "markdown",
   "metadata": {},
   "source": [
    "# Combining events into conflicts"
   ]
  },
  {
   "cell_type": "markdown",
   "metadata": {},
   "source": [
    "The fundental unit of the dataset is the event. However we are interested in conflicts. Therefore we group events into conflicts and aggregate some of the features:\n",
    "\n",
    "- `date_start` and `date_end` are combined to obtain a length for each event that will be summed across all events.\n",
    "- `date_start` becomes the oldest date in the list of start dates of the events in a conflict.\n",
    "- `date_end` similarly becomes the most recent\n",
    "- all the deaths counts are summed.\n",
    "- A list of all sides, countries and coordinates is kept for each conflict"
   ]
  },
  {
   "cell_type": "code",
   "execution_count": 9,
   "metadata": {},
   "outputs": [],
   "source": [
    "format = '%Y-%m-%d'\n",
    "events['date_start'] = pd.to_datetime(events.date_start, format=format)\n",
    "events['date_end'] = pd.to_datetime(events.date_end, format=format)\n",
    "events['duration'] = events.date_end - events.date_start"
   ]
  },
  {
   "cell_type": "code",
   "execution_count": 10,
   "metadata": {
    "collapsed": true
   },
   "outputs": [],
   "source": [
    "conflicts = events.groupby('conflict_new_id').agg({\n",
    "    'duration': 'sum',\n",
    "    'date_start': 'min',\n",
    "    'date_end': 'max',\n",
    "    'deaths_civilians': 'sum',\n",
    "    'deaths_unknown': 'sum',\n",
    "    'best': 'sum',\n",
    "    'latitude': lambda x: list(x),\n",
    "    'longitude': lambda x: list(x),\n",
    "    'country': lambda x: set(x),\n",
    "    'side_a': lambda x: list(x),\n",
    "    'side_b': lambda x: list(x)\n",
    "})"
   ]
  },
  {
   "cell_type": "code",
   "execution_count": 12,
   "metadata": {},
   "outputs": [],
   "source": [
    "names = events[['conflict_new_id', 'conflict_name']].drop_duplicates()\\\n",
    "                                                    .set_index('conflict_new_id').conflict_name"
   ]
  },
  {
   "cell_type": "code",
   "execution_count": 13,
   "metadata": {
    "collapsed": true
   },
   "outputs": [],
   "source": [
    "conflicts['name'] = names"
   ]
  },
  {
   "cell_type": "code",
   "execution_count": 14,
   "metadata": {
    "collapsed": true
   },
   "outputs": [],
   "source": [
    "conflicts = conflicts.rename(columns={\n",
    "    'country': 'countries',\n",
    "    'side_a': 'sides_a',\n",
    "    'side_b': 'sides_b',\n",
    "    'latitude': 'latitudes',\n",
    "    'longitude': 'longitudes'\n",
    "})"
   ]
  },
  {
   "cell_type": "markdown",
   "metadata": {},
   "source": [
    "# Analyzing factions (sides)"
   ]
  },
  {
   "cell_type": "markdown",
   "metadata": {},
   "source": [
    "## Create the dataframe with one record per (side_a, side_b)"
   ]
  },
  {
   "cell_type": "code",
   "execution_count": null,
   "metadata": {
    "collapsed": true
   },
   "outputs": [],
   "source": [
    "sides_a = conflict_df[['side_a_new_id', 'side_a']]\n",
    "sides_a.columns = ['id', 'name']\n",
    "sides_a = sides_a.set_index('id')\n",
    "\n",
    "sides_b = conflict_df[['side_b_new_id', 'side_b']]\n",
    "sides_b.columns = ['id', 'name']\n",
    "sides_b = sides_b.set_index('id')\n",
    "\n",
    "sides = pd.concat([sides_a, sides_b]).drop_duplicates()\n",
    "\n",
    "display('The total number of sides is {}'.format(len(sides)))"
   ]
  },
  {
   "cell_type": "code",
   "execution_count": null,
   "metadata": {
    "collapsed": true
   },
   "outputs": [],
   "source": [
    "sides_victims = conflict_df.groupby(['side_a_new_id', 'side_b_new_id']).best.sum()\n",
    "sum_victims_a = conflict_df.groupby(['side_a_new_id', 'side_b_new_id']).deaths_a.sum()\n",
    "sum_victims_b = conflict_df.groupby(['side_a_new_id', 'side_b_new_id']).deaths_b.sum()\n",
    "sides_victims = pd.DataFrame({\n",
    "    'dead': sides_victims,\n",
    "    'dead_a': sum_victims_a,\n",
    "    'dead_b': sum_victims_b\n",
    "}).reset_index()\n",
    "sides_victims = sides_victims.merge(sides, left_on='side_a_new_id', right_index=True)\n",
    "sides_victims = sides_victims.merge(sides, left_on='side_b_new_id', right_index=True)\n",
    "sides_victims.columns = ['id_a', 'id_b', 'dead', 'dead_a', 'dead_b', 'name_a', 'name_b']\n",
    "sides_victims.sort_values(by='dead', inplace=True, ascending=False)"
   ]
  },
  {
   "cell_type": "code",
   "execution_count": null,
   "metadata": {
    "collapsed": true
   },
   "outputs": [],
   "source": [
    "sides_victims.to_json('sides.json', orient='records') # Export to json to build visualizations"
   ]
  },
  {
   "cell_type": "code",
   "execution_count": null,
   "metadata": {
    "collapsed": true
   },
   "outputs": [],
   "source": [
    "sides_victims[(sides_victims.dead_a + sides_victims.dead_b) == (sides_victims.dead)]"
   ]
  },
  {
   "cell_type": "markdown",
   "metadata": {},
   "source": [
    "## Create a network of sides"
   ]
  },
  {
   "cell_type": "code",
   "execution_count": null,
   "metadata": {
    "collapsed": true
   },
   "outputs": [],
   "source": [
    "sides_net = nx.from_pandas_dataframe(sides_victims[:100], source='name_a', target='name_b', edge_attr='dead')"
   ]
  },
  {
   "cell_type": "code",
   "execution_count": null,
   "metadata": {
    "collapsed": true
   },
   "outputs": [],
   "source": [
    "fig, ax = plt.subplots(figsize=(20, 20))\n",
    "nx.draw_networkx(sides_net, ax=ax)"
   ]
  }
 ],
 "metadata": {
  "kernelspec": {
   "display_name": "Python 3",
   "language": "python",
   "name": "python3"
  },
  "language_info": {
   "codemirror_mode": {
    "name": "ipython",
    "version": 3
   },
   "file_extension": ".py",
   "mimetype": "text/x-python",
   "name": "python",
   "nbconvert_exporter": "python",
   "pygments_lexer": "ipython3",
   "version": "3.6.1"
  }
 },
 "nbformat": 4,
 "nbformat_minor": 2
}
