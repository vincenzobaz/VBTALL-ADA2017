{
 "cells": [
  {
   "cell_type": "code",
   "execution_count": 1,
   "metadata": {
    "ExecuteTime": {
     "end_time": "2017-12-18T15:54:05.497336Z",
     "start_time": "2017-12-18T15:54:04.799047Z"
    },
    "collapsed": true
   },
   "outputs": [],
   "source": [
    "import os\n",
    "\n",
    "import numpy as np\n",
    "import pandas as pd\n",
    "import networkx as nx\n",
    "\n",
    "import pickle\n",
    "\n",
    "import matplotlib.pyplot as plt\n",
    "import seaborn as sns\n",
    "%matplotlib inline\n",
    "\n",
    "from collections import Counter\n",
    "from IPython.display import HTML"
   ]
  },
  {
   "cell_type": "markdown",
   "metadata": {},
   "source": [
    "# Import the data"
   ]
  },
  {
   "cell_type": "code",
   "execution_count": 2,
   "metadata": {
    "ExecuteTime": {
     "end_time": "2017-12-18T15:54:05.579433Z",
     "start_time": "2017-12-18T15:54:05.498700Z"
    },
    "collapsed": true
   },
   "outputs": [],
   "source": [
    "with open(os.path.join('pickle', 'conflict.pickle'), 'rb') as src:\n",
    "    events = pickle.load(src)\n",
    "    \n",
    "events.type_of_violence = events.type_of_violence.astype('category')\n",
    "events.where_prec       = events.where_prec.astype('category')\n",
    "events.type_of_violence.cat.rename_categories(['state-based', 'non-state', 'one-sided'], inplace=True)"
   ]
  },
  {
   "cell_type": "code",
   "execution_count": 3,
   "metadata": {
    "ExecuteTime": {
     "end_time": "2017-12-18T15:54:05.603384Z",
     "start_time": "2017-12-18T15:54:05.580726Z"
    }
   },
   "outputs": [
    {
     "data": {
      "text/html": [
       "<div>\n",
       "<style>\n",
       "    .dataframe thead tr:only-child th {\n",
       "        text-align: right;\n",
       "    }\n",
       "\n",
       "    .dataframe thead th {\n",
       "        text-align: left;\n",
       "    }\n",
       "\n",
       "    .dataframe tbody tr th {\n",
       "        vertical-align: top;\n",
       "    }\n",
       "</style>\n",
       "<table border=\"1\" class=\"dataframe\">\n",
       "  <thead>\n",
       "    <tr style=\"text-align: right;\">\n",
       "      <th></th>\n",
       "      <th>id</th>\n",
       "      <th>year</th>\n",
       "      <th>type_of_violence</th>\n",
       "      <th>conflict_new_id</th>\n",
       "      <th>conflict_name</th>\n",
       "      <th>side_a_new_id</th>\n",
       "      <th>gwnoa</th>\n",
       "      <th>side_a</th>\n",
       "      <th>gwnob</th>\n",
       "      <th>side_b_new_id</th>\n",
       "      <th>...</th>\n",
       "      <th>longitude</th>\n",
       "      <th>geom_wkt</th>\n",
       "      <th>country</th>\n",
       "      <th>country_id</th>\n",
       "      <th>date_start</th>\n",
       "      <th>deaths_a</th>\n",
       "      <th>deaths_b</th>\n",
       "      <th>deaths_civilians</th>\n",
       "      <th>deaths_unknown</th>\n",
       "      <th>best</th>\n",
       "    </tr>\n",
       "  </thead>\n",
       "  <tbody>\n",
       "    <tr>\n",
       "      <th>0</th>\n",
       "      <td>4</td>\n",
       "      <td>2010</td>\n",
       "      <td>state-based</td>\n",
       "      <td>230</td>\n",
       "      <td>Yemen (North Yemen):Government</td>\n",
       "      <td>123</td>\n",
       "      <td>678.0</td>\n",
       "      <td>Government of Yemen (North Yemen)</td>\n",
       "      <td>NaN</td>\n",
       "      <td>881</td>\n",
       "      <td>...</td>\n",
       "      <td>44.206667</td>\n",
       "      <td>POINT (44.206667 15.354722)</td>\n",
       "      <td>Yemen (North Yemen)</td>\n",
       "      <td>678</td>\n",
       "      <td>2010</td>\n",
       "      <td>2</td>\n",
       "      <td>0</td>\n",
       "      <td>0</td>\n",
       "      <td>0</td>\n",
       "      <td>2</td>\n",
       "    </tr>\n",
       "    <tr>\n",
       "      <th>1</th>\n",
       "      <td>5</td>\n",
       "      <td>2011</td>\n",
       "      <td>one-sided</td>\n",
       "      <td>715</td>\n",
       "      <td>Government of Yemen (North Yemen) - Civilians</td>\n",
       "      <td>123</td>\n",
       "      <td>678.0</td>\n",
       "      <td>Government of Yemen (North Yemen)</td>\n",
       "      <td>NaN</td>\n",
       "      <td>1</td>\n",
       "      <td>...</td>\n",
       "      <td>45.036667</td>\n",
       "      <td>POINT (45.036667 12.779444)</td>\n",
       "      <td>Yemen (North Yemen)</td>\n",
       "      <td>678</td>\n",
       "      <td>2011</td>\n",
       "      <td>0</td>\n",
       "      <td>0</td>\n",
       "      <td>0</td>\n",
       "      <td>0</td>\n",
       "      <td>0</td>\n",
       "    </tr>\n",
       "  </tbody>\n",
       "</table>\n",
       "<p>2 rows × 26 columns</p>\n",
       "</div>"
      ],
      "text/plain": [
       "   id  year type_of_violence  conflict_new_id  \\\n",
       "0   4  2010      state-based              230   \n",
       "1   5  2011        one-sided              715   \n",
       "\n",
       "                                   conflict_name  side_a_new_id  gwnoa  \\\n",
       "0                 Yemen (North Yemen):Government            123  678.0   \n",
       "1  Government of Yemen (North Yemen) - Civilians            123  678.0   \n",
       "\n",
       "                              side_a  gwnob  side_b_new_id  ...   longitude  \\\n",
       "0  Government of Yemen (North Yemen)    NaN            881  ...   44.206667   \n",
       "1  Government of Yemen (North Yemen)    NaN              1  ...   45.036667   \n",
       "\n",
       "                      geom_wkt              country country_id date_start  \\\n",
       "0  POINT (44.206667 15.354722)  Yemen (North Yemen)        678       2010   \n",
       "1  POINT (45.036667 12.779444)  Yemen (North Yemen)        678       2011   \n",
       "\n",
       "   deaths_a  deaths_b deaths_civilians deaths_unknown  best  \n",
       "0         2         0                0              0     2  \n",
       "1         0         0                0              0     0  \n",
       "\n",
       "[2 rows x 26 columns]"
      ]
     },
     "execution_count": 3,
     "metadata": {},
     "output_type": "execute_result"
    }
   ],
   "source": [
    "events.head(2)"
   ]
  },
  {
   "cell_type": "markdown",
   "metadata": {},
   "source": [
    "# Combining events into conflicts"
   ]
  },
  {
   "cell_type": "markdown",
   "metadata": {},
   "source": [
    "The fundental unit of the dataset is the event. However we are interested in conflicts. Therefore we group events into conflicts and aggregate some of the features:\n",
    "\n",
    "- `date_start` and `date_end` are combined to obtain a length for each event that will be summed across all events.\n",
    "- `date_start` becomes the oldest date in the list of start dates of the events in a conflict.\n",
    "- `date_end` similarly becomes the most recent\n",
    "- all the deaths counts are summed.\n",
    "- A list of all sides, countries and coordinates is kept for each conflict"
   ]
  },
  {
   "cell_type": "code",
   "execution_count": 4,
   "metadata": {
    "ExecuteTime": {
     "end_time": "2017-12-18T15:54:05.824137Z",
     "start_time": "2017-12-18T15:54:05.604713Z"
    }
   },
   "outputs": [
    {
     "ename": "AttributeError",
     "evalue": "'DataFrame' object has no attribute 'date_end'",
     "output_type": "error",
     "traceback": [
      "\u001b[0;31m---------------------------------------------------------------------------\u001b[0m",
      "\u001b[0;31mAttributeError\u001b[0m                            Traceback (most recent call last)",
      "\u001b[0;32m<ipython-input-4-bcd605e0c4bb>\u001b[0m in \u001b[0;36m<module>\u001b[0;34m()\u001b[0m\n\u001b[1;32m      1\u001b[0m \u001b[0mformat\u001b[0m \u001b[0;34m=\u001b[0m \u001b[0;34m'%Y-%m-%d'\u001b[0m\u001b[0;34m\u001b[0m\u001b[0m\n\u001b[1;32m      2\u001b[0m \u001b[0mevents\u001b[0m\u001b[0;34m[\u001b[0m\u001b[0;34m'date_start'\u001b[0m\u001b[0;34m]\u001b[0m \u001b[0;34m=\u001b[0m \u001b[0mpd\u001b[0m\u001b[0;34m.\u001b[0m\u001b[0mto_datetime\u001b[0m\u001b[0;34m(\u001b[0m\u001b[0mevents\u001b[0m\u001b[0;34m.\u001b[0m\u001b[0mdate_start\u001b[0m\u001b[0;34m,\u001b[0m \u001b[0mformat\u001b[0m\u001b[0;34m=\u001b[0m\u001b[0mformat\u001b[0m\u001b[0;34m)\u001b[0m\u001b[0;34m\u001b[0m\u001b[0m\n\u001b[0;32m----> 3\u001b[0;31m \u001b[0mevents\u001b[0m\u001b[0;34m[\u001b[0m\u001b[0;34m'date_end'\u001b[0m\u001b[0;34m]\u001b[0m \u001b[0;34m=\u001b[0m \u001b[0mpd\u001b[0m\u001b[0;34m.\u001b[0m\u001b[0mto_datetime\u001b[0m\u001b[0;34m(\u001b[0m\u001b[0mevents\u001b[0m\u001b[0;34m.\u001b[0m\u001b[0mdate_end\u001b[0m\u001b[0;34m,\u001b[0m \u001b[0mformat\u001b[0m\u001b[0;34m=\u001b[0m\u001b[0mformat\u001b[0m\u001b[0;34m)\u001b[0m\u001b[0;34m\u001b[0m\u001b[0m\n\u001b[0m\u001b[1;32m      4\u001b[0m \u001b[0mevents\u001b[0m\u001b[0;34m[\u001b[0m\u001b[0;34m'duration'\u001b[0m\u001b[0;34m]\u001b[0m \u001b[0;34m=\u001b[0m \u001b[0mevents\u001b[0m\u001b[0;34m.\u001b[0m\u001b[0mdate_end\u001b[0m \u001b[0;34m-\u001b[0m \u001b[0mevents\u001b[0m\u001b[0;34m.\u001b[0m\u001b[0mdate_start\u001b[0m\u001b[0;34m\u001b[0m\u001b[0m\n",
      "\u001b[0;32m~/Programs/anaconda3/lib/python3.6/site-packages/pandas/core/generic.py\u001b[0m in \u001b[0;36m__getattr__\u001b[0;34m(self, name)\u001b[0m\n\u001b[1;32m   3079\u001b[0m             \u001b[0;32mif\u001b[0m \u001b[0mname\u001b[0m \u001b[0;32min\u001b[0m \u001b[0mself\u001b[0m\u001b[0;34m.\u001b[0m\u001b[0m_info_axis\u001b[0m\u001b[0;34m:\u001b[0m\u001b[0;34m\u001b[0m\u001b[0m\n\u001b[1;32m   3080\u001b[0m                 \u001b[0;32mreturn\u001b[0m \u001b[0mself\u001b[0m\u001b[0;34m[\u001b[0m\u001b[0mname\u001b[0m\u001b[0;34m]\u001b[0m\u001b[0;34m\u001b[0m\u001b[0m\n\u001b[0;32m-> 3081\u001b[0;31m             \u001b[0;32mreturn\u001b[0m \u001b[0mobject\u001b[0m\u001b[0;34m.\u001b[0m\u001b[0m__getattribute__\u001b[0m\u001b[0;34m(\u001b[0m\u001b[0mself\u001b[0m\u001b[0;34m,\u001b[0m \u001b[0mname\u001b[0m\u001b[0;34m)\u001b[0m\u001b[0;34m\u001b[0m\u001b[0m\n\u001b[0m\u001b[1;32m   3082\u001b[0m \u001b[0;34m\u001b[0m\u001b[0m\n\u001b[1;32m   3083\u001b[0m     \u001b[0;32mdef\u001b[0m \u001b[0m__setattr__\u001b[0m\u001b[0;34m(\u001b[0m\u001b[0mself\u001b[0m\u001b[0;34m,\u001b[0m \u001b[0mname\u001b[0m\u001b[0;34m,\u001b[0m \u001b[0mvalue\u001b[0m\u001b[0;34m)\u001b[0m\u001b[0;34m:\u001b[0m\u001b[0;34m\u001b[0m\u001b[0m\n",
      "\u001b[0;31mAttributeError\u001b[0m: 'DataFrame' object has no attribute 'date_end'"
     ]
    }
   ],
   "source": [
    "format = '%Y-%m-%d'\n",
    "events['date_start'] = pd.to_datetime(events.date_start, format=format)\n",
    "events['date_end'] = pd.to_datetime(events.date_end, format=format)\n",
    "events['duration'] = events.date_end - events.date_start"
   ]
  },
  {
   "cell_type": "code",
   "execution_count": null,
   "metadata": {
    "ExecuteTime": {
     "end_time": "2017-12-18T15:54:05.825123Z",
     "start_time": "2017-12-18T15:54:04.823Z"
    },
    "collapsed": true
   },
   "outputs": [],
   "source": [
    "conflicts = events.groupby('conflict_new_id').agg({\n",
    "    'duration': 'sum',\n",
    "    'date_start': 'min',\n",
    "    'date_end': 'max',\n",
    "    'deaths_civilians': 'sum',\n",
    "    'deaths_unknown': 'sum',\n",
    "    'best': 'sum',\n",
    "    'latitude': lambda x: list(x),\n",
    "    'longitude': lambda x: list(x),\n",
    "    'country': lambda x: set(x),\n",
    "    'side_a': lambda x: list(x),\n",
    "    'side_b': lambda x: list(x)\n",
    "})"
   ]
  },
  {
   "cell_type": "code",
   "execution_count": null,
   "metadata": {
    "ExecuteTime": {
     "end_time": "2017-12-18T15:54:05.825895Z",
     "start_time": "2017-12-18T15:54:04.826Z"
    },
    "collapsed": true
   },
   "outputs": [],
   "source": [
    "names = events[['conflict_new_id', 'conflict_name']].drop_duplicates()\\\n",
    "                                                    .set_index('conflict_new_id').conflict_name"
   ]
  },
  {
   "cell_type": "code",
   "execution_count": null,
   "metadata": {
    "ExecuteTime": {
     "end_time": "2017-12-18T15:54:05.826881Z",
     "start_time": "2017-12-18T15:54:04.829Z"
    },
    "collapsed": true
   },
   "outputs": [],
   "source": [
    "conflicts['name'] = names"
   ]
  },
  {
   "cell_type": "code",
   "execution_count": null,
   "metadata": {
    "ExecuteTime": {
     "end_time": "2017-12-18T15:54:05.827996Z",
     "start_time": "2017-12-18T15:54:04.832Z"
    },
    "collapsed": true
   },
   "outputs": [],
   "source": [
    "conflicts = conflicts.rename(columns={\n",
    "    'country': 'countries',\n",
    "    'side_a': 'sides_a',\n",
    "    'side_b': 'sides_b',\n",
    "    'latitude': 'latitudes',\n",
    "    'longitude': 'longitudes'\n",
    "})"
   ]
  },
  {
   "cell_type": "code",
   "execution_count": null,
   "metadata": {
    "ExecuteTime": {
     "end_time": "2017-12-18T15:54:05.828913Z",
     "start_time": "2017-12-18T15:54:04.840Z"
    }
   },
   "outputs": [],
   "source": [
    "conflicts.head()"
   ]
  },
  {
   "cell_type": "code",
   "execution_count": null,
   "metadata": {
    "ExecuteTime": {
     "end_time": "2017-12-18T15:54:05.830062Z",
     "start_time": "2017-12-18T15:54:04.845Z"
    },
    "scrolled": false
   },
   "outputs": [],
   "source": [
    "conflicts[['name', 'best']].sort_values(by='best')[-50:].set_index('name')\\\n",
    "                           .plot(kind='barh', figsize=(10,10), title='Deadliest conflicts')"
   ]
  },
  {
   "cell_type": "markdown",
   "metadata": {},
   "source": [
    "# Analyzing factions (sides)"
   ]
  },
  {
   "cell_type": "markdown",
   "metadata": {},
   "source": [
    "## Create the dataframe with one record per (side_a, side_b)"
   ]
  },
  {
   "cell_type": "code",
   "execution_count": null,
   "metadata": {
    "ExecuteTime": {
     "end_time": "2017-12-18T15:54:05.831308Z",
     "start_time": "2017-12-18T15:54:04.849Z"
    }
   },
   "outputs": [],
   "source": [
    "sides_a = events[['side_a_new_id', 'side_a']]\n",
    "sides_a.columns = ['id', 'name']\n",
    "sides_a = sides_a.set_index('id')\n",
    "\n",
    "sides_b = events[['side_b_new_id', 'side_b']]\n",
    "sides_b.columns = ['id', 'name']\n",
    "sides_b = sides_b.set_index('id')\n",
    "\n",
    "sides = pd.concat([sides_a, sides_b]).drop_duplicates()\n",
    "\n",
    "print('The total number of sides is {}'.format(len(sides)))"
   ]
  },
  {
   "cell_type": "code",
   "execution_count": null,
   "metadata": {
    "ExecuteTime": {
     "end_time": "2017-12-18T15:54:05.832519Z",
     "start_time": "2017-12-18T15:54:04.853Z"
    },
    "collapsed": true
   },
   "outputs": [],
   "source": [
    "# Aggregate data\n",
    "sides_victims = events.groupby(['side_a_new_id', 'side_b_new_id']).best.sum()\n",
    "sum_victims_a = events.groupby(['side_a_new_id', 'side_b_new_id']).deaths_a.sum()\n",
    "sum_victims_b = events.groupby(['side_a_new_id', 'side_b_new_id']).deaths_b.sum()\n",
    "\n",
    "# Build new dataframe\n",
    "sides_victims = pd.DataFrame({\n",
    "    'dead': sides_victims,\n",
    "    'dead_a': sum_victims_a,\n",
    "    'dead_b': sum_victims_b\n",
    "}).reset_index()\n",
    "\n",
    "# Merge to have side names\n",
    "sides_victims = sides_victims.merge(sides, left_on='side_a_new_id', right_index=True)\n",
    "sides_victims = sides_victims.merge(sides, left_on='side_b_new_id', right_index=True)\n",
    "\n",
    "# Rename columns and sort\n",
    "sides_victims.columns = ['id_a', 'id_b', 'dead', 'dead_a', 'dead_b', 'name_a', 'name_b']\n",
    "sides_victims.sort_values(by='dead', inplace=True, ascending=False)"
   ]
  },
  {
   "cell_type": "code",
   "execution_count": null,
   "metadata": {
    "ExecuteTime": {
     "end_time": "2017-12-18T15:54:05.833806Z",
     "start_time": "2017-12-18T15:54:04.856Z"
    },
    "collapsed": true
   },
   "outputs": [],
   "source": [
    "sides_victims.to_json('sides.json', orient='records') # Export to json to build visualizations"
   ]
  },
  {
   "cell_type": "code",
   "execution_count": null,
   "metadata": {
    "ExecuteTime": {
     "end_time": "2017-12-18T15:54:05.835170Z",
     "start_time": "2017-12-18T15:54:04.859Z"
    }
   },
   "outputs": [],
   "source": [
    "sides_victims.head()"
   ]
  },
  {
   "cell_type": "code",
   "execution_count": null,
   "metadata": {
    "ExecuteTime": {
     "end_time": "2017-12-18T15:54:05.836358Z",
     "start_time": "2017-12-18T15:54:04.863Z"
    }
   },
   "outputs": [],
   "source": [
    "sides_victims[(sides_victims.dead_a + sides_victims.dead_b) == (sides_victims.dead)].head()"
   ]
  },
  {
   "cell_type": "markdown",
   "metadata": {},
   "source": [
    "## Create a network of sides"
   ]
  },
  {
   "cell_type": "code",
   "execution_count": null,
   "metadata": {
    "ExecuteTime": {
     "end_time": "2017-12-18T15:54:05.837405Z",
     "start_time": "2017-12-18T15:54:04.865Z"
    },
    "collapsed": true
   },
   "outputs": [],
   "source": [
    "sides_net = nx.from_pandas_dataframe(sides_victims[:100], source='name_a', target='name_b', edge_attr='dead')"
   ]
  },
  {
   "cell_type": "code",
   "execution_count": null,
   "metadata": {
    "ExecuteTime": {
     "end_time": "2017-12-18T15:54:05.838690Z",
     "start_time": "2017-12-18T15:54:04.868Z"
    }
   },
   "outputs": [],
   "source": [
    "fig, ax = plt.subplots(figsize=(15, 15))\n",
    "nx.draw_networkx(sides_net, ax=ax)"
   ]
  },
  {
   "cell_type": "code",
   "execution_count": null,
   "metadata": {
    "ExecuteTime": {
     "end_time": "2017-12-18T15:54:05.840024Z",
     "start_time": "2017-12-18T15:54:04.871Z"
    },
    "collapsed": true
   },
   "outputs": [],
   "source": [
    "faction, degree = zip(*map(tuple, sides_net.degree().items()))"
   ]
  },
  {
   "cell_type": "code",
   "execution_count": null,
   "metadata": {
    "ExecuteTime": {
     "end_time": "2017-12-18T15:54:05.841272Z",
     "start_time": "2017-12-18T15:54:04.873Z"
    },
    "collapsed": true
   },
   "outputs": [],
   "source": [
    "def degree_distribution(degrees):\n",
    "    c = Counter()\n",
    "    for deg in degrees:\n",
    "        c[deg] += 1\n",
    "    return c"
   ]
  },
  {
   "cell_type": "code",
   "execution_count": null,
   "metadata": {
    "ExecuteTime": {
     "end_time": "2017-12-18T15:54:05.842652Z",
     "start_time": "2017-12-18T15:54:04.876Z"
    },
    "collapsed": true
   },
   "outputs": [],
   "source": [
    "degree, count = zip(*sorted(degree_distribution(degree).items(), key=lambda k: k[0]))"
   ]
  },
  {
   "cell_type": "code",
   "execution_count": null,
   "metadata": {
    "ExecuteTime": {
     "end_time": "2017-12-18T15:54:05.843894Z",
     "start_time": "2017-12-18T15:54:04.879Z"
    }
   },
   "outputs": [],
   "source": [
    "ax = sns.barplot(degree, count)\n",
    "ax.set_title('Degree distribution of the network of sides')\n",
    "ax.set_xlabel('Number of rival factions')\n",
    "ax.set_ylabel('Factions with that number of rivals')"
   ]
  },
  {
   "cell_type": "markdown",
   "metadata": {},
   "source": [
    "We see that most of the faction only fought against one opponent. There is no \"big villain\" who tries to conquer the world.\n",
    "As most of the nodes have degree 1, it is not really a graph."
   ]
  },
  {
   "cell_type": "markdown",
   "metadata": {},
   "source": [
    "As we characterized each edge with the number of dead people for that pair of sides, we can visualize this as a flow using a sankey diagram. The color and width of the edges varies from blue to red proportionally to the number of victims.\n",
    "Here is the graph for the top 20 most deadly rivalities"
   ]
  },
  {
   "cell_type": "markdown",
   "metadata": {},
   "source": [
    "![sankey](resusankey.svg)"
   ]
  },
  {
   "cell_type": "markdown",
   "metadata": {},
   "source": [
    "In addition that, when we have enough precision in the data such that the $victims_{a} + victims_{b} = total$ we can use a chord diagram to visualize, for the nodes with degree bigger than one, the proportion of victims caused by each enemy:"
   ]
  },
  {
   "cell_type": "markdown",
   "metadata": {},
   "source": [
    "![chord](chord.png)"
   ]
  },
  {
   "cell_type": "code",
   "execution_count": null,
   "metadata": {
    "collapsed": true
   },
   "outputs": [],
   "source": []
  }
 ],
 "metadata": {
  "kernelspec": {
   "display_name": "Python [default]",
   "language": "python",
   "name": "python3"
  },
  "language_info": {
   "codemirror_mode": {
    "name": "ipython",
    "version": 3
   },
   "file_extension": ".py",
   "mimetype": "text/x-python",
   "name": "python",
   "nbconvert_exporter": "python",
   "pygments_lexer": "ipython3",
   "version": "3.6.2"
  },
  "toc": {
   "nav_menu": {},
   "number_sections": true,
   "sideBar": true,
   "skip_h1_title": false,
   "toc_cell": false,
   "toc_position": {},
   "toc_section_display": "block",
   "toc_window_display": false
  },
  "varInspector": {
   "cols": {
    "lenName": 16,
    "lenType": 16,
    "lenVar": 40
   },
   "kernels_config": {
    "python": {
     "delete_cmd_postfix": "",
     "delete_cmd_prefix": "del ",
     "library": "var_list.py",
     "varRefreshCmd": "print(var_dic_list())"
    },
    "r": {
     "delete_cmd_postfix": ") ",
     "delete_cmd_prefix": "rm(",
     "library": "var_list.r",
     "varRefreshCmd": "cat(var_dic_list()) "
    }
   },
   "types_to_exclude": [
    "module",
    "function",
    "builtin_function_or_method",
    "instance",
    "_Feature"
   ],
   "window_display": false
  }
 },
 "nbformat": 4,
 "nbformat_minor": 2
}
