{
 "cells": [
  {
   "cell_type": "markdown",
   "metadata": {},
   "source": [
    "# Distance Network "
   ]
  },
  {
   "cell_type": "code",
   "execution_count": 66,
   "metadata": {
    "ExecuteTime": {
     "end_time": "2017-12-18T23:56:58.762266Z",
     "start_time": "2017-12-18T23:56:58.749070Z"
    },
    "collapsed": true
   },
   "outputs": [],
   "source": [
    "import os\n",
    "\n",
    "import numpy as np\n",
    "import pandas as pd\n",
    "import networkx as nx\n",
    "import pickle\n",
    "from tqdm import tqdm\n",
    "\n",
    "from geopy.distance import vincenty, great_circle\n",
    "\n",
    "from scipy import stats\n",
    "\n",
    "import pygraphviz as pgv\n",
    "import matplotlib.pyplot as plt"
   ]
  },
  {
   "cell_type": "code",
   "execution_count": 67,
   "metadata": {
    "ExecuteTime": {
     "end_time": "2017-12-18T23:56:58.838581Z",
     "start_time": "2017-12-18T23:56:58.764327Z"
    },
    "collapsed": true
   },
   "outputs": [],
   "source": [
    "with open(os.path.join(\"pickle\", 'conflict.pickle'), 'rb') as data_source:\n",
    "    conflict_df = pickle.load(data_source)"
   ]
  },
  {
   "cell_type": "code",
   "execution_count": 68,
   "metadata": {
    "ExecuteTime": {
     "end_time": "2017-12-18T23:56:58.843410Z",
     "start_time": "2017-12-18T23:56:58.840157Z"
    },
    "collapsed": true
   },
   "outputs": [],
   "source": [
    "with open(os.path.join(\"pickle\", 'refugee.pickle'), 'rb') as data_source:\n",
    "    refugee_df = pickle.load(data_source)"
   ]
  },
  {
   "cell_type": "markdown",
   "metadata": {},
   "source": [
    "## Create a network of distances"
   ]
  },
  {
   "cell_type": "markdown",
   "metadata": {},
   "source": [
    "We split this network in two types of node: events and conflicts.\n",
    "Each conflict location is the centroid of all its events (mean longitude and latitude).\n",
    "Each event is linked to the conflict it belongs to by an edge whose weight represents the distance to the center of the conflict.\n",
    "All the conflicts will be linked together by an edge describing the distance.\n",
    "\n",
    "For each conflict node, we will also extract the statistics of its event distances using `stats.describe`.\n",
    "\n",
    "This network will be used to find spatial relationship between various conflicts.\n",
    "Also, because each node has a longitude and latitude information, it will be possible to print it on a map and\n",
    "selectively print links between event and conflicts or between conflicts."
   ]
  },
  {
   "cell_type": "code",
   "execution_count": 69,
   "metadata": {
    "ExecuteTime": {
     "end_time": "2017-12-18T23:56:58.880143Z",
     "start_time": "2017-12-18T23:56:58.844981Z"
    }
   },
   "outputs": [
    {
     "data": {
      "text/html": [
       "<div>\n",
       "<style>\n",
       "    .dataframe thead tr:only-child th {\n",
       "        text-align: right;\n",
       "    }\n",
       "\n",
       "    .dataframe thead th {\n",
       "        text-align: left;\n",
       "    }\n",
       "\n",
       "    .dataframe tbody tr th {\n",
       "        vertical-align: top;\n",
       "    }\n",
       "</style>\n",
       "<table border=\"1\" class=\"dataframe\">\n",
       "  <thead>\n",
       "    <tr style=\"text-align: right;\">\n",
       "      <th></th>\n",
       "      <th>id</th>\n",
       "      <th>year</th>\n",
       "      <th>type_of_violence</th>\n",
       "      <th>conflict_new_id</th>\n",
       "      <th>conflict_name</th>\n",
       "      <th>side_a_new_id</th>\n",
       "      <th>gwnoa</th>\n",
       "      <th>side_a</th>\n",
       "      <th>gwnob</th>\n",
       "      <th>side_b_new_id</th>\n",
       "      <th>...</th>\n",
       "      <th>country_id</th>\n",
       "      <th>region</th>\n",
       "      <th>date_start</th>\n",
       "      <th>date_end</th>\n",
       "      <th>deaths_a</th>\n",
       "      <th>deaths_b</th>\n",
       "      <th>deaths_civilians</th>\n",
       "      <th>deaths_unknown</th>\n",
       "      <th>best</th>\n",
       "      <th>deaths_sides</th>\n",
       "    </tr>\n",
       "  </thead>\n",
       "  <tbody>\n",
       "    <tr>\n",
       "      <th>0</th>\n",
       "      <td>4</td>\n",
       "      <td>2010</td>\n",
       "      <td>1</td>\n",
       "      <td>230</td>\n",
       "      <td>Yemen (North Yemen):Government</td>\n",
       "      <td>123</td>\n",
       "      <td>678.0</td>\n",
       "      <td>Government of Yemen (North Yemen)</td>\n",
       "      <td>NaN</td>\n",
       "      <td>881</td>\n",
       "      <td>...</td>\n",
       "      <td>678</td>\n",
       "      <td>Middle East</td>\n",
       "      <td>2010</td>\n",
       "      <td>2010</td>\n",
       "      <td>2</td>\n",
       "      <td>0</td>\n",
       "      <td>0</td>\n",
       "      <td>0</td>\n",
       "      <td>2</td>\n",
       "      <td>2</td>\n",
       "    </tr>\n",
       "  </tbody>\n",
       "</table>\n",
       "<p>1 rows × 29 columns</p>\n",
       "</div>"
      ],
      "text/plain": [
       "   id  year  type_of_violence  conflict_new_id  \\\n",
       "0   4  2010                 1              230   \n",
       "\n",
       "                    conflict_name  side_a_new_id  gwnoa  \\\n",
       "0  Yemen (North Yemen):Government            123  678.0   \n",
       "\n",
       "                              side_a  gwnob  side_b_new_id      ...       \\\n",
       "0  Government of Yemen (North Yemen)    NaN            881      ...        \n",
       "\n",
       "  country_id       region date_start date_end deaths_a  deaths_b  \\\n",
       "0        678  Middle East       2010     2010        2         0   \n",
       "\n",
       "   deaths_civilians deaths_unknown best  deaths_sides  \n",
       "0                 0              0    2             2  \n",
       "\n",
       "[1 rows x 29 columns]"
      ]
     },
     "metadata": {},
     "output_type": "display_data"
    },
    {
     "data": {
      "text/html": [
       "<div>\n",
       "<style>\n",
       "    .dataframe thead tr:only-child th {\n",
       "        text-align: right;\n",
       "    }\n",
       "\n",
       "    .dataframe thead th {\n",
       "        text-align: left;\n",
       "    }\n",
       "\n",
       "    .dataframe tbody tr th {\n",
       "        vertical-align: top;\n",
       "    }\n",
       "</style>\n",
       "<table border=\"1\" class=\"dataframe\">\n",
       "  <thead>\n",
       "    <tr style=\"text-align: right;\">\n",
       "      <th></th>\n",
       "      <th>year</th>\n",
       "      <th>refugee</th>\n",
       "      <th>asylum</th>\n",
       "      <th>internally_displaced</th>\n",
       "      <th>stateless</th>\n",
       "      <th>others</th>\n",
       "      <th>total</th>\n",
       "      <th>country_id</th>\n",
       "    </tr>\n",
       "  </thead>\n",
       "  <tbody>\n",
       "    <tr>\n",
       "      <th>0</th>\n",
       "      <td>1989.0</td>\n",
       "      <td>100786.0</td>\n",
       "      <td>0.0</td>\n",
       "      <td>0.0</td>\n",
       "      <td>0.0</td>\n",
       "      <td>0.0</td>\n",
       "      <td>100786.0</td>\n",
       "      <td>490.0</td>\n",
       "    </tr>\n",
       "  </tbody>\n",
       "</table>\n",
       "</div>"
      ],
      "text/plain": [
       "     year   refugee  asylum  internally_displaced  stateless  others  \\\n",
       "0  1989.0  100786.0     0.0                   0.0        0.0     0.0   \n",
       "\n",
       "      total  country_id  \n",
       "0  100786.0       490.0  "
      ]
     },
     "metadata": {},
     "output_type": "display_data"
    }
   ],
   "source": [
    "display(conflict_df.head(1))\n",
    "display(refugee_df.head(1))"
   ]
  },
  {
   "cell_type": "code",
   "execution_count": 70,
   "metadata": {
    "ExecuteTime": {
     "end_time": "2017-12-18T23:56:58.920838Z",
     "start_time": "2017-12-18T23:56:58.882250Z"
    }
   },
   "outputs": [
    {
     "data": {
      "text/html": [
       "<div>\n",
       "<style>\n",
       "    .dataframe thead tr:only-child th {\n",
       "        text-align: right;\n",
       "    }\n",
       "\n",
       "    .dataframe thead th {\n",
       "        text-align: left;\n",
       "    }\n",
       "\n",
       "    .dataframe tbody tr th {\n",
       "        vertical-align: top;\n",
       "    }\n",
       "</style>\n",
       "<table border=\"1\" class=\"dataframe\">\n",
       "  <thead>\n",
       "    <tr style=\"text-align: right;\">\n",
       "      <th></th>\n",
       "      <th>year</th>\n",
       "      <th>type_of_violence</th>\n",
       "      <th>conflict_new_id</th>\n",
       "      <th>conflict_name</th>\n",
       "      <th>side_a_new_id</th>\n",
       "      <th>gwnoa</th>\n",
       "      <th>side_a</th>\n",
       "      <th>gwnob</th>\n",
       "      <th>side_b_new_id</th>\n",
       "      <th>side_b</th>\n",
       "      <th>...</th>\n",
       "      <th>country_id</th>\n",
       "      <th>region</th>\n",
       "      <th>date_start</th>\n",
       "      <th>date_end</th>\n",
       "      <th>deaths_a</th>\n",
       "      <th>deaths_b</th>\n",
       "      <th>deaths_civilians</th>\n",
       "      <th>deaths_unknown</th>\n",
       "      <th>best</th>\n",
       "      <th>deaths_sides</th>\n",
       "    </tr>\n",
       "    <tr>\n",
       "      <th>id</th>\n",
       "      <th></th>\n",
       "      <th></th>\n",
       "      <th></th>\n",
       "      <th></th>\n",
       "      <th></th>\n",
       "      <th></th>\n",
       "      <th></th>\n",
       "      <th></th>\n",
       "      <th></th>\n",
       "      <th></th>\n",
       "      <th></th>\n",
       "      <th></th>\n",
       "      <th></th>\n",
       "      <th></th>\n",
       "      <th></th>\n",
       "      <th></th>\n",
       "      <th></th>\n",
       "      <th></th>\n",
       "      <th></th>\n",
       "      <th></th>\n",
       "      <th></th>\n",
       "    </tr>\n",
       "  </thead>\n",
       "  <tbody>\n",
       "    <tr>\n",
       "      <th>4</th>\n",
       "      <td>2010</td>\n",
       "      <td>1</td>\n",
       "      <td>230</td>\n",
       "      <td>Yemen (North Yemen):Government</td>\n",
       "      <td>123</td>\n",
       "      <td>678.0</td>\n",
       "      <td>Government of Yemen (North Yemen)</td>\n",
       "      <td>NaN</td>\n",
       "      <td>881</td>\n",
       "      <td>AQAP</td>\n",
       "      <td>...</td>\n",
       "      <td>678</td>\n",
       "      <td>Middle East</td>\n",
       "      <td>2010</td>\n",
       "      <td>2010</td>\n",
       "      <td>2</td>\n",
       "      <td>0</td>\n",
       "      <td>0</td>\n",
       "      <td>0</td>\n",
       "      <td>2</td>\n",
       "      <td>2</td>\n",
       "    </tr>\n",
       "    <tr>\n",
       "      <th>5</th>\n",
       "      <td>2011</td>\n",
       "      <td>3</td>\n",
       "      <td>715</td>\n",
       "      <td>Government of Yemen (North Yemen) - Civilians</td>\n",
       "      <td>123</td>\n",
       "      <td>678.0</td>\n",
       "      <td>Government of Yemen (North Yemen)</td>\n",
       "      <td>NaN</td>\n",
       "      <td>1</td>\n",
       "      <td>Civilians</td>\n",
       "      <td>...</td>\n",
       "      <td>678</td>\n",
       "      <td>Middle East</td>\n",
       "      <td>2011</td>\n",
       "      <td>2011</td>\n",
       "      <td>0</td>\n",
       "      <td>0</td>\n",
       "      <td>0</td>\n",
       "      <td>0</td>\n",
       "      <td>0</td>\n",
       "      <td>0</td>\n",
       "    </tr>\n",
       "  </tbody>\n",
       "</table>\n",
       "<p>2 rows × 28 columns</p>\n",
       "</div>"
      ],
      "text/plain": [
       "    year  type_of_violence  conflict_new_id  \\\n",
       "id                                            \n",
       "4   2010                 1              230   \n",
       "5   2011                 3              715   \n",
       "\n",
       "                                    conflict_name  side_a_new_id  gwnoa  \\\n",
       "id                                                                        \n",
       "4                  Yemen (North Yemen):Government            123  678.0   \n",
       "5   Government of Yemen (North Yemen) - Civilians            123  678.0   \n",
       "\n",
       "                               side_a  gwnob  side_b_new_id     side_b  \\\n",
       "id                                                                       \n",
       "4   Government of Yemen (North Yemen)    NaN            881       AQAP   \n",
       "5   Government of Yemen (North Yemen)    NaN              1  Civilians   \n",
       "\n",
       "       ...       country_id       region date_start date_end  deaths_a  \\\n",
       "id     ...                                                               \n",
       "4      ...              678  Middle East       2010     2010         2   \n",
       "5      ...              678  Middle East       2011     2011         0   \n",
       "\n",
       "    deaths_b deaths_civilians deaths_unknown  best deaths_sides  \n",
       "id                                                               \n",
       "4          0                0              0     2            2  \n",
       "5          0                0              0     0            0  \n",
       "\n",
       "[2 rows x 28 columns]"
      ]
     },
     "metadata": {},
     "output_type": "display_data"
    }
   ],
   "source": [
    "# graph indexed\n",
    "conflict_df = conflict_df.set_index('id')\n",
    "display(conflict_df.head(2))"
   ]
  },
  {
   "cell_type": "code",
   "execution_count": 71,
   "metadata": {
    "ExecuteTime": {
     "end_time": "2017-12-18T23:56:58.939904Z",
     "start_time": "2017-12-18T23:56:58.922325Z"
    },
    "collapsed": true,
    "run_control": {
     "marked": true
    }
   },
   "outputs": [],
   "source": [
    "def distance_between_nodes(graph, node_1_id, node_2_id):\n",
    "    \"\"\"Get distance between two nodes by using their latitude and longitude property\"\"\"\n",
    "    pos_1 = (graph.node[node_1_id][\"latitude\"], graph.node[node_1_id][\"longitude\"])\n",
    "    pos_2 = (graph.node[node_2_id][\"latitude\"], graph.node[node_2_id][\"longitude\"])\n",
    "    # Sometime vincenty doesn't converge, just put None as weight\n",
    "    try:\n",
    "        distance = vincenty(pos_1, pos_2).km\n",
    "    except:\n",
    "        # Try to get great circle distance instead\n",
    "        try:\n",
    "            distance = great_circle(pos_1, pos_2).km\n",
    "        except:\n",
    "            print(\"Error: failed to get distance between node {} and node {}\".format(node_1_id, node_2_id))\n",
    "            print(\"Node 1 positions: {}\".format(pos_1))\n",
    "            print(\"Node 2 positions: {}\".format(pos_2))\n",
    "            distance = None\n",
    "    return distance\n",
    "    "
   ]
  },
  {
   "cell_type": "code",
   "execution_count": 72,
   "metadata": {
    "ExecuteTime": {
     "end_time": "2017-12-18T23:56:58.951146Z",
     "start_time": "2017-12-18T23:56:58.941397Z"
    },
    "collapsed": true
   },
   "outputs": [],
   "source": [
    "def get_conflict_lat_long(conflict_id):\n",
    "    \"\"\"Get the average latitude and longitude for a particular conflict id\"\"\"\n",
    "    longitude = conflict_df[conflict_df.conflict_new_id == conflict_id].longitude.mean()\n",
    "    latitude = conflict_df[conflict_df.conflict_new_id == conflict_id].latitude.mean()\n",
    "    return (latitude, longitude)\n",
    "    "
   ]
  },
  {
   "cell_type": "code",
   "execution_count": 73,
   "metadata": {
    "ExecuteTime": {
     "end_time": "2017-12-18T23:56:58.977065Z",
     "start_time": "2017-12-18T23:56:58.952400Z"
    },
    "collapsed": true
   },
   "outputs": [],
   "source": [
    "def get_conflict_stats_by_year(conflict_id):\n",
    "    \"\"\"Get the conflict statistics by year\"\"\"\n",
    "    local_conflict_df = conflict_df[conflict_df.conflict_new_id == conflict_id]\n",
    "    local_conflict_dict = {}\n",
    "    for year in local_conflict_df.year.unique():\n",
    "        year_local_conflict_df = local_conflict_df[local_conflict_df.year == year]\n",
    "        yearly_dict = {}\n",
    "        yearly_dict[\"year\"] = year\n",
    "        yearly_dict[\"conflict_id\"] = conflict_id \n",
    "        yearly_dict[\"type_of_violence\"] = year_local_conflict_df.iloc[0].type_of_violence\n",
    "        yearly_dict[\"side_a\"] = year_local_conflict_df.iloc[0].side_a\n",
    "        yearly_dict[\"side_b\"] = year_local_conflict_df.iloc[0].side_b\n",
    "        yearly_dict[\"gwnoa\"] = year_local_conflict_df.iloc[0].gwnoa\n",
    "        yearly_dict[\"gwnob\"] = year_local_conflict_df.iloc[0].gwnob\n",
    "        yearly_dict[\"deaths_a\"] = year_local_conflict_df.deaths_a.sum()\n",
    "        yearly_dict[\"deaths_b\"] = year_local_conflict_df.deaths_b.sum()\n",
    "        yearly_dict[\"deaths_civilians\"] = year_local_conflict_df.deaths_civilians.sum()\n",
    "        yearly_dict[\"best\"] = year_local_conflict_df.best.sum() \n",
    "        yearly_dict[\"latitude\"] = year_local_conflict_df.latitude.mean()\n",
    "        yearly_dict[\"longitude\"] = year_local_conflict_df.longitude.mean()\n",
    "        local_conflict_dict[year] = yearly_dict\n",
    "    return local_conflict_dict"
   ]
  },
  {
   "cell_type": "markdown",
   "metadata": {},
   "source": [
    "After having defined some auxiliary functions, we can finally create the graph:"
   ]
  },
  {
   "cell_type": "code",
   "execution_count": 75,
   "metadata": {
    "ExecuteTime": {
     "end_time": "2017-12-18T23:57:13.745421Z",
     "start_time": "2017-12-18T23:56:58.992256Z"
    }
   },
   "outputs": [
    {
     "name": "stderr",
     "output_type": "stream",
     "text": [
      "100%|██████████| 997/997 [00:11<00:00, 84.06it/s]\n"
     ]
    }
   ],
   "source": [
    "distance_graph = nx.Graph()\n",
    "\n",
    "# Create a node for each conflict event\n",
    "distance_graph.add_nodes_from(conflict_df.index.values, nature=\"event\", year=conflict_df.year)\n",
    "\n",
    "# Set longitude and latitude for each node\n",
    "for index in conflict_df.index.values:\n",
    "    distance_graph.node[index][\"longitude\"] = float(conflict_df.loc[index, \"longitude\"])\n",
    "    distance_graph.node[index][\"latitude\"] = float(conflict_df.loc[index, \"latitude\"])\n",
    "\n",
    "# Create a node for each unique conflict, use a special node id to avoid conflict with events\n",
    "for conflict_id in tqdm(conflict_df.conflict_new_id.unique()):\n",
    "    conflict_node_name = \"conflict_{}\".format(conflict_id)\n",
    "    distance_graph.add_node(conflict_node_name, nature=\"conflict\")\n",
    "    \n",
    "    # Get the average position for the conflict\n",
    "    latitude, longitude = get_conflict_lat_long(conflict_id)\n",
    "    \n",
    "    sub_conflict_df = conflict_df[conflict_df.conflict_new_id == conflict_id]\n",
    "    # Get parameters\n",
    "    distance_graph.node[conflict_node_name][\"longitude\"] = float(longitude)\n",
    "    distance_graph.node[conflict_node_name][\"latitude\"] = float(latitude)\n",
    "    distance_graph.node[conflict_node_name][\"conflict_id\"] = int(conflict_id)\n",
    "    distance_graph.node[conflict_node_name][\"type_of_violence\"] = int(sub_conflict_df[\"type_of_violence\"].unique()[0])\n",
    "    distance_graph.node[conflict_node_name][\"country\"] = sub_conflict_df[\"country\"].unique()[0]\n",
    "    distance_graph.node[conflict_node_name][\"region\"] = sub_conflict_df[\"region\"].unique()[0]\n",
    "    distance_graph.node[conflict_node_name][\"side_a\"] = sub_conflict_df[\"side_a\"].unique()[0]\n",
    "    distance_graph.node[conflict_node_name][\"side_b\"] = sub_conflict_df[\"side_b\"].unique()[0]\n",
    "    distance_graph.node[conflict_node_name][\"deaths_a\"] = int(sub_conflict_df[\"deaths_a\"].sum())\n",
    "    distance_graph.node[conflict_node_name][\"deaths_b\"] = int(sub_conflict_df[\"deaths_b\"].sum())\n",
    "    distance_graph.node[conflict_node_name][\"deaths_civilians\"] = int(sub_conflict_df[\"deaths_civilians\"].sum())\n",
    "    distance_graph.node[conflict_node_name][\"deaths_total\"] = int(sub_conflict_df[\"best\"].sum())\n",
    "    \n",
    "    # Set informations about the conflict\n",
    "    distance_graph.node[conflict_node_name][\"yearly_dict\"] = get_conflict_stats_by_year(conflict_id)"
   ]
  },
  {
   "cell_type": "code",
   "execution_count": 76,
   "metadata": {
    "ExecuteTime": {
     "end_time": "2017-12-18T23:57:18.014321Z",
     "start_time": "2017-12-18T23:57:13.746819Z"
    }
   },
   "outputs": [
    {
     "name": "stderr",
     "output_type": "stream",
     "text": [
      "100%|██████████| 997/997 [00:04<00:00, 234.03it/s]\n"
     ]
    }
   ],
   "source": [
    "# Create edges from event to their conflict\n",
    "for conflict_id in tqdm(conflict_df.conflict_new_id.unique()):\n",
    "    conflict_node_name = \"conflict_{}\".format(conflict_id)\n",
    "    \n",
    "    for event_id in conflict_df[conflict_df.conflict_new_id == conflict_id].index.values:\n",
    "        distance = distance_between_nodes(distance_graph, conflict_node_name, event_id)\n",
    "        distance_graph.add_edge(conflict_node_name, event_id, weight=distance, nature=\"event_to_conflict\")\n"
   ]
  },
  {
   "cell_type": "code",
   "execution_count": 77,
   "metadata": {
    "ExecuteTime": {
     "end_time": "2017-12-18T23:57:49.967075Z",
     "start_time": "2017-12-18T23:57:18.016208Z"
    },
    "hide_input": false
   },
   "outputs": [
    {
     "name": "stderr",
     "output_type": "stream",
     "text": [
      "100%|██████████| 997/997 [00:31<00:00, 31.22it/s]\n"
     ]
    }
   ],
   "source": [
    "# Extract the distance between all conflicts \n",
    "for conflict_id_1 in tqdm(conflict_df.conflict_new_id.unique()):\n",
    "    conflict_node_name_1 = \"conflict_{}\".format(conflict_id_1)\n",
    "    \n",
    "    for conflict_id_2 in conflict_df.conflict_new_id.unique():   \n",
    "        conflict_node_name_2 = \"conflict_{}\".format(conflict_id_2)   \n",
    "        \n",
    "        # No self loop\n",
    "        if conflict_id_1 == conflict_id_2:\n",
    "            pass\n",
    "        \n",
    "        # Don't do two times the same edge\n",
    "        if distance_graph.has_edge(conflict_node_name_1, conflict_node_name_2):\n",
    "            pass\n",
    "        \n",
    "        distance_graph.add_edge(conflict_node_name_1, conflict_node_name_2, \n",
    "                  weight = distance_between_nodes(distance_graph, conflict_node_name_1, conflict_node_name_2),\n",
    "                  nature = \"conflict_to_conflict\")\n",
    "        "
   ]
  },
  {
   "cell_type": "code",
   "execution_count": 78,
   "metadata": {
    "ExecuteTime": {
     "end_time": "2017-12-18T23:57:49.981329Z",
     "start_time": "2017-12-18T23:57:49.968934Z"
    },
    "collapsed": true
   },
   "outputs": [],
   "source": [
    "def get_event_weights(graph, node, nature=\"event_to_conflict\"):\n",
    "    \"\"\"Return the event weights for the given nature. Can be an array of natures\"\"\"\n",
    "    edges = [e[2] for e in distance_graph.edges(nbunch=node, data=True)] \n",
    "    if type(nature) == str:\n",
    "        return [d[\"weight\"] for d in edges if d[\"nature\"] == nature]\n",
    "    else:\n",
    "        weights = [[] for x in range(len(nature))]\n",
    "        for index, item in enumerate(nature):\n",
    "            weights[index] = [d[\"weight\"] for d in edges if d[\"nature\"] == item]\n",
    "        return weights\n",
    "    "
   ]
  },
  {
   "cell_type": "code",
   "execution_count": 79,
   "metadata": {
    "ExecuteTime": {
     "end_time": "2017-12-18T23:57:51.158082Z",
     "start_time": "2017-12-18T23:57:49.983142Z"
    }
   },
   "outputs": [
    {
     "name": "stderr",
     "output_type": "stream",
     "text": [
      " 55%|█████▌    | 75119/136178 [00:00<00:00, 751049.26it/s]/home/lal/Programs/anaconda3/lib/python3.6/site-packages/numpy/core/fromnumeric.py:3146: RuntimeWarning: Degrees of freedom <= 0 for slice\n",
      "  **kwargs)\n",
      "/home/lal/Programs/anaconda3/lib/python3.6/site-packages/numpy/core/_methods.py:127: RuntimeWarning: invalid value encountered in double_scalars\n",
      "  ret = ret.dtype.type(ret / rcount)\n",
      "100%|██████████| 136178/136178 [00:01<00:00, 116799.68it/s]\n"
     ]
    }
   ],
   "source": [
    "# Extract conflict statistics\n",
    "for node in tqdm(distance_graph.nodes()):\n",
    "    if distance_graph.node[node][\"nature\"] == \"event\":\n",
    "        continue\n",
    "    \n",
    "    weights = get_event_weights(distance_graph, node, nature=[\"event_to_conflict\", \"conflict_to_conflict\"])\n",
    "    \n",
    "    distance_graph.node[node][\"events_stats\"] = stats.describe(weights[0])\n",
    "    #distance_graph.node[node][\"conflicts_stats\"] = stats.describe(weights[1])\n",
    "        "
   ]
  },
  {
   "cell_type": "code",
   "execution_count": 80,
   "metadata": {
    "ExecuteTime": {
     "end_time": "2017-12-18T23:57:52.584082Z",
     "start_time": "2017-12-18T23:57:51.159967Z"
    },
    "collapsed": true
   },
   "outputs": [],
   "source": [
    "with open(os.path.join(\"pickle\", 'distance_nx.pickle'), 'wb') as out:\n",
    "    pickle.dump(distance_graph, out)"
   ]
  },
  {
   "cell_type": "code",
   "execution_count": 116,
   "metadata": {
    "ExecuteTime": {
     "end_time": "2017-12-19T00:53:43.078401Z",
     "start_time": "2017-12-19T00:53:41.910907Z"
    },
    "collapsed": true
   },
   "outputs": [],
   "source": [
    "with open(os.path.join(\"pickle\", 'distance_nx.pickle'), 'rb') as data_source:\n",
    "    distance_graph = pickle.load(data_source) "
   ]
  },
  {
   "cell_type": "code",
   "execution_count": 117,
   "metadata": {
    "ExecuteTime": {
     "end_time": "2017-12-19T00:53:43.780005Z",
     "start_time": "2017-12-19T00:53:43.079821Z"
    }
   },
   "outputs": [
    {
     "name": "stdout",
     "output_type": "stream",
     "text": [
      "136178 632684\n",
      "997 497503\n"
     ]
    }
   ],
   "source": [
    "# Get a subgraph with only the conflicts\n",
    "conflict_nodes = [node for node, data in distance_graph.nodes(data=True) if data[\"nature\"] == \"conflict\"]\n",
    "distance_graph_conflicts = distance_graph.subgraph(conflict_nodes)\n",
    "\n",
    "print(distance_graph.number_of_nodes(), distance_graph.number_of_edges())\n",
    "print(distance_graph_conflicts.number_of_nodes(), distance_graph_conflicts.number_of_edges())"
   ]
  },
  {
   "cell_type": "code",
   "execution_count": 118,
   "metadata": {
    "ExecuteTime": {
     "end_time": "2017-12-19T00:53:46.545860Z",
     "start_time": "2017-12-19T00:53:43.781742Z"
    },
    "collapsed": true
   },
   "outputs": [],
   "source": [
    "# Rename nodes\n",
    "rename_dict = {node:node.replace(\"conflict_\", \"\") for node in distance_graph_conflicts.nodes()}\n",
    "distance_graph_conflicts = nx.relabel_nodes(distance_graph_conflicts, rename_dict)    "
   ]
  },
  {
   "cell_type": "code",
   "execution_count": 119,
   "metadata": {
    "ExecuteTime": {
     "end_time": "2017-12-19T00:53:46.554153Z",
     "start_time": "2017-12-19T00:53:46.547789Z"
    },
    "collapsed": true
   },
   "outputs": [],
   "source": [
    "# Remove yearly dict\n",
    "for node, data in distance_graph_conflicts.nodes(data=True):\n",
    "    try:\n",
    "        del data['events_stats']\n",
    "        del data['yearly_dict']\n",
    "        del data['nature']\n",
    "    except:\n",
    "        pass"
   ]
  },
  {
   "cell_type": "code",
   "execution_count": 120,
   "metadata": {
    "ExecuteTime": {
     "end_time": "2017-12-19T00:53:46.563453Z",
     "start_time": "2017-12-19T00:53:46.555466Z"
    },
    "collapsed": true
   },
   "outputs": [],
   "source": [
    "# Only keep the edges where the weight is smaller than the maximal distance\n",
    "def get_filtered_graph_conflicts(graph, maximum_distance):\n",
    "    \"\"\"Function to get a copy graph with the specific distance\"\"\"\n",
    "    edges_to_remove = [edge for edge in graph.edges(data=True) \\\n",
    "                       if edge[2][\"weight\"] > maximum_distance]\n",
    "\n",
    "    filtered_graph = graph.copy()\n",
    "    filtered_graph.remove_edges_from(edges_to_remove)\n",
    "    return filtered_graph"
   ]
  },
  {
   "cell_type": "code",
   "execution_count": 121,
   "metadata": {
    "ExecuteTime": {
     "end_time": "2017-12-19T00:53:46.572497Z",
     "start_time": "2017-12-19T00:53:46.564788Z"
    }
   },
   "outputs": [
    {
     "name": "stdout",
     "output_type": "stream",
     "text": [
      "{'longitude': 6.980659750000001, 'latitude': 4.737405, 'conflict_id': 4786, 'type_of_violence': 2, 'country': 'Nigeria', 'region': 'Africa', 'side_a': 'Adoni', 'side_b': 'Ogoni', 'deaths_a': 2, 'deaths_b': 95, 'deaths_civilians': 0, 'deaths_total': 1085}\n"
     ]
    }
   ],
   "source": [
    "for node in distance_graph_conflicts.nodes(data=True):\n",
    "    print(node[1])\n",
    "    break"
   ]
  },
  {
   "cell_type": "code",
   "execution_count": 123,
   "metadata": {
    "ExecuteTime": {
     "end_time": "2017-12-19T00:53:49.894290Z",
     "start_time": "2017-12-19T00:53:46.588160Z"
    }
   },
   "outputs": [
    {
     "name": "stdout",
     "output_type": "stream",
     "text": [
      "6509\n"
     ]
    }
   ],
   "source": [
    "maximum_distance = 200\n",
    "filtered_graph = get_filtered_graph_conflicts(distance_graph_conflicts,\n",
    "                                              maximum_distance)\n",
    "print(filtered_graph.number_of_edges())"
   ]
  },
  {
   "cell_type": "code",
   "execution_count": 124,
   "metadata": {
    "ExecuteTime": {
     "end_time": "2017-12-19T00:53:49.903802Z",
     "start_time": "2017-12-19T00:53:49.896276Z"
    },
    "collapsed": true
   },
   "outputs": [],
   "source": [
    "def get_color(node_data):\n",
    "    type_of_violence = node_data[\"type_of_violence\"]\n",
    "    type_of_violence_color_dict = {\n",
    "        1:'blue',\n",
    "        2:'orange',\n",
    "        3:'pink'\n",
    "    }\n",
    "    return type_of_violence_color_dict[type_of_violence]\n",
    "color_array = [get_color(data) for node,data in filtered_graph.nodes(data=True)]\n",
    "# Size \n",
    "#size_array = [data[\"events_stats\"].mean for node,data in filtered_graph.nodes(data=True)]\n"
   ]
  },
  {
   "cell_type": "code",
   "execution_count": 125,
   "metadata": {
    "ExecuteTime": {
     "end_time": "2017-12-19T00:54:01.274205Z",
     "start_time": "2017-12-19T00:53:49.905659Z"
    },
    "collapsed": true
   },
   "outputs": [],
   "source": [
    "# Get nodes position\n",
    "pos_dict = {node: [data['longitude'], data['latitude']]for node,data in filtered_graph.nodes(data=True)}\n",
    "pos_dict = nx.spring_layout(filtered_graph,\n",
    "                            k =5,\n",
    "                            pos=pos_dict,\n",
    "                            iterations=100)"
   ]
  },
  {
   "cell_type": "code",
   "execution_count": null,
   "metadata": {
    "ExecuteTime": {
     "end_time": "2017-12-18T23:40:46.263785Z",
     "start_time": "2017-12-18T23:40:46.127111Z"
    },
    "collapsed": true,
    "deletable": false,
    "editable": false,
    "run_control": {
     "frozen": true
    }
   },
   "outputs": [],
   "source": [
    "fig = plt.figure(1,figsize=(100,100))\n",
    "plt.clf()\n",
    "\n",
    "nx.draw_networkx(filtered_graph,\n",
    "                 pos_dict,\n",
    "                 with_labels=False,\n",
    "                 node_size=10,\n",
    "                 node_color=color_array,\n",
    "                 width=0.1\n",
    "                ) \n",
    "plt.savefig(os.path.join(\"results\",\"distance_graph.png\"))"
   ]
  },
  {
   "cell_type": "code",
   "execution_count": 126,
   "metadata": {
    "ExecuteTime": {
     "end_time": "2017-12-19T00:54:01.550545Z",
     "start_time": "2017-12-19T00:54:01.275711Z"
    },
    "collapsed": true
   },
   "outputs": [],
   "source": [
    "nx.write_graphml(filtered_graph, os.path.join(\"results\", \"filtered_graph.graphml\"))"
   ]
  }
 ],
 "metadata": {
  "kernelspec": {
   "display_name": "Python 3",
   "language": "python",
   "name": "python3"
  },
  "language_info": {
   "codemirror_mode": {
    "name": "ipython",
    "version": 3
   },
   "file_extension": ".py",
   "mimetype": "text/x-python",
   "name": "python",
   "nbconvert_exporter": "python",
   "pygments_lexer": "ipython3",
   "version": "3.6.1"
  },
  "toc": {
   "nav_menu": {},
   "number_sections": true,
   "sideBar": true,
   "skip_h1_title": false,
   "toc_cell": false,
   "toc_position": {},
   "toc_section_display": "block",
   "toc_window_display": false
  },
  "varInspector": {
   "cols": {
    "lenName": 16,
    "lenType": 16,
    "lenVar": 40
   },
   "kernels_config": {
    "python": {
     "delete_cmd_postfix": "",
     "delete_cmd_prefix": "del ",
     "library": "var_list.py",
     "varRefreshCmd": "print(var_dic_list())"
    },
    "r": {
     "delete_cmd_postfix": ") ",
     "delete_cmd_prefix": "rm(",
     "library": "var_list.r",
     "varRefreshCmd": "cat(var_dic_list()) "
    }
   },
   "position": {
    "height": "202px",
    "left": "478.333px",
    "right": "2px",
    "top": "123px",
    "width": "350px"
   },
   "types_to_exclude": [
    "module",
    "function",
    "builtin_function_or_method",
    "instance",
    "_Feature"
   ],
   "window_display": false
  }
 },
 "nbformat": 4,
 "nbformat_minor": 2
}
