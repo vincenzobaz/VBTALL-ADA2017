{
 "cells": [
  {
   "cell_type": "code",
   "execution_count": 1,
   "metadata": {
    "collapsed": true
   },
   "outputs": [],
   "source": [
    "import pandas as pd\n",
    "import json\n",
    "import folium\n",
    "import requests\n",
    "from bs4 import BeautifulSoup\n",
    "\n",
    "from ipywidgets import interact, fixed\n",
    "import ipywidgets as widgets\n",
    "\n",
    "import matplotlib.pyplot as plt\n",
    "import numpy as np\n",
    "from IPython.display import display"
   ]
  },
  {
   "cell_type": "markdown",
   "metadata": {},
   "source": [
    "## European unemployment"
   ]
  },
  {
   "cell_type": "markdown",
   "metadata": {},
   "source": [
    "We obtained the data from [this eurostat page](http://ec.europa.eu/eurostat/data/database) navigating into the following directories hierarchy:"
   ]
  },
  {
   "cell_type": "markdown",
   "metadata": {},
   "source": [
    " - Tables by theme\n",
    " - Population and social conditions\n",
    " - Labour market\n",
    " - Employment and unemployment (Labour force survey)\n",
    " - LFS Main indicators\n",
    " - Unemployment - LFS adjusted series\n",
    " - Total unemployment rate"
   ]
  },
  {
   "cell_type": "markdown",
   "metadata": {},
   "source": [
    "[Statistical description of the dataset](http://ec.europa.eu/eurostat/cache/metadata/en/tsdec450_esmsip.htm)"
   ]
  },
  {
   "cell_type": "markdown",
   "metadata": {},
   "source": [
    "We check the data and remark that we have to split the first column."
   ]
  },
  {
   "cell_type": "code",
   "execution_count": 2,
   "metadata": {},
   "outputs": [
    {
     "data": {
      "text/html": [
       "<div>\n",
       "<style>\n",
       "    .dataframe thead tr:only-child th {\n",
       "        text-align: right;\n",
       "    }\n",
       "\n",
       "    .dataframe thead th {\n",
       "        text-align: left;\n",
       "    }\n",
       "\n",
       "    .dataframe tbody tr th {\n",
       "        vertical-align: top;\n",
       "    }\n",
       "</style>\n",
       "<table border=\"1\" class=\"dataframe\">\n",
       "  <thead>\n",
       "    <tr style=\"text-align: right;\">\n",
       "      <th></th>\n",
       "      <th>age,unit,sex,geo\\time</th>\n",
       "      <th>2016</th>\n",
       "    </tr>\n",
       "  </thead>\n",
       "  <tbody>\n",
       "    <tr>\n",
       "      <th>0</th>\n",
       "      <td>TOTAL,PC_ACT,T,AT</td>\n",
       "      <td>6.0</td>\n",
       "    </tr>\n",
       "    <tr>\n",
       "      <th>1</th>\n",
       "      <td>TOTAL,PC_ACT,T,BE</td>\n",
       "      <td>7.8</td>\n",
       "    </tr>\n",
       "    <tr>\n",
       "      <th>2</th>\n",
       "      <td>TOTAL,PC_ACT,T,BG</td>\n",
       "      <td>7.6</td>\n",
       "    </tr>\n",
       "    <tr>\n",
       "      <th>3</th>\n",
       "      <td>TOTAL,PC_ACT,T,CY</td>\n",
       "      <td>13.0</td>\n",
       "    </tr>\n",
       "    <tr>\n",
       "      <th>4</th>\n",
       "      <td>TOTAL,PC_ACT,T,CZ</td>\n",
       "      <td>4.0</td>\n",
       "    </tr>\n",
       "  </tbody>\n",
       "</table>\n",
       "</div>"
      ],
      "text/plain": [
       "  age,unit,sex,geo\\time  2016 \n",
       "0     TOTAL,PC_ACT,T,AT    6.0\n",
       "1     TOTAL,PC_ACT,T,BE    7.8\n",
       "2     TOTAL,PC_ACT,T,BG    7.6\n",
       "3     TOTAL,PC_ACT,T,CY   13.0\n",
       "4     TOTAL,PC_ACT,T,CZ    4.0"
      ]
     },
     "execution_count": 2,
     "metadata": {},
     "output_type": "execute_result"
    }
   ],
   "source": [
    "euro = pd.read_csv('Homework3-data/european_unemployment.tsv',\n",
    "                   sep='\\t',\n",
    "                   usecols=['age,unit,sex,geo\\\\time', '2016 '])\n",
    "euro.head()"
   ]
  },
  {
   "cell_type": "code",
   "execution_count": 3,
   "metadata": {},
   "outputs": [
    {
     "data": {
      "text/html": [
       "<div>\n",
       "<style>\n",
       "    .dataframe thead tr:only-child th {\n",
       "        text-align: right;\n",
       "    }\n",
       "\n",
       "    .dataframe thead th {\n",
       "        text-align: left;\n",
       "    }\n",
       "\n",
       "    .dataframe tbody tr th {\n",
       "        vertical-align: top;\n",
       "    }\n",
       "</style>\n",
       "<table border=\"1\" class=\"dataframe\">\n",
       "  <thead>\n",
       "    <tr style=\"text-align: right;\">\n",
       "      <th></th>\n",
       "      <th>0</th>\n",
       "      <th>1</th>\n",
       "      <th>2</th>\n",
       "      <th>3</th>\n",
       "    </tr>\n",
       "  </thead>\n",
       "  <tbody>\n",
       "    <tr>\n",
       "      <th>0</th>\n",
       "      <td>TOTAL</td>\n",
       "      <td>PC_ACT</td>\n",
       "      <td>T</td>\n",
       "      <td>AT</td>\n",
       "    </tr>\n",
       "    <tr>\n",
       "      <th>1</th>\n",
       "      <td>TOTAL</td>\n",
       "      <td>PC_ACT</td>\n",
       "      <td>T</td>\n",
       "      <td>BE</td>\n",
       "    </tr>\n",
       "    <tr>\n",
       "      <th>2</th>\n",
       "      <td>TOTAL</td>\n",
       "      <td>PC_ACT</td>\n",
       "      <td>T</td>\n",
       "      <td>BG</td>\n",
       "    </tr>\n",
       "    <tr>\n",
       "      <th>3</th>\n",
       "      <td>TOTAL</td>\n",
       "      <td>PC_ACT</td>\n",
       "      <td>T</td>\n",
       "      <td>CY</td>\n",
       "    </tr>\n",
       "    <tr>\n",
       "      <th>4</th>\n",
       "      <td>TOTAL</td>\n",
       "      <td>PC_ACT</td>\n",
       "      <td>T</td>\n",
       "      <td>CZ</td>\n",
       "    </tr>\n",
       "  </tbody>\n",
       "</table>\n",
       "</div>"
      ],
      "text/plain": [
       "       0       1  2   3\n",
       "0  TOTAL  PC_ACT  T  AT\n",
       "1  TOTAL  PC_ACT  T  BE\n",
       "2  TOTAL  PC_ACT  T  BG\n",
       "3  TOTAL  PC_ACT  T  CY\n",
       "4  TOTAL  PC_ACT  T  CZ"
      ]
     },
     "execution_count": 3,
     "metadata": {},
     "output_type": "execute_result"
    }
   ],
   "source": [
    "countries = pd.DataFrame(euro['age,unit,sex,geo\\\\time'].str.split(',', expand=True))\n",
    "countries.head()"
   ]
  },
  {
   "cell_type": "code",
   "execution_count": 4,
   "metadata": {},
   "outputs": [
    {
     "data": {
      "text/plain": [
       "array(['TOTAL'], dtype=object)"
      ]
     },
     "execution_count": 4,
     "metadata": {},
     "output_type": "execute_result"
    }
   ],
   "source": [
    "countries[0].unique()"
   ]
  },
  {
   "cell_type": "code",
   "execution_count": 5,
   "metadata": {},
   "outputs": [
    {
     "data": {
      "text/plain": [
       "array(['PC_ACT', 'PC_POP', 'THS_PER'], dtype=object)"
      ]
     },
     "execution_count": 5,
     "metadata": {},
     "output_type": "execute_result"
    }
   ],
   "source": [
    "countries[1].unique()"
   ]
  },
  {
   "cell_type": "markdown",
   "metadata": {},
   "source": [
    "As indicated [here](https://www.google.ch/url?sa=t&rct=j&q=&esrc=s&source=web&cd=1&ved=0ahUKEwiFm4i2-pzXAhUGZlAKHRd_BmQQFggmMAA&url=http%3A%2F%2Fec.europa.eu%2Feurostat%2Fdocuments%2F10186%2F6246844%2FChanges%2Bto%2Bthe%2Bunemployment%2Bdata%2Btables.pdf&usg=AOvVaw10j2p5RgC8vFvpEuvBX2Jn) we only keep `PC_ACT`"
   ]
  },
  {
   "cell_type": "code",
   "execution_count": 6,
   "metadata": {},
   "outputs": [
    {
     "data": {
      "text/html": [
       "<div>\n",
       "<style>\n",
       "    .dataframe thead tr:only-child th {\n",
       "        text-align: right;\n",
       "    }\n",
       "\n",
       "    .dataframe thead th {\n",
       "        text-align: left;\n",
       "    }\n",
       "\n",
       "    .dataframe tbody tr th {\n",
       "        vertical-align: top;\n",
       "    }\n",
       "</style>\n",
       "<table border=\"1\" class=\"dataframe\">\n",
       "  <thead>\n",
       "    <tr style=\"text-align: right;\">\n",
       "      <th></th>\n",
       "      <th>country</th>\n",
       "    </tr>\n",
       "  </thead>\n",
       "  <tbody>\n",
       "    <tr>\n",
       "      <th>0</th>\n",
       "      <td>AT</td>\n",
       "    </tr>\n",
       "    <tr>\n",
       "      <th>1</th>\n",
       "      <td>BE</td>\n",
       "    </tr>\n",
       "    <tr>\n",
       "      <th>2</th>\n",
       "      <td>BG</td>\n",
       "    </tr>\n",
       "    <tr>\n",
       "      <th>3</th>\n",
       "      <td>CY</td>\n",
       "    </tr>\n",
       "    <tr>\n",
       "      <th>4</th>\n",
       "      <td>CZ</td>\n",
       "    </tr>\n",
       "  </tbody>\n",
       "</table>\n",
       "</div>"
      ],
      "text/plain": [
       "  country\n",
       "0      AT\n",
       "1      BE\n",
       "2      BG\n",
       "3      CY\n",
       "4      CZ"
      ]
     },
     "execution_count": 6,
     "metadata": {},
     "output_type": "execute_result"
    }
   ],
   "source": [
    "countries = countries[countries[1] == 'PC_ACT'][[3]]\n",
    "countries.columns = ['country']\n",
    "countries.head()"
   ]
  },
  {
   "cell_type": "code",
   "execution_count": 7,
   "metadata": {
    "collapsed": true
   },
   "outputs": [],
   "source": [
    "euro = countries.merge(euro, left_index=True, right_index=True)\\\n",
    "                .drop('age,unit,sex,geo\\\\time', axis=1)\n",
    "euro.columns = ['country', '2016']"
   ]
  },
  {
   "cell_type": "code",
   "execution_count": 8,
   "metadata": {
    "scrolled": true
   },
   "outputs": [
    {
     "data": {
      "text/html": [
       "<div>\n",
       "<style>\n",
       "    .dataframe thead tr:only-child th {\n",
       "        text-align: right;\n",
       "    }\n",
       "\n",
       "    .dataframe thead th {\n",
       "        text-align: left;\n",
       "    }\n",
       "\n",
       "    .dataframe tbody tr th {\n",
       "        vertical-align: top;\n",
       "    }\n",
       "</style>\n",
       "<table border=\"1\" class=\"dataframe\">\n",
       "  <thead>\n",
       "    <tr style=\"text-align: right;\">\n",
       "      <th></th>\n",
       "      <th>country</th>\n",
       "      <th>2016</th>\n",
       "    </tr>\n",
       "  </thead>\n",
       "  <tbody>\n",
       "    <tr>\n",
       "      <th>0</th>\n",
       "      <td>AT</td>\n",
       "      <td>6.0</td>\n",
       "    </tr>\n",
       "    <tr>\n",
       "      <th>1</th>\n",
       "      <td>BE</td>\n",
       "      <td>7.8</td>\n",
       "    </tr>\n",
       "    <tr>\n",
       "      <th>2</th>\n",
       "      <td>BG</td>\n",
       "      <td>7.6</td>\n",
       "    </tr>\n",
       "    <tr>\n",
       "      <th>3</th>\n",
       "      <td>CY</td>\n",
       "      <td>13.0</td>\n",
       "    </tr>\n",
       "    <tr>\n",
       "      <th>4</th>\n",
       "      <td>CZ</td>\n",
       "      <td>4.0</td>\n",
       "    </tr>\n",
       "  </tbody>\n",
       "</table>\n",
       "</div>"
      ],
      "text/plain": [
       "  country  2016\n",
       "0      AT   6.0\n",
       "1      BE   7.8\n",
       "2      BG   7.6\n",
       "3      CY  13.0\n",
       "4      CZ   4.0"
      ]
     },
     "execution_count": 8,
     "metadata": {},
     "output_type": "execute_result"
    }
   ],
   "source": [
    "euro.head()"
   ]
  },
  {
   "cell_type": "code",
   "execution_count": 9,
   "metadata": {},
   "outputs": [
    {
     "data": {
      "text/plain": [
       "count    37.000000\n",
       "mean      8.286486\n",
       "std       4.201201\n",
       "min       3.000000\n",
       "25%       5.900000\n",
       "50%       7.800000\n",
       "75%      10.000000\n",
       "max      23.600000\n",
       "Name: 2016, dtype: float64"
      ]
     },
     "execution_count": 9,
     "metadata": {},
     "output_type": "execute_result"
    }
   ],
   "source": [
    "euro['2016'].describe()"
   ]
  },
  {
   "cell_type": "code",
   "execution_count": 10,
   "metadata": {
    "collapsed": true
   },
   "outputs": [],
   "source": [
    "geo_data_euro = json.load(open(r'Homework3-data/topojson/europe.topojson.json'))"
   ]
  },
  {
   "cell_type": "markdown",
   "metadata": {},
   "source": [
    "We associate to country codes, the name of the country, taken from the topojson:"
   ]
  },
  {
   "cell_type": "code",
   "execution_count": 11,
   "metadata": {},
   "outputs": [
    {
     "data": {
      "text/html": [
       "<div>\n",
       "<style>\n",
       "    .dataframe thead tr:only-child th {\n",
       "        text-align: right;\n",
       "    }\n",
       "\n",
       "    .dataframe thead th {\n",
       "        text-align: left;\n",
       "    }\n",
       "\n",
       "    .dataframe tbody tr th {\n",
       "        vertical-align: top;\n",
       "    }\n",
       "</style>\n",
       "<table border=\"1\" class=\"dataframe\">\n",
       "  <thead>\n",
       "    <tr style=\"text-align: right;\">\n",
       "      <th></th>\n",
       "      <th>country</th>\n",
       "      <th>name</th>\n",
       "      <th>2016</th>\n",
       "    </tr>\n",
       "  </thead>\n",
       "  <tbody>\n",
       "    <tr>\n",
       "      <th>0</th>\n",
       "      <td>AT</td>\n",
       "      <td>Austria</td>\n",
       "      <td>6.0</td>\n",
       "    </tr>\n",
       "    <tr>\n",
       "      <th>1</th>\n",
       "      <td>BE</td>\n",
       "      <td>Belgium</td>\n",
       "      <td>7.8</td>\n",
       "    </tr>\n",
       "    <tr>\n",
       "      <th>2</th>\n",
       "      <td>BG</td>\n",
       "      <td>Bulgaria</td>\n",
       "      <td>7.6</td>\n",
       "    </tr>\n",
       "    <tr>\n",
       "      <th>3</th>\n",
       "      <td>CY</td>\n",
       "      <td>Cyprus</td>\n",
       "      <td>13.0</td>\n",
       "    </tr>\n",
       "    <tr>\n",
       "      <th>4</th>\n",
       "      <td>CZ</td>\n",
       "      <td>Czech Republic</td>\n",
       "      <td>4.0</td>\n",
       "    </tr>\n",
       "  </tbody>\n",
       "</table>\n",
       "</div>"
      ],
      "text/plain": [
       "  country            name  2016\n",
       "0      AT         Austria   6.0\n",
       "1      BE         Belgium   7.8\n",
       "2      BG        Bulgaria   7.6\n",
       "3      CY          Cyprus  13.0\n",
       "4      CZ  Czech Republic   4.0"
      ]
     },
     "execution_count": 11,
     "metadata": {},
     "output_type": "execute_result"
    }
   ],
   "source": [
    "map_id, map_name = zip(*(map(lambda obj: (obj['id'], obj['properties']['NAME']),\n",
    "                        geo_data_euro['objects']['europe']['geometries'])))\n",
    "\n",
    "map_data = pd.DataFrame({'id': map_id, 'name': map_name})\n",
    "euro = euro.merge(map_data, left_on='country', right_on='id', how='right').drop('id', axis=1)\n",
    "euro = euro[['country', 'name', '2016']]\n",
    "euro.head()"
   ]
  },
  {
   "cell_type": "markdown",
   "metadata": {},
   "source": [
    "Finally we create our map."
   ]
  },
  {
   "cell_type": "code",
   "execution_count": 12,
   "metadata": {},
   "outputs": [
    {
     "ename": "NameError",
     "evalue": "name 'geo_data_bis' is not defined",
     "output_type": "error",
     "traceback": [
      "\u001b[0;31m---------------------------------------------------------------------------\u001b[0m",
      "\u001b[0;31mNameError\u001b[0m                                 Traceback (most recent call last)",
      "\u001b[0;32m<ipython-input-12-e715e0cb5524>\u001b[0m in \u001b[0;36m<module>\u001b[0;34m()\u001b[0m\n\u001b[1;32m      2\u001b[0m \u001b[0meuromap\u001b[0m \u001b[0;34m=\u001b[0m \u001b[0mfolium\u001b[0m\u001b[0;34m.\u001b[0m\u001b[0mMap\u001b[0m\u001b[0;34m(\u001b[0m\u001b[0mlocation\u001b[0m\u001b[0;34m=\u001b[0m\u001b[0mKIEV\u001b[0m\u001b[0;34m,\u001b[0m \u001b[0mzoom_start\u001b[0m\u001b[0;34m=\u001b[0m\u001b[0;36m4\u001b[0m\u001b[0;34m)\u001b[0m\u001b[0;34m\u001b[0m\u001b[0m\n\u001b[1;32m      3\u001b[0m euromap.choropleth(\n\u001b[0;32m----> 4\u001b[0;31m     \u001b[0mgeo_data\u001b[0m\u001b[0;34m=\u001b[0m\u001b[0mgeo_data_bis\u001b[0m\u001b[0;34m,\u001b[0m\u001b[0;34m\u001b[0m\u001b[0m\n\u001b[0m\u001b[1;32m      5\u001b[0m     \u001b[0mdata\u001b[0m\u001b[0;34m=\u001b[0m\u001b[0meuro\u001b[0m\u001b[0;34m,\u001b[0m\u001b[0;34m\u001b[0m\u001b[0m\n\u001b[1;32m      6\u001b[0m     \u001b[0mtopojson\u001b[0m\u001b[0;34m=\u001b[0m\u001b[0;34m\"objects.europe\"\u001b[0m\u001b[0;34m,\u001b[0m\u001b[0;34m\u001b[0m\u001b[0m\n",
      "\u001b[0;31mNameError\u001b[0m: name 'geo_data_bis' is not defined"
     ]
    }
   ],
   "source": [
    "KIEV = [50.450, 30.5234]\n",
    "euromap = folium.Map(location=KIEV, zoom_start=4)\n",
    "euromap.choropleth(\n",
    "    geo_data=geo_data_bis,\n",
    "    data=euro,\n",
    "    topojson=\"objects.europe\",\n",
    "    columns=['country', '2016'],\n",
    "    key_on='feature.id',\n",
    "    fill_color='BuPu', fill_opacity=0.7, line_opacity=0.2,\n",
    "    legend_name='Unemployment rate'\n",
    ")"
   ]
  },
  {
   "cell_type": "code",
   "execution_count": null,
   "metadata": {},
   "outputs": [],
   "source": [
    "euromap"
   ]
  },
  {
   "cell_type": "markdown",
   "metadata": {},
   "source": [
    "# Swiss Unemployment"
   ]
  },
  {
   "cell_type": "markdown",
   "metadata": {},
   "source": [
    "We obtained the data from the amstat.ch website.\n",
    "We are looking for a dataset that contains the swiss unemployment rates at a recent date.\n",
    "The website provides datasets that can include various employment indicators.\n",
    "We just go through the following directories :\n",
    "- Details\n",
    "- Chomeurs et demandeurs d'emplois\n",
    "- Taux de chomage\n",
    "We then select the following categories which we will use to create our maps :\n",
    "- month : Mois sous revue (September 2017)\n",
    "- Taux de chomage\n",
    "- Chomeurs inscrits\n",
    "- Demandeurs d'emplois\n",
    "- by canton\n",
    "\n",
    "Once the dataset file is created we open it to do some cleaning on the data"
   ]
  },
  {
   "cell_type": "code",
   "execution_count": null,
   "metadata": {},
   "outputs": [],
   "source": [
    "ch = pd.read_csv('Homework3-data/totalTaux.csv',\n",
    "                 delimiter=',',\n",
    "                 encoding = \"ISO-8859-1\",\n",
    "                 skiprows=[1,28],\n",
    "                 quoting=3)\n",
    "ch.head()"
   ]
  },
  {
   "cell_type": "code",
   "execution_count": null,
   "metadata": {},
   "outputs": [],
   "source": [
    "ch.drop(ch.columns[[1,5,6,7]], axis=1, inplace=True)\n",
    "ch.columns = ['canton', 'unemployment rate', 'Nb unemployed', 'searching job']\n",
    "ch.replace({'\"':''}, regex=True, inplace=True)\n",
    "ch.replace({'\\'':''}, regex=True, inplace=True)"
   ]
  },
  {
   "cell_type": "code",
   "execution_count": null,
   "metadata": {},
   "outputs": [],
   "source": [
    "ch.head()"
   ]
  },
  {
   "cell_type": "markdown",
   "metadata": {},
   "source": [
    "To be able to match our dataframe data with the TopoJson file we will add a column to our dataframe containg the canton ids.\n",
    "Thos ids can be found in wikipedia"
   ]
  },
  {
   "cell_type": "code",
   "execution_count": null,
   "metadata": {
    "collapsed": true
   },
   "outputs": [],
   "source": [
    "# Download Canton codes and french names from wikipedia to match with topojson\n",
    "page = requests.get('https://fr.wikipedia.org/wiki/Canton_(Suisse)')\n",
    "soup = BeautifulSoup(page.text, 'html.parser')\n",
    "table_rows = soup.find('table').findAll('tr')\n",
    "canton, canton_id = zip(*[(row.find('td').find('a').text, row.find('th').text)\n",
    "                          for row in table_rows[1:-1]])"
   ]
  },
  {
   "cell_type": "code",
   "execution_count": null,
   "metadata": {
    "collapsed": true
   },
   "outputs": [],
   "source": [
    "cantons_ids = pd.DataFrame({'canton': canton, 'id': canton_id})\n",
    "ch = ch.merge(cantons_ids, left_on='canton', right_on='canton')\n",
    "ch = ch[['id', 'canton', 'unemployment rate', 'Nb unemployed', 'searching job']]"
   ]
  },
  {
   "cell_type": "markdown",
   "metadata": {},
   "source": [
    "To be able to use and choropleth our data in our following maps we convert the string types of our rates and counts to numeric types.\n",
    "We finally add an ultimate modification to our dataframe adding a searching rate representing the rate of people looking for a job within the active population.\n",
    "\n",
    "Note : Acording to the definitions provided by the amstat website, the searching job category (demandeurs d'emplois) is the strict union of the unemployment people category (chomeurs inscrits) with the umployed people looking for a job (demandeurs d'emplois non chomeurs)."
   ]
  },
  {
   "cell_type": "code",
   "execution_count": null,
   "metadata": {},
   "outputs": [],
   "source": [
    "numerical_columns = ['unemployment rate', 'Nb unemployed', 'searching job']\n",
    "ch[numerical_columns] = ch[numerical_columns].convert_objects(convert_numeric=True)\n",
    "\n",
    "ch['searching rate'] = ch['searching job'] / (ch['Nb unemployed'] / ch['unemployment rate'])\n",
    "ch.head()"
   ]
  },
  {
   "cell_type": "code",
   "execution_count": null,
   "metadata": {},
   "outputs": [],
   "source": [
    "ch.dtypes"
   ]
  },
  {
   "cell_type": "markdown",
   "metadata": {},
   "source": [
    "We build a blank map of Switzerland.\n",
    "We then overlay the canton boundaries on this map"
   ]
  },
  {
   "cell_type": "code",
   "execution_count": null,
   "metadata": {
    "collapsed": true
   },
   "outputs": [],
   "source": [
    "geo_data_swiss = json.load(open(r'Homework3-data/topojson/ch-cantons.topojson.json'))\n",
    "\n",
    "def create_swissmap_with_cantons(line_color=\"blue\", line_width=2, borders=False):\n",
    "    swissmap = folium.Map(location=[46.8,8.33], zoom_start=8)\n",
    "    folium.TopoJson(\n",
    "        geo_data_swiss,\n",
    "        'objects.cantons',\n",
    "        name='topojsonBis',\n",
    "        style_function=lambda feature:{\n",
    "            'color'  : line_color,\n",
    "            'weigth' : line_width\n",
    "        }\n",
    "    ).add_to(swissmap)\n",
    "    if borders:\n",
    "        folium.TopoJson(\n",
    "            geo_data_swiss,\n",
    "            'objects.cantons',\n",
    "            name='topojsonBis').add_to(swissmap)\n",
    "    return swissmap"
   ]
  },
  {
   "cell_type": "code",
   "execution_count": null,
   "metadata": {
    "collapsed": true
   },
   "outputs": [],
   "source": [
    "swissmap = create_swissmap_with_cantons()"
   ]
  },
  {
   "cell_type": "code",
   "execution_count": null,
   "metadata": {
    "scrolled": false
   },
   "outputs": [],
   "source": [
    "swissmap"
   ]
  },
  {
   "cell_type": "markdown",
   "metadata": {},
   "source": [
    "The first rate we will map is the one representing the rate of people looking for a job. This categorie contains both the people who already have a job and those who do not."
   ]
  },
  {
   "cell_type": "code",
   "execution_count": null,
   "metadata": {
    "collapsed": true
   },
   "outputs": [],
   "source": [
    "def create_swissmap_with_choropleth(df, columns, legend_name,\n",
    "                                    fill_color='BuPu', line_color='blue', line_width=2,\n",
    "                                    borders=True):\n",
    "    swissmap = create_swissmap_with_cantons(line_color, line_width, borders=borders)\n",
    "    swissmap.choropleth(\n",
    "        geo_data=geo_data_swiss,\n",
    "        data=df,\n",
    "        topojson=\"objects.cantons\",\n",
    "        columns=columns,\n",
    "        key_on='feature.id',\n",
    "        fill_color=fill_color, fill_opacity=0.7, line_opacity=0.2,\n",
    "        legend_name=legend_name\n",
    "    )\n",
    "    return swissmap"
   ]
  },
  {
   "cell_type": "code",
   "execution_count": null,
   "metadata": {
    "scrolled": false
   },
   "outputs": [],
   "source": [
    "create_swissmap_with_choropleth(ch, ['id', 'searching rate'], 'Searching rate')"
   ]
  },
  {
   "cell_type": "markdown",
   "metadata": {},
   "source": [
    "We see that the cantons of Geneve, Vaud, Neuchatel and Jura are the ones with the higher rates : over 5.9\n",
    "\n",
    "\n",
    "We know want to generate the map representing the unemployment rate"
   ]
  },
  {
   "cell_type": "code",
   "execution_count": null,
   "metadata": {},
   "outputs": [],
   "source": [
    "create_swissmap_with_choropleth(ch, ['id', 'unemployment rate'], 'Unemployment rate')"
   ]
  },
  {
   "cell_type": "markdown",
   "metadata": {
    "collapsed": true
   },
   "source": [
    "Here the higher rates are found in the cantons of Geneva and Neuchatel.\n",
    "\n",
    "We now want to explicitely show the difference/rate between people who have and those who do not have a job within all those looking for one."
   ]
  },
  {
   "cell_type": "code",
   "execution_count": null,
   "metadata": {},
   "outputs": [],
   "source": [
    "ch['job differential'] = (ch['Nb unemployed'] / ch['searching job']) * 100\n",
    "ch.head()"
   ]
  },
  {
   "cell_type": "code",
   "execution_count": null,
   "metadata": {},
   "outputs": [],
   "source": [
    "create_swissmap_with_choropleth(ch, ['id', 'job differential'], 'Diffential looking with/without job')"
   ]
  },
  {
   "cell_type": "code",
   "execution_count": null,
   "metadata": {},
   "outputs": [],
   "source": [
    "ch['job differential'].describe()"
   ]
  },
  {
   "cell_type": "markdown",
   "metadata": {},
   "source": [
    "What we can extract from those results is that most people who are looking for a job do not have one : a mean of 62%.\n",
    "This is in particular the case in the cantons where the unemployment rates are the higher : Geneva, Vaud, Neuchatel and Jura."
   ]
  },
  {
   "cell_type": "markdown",
   "metadata": {},
   "source": [
    "## Comparison between Swiss and Foreigners workers in Switzerland"
   ]
  },
  {
   "cell_type": "markdown",
   "metadata": {},
   "source": [
    "In this section we want to analyze the unemployment rate difference between Swiss and foreign workers. We will reuse the amstat website to extract the data."
   ]
  },
  {
   "cell_type": "markdown",
   "metadata": {},
   "source": [
    "### Extraction of the data"
   ]
  },
  {
   "cell_type": "code",
   "execution_count": null,
   "metadata": {
    "ExecuteTime": {
     "end_time": "2017-11-08T01:52:10.310056Z",
     "start_time": "2017-11-08T01:52:10.308018Z"
    },
    "collapsed": true
   },
   "outputs": [],
   "source": [
    "UNEMPLOYMENT_SWISS_FOREIGN_AGE_DOC = \"Homework3-data/chomeurs_et_recherche_par_canton_et_age.csv\""
   ]
  },
  {
   "cell_type": "code",
   "execution_count": null,
   "metadata": {
    "ExecuteTime": {
     "end_time": "2017-11-08T01:52:10.334567Z",
     "start_time": "2017-11-08T01:52:10.311356Z"
    }
   },
   "outputs": [],
   "source": [
    "# Extract the unemployment rate of swiss and foreign workers\n",
    "un_swiss_foreign_raw_df = pd.read_csv(\"Homework3-data/taux_chomage_nationalite.csv\",\n",
    "                                      encoding=\"UTF-16\",\n",
    "                                      header=0,\n",
    "                                      skiprows=[0],\n",
    "                                      usecols=[0, 1, 3, 4],\n",
    "                                      names=[\"canton\", \"nationality\", \"rate\", \"total\"])\n",
    "# Translate values in the nationality column\n",
    "un_swiss_foreign_raw_df.nationality = un_swiss_foreign_raw_df.nationality.astype('category')\n",
    "un_swiss_foreign_raw_df.nationality.cat.rename_categories(['foreign', 'swiss'], inplace=True)\n",
    "\n",
    "#un_swiss_foreign_raw_df[\"nationality\"] = un_swiss_foreign_raw_df[\"nationality\"].map({\"Etrangers\":\"foreign\", \"Suisses\":\"swiss\"})\n",
    "un_swiss_foreign_raw_df = un_swiss_foreign_raw_df[:-1]\n",
    "display(un_swiss_foreign_raw_df.head(5))\n",
    "display(un_swiss_foreign_raw_df.tail(5))"
   ]
  },
  {
   "cell_type": "code",
   "execution_count": null,
   "metadata": {
    "ExecuteTime": {
     "end_time": "2017-11-08T01:52:10.386951Z",
     "start_time": "2017-11-08T01:52:10.336106Z"
    }
   },
   "outputs": [],
   "source": [
    "# Extract the unemployement rate by age\n",
    "un_swiss_age_raw_df = pd.read_csv(\"Homework3-data/taux_chomage_age.csv\",\n",
    "                                   encoding=\"UTF-16\",\n",
    "                                   header=0,\n",
    "                                   skiprows=[0],\n",
    "                                   usecols=[0,1,3,4],\n",
    "                                   names=[\"canton\", \"age\", \"rate\", \"total\"])\n",
    "\n",
    "print(\"Without age conversion\")\n",
    "display(un_swiss_age_raw_df.head(5))\n",
    "\n",
    "# Change age convention so it is clearer\n",
    "age_convention_map_dict = {\"{}-{} ans\".format(start, start+4): \"{}-{}\".format(start, start+4)\n",
    "                           for start in range(15, 61, 5)}\n",
    "age_convention_map_dict[\"60 ans et plus\"] = \"60+\"\n",
    "\n",
    "un_swiss_age_raw_df[\"age\"] = un_swiss_age_raw_df[\"age\"].map(age_convention_map_dict)\n",
    "print(\"After age conversion\")\n",
    "un_swiss_age_raw_df.head(5)"
   ]
  },
  {
   "cell_type": "code",
   "execution_count": null,
   "metadata": {
    "ExecuteTime": {
     "end_time": "2017-11-08T01:52:10.423619Z",
     "start_time": "2017-11-08T01:52:10.388970Z"
    }
   },
   "outputs": [],
   "source": [
    "# add canton id to both dataframes and properly organize the columns\n",
    "un_swiss_foreign_id_df = pd.merge(un_swiss_foreign_raw_df, cantons_ids, on=\"canton\")\n",
    "un_swiss_foreign_id_df = un_swiss_foreign_id_df[[\"id\", \"canton\", \"nationality\", \"rate\", \"total\"]]\n",
    "display(un_swiss_foreign_id_df.head(5))\n",
    "\n",
    "un_swiss_age_id_df = pd.merge(un_swiss_age_raw_df, cantons_ids, on=\"canton\")\n",
    "un_swiss_age_id_df = un_swiss_age_id_df[[\"id\", \"canton\", \"age\", \"rate\", \"total\"]]\n",
    "display(un_swiss_age_id_df.head(5))"
   ]
  },
  {
   "cell_type": "code",
   "execution_count": null,
   "metadata": {
    "ExecuteTime": {
     "end_time": "2017-11-08T01:52:10.560425Z",
     "start_time": "2017-11-08T01:52:10.425439Z"
    },
    "collapsed": true
   },
   "outputs": [],
   "source": [
    "# Make sure that all rates and total are numeric values\n",
    "un_swiss_foreign_id_df[\"rate\"] = pd.to_numeric(un_swiss_foreign_id_df[\"rate\"], errors=\"coerce\")\n",
    "# Remove the \"\\'\" in the numbers from total\n",
    "un_swiss_foreign_id_df[\"total\"].replace(\"\\'\", \"\", regex=True, inplace=True)\n",
    "un_swiss_foreign_id_df[\"total\"] = pd.to_numeric(un_swiss_foreign_id_df[\"total\"], errors=\"raise\")\n",
    "\n",
    "un_swiss_age_id_df[\"rate\"] = pd.to_numeric(un_swiss_age_id_df[\"rate\"], errors=\"coerce\")\n",
    "un_swiss_age_id_df[\"total\"].replace(\"\\'\", \"\", regex=True, inplace=True)\n",
    "un_swiss_age_id_df[\"total\"] = pd.to_numeric(un_swiss_age_id_df[\"total\"], errors=\"coerce\")"
   ]
  },
  {
   "cell_type": "code",
   "execution_count": null,
   "metadata": {
    "ExecuteTime": {
     "end_time": "2017-11-08T01:52:10.572453Z",
     "start_time": "2017-11-08T01:52:10.562110Z"
    }
   },
   "outputs": [],
   "source": [
    "# make sure no nan are left before we start working on data\n",
    "un_swiss_age_id_df.fillna(value=0, inplace=True)"
   ]
  },
  {
   "cell_type": "code",
   "execution_count": null,
   "metadata": {
    "ExecuteTime": {
     "end_time": "2017-11-08T01:52:10.585640Z",
     "start_time": "2017-11-08T01:52:10.573946Z"
    }
   },
   "outputs": [],
   "source": [
    "# Setup a local global employment rate\n",
    "global_unemployment_df = ch[['id', 'canton', 'unemployment rate']]\n",
    "global_unemployment_df.columns = ['id', 'canton', 'rate']"
   ]
  },
  {
   "cell_type": "markdown",
   "metadata": {},
   "source": [
    "## Use an interactive map to show the data "
   ]
  },
  {
   "cell_type": "markdown",
   "metadata": {},
   "source": [
    "### Create utility functions to ease the process"
   ]
  },
  {
   "cell_type": "code",
   "execution_count": null,
   "metadata": {
    "ExecuteTime": {
     "end_time": "2017-11-08T01:52:10.616149Z",
     "start_time": "2017-11-08T01:52:10.587166Z"
    },
    "collapsed": true
   },
   "outputs": [],
   "source": [
    "def calculate_swiss_to_foreign_unemployment_relations(un_swiss_foreign_df, relation=\"unemployment_difference\"):\n",
    "    \"\"\"This function calculate the relations between the swiss and foreign unemployment\n",
    "    \n",
    "        @param df: dataframe on which the calculation will be done\n",
    "        @param relation: relation to use in the calculation, one of : [\"unemployment_difference\", \"unemployment_ratio\"]\n",
    "    \"\"\"\n",
    "    if relation not in [\"unemployment_difference\", \"unemployment_ratio\"]:\n",
    "        print(\"Error: {} is not a valid unemployment relation\".format(relation))\n",
    "        raise\n",
    "    \n",
    "    un_foreign_df = un_swiss_foreign_df[un_swiss_foreign_df[\"nationality\"] == \"foreign\"]\n",
    "    un_foreign_df.index = range(len(un_foreign_df))   \n",
    "    un_swiss_df = un_swiss_foreign_df[un_swiss_foreign_df[\"nationality\"] == \"swiss\"]\n",
    "    un_swiss_df.index = range(len(un_swiss_df))\n",
    "    \n",
    "    if relation == \"unemployment_difference\":\n",
    "        un_relation_rate = un_swiss_df[\"rate\"].sub(un_foreign_df[\"rate\"])\n",
    "        un_relation_total = un_swiss_df[\"total\"].sub(un_foreign_df[\"total\"])\n",
    "    elif relation == \"unemployment_ratio\":\n",
    "        un_relation_rate = un_swiss_df[\"rate\"].sub(un_foreign_df[\"rate\"])\n",
    "        un_relation_total = un_swiss_df[\"total\"].sub(un_foreign_df[\"total\"])\n",
    "        \n",
    "    un_relation_df = pd.concat([un_swiss_df[[\"id\", \"canton\"]], un_relation_rate, un_relation_total], axis=1)\n",
    "    return un_relation_df"
   ]
  },
  {
   "cell_type": "code",
   "execution_count": null,
   "metadata": {
    "ExecuteTime": {
     "end_time": "2017-11-08T01:52:10.715390Z",
     "start_time": "2017-11-08T01:52:10.618157Z"
    },
    "collapsed": true,
    "run_control": {
     "marked": true
    }
   },
   "outputs": [],
   "source": [
    "def get_dataframe_columns_and_legend_from_values(dataset, rate=True,\n",
    "                                                 nationality=\"foreign\",\n",
    "                                                 low_age=15):\n",
    "    \"\"\"Function to return the values needed by create_swiss_map_with_choroplet\n",
    "        The parameter meanings are the same as above\n",
    "        rate is not available with the global dataset\n",
    "        \n",
    "        Note: data values are enforced. This function will raise an error if an improper value is entered\n",
    "    \"\"\"\n",
    "    # We allow for rate and total calculation, we need to adapt the legend accordingly\n",
    "    \n",
    "    if rate:\n",
    "        append_legend=\"Rate(%)\"\n",
    "        columns=['id','rate']\n",
    "    else:\n",
    "        append_legend=\"Total\"\n",
    "        columns=['id','total']\n",
    "    \n",
    "    # The if..elif..else statement below and the one within it are simple state-machines\n",
    "    # which determines from the selection of the variables which dictionary should be returned\n",
    "    # When a more complex\n",
    "    if dataset == \"global\":\n",
    "        return {\n",
    "            \"df\": global_unemployment_df,\n",
    "            \"columns\": ['id', 'rate'],\n",
    "            \"legend_name\": 'Global Unemployment Rate (%)'\n",
    "        }\n",
    "    \n",
    "    elif dataset == \"nationality\": \n",
    "        if nationality == \"foreign\":\n",
    "            return {\n",
    "                \"df\": un_swiss_foreign_id_df[un_swiss_foreign_id_df[\"nationality\"] == \"foreign\"],\n",
    "                \"columns\": columns,\n",
    "                \"legend_name\": 'Foreign Unemployment {}'.format(append_legend)\n",
    "            }\n",
    "        \n",
    "        elif nationality == \"swiss\":\n",
    "            return {\n",
    "                \"df\": un_swiss_foreign_id_df[un_swiss_foreign_id_df[\"nationality\"] == \"swiss\"],\n",
    "                \"columns\": columns,\n",
    "                \"legend_name\": 'Swiss Unemployment {}'.format(append_legend)\n",
    "            }\n",
    "        \n",
    "        elif nationality == \"unemployment_difference\":\n",
    "            un_difference_df = calculate_swiss_to_foreign_unemployment_relations(un_swiss_foreign_id_df,\n",
    "                                                                                 relation=\"unemployment_difference\")\n",
    "            return {\n",
    "                \"df\": un_difference_df,\n",
    "                \"columns\": columns,\n",
    "                \"legend_name\": 'Difference between Swiss and Foreign unemployment {}'.format(append_legend)\n",
    "            }\n",
    "        \n",
    "        elif nationality == \"unemployment_ratio\":\n",
    "            un_ratio_df = calculate_swiss_to_foreign_unemployment_relations(un_swiss_foreign_id_df,\n",
    "                                                                                 relation=\"unemployment_ratio\")\n",
    "            return {\n",
    "                \"df\": un_ratio_df,\n",
    "                \"columns\": columns,\n",
    "                \"legend_name\": 'Ratio between Swiss and Foreign unemployment {}'.format(append_legend)\n",
    "            }\n",
    "        else:\n",
    "            print(\"ERROR: {} is not a valid nationality value\".format(nationality))\n",
    "            raise\n",
    "            \n",
    "    elif dataset == \"age\":\n",
    "        if low_age == 60:\n",
    "            return {\n",
    "                \"df\": un_swiss_age_id_df[un_swiss_age_id_df[\"age\"] == \"60+\"],\n",
    "                \"columns\": columns,\n",
    "                \"legend_name\": 'Over 60 years old unemployment {}'.format(append_legend)\n",
    "            }\n",
    "        \n",
    "        elif low_age in range(15,60,5):\n",
    "            legend_name=\"From {} to {} years old unemployment {}\".format(low_age, low_age+4, append_legend)\n",
    "            return {\n",
    "                \"df\": un_swiss_age_id_df[un_swiss_age_id_df[\"age\"] == \"{}-{}\".format(low_age, low_age+4)],\n",
    "                \"columns\": columns,\n",
    "                \"legend_name\": legend_name\n",
    "            }\n",
    "        \n",
    "        else:\n",
    "            print(\"ERROR: {} is not a valid low_age value\".format(age))\n",
    "            raise  \n",
    "    else:\n",
    "        print(\"ERROR: {} is not a valid dataset value\".format(dataset))\n",
    "        raise"
   ]
  },
  {
   "cell_type": "code",
   "execution_count": null,
   "metadata": {
    "ExecuteTime": {
     "end_time": "2017-11-08T01:52:10.726949Z",
     "start_time": "2017-11-08T01:52:10.716910Z"
    },
    "collapsed": true
   },
   "outputs": [],
   "source": [
    "def plot_swiss_unemployment_map(dataset=\"nationality\", rate=True, nationality=\"foreign\", low_age=15):\n",
    "    \"\"\"Will plot a swiss unemployment map depending on parameters\n",
    "    \n",
    "        @param dataset: which dataset to use, choose from: [\"global\", \"nationality\", \"age\"]\n",
    "        @param nationality: which nationality to select from : \n",
    "                        [\"foreign\",\"swiss\", \"unemployment_difference\", \"unemployment_ratio\"]\n",
    "        @param age : starting age of the 5 year group from which the data will be taken select from: range(15,61,5)\n",
    "    \"\"\"\n",
    "    choropleth_info_dict= get_dataframe_columns_and_legend_from_values(dataset, rate, nationality, low_age)\n",
    "    \n",
    "    q3_swiss_map = create_swissmap_with_choropleth(choropleth_info_dict[\"df\"],\n",
    "                                              columns=choropleth_info_dict[\"columns\"],\n",
    "                                              legend_name=choropleth_info_dict[\"legend_name\"],\n",
    "                                              fill_color=\"YlOrRd\")\n",
    "    return q3_swiss_map"
   ]
  },
  {
   "cell_type": "markdown",
   "metadata": {},
   "source": [
    "### Generate the interactive map"
   ]
  },
  {
   "cell_type": "code",
   "execution_count": null,
   "metadata": {
    "ExecuteTime": {
     "end_time": "2017-11-08T01:52:10.739116Z",
     "start_time": "2017-11-08T01:52:10.728182Z"
    },
    "collapsed": true
   },
   "outputs": [],
   "source": [
    "def generate_interactive_map(dataset=\"global\"):\n",
    "    \"\"\"Step up the interactive game to hide the unmeaningfull options\"\"\"\n",
    "    if dataset == \"global\":\n",
    "        interact(plot_swiss_unemployment_map,\n",
    "                dataset=fixed(\"global\"),\n",
    "                rate=fixed(True),\n",
    "                nationality=fixed(None),\n",
    "                low_age=fixed(None))\n",
    "    elif dataset == \"nationality\":\n",
    "        interact(plot_swiss_unemployment_map,\n",
    "                dataset=fixed(\"nationality\"),\n",
    "                rate=True,\n",
    "                nationality=[\"foreign\", \"swiss\", \"unemployment_difference\", \"unemployment_ratio\"],\n",
    "                low_age=fixed(None))    \n",
    "    elif dataset == \"age\":\n",
    "        interact(plot_swiss_unemployment_map,\n",
    "                dataset=fixed(\"age\"),\n",
    "                rate=True,\n",
    "                nationality=fixed(None),\n",
    "                low_age=(15,61,5))\n",
    "    else:\n",
    "        print(\"ERROR: {} is not a valid dataset value\")\n",
    "        raise"
   ]
  },
  {
   "cell_type": "code",
   "execution_count": null,
   "metadata": {
    "ExecuteTime": {
     "end_time": "2017-11-08T01:52:10.989247Z",
     "start_time": "2017-11-08T01:52:10.740572Z"
    }
   },
   "outputs": [],
   "source": [
    "# Actual datamap generation. This allows to have only the dataset fixed\n",
    "# and have proper options for each dataset\n",
    "interact(generate_interactive_map,\n",
    "         dataset=[\"global\", \"nationality\", \"age\"])"
   ]
  },
  {
   "cell_type": "markdown",
   "metadata": {},
   "source": [
    "## Using barplot to represent the data\n",
    "We now want to use a stacked bar plot to show the relations between the values that where showed on the map.\n",
    "The values will be showed per canton.\n"
   ]
  },
  {
   "cell_type": "markdown",
   "metadata": {},
   "source": [
    "### Create a generalized barplot plotter"
   ]
  },
  {
   "cell_type": "code",
   "execution_count": null,
   "metadata": {
    "ExecuteTime": {
     "end_time": "2017-11-08T01:52:10.998218Z",
     "start_time": "2017-11-08T01:52:10.990694Z"
    },
    "collapsed": true
   },
   "outputs": [],
   "source": [
    "# Lets first create indexed dataframes to represent the data\n",
    "un_swiss_foreign_indexed_df = un_swiss_foreign_id_df.set_index([\"id\", \"nationality\"])\n",
    "un_swiss_age_indexed_df = un_swiss_age_id_df.set_index([\"id\", \"age\"])"
   ]
  },
  {
   "cell_type": "code",
   "execution_count": null,
   "metadata": {
    "ExecuteTime": {
     "end_time": "2017-11-08T01:52:11.082861Z",
     "start_time": "2017-11-08T01:52:10.999750Z"
    },
    "collapsed": true
   },
   "outputs": [],
   "source": [
    "def plot_bar_graph_for_indexed_dataframe(indexed_df, column=\"rate\", append_title=\"nationality\"):\n",
    "    \"\"\"This function generalize the plotting of a bar graph for an indexed dataframe\n",
    "    \n",
    "        @param indexed_df: the dataframe to plot, should have only two columns as index\n",
    "        @param column: the column from which the data will be extracted\n",
    "        @param append_title: we give the option to customize the end of the title of the graph\n",
    "    \"\"\"\n",
    "    plt.style.use('seaborn')\n",
    "    # Extract the groups, which is the list of cantons\n",
    "    groups = np.unique(indexed_df.index.get_level_values(0).values)\n",
    "    nbr_of_groups = len(groups)\n",
    "    \n",
    "    # Extract the unique classifications from the second level index\n",
    "    classifications = np.unique(indexed_df.index.get_level_values(1).values)\n",
    "    \n",
    "    # Extract the data for each element in the classification\n",
    "    data_array = []\n",
    "    for index, value in enumerate(classifications):\n",
    "        data_array.append(np.array([indexed_df[column][canton_id][value] for canton_id in groups]))\n",
    "    # Setup plot variables\n",
    "    width = 0.35\n",
    "    group_location = np.arange(nbr_of_groups)\n",
    "    \n",
    "    # Start the plot configuration\n",
    "    plt.figure(1, figsize=(20,10))\n",
    "    \n",
    "    # Get the values to put in the plot\n",
    "    for index, value in enumerate(data_array):\n",
    "        # Note: the 'C{}' regex is used to set the color of the graph\n",
    "        if index is 0:\n",
    "            bar_plt_array = [plt.bar(group_location, data_array[index], width, color='C{}'.format(index),\n",
    "                                     label=classifications[index])]\n",
    "        else:\n",
    "            if index is 1:\n",
    "                bottom=data_array[index-1]\n",
    "            else:\n",
    "                bottom=np.sum(data_array[:index],axis=0)\n",
    "            bar_plt_array.append(plt.bar(group_location, data_array[index], width, color='C{}'.format(index),\n",
    "                                         label=classifications[index],\n",
    "                                         bottom=bottom )\n",
    "                                )\n",
    "    \n",
    "    if column == \"rate\":\n",
    "        plt.ylabel('Unemployment rate (%)')\n",
    "    elif column == \"total\":\n",
    "        plt.ylabel('Unemployment total')\n",
    "    else:\n",
    "        print(\"ERROR: {} is not a supported column value\".format(column))\n",
    "        raise\n",
    "    \n",
    "    plt.xlabel('Swiss canton per ID')\n",
    "    plt.title('Unemployment rate in the different swiss canton by {}'.format(append_title))\n",
    "    plt.xticks(group_location, groups)\n",
    "    plt.legend()\n",
    "    plt.show()"
   ]
  },
  {
   "cell_type": "code",
   "execution_count": null,
   "metadata": {
    "ExecuteTime": {
     "end_time": "2017-11-08T01:52:12.013030Z",
     "start_time": "2017-11-08T01:52:11.084310Z"
    }
   },
   "outputs": [],
   "source": [
    "plot_bar_graph_for_indexed_dataframe(un_swiss_age_indexed_df)"
   ]
  },
  {
   "cell_type": "markdown",
   "metadata": {},
   "source": [
    "### Generate an interactive bar plot "
   ]
  },
  {
   "cell_type": "code",
   "execution_count": null,
   "metadata": {
    "ExecuteTime": {
     "end_time": "2017-11-08T01:52:12.026130Z",
     "start_time": "2017-11-08T01:52:12.015187Z"
    },
    "collapsed": true
   },
   "outputs": [],
   "source": [
    "def generate_interactive_bar_plot(dataset=\"nationality\", ratio=True):\n",
    "    \"\"\"This function wraps the bar plot genarator so it can be easily called from an interactive widget\n",
    "    \n",
    "        @param dataset: The dataset to be used, one of: [\"nationality\", \"age\"]\n",
    "        @param ratio: If true, the unemployment rate will be printed, otherwise the total\n",
    "    \"\"\"\n",
    "    if ratio:\n",
    "        column = \"rate\"\n",
    "    else:\n",
    "        column = \"total\"\n",
    "        \n",
    "    if dataset == \"nationality\":\n",
    "        plot_bar_graph_for_indexed_dataframe(un_swiss_foreign_indexed_df, column, append_title=\"nationality\") \n",
    "    elif dataset == \"age\":\n",
    "        plot_bar_graph_for_indexed_dataframe(un_swiss_age_indexed_df, column, append_title=\"age\")        \n",
    "    else:\n",
    "        print(\"ERROR: {} is not a supported dataset\".format(dataset))\n",
    "        raise"
   ]
  },
  {
   "cell_type": "code",
   "execution_count": null,
   "metadata": {
    "ExecuteTime": {
     "end_time": "2017-11-08T01:52:12.568102Z",
     "start_time": "2017-11-08T01:52:12.027667Z"
    }
   },
   "outputs": [],
   "source": [
    "interact(generate_interactive_bar_plot,\n",
    "         dataset=[\"nationality\", \"age\"],\n",
    "         ratio=True)"
   ]
  },
  {
   "cell_type": "markdown",
   "metadata": {},
   "source": [
    "### Lets merge the information representations"
   ]
  },
  {
   "cell_type": "markdown",
   "metadata": {},
   "source": [
    "This is not absolutely necessary, but it is nice to show how we could create a complex interface through one widget"
   ]
  },
  {
   "cell_type": "code",
   "execution_count": null,
   "metadata": {
    "ExecuteTime": {
     "end_time": "2017-11-08T01:52:12.578305Z",
     "start_time": "2017-11-08T01:52:12.570060Z"
    },
    "collapsed": true
   },
   "outputs": [],
   "source": [
    "def interactive_multi_interface(interface=\"map\"):\n",
    "    if interface == \"map\":\n",
    "        interact(generate_interactive_map,\n",
    "                 dataset=[\"global\", \"nationality\", \"age\"])\n",
    "    elif interface == \"bar\":\n",
    "        interact(generate_interactive_bar_plot,\n",
    "                 dataset=[\"nationality\", \"age\"],\n",
    "                 ratio=True)\n",
    "    else:\n",
    "        print(\"ERROR: {} is not a valid interface!\".format(interface))\n",
    "        raise"
   ]
  },
  {
   "cell_type": "code",
   "execution_count": null,
   "metadata": {
    "ExecuteTime": {
     "end_time": "2017-11-08T01:52:12.861425Z",
     "start_time": "2017-11-08T01:52:12.579797Z"
    }
   },
   "outputs": [],
   "source": [
    "interact(interactive_multi_interface,\n",
    "         interface=[\"map\", \"bar\"])"
   ]
  }
 ],
 "metadata": {
  "kernelspec": {
   "display_name": "Python 3",
   "language": "python",
   "name": "python3"
  },
  "language_info": {
   "codemirror_mode": {
    "name": "ipython",
    "version": 3
   },
   "file_extension": ".py",
   "mimetype": "text/x-python",
   "name": "python",
   "nbconvert_exporter": "python",
   "pygments_lexer": "ipython3",
   "version": "3.6.1"
  }
 },
 "nbformat": 4,
 "nbformat_minor": 2
}
