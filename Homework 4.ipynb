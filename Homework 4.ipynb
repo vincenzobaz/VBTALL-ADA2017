{
 "cells": [
  {
   "cell_type": "code",
   "execution_count": 68,
   "metadata": {},
   "outputs": [],
   "source": [
    "from sklearn.datasets import fetch_20newsgroups\n",
    "from sklearn.feature_extraction.text import TfidfVectorizer\n",
    "from sklearn.ensemble import RandomForestClassifier\n",
    "\n",
    "import numpy as np"
   ]
  },
  {
   "cell_type": "markdown",
   "metadata": {},
   "source": [
    "# Question 2: Applied Machine Learning"
   ]
  },
  {
   "cell_type": "markdown",
   "metadata": {},
   "source": [
    "We first obtain the data and build the tfidf document matrix:"
   ]
  },
  {
   "cell_type": "code",
   "execution_count": 47,
   "metadata": {},
   "outputs": [],
   "source": [
    "data = fetch_20newsgroups()\n",
    "tfidf_dm = TfidfVectorizer().fit_transform(data.data)"
   ]
  },
  {
   "cell_type": "code",
   "execution_count": 80,
   "metadata": {},
   "outputs": [
    {
     "data": {
      "text/plain": [
       "(11314, 130107)"
      ]
     },
     "execution_count": 80,
     "metadata": {},
     "output_type": "execute_result"
    }
   ],
   "source": [
    "tfidf_dm.shape # shape=(num_docs, num_terms)"
   ]
  },
  {
   "cell_type": "markdown",
   "metadata": {},
   "source": [
    "then we split the data:\n",
    "\n",
    " - 10% for validation\n",
    " - 10% for testing\n",
    " - 80% for training"
   ]
  },
  {
   "cell_type": "code",
   "execution_count": 59,
   "metadata": {},
   "outputs": [],
   "source": [
    "N = len(data.data)\n",
    "t_N = int(0.1 * N)\n",
    "\n",
    "indices = np.random.choice(range(len(data.data)),\n",
    "                           size=2*t_N,\n",
    "                           replace=False)\n",
    "\n",
    "test_ids, valid_ids = indices[:t_N], indices[t_N:]\n",
    "train_ids = np.setdiff1d(np.arange(N), indices, assume_unique=True)\n",
    "\n",
    "assert len(train_ids) + len(test_ids) + len(valid_ids) == N"
   ]
  },
  {
   "cell_type": "code",
   "execution_count": 71,
   "metadata": {},
   "outputs": [
    {
     "data": {
      "text/plain": [
       "array([7, 4, 4, ..., 3, 1, 8])"
      ]
     },
     "execution_count": 71,
     "metadata": {},
     "output_type": "execute_result"
    }
   ],
   "source": [
    "data.target"
   ]
  },
  {
   "cell_type": "code",
   "execution_count": null,
   "metadata": {},
   "outputs": [
    {
     "name": "stdout",
     "output_type": "stream",
     "text": [
      "Done with n= 1\n",
      "Done with n= 2\n",
      "Done with n= 3\n",
      "Done with n= 4\n",
      "Done with n= 5\n",
      "Done with n= 6\n",
      "Done with n= 7\n",
      "Done with n= 8\n"
     ]
    }
   ],
   "source": [
    "# grid search n_estimators and max_depth\n",
    "\n",
    "y_train = data.target[train_ids]\n",
    "x_train = tfidf_dm[train_ids]\n",
    "x_test = tfidf_dm[test_ids]\n",
    "y_test = data.target[test_ids]\n",
    "\n",
    "accuracies = []\n",
    "\n",
    "for n in range(1, 100):\n",
    "    # run once with no max to get upper bound\n",
    "    for depth in range(1, 100):\n",
    "        rfc = RandomForestClassifier(n_estimators=n, max_depth=depth)\n",
    "        rfc.fit(x_train, y_train)\n",
    "        score = rfc.score(x_test, y_test)\n",
    "        accuracies.append((n, depth, score))\n",
    "    rfc = RandomForestClassifier(n_estimators=n).fit(x_train, y_train)\n",
    "    score = rfc.score(x_test, y_test)\n",
    "    accuracies.append((n, np.inf, score))\n",
    "    print('Done with n=', n)"
   ]
  },
  {
   "cell_type": "code",
   "execution_count": null,
   "metadata": {
    "collapsed": true
   },
   "outputs": [],
   "source": []
  }
 ],
 "metadata": {
  "kernelspec": {
   "display_name": "Python 3",
   "language": "python",
   "name": "python3"
  },
  "language_info": {
   "codemirror_mode": {
    "name": "ipython",
    "version": 3
   },
   "file_extension": ".py",
   "mimetype": "text/x-python",
   "name": "python",
   "nbconvert_exporter": "python",
   "pygments_lexer": "ipython3",
   "version": "3.6.1"
  }
 },
 "nbformat": 4,
 "nbformat_minor": 2
}
