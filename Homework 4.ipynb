{
 "cells": [
  {
   "cell_type": "code",
   "execution_count": null,
   "metadata": {
    "ExecuteTime": {
     "end_time": "2017-11-22T12:15:11.384180Z",
     "start_time": "2017-11-22T12:15:11.377418Z"
    },
    "collapsed": true
   },
   "outputs": [],
   "source": [
    "import pandas as pd\n",
    "import numpy as np\n",
    "import matplotlib.pyplot as plt\n",
    "from functools import reduce\n",
    "from sklearn.linear_model import LogisticRegression\n",
    "\n",
    "# Added imports\n",
    "import networkx as nx\n",
    "from networkx.algorithms import bipartite\n",
    "\n",
    "\n",
    "%matplotlib inline"
   ]
  },
  {
   "cell_type": "markdown",
   "metadata": {},
   "source": [
    "# Question 1: Propensity Score Matching"
   ]
  },
  {
   "cell_type": "code",
   "execution_count": null,
   "metadata": {
    "ExecuteTime": {
     "end_time": "2017-11-22T12:11:46.738462Z",
     "start_time": "2017-11-22T12:11:46.731721Z"
    },
    "collapsed": true,
    "scrolled": false
   },
   "outputs": [],
   "source": [
    "data = pd.read_csv('Homework4-data/lalonde.csv', dtype={\n",
    "    'treat': np.bool_,\n",
    "    'age': np.uint8,\n",
    "    'age': np.uint8,\n",
    "    'nodegree': np.bool_,\n",
    "    'married': np.bool_,\n",
    "    'black': np.bool_,\n",
    "    'hispan': np.bool_,\n",
    "    're74': np.float32,\n",
    "    're75': np.float32,\n",
    "    're78': np.float32\n",
    "})"
   ]
  },
  {
   "cell_type": "code",
   "execution_count": null,
   "metadata": {
    "ExecuteTime": {
     "end_time": "2017-11-22T12:11:46.840839Z",
     "start_time": "2017-11-22T12:11:46.739851Z"
    },
    "scrolled": false
   },
   "outputs": [],
   "source": [
    "display(data.head())"
   ]
  },
  {
   "cell_type": "markdown",
   "metadata": {},
   "source": [
    "## 1 - A naive analysis"
   ]
  },
  {
   "cell_type": "code",
   "execution_count": null,
   "metadata": {
    "ExecuteTime": {
     "end_time": "2017-11-22T12:11:46.897923Z",
     "start_time": "2017-11-22T12:11:46.842566Z"
    },
    "collapsed": true
   },
   "outputs": [],
   "source": [
    "def print_revenues_description(data):\n",
    "    treated = data.re78[data.treat == True]\n",
    "    not_treated = data.re78[data.treat == False]   \n",
    "    print(\"Treated revenues in 1978:\\n\", treated.describe())\n",
    "    print(\"\\nNot treated revenues in 1978:\\n\", not_treated.describe())"
   ]
  },
  {
   "cell_type": "code",
   "execution_count": null,
   "metadata": {
    "ExecuteTime": {
     "end_time": "2017-11-22T12:11:46.944112Z",
     "start_time": "2017-11-22T12:11:46.899478Z"
    }
   },
   "outputs": [],
   "source": [
    "print_revenues_description(data)"
   ]
  },
  {
   "cell_type": "code",
   "execution_count": null,
   "metadata": {
    "ExecuteTime": {
     "end_time": "2017-11-22T12:11:46.956010Z",
     "start_time": "2017-11-22T12:11:46.945701Z"
    },
    "collapsed": true
   },
   "outputs": [],
   "source": [
    "def empirical_distribution(data):\n",
    "    \"\"\"Computes the empirical distribution of the provided pandas series\"\"\"\n",
    "    return data.value_counts().sort_index().cumsum() / len(data)"
   ]
  },
  {
   "cell_type": "markdown",
   "metadata": {},
   "source": [
    "We display the earnings in 1978 using boxplots. Remark that to compare and draw conclusions, it is important to use the same scale for the two data series (`sharey='row'` and `sharex='row'`)"
   ]
  },
  {
   "cell_type": "markdown",
   "metadata": {},
   "source": [
    "We define functions to print the earning because they will be re-used later in the analysis"
   ]
  },
  {
   "cell_type": "code",
   "execution_count": null,
   "metadata": {
    "ExecuteTime": {
     "end_time": "2017-11-22T12:11:46.971545Z",
     "start_time": "2017-11-22T12:11:46.957855Z"
    },
    "collapsed": true
   },
   "outputs": [],
   "source": [
    "def print_box_1978_earnings(treated, not_treated):\n",
    "    \"\"\"This function will print the 1978 earnings depending on the \"\"\"\n",
    "    fig, (ax1, ax2) = plt.subplots(nrows=1, ncols=2,\n",
    "                                   sharey='row', sharex='row',\n",
    "                                   figsize=(10, 5))\n",
    "\n",
    "    treated.plot.box(ax=ax1)\n",
    "    not_treated.plot.box(ax=ax2)\n",
    "    ax1.set_title('Trained')\n",
    "    ax2.set_title('Not trained')\n",
    "    ax1.set_ylabel('Earnings in 1978').set_size(15)"
   ]
  },
  {
   "cell_type": "code",
   "execution_count": null,
   "metadata": {
    "ExecuteTime": {
     "end_time": "2017-11-22T12:11:46.986923Z",
     "start_time": "2017-11-22T12:11:46.973423Z"
    },
    "collapsed": true
   },
   "outputs": [],
   "source": [
    "def print_ccdf_1978_earnings(treated, not_treated):\n",
    "    \"\"\"This function will print the 1978 earnings from a treated and not treated dataset\"\"\"\n",
    "    fig, ax = plt.subplots(figsize=(10,5))\n",
    "    (1 - empirical_distribution(treated)).plot(ax=ax, logx=True, logy=True)\n",
    "    (1 - empirical_distribution(not_treated)).plot(ax=ax)\n",
    "    ax.legend(['treated', 'not treated'], fontsize=15)\n",
    "    ax.set_xlabel('Income')\n",
    "    ax.set_ylabel('CCDF')\n",
    "    ax.set_title('CCDF of earnings of trained and not trained individuals (loglog)').set_size(18)"
   ]
  },
  {
   "cell_type": "code",
   "execution_count": null,
   "metadata": {
    "ExecuteTime": {
     "end_time": "2017-11-22T12:11:46.999726Z",
     "start_time": "2017-11-22T12:11:46.988424Z"
    },
    "collapsed": true
   },
   "outputs": [],
   "source": [
    "def print_1978_earnings(data):\n",
    "    \"\"\" This function print the box and ccdf of the 1978 earnings\"\"\"\n",
    "    treated = data.re78[data.treat == True]\n",
    "    not_treated = data.re78[data.treat == False]   \n",
    "    print_box_1978_earnings(treated, not_treated)\n",
    "    print_ccdf_1978_earnings(treated,not_treated)"
   ]
  },
  {
   "cell_type": "code",
   "execution_count": null,
   "metadata": {
    "ExecuteTime": {
     "end_time": "2017-11-22T12:11:48.056105Z",
     "start_time": "2017-11-22T12:11:47.001140Z"
    }
   },
   "outputs": [],
   "source": [
    "print_1978_earnings(data)"
   ]
  },
  {
   "cell_type": "markdown",
   "metadata": {},
   "source": [
    "A naive researcher may conclude that, except for some outliers, the training does not make a difference in determining the earnings of the cadidates"
   ]
  },
  {
   "cell_type": "markdown",
   "metadata": {},
   "source": [
    "## 2 - A closer look at the data"
   ]
  },
  {
   "cell_type": "markdown",
   "metadata": {
    "collapsed": true
   },
   "source": [
    "For each feature, we compare its distribution in the control and in the treated group."
   ]
  },
  {
   "cell_type": "code",
   "execution_count": null,
   "metadata": {
    "ExecuteTime": {
     "end_time": "2017-11-22T12:11:48.062227Z",
     "start_time": "2017-11-22T12:11:48.057976Z"
    },
    "collapsed": true
   },
   "outputs": [],
   "source": [
    "def get_feature(feature_name, data):\n",
    "    \"\"\"Returns the series corresponding to feature name.\n",
    "    The returned element is a tuple of two elements, the first\n",
    "    corresponding to the (treated, not_treated) group\"\"\"\n",
    "    get_treated = lambda treated: data[feature_name][data.treat == treated]\n",
    "    return get_treated(True), get_treated(False)"
   ]
  },
  {
   "cell_type": "markdown",
   "metadata": {},
   "source": [
    "We also define functions to help in printing information about the graphs"
   ]
  },
  {
   "cell_type": "code",
   "execution_count": null,
   "metadata": {
    "ExecuteTime": {
     "end_time": "2017-11-22T12:11:48.077683Z",
     "start_time": "2017-11-22T12:11:48.064180Z"
    },
    "collapsed": true
   },
   "outputs": [],
   "source": [
    "def print_ccdf(feature, label):\n",
    "    \"\"\"Print the ccdf graph from a particular feature. Use the label as the xlabel and in the title\"\"\" \n",
    "    for cdf in map(empirical_distribution, feature):\n",
    "        (1 - cdf).plot()\n",
    "    plt.legend(['treated', 'control'], fontsize=15)\n",
    "    plt.title('Loglog CCDF of {}'.format(label))\n",
    "    plt.xlabel(label)\n",
    "    plt.ylabel('CCDF')\n",
    "    plt.show()"
   ]
  },
  {
   "cell_type": "code",
   "execution_count": null,
   "metadata": {
    "ExecuteTime": {
     "end_time": "2017-11-22T12:11:48.090527Z",
     "start_time": "2017-11-22T12:11:48.079548Z"
    },
    "collapsed": true
   },
   "outputs": [],
   "source": [
    "def print_box_plot(feature, label):\n",
    "    \"\"\"Print a box plot of the feature. Use the lable to set the title\"\"\"\n",
    "    fig, axes = plt.subplots(nrows=1, ncols=2, sharey='row')\n",
    "    for ax, feature in zip(axes, feature):\n",
    "        feature.plot.box(ax=ax)\n",
    "    axes[0].set_title('{} of treated'.format(label.capitalize()))\n",
    "    axes[1].set_title('{} of control group'.format(label.capitalize()))\n",
    "    plt.show() "
   ]
  },
  {
   "cell_type": "code",
   "execution_count": null,
   "metadata": {
    "ExecuteTime": {
     "end_time": "2017-11-22T12:11:48.103255Z",
     "start_time": "2017-11-22T12:11:48.092545Z"
    },
    "collapsed": true
   },
   "outputs": [],
   "source": [
    "# This array contains functions to print the analysis by property\n",
    "print_analysis_properties_fcts = []"
   ]
  },
  {
   "cell_type": "markdown",
   "metadata": {},
   "source": [
    "### Age"
   ]
  },
  {
   "cell_type": "code",
   "execution_count": null,
   "metadata": {
    "ExecuteTime": {
     "end_time": "2017-11-22T12:11:48.116013Z",
     "start_time": "2017-11-22T12:11:48.105290Z"
    },
    "collapsed": true,
    "run_control": {
     "marked": true
    }
   },
   "outputs": [],
   "source": [
    "def print_age_info(data):\n",
    "    \"\"\"Function to print the age information from the specified dataframe\"\"\"\n",
    "    age_groups = get_feature('age', data)\n",
    "    \n",
    "    # CCDF plot\n",
    "    print_ccdf(age_groups, 'age')\n",
    "    \n",
    "    # Box plot\n",
    "    print_box_plot(age_groups, 'age')\n",
    "    \n",
    "print_analysis_properties_fcts.append(print_age_info)"
   ]
  },
  {
   "cell_type": "code",
   "execution_count": null,
   "metadata": {
    "ExecuteTime": {
     "end_time": "2017-11-22T12:11:48.674588Z",
     "start_time": "2017-11-22T12:11:48.118051Z"
    }
   },
   "outputs": [],
   "source": [
    "print_age_info(data)"
   ]
  },
  {
   "cell_type": "markdown",
   "metadata": {},
   "source": [
    "We can see that the members of the treated group are in general younger than the members of the control group.\n",
    "The medians are very similar, but on the upper part of the distribution, the person in the treated group are younger than the one in the control group.\n",
    "This leads to think that older people had a low chance to be treated and it might reduce bias in our control group if we removed them after a certain age."
   ]
  },
  {
   "cell_type": "markdown",
   "metadata": {},
   "source": [
    "### Education years"
   ]
  },
  {
   "cell_type": "code",
   "execution_count": null,
   "metadata": {
    "ExecuteTime": {
     "end_time": "2017-11-22T12:11:48.684372Z",
     "start_time": "2017-11-22T12:11:48.676517Z"
    },
    "collapsed": true
   },
   "outputs": [],
   "source": [
    "def print_ed_info(data):\n",
    "    ed = get_feature('educ', data)\n",
    "    \n",
    "    # CCDF plot\n",
    "    print_ccdf(ed, 'education years')\n",
    "    \n",
    "    # Box plot\n",
    "    print_box_plot(ed, 'education years')\n",
    "print_analysis_properties_fcts.append(print_ed_info)"
   ]
  },
  {
   "cell_type": "code",
   "execution_count": null,
   "metadata": {
    "ExecuteTime": {
     "end_time": "2017-11-22T12:11:49.216374Z",
     "start_time": "2017-11-22T12:11:48.686486Z"
    }
   },
   "outputs": [],
   "source": [
    "print_ed_info(data)"
   ]
  },
  {
   "cell_type": "markdown",
   "metadata": {},
   "source": [
    "While the distributions of the variable in the two groups seem similar, the boxplot reveals an interesting detail: the control group has many outliers who studied for less than the 1/4 quantile. There's also some outliers in the maximum education years in the control group.\n",
    "\n",
    "This might be caused by the fact that people who never studied or studied a lot tended to not get the treatment. Because of this, they might be poor subjects to add in our control group."
   ]
  },
  {
   "cell_type": "markdown",
   "metadata": {},
   "source": [
    "### Ethnicity"
   ]
  },
  {
   "cell_type": "code",
   "execution_count": null,
   "metadata": {
    "ExecuteTime": {
     "end_time": "2017-11-22T12:11:49.223681Z",
     "start_time": "2017-11-22T12:11:49.217599Z"
    }
   },
   "outputs": [],
   "source": [
    "any(map(lambda tup: all(tup), data[data.hispan == data.black][['black', 'hispan']].values))"
   ]
  },
  {
   "cell_type": "markdown",
   "metadata": {},
   "source": [
    "After having checked that there is no individual marked as both hispanic and black, we can plot the proportion of ethinicity in the the two populations:"
   ]
  },
  {
   "cell_type": "code",
   "execution_count": null,
   "metadata": {
    "ExecuteTime": {
     "end_time": "2017-11-22T12:11:49.240911Z",
     "start_time": "2017-11-22T12:11:49.225123Z"
    },
    "collapsed": true
   },
   "outputs": [],
   "source": [
    "def print_ethnicities_info(data):\n",
    "    ethnicities = ['hispan', 'black']\n",
    "    fig, axes = plt.subplots(nrows=1, ncols=2)\n",
    "\n",
    "    for ax, treated in zip(axes, (True, False)):\n",
    "        # Extract hispanic and black boolean indicators\n",
    "        eths = data[data.treat == treated][ethnicities]\n",
    "        # If neither black nor hispanic, add a True to indicate other category\n",
    "        eths['other'] = reduce(lambda x, y: x & y, map(lambda e: ~eths[e], ethnicities)) # <3 mapreduce\n",
    "        # Sum to obtain ethnic count\n",
    "        eths = eths.sum(axis=0)\n",
    "        # Plot\n",
    "        ax.axis('equal')\n",
    "        ax.set_title('Treat' if treated else 'Control')\n",
    "        ax.pie(eths.values, labels=eths.index, autopct='%1.1f%%')\n",
    "print_analysis_properties_fcts.append(print_ethnicities_info)"
   ]
  },
  {
   "cell_type": "code",
   "execution_count": null,
   "metadata": {
    "ExecuteTime": {
     "end_time": "2017-11-22T12:11:49.476277Z",
     "start_time": "2017-11-22T12:11:49.242263Z"
    }
   },
   "outputs": [],
   "source": [
    "print_ethnicities_info(data)"
   ]
  },
  {
   "cell_type": "markdown",
   "metadata": {},
   "source": [
    "This reveals an interesting fact: the control and treated populations have very different compositions. While most of the control individuals are neither black nor hispanic (can we assume white?), most of the treated population is black."
   ]
  },
  {
   "cell_type": "markdown",
   "metadata": {},
   "source": [
    "### Civil status"
   ]
  },
  {
   "cell_type": "code",
   "execution_count": null,
   "metadata": {
    "ExecuteTime": {
     "end_time": "2017-11-22T12:11:49.490050Z",
     "start_time": "2017-11-22T12:11:49.477917Z"
    },
    "collapsed": true,
    "scrolled": false
   },
   "outputs": [],
   "source": [
    "def print_civil_status_info(data):\n",
    "    groups = get_feature('married', data)\n",
    "\n",
    "    fig, axes = plt.subplots(nrows=1, ncols=2)\n",
    "\n",
    "    for ax, g in zip(axes, groups):\n",
    "        c = g.value_counts()\n",
    "        ax.axis('equal')\n",
    "        ax.pie(c.values, labels=['married' if t else 'not married' for t in c.index], autopct='%1.1f%%')\n",
    "\n",
    "    axes[0].set_title('Treat')\n",
    "    axes[1].set_title('Control')\n",
    "    plt.show()\n",
    "print_analysis_properties_fcts.append(print_civil_status_info)"
   ]
  },
  {
   "cell_type": "code",
   "execution_count": null,
   "metadata": {
    "ExecuteTime": {
     "end_time": "2017-11-22T12:11:49.648234Z",
     "start_time": "2017-11-22T12:11:49.491457Z"
    }
   },
   "outputs": [],
   "source": [
    "print_civil_status_info(data)"
   ]
  },
  {
   "cell_type": "markdown",
   "metadata": {},
   "source": [
    "These piecharts highlight another important difference in population composition: most of the treated individuals are not married while almost half of the control population is married."
   ]
  },
  {
   "cell_type": "markdown",
   "metadata": {},
   "source": [
    "### Degree"
   ]
  },
  {
   "cell_type": "code",
   "execution_count": null,
   "metadata": {
    "ExecuteTime": {
     "end_time": "2017-11-22T12:11:49.660844Z",
     "start_time": "2017-11-22T12:11:49.649632Z"
    },
    "collapsed": true
   },
   "outputs": [],
   "source": [
    "def print_degree_info(data):\n",
    "    groups = get_feature('nodegree', data)\n",
    "\n",
    "    fig, axes = plt.subplots(nrows=1, ncols=2)\n",
    "\n",
    "    for ax, g in zip(axes, groups):\n",
    "        c = g.value_counts()\n",
    "        ax.axis('equal')\n",
    "        ax.pie(c.values, labels=['does not have degree' if t else 'has degree' for t in c.index],\n",
    "               autopct='%1.1f%%')\n",
    "\n",
    "    axes[0].set_title('Treat')\n",
    "    axes[1].set_title('Control')\n",
    "    plt.show()\n",
    "print_analysis_properties_fcts.append(print_degree_info)"
   ]
  },
  {
   "cell_type": "code",
   "execution_count": null,
   "metadata": {
    "ExecuteTime": {
     "end_time": "2017-11-22T12:11:49.886724Z",
     "start_time": "2017-11-22T12:11:49.662786Z"
    }
   },
   "outputs": [],
   "source": [
    "print_degree_info(data)"
   ]
  },
  {
   "cell_type": "markdown",
   "metadata": {},
   "source": [
    "Yet another important difference: slightly more treated individuals than controlled ones have a degree, which might directly influence their earnings"
   ]
  },
  {
   "cell_type": "markdown",
   "metadata": {},
   "source": [
    "### Pre-treatment earnings"
   ]
  },
  {
   "cell_type": "code",
   "execution_count": null,
   "metadata": {
    "ExecuteTime": {
     "end_time": "2017-11-22T12:11:49.916888Z",
     "start_time": "2017-11-22T12:11:49.888766Z"
    },
    "collapsed": true,
    "scrolled": false
   },
   "outputs": [],
   "source": [
    "def print_pre_treatment_earnings(data):\n",
    "    features = ['re74', 're75']\n",
    "    \n",
    "    fig, axes = plt.subplots(nrows=2, ncols=2, sharey='row', sharex='row', figsize=(12, 12))\n",
    "\n",
    "    for cell, year in zip(axes[0], features):\n",
    "        for treated in (True, False):\n",
    "            earnings = data[data.treat == treated][features]\n",
    "            cell.plot(1 - empirical_distribution(earnings[year]))\n",
    "            cell.set_xlabel('x (log)')\n",
    "            cell.set_ylabel('P(earn > x) (log)')\n",
    "        cell.legend(['treated', 'not treated'])\n",
    "        cell.set_title(year + ' distribution')           \n",
    "\n",
    "    for cell, year in zip(axes[1], features):\n",
    "        cell.boxplot([data[year][data.treat == treated].values for treated in (True, False)])\n",
    "        cell.set_xticklabels(['treated', 'not treated'])\n",
    "        cell.set_title(year + ' comparison')\n",
    "        \n",
    "    plt.show()\n",
    "print_analysis_properties_fcts.append(print_pre_treatment_earnings)"
   ]
  },
  {
   "cell_type": "code",
   "execution_count": null,
   "metadata": {
    "ExecuteTime": {
     "end_time": "2017-11-22T12:11:50.454036Z",
     "start_time": "2017-11-22T12:11:49.918586Z"
    }
   },
   "outputs": [],
   "source": [
    "print_pre_treatment_earnings(data)"
   ]
  },
  {
   "cell_type": "markdown",
   "metadata": {},
   "source": [
    "We observe that the control population had higher earnings than the treated population before the the treatment.\n",
    "\n",
    "In fact, most of the treated population had no income before the treatment, which might show a bias in treatment towards individuals with no income.\n",
    "\n",
    "Also, the not treated population had a major reduction in their income distribution after only 1 year.\n",
    "It implies that many people considered for the not treated population already had work experience prior to the test, but lost their job recently.\n",
    "This might create a bias in the not treated population, because it is likely that someone with previous work experience has better odds of finding a job than someone with no work experience or long term previous unemployment."
   ]
  },
  {
   "cell_type": "markdown",
   "metadata": {},
   "source": [
    "## 3 - A propensity score model"
   ]
  },
  {
   "cell_type": "code",
   "execution_count": null,
   "metadata": {
    "ExecuteTime": {
     "end_time": "2017-11-22T12:11:50.460038Z",
     "start_time": "2017-11-22T12:11:50.455510Z"
    }
   },
   "outputs": [],
   "source": [
    "data.dtypes"
   ]
  },
  {
   "cell_type": "code",
   "execution_count": null,
   "metadata": {
    "ExecuteTime": {
     "end_time": "2017-11-22T12:11:50.477797Z",
     "start_time": "2017-11-22T12:11:50.462386Z"
    },
    "collapsed": true
   },
   "outputs": [],
   "source": [
    "boolean_features = ['treat', 'black', 'hispan', 'married', 'nodegree']\n",
    "\n",
    "no_id = data.loc[:, data.columns != 'id']\n",
    "no_id = no_id.loc[:, no_id.columns != 're78'].copy() # Based on pre-treatment features => exclude post treatment features\n",
    "\n",
    "for feat in boolean_features:\n",
    "    no_id.loc[:, feat] = no_id[feat].astype(np.uint8)"
   ]
  },
  {
   "cell_type": "code",
   "execution_count": null,
   "metadata": {
    "ExecuteTime": {
     "end_time": "2017-11-22T12:11:50.492634Z",
     "start_time": "2017-11-22T12:11:50.479731Z"
    }
   },
   "outputs": [],
   "source": [
    "print('Features used for propensity score computation:')\n",
    "[col for col in no_id.columns]"
   ]
  },
  {
   "cell_type": "code",
   "execution_count": null,
   "metadata": {
    "ExecuteTime": {
     "end_time": "2017-11-22T12:11:50.506251Z",
     "start_time": "2017-11-22T12:11:50.494762Z"
    },
    "collapsed": true
   },
   "outputs": [],
   "source": [
    "x_train = no_id.loc[:, no_id.columns != 'treat'].as_matrix()\n",
    "y_train = no_id.loc[:, 'treat'].as_matrix()"
   ]
  },
  {
   "cell_type": "code",
   "execution_count": null,
   "metadata": {
    "ExecuteTime": {
     "end_time": "2017-11-22T12:11:50.524274Z",
     "start_time": "2017-11-22T12:11:50.507699Z"
    },
    "collapsed": true
   },
   "outputs": [],
   "source": [
    "lr = LogisticRegression()\n",
    "lr.fit(x_train, y_train)\n",
    "predictions = lr.predict_proba(x_train)"
   ]
  },
  {
   "cell_type": "code",
   "execution_count": null,
   "metadata": {
    "ExecuteTime": {
     "end_time": "2017-11-22T12:11:50.534557Z",
     "start_time": "2017-11-22T12:11:50.526510Z"
    }
   },
   "outputs": [],
   "source": [
    "predictions.shape, np.all(np.sum(predictions, axis=1))"
   ]
  },
  {
   "cell_type": "markdown",
   "metadata": {},
   "source": [
    "`predict_proba` returns a bidimensional array which has as many rows as data points and as many columns as classification classes. We are interested in the propensity score which is the probability of receiving the treatment. Therefore we want the second column of `predictions`"
   ]
  },
  {
   "cell_type": "code",
   "execution_count": null,
   "metadata": {
    "ExecuteTime": {
     "end_time": "2017-11-22T12:11:50.548544Z",
     "start_time": "2017-11-22T12:11:50.536194Z"
    }
   },
   "outputs": [],
   "source": [
    "# Rebuild indexed series\n",
    "propensities = pd.Series(predictions[:, 1], index=no_id.index)\n",
    "propensities.name = \"propensity\"\n",
    "display(propensities.head())"
   ]
  },
  {
   "cell_type": "markdown",
   "metadata": {},
   "source": [
    "To have simple access, we will merge the propensity scores with the data DataFrame."
   ]
  },
  {
   "cell_type": "code",
   "execution_count": null,
   "metadata": {
    "ExecuteTime": {
     "end_time": "2017-11-22T12:11:50.583029Z",
     "start_time": "2017-11-22T12:11:50.550510Z"
    }
   },
   "outputs": [],
   "source": [
    "data_prop = pd.concat([data, propensities], axis=1) \n",
    "display(data_prop.head(5))"
   ]
  },
  {
   "cell_type": "markdown",
   "metadata": {},
   "source": [
    "## 4 - Balancing the dataset via matching"
   ]
  },
  {
   "cell_type": "markdown",
   "metadata": {},
   "source": [
    "We now want to balance the dataset by using the propensity score we calculated. The goal is to match each treated subject with a not treated subject that has a similar propensity score. \n",
    "\n",
    "To do so, we will realize a bipartite graph using the networkx library."
   ]
  },
  {
   "cell_type": "markdown",
   "metadata": {},
   "source": [
    "### Create a matched dataset"
   ]
  },
  {
   "cell_type": "code",
   "execution_count": null,
   "metadata": {
    "ExecuteTime": {
     "end_time": "2017-11-22T12:11:50.600835Z",
     "start_time": "2017-11-22T12:11:50.584937Z"
    },
    "collapsed": true,
    "run_control": {
     "marked": true
    }
   },
   "outputs": [],
   "source": [
    "# Create sub dataframes that will be used to realize the matching\n",
    "treated_prop = data_prop[data_prop['treat'] == True]\n",
    "not_treated_prop = data_prop[data_prop['treat'] == False]"
   ]
  },
  {
   "cell_type": "code",
   "execution_count": null,
   "metadata": {
    "ExecuteTime": {
     "end_time": "2017-11-22T12:11:50.704666Z",
     "start_time": "2017-11-22T12:11:50.602405Z"
    },
    "collapsed": true
   },
   "outputs": [],
   "source": [
    "def create_matched_bipartite_graph(treated, not_treated, forced_match=[] , max_age_diff=5):\n",
    "    \"\"\" Create a matched bipartite graph from two subgraphs\n",
    "        Preferential matches can be created by adding in the forced match arrays values from:\n",
    "            ['ethnicity', 'age', 'degree', 'married']\n",
    "        If 'age' is set, max_age_diff will be used to determine the maximum allowed age difference between nodes\n",
    "        \n",
    "        Note: this function has more complexity than needed for this section, but it will be used in\n",
    "              the following sections\n",
    "    \"\"\"\n",
    "    # Create a bipartite graph with all nodes\n",
    "    bip_graph = nx.Graph(name=\"all_edges_bip\")\n",
    "    bip_graph.add_nodes_from(treated_prop.index.values, bipartite=0)\n",
    "    bip_graph.add_nodes_from(not_treated_prop.index.values, bipartite=1)\n",
    "\n",
    "    matched_bip_graph = bip_graph.copy()\n",
    "    matched_bip_graph.name = \"matched_bip\"\n",
    "\n",
    "    \n",
    "    def valid_match(treated, not_treated):\n",
    "        \"\"\"Local function to create the forced comparison between the selected match\"\"\"\n",
    "        compare_ethnicity = lambda treated, not_treated: treated.black == not_treated.black and \\\n",
    "                                                         treated.hispan == not_treated.hispan\n",
    "        compare_age = lambda treated, not_treated: abs(int(treated.age)-int(not_treated.age)) <= max_age_diff\n",
    "        compare_degree = lambda treated, not_treated: treated.nodegree == not_treated.nodegree\n",
    "        compare_married = lambda treated, not_treated: treated.married == not_treated.married\n",
    "        \n",
    "        good_ethnicity = compare_ethnicity(treated, not_treated) if 'ethnicity' in forced_match else True\n",
    "        good_age = compare_age(treated, not_treated) if 'age' in forced_match else True\n",
    "        good_degree = compare_degree(treated, not_treated) if 'degree' in forced_match else True\n",
    "        good_married = compare_married(treated, not_treated) if 'married' in forced_match else True\n",
    "        return good_ethnicity and good_age and good_degree and good_married\n",
    "    \n",
    "    for treated in treated_prop.itertuples():\n",
    "        for not_treated in not_treated_prop.itertuples():\n",
    "            # Only add edge if we have a match\n",
    "            if valid_match(treated, not_treated):\n",
    "                # We the propensity is from 0 to 1, therefore  0 <= abs(diff(prop)) <= 1\n",
    "                # We substract the absolute difference from 1 to obtain greater score for better match\n",
    "                # This allows using a maximum matching algorithm\n",
    "                propensity_val =  1-abs(treated.propensity-not_treated.propensity)\n",
    "                bip_graph.add_edge(treated.Index, not_treated.Index, weight=propensity_val)\n",
    "\n",
    "    # Validate the graph properties\n",
    "    print(\"Initial Graph properties\")\n",
    "    print(nx.info(bip_graph))\n",
    "    print(\"Bipartite: {}\".format(nx.is_bipartite(bip_graph)))\n",
    "\n",
    "    matched_bip_dict = nx.max_weight_matching(bip_graph, maxcardinality=True)\n",
    "    matched_bip_graph.add_edges_from(matched_bip_dict.items())\n",
    "    # Remove isolated nodes\n",
    "    matched_bip_graph.remove_nodes_from(nx.isolates(matched_bip_graph))\n",
    "    print(\"\\nMatched Graph properties\")\n",
    "    print(nx.info(matched_bip_graph))\n",
    "    print(\"Bipartite: {}\".format(nx.is_bipartite(matched_bip_graph)))\n",
    "    return matched_bip_graph"
   ]
  },
  {
   "cell_type": "code",
   "execution_count": null,
   "metadata": {
    "ExecuteTime": {
     "end_time": "2017-11-22T12:12:58.648357Z",
     "start_time": "2017-11-22T12:11:50.706438Z"
    }
   },
   "outputs": [],
   "source": [
    "matched_bip_graph = create_matched_bipartite_graph(treated_prop, not_treated_prop)"
   ]
  },
  {
   "cell_type": "code",
   "execution_count": null,
   "metadata": {
    "ExecuteTime": {
     "end_time": "2017-11-22T12:12:58.653404Z",
     "start_time": "2017-11-22T12:12:58.649977Z"
    },
    "collapsed": true
   },
   "outputs": [],
   "source": [
    "def df_from_bip_graph(matched_bip_graph):\n",
    "    \"\"\"Create a dataframe from a matched bipartite graph\"\"\"\n",
    "    node_index_list = matched_bip_graph.nodes()\n",
    "\n",
    "    return data.loc[node_index_list]"
   ]
  },
  {
   "cell_type": "code",
   "execution_count": null,
   "metadata": {
    "ExecuteTime": {
     "end_time": "2017-11-22T12:12:58.680538Z",
     "start_time": "2017-11-22T12:12:58.655096Z"
    }
   },
   "outputs": [],
   "source": [
    "matched_data = df_from_bip_graph(matched_bip_graph)\n",
    "display(matched_data.head(5))"
   ]
  },
  {
   "cell_type": "markdown",
   "metadata": {},
   "source": [
    "### Income re78"
   ]
  },
  {
   "cell_type": "code",
   "execution_count": null,
   "metadata": {
    "ExecuteTime": {
     "end_time": "2017-11-22T12:12:58.705472Z",
     "start_time": "2017-11-22T12:12:58.682418Z"
    }
   },
   "outputs": [],
   "source": [
    "print_revenues_description(matched_data)"
   ]
  },
  {
   "cell_type": "code",
   "execution_count": null,
   "metadata": {
    "ExecuteTime": {
     "end_time": "2017-11-22T12:12:59.549778Z",
     "start_time": "2017-11-22T12:12:58.707232Z"
    }
   },
   "outputs": [],
   "source": [
    "print_1978_earnings(matched_data)"
   ]
  },
  {
   "cell_type": "markdown",
   "metadata": {},
   "source": [
    "We can see from the matched results that the treated subset had better income in re78.\n",
    "From this we could conclude that the training helped to raise the salary of the trainee."
   ]
  },
  {
   "cell_type": "markdown",
   "metadata": {},
   "source": [
    "### Value distribution comparisons"
   ]
  },
  {
   "cell_type": "code",
   "execution_count": null,
   "metadata": {
    "ExecuteTime": {
     "end_time": "2017-11-22T12:12:59.554170Z",
     "start_time": "2017-11-22T12:12:59.551098Z"
    }
   },
   "outputs": [],
   "source": [
    "# Lets check how many analysis function we have\n",
    "print(len(print_analysis_properties_fcts))"
   ]
  },
  {
   "cell_type": "code",
   "execution_count": null,
   "metadata": {
    "ExecuteTime": {
     "end_time": "2017-11-22T12:13:00.005596Z",
     "start_time": "2017-11-22T12:12:59.555775Z"
    }
   },
   "outputs": [],
   "source": [
    "print_analysis_properties_fcts[0](matched_data)"
   ]
  },
  {
   "cell_type": "markdown",
   "metadata": {},
   "source": [
    "We can see that the age is not evenly distributed in the matched group. There's more very young person ($<20$ years old in the control group. This might be a bias, especially in salary: a 15 years old will likely have a big difference in income with a 25 years old."
   ]
  },
  {
   "cell_type": "code",
   "execution_count": null,
   "metadata": {
    "ExecuteTime": {
     "end_time": "2017-11-22T12:13:00.433077Z",
     "start_time": "2017-11-22T12:13:00.007164Z"
    }
   },
   "outputs": [],
   "source": [
    "print_analysis_properties_fcts[1](matched_data)"
   ]
  },
  {
   "cell_type": "markdown",
   "metadata": {},
   "source": [
    "We can see that we have brought the median age down in the control group with our selection."
   ]
  },
  {
   "cell_type": "code",
   "execution_count": null,
   "metadata": {
    "ExecuteTime": {
     "end_time": "2017-11-22T12:13:00.742670Z",
     "start_time": "2017-11-22T12:13:00.435138Z"
    }
   },
   "outputs": [],
   "source": [
    "print_analysis_properties_fcts[2](matched_data)"
   ]
  },
  {
   "cell_type": "markdown",
   "metadata": {
    "ExecuteTime": {
     "end_time": "2017-11-21T21:34:33.787936Z",
     "start_time": "2017-11-21T21:34:33.781898Z"
    }
   },
   "source": [
    "We can see that the proportion of \"Black\" has increased in the control set.\n",
    "The discrepancy in the populations are still very high, we need to find some way to force the black population to be matched more evenly."
   ]
  },
  {
   "cell_type": "code",
   "execution_count": null,
   "metadata": {
    "ExecuteTime": {
     "end_time": "2017-11-22T12:13:00.886320Z",
     "start_time": "2017-11-22T12:13:00.744031Z"
    }
   },
   "outputs": [],
   "source": [
    "print_analysis_properties_fcts[3](matched_data)"
   ]
  },
  {
   "cell_type": "markdown",
   "metadata": {},
   "source": [
    "We can see that the married are really close matches compared to the previous results. \n"
   ]
  },
  {
   "cell_type": "code",
   "execution_count": null,
   "metadata": {
    "ExecuteTime": {
     "end_time": "2017-11-22T12:13:01.035976Z",
     "start_time": "2017-11-22T12:13:00.888288Z"
    }
   },
   "outputs": [],
   "source": [
    "print_analysis_properties_fcts[4](matched_data)"
   ]
  },
  {
   "cell_type": "markdown",
   "metadata": {},
   "source": [
    "We can see that the degree distribution has decreased by a low amount in the control dataset.\n",
    "\n",
    "We could attempt to provide a better match for the degree distribution."
   ]
  },
  {
   "cell_type": "code",
   "execution_count": null,
   "metadata": {
    "ExecuteTime": {
     "end_time": "2017-11-22T12:13:01.537929Z",
     "start_time": "2017-11-22T12:13:01.037828Z"
    }
   },
   "outputs": [],
   "source": [
    "print_analysis_properties_fcts[5](matched_data)"
   ]
  },
  {
   "cell_type": "markdown",
   "metadata": {},
   "source": [
    "The income match is way closer than previously. \n",
    "There's still outliers in the dataset, but we can see that the not treated curve now follows the treated curve more closely."
   ]
  },
  {
   "cell_type": "markdown",
   "metadata": {},
   "source": [
    "From this second analysis it seems that the previous income distribution, education years and the marital status are well fitted in the matched graph.\n",
    "\n",
    "The age, ethnicity and degree parameter would still need to be adjusted to have a better fit."
   ]
  },
  {
   "cell_type": "markdown",
   "metadata": {},
   "source": [
    "## Balancing the groups further"
   ]
  },
  {
   "cell_type": "markdown",
   "metadata": {},
   "source": [
    "In this section, we will attempt to balance the indicators that where not fully satisfying.\n",
    "\n",
    "Those indicators are the the age, the ethnicity and the degree.\n",
    "\n",
    "For the age, we will force the matches to be within MAX_AGE_DIFF of each other\n",
    "\n",
    "For the ethnicity and degree we will force them to be shared between matches.\n",
    "\n",
    "We will also force the married status, to make sure it is a good match, doing so didn't reduce the graph size, so it is not really costly."
   ]
  },
  {
   "cell_type": "code",
   "execution_count": null,
   "metadata": {
    "ExecuteTime": {
     "end_time": "2017-11-22T12:13:01.548962Z",
     "start_time": "2017-11-22T12:13:01.539322Z"
    }
   },
   "outputs": [],
   "source": [
    "# Make sure that we can actually optimize ethnicity\n",
    "print(\"Black treated: {}\".format(len(data[data.black & data.treat])))\n",
    "print(\"Black not treated: {}\".format(len(data[data.black & ~data.treat])))\n",
    "print(\"Hispano treated: {}\".format(len(data[data.hispan & data.treat])))    \n",
    "print(\"Hispano not treated: {}\".format(len(data[data.hispan & ~data.treat]))) "
   ]
  },
  {
   "cell_type": "markdown",
   "metadata": {},
   "source": [
    "From those result, we can see that we will not be able to match every nodes from the treated dataset in the new result, because we will need to drop some \"Black treated\" if we force the ethnicity to match"
   ]
  },
  {
   "cell_type": "markdown",
   "metadata": {},
   "source": [
    "### Creating a matched dataset with preferential treatment"
   ]
  },
  {
   "cell_type": "code",
   "execution_count": null,
   "metadata": {
    "ExecuteTime": {
     "end_time": "2017-11-22T12:13:03.739896Z",
     "start_time": "2017-11-22T12:13:01.550657Z"
    }
   },
   "outputs": [],
   "source": [
    "pref_matched_bip_graph = create_matched_bipartite_graph(treated_prop, not_treated_prop,\n",
    "                                                        forced_match=['age', 'ethnicity', 'married', 'degree'],\n",
    "                                                        max_age_diff=3)"
   ]
  },
  {
   "cell_type": "markdown",
   "metadata": {},
   "source": [
    "We can see that our fully preferential treatment reduced the size of the dataset by 85 edges.\n",
    "We also tested by matching the (age, ethnicity), (age, ethnicity, married) and the resulting number of edges was 111.\n",
    "Because the difference is marginal, we went with a full preferential treatment"
   ]
  },
  {
   "cell_type": "code",
   "execution_count": null,
   "metadata": {
    "ExecuteTime": {
     "end_time": "2017-11-22T12:13:03.769227Z",
     "start_time": "2017-11-22T12:13:03.741841Z"
    }
   },
   "outputs": [],
   "source": [
    "pref_matched_data = df_from_bip_graph(pref_matched_bip_graph)\n",
    "display(pref_matched_data.head(2))\n",
    "display(pref_matched_data.tail(2))"
   ]
  },
  {
   "cell_type": "markdown",
   "metadata": {},
   "source": [
    "### Value distribution comparisons"
   ]
  },
  {
   "cell_type": "code",
   "execution_count": null,
   "metadata": {
    "ExecuteTime": {
     "end_time": "2017-11-22T12:13:04.190917Z",
     "start_time": "2017-11-22T12:13:03.771361Z"
    }
   },
   "outputs": [],
   "source": [
    "print_analysis_properties_fcts[0](pref_matched_data)"
   ]
  },
  {
   "cell_type": "markdown",
   "metadata": {},
   "source": [
    "The age graph are way better fits after the preferential matching.\n",
    "There control median age is still lower than the treated, but to augment it we would lead to less nodes in the match.\n",
    "We feel that the current value is good enough."
   ]
  },
  {
   "cell_type": "code",
   "execution_count": null,
   "metadata": {
    "ExecuteTime": {
     "end_time": "2017-11-22T12:13:04.618312Z",
     "start_time": "2017-11-22T12:13:04.193033Z"
    }
   },
   "outputs": [],
   "source": [
    "print_analysis_properties_fcts[1](pref_matched_data)"
   ]
  },
  {
   "cell_type": "markdown",
   "metadata": {},
   "source": [
    "The education year fit are very similar, our new preferential matching didn't affect it too much."
   ]
  },
  {
   "cell_type": "code",
   "execution_count": null,
   "metadata": {
    "ExecuteTime": {
     "end_time": "2017-11-22T12:13:04.915169Z",
     "start_time": "2017-11-22T12:13:04.620408Z"
    }
   },
   "outputs": [],
   "source": [
    "print_analysis_properties_fcts[2](pref_matched_data)"
   ]
  },
  {
   "cell_type": "markdown",
   "metadata": {
    "ExecuteTime": {
     "end_time": "2017-11-21T21:34:33.787936Z",
     "start_time": "2017-11-21T21:34:33.781898Z"
    }
   },
   "source": [
    "We can see that this is where the preferential matching shines: we have a perfect match for ethnicity in our dataset.\n"
   ]
  },
  {
   "cell_type": "code",
   "execution_count": null,
   "metadata": {
    "ExecuteTime": {
     "end_time": "2017-11-22T12:13:05.061602Z",
     "start_time": "2017-11-22T12:13:04.917035Z"
    }
   },
   "outputs": [],
   "source": [
    "print_analysis_properties_fcts[3](pref_matched_data)"
   ]
  },
  {
   "cell_type": "markdown",
   "metadata": {},
   "source": [
    "We can see that we also have a perfect match in the married status\n"
   ]
  },
  {
   "cell_type": "code",
   "execution_count": null,
   "metadata": {
    "ExecuteTime": {
     "end_time": "2017-11-22T12:13:05.223069Z",
     "start_time": "2017-11-22T12:13:05.063519Z"
    }
   },
   "outputs": [],
   "source": [
    "print_analysis_properties_fcts[4](pref_matched_data)"
   ]
  },
  {
   "cell_type": "markdown",
   "metadata": {},
   "source": [
    "We can see that the degree are also a perfect match now."
   ]
  },
  {
   "cell_type": "code",
   "execution_count": null,
   "metadata": {
    "ExecuteTime": {
     "end_time": "2017-11-22T12:13:05.775649Z",
     "start_time": "2017-11-22T12:13:05.224821Z"
    },
    "scrolled": true
   },
   "outputs": [],
   "source": [
    "print_analysis_properties_fcts[5](pref_matched_data)"
   ]
  },
  {
   "cell_type": "markdown",
   "metadata": {
    "ExecuteTime": {
     "end_time": "2017-11-21T22:59:27.906950Z",
     "start_time": "2017-11-21T22:59:26.778Z"
    }
   },
   "source": [
    "The fit in the pretreatment income is similar to the previous matching.\n",
    "It looks like the re74 distribution match is worst than the unpreferential match.\n",
    "Though, the difference is not very substantial and the two graphs where already not a great match, so it is satisfactory."
   ]
  },
  {
   "cell_type": "markdown",
   "metadata": {},
   "source": [
    "## A less naive analysis"
   ]
  },
  {
   "cell_type": "code",
   "execution_count": null,
   "metadata": {
    "ExecuteTime": {
     "end_time": "2017-11-22T12:13:05.786169Z",
     "start_time": "2017-11-22T12:13:05.776881Z"
    }
   },
   "outputs": [],
   "source": [
    "print_revenues_description(pref_matched_data)"
   ]
  },
  {
   "cell_type": "code",
   "execution_count": null,
   "metadata": {
    "ExecuteTime": {
     "end_time": "2017-11-22T12:13:06.688716Z",
     "start_time": "2017-11-22T12:13:05.787683Z"
    }
   },
   "outputs": [],
   "source": [
    "print_1978_earnings(pref_matched_data)"
   ]
  },
  {
   "cell_type": "markdown",
   "metadata": {},
   "source": [
    "The preferential matching showed a close match between the variables distributions in the resulting dataset.\n",
    "\n",
    "From this dataset, we can see that the trained individuals are better off than the not trained.\n",
    "\n",
    "Their average income is 1168$ higher than the not treated group.\n",
    "\n",
    "Also, every measured quartile has a higher salary in the treated group than in the not treated.\n",
    "\n",
    "Finally, the maximum income is better in the treated group than in the not treated group.\n",
    "\n",
    "All the metrics are better for the treated population compared to the not treated population."
   ]
  },
  {
   "cell_type": "code",
   "execution_count": null,
   "metadata": {
    "collapsed": true
   },
   "outputs": [],
   "source": []
  }
 ],
 "metadata": {
  "kernelspec": {
   "display_name": "Python 3",
   "language": "python",
   "name": "python3"
  },
  "language_info": {
   "codemirror_mode": {
    "name": "ipython",
    "version": 3
   },
   "file_extension": ".py",
   "mimetype": "text/x-python",
   "name": "python",
   "nbconvert_exporter": "python",
   "pygments_lexer": "ipython3",
   "version": "3.6.1"
  },
  "toc": {
   "nav_menu": {},
   "number_sections": true,
   "sideBar": true,
   "skip_h1_title": false,
   "toc_cell": false,
   "toc_position": {},
   "toc_section_display": "block",
   "toc_window_display": false
  },
  "varInspector": {
   "cols": {
    "lenName": 16,
    "lenType": 16,
    "lenVar": 40
   },
   "kernels_config": {
    "python": {
     "delete_cmd_postfix": "",
     "delete_cmd_prefix": "del ",
     "library": "var_list.py",
     "varRefreshCmd": "print(var_dic_list())"
    },
    "r": {
     "delete_cmd_postfix": ") ",
     "delete_cmd_prefix": "rm(",
     "library": "var_list.r",
     "varRefreshCmd": "cat(var_dic_list()) "
    }
   },
   "types_to_exclude": [
    "module",
    "function",
    "builtin_function_or_method",
    "instance",
    "_Feature"
   ],
   "window_display": false
  }
 },
 "nbformat": 4,
 "nbformat_minor": 2
}
