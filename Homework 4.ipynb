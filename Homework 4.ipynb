{
 "cells": [
  {
   "cell_type": "code",
   "execution_count": 1,
   "metadata": {
    "collapsed": true
   },
   "outputs": [],
   "source": [
    "from sklearn.datasets import fetch_20newsgroups\n",
    "from sklearn.feature_extraction.text import TfidfVectorizer\n",
    "from sklearn.ensemble import RandomForestClassifier\n",
    "from sklearn.model_selection import KFold\n",
    "import matplotlib.pyplot as plt\n",
    "%matplotlib inline\n",
    "\n",
    "import numpy as np\n",
    "import json"
   ]
  },
  {
   "cell_type": "markdown",
   "metadata": {},
   "source": [
    "# Question 2: Applied Machine Learning"
   ]
  },
  {
   "cell_type": "markdown",
   "metadata": {},
   "source": [
    "We first obtain the data and build the tfidf document matrix:"
   ]
  },
  {
   "cell_type": "code",
   "execution_count": 2,
   "metadata": {
    "collapsed": true
   },
   "outputs": [],
   "source": [
    "data = fetch_20newsgroups(subset='all')\n",
    "tfidf_dm = TfidfVectorizer().fit_transform(data.data)"
   ]
  },
  {
   "cell_type": "code",
   "execution_count": 3,
   "metadata": {},
   "outputs": [
    {
     "data": {
      "text/plain": [
       "(18846, 173762)"
      ]
     },
     "execution_count": 3,
     "metadata": {},
     "output_type": "execute_result"
    }
   ],
   "source": [
    "tfidf_dm.shape # shape=(num_docs, num_terms)"
   ]
  },
  {
   "cell_type": "markdown",
   "metadata": {},
   "source": [
    "then we split the data:\n",
    "\n",
    " - 10% for validation\n",
    " - 10% for testing\n",
    " - 80% for training"
   ]
  },
  {
   "cell_type": "code",
   "execution_count": 4,
   "metadata": {
    "collapsed": true
   },
   "outputs": [],
   "source": [
    "N = len(data.data)\n",
    "t_N = int(0.1 * N)\n",
    "\n",
    "indices = np.random.choice(range(len(data.data)),\n",
    "                           size=2*t_N,\n",
    "                           replace=False)\n",
    "\n",
    "test_ids, valid_ids = indices[:t_N], indices[t_N:]\n",
    "train_ids = np.setdiff1d(np.arange(N), indices, assume_unique=True)\n",
    "\n",
    "assert len(train_ids) + len(test_ids) + len(valid_ids) == N\n",
    "\n",
    "y_train = data.target[train_ids]\n",
    "x_train = tfidf_dm[train_ids]\n",
    "x_val = tfidf_dm[valid_ids]\n",
    "y_val = data.target[valid_ids]\n",
    "x_test = tfidf_dm[test_ids]\n",
    "y_test = data.target[test_ids]"
   ]
  },
  {
   "cell_type": "code",
   "execution_count": 4,
   "metadata": {
    "collapsed": true
   },
   "outputs": [],
   "source": [
    "def cross_validation(nsplits, n, depth):\n",
    "    kf = KFold(n_splits=nsplits, shuffle=True)\n",
    "    score = 0\n",
    "    \n",
    "    for train_indices, test_indices in kf.split(tfidf_dm):\n",
    "        rfc = RandomForestClassifier(n_estimators=n, max_depth=depth)\n",
    "        rfc.fit(tfidf_dm[train_indices], data.target[train_indices])\n",
    "        score += rfc.score(tfidf_dm[test_indices], data.target[test_indices])\n",
    "\n",
    "    score /= kf.get_n_splits()\n",
    "    return score"
   ]
  },
  {
   "cell_type": "code",
   "execution_count": null,
   "metadata": {
    "scrolled": true
   },
   "outputs": [
    {
     "name": "stdout",
     "output_type": "stream",
     "text": [
      "n= 25 d= 75 0.762549149737\n",
      "n= 25 d= 76 0.768226457214\n",
      "n= 25 d= 77 0.77225925866\n",
      "n= 25 d= 78 0.765043165908\n",
      "n= 25 d= 79 0.773373682977\n",
      "n= 25 d= 80 0.769234259944\n",
      "n= 25 d= 81 0.76605117977\n",
      "n= 25 d= 82 0.77103915581\n",
      "n= 25 d= 83 0.766369073969\n",
      "n= 25 d= 84 0.769288126719\n",
      "n= 25 d= 85 0.775071577218\n",
      "n= 25 d= 86 0.773002555399\n",
      "n= 25 d= 87 0.768598358942\n",
      "n= 25 d= 88 0.77188776512\n",
      "n= 25 d= 89 0.766793843114\n",
      "n= 25 d= 90 0.770455390302\n",
      "n= 25 d= 91 0.770827109049\n",
      "n= 25 d= 92 0.773691478648\n",
      "n= 25 d= 93 0.770720529688\n",
      "n= 25 d= 94 0.777405738423\n",
      "Done with n= 25\n",
      "n= 26 d= 75 0.77045440502\n",
      "n= 26 d= 76 0.770189181181\n",
      "n= 26 d= 77 0.777672017921\n",
      "n= 26 d= 78 0.767377453792\n",
      "n= 26 d= 79 0.776397654184\n",
      "n= 26 d= 80 0.771782283644\n",
      "n= 26 d= 81 0.769394494948\n",
      "n= 26 d= 82 0.773958039655\n",
      "n= 26 d= 83 0.77358625053\n",
      "n= 26 d= 84 0.776504135017\n",
      "n= 26 d= 85 0.774116205566\n",
      "n= 26 d= 86 0.770455094717\n",
      "n= 26 d= 87 0.776398681693\n",
      "n= 26 d= 88 0.779316706934\n",
      "n= 26 d= 89 0.77597427851\n",
      "n= 26 d= 90 0.777459858556\n",
      "n= 26 d= 91 0.777565354107\n",
      "n= 26 d= 92 0.778149119615\n",
      "n= 26 d= 93 0.778255361166\n",
      "n= 26 d= 94 0.775549903478\n",
      "Done with n= 26\n",
      "n= 27 d= 75 0.774275849401\n",
      "n= 27 d= 76 0.774541298447\n",
      "n= 27 d= 77 0.768863990969\n",
      "n= 27 d= 78 0.772684168559\n",
      "n= 27 d= 79 0.774805874814\n",
      "n= 27 d= 80 0.778308510092\n",
      "n= 27 d= 81 0.77804301882\n",
      "n= 27 d= 82 0.773850911351\n",
      "n= 27 d= 83 0.776451478732\n",
      "n= 27 d= 84 0.776557734358\n",
      "n= 27 d= 85 0.777459788178\n",
      "n= 27 d= 86 0.778998066736\n",
      "n= 27 d= 87 0.778043455159\n",
      "n= 27 d= 88 0.776186212667\n",
      "n= 27 d= 89 0.778680327367\n",
      "n= 27 d= 90 0.778255178185\n",
      "n= 27 d= 91 0.775867459866\n",
      "n= 27 d= 92 0.780165485149\n",
      "n= 27 d= 93 0.780590380973\n",
      "n= 27 d= 94 0.779528809998\n",
      "Done with n= 27\n",
      "n= 28 d= 75 0.774700280735\n",
      "n= 28 d= 76 0.780272148963\n",
      "n= 28 d= 77 0.779104223834\n",
      "n= 28 d= 78 0.77714114798\n",
      "n= 28 d= 79 0.778520585004\n",
      "n= 28 d= 80 0.781863829805\n",
      "n= 28 d= 81 0.779847351668\n",
      "n= 28 d= 82 0.780165428848\n",
      "n= 28 d= 83 0.77661046102\n",
      "n= 28 d= 84 0.782287346234\n",
      "n= 28 d= 85 0.783986704323\n",
      "n= 28 d= 86 0.779104871305\n",
      "n= 28 d= 87 0.782819271834\n",
      "n= 28 d= 88 0.781386291772\n",
      "n= 28 d= 89 0.78467588093\n",
      "n= 28 d= 90 0.778945635658\n",
      "n= 28 d= 91 0.784463158547\n",
      "n= 28 d= 92 0.787541123207\n",
      "n= 28 d= 93 0.780802174377\n",
      "n= 28 d= 94 0.78499426777\n",
      "Done with n= 28\n",
      "n= 29 d= 75 0.779635220453\n",
      "n= 29 d= 76 0.783668430087\n",
      "n= 29 d= 77 0.784144757631\n",
      "n= 29 d= 78 0.782022741716\n",
      "n= 29 d= 79 0.783296823943\n",
      "n= 29 d= 80 0.779635051548\n",
      "n= 29 d= 81 0.779475646996\n",
      "n= 29 d= 82 0.781332762808\n",
      "n= 29 d= 83 0.779847422045\n",
      "n= 29 d= 84 0.779900641348\n",
      "n= 29 d= 85 0.786108326126\n",
      "n= 29 d= 86 0.781279796863\n",
      "n= 29 d= 87 0.783349466153\n",
      "n= 29 d= 88 0.782288078158\n",
      "n= 29 d= 89 0.783401981684\n",
      "n= 29 d= 90 0.782925105196\n",
      "n= 29 d= 91 0.780430469705\n",
      "n= 29 d= 92 0.787647153626\n",
      "n= 29 d= 93 0.783190216431\n",
      "n= 29 d= 94 0.784888012144\n",
      "Done with n= 29\n",
      "n= 30 d= 75 0.77809661816\n",
      "n= 30 d= 76 0.781226647937\n",
      "n= 30 d= 77 0.780696228411\n",
      "n= 30 d= 78 0.787540883925\n",
      "n= 30 d= 79 0.783667444805\n",
      "n= 30 d= 80 0.785843721607\n",
      "n= 30 d= 81 0.783137194184\n",
      "n= 30 d= 82 0.782924682933\n",
      "n= 30 d= 83 0.788230708003\n",
      "n= 30 d= 84 0.787593878021\n",
      "n= 30 d= 85 0.783933499095\n",
      "n= 30 d= 86 0.78716940446\n",
      "n= 30 d= 87 0.784091819837\n",
      "n= 30 d= 88 0.78695738585\n",
      "n= 30 d= 89 0.785683880716\n",
      "n= 30 d= 90 0.787063275514\n",
      "n= 30 d= 91 0.784303585089\n",
      "n= 30 d= 92 0.785842989683\n",
      "n= 30 d= 93 0.786215032166\n",
      "n= 30 d= 94 0.784729283214\n",
      "Done with n= 30\n",
      "n= 31 d= 75 0.786055726142\n",
      "n= 31 d= 76 0.783561189179\n",
      "n= 31 d= 77 0.783773615978\n",
      "n= 31 d= 78 0.788814431285\n",
      "n= 31 d= 79 0.786797953147\n",
      "n= 31 d= 80 0.787858932954\n",
      "n= 31 d= 81 0.786745817654\n",
      "n= 31 d= 82 0.784198905915\n",
      "n= 31 d= 83 0.787116959307\n",
      "n= 31 d= 84 0.785205850041\n",
      "n= 31 d= 85 0.788443092575\n",
      "n= 31 d= 86 0.786957611057\n",
      "n= 31 d= 87 0.78483445503\n",
      "n= 31 d= 88 0.791414323044\n",
      "n= 31 d= 89 0.790300039482\n",
      "n= 31 d= 90 0.786638984934\n",
      "n= 31 d= 91 0.790141451306\n",
      "n= 31 d= 92 0.787753113667\n",
      "n= 31 d= 93 0.790352906899\n",
      "n= 31 d= 94 0.790565868565\n",
      "Done with n= 31\n",
      "n= 32 d= 75 0.788178009491\n",
      "n= 32 d= 76 0.78525939308\n",
      "n= 32 d= 77 0.788867495758\n",
      "n= 32 d= 78 0.787275871218\n",
      "n= 32 d= 79 0.784781249802\n",
      "n= 32 d= 80 0.792581474024\n",
      "n= 32 d= 81 0.788389873272\n",
      "n= 32 d= 82 0.790990313974\n",
      "n= 32 d= 83 0.788071373828\n",
      "n= 32 d= 84 0.786267801055\n",
      "n= 32 d= 85 0.788602567504\n",
      "n= 32 d= 86 0.78716955929\n",
      "n= 32 d= 87 0.787487509791\n",
      "n= 32 d= 88 0.788973343196\n",
      "n= 32 d= 89 0.788336808798\n",
      "n= 32 d= 90 0.792210501276\n"
     ]
    }
   ],
   "source": [
    "# grid search n_estimators and max_depth SLOW\n",
    "accuracies = []\n",
    "for n in range(25, 35):\n",
    "    # run once with no max to get upper bound\n",
    "    for depth in range(75, 95):\n",
    "        score = cross_validation(5, n, depth)\n",
    "        accuracies.append((n, depth, score))\n",
    "        print('n=', n, 'd=', depth, score)        \n",
    "    print('Done with n=', n)"
   ]
  },
  {
   "cell_type": "code",
   "execution_count": null,
   "metadata": {
    "collapsed": true
   },
   "outputs": [],
   "source": [
    "#with open('tmp.json', 'w') as f:\n",
    "#    json.dump(accuracies, f)"
   ]
  },
  {
   "cell_type": "code",
   "execution_count": 6,
   "metadata": {
    "collapsed": true
   },
   "outputs": [],
   "source": [
    "#with open('tmp.json', 'r') as f:\n",
    "#    accs = json.load(f)"
   ]
  },
  {
   "cell_type": "code",
   "execution_count": 7,
   "metadata": {
    "collapsed": true
   },
   "outputs": [],
   "source": [
    "a = sorted(accs, key=lambda t: t[2])"
   ]
  },
  {
   "cell_type": "code",
   "execution_count": 11,
   "metadata": {},
   "outputs": [
    {
     "data": {
      "text/plain": [
       "[27, 81, 0.7913351016799293]"
      ]
     },
     "execution_count": 11,
     "metadata": {},
     "output_type": "execute_result"
    }
   ],
   "source": [
    "a[-1]"
   ]
  },
  {
   "cell_type": "code",
   "execution_count": 10,
   "metadata": {},
   "outputs": [
    {
     "data": {
      "text/plain": [
       "[<matplotlib.lines.Line2D at 0x7efbeaf3d898>]"
      ]
     },
     "execution_count": 10,
     "metadata": {},
     "output_type": "execute_result"
    },
    {
     "data": {
      "image/png": "[encoded data removed]",
      "text/plain": [
       "<matplotlib.figure.Figure at 0x7efbeb561438>"
      ]
     },
     "metadata": {},
     "output_type": "display_data"
    }
   ],
   "source": [
    "plt.plot([a[2] for a in a])"
   ]
  },
  {
   "cell_type": "code",
   "execution_count": null,
   "metadata": {
    "collapsed": true
   },
   "outputs": [],
   "source": []
  }
 ],
 "metadata": {
  "kernelspec": {
   "display_name": "Python 3",
   "language": "python",
   "name": "python3"
  },
  "language_info": {
   "codemirror_mode": {
    "name": "ipython",
    "version": 3
   },
   "file_extension": ".py",
   "mimetype": "text/x-python",
   "name": "python",
   "nbconvert_exporter": "python",
   "pygments_lexer": "ipython3",
   "version": "3.6.1"
  }
 },
 "nbformat": 4,
 "nbformat_minor": 2
}
