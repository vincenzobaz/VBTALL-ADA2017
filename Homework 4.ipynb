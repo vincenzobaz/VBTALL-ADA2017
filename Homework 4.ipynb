{
 "cells": [
  {
   "cell_type": "code",
   "execution_count": 2,
   "metadata": {
    "ExecuteTime": {
     "end_time": "2017-11-21T14:08:27.351647Z",
     "start_time": "2017-11-21T14:08:27.346521Z"
    },
    "collapsed": true
   },
   "outputs": [],
   "source": [
    "import pandas as pd\n",
    "import numpy as np\n",
    "import matplotlib.pyplot as plt\n",
    "from functools import reduce\n",
    "from sklearn.linear_model import LogisticRegression\n",
    "\n",
    "%matplotlib inline"
   ]
  },
  {
   "cell_type": "markdown",
   "metadata": {},
   "source": [
    "# Question 1: Propensity Score Matching"
   ]
  },
  {
   "cell_type": "code",
   "execution_count": 39,
   "metadata": {
    "ExecuteTime": {
     "end_time": "2017-11-21T14:47:15.994108Z",
     "start_time": "2017-11-21T14:47:15.987425Z"
    },
    "collapsed": true,
    "scrolled": false
   },
   "outputs": [],
   "source": [
    "data = pd.read_csv('Homework4-data/lalonde.csv', dtype={\n",
    "    'treat': np.bool_,\n",
    "    'age': np.uint8,\n",
    "    'age': np.uint8,\n",
    "    'nodegree': np.bool_,\n",
    "    'married': np.bool_,\n",
    "    'black': np.bool_,\n",
    "    'hispan': np.bool_,\n",
    "    're74': np.float32,\n",
    "    're75': np.float32,\n",
    "    're78': np.float32\n",
    "})"
   ]
  },
  {
   "cell_type": "code",
   "execution_count": 40,
   "metadata": {
    "ExecuteTime": {
     "end_time": "2017-11-21T14:47:16.444000Z",
     "start_time": "2017-11-21T14:47:16.429496Z"
    },
    "scrolled": false
   },
   "outputs": [
    {
     "data": {
      "text/html": [
       "<div>\n",
       "<style>\n",
       "    .dataframe thead tr:only-child th {\n",
       "        text-align: right;\n",
       "    }\n",
       "\n",
       "    .dataframe thead th {\n",
       "        text-align: left;\n",
       "    }\n",
       "\n",
       "    .dataframe tbody tr th {\n",
       "        vertical-align: top;\n",
       "    }\n",
       "</style>\n",
       "<table border=\"1\" class=\"dataframe\">\n",
       "  <thead>\n",
       "    <tr style=\"text-align: right;\">\n",
       "      <th></th>\n",
       "      <th>id</th>\n",
       "      <th>treat</th>\n",
       "      <th>age</th>\n",
       "      <th>educ</th>\n",
       "      <th>black</th>\n",
       "      <th>hispan</th>\n",
       "      <th>married</th>\n",
       "      <th>nodegree</th>\n",
       "      <th>re74</th>\n",
       "      <th>re75</th>\n",
       "      <th>re78</th>\n",
       "    </tr>\n",
       "  </thead>\n",
       "  <tbody>\n",
       "    <tr>\n",
       "      <th>0</th>\n",
       "      <td>NSW1</td>\n",
       "      <td>True</td>\n",
       "      <td>37</td>\n",
       "      <td>11</td>\n",
       "      <td>True</td>\n",
       "      <td>False</td>\n",
       "      <td>True</td>\n",
       "      <td>True</td>\n",
       "      <td>0.0</td>\n",
       "      <td>0.0</td>\n",
       "      <td>9930.045898</td>\n",
       "    </tr>\n",
       "    <tr>\n",
       "      <th>1</th>\n",
       "      <td>NSW2</td>\n",
       "      <td>True</td>\n",
       "      <td>22</td>\n",
       "      <td>9</td>\n",
       "      <td>False</td>\n",
       "      <td>True</td>\n",
       "      <td>False</td>\n",
       "      <td>True</td>\n",
       "      <td>0.0</td>\n",
       "      <td>0.0</td>\n",
       "      <td>3595.894043</td>\n",
       "    </tr>\n",
       "    <tr>\n",
       "      <th>2</th>\n",
       "      <td>NSW3</td>\n",
       "      <td>True</td>\n",
       "      <td>30</td>\n",
       "      <td>12</td>\n",
       "      <td>True</td>\n",
       "      <td>False</td>\n",
       "      <td>False</td>\n",
       "      <td>False</td>\n",
       "      <td>0.0</td>\n",
       "      <td>0.0</td>\n",
       "      <td>24909.449219</td>\n",
       "    </tr>\n",
       "    <tr>\n",
       "      <th>3</th>\n",
       "      <td>NSW4</td>\n",
       "      <td>True</td>\n",
       "      <td>27</td>\n",
       "      <td>11</td>\n",
       "      <td>True</td>\n",
       "      <td>False</td>\n",
       "      <td>False</td>\n",
       "      <td>True</td>\n",
       "      <td>0.0</td>\n",
       "      <td>0.0</td>\n",
       "      <td>7506.145996</td>\n",
       "    </tr>\n",
       "    <tr>\n",
       "      <th>4</th>\n",
       "      <td>NSW5</td>\n",
       "      <td>True</td>\n",
       "      <td>33</td>\n",
       "      <td>8</td>\n",
       "      <td>True</td>\n",
       "      <td>False</td>\n",
       "      <td>False</td>\n",
       "      <td>True</td>\n",
       "      <td>0.0</td>\n",
       "      <td>0.0</td>\n",
       "      <td>289.789886</td>\n",
       "    </tr>\n",
       "  </tbody>\n",
       "</table>\n",
       "</div>"
      ],
      "text/plain": [
       "     id  treat  age  educ  black  hispan  married  nodegree  re74  re75  \\\n",
       "0  NSW1   True   37    11   True   False     True      True   0.0   0.0   \n",
       "1  NSW2   True   22     9  False    True    False      True   0.0   0.0   \n",
       "2  NSW3   True   30    12   True   False    False     False   0.0   0.0   \n",
       "3  NSW4   True   27    11   True   False    False      True   0.0   0.0   \n",
       "4  NSW5   True   33     8   True   False    False      True   0.0   0.0   \n",
       "\n",
       "           re78  \n",
       "0   9930.045898  \n",
       "1   3595.894043  \n",
       "2  24909.449219  \n",
       "3   7506.145996  \n",
       "4    289.789886  "
      ]
     },
     "execution_count": 40,
     "metadata": {},
     "output_type": "execute_result"
    }
   ],
   "source": [
    "data.head()"
   ]
  },
  {
   "cell_type": "markdown",
   "metadata": {},
   "source": [
    "## 1 - A naive analysis"
   ]
  },
  {
   "cell_type": "code",
   "execution_count": 41,
   "metadata": {
    "ExecuteTime": {
     "end_time": "2017-11-21T14:47:17.549854Z",
     "start_time": "2017-11-21T14:47:17.546684Z"
    },
    "collapsed": true
   },
   "outputs": [],
   "source": [
    "treated = data.re78[data.treat == True]"
   ]
  },
  {
   "cell_type": "code",
   "execution_count": 42,
   "metadata": {
    "ExecuteTime": {
     "end_time": "2017-11-21T14:47:18.076718Z",
     "start_time": "2017-11-21T14:47:18.070239Z"
    }
   },
   "outputs": [
    {
     "data": {
      "text/plain": [
       "count      185.000000\n",
       "mean      6349.145508\n",
       "std       7867.402344\n",
       "min          0.000000\n",
       "25%        485.229797\n",
       "50%       4232.309082\n",
       "75%       9642.999023\n",
       "max      60307.929688\n",
       "Name: re78, dtype: float64"
      ]
     },
     "execution_count": 42,
     "metadata": {},
     "output_type": "execute_result"
    }
   ],
   "source": [
    "treated.describe()"
   ]
  },
  {
   "cell_type": "code",
   "execution_count": 43,
   "metadata": {
    "ExecuteTime": {
     "end_time": "2017-11-21T14:47:18.632934Z",
     "start_time": "2017-11-21T14:47:18.628427Z"
    },
    "collapsed": true
   },
   "outputs": [],
   "source": [
    "not_treated = data.re78[data.treat == False]"
   ]
  },
  {
   "cell_type": "code",
   "execution_count": 44,
   "metadata": {
    "ExecuteTime": {
     "end_time": "2017-11-21T14:47:19.185100Z",
     "start_time": "2017-11-21T14:47:19.177655Z"
    }
   },
   "outputs": [
    {
     "data": {
      "text/plain": [
       "count      429.000000\n",
       "mean      6984.169434\n",
       "std       7294.164551\n",
       "min          0.000000\n",
       "25%        220.181305\n",
       "50%       4975.504883\n",
       "75%      11688.820312\n",
       "max      25564.669922\n",
       "Name: re78, dtype: float64"
      ]
     },
     "execution_count": 44,
     "metadata": {},
     "output_type": "execute_result"
    }
   ],
   "source": [
    "not_treated.describe()"
   ]
  },
  {
   "cell_type": "code",
   "execution_count": 45,
   "metadata": {
    "ExecuteTime": {
     "end_time": "2017-11-21T14:47:19.713468Z",
     "start_time": "2017-11-21T14:47:19.709188Z"
    }
   },
   "outputs": [
    {
     "data": {
      "text/plain": [
       "5"
      ]
     },
     "execution_count": 45,
     "metadata": {},
     "output_type": "execute_result"
    }
   ],
   "source": [
    "len(range(5))"
   ]
  },
  {
   "cell_type": "code",
   "execution_count": 46,
   "metadata": {
    "ExecuteTime": {
     "end_time": "2017-11-21T14:47:21.424905Z",
     "start_time": "2017-11-21T14:47:21.421988Z"
    },
    "collapsed": true
   },
   "outputs": [],
   "source": [
    "def empirical_distribution(data):\n",
    "    \"\"\"Computes the empirical distribution of the provided pandas series\"\"\"\n",
    "    return data.value_counts().sort_index().cumsum() / len(data)"
   ]
  },
  {
   "cell_type": "markdown",
   "metadata": {},
   "source": [
    "We display the earnings in 1978 using boxplots. Remark that to compare and draw conclusions, it is important to use the same scale for the two data series (`sharey='row'` and `sharex='row'`)"
   ]
  },
  {
   "cell_type": "code",
   "execution_count": 48,
   "metadata": {
    "ExecuteTime": {
     "end_time": "2017-11-21T14:47:31.501890Z",
     "start_time": "2017-11-21T14:47:31.221782Z"
    }
   },
   "outputs": [
    {
     "data": {
      "image/png": "[encoded data removed]",
      "text/plain": [
       "<matplotlib.figure.Figure at 0x7faa7c7a32b0>"
      ]
     },
     "metadata": {},
     "output_type": "display_data"
    }
   ],
   "source": [
    "fig, (ax1, ax2) = plt.subplots(nrows=1, ncols=2,\n",
    "                               sharey='row', sharex='row',\n",
    "                               figsize=(10, 5))\n",
    "\n",
    "treated.plot.box(ax=ax1)\n",
    "not_treated.plot.box(ax=ax2)\n",
    "ax1.set_title('Trained')\n",
    "ax2.set_title('Not trained')\n",
    "ax1.set_ylabel('Earnings in 1978').set_size(15)"
   ]
  },
  {
   "cell_type": "code",
   "execution_count": 49,
   "metadata": {
    "ExecuteTime": {
     "end_time": "2017-11-21T14:47:42.816357Z",
     "start_time": "2017-11-21T14:47:42.293778Z"
    }
   },
   "outputs": [
    {
     "data": {
      "image/png": "[encoded data removed]",
      "text/plain": [
       "<matplotlib.figure.Figure at 0x7faa7c6f5ac8>"
      ]
     },
     "metadata": {},
     "output_type": "display_data"
    }
   ],
   "source": [
    "fig, ax = plt.subplots(figsize=(10,5))\n",
    "(1 - empirical_distribution(treated)).plot(ax=ax, logx=True, logy=True)\n",
    "(1 - empirical_distribution(not_treated)).plot(ax=ax)\n",
    "ax.legend(['treated', 'not treated'], fontsize=15)\n",
    "ax.set_xlabel('Income')\n",
    "ax.set_ylabel('CCDF')\n",
    "ax.set_title('CCDF of earnings of trained and not trained individuals (loglog)').set_size(18)"
   ]
  },
  {
   "cell_type": "markdown",
   "metadata": {},
   "source": [
    "A naive researcher may conclude that, except for some outliers, the training does not make a difference in determining the earnings of the cadidates"
   ]
  },
  {
   "cell_type": "markdown",
   "metadata": {},
   "source": [
    "## 2 - A closer look at the data"
   ]
  },
  {
   "cell_type": "markdown",
   "metadata": {
    "collapsed": true
   },
   "source": [
    "For each feature, we compare its distribution in the control and in the treated group."
   ]
  },
  {
   "cell_type": "code",
   "execution_count": 13,
   "metadata": {
    "ExecuteTime": {
     "end_time": "2017-11-21T14:08:28.425747Z",
     "start_time": "2017-11-21T14:08:28.420323Z"
    },
    "collapsed": true
   },
   "outputs": [],
   "source": [
    "def get_feature(feature_name):\n",
    "    \"\"\"Returns the series corresponding to feature name.\n",
    "    The returned element is a tuple of two elements, the first\n",
    "    corresponding to the (treated, not_treated) group\"\"\"\n",
    "    get_treated = lambda treated: data[feature_name][data.treat == treated]\n",
    "    return get_treated(True), get_treated(False)"
   ]
  },
  {
   "cell_type": "markdown",
   "metadata": {},
   "source": [
    "### Age"
   ]
  },
  {
   "cell_type": "code",
   "execution_count": 50,
   "metadata": {
    "ExecuteTime": {
     "end_time": "2017-11-21T14:58:02.075116Z",
     "start_time": "2017-11-21T14:58:01.878210Z"
    }
   },
   "outputs": [
    {
     "data": {
      "image/png": "[encoded data removed]",
      "text/plain": [
       "<matplotlib.figure.Figure at 0x7faa7cb56358>"
      ]
     },
     "metadata": {},
     "output_type": "display_data"
    }
   ],
   "source": [
    "age_groups = get_feature('age')\n",
    "for cdf in map(empirical_distribution, age_groups):\n",
    "    (1 - cdf).plot()\n",
    "plt.legend()\n",
    "plt.legend(['treated', 'control'], fontsize=15)\n",
    "plt.title('Loglog CCDF of age')\n",
    "plt.show()"
   ]
  },
  {
   "cell_type": "code",
   "execution_count": 53,
   "metadata": {
    "ExecuteTime": {
     "end_time": "2017-11-21T14:58:20.156383Z",
     "start_time": "2017-11-21T14:58:19.919640Z"
    }
   },
   "outputs": [
    {
     "data": {
      "image/png": "[encoded data removed]",
      "text/plain": [
       "<matplotlib.figure.Figure at 0x7faa7ccbe9b0>"
      ]
     },
     "metadata": {},
     "output_type": "display_data"
    }
   ],
   "source": [
    "fig, axes = plt.subplots(nrows=1, ncols=2, sharey='row')\n",
    "for ax, age_group in zip(axes, age_groups):\n",
    "    age_group.plot.box(ax=ax)\n",
    "axes[0].set_title('Age of treated group')\n",
    "axes[1].set_title('Age of control group')\n",
    "plt.show()"
   ]
  },
  {
   "cell_type": "markdown",
   "metadata": {},
   "source": [
    "We can see that the members of the treated group are in general younger than the members of the control group.\n",
    "The medians are very similar, but on the upper part of the distribution, the person in the treated group are younger than the one in the control group.\n",
    "This leads to think that older people had a low chance to be treated and it might reduce bias in our control group if we removed them after a certain age."
   ]
  },
  {
   "cell_type": "markdown",
   "metadata": {},
   "source": [
    "### Education years"
   ]
  },
  {
   "cell_type": "code",
   "execution_count": 59,
   "metadata": {
    "ExecuteTime": {
     "end_time": "2017-11-21T15:05:45.322071Z",
     "start_time": "2017-11-21T15:05:45.170635Z"
    }
   },
   "outputs": [
    {
     "data": {
      "image/png": "[encoded data removed]",
      "text/plain": [
       "<matplotlib.figure.Figure at 0x7faa7cd98048>"
      ]
     },
     "metadata": {},
     "output_type": "display_data"
    }
   ],
   "source": [
    "ed = get_feature('educ')\n",
    "for cdf in map(empirical_distribution, ed):\n",
    "    (1 - cdf).plot()\n",
    "plt.legend(['treated', 'control'], fontsize=15)\n",
    "plt.title('Loglog CCDF of education years')\n",
    "plt.show()"
   ]
  },
  {
   "cell_type": "code",
   "execution_count": 61,
   "metadata": {
    "ExecuteTime": {
     "end_time": "2017-11-21T15:10:25.970827Z",
     "start_time": "2017-11-21T15:10:25.696617Z"
    }
   },
   "outputs": [
    {
     "data": {
      "image/png": "[encoded data removed]",
      "text/plain": [
       "<matplotlib.figure.Figure at 0x7faa7cd93400>"
      ]
     },
     "metadata": {},
     "output_type": "display_data"
    }
   ],
   "source": [
    "fig, axes = plt.subplots(nrows=1, ncols=2, sharey='row')\n",
    "for ax, group in zip(axes, ed):\n",
    "    group.plot.box(ax=ax)\n",
    "axes[0].set_title('Education years of treated')\n",
    "axes[1].set_title('Education years of control')\n",
    "plt.show()"
   ]
  },
  {
   "cell_type": "markdown",
   "metadata": {},
   "source": [
    "While the distributions of the variable in the two groups seem similar, the boxplot reveals an interesting detail: the control group has many outliers who studied for less than the 1/4 quantile. There's also some outliers in the maximum education years in the control group.\n",
    "\n",
    "This might be caused by the fact that people who never studied or studied a lot tended to not get the treatment. Because of this, they might be poor subjects to add in our control group."
   ]
  },
  {
   "cell_type": "markdown",
   "metadata": {},
   "source": [
    "### Ethnicity"
   ]
  },
  {
   "cell_type": "code",
   "execution_count": 62,
   "metadata": {
    "ExecuteTime": {
     "end_time": "2017-11-21T15:13:20.708304Z",
     "start_time": "2017-11-21T15:13:20.702685Z"
    }
   },
   "outputs": [
    {
     "data": {
      "text/plain": [
       "False"
      ]
     },
     "execution_count": 62,
     "metadata": {},
     "output_type": "execute_result"
    }
   ],
   "source": [
    "any(map(lambda tup: all(tup), data[data.hispan == data.black][['black', 'hispan']].values))"
   ]
  },
  {
   "cell_type": "markdown",
   "metadata": {},
   "source": [
    "After having checked that there is no individual marked as both hispanic and black, we can plot the proportion of ethinicity in the the two populations:"
   ]
  },
  {
   "cell_type": "code",
   "execution_count": 63,
   "metadata": {
    "ExecuteTime": {
     "end_time": "2017-11-21T15:13:32.671256Z",
     "start_time": "2017-11-21T15:13:32.394060Z"
    }
   },
   "outputs": [
    {
     "data": {
      "image/png": "[encoded data removed]",
      "text/plain": [
       "<matplotlib.figure.Figure at 0x7faa7cc236d8>"
      ]
     },
     "metadata": {},
     "output_type": "display_data"
    }
   ],
   "source": [
    "ethnicities = ['hispan', 'black']\n",
    "fig, axes = plt.subplots(nrows=1, ncols=2)\n",
    "\n",
    "for ax, treated in zip(axes, (True, False)):\n",
    "    # Extract hispanic and black boolean indicators\n",
    "    eths = data[data.treat == treated][ethnicities]\n",
    "    # If neither black nor hispanic, add a True to indicate other category\n",
    "    eths['other'] = reduce(lambda x, y: x & y, map(lambda e: ~eths[e], ethnicities)) # <3 mapreduce\n",
    "    # Sum to obtain ethnic count\n",
    "    eths = eths.sum(axis=0)\n",
    "    # Plot\n",
    "    ax.axis('equal')\n",
    "    ax.set_title('Treat' if treated else 'Control')\n",
    "    ax.pie(eths.values, labels=eths.index)"
   ]
  },
  {
   "cell_type": "markdown",
   "metadata": {},
   "source": [
    "This reveals an interesting fact: the control and treated populations have very different compositions. While most of the control individuals are neither black nor hispanic (can we assume white?), most of the treated population is black."
   ]
  },
  {
   "cell_type": "markdown",
   "metadata": {},
   "source": [
    "### Civil status"
   ]
  },
  {
   "cell_type": "code",
   "execution_count": 64,
   "metadata": {
    "ExecuteTime": {
     "end_time": "2017-11-21T15:28:19.375134Z",
     "start_time": "2017-11-21T15:28:19.241178Z"
    },
    "scrolled": false
   },
   "outputs": [
    {
     "data": {
      "image/png": "[encoded data removed]",
      "text/plain": [
       "<matplotlib.figure.Figure at 0x7faa7d905160>"
      ]
     },
     "metadata": {},
     "output_type": "display_data"
    }
   ],
   "source": [
    "groups = get_feature('married')\n",
    "\n",
    "fig, axes = plt.subplots(nrows=1, ncols=2)\n",
    "\n",
    "for ax, g in zip(axes, groups):\n",
    "    c = g.value_counts()\n",
    "    ax.axis('equal')\n",
    "    ax.pie(c.values, labels=['married' if t else 'not married' for t in c.index])\n",
    "\n",
    "axes[0].set_title('Treat')\n",
    "axes[1].set_title('Control')\n",
    "plt.show()"
   ]
  },
  {
   "cell_type": "markdown",
   "metadata": {},
   "source": [
    "These piecharts highlight another important difference in population composition: most of the treated individuals are not married while almost half of the control population is married."
   ]
  },
  {
   "cell_type": "markdown",
   "metadata": {},
   "source": [
    "### Degree"
   ]
  },
  {
   "cell_type": "code",
   "execution_count": 65,
   "metadata": {
    "ExecuteTime": {
     "end_time": "2017-11-21T15:28:55.804232Z",
     "start_time": "2017-11-21T15:28:55.665824Z"
    }
   },
   "outputs": [
    {
     "data": {
      "image/png": "[encoded data removed]",
      "text/plain": [
       "<matplotlib.figure.Figure at 0x7faa7d905358>"
      ]
     },
     "metadata": {},
     "output_type": "display_data"
    }
   ],
   "source": [
    "groups = get_feature('nodegree')\n",
    "\n",
    "fig, axes = plt.subplots(nrows=1, ncols=2)\n",
    "\n",
    "for ax, g in zip(axes, groups):\n",
    "    c = g.value_counts()\n",
    "    ax.axis('equal')\n",
    "    ax.pie(c.values, labels=['does not have degree' if t else 'has degree' for t in c.index])\n",
    "\n",
    "axes[0].set_title('Treat')\n",
    "axes[1].set_title('Control')\n",
    "plt.show()"
   ]
  },
  {
   "cell_type": "markdown",
   "metadata": {},
   "source": [
    "Yet another important difference: slightly more treated individuals than controlled ones have a degree, which might directly influence their earnings"
   ]
  },
  {
   "cell_type": "markdown",
   "metadata": {},
   "source": [
    "### Pre-treatment earnings"
   ]
  },
  {
   "cell_type": "code",
   "execution_count": 66,
   "metadata": {
    "ExecuteTime": {
     "end_time": "2017-11-21T15:30:38.740208Z",
     "start_time": "2017-11-21T15:30:38.737855Z"
    },
    "collapsed": true
   },
   "outputs": [],
   "source": [
    "features = ['re74', 're75']"
   ]
  },
  {
   "cell_type": "code",
   "execution_count": 67,
   "metadata": {
    "ExecuteTime": {
     "end_time": "2017-11-21T15:30:39.891576Z",
     "start_time": "2017-11-21T15:30:39.379124Z"
    },
    "scrolled": false
   },
   "outputs": [
    {
     "data": {
      "image/png": "[encoded data removed]",
      "text/plain": [
       "<matplotlib.figure.Figure at 0x7faa7ce599e8>"
      ]
     },
     "metadata": {},
     "output_type": "display_data"
    }
   ],
   "source": [
    "fig, axes = plt.subplots(nrows=2, ncols=2, sharey='row', sharex='row', figsize=(12, 12))\n",
    "\n",
    "for cell, year in zip(axes[0], features):\n",
    "    for treated in (True, False):\n",
    "        earnings = data[data.treat == treated][features]\n",
    "        cell.plot(1 - empirical_distribution(earnings[year]))\n",
    "        cell.set_xlabel('x (log)')\n",
    "        cell.set_ylabel('P(earn > x) (log)')\n",
    "    cell.legend(['treated', 'not treated'])\n",
    "    cell.set_title(year + ' distribution')           \n",
    "    \n",
    "for cell, year in zip(axes[1], features):\n",
    "    cell.boxplot([data[year][data.treat == treated].values for treated in (True, False)])\n",
    "    cell.set_xticklabels(['treated', 'not treated'])\n",
    "    cell.set_title(year + ' comparison')"
   ]
  },
  {
   "cell_type": "markdown",
   "metadata": {},
   "source": [
    "We observe that the control population had higher earnings than the treated population before the the treatment.\n",
    "\n",
    "In fact, most of the treated population had no income before the treatment, which might show a bias in treatment towards individuals with no income.\n",
    "\n",
    "Also, the not treated population had a major reduction in their income distribution after only 1 year.\n",
    "It implies that many people considered for the not treated population already had work experience prior to the test, but lost their job recently.\n",
    "This might create a bias in the not treated population, because it is likely that someone with previous work experience has better odds of finding a job than someone with no work experience or long term previous unemployment."
   ]
  },
  {
   "cell_type": "markdown",
   "metadata": {},
   "source": [
    "## 3 - A propensity score model"
   ]
  },
  {
   "cell_type": "code",
   "execution_count": 69,
   "metadata": {
    "ExecuteTime": {
     "end_time": "2017-11-21T15:52:12.328998Z",
     "start_time": "2017-11-21T15:52:12.325188Z"
    }
   },
   "outputs": [
    {
     "data": {
      "text/plain": [
       "id           object\n",
       "treat          bool\n",
       "age           uint8\n",
       "educ          int64\n",
       "black          bool\n",
       "hispan         bool\n",
       "married        bool\n",
       "nodegree       bool\n",
       "re74        float32\n",
       "re75        float32\n",
       "re78        float32\n",
       "dtype: object"
      ]
     },
     "execution_count": 69,
     "metadata": {},
     "output_type": "execute_result"
    }
   ],
   "source": [
    "data.dtypes"
   ]
  },
  {
   "cell_type": "code",
   "execution_count": 25,
   "metadata": {
    "ExecuteTime": {
     "end_time": "2017-11-21T14:08:30.539290Z",
     "start_time": "2017-11-21T14:08:30.518802Z"
    },
    "collapsed": true
   },
   "outputs": [],
   "source": [
    "boolean_features = ['treat', 'black', 'hispan', 'married', 'nodegree']\n",
    "\n",
    "no_id = data.loc[:, data.columns != 'id']\n",
    "no_id = no_id.loc[:, no_id.columns != 're78'].copy() # Based on pre-treatment features => exclude post treatment features\n",
    "\n",
    "for feat in boolean_features:\n",
    "    no_id.loc[:, feat] = no_id[feat].astype(np.uint8)"
   ]
  },
  {
   "cell_type": "code",
   "execution_count": 26,
   "metadata": {
    "ExecuteTime": {
     "end_time": "2017-11-21T14:08:30.556063Z",
     "start_time": "2017-11-21T14:08:30.541181Z"
    }
   },
   "outputs": [
    {
     "name": "stdout",
     "output_type": "stream",
     "text": [
      "Features used for propensity score computation:\n"
     ]
    },
    {
     "data": {
      "text/plain": [
       "['treat',\n",
       " 'age',\n",
       " 'educ',\n",
       " 'black',\n",
       " 'hispan',\n",
       " 'married',\n",
       " 'nodegree',\n",
       " 're74',\n",
       " 're75']"
      ]
     },
     "execution_count": 26,
     "metadata": {},
     "output_type": "execute_result"
    }
   ],
   "source": [
    "print('Features used for propensity score computation:')\n",
    "[col for col in no_id.columns]"
   ]
  },
  {
   "cell_type": "code",
   "execution_count": 27,
   "metadata": {
    "ExecuteTime": {
     "end_time": "2017-11-21T14:08:30.570851Z",
     "start_time": "2017-11-21T14:08:30.558866Z"
    },
    "collapsed": true
   },
   "outputs": [],
   "source": [
    "x_train = no_id.loc[:, no_id.columns != 'treat'].as_matrix()\n",
    "y_train = no_id.loc[:, 'treat'].as_matrix()"
   ]
  },
  {
   "cell_type": "code",
   "execution_count": 28,
   "metadata": {
    "ExecuteTime": {
     "end_time": "2017-11-21T14:08:30.591179Z",
     "start_time": "2017-11-21T14:08:30.572374Z"
    },
    "collapsed": true
   },
   "outputs": [],
   "source": [
    "lr = LogisticRegression()\n",
    "lr.fit(x_train, y_train)\n",
    "predictions = lr.predict_proba(x_train)"
   ]
  },
  {
   "cell_type": "code",
   "execution_count": 29,
   "metadata": {
    "ExecuteTime": {
     "end_time": "2017-11-21T14:08:30.597830Z",
     "start_time": "2017-11-21T14:08:30.593190Z"
    }
   },
   "outputs": [
    {
     "data": {
      "text/plain": [
       "((614, 2), True)"
      ]
     },
     "execution_count": 29,
     "metadata": {},
     "output_type": "execute_result"
    }
   ],
   "source": [
    "predictions.shape, np.all(np.sum(predictions, axis=1))"
   ]
  },
  {
   "cell_type": "markdown",
   "metadata": {},
   "source": [
    "`predict_proba` returns a bidimensional array which has as many rows as data points and as many columns as classification classes. We are interested in the propensity score which is the probability of receiving the treatment. Therefore we want the second column of `predictions`"
   ]
  },
  {
   "cell_type": "code",
   "execution_count": 30,
   "metadata": {
    "ExecuteTime": {
     "end_time": "2017-11-21T14:08:30.609860Z",
     "start_time": "2017-11-21T14:08:30.599499Z"
    },
    "collapsed": true
   },
   "outputs": [],
   "source": [
    "# Rebuild indexed series\n",
    "propensities = pd.Series(predictions[:, 1], index=no_id.index)"
   ]
  },
  {
   "cell_type": "markdown",
   "metadata": {},
   "source": [
    "## 4 - Balancing the dataset via matching"
   ]
  },
  {
   "cell_type": "code",
   "execution_count": null,
   "metadata": {
    "collapsed": true
   },
   "outputs": [],
   "source": []
  }
 ],
 "metadata": {
  "kernelspec": {
   "display_name": "Python [default]",
   "language": "python",
   "name": "python3"
  },
  "language_info": {
   "codemirror_mode": {
    "name": "ipython",
    "version": 3
   },
   "file_extension": ".py",
   "mimetype": "text/x-python",
   "name": "python",
   "nbconvert_exporter": "python",
   "pygments_lexer": "ipython3",
   "version": "3.6.2"
  },
  "toc": {
   "nav_menu": {},
   "number_sections": true,
   "sideBar": true,
   "skip_h1_title": false,
   "toc_cell": false,
   "toc_position": {},
   "toc_section_display": "block",
   "toc_window_display": false
  },
  "varInspector": {
   "cols": {
    "lenName": 16,
    "lenType": 16,
    "lenVar": 40
   },
   "kernels_config": {
    "python": {
     "delete_cmd_postfix": "",
     "delete_cmd_prefix": "del ",
     "library": "var_list.py",
     "varRefreshCmd": "print(var_dic_list())"
    },
    "r": {
     "delete_cmd_postfix": ") ",
     "delete_cmd_prefix": "rm(",
     "library": "var_list.r",
     "varRefreshCmd": "cat(var_dic_list()) "
    }
   },
   "types_to_exclude": [
    "module",
    "function",
    "builtin_function_or_method",
    "instance",
    "_Feature"
   ],
   "window_display": false
  }
 },
 "nbformat": 4,
 "nbformat_minor": 2
}
