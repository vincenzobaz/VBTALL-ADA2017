{
 "cells": [
  {
   "cell_type": "code",
   "execution_count": 64,
   "metadata": {
    "ExecuteTime": {
     "end_time": "2017-10-25T16:07:39.887972Z",
     "start_time": "2017-10-25T16:07:39.881584Z"
    },
    "collapsed": true
   },
   "outputs": [],
   "source": [
    "import requests as r\n",
    "import numpy as np\n",
    "from bs4 import BeautifulSoup\n",
    "import pandas as pd\n",
    "import pickle\n",
    "import wikipedia\n",
    "import matplotlib.pyplot as plt\n",
    "from IPython.display import display\n",
    "from mpl_toolkits.mplot3d import Axes3D"
   ]
  },
  {
   "cell_type": "code",
   "execution_count": 65,
   "metadata": {
    "ExecuteTime": {
     "end_time": "2017-10-25T16:07:39.896910Z",
     "start_time": "2017-10-25T16:07:39.889756Z"
    },
    "collapsed": true
   },
   "outputs": [],
   "source": [
    "USE_PICKLED_DATA=True # Set false to get fresh data from the web, otherwise use the pickled data"
   ]
  },
  {
   "cell_type": "markdown",
   "metadata": {},
   "source": [
    "# Obtaining the datasets from the web"
   ]
  },
  {
   "cell_type": "markdown",
   "metadata": {},
   "source": [
    "## Scraping  `topuniversities.com`"
   ]
  },
  {
   "cell_type": "code",
   "execution_count": 66,
   "metadata": {
    "ExecuteTime": {
     "end_time": "2017-10-25T16:07:39.905293Z",
     "start_time": "2017-10-25T16:07:39.898657Z"
    },
    "collapsed": true
   },
   "outputs": [],
   "source": [
    "URL = 'https://www.topuniversities.com'"
   ]
  },
  {
   "cell_type": "code",
   "execution_count": 67,
   "metadata": {
    "ExecuteTime": {
     "end_time": "2017-10-25T16:07:40.083611Z",
     "start_time": "2017-10-25T16:07:39.907012Z"
    },
    "collapsed": true
   },
   "outputs": [],
   "source": [
    "data = r.get(URL + '/sites/default/files/qs-rankings-data/357051.txt').json()['data']"
   ]
  },
  {
   "cell_type": "markdown",
   "metadata": {},
   "source": [
    "We want to filter by rank and extract the above properties. Some ranks are of the form: `X-Y` to indicate a range and some start with a `=` to indicate that two universities reached the same rank. As these formats complicate parsing, we first want to check whether the universities we interested in (the top 200) have their rank expressed in one of the two formats:"
   ]
  },
  {
   "cell_type": "code",
   "execution_count": 68,
   "metadata": {
    "ExecuteTime": {
     "end_time": "2017-10-25T16:07:40.090647Z",
     "start_time": "2017-10-25T16:07:40.085082Z"
    },
    "collapsed": true
   },
   "outputs": [],
   "source": [
    "dash = set()\n",
    "equals = set()\n",
    "for uni in data:\n",
    "    rank = uni['rank_display']\n",
    "    if '-' in rank:\n",
    "        dash.add(rank)\n",
    "    if '=' in rank:\n",
    "        equals.add(int(rank.lstrip('=')))"
   ]
  },
  {
   "cell_type": "code",
   "execution_count": 69,
   "metadata": {
    "ExecuteTime": {
     "end_time": "2017-10-25T16:07:40.102950Z",
     "start_time": "2017-10-25T16:07:40.092297Z"
    }
   },
   "outputs": [
    {
     "data": {
      "text/plain": [
       "{'401-410',\n",
       " '411-420',\n",
       " '421-430',\n",
       " '431-440',\n",
       " '441-450',\n",
       " '451-460',\n",
       " '461-470',\n",
       " '471-480',\n",
       " '481-490',\n",
       " '491-500',\n",
       " '501-550',\n",
       " '551-600',\n",
       " '601-650',\n",
       " '651-700',\n",
       " '701-750',\n",
       " '751-800',\n",
       " '801-1000'}"
      ]
     },
     "execution_count": 69,
     "metadata": {},
     "output_type": "execute_result"
    }
   ],
   "source": [
    "dash"
   ]
  },
  {
   "cell_type": "markdown",
   "metadata": {},
   "source": [
    "None of the intervals is relevant for our analysis"
   ]
  },
  {
   "cell_type": "code",
   "execution_count": 70,
   "metadata": {
    "ExecuteTime": {
     "end_time": "2017-10-25T16:07:40.111235Z",
     "start_time": "2017-10-25T16:07:40.104362Z"
    }
   },
   "outputs": [
    {
     "data": {
      "text/plain": [
       "True"
      ]
     },
     "execution_count": 70,
     "metadata": {},
     "output_type": "execute_result"
    }
   ],
   "source": [
    "any(map(lambda v: v < 201, equals))"
   ]
  },
  {
   "cell_type": "markdown",
   "metadata": {},
   "source": [
    "Some of the values starting with `=` are interesting for us."
   ]
  },
  {
   "cell_type": "code",
   "execution_count": 71,
   "metadata": {
    "ExecuteTime": {
     "end_time": "2017-10-25T16:07:40.119559Z",
     "start_time": "2017-10-25T16:07:40.112538Z"
    },
    "collapsed": true
   },
   "outputs": [],
   "source": [
    "fields = (\n",
    "    'title',\n",
    "    'country',\n",
    "    'region',\n",
    "    'url'\n",
    ")\n",
    "\n",
    "# Obtained by inspecting html source\n",
    "to_scrape = (\n",
    "    'total student',\n",
    "    'total inter',\n",
    "    'total faculty',\n",
    "    'inter faculty'\n",
    ")"
   ]
  },
  {
   "cell_type": "code",
   "execution_count": 72,
   "metadata": {
    "ExecuteTime": {
     "end_time": "2017-10-25T16:09:37.338324Z",
     "start_time": "2017-10-25T16:07:40.121097Z"
    },
    "collapsed": true
   },
   "outputs": [],
   "source": [
    "if not USE_PICKLED_DATA:\n",
    "    cleaned = []\n",
    "\n",
    "    # As explained above, we are not interested in ranks with '-'\n",
    "    for uni in filter(lambda u: '-' not in u['rank_display'], data):\n",
    "        # parse rank\n",
    "        rank = uni['rank_display']\n",
    "        rank = np.uint32(rank.lstrip('='))\n",
    "\n",
    "        # Only keep universities in top 200\n",
    "        if rank < 201:\n",
    "            # Retain important fields from ranking table\n",
    "            clean_uni = {variable: uni[variable] for variable in fields}\n",
    "            clean_uni['rank'] = rank\n",
    "\n",
    "            cleaned.append(clean_uni)\n",
    "\n",
    "            # Retrieve data from university page\n",
    "            req = r.get(URL + uni['url'])\n",
    "            soup = BeautifulSoup(req.text, 'html.parser')\n",
    "            for field in to_scrape:\n",
    "                div = soup.find('div', class_=field)\n",
    "                if div:\n",
    "                    clean_uni[field] = np.uint32(div.find('div', class_='number')\\\n",
    "                                                    .text.strip().replace(',', ''))\n",
    "                else:\n",
    "                    print('Could not find', field, 'for', uni['title'])"
   ]
  },
  {
   "cell_type": "code",
   "execution_count": 73,
   "metadata": {
    "ExecuteTime": {
     "end_time": "2017-10-25T16:09:37.345885Z",
     "start_time": "2017-10-25T16:09:37.340003Z"
    },
    "collapsed": true
   },
   "outputs": [],
   "source": [
    "if not USE_PICKLED_DATA:\n",
    "    # To work without having to pull everything down.\n",
    "    with open('bcp.pickle', 'wb') as out:\n",
    "        pickle.dump(cleaned, out)"
   ]
  },
  {
   "cell_type": "code",
   "execution_count": 74,
   "metadata": {
    "ExecuteTime": {
     "end_time": "2017-10-25T16:09:37.358563Z",
     "start_time": "2017-10-25T16:09:37.347229Z"
    },
    "collapsed": true
   },
   "outputs": [],
   "source": [
    "with open('bcp.pickle', 'rb') as data_source:\n",
    "    cleaned = pickle.load(data_source)"
   ]
  },
  {
   "cell_type": "code",
   "execution_count": 75,
   "metadata": {
    "ExecuteTime": {
     "end_time": "2017-10-25T16:09:37.373683Z",
     "start_time": "2017-10-25T16:09:37.359844Z"
    },
    "collapsed": true
   },
   "outputs": [],
   "source": [
    "topuniversities = pd.DataFrame(cleaned)"
   ]
  },
  {
   "cell_type": "code",
   "execution_count": 76,
   "metadata": {
    "ExecuteTime": {
     "end_time": "2017-10-25T16:09:37.401905Z",
     "start_time": "2017-10-25T16:09:37.375049Z"
    }
   },
   "outputs": [
    {
     "data": {
      "text/html": [
       "<div>\n",
       "<style>\n",
       "    .dataframe thead tr:only-child th {\n",
       "        text-align: right;\n",
       "    }\n",
       "\n",
       "    .dataframe thead th {\n",
       "        text-align: left;\n",
       "    }\n",
       "\n",
       "    .dataframe tbody tr th {\n",
       "        vertical-align: top;\n",
       "    }\n",
       "</style>\n",
       "<table border=\"1\" class=\"dataframe\">\n",
       "  <thead>\n",
       "    <tr style=\"text-align: right;\">\n",
       "      <th></th>\n",
       "      <th>country</th>\n",
       "      <th>inter faculty</th>\n",
       "      <th>rank</th>\n",
       "      <th>region</th>\n",
       "      <th>title</th>\n",
       "      <th>total faculty</th>\n",
       "      <th>total inter</th>\n",
       "      <th>total student</th>\n",
       "      <th>url</th>\n",
       "    </tr>\n",
       "  </thead>\n",
       "  <tbody>\n",
       "    <tr>\n",
       "      <th>0</th>\n",
       "      <td>United States</td>\n",
       "      <td>1679.0</td>\n",
       "      <td>1</td>\n",
       "      <td>North America</td>\n",
       "      <td>Massachusetts Institute of Technology (MIT)</td>\n",
       "      <td>2982.0</td>\n",
       "      <td>3717.0</td>\n",
       "      <td>11067.0</td>\n",
       "      <td>/universities/massachusetts-institute-technolo...</td>\n",
       "    </tr>\n",
       "    <tr>\n",
       "      <th>1</th>\n",
       "      <td>United States</td>\n",
       "      <td>2042.0</td>\n",
       "      <td>2</td>\n",
       "      <td>North America</td>\n",
       "      <td>Stanford University</td>\n",
       "      <td>4285.0</td>\n",
       "      <td>3611.0</td>\n",
       "      <td>15878.0</td>\n",
       "      <td>/universities/stanford-university</td>\n",
       "    </tr>\n",
       "    <tr>\n",
       "      <th>2</th>\n",
       "      <td>United States</td>\n",
       "      <td>1311.0</td>\n",
       "      <td>3</td>\n",
       "      <td>North America</td>\n",
       "      <td>Harvard University</td>\n",
       "      <td>4350.0</td>\n",
       "      <td>5266.0</td>\n",
       "      <td>22429.0</td>\n",
       "      <td>/universities/harvard-university</td>\n",
       "    </tr>\n",
       "    <tr>\n",
       "      <th>3</th>\n",
       "      <td>United States</td>\n",
       "      <td>350.0</td>\n",
       "      <td>4</td>\n",
       "      <td>North America</td>\n",
       "      <td>California Institute of Technology (Caltech)</td>\n",
       "      <td>953.0</td>\n",
       "      <td>647.0</td>\n",
       "      <td>2255.0</td>\n",
       "      <td>/universities/california-institute-technology-...</td>\n",
       "    </tr>\n",
       "    <tr>\n",
       "      <th>4</th>\n",
       "      <td>United Kingdom</td>\n",
       "      <td>2278.0</td>\n",
       "      <td>5</td>\n",
       "      <td>Europe</td>\n",
       "      <td>University of Cambridge</td>\n",
       "      <td>5490.0</td>\n",
       "      <td>6699.0</td>\n",
       "      <td>18770.0</td>\n",
       "      <td>/universities/university-cambridge</td>\n",
       "    </tr>\n",
       "    <tr>\n",
       "      <th>5</th>\n",
       "      <td>United Kingdom</td>\n",
       "      <td>2964.0</td>\n",
       "      <td>6</td>\n",
       "      <td>Europe</td>\n",
       "      <td>University of Oxford</td>\n",
       "      <td>6750.0</td>\n",
       "      <td>7353.0</td>\n",
       "      <td>19720.0</td>\n",
       "      <td>/universities/university-oxford</td>\n",
       "    </tr>\n",
       "    <tr>\n",
       "      <th>6</th>\n",
       "      <td>United Kingdom</td>\n",
       "      <td>2554.0</td>\n",
       "      <td>7</td>\n",
       "      <td>Europe</td>\n",
       "      <td>UCL (University College London)</td>\n",
       "      <td>6345.0</td>\n",
       "      <td>14854.0</td>\n",
       "      <td>31080.0</td>\n",
       "      <td>/universities/ucl-university-college-london</td>\n",
       "    </tr>\n",
       "    <tr>\n",
       "      <th>7</th>\n",
       "      <td>United Kingdom</td>\n",
       "      <td>2071.0</td>\n",
       "      <td>8</td>\n",
       "      <td>Europe</td>\n",
       "      <td>Imperial College London</td>\n",
       "      <td>3930.0</td>\n",
       "      <td>8746.0</td>\n",
       "      <td>16090.0</td>\n",
       "      <td>/universities/imperial-college-london</td>\n",
       "    </tr>\n",
       "    <tr>\n",
       "      <th>8</th>\n",
       "      <td>United States</td>\n",
       "      <td>635.0</td>\n",
       "      <td>9</td>\n",
       "      <td>North America</td>\n",
       "      <td>University of Chicago</td>\n",
       "      <td>2449.0</td>\n",
       "      <td>3379.0</td>\n",
       "      <td>13557.0</td>\n",
       "      <td>/universities/university-chicago</td>\n",
       "    </tr>\n",
       "    <tr>\n",
       "      <th>9</th>\n",
       "      <td>Switzerland</td>\n",
       "      <td>1886.0</td>\n",
       "      <td>10</td>\n",
       "      <td>Europe</td>\n",
       "      <td>ETH Zurich - Swiss Federal Institute of Techno...</td>\n",
       "      <td>2477.0</td>\n",
       "      <td>7563.0</td>\n",
       "      <td>19815.0</td>\n",
       "      <td>/universities/eth-zurich-swiss-federal-institu...</td>\n",
       "    </tr>\n",
       "  </tbody>\n",
       "</table>\n",
       "</div>"
      ],
      "text/plain": [
       "          country  inter faculty  rank         region  \\\n",
       "0   United States         1679.0     1  North America   \n",
       "1   United States         2042.0     2  North America   \n",
       "2   United States         1311.0     3  North America   \n",
       "3   United States          350.0     4  North America   \n",
       "4  United Kingdom         2278.0     5         Europe   \n",
       "5  United Kingdom         2964.0     6         Europe   \n",
       "6  United Kingdom         2554.0     7         Europe   \n",
       "7  United Kingdom         2071.0     8         Europe   \n",
       "8   United States          635.0     9  North America   \n",
       "9     Switzerland         1886.0    10         Europe   \n",
       "\n",
       "                                               title  total faculty  \\\n",
       "0        Massachusetts Institute of Technology (MIT)         2982.0   \n",
       "1                                Stanford University         4285.0   \n",
       "2                                 Harvard University         4350.0   \n",
       "3       California Institute of Technology (Caltech)          953.0   \n",
       "4                            University of Cambridge         5490.0   \n",
       "5                               University of Oxford         6750.0   \n",
       "6                    UCL (University College London)         6345.0   \n",
       "7                            Imperial College London         3930.0   \n",
       "8                              University of Chicago         2449.0   \n",
       "9  ETH Zurich - Swiss Federal Institute of Techno...         2477.0   \n",
       "\n",
       "   total inter  total student  \\\n",
       "0       3717.0        11067.0   \n",
       "1       3611.0        15878.0   \n",
       "2       5266.0        22429.0   \n",
       "3        647.0         2255.0   \n",
       "4       6699.0        18770.0   \n",
       "5       7353.0        19720.0   \n",
       "6      14854.0        31080.0   \n",
       "7       8746.0        16090.0   \n",
       "8       3379.0        13557.0   \n",
       "9       7563.0        19815.0   \n",
       "\n",
       "                                                 url  \n",
       "0  /universities/massachusetts-institute-technolo...  \n",
       "1                  /universities/stanford-university  \n",
       "2                   /universities/harvard-university  \n",
       "3  /universities/california-institute-technology-...  \n",
       "4                 /universities/university-cambridge  \n",
       "5                    /universities/university-oxford  \n",
       "6        /universities/ucl-university-college-london  \n",
       "7              /universities/imperial-college-london  \n",
       "8                   /universities/university-chicago  \n",
       "9  /universities/eth-zurich-swiss-federal-institu...  "
      ]
     },
     "execution_count": 76,
     "metadata": {},
     "output_type": "execute_result"
    }
   ],
   "source": [
    "topuniversities.head(10)"
   ]
  },
  {
   "cell_type": "markdown",
   "metadata": {
    "collapsed": true
   },
   "source": [
    "## Scraping `timeshighereducation.com`"
   ]
  },
  {
   "cell_type": "code",
   "execution_count": 77,
   "metadata": {
    "ExecuteTime": {
     "end_time": "2017-10-25T16:09:37.413317Z",
     "start_time": "2017-10-25T16:09:37.403335Z"
    },
    "collapsed": true
   },
   "outputs": [],
   "source": [
    "URL = 'https://www.timeshighereducation.com'"
   ]
  },
  {
   "cell_type": "code",
   "execution_count": 78,
   "metadata": {
    "ExecuteTime": {
     "end_time": "2017-10-25T16:09:37.679395Z",
     "start_time": "2017-10-25T16:09:37.414765Z"
    },
    "collapsed": true
   },
   "outputs": [],
   "source": [
    "data = r.get(URL + '/sites/default/files/the_data_rankings/world_university_rankings_2018_limit0_369a9045a203e176392b9fb8f8c1cb2a.json').json()['data']"
   ]
  },
  {
   "cell_type": "code",
   "execution_count": 79,
   "metadata": {
    "ExecuteTime": {
     "end_time": "2017-10-25T16:09:37.691938Z",
     "start_time": "2017-10-25T16:09:37.681015Z"
    },
    "collapsed": true
   },
   "outputs": [],
   "source": [
    "dash = set()\n",
    "equals = set()\n",
    "plus = set()\n",
    "for uni in data:\n",
    "    rank = uni['rank']\n",
    "    if '–' in rank:\n",
    "        dash.add(rank)\n",
    "    if '=' in rank:\n",
    "        equals.add(int(rank.lstrip('=')))\n",
    "    if '+' in rank:\n",
    "        plus.add(rank)"
   ]
  },
  {
   "cell_type": "code",
   "execution_count": 80,
   "metadata": {
    "ExecuteTime": {
     "end_time": "2017-10-25T16:09:37.702368Z",
     "start_time": "2017-10-25T16:09:37.694022Z"
    }
   },
   "outputs": [
    {
     "data": {
      "text/plain": [
       "{'201–250',\n",
       " '251–300',\n",
       " '301–350',\n",
       " '351–400',\n",
       " '401–500',\n",
       " '501–600',\n",
       " '601–800',\n",
       " '801–1000'}"
      ]
     },
     "execution_count": 80,
     "metadata": {},
     "output_type": "execute_result"
    }
   ],
   "source": [
    "dash"
   ]
  },
  {
   "cell_type": "code",
   "execution_count": 81,
   "metadata": {
    "ExecuteTime": {
     "end_time": "2017-10-25T16:09:37.712439Z",
     "start_time": "2017-10-25T16:09:37.704132Z"
    }
   },
   "outputs": [
    {
     "data": {
      "text/plain": [
       "True"
      ]
     },
     "execution_count": 81,
     "metadata": {},
     "output_type": "execute_result"
    }
   ],
   "source": [
    "any(map(lambda v: v < 201, equals))"
   ]
  },
  {
   "cell_type": "code",
   "execution_count": 82,
   "metadata": {
    "ExecuteTime": {
     "end_time": "2017-10-25T16:09:37.720779Z",
     "start_time": "2017-10-25T16:09:37.714258Z"
    }
   },
   "outputs": [
    {
     "data": {
      "text/plain": [
       "{'1001+'}"
      ]
     },
     "execution_count": 82,
     "metadata": {},
     "output_type": "execute_result"
    }
   ],
   "source": [
    "plus"
   ]
  },
  {
   "cell_type": "code",
   "execution_count": 83,
   "metadata": {
    "ExecuteTime": {
     "end_time": "2017-10-25T16:09:37.737264Z",
     "start_time": "2017-10-25T16:09:37.722642Z"
    },
    "collapsed": true
   },
   "outputs": [],
   "source": [
    "def highereducation_university_builder(uni):\n",
    "    intern_ratio = 0.01 * np.float32(uni['stats_pc_intl_students'].rstrip('%'))\n",
    "    staff_ratio = np.float32(uni['stats_student_staff_ratio'])\n",
    "    res = {\n",
    "        'title': uni['name'],\n",
    "        'country': uni['location'],\n",
    "        'url': uni['url'],\n",
    "        'total student': np.int32(uni['stats_number_students'].replace(',', ''))\n",
    "    }\n",
    "    # Having float number of person is not very relevent\n",
    "    # Because of this we round the result to have an integer value\n",
    "    res['total inter'] = np.round(intern_ratio * res['total student'])\n",
    "    res['total faculty'] = np.round(res['total student'] / staff_ratio)\n",
    "    return res"
   ]
  },
  {
   "cell_type": "code",
   "execution_count": 84,
   "metadata": {
    "ExecuteTime": {
     "end_time": "2017-10-25T16:09:37.899610Z",
     "start_time": "2017-10-25T16:09:37.739004Z"
    }
   },
   "outputs": [
    {
     "name": "stdout",
     "output_type": "stream",
     "text": [
      "Couldn't find region for uni University of Luxembourg\n",
      "Couldn't find region for uni Lomonosov Moscow State University\n"
     ]
    }
   ],
   "source": [
    "cleaned = []\n",
    "region_not_found = []\n",
    "for uni in filter(lambda u: all(map(lambda sym: sym not in u['rank'], ('–', '+'))), data):\n",
    "    rank = uni['rank']\n",
    "    rank = np.int32(rank.lstrip('='))\n",
    "    if rank < 201:\n",
    "        clean_uni = highereducation_university_builder(uni)\n",
    "        clean_uni['rank'] = rank\n",
    "        # To add region to clean_uni, we use the regions from topuniversities\n",
    "        try:\n",
    "            clean_uni['region'] = topuniversities[topuniversities['country'] == clean_uni['country']]['region'].iloc[0]\n",
    "        except:\n",
    "            print(\"Couldn't find region for uni {}\".format(clean_uni['title']))\n",
    "            region_not_found.append(clean_uni)\n",
    "        cleaned.append(clean_uni)"
   ]
  },
  {
   "cell_type": "code",
   "execution_count": 85,
   "metadata": {
    "ExecuteTime": {
     "end_time": "2017-10-25T16:09:37.904943Z",
     "start_time": "2017-10-25T16:09:37.901303Z"
    },
    "collapsed": true
   },
   "outputs": [],
   "source": [
    "highereducation = pd.DataFrame(cleaned)"
   ]
  },
  {
   "cell_type": "markdown",
   "metadata": {},
   "source": [
    "We manually set the regions for the universities for which no region could be found. As there are only two of them, it is not a problem.\n",
    "\n",
    "Moscow is considered to be on the European continent (https://en.wikipedia.org/wiki/Moscow)\n",
    "Because of this we can use a loop to set the values"
   ]
  },
  {
   "cell_type": "code",
   "execution_count": 86,
   "metadata": {
    "ExecuteTime": {
     "end_time": "2017-10-25T16:09:37.924534Z",
     "start_time": "2017-10-25T16:09:37.906272Z"
    },
    "collapsed": true
   },
   "outputs": [],
   "source": [
    "for not_found in region_not_found: \n",
    "    loc = highereducation['title'] == not_found['title']\n",
    "    highereducation = highereducation.set_value(loc, 'region', 'Europe')"
   ]
  },
  {
   "cell_type": "code",
   "execution_count": 87,
   "metadata": {
    "ExecuteTime": {
     "end_time": "2017-10-25T16:09:37.943220Z",
     "start_time": "2017-10-25T16:09:37.927805Z"
    }
   },
   "outputs": [
    {
     "data": {
      "text/html": [
       "<div>\n",
       "<style>\n",
       "    .dataframe thead tr:only-child th {\n",
       "        text-align: right;\n",
       "    }\n",
       "\n",
       "    .dataframe thead th {\n",
       "        text-align: left;\n",
       "    }\n",
       "\n",
       "    .dataframe tbody tr th {\n",
       "        vertical-align: top;\n",
       "    }\n",
       "</style>\n",
       "<table border=\"1\" class=\"dataframe\">\n",
       "  <thead>\n",
       "    <tr style=\"text-align: right;\">\n",
       "      <th></th>\n",
       "      <th>country</th>\n",
       "      <th>rank</th>\n",
       "      <th>region</th>\n",
       "      <th>title</th>\n",
       "      <th>total faculty</th>\n",
       "      <th>total inter</th>\n",
       "      <th>total student</th>\n",
       "      <th>url</th>\n",
       "    </tr>\n",
       "  </thead>\n",
       "  <tbody>\n",
       "    <tr>\n",
       "      <th>0</th>\n",
       "      <td>United Kingdom</td>\n",
       "      <td>1</td>\n",
       "      <td>Europe</td>\n",
       "      <td>University of Oxford</td>\n",
       "      <td>1822.0</td>\n",
       "      <td>7755.0</td>\n",
       "      <td>20409</td>\n",
       "      <td>/world-university-rankings/university-oxford</td>\n",
       "    </tr>\n",
       "    <tr>\n",
       "      <th>1</th>\n",
       "      <td>United Kingdom</td>\n",
       "      <td>2</td>\n",
       "      <td>Europe</td>\n",
       "      <td>University of Cambridge</td>\n",
       "      <td>1687.0</td>\n",
       "      <td>6436.0</td>\n",
       "      <td>18389</td>\n",
       "      <td>/world-university-rankings/university-cambridge</td>\n",
       "    </tr>\n",
       "    <tr>\n",
       "      <th>2</th>\n",
       "      <td>United States</td>\n",
       "      <td>3</td>\n",
       "      <td>North America</td>\n",
       "      <td>California Institute of Technology</td>\n",
       "      <td>340.0</td>\n",
       "      <td>596.0</td>\n",
       "      <td>2209</td>\n",
       "      <td>/world-university-rankings/california-institut...</td>\n",
       "    </tr>\n",
       "    <tr>\n",
       "      <th>3</th>\n",
       "      <td>United States</td>\n",
       "      <td>3</td>\n",
       "      <td>North America</td>\n",
       "      <td>Stanford University</td>\n",
       "      <td>2113.0</td>\n",
       "      <td>3486.0</td>\n",
       "      <td>15845</td>\n",
       "      <td>/world-university-rankings/stanford-university</td>\n",
       "    </tr>\n",
       "    <tr>\n",
       "      <th>4</th>\n",
       "      <td>United States</td>\n",
       "      <td>5</td>\n",
       "      <td>North America</td>\n",
       "      <td>Massachusetts Institute of Technology</td>\n",
       "      <td>1285.0</td>\n",
       "      <td>3800.0</td>\n",
       "      <td>11177</td>\n",
       "      <td>/world-university-rankings/massachusetts-insti...</td>\n",
       "    </tr>\n",
       "    <tr>\n",
       "      <th>5</th>\n",
       "      <td>United States</td>\n",
       "      <td>6</td>\n",
       "      <td>North America</td>\n",
       "      <td>Harvard University</td>\n",
       "      <td>2284.0</td>\n",
       "      <td>5285.0</td>\n",
       "      <td>20326</td>\n",
       "      <td>/world-university-rankings/harvard-university</td>\n",
       "    </tr>\n",
       "    <tr>\n",
       "      <th>6</th>\n",
       "      <td>United States</td>\n",
       "      <td>7</td>\n",
       "      <td>North America</td>\n",
       "      <td>Princeton University</td>\n",
       "      <td>958.0</td>\n",
       "      <td>1909.0</td>\n",
       "      <td>7955</td>\n",
       "      <td>/world-university-rankings/princeton-university</td>\n",
       "    </tr>\n",
       "    <tr>\n",
       "      <th>7</th>\n",
       "      <td>United Kingdom</td>\n",
       "      <td>8</td>\n",
       "      <td>Europe</td>\n",
       "      <td>Imperial College London</td>\n",
       "      <td>1391.0</td>\n",
       "      <td>8721.0</td>\n",
       "      <td>15857</td>\n",
       "      <td>/world-university-rankings/imperial-college-lo...</td>\n",
       "    </tr>\n",
       "    <tr>\n",
       "      <th>8</th>\n",
       "      <td>United States</td>\n",
       "      <td>9</td>\n",
       "      <td>North America</td>\n",
       "      <td>University of Chicago</td>\n",
       "      <td>2181.0</td>\n",
       "      <td>3381.0</td>\n",
       "      <td>13525</td>\n",
       "      <td>/world-university-rankings/university-chicago</td>\n",
       "    </tr>\n",
       "    <tr>\n",
       "      <th>9</th>\n",
       "      <td>Switzerland</td>\n",
       "      <td>10</td>\n",
       "      <td>Europe</td>\n",
       "      <td>ETH Zurich – Swiss Federal Institute of Techno...</td>\n",
       "      <td>1317.0</td>\n",
       "      <td>7309.0</td>\n",
       "      <td>19233</td>\n",
       "      <td>/world-university-rankings/eth-zurich-swiss-fe...</td>\n",
       "    </tr>\n",
       "  </tbody>\n",
       "</table>\n",
       "</div>"
      ],
      "text/plain": [
       "          country  rank         region  \\\n",
       "0  United Kingdom     1         Europe   \n",
       "1  United Kingdom     2         Europe   \n",
       "2   United States     3  North America   \n",
       "3   United States     3  North America   \n",
       "4   United States     5  North America   \n",
       "5   United States     6  North America   \n",
       "6   United States     7  North America   \n",
       "7  United Kingdom     8         Europe   \n",
       "8   United States     9  North America   \n",
       "9     Switzerland    10         Europe   \n",
       "\n",
       "                                               title  total faculty  \\\n",
       "0                               University of Oxford         1822.0   \n",
       "1                            University of Cambridge         1687.0   \n",
       "2                 California Institute of Technology          340.0   \n",
       "3                                Stanford University         2113.0   \n",
       "4              Massachusetts Institute of Technology         1285.0   \n",
       "5                                 Harvard University         2284.0   \n",
       "6                               Princeton University          958.0   \n",
       "7                            Imperial College London         1391.0   \n",
       "8                              University of Chicago         2181.0   \n",
       "9  ETH Zurich – Swiss Federal Institute of Techno...         1317.0   \n",
       "\n",
       "   total inter  total student  \\\n",
       "0       7755.0          20409   \n",
       "1       6436.0          18389   \n",
       "2        596.0           2209   \n",
       "3       3486.0          15845   \n",
       "4       3800.0          11177   \n",
       "5       5285.0          20326   \n",
       "6       1909.0           7955   \n",
       "7       8721.0          15857   \n",
       "8       3381.0          13525   \n",
       "9       7309.0          19233   \n",
       "\n",
       "                                                 url  \n",
       "0       /world-university-rankings/university-oxford  \n",
       "1    /world-university-rankings/university-cambridge  \n",
       "2  /world-university-rankings/california-institut...  \n",
       "3     /world-university-rankings/stanford-university  \n",
       "4  /world-university-rankings/massachusetts-insti...  \n",
       "5      /world-university-rankings/harvard-university  \n",
       "6    /world-university-rankings/princeton-university  \n",
       "7  /world-university-rankings/imperial-college-lo...  \n",
       "8      /world-university-rankings/university-chicago  \n",
       "9  /world-university-rankings/eth-zurich-swiss-fe...  "
      ]
     },
     "execution_count": 87,
     "metadata": {},
     "output_type": "execute_result"
    }
   ],
   "source": [
    "highereducation.head(10)"
   ]
  },
  {
   "cell_type": "markdown",
   "metadata": {},
   "source": [
    "# Analysis of the university rankings"
   ]
  },
  {
   "cell_type": "markdown",
   "metadata": {},
   "source": [
    "In this section, we will answer the following questions for both of the university rankings:\n",
    "\n",
    "- Which are the best universities in term of: (a) ratio between faculty members and students, (b) ratio of international students?\n",
    "- Answer the previous question aggregating the data by (c) country and (d) region.\n"
   ]
  },
  {
   "cell_type": "markdown",
   "metadata": {
    "ExecuteTime": {
     "end_time": "2017-10-22T17:21:02.211243Z",
     "start_time": "2017-10-22T17:21:02.209399Z"
    }
   },
   "source": [
    "### Definition of usefull functions and tools for the analysis"
   ]
  },
  {
   "cell_type": "code",
   "execution_count": 88,
   "metadata": {
    "ExecuteTime": {
     "end_time": "2017-10-25T16:09:37.956079Z",
     "start_time": "2017-10-25T16:09:37.945253Z"
    }
   },
   "outputs": [
    {
     "name": "stdout",
     "output_type": "stream",
     "text": [
      "\u001b[1mHello World !\u001b[0m\n"
     ]
    }
   ],
   "source": [
    "# Spice up our print display\n",
    "# Taken from https://stackoverflow.com/questions/8924173/how-do-i-print-bold-text-in-python\n",
    "class color:\n",
    "   PURPLE = '\\033[95m'\n",
    "   CYAN = '\\033[96m'\n",
    "   DARKCYAN = '\\033[36m'\n",
    "   BLUE = '\\033[94m'\n",
    "   GREEN = '\\033[92m'\n",
    "   YELLOW = '\\033[93m'\n",
    "   RED = '\\033[91m'\n",
    "   BOLD = '\\033[1m'\n",
    "   UNDERLINE = '\\033[4m'\n",
    "   END = '\\033[0m'\n",
    "\n",
    "# Example:\n",
    "print(color.BOLD + 'Hello World !' + color.END)\n",
    "\n",
    "END_STR = color.END\n",
    "BU_STR  = color.BOLD+color.UNDERLINE"
   ]
  },
  {
   "cell_type": "code",
   "execution_count": 89,
   "metadata": {
    "ExecuteTime": {
     "end_time": "2017-10-25T16:09:37.964392Z",
     "start_time": "2017-10-25T16:09:37.957427Z"
    },
    "collapsed": true
   },
   "outputs": [],
   "source": [
    "# Lets define a useful order of columns that we find meaningful:\n",
    "TOP_UNI_BASE_COL = [\"rank\", \"country\", \"region\", \"title\"]\n",
    "FAC_STUD_RATIO_COL = [\"total faculty\", \"total student\", \"faculty student ratio\"]\n",
    "INTER_STUD_RATIO_COL = [\"total inter\", \"total student\", \"inter student ratio\"]"
   ]
  },
  {
   "cell_type": "markdown",
   "metadata": {},
   "source": [
    "** We define to usefull functions to do the sorting by ratio for us and print the results **"
   ]
  },
  {
   "cell_type": "code",
   "execution_count": 90,
   "metadata": {
    "ExecuteTime": {
     "end_time": "2017-10-25T16:09:38.005715Z",
     "start_time": "2017-10-25T16:09:37.965772Z"
    },
    "collapsed": true
   },
   "outputs": [],
   "source": [
    "def ratio_analysis_per_school(uni_df, nbest=10):\n",
    "    \"\"\"\n",
    "    This function takes a dataframe and will analyse the ratio of facutly\n",
    "    member to student as well as the ratio of internatioal students to students.\n",
    "    It will do so for each schools it contains\n",
    "    It will print the result in a nicely formatted way\n",
    "    \n",
    "    Keywords:\n",
    "    university_df -- DataFrame containing the university data\n",
    "    \"\"\"\n",
    "    uni_df[\"faculty student ratio\"] = uni_df[\"total faculty\"] / uni_df[\"total student\"]\n",
    "    uni_df[\"inter student ratio\"]   = uni_df[\"total inter\"] / uni_df[\"total student\"]\n",
    "\n",
    "    best_fac_stu = uni_df[['title', 'faculty student ratio']].sort_values(\"faculty student ratio\", ascending=False)\\\n",
    "                                                             .head(nbest)\n",
    "        \n",
    "    best_inter_stu = uni_df[['title', 'inter student ratio']].sort_values(\"inter student ratio\", ascending=False)\\\n",
    "                                                             .head(nbest)\n",
    "    \n",
    "    # In the display, only output meaningful information regarding to the filter at hand\n",
    "    print(BU_STR + \"Dataframe with ratios\" + END_STR)\n",
    "    display(uni_df.head(nbest))\n",
    "\n",
    "    print(BU_STR + \"Schools sorted by their faculty to student ratio\" + END_STR)\n",
    "    display(best_fac_stu)\n",
    "    \n",
    "    print(BU_STR + \"Schools sorted by their international student ratio\" + END_STR)\n",
    "    display(best_inter_stu)\n",
    "            \n",
    "    fig, (ax1, ax2) = plt.subplots(nrows=2, ncols=1, figsize=(15,20))\n",
    "    \n",
    "    best_fac_stu = best_fac_stu[::-1]\n",
    "    best_fac_stu.plot(kind='barh', ax=ax1)\n",
    "    ax1.set_yticklabels(best_fac_stu['title'], fontsize=15)\n",
    "    ax1.set_title('Top 10 universities by faculty/students ratio', fontsize=20)\n",
    "    \n",
    "    best_inter_stu = best_inter_stu[::-1]\n",
    "    best_inter_stu.plot(kind='barh', ax=ax2)\n",
    "    ax2.set_yticklabels(best_inter_stu['title'], fontsize=15)\n",
    "    ax2.set_title('Top 10 universities by international students ratio', fontsize=20)\n",
    "    \n",
    "    plt.show()"
   ]
  },
  {
   "cell_type": "code",
   "execution_count": 91,
   "metadata": {
    "ExecuteTime": {
     "end_time": "2017-10-25T16:09:38.049608Z",
     "start_time": "2017-10-25T16:09:38.007265Z"
    },
    "collapsed": true
   },
   "outputs": [],
   "source": [
    "def ratio_analysis_per_column(uni_df, column_name, nbest=10):\n",
    "    \"\"\"\n",
    "    This function takes a dataframe and will analyse the ratio of facutly\n",
    "    member to student as well as the ratio of international students to total students.\n",
    "    It will do so by aggregating the elements sharing the same value in the column_name column.\n",
    "    It will print the result in a nicely formatted way\n",
    "    \n",
    "    Keywords:\n",
    "    university_df -- DataFrame containing the university data\n",
    "    column_name   -- Name of the column for which the values of same-name entry will be aggregated\n",
    "    \"\"\"\n",
    "    \n",
    "    # The metodology used in this answer comes from: https://stackoverflow.com/questions/35307732/how-to-sum-in-pandas-by-unique-index-in-several-columns   \n",
    "    uni_df_country = uni_df.groupby(column_name)[\"total inter\", \"total student\", \"total faculty\"]\\\n",
    "                           .sum()\\\n",
    "                           .reset_index()\n",
    "    uni_df_country[\"faculty student ratio\"] = uni_df_country[\"total faculty\"] / uni_df_country[\"total student\"]\n",
    "    uni_df_country[\"inter student ratio\"]   = uni_df_country[\"total inter\"] / uni_df_country[\"total student\"]\n",
    "\n",
    "    fac_stud = uni_df_country[[column_name, 'faculty student ratio']]\\\n",
    "                             .sort_values(\"faculty student ratio\", ascending=False)\\\n",
    "                             .head(nbest)\n",
    "    \n",
    "    inter = uni_df_country[[column_name, 'inter student ratio']]\\\n",
    "                          .sort_values(\"inter student ratio\", ascending=False)\\\n",
    "                          .head(nbest)\n",
    "            \n",
    "    # Display the results            \n",
    "    print(BU_STR + \"Resulting dataframe sorted by {}\".format(column_name) + END_STR)\n",
    "    display(uni_df_country.head(nbest))\n",
    "    \n",
    "    print(BU_STR + \"{} sorted by their faculty to student ratio\".format(column_name) + END_STR)\n",
    "    display(fac_stud)\n",
    "\n",
    "    print(BU_STR + \"{} sorted by their international student ratio\".format(column_name) + END_STR)\n",
    "    display(inter)\n",
    "    \n",
    "    fig, (ax1, ax2) = plt.subplots(nrows=1, ncols=2, figsize=(20,10))\n",
    "    \n",
    "    fac_stud = fac_stud[::-1]\n",
    "    fac_stud['faculty student ratio'].plot(kind='barh', ax=ax1)\n",
    "    ax1.set_yticklabels(fac_stud[column_name], fontsize=15)\n",
    "    ax1.set_title('Faculty to student ratios', fontsize=20)\n",
    "    \n",
    "    inter = inter[::-1]\n",
    "    inter['inter student ratio'].plot(kind='barh', ax=ax2)\n",
    "    ax2.set_yticklabels(inter[column_name], fontsize=15)\n",
    "    ax2.set_title('International student ratios', fontsize=20)\n",
    "    plt.show()   "
   ]
  },
  {
   "cell_type": "markdown",
   "metadata": {
    "ExecuteTime": {
     "end_time": "2017-10-22T17:20:14.420060Z",
     "start_time": "2017-10-22T17:20:14.417831Z"
    }
   },
   "source": [
    "### Analysis of ratios for the website topuniversities.com"
   ]
  },
  {
   "cell_type": "code",
   "execution_count": 92,
   "metadata": {
    "ExecuteTime": {
     "end_time": "2017-10-25T16:09:38.537607Z",
     "start_time": "2017-10-25T16:09:38.050830Z"
    },
    "scrolled": false
   },
   "outputs": [
    {
     "name": "stdout",
     "output_type": "stream",
     "text": [
      "\u001b[1m\u001b[4m\u001b[94mAnalysis of faculty to student ratio and international student ratio per school\n",
      "\u001b[0m\n",
      "\u001b[1m\u001b[4mDataframe with ratios\u001b[0m\n"
     ]
    },
    {
     "data": {
      "text/html": [
       "<div>\n",
       "<style>\n",
       "    .dataframe thead tr:only-child th {\n",
       "        text-align: right;\n",
       "    }\n",
       "\n",
       "    .dataframe thead th {\n",
       "        text-align: left;\n",
       "    }\n",
       "\n",
       "    .dataframe tbody tr th {\n",
       "        vertical-align: top;\n",
       "    }\n",
       "</style>\n",
       "<table border=\"1\" class=\"dataframe\">\n",
       "  <thead>\n",
       "    <tr style=\"text-align: right;\">\n",
       "      <th></th>\n",
       "      <th>country</th>\n",
       "      <th>inter faculty</th>\n",
       "      <th>rank</th>\n",
       "      <th>region</th>\n",
       "      <th>title</th>\n",
       "      <th>total faculty</th>\n",
       "      <th>total inter</th>\n",
       "      <th>total student</th>\n",
       "      <th>url</th>\n",
       "      <th>faculty student ratio</th>\n",
       "      <th>inter student ratio</th>\n",
       "    </tr>\n",
       "  </thead>\n",
       "  <tbody>\n",
       "    <tr>\n",
       "      <th>0</th>\n",
       "      <td>United States</td>\n",
       "      <td>1679.0</td>\n",
       "      <td>1</td>\n",
       "      <td>North America</td>\n",
       "      <td>Massachusetts Institute of Technology (MIT)</td>\n",
       "      <td>2982.0</td>\n",
       "      <td>3717.0</td>\n",
       "      <td>11067.0</td>\n",
       "      <td>/universities/massachusetts-institute-technolo...</td>\n",
       "      <td>0.269450</td>\n",
       "      <td>0.335863</td>\n",
       "    </tr>\n",
       "    <tr>\n",
       "      <th>1</th>\n",
       "      <td>United States</td>\n",
       "      <td>2042.0</td>\n",
       "      <td>2</td>\n",
       "      <td>North America</td>\n",
       "      <td>Stanford University</td>\n",
       "      <td>4285.0</td>\n",
       "      <td>3611.0</td>\n",
       "      <td>15878.0</td>\n",
       "      <td>/universities/stanford-university</td>\n",
       "      <td>0.269870</td>\n",
       "      <td>0.227422</td>\n",
       "    </tr>\n",
       "    <tr>\n",
       "      <th>2</th>\n",
       "      <td>United States</td>\n",
       "      <td>1311.0</td>\n",
       "      <td>3</td>\n",
       "      <td>North America</td>\n",
       "      <td>Harvard University</td>\n",
       "      <td>4350.0</td>\n",
       "      <td>5266.0</td>\n",
       "      <td>22429.0</td>\n",
       "      <td>/universities/harvard-university</td>\n",
       "      <td>0.193945</td>\n",
       "      <td>0.234785</td>\n",
       "    </tr>\n",
       "    <tr>\n",
       "      <th>3</th>\n",
       "      <td>United States</td>\n",
       "      <td>350.0</td>\n",
       "      <td>4</td>\n",
       "      <td>North America</td>\n",
       "      <td>California Institute of Technology (Caltech)</td>\n",
       "      <td>953.0</td>\n",
       "      <td>647.0</td>\n",
       "      <td>2255.0</td>\n",
       "      <td>/universities/california-institute-technology-...</td>\n",
       "      <td>0.422616</td>\n",
       "      <td>0.286918</td>\n",
       "    </tr>\n",
       "    <tr>\n",
       "      <th>4</th>\n",
       "      <td>United Kingdom</td>\n",
       "      <td>2278.0</td>\n",
       "      <td>5</td>\n",
       "      <td>Europe</td>\n",
       "      <td>University of Cambridge</td>\n",
       "      <td>5490.0</td>\n",
       "      <td>6699.0</td>\n",
       "      <td>18770.0</td>\n",
       "      <td>/universities/university-cambridge</td>\n",
       "      <td>0.292488</td>\n",
       "      <td>0.356899</td>\n",
       "    </tr>\n",
       "    <tr>\n",
       "      <th>5</th>\n",
       "      <td>United Kingdom</td>\n",
       "      <td>2964.0</td>\n",
       "      <td>6</td>\n",
       "      <td>Europe</td>\n",
       "      <td>University of Oxford</td>\n",
       "      <td>6750.0</td>\n",
       "      <td>7353.0</td>\n",
       "      <td>19720.0</td>\n",
       "      <td>/universities/university-oxford</td>\n",
       "      <td>0.342292</td>\n",
       "      <td>0.372870</td>\n",
       "    </tr>\n",
       "    <tr>\n",
       "      <th>6</th>\n",
       "      <td>United Kingdom</td>\n",
       "      <td>2554.0</td>\n",
       "      <td>7</td>\n",
       "      <td>Europe</td>\n",
       "      <td>UCL (University College London)</td>\n",
       "      <td>6345.0</td>\n",
       "      <td>14854.0</td>\n",
       "      <td>31080.0</td>\n",
       "      <td>/universities/ucl-university-college-london</td>\n",
       "      <td>0.204151</td>\n",
       "      <td>0.477928</td>\n",
       "    </tr>\n",
       "    <tr>\n",
       "      <th>7</th>\n",
       "      <td>United Kingdom</td>\n",
       "      <td>2071.0</td>\n",
       "      <td>8</td>\n",
       "      <td>Europe</td>\n",
       "      <td>Imperial College London</td>\n",
       "      <td>3930.0</td>\n",
       "      <td>8746.0</td>\n",
       "      <td>16090.0</td>\n",
       "      <td>/universities/imperial-college-london</td>\n",
       "      <td>0.244251</td>\n",
       "      <td>0.543567</td>\n",
       "    </tr>\n",
       "    <tr>\n",
       "      <th>8</th>\n",
       "      <td>United States</td>\n",
       "      <td>635.0</td>\n",
       "      <td>9</td>\n",
       "      <td>North America</td>\n",
       "      <td>University of Chicago</td>\n",
       "      <td>2449.0</td>\n",
       "      <td>3379.0</td>\n",
       "      <td>13557.0</td>\n",
       "      <td>/universities/university-chicago</td>\n",
       "      <td>0.180645</td>\n",
       "      <td>0.249244</td>\n",
       "    </tr>\n",
       "    <tr>\n",
       "      <th>9</th>\n",
       "      <td>Switzerland</td>\n",
       "      <td>1886.0</td>\n",
       "      <td>10</td>\n",
       "      <td>Europe</td>\n",
       "      <td>ETH Zurich - Swiss Federal Institute of Techno...</td>\n",
       "      <td>2477.0</td>\n",
       "      <td>7563.0</td>\n",
       "      <td>19815.0</td>\n",
       "      <td>/universities/eth-zurich-swiss-federal-institu...</td>\n",
       "      <td>0.125006</td>\n",
       "      <td>0.381681</td>\n",
       "    </tr>\n",
       "  </tbody>\n",
       "</table>\n",
       "</div>"
      ],
      "text/plain": [
       "          country  inter faculty  rank         region  \\\n",
       "0   United States         1679.0     1  North America   \n",
       "1   United States         2042.0     2  North America   \n",
       "2   United States         1311.0     3  North America   \n",
       "3   United States          350.0     4  North America   \n",
       "4  United Kingdom         2278.0     5         Europe   \n",
       "5  United Kingdom         2964.0     6         Europe   \n",
       "6  United Kingdom         2554.0     7         Europe   \n",
       "7  United Kingdom         2071.0     8         Europe   \n",
       "8   United States          635.0     9  North America   \n",
       "9     Switzerland         1886.0    10         Europe   \n",
       "\n",
       "                                               title  total faculty  \\\n",
       "0        Massachusetts Institute of Technology (MIT)         2982.0   \n",
       "1                                Stanford University         4285.0   \n",
       "2                                 Harvard University         4350.0   \n",
       "3       California Institute of Technology (Caltech)          953.0   \n",
       "4                            University of Cambridge         5490.0   \n",
       "5                               University of Oxford         6750.0   \n",
       "6                    UCL (University College London)         6345.0   \n",
       "7                            Imperial College London         3930.0   \n",
       "8                              University of Chicago         2449.0   \n",
       "9  ETH Zurich - Swiss Federal Institute of Techno...         2477.0   \n",
       "\n",
       "   total inter  total student  \\\n",
       "0       3717.0        11067.0   \n",
       "1       3611.0        15878.0   \n",
       "2       5266.0        22429.0   \n",
       "3        647.0         2255.0   \n",
       "4       6699.0        18770.0   \n",
       "5       7353.0        19720.0   \n",
       "6      14854.0        31080.0   \n",
       "7       8746.0        16090.0   \n",
       "8       3379.0        13557.0   \n",
       "9       7563.0        19815.0   \n",
       "\n",
       "                                                 url  faculty student ratio  \\\n",
       "0  /universities/massachusetts-institute-technolo...               0.269450   \n",
       "1                  /universities/stanford-university               0.269870   \n",
       "2                   /universities/harvard-university               0.193945   \n",
       "3  /universities/california-institute-technology-...               0.422616   \n",
       "4                 /universities/university-cambridge               0.292488   \n",
       "5                    /universities/university-oxford               0.342292   \n",
       "6        /universities/ucl-university-college-london               0.204151   \n",
       "7              /universities/imperial-college-london               0.244251   \n",
       "8                   /universities/university-chicago               0.180645   \n",
       "9  /universities/eth-zurich-swiss-federal-institu...               0.125006   \n",
       "\n",
       "   inter student ratio  \n",
       "0             0.335863  \n",
       "1             0.227422  \n",
       "2             0.234785  \n",
       "3             0.286918  \n",
       "4             0.356899  \n",
       "5             0.372870  \n",
       "6             0.477928  \n",
       "7             0.543567  \n",
       "8             0.249244  \n",
       "9             0.381681  "
      ]
     },
     "metadata": {},
     "output_type": "display_data"
    },
    {
     "name": "stdout",
     "output_type": "stream",
     "text": [
      "\u001b[1m\u001b[4mSchools sorted by their faculty to student ratio\u001b[0m\n"
     ]
    },
    {
     "data": {
      "text/html": [
       "<div>\n",
       "<style>\n",
       "    .dataframe thead tr:only-child th {\n",
       "        text-align: right;\n",
       "    }\n",
       "\n",
       "    .dataframe thead th {\n",
       "        text-align: left;\n",
       "    }\n",
       "\n",
       "    .dataframe tbody tr th {\n",
       "        vertical-align: top;\n",
       "    }\n",
       "</style>\n",
       "<table border=\"1\" class=\"dataframe\">\n",
       "  <thead>\n",
       "    <tr style=\"text-align: right;\">\n",
       "      <th></th>\n",
       "      <th>title</th>\n",
       "      <th>faculty student ratio</th>\n",
       "    </tr>\n",
       "  </thead>\n",
       "  <tbody>\n",
       "    <tr>\n",
       "      <th>3</th>\n",
       "      <td>California Institute of Technology (Caltech)</td>\n",
       "      <td>0.422616</td>\n",
       "    </tr>\n",
       "    <tr>\n",
       "      <th>15</th>\n",
       "      <td>Yale University</td>\n",
       "      <td>0.398323</td>\n",
       "    </tr>\n",
       "    <tr>\n",
       "      <th>5</th>\n",
       "      <td>University of Oxford</td>\n",
       "      <td>0.342292</td>\n",
       "    </tr>\n",
       "    <tr>\n",
       "      <th>4</th>\n",
       "      <td>University of Cambridge</td>\n",
       "      <td>0.292488</td>\n",
       "    </tr>\n",
       "    <tr>\n",
       "      <th>16</th>\n",
       "      <td>Johns Hopkins University</td>\n",
       "      <td>0.276353</td>\n",
       "    </tr>\n",
       "    <tr>\n",
       "      <th>1</th>\n",
       "      <td>Stanford University</td>\n",
       "      <td>0.269870</td>\n",
       "    </tr>\n",
       "    <tr>\n",
       "      <th>0</th>\n",
       "      <td>Massachusetts Institute of Technology (MIT)</td>\n",
       "      <td>0.269450</td>\n",
       "    </tr>\n",
       "    <tr>\n",
       "      <th>185</th>\n",
       "      <td>University of Rochester</td>\n",
       "      <td>0.266604</td>\n",
       "    </tr>\n",
       "    <tr>\n",
       "      <th>18</th>\n",
       "      <td>University of Pennsylvania</td>\n",
       "      <td>0.266437</td>\n",
       "    </tr>\n",
       "    <tr>\n",
       "      <th>17</th>\n",
       "      <td>Columbia University</td>\n",
       "      <td>0.247115</td>\n",
       "    </tr>\n",
       "  </tbody>\n",
       "</table>\n",
       "</div>"
      ],
      "text/plain": [
       "                                            title  faculty student ratio\n",
       "3    California Institute of Technology (Caltech)               0.422616\n",
       "15                                Yale University               0.398323\n",
       "5                            University of Oxford               0.342292\n",
       "4                         University of Cambridge               0.292488\n",
       "16                       Johns Hopkins University               0.276353\n",
       "1                             Stanford University               0.269870\n",
       "0     Massachusetts Institute of Technology (MIT)               0.269450\n",
       "185                       University of Rochester               0.266604\n",
       "18                     University of Pennsylvania               0.266437\n",
       "17                            Columbia University               0.247115"
      ]
     },
     "metadata": {},
     "output_type": "display_data"
    },
    {
     "name": "stdout",
     "output_type": "stream",
     "text": [
      "\u001b[1m\u001b[4mSchools sorted by their international student ratio\u001b[0m\n"
     ]
    },
    {
     "data": {
      "text/html": [
       "<div>\n",
       "<style>\n",
       "    .dataframe thead tr:only-child th {\n",
       "        text-align: right;\n",
       "    }\n",
       "\n",
       "    .dataframe thead th {\n",
       "        text-align: left;\n",
       "    }\n",
       "\n",
       "    .dataframe tbody tr th {\n",
       "        vertical-align: top;\n",
       "    }\n",
       "</style>\n",
       "<table border=\"1\" class=\"dataframe\">\n",
       "  <thead>\n",
       "    <tr style=\"text-align: right;\">\n",
       "      <th></th>\n",
       "      <th>title</th>\n",
       "      <th>inter student ratio</th>\n",
       "    </tr>\n",
       "  </thead>\n",
       "  <tbody>\n",
       "    <tr>\n",
       "      <th>34</th>\n",
       "      <td>London School of Economics and Political Scien...</td>\n",
       "      <td>0.691393</td>\n",
       "    </tr>\n",
       "    <tr>\n",
       "      <th>11</th>\n",
       "      <td>Ecole Polytechnique Fédérale de Lausanne (EPFL)</td>\n",
       "      <td>0.570047</td>\n",
       "    </tr>\n",
       "    <tr>\n",
       "      <th>7</th>\n",
       "      <td>Imperial College London</td>\n",
       "      <td>0.543567</td>\n",
       "    </tr>\n",
       "    <tr>\n",
       "      <th>198</th>\n",
       "      <td>Maastricht University</td>\n",
       "      <td>0.502533</td>\n",
       "    </tr>\n",
       "    <tr>\n",
       "      <th>47</th>\n",
       "      <td>Carnegie Mellon University</td>\n",
       "      <td>0.478062</td>\n",
       "    </tr>\n",
       "    <tr>\n",
       "      <th>6</th>\n",
       "      <td>UCL (University College London)</td>\n",
       "      <td>0.477928</td>\n",
       "    </tr>\n",
       "    <tr>\n",
       "      <th>91</th>\n",
       "      <td>University of St Andrews</td>\n",
       "      <td>0.457955</td>\n",
       "    </tr>\n",
       "    <tr>\n",
       "      <th>41</th>\n",
       "      <td>The University of Melbourne</td>\n",
       "      <td>0.427434</td>\n",
       "    </tr>\n",
       "    <tr>\n",
       "      <th>126</th>\n",
       "      <td>Queen Mary University of London</td>\n",
       "      <td>0.421816</td>\n",
       "    </tr>\n",
       "    <tr>\n",
       "      <th>25</th>\n",
       "      <td>The University of Hong Kong</td>\n",
       "      <td>0.407144</td>\n",
       "    </tr>\n",
       "  </tbody>\n",
       "</table>\n",
       "</div>"
      ],
      "text/plain": [
       "                                                 title  inter student ratio\n",
       "34   London School of Economics and Political Scien...             0.691393\n",
       "11     Ecole Polytechnique Fédérale de Lausanne (EPFL)             0.570047\n",
       "7                              Imperial College London             0.543567\n",
       "198                              Maastricht University             0.502533\n",
       "47                          Carnegie Mellon University             0.478062\n",
       "6                      UCL (University College London)             0.477928\n",
       "91                            University of St Andrews             0.457955\n",
       "41                         The University of Melbourne             0.427434\n",
       "126                    Queen Mary University of London             0.421816\n",
       "25                         The University of Hong Kong             0.407144"
      ]
     },
     "metadata": {},
     "output_type": "display_data"
    },
    {
     "data": {
      "image/png": "[encoded data removed]",
      "text/plain": [
       "<matplotlib.figure.Figure at 0x7f027ccab6d8>"
      ]
     },
     "metadata": {},
     "output_type": "display_data"
    }
   ],
   "source": [
    "print(BU_STR + color.BLUE+\"Analysis of faculty to student ratio and international student ratio per school\\n\" + END_STR)\n",
    "ratio_analysis_per_school(topuniversities)"
   ]
  },
  {
   "cell_type": "markdown",
   "metadata": {},
   "source": [
    "We observe that Caltech, Yale and Oxford dominate according to the faculty/students ratio while for the proportion of international students we have different schools: LSE, EPFL and Imperial College are the best."
   ]
  },
  {
   "cell_type": "code",
   "execution_count": 93,
   "metadata": {
    "ExecuteTime": {
     "end_time": "2017-10-25T16:09:38.916508Z",
     "start_time": "2017-10-25T16:09:38.538857Z"
    }
   },
   "outputs": [
    {
     "name": "stdout",
     "output_type": "stream",
     "text": [
      "\u001b[1m\u001b[4m\u001b[94mAnalysis of faculty to student ratio and international student ratio per country\n",
      "\u001b[0m\n",
      "\u001b[1m\u001b[4mResulting dataframe sorted by country\u001b[0m\n"
     ]
    },
    {
     "data": {
      "text/html": [
       "<div>\n",
       "<style>\n",
       "    .dataframe thead tr:only-child th {\n",
       "        text-align: right;\n",
       "    }\n",
       "\n",
       "    .dataframe thead th {\n",
       "        text-align: left;\n",
       "    }\n",
       "\n",
       "    .dataframe tbody tr th {\n",
       "        vertical-align: top;\n",
       "    }\n",
       "</style>\n",
       "<table border=\"1\" class=\"dataframe\">\n",
       "  <thead>\n",
       "    <tr style=\"text-align: right;\">\n",
       "      <th></th>\n",
       "      <th>country</th>\n",
       "      <th>total inter</th>\n",
       "      <th>total student</th>\n",
       "      <th>total faculty</th>\n",
       "      <th>faculty student ratio</th>\n",
       "      <th>inter student ratio</th>\n",
       "    </tr>\n",
       "  </thead>\n",
       "  <tbody>\n",
       "    <tr>\n",
       "      <th>0</th>\n",
       "      <td>Argentina</td>\n",
       "      <td>27109.0</td>\n",
       "      <td>122301.0</td>\n",
       "      <td>16421.0</td>\n",
       "      <td>0.134267</td>\n",
       "      <td>0.221658</td>\n",
       "    </tr>\n",
       "    <tr>\n",
       "      <th>1</th>\n",
       "      <td>Australia</td>\n",
       "      <td>106359.0</td>\n",
       "      <td>301994.0</td>\n",
       "      <td>22034.0</td>\n",
       "      <td>0.072962</td>\n",
       "      <td>0.352189</td>\n",
       "    </tr>\n",
       "    <tr>\n",
       "      <th>2</th>\n",
       "      <td>Austria</td>\n",
       "      <td>19667.0</td>\n",
       "      <td>63446.0</td>\n",
       "      <td>4117.0</td>\n",
       "      <td>0.064890</td>\n",
       "      <td>0.309980</td>\n",
       "    </tr>\n",
       "    <tr>\n",
       "      <th>3</th>\n",
       "      <td>Belgium</td>\n",
       "      <td>17013.0</td>\n",
       "      <td>115067.0</td>\n",
       "      <td>8046.0</td>\n",
       "      <td>0.069924</td>\n",
       "      <td>0.147853</td>\n",
       "    </tr>\n",
       "    <tr>\n",
       "      <th>4</th>\n",
       "      <td>Brazil</td>\n",
       "      <td>3052.0</td>\n",
       "      <td>92283.0</td>\n",
       "      <td>7550.0</td>\n",
       "      <td>0.081814</td>\n",
       "      <td>0.033072</td>\n",
       "    </tr>\n",
       "    <tr>\n",
       "      <th>5</th>\n",
       "      <td>Canada</td>\n",
       "      <td>73239.0</td>\n",
       "      <td>281514.0</td>\n",
       "      <td>29317.0</td>\n",
       "      <td>0.104140</td>\n",
       "      <td>0.260161</td>\n",
       "    </tr>\n",
       "    <tr>\n",
       "      <th>6</th>\n",
       "      <td>Chile</td>\n",
       "      <td>991.0</td>\n",
       "      <td>27003.0</td>\n",
       "      <td>2260.0</td>\n",
       "      <td>0.083694</td>\n",
       "      <td>0.036700</td>\n",
       "    </tr>\n",
       "    <tr>\n",
       "      <th>7</th>\n",
       "      <td>China</td>\n",
       "      <td>26833.0</td>\n",
       "      <td>235898.0</td>\n",
       "      <td>27220.0</td>\n",
       "      <td>0.115389</td>\n",
       "      <td>0.113748</td>\n",
       "    </tr>\n",
       "    <tr>\n",
       "      <th>8</th>\n",
       "      <td>Denmark</td>\n",
       "      <td>9543.0</td>\n",
       "      <td>67223.0</td>\n",
       "      <td>11916.0</td>\n",
       "      <td>0.177261</td>\n",
       "      <td>0.141960</td>\n",
       "    </tr>\n",
       "    <tr>\n",
       "      <th>9</th>\n",
       "      <td>Finland</td>\n",
       "      <td>3065.0</td>\n",
       "      <td>34566.0</td>\n",
       "      <td>3902.0</td>\n",
       "      <td>0.112885</td>\n",
       "      <td>0.088671</td>\n",
       "    </tr>\n",
       "  </tbody>\n",
       "</table>\n",
       "</div>"
      ],
      "text/plain": [
       "     country  total inter  total student  total faculty  \\\n",
       "0  Argentina      27109.0       122301.0        16421.0   \n",
       "1  Australia     106359.0       301994.0        22034.0   \n",
       "2    Austria      19667.0        63446.0         4117.0   \n",
       "3    Belgium      17013.0       115067.0         8046.0   \n",
       "4     Brazil       3052.0        92283.0         7550.0   \n",
       "5     Canada      73239.0       281514.0        29317.0   \n",
       "6      Chile        991.0        27003.0         2260.0   \n",
       "7      China      26833.0       235898.0        27220.0   \n",
       "8    Denmark       9543.0        67223.0        11916.0   \n",
       "9    Finland       3065.0        34566.0         3902.0   \n",
       "\n",
       "   faculty student ratio  inter student ratio  \n",
       "0               0.134267             0.221658  \n",
       "1               0.072962             0.352189  \n",
       "2               0.064890             0.309980  \n",
       "3               0.069924             0.147853  \n",
       "4               0.081814             0.033072  \n",
       "5               0.104140             0.260161  \n",
       "6               0.083694             0.036700  \n",
       "7               0.115389             0.113748  \n",
       "8               0.177261             0.141960  \n",
       "9               0.112885             0.088671  "
      ]
     },
     "metadata": {},
     "output_type": "display_data"
    },
    {
     "name": "stdout",
     "output_type": "stream",
     "text": [
      "\u001b[1m\u001b[4mcountry sorted by their faculty to student ratio\u001b[0m\n"
     ]
    },
    {
     "data": {
      "text/html": [
       "<div>\n",
       "<style>\n",
       "    .dataframe thead tr:only-child th {\n",
       "        text-align: right;\n",
       "    }\n",
       "\n",
       "    .dataframe thead th {\n",
       "        text-align: left;\n",
       "    }\n",
       "\n",
       "    .dataframe tbody tr th {\n",
       "        vertical-align: top;\n",
       "    }\n",
       "</style>\n",
       "<table border=\"1\" class=\"dataframe\">\n",
       "  <thead>\n",
       "    <tr style=\"text-align: right;\">\n",
       "      <th></th>\n",
       "      <th>country</th>\n",
       "      <th>faculty student ratio</th>\n",
       "    </tr>\n",
       "  </thead>\n",
       "  <tbody>\n",
       "    <tr>\n",
       "      <th>23</th>\n",
       "      <td>Russia</td>\n",
       "      <td>0.221910</td>\n",
       "    </tr>\n",
       "    <tr>\n",
       "      <th>8</th>\n",
       "      <td>Denmark</td>\n",
       "      <td>0.177261</td>\n",
       "    </tr>\n",
       "    <tr>\n",
       "      <th>24</th>\n",
       "      <td>Saudi Arabia</td>\n",
       "      <td>0.175828</td>\n",
       "    </tr>\n",
       "    <tr>\n",
       "      <th>25</th>\n",
       "      <td>Singapore</td>\n",
       "      <td>0.161530</td>\n",
       "    </tr>\n",
       "    <tr>\n",
       "      <th>18</th>\n",
       "      <td>Malaysia</td>\n",
       "      <td>0.153893</td>\n",
       "    </tr>\n",
       "    <tr>\n",
       "      <th>17</th>\n",
       "      <td>Japan</td>\n",
       "      <td>0.152479</td>\n",
       "    </tr>\n",
       "    <tr>\n",
       "      <th>27</th>\n",
       "      <td>South Korea</td>\n",
       "      <td>0.141721</td>\n",
       "    </tr>\n",
       "    <tr>\n",
       "      <th>30</th>\n",
       "      <td>Switzerland</td>\n",
       "      <td>0.140434</td>\n",
       "    </tr>\n",
       "    <tr>\n",
       "      <th>32</th>\n",
       "      <td>United Kingdom</td>\n",
       "      <td>0.136962</td>\n",
       "    </tr>\n",
       "    <tr>\n",
       "      <th>15</th>\n",
       "      <td>Israel</td>\n",
       "      <td>0.136047</td>\n",
       "    </tr>\n",
       "  </tbody>\n",
       "</table>\n",
       "</div>"
      ],
      "text/plain": [
       "           country  faculty student ratio\n",
       "23          Russia               0.221910\n",
       "8          Denmark               0.177261\n",
       "24    Saudi Arabia               0.175828\n",
       "25       Singapore               0.161530\n",
       "18        Malaysia               0.153893\n",
       "17           Japan               0.152479\n",
       "27     South Korea               0.141721\n",
       "30     Switzerland               0.140434\n",
       "32  United Kingdom               0.136962\n",
       "15          Israel               0.136047"
      ]
     },
     "metadata": {},
     "output_type": "display_data"
    },
    {
     "name": "stdout",
     "output_type": "stream",
     "text": [
      "\u001b[1m\u001b[4mcountry sorted by their international student ratio\u001b[0m\n"
     ]
    },
    {
     "data": {
      "text/html": [
       "<div>\n",
       "<style>\n",
       "    .dataframe thead tr:only-child th {\n",
       "        text-align: right;\n",
       "    }\n",
       "\n",
       "    .dataframe thead th {\n",
       "        text-align: left;\n",
       "    }\n",
       "\n",
       "    .dataframe tbody tr th {\n",
       "        vertical-align: top;\n",
       "    }\n",
       "</style>\n",
       "<table border=\"1\" class=\"dataframe\">\n",
       "  <thead>\n",
       "    <tr style=\"text-align: right;\">\n",
       "      <th></th>\n",
       "      <th>country</th>\n",
       "      <th>inter student ratio</th>\n",
       "    </tr>\n",
       "  </thead>\n",
       "  <tbody>\n",
       "    <tr>\n",
       "      <th>1</th>\n",
       "      <td>Australia</td>\n",
       "      <td>0.352189</td>\n",
       "    </tr>\n",
       "    <tr>\n",
       "      <th>32</th>\n",
       "      <td>United Kingdom</td>\n",
       "      <td>0.341705</td>\n",
       "    </tr>\n",
       "    <tr>\n",
       "      <th>12</th>\n",
       "      <td>Hong Kong</td>\n",
       "      <td>0.310751</td>\n",
       "    </tr>\n",
       "    <tr>\n",
       "      <th>2</th>\n",
       "      <td>Austria</td>\n",
       "      <td>0.309980</td>\n",
       "    </tr>\n",
       "    <tr>\n",
       "      <th>30</th>\n",
       "      <td>Switzerland</td>\n",
       "      <td>0.302396</td>\n",
       "    </tr>\n",
       "    <tr>\n",
       "      <th>25</th>\n",
       "      <td>Singapore</td>\n",
       "      <td>0.276537</td>\n",
       "    </tr>\n",
       "    <tr>\n",
       "      <th>5</th>\n",
       "      <td>Canada</td>\n",
       "      <td>0.260161</td>\n",
       "    </tr>\n",
       "    <tr>\n",
       "      <th>21</th>\n",
       "      <td>New Zealand</td>\n",
       "      <td>0.258215</td>\n",
       "    </tr>\n",
       "    <tr>\n",
       "      <th>14</th>\n",
       "      <td>Ireland</td>\n",
       "      <td>0.235299</td>\n",
       "    </tr>\n",
       "    <tr>\n",
       "      <th>20</th>\n",
       "      <td>Netherlands</td>\n",
       "      <td>0.232980</td>\n",
       "    </tr>\n",
       "  </tbody>\n",
       "</table>\n",
       "</div>"
      ],
      "text/plain": [
       "           country  inter student ratio\n",
       "1        Australia             0.352189\n",
       "32  United Kingdom             0.341705\n",
       "12       Hong Kong             0.310751\n",
       "2          Austria             0.309980\n",
       "30     Switzerland             0.302396\n",
       "25       Singapore             0.276537\n",
       "5           Canada             0.260161\n",
       "21     New Zealand             0.258215\n",
       "14         Ireland             0.235299\n",
       "20     Netherlands             0.232980"
      ]
     },
     "metadata": {},
     "output_type": "display_data"
    },
    {
     "data": {
      "image/png": "[encoded data removed]",
      "text/plain": [
       "<matplotlib.figure.Figure at 0x7f027cd770b8>"
      ]
     },
     "metadata": {},
     "output_type": "display_data"
    }
   ],
   "source": [
    "print(BU_STR+color.BLUE+\"Analysis of faculty to student ratio and international student ratio per country\\n\"+END_STR)\n",
    "ratio_analysis_per_column(topuniversities, \"country\")"
   ]
  },
  {
   "cell_type": "markdown",
   "metadata": {},
   "source": [
    "This time we aggregated the data by country and some surprises occur: Russia, Denmark and Saudia Arabia have the highest ratios of faculty/students. The highest ratios of international students are found in Australia and in the UK."
   ]
  },
  {
   "cell_type": "code",
   "execution_count": 94,
   "metadata": {
    "ExecuteTime": {
     "end_time": "2017-10-25T16:09:39.216503Z",
     "start_time": "2017-10-25T16:09:38.917622Z"
    }
   },
   "outputs": [
    {
     "name": "stdout",
     "output_type": "stream",
     "text": [
      "\u001b[1m\u001b[4m\u001b[94mAnalysis of faculty to student ratio and international student ratio per region\n",
      "\u001b[0m\n",
      "\u001b[1m\u001b[4mResulting dataframe sorted by region\u001b[0m\n"
     ]
    },
    {
     "data": {
      "text/html": [
       "<div>\n",
       "<style>\n",
       "    .dataframe thead tr:only-child th {\n",
       "        text-align: right;\n",
       "    }\n",
       "\n",
       "    .dataframe thead th {\n",
       "        text-align: left;\n",
       "    }\n",
       "\n",
       "    .dataframe tbody tr th {\n",
       "        vertical-align: top;\n",
       "    }\n",
       "</style>\n",
       "<table border=\"1\" class=\"dataframe\">\n",
       "  <thead>\n",
       "    <tr style=\"text-align: right;\">\n",
       "      <th></th>\n",
       "      <th>region</th>\n",
       "      <th>total inter</th>\n",
       "      <th>total student</th>\n",
       "      <th>total faculty</th>\n",
       "      <th>faculty student ratio</th>\n",
       "      <th>inter student ratio</th>\n",
       "    </tr>\n",
       "  </thead>\n",
       "  <tbody>\n",
       "    <tr>\n",
       "      <th>0</th>\n",
       "      <td>Africa</td>\n",
       "      <td>3325.0</td>\n",
       "      <td>19593.0</td>\n",
       "      <td>1733.0</td>\n",
       "      <td>0.088450</td>\n",
       "      <td>0.169703</td>\n",
       "    </tr>\n",
       "    <tr>\n",
       "      <th>1</th>\n",
       "      <td>Asia</td>\n",
       "      <td>110100.0</td>\n",
       "      <td>807003.0</td>\n",
       "      <td>106734.0</td>\n",
       "      <td>0.132260</td>\n",
       "      <td>0.136431</td>\n",
       "    </tr>\n",
       "    <tr>\n",
       "      <th>2</th>\n",
       "      <td>Europe</td>\n",
       "      <td>449364.0</td>\n",
       "      <td>1957251.0</td>\n",
       "      <td>218358.0</td>\n",
       "      <td>0.111564</td>\n",
       "      <td>0.229589</td>\n",
       "    </tr>\n",
       "    <tr>\n",
       "      <th>3</th>\n",
       "      <td>Latin America</td>\n",
       "      <td>34737.0</td>\n",
       "      <td>396902.0</td>\n",
       "      <td>43126.0</td>\n",
       "      <td>0.108657</td>\n",
       "      <td>0.087520</td>\n",
       "    </tr>\n",
       "    <tr>\n",
       "      <th>4</th>\n",
       "      <td>North America</td>\n",
       "      <td>292116.0</td>\n",
       "      <td>1546353.0</td>\n",
       "      <td>182123.0</td>\n",
       "      <td>0.117776</td>\n",
       "      <td>0.188906</td>\n",
       "    </tr>\n",
       "    <tr>\n",
       "      <th>5</th>\n",
       "      <td>Oceania</td>\n",
       "      <td>118798.0</td>\n",
       "      <td>350167.0</td>\n",
       "      <td>25347.0</td>\n",
       "      <td>0.072385</td>\n",
       "      <td>0.339261</td>\n",
       "    </tr>\n",
       "  </tbody>\n",
       "</table>\n",
       "</div>"
      ],
      "text/plain": [
       "          region  total inter  total student  total faculty  \\\n",
       "0         Africa       3325.0        19593.0         1733.0   \n",
       "1           Asia     110100.0       807003.0       106734.0   \n",
       "2         Europe     449364.0      1957251.0       218358.0   \n",
       "3  Latin America      34737.0       396902.0        43126.0   \n",
       "4  North America     292116.0      1546353.0       182123.0   \n",
       "5        Oceania     118798.0       350167.0        25347.0   \n",
       "\n",
       "   faculty student ratio  inter student ratio  \n",
       "0               0.088450             0.169703  \n",
       "1               0.132260             0.136431  \n",
       "2               0.111564             0.229589  \n",
       "3               0.108657             0.087520  \n",
       "4               0.117776             0.188906  \n",
       "5               0.072385             0.339261  "
      ]
     },
     "metadata": {},
     "output_type": "display_data"
    },
    {
     "name": "stdout",
     "output_type": "stream",
     "text": [
      "\u001b[1m\u001b[4mregion sorted by their faculty to student ratio\u001b[0m\n"
     ]
    },
    {
     "data": {
      "text/html": [
       "<div>\n",
       "<style>\n",
       "    .dataframe thead tr:only-child th {\n",
       "        text-align: right;\n",
       "    }\n",
       "\n",
       "    .dataframe thead th {\n",
       "        text-align: left;\n",
       "    }\n",
       "\n",
       "    .dataframe tbody tr th {\n",
       "        vertical-align: top;\n",
       "    }\n",
       "</style>\n",
       "<table border=\"1\" class=\"dataframe\">\n",
       "  <thead>\n",
       "    <tr style=\"text-align: right;\">\n",
       "      <th></th>\n",
       "      <th>region</th>\n",
       "      <th>faculty student ratio</th>\n",
       "    </tr>\n",
       "  </thead>\n",
       "  <tbody>\n",
       "    <tr>\n",
       "      <th>1</th>\n",
       "      <td>Asia</td>\n",
       "      <td>0.132260</td>\n",
       "    </tr>\n",
       "    <tr>\n",
       "      <th>4</th>\n",
       "      <td>North America</td>\n",
       "      <td>0.117776</td>\n",
       "    </tr>\n",
       "    <tr>\n",
       "      <th>2</th>\n",
       "      <td>Europe</td>\n",
       "      <td>0.111564</td>\n",
       "    </tr>\n",
       "    <tr>\n",
       "      <th>3</th>\n",
       "      <td>Latin America</td>\n",
       "      <td>0.108657</td>\n",
       "    </tr>\n",
       "    <tr>\n",
       "      <th>0</th>\n",
       "      <td>Africa</td>\n",
       "      <td>0.088450</td>\n",
       "    </tr>\n",
       "    <tr>\n",
       "      <th>5</th>\n",
       "      <td>Oceania</td>\n",
       "      <td>0.072385</td>\n",
       "    </tr>\n",
       "  </tbody>\n",
       "</table>\n",
       "</div>"
      ],
      "text/plain": [
       "          region  faculty student ratio\n",
       "1           Asia               0.132260\n",
       "4  North America               0.117776\n",
       "2         Europe               0.111564\n",
       "3  Latin America               0.108657\n",
       "0         Africa               0.088450\n",
       "5        Oceania               0.072385"
      ]
     },
     "metadata": {},
     "output_type": "display_data"
    },
    {
     "name": "stdout",
     "output_type": "stream",
     "text": [
      "\u001b[1m\u001b[4mregion sorted by their international student ratio\u001b[0m\n"
     ]
    },
    {
     "data": {
      "text/html": [
       "<div>\n",
       "<style>\n",
       "    .dataframe thead tr:only-child th {\n",
       "        text-align: right;\n",
       "    }\n",
       "\n",
       "    .dataframe thead th {\n",
       "        text-align: left;\n",
       "    }\n",
       "\n",
       "    .dataframe tbody tr th {\n",
       "        vertical-align: top;\n",
       "    }\n",
       "</style>\n",
       "<table border=\"1\" class=\"dataframe\">\n",
       "  <thead>\n",
       "    <tr style=\"text-align: right;\">\n",
       "      <th></th>\n",
       "      <th>region</th>\n",
       "      <th>inter student ratio</th>\n",
       "    </tr>\n",
       "  </thead>\n",
       "  <tbody>\n",
       "    <tr>\n",
       "      <th>5</th>\n",
       "      <td>Oceania</td>\n",
       "      <td>0.339261</td>\n",
       "    </tr>\n",
       "    <tr>\n",
       "      <th>2</th>\n",
       "      <td>Europe</td>\n",
       "      <td>0.229589</td>\n",
       "    </tr>\n",
       "    <tr>\n",
       "      <th>4</th>\n",
       "      <td>North America</td>\n",
       "      <td>0.188906</td>\n",
       "    </tr>\n",
       "    <tr>\n",
       "      <th>0</th>\n",
       "      <td>Africa</td>\n",
       "      <td>0.169703</td>\n",
       "    </tr>\n",
       "    <tr>\n",
       "      <th>1</th>\n",
       "      <td>Asia</td>\n",
       "      <td>0.136431</td>\n",
       "    </tr>\n",
       "    <tr>\n",
       "      <th>3</th>\n",
       "      <td>Latin America</td>\n",
       "      <td>0.087520</td>\n",
       "    </tr>\n",
       "  </tbody>\n",
       "</table>\n",
       "</div>"
      ],
      "text/plain": [
       "          region  inter student ratio\n",
       "5        Oceania             0.339261\n",
       "2         Europe             0.229589\n",
       "4  North America             0.188906\n",
       "0         Africa             0.169703\n",
       "1           Asia             0.136431\n",
       "3  Latin America             0.087520"
      ]
     },
     "metadata": {},
     "output_type": "display_data"
    },
    {
     "data": {
      "image/png": "[encoded data removed]",
      "text/plain": [
       "<matplotlib.figure.Figure at 0x7f027c741470>"
      ]
     },
     "metadata": {},
     "output_type": "display_data"
    }
   ],
   "source": [
    "print(BU_STR+color.BLUE+\"Analysis of faculty to student ratio and international student ratio per region\\n\"+END_STR)\n",
    "ratio_analysis_per_column(topuniversities, \"region\")"
   ]
  },
  {
   "cell_type": "markdown",
   "metadata": {},
   "source": [
    "Zooming out once more, we look at continents, remarking that Asia and North America have the highest ratios of faculty/students while Oceania dominates with its ratio of international students."
   ]
  },
  {
   "cell_type": "markdown",
   "metadata": {
    "ExecuteTime": {
     "end_time": "2017-10-22T17:20:14.420060Z",
     "start_time": "2017-10-22T17:20:14.417831Z"
    }
   },
   "source": [
    "### Analysis of ratios for the website timeshighereducation.com"
   ]
  },
  {
   "cell_type": "code",
   "execution_count": 95,
   "metadata": {
    "ExecuteTime": {
     "end_time": "2017-10-25T16:09:39.658277Z",
     "start_time": "2017-10-25T16:09:39.217685Z"
    },
    "scrolled": false
   },
   "outputs": [
    {
     "name": "stdout",
     "output_type": "stream",
     "text": [
      "\u001b[1m\u001b[4m\u001b[94mAnalysis of faculty to student ratio and international student ratio per school\n",
      "\u001b[0m\n",
      "\u001b[1m\u001b[4mDataframe with ratios\u001b[0m\n"
     ]
    },
    {
     "data": {
      "text/html": [
       "<div>\n",
       "<style>\n",
       "    .dataframe thead tr:only-child th {\n",
       "        text-align: right;\n",
       "    }\n",
       "\n",
       "    .dataframe thead th {\n",
       "        text-align: left;\n",
       "    }\n",
       "\n",
       "    .dataframe tbody tr th {\n",
       "        vertical-align: top;\n",
       "    }\n",
       "</style>\n",
       "<table border=\"1\" class=\"dataframe\">\n",
       "  <thead>\n",
       "    <tr style=\"text-align: right;\">\n",
       "      <th></th>\n",
       "      <th>country</th>\n",
       "      <th>rank</th>\n",
       "      <th>region</th>\n",
       "      <th>title</th>\n",
       "      <th>total faculty</th>\n",
       "      <th>total inter</th>\n",
       "      <th>total student</th>\n",
       "      <th>url</th>\n",
       "      <th>faculty student ratio</th>\n",
       "      <th>inter student ratio</th>\n",
       "    </tr>\n",
       "  </thead>\n",
       "  <tbody>\n",
       "    <tr>\n",
       "      <th>0</th>\n",
       "      <td>United Kingdom</td>\n",
       "      <td>1</td>\n",
       "      <td>Europe</td>\n",
       "      <td>University of Oxford</td>\n",
       "      <td>1822.0</td>\n",
       "      <td>7755.0</td>\n",
       "      <td>20409</td>\n",
       "      <td>/world-university-rankings/university-oxford</td>\n",
       "      <td>0.089274</td>\n",
       "      <td>0.379979</td>\n",
       "    </tr>\n",
       "    <tr>\n",
       "      <th>1</th>\n",
       "      <td>United Kingdom</td>\n",
       "      <td>2</td>\n",
       "      <td>Europe</td>\n",
       "      <td>University of Cambridge</td>\n",
       "      <td>1687.0</td>\n",
       "      <td>6436.0</td>\n",
       "      <td>18389</td>\n",
       "      <td>/world-university-rankings/university-cambridge</td>\n",
       "      <td>0.091740</td>\n",
       "      <td>0.349992</td>\n",
       "    </tr>\n",
       "    <tr>\n",
       "      <th>2</th>\n",
       "      <td>United States</td>\n",
       "      <td>3</td>\n",
       "      <td>North America</td>\n",
       "      <td>California Institute of Technology</td>\n",
       "      <td>340.0</td>\n",
       "      <td>596.0</td>\n",
       "      <td>2209</td>\n",
       "      <td>/world-university-rankings/california-institut...</td>\n",
       "      <td>0.153916</td>\n",
       "      <td>0.269805</td>\n",
       "    </tr>\n",
       "    <tr>\n",
       "      <th>3</th>\n",
       "      <td>United States</td>\n",
       "      <td>3</td>\n",
       "      <td>North America</td>\n",
       "      <td>Stanford University</td>\n",
       "      <td>2113.0</td>\n",
       "      <td>3486.0</td>\n",
       "      <td>15845</td>\n",
       "      <td>/world-university-rankings/stanford-university</td>\n",
       "      <td>0.133354</td>\n",
       "      <td>0.220006</td>\n",
       "    </tr>\n",
       "    <tr>\n",
       "      <th>4</th>\n",
       "      <td>United States</td>\n",
       "      <td>5</td>\n",
       "      <td>North America</td>\n",
       "      <td>Massachusetts Institute of Technology</td>\n",
       "      <td>1285.0</td>\n",
       "      <td>3800.0</td>\n",
       "      <td>11177</td>\n",
       "      <td>/world-university-rankings/massachusetts-insti...</td>\n",
       "      <td>0.114968</td>\n",
       "      <td>0.339984</td>\n",
       "    </tr>\n",
       "    <tr>\n",
       "      <th>5</th>\n",
       "      <td>United States</td>\n",
       "      <td>6</td>\n",
       "      <td>North America</td>\n",
       "      <td>Harvard University</td>\n",
       "      <td>2284.0</td>\n",
       "      <td>5285.0</td>\n",
       "      <td>20326</td>\n",
       "      <td>/world-university-rankings/harvard-university</td>\n",
       "      <td>0.112368</td>\n",
       "      <td>0.260012</td>\n",
       "    </tr>\n",
       "    <tr>\n",
       "      <th>6</th>\n",
       "      <td>United States</td>\n",
       "      <td>7</td>\n",
       "      <td>North America</td>\n",
       "      <td>Princeton University</td>\n",
       "      <td>958.0</td>\n",
       "      <td>1909.0</td>\n",
       "      <td>7955</td>\n",
       "      <td>/world-university-rankings/princeton-university</td>\n",
       "      <td>0.120427</td>\n",
       "      <td>0.239975</td>\n",
       "    </tr>\n",
       "    <tr>\n",
       "      <th>7</th>\n",
       "      <td>United Kingdom</td>\n",
       "      <td>8</td>\n",
       "      <td>Europe</td>\n",
       "      <td>Imperial College London</td>\n",
       "      <td>1391.0</td>\n",
       "      <td>8721.0</td>\n",
       "      <td>15857</td>\n",
       "      <td>/world-university-rankings/imperial-college-lo...</td>\n",
       "      <td>0.087722</td>\n",
       "      <td>0.549978</td>\n",
       "    </tr>\n",
       "    <tr>\n",
       "      <th>8</th>\n",
       "      <td>United States</td>\n",
       "      <td>9</td>\n",
       "      <td>North America</td>\n",
       "      <td>University of Chicago</td>\n",
       "      <td>2181.0</td>\n",
       "      <td>3381.0</td>\n",
       "      <td>13525</td>\n",
       "      <td>/world-university-rankings/university-chicago</td>\n",
       "      <td>0.161257</td>\n",
       "      <td>0.249982</td>\n",
       "    </tr>\n",
       "    <tr>\n",
       "      <th>9</th>\n",
       "      <td>Switzerland</td>\n",
       "      <td>10</td>\n",
       "      <td>Europe</td>\n",
       "      <td>ETH Zurich – Swiss Federal Institute of Techno...</td>\n",
       "      <td>1317.0</td>\n",
       "      <td>7309.0</td>\n",
       "      <td>19233</td>\n",
       "      <td>/world-university-rankings/eth-zurich-swiss-fe...</td>\n",
       "      <td>0.068476</td>\n",
       "      <td>0.380024</td>\n",
       "    </tr>\n",
       "  </tbody>\n",
       "</table>\n",
       "</div>"
      ],
      "text/plain": [
       "          country  rank         region  \\\n",
       "0  United Kingdom     1         Europe   \n",
       "1  United Kingdom     2         Europe   \n",
       "2   United States     3  North America   \n",
       "3   United States     3  North America   \n",
       "4   United States     5  North America   \n",
       "5   United States     6  North America   \n",
       "6   United States     7  North America   \n",
       "7  United Kingdom     8         Europe   \n",
       "8   United States     9  North America   \n",
       "9     Switzerland    10         Europe   \n",
       "\n",
       "                                               title  total faculty  \\\n",
       "0                               University of Oxford         1822.0   \n",
       "1                            University of Cambridge         1687.0   \n",
       "2                 California Institute of Technology          340.0   \n",
       "3                                Stanford University         2113.0   \n",
       "4              Massachusetts Institute of Technology         1285.0   \n",
       "5                                 Harvard University         2284.0   \n",
       "6                               Princeton University          958.0   \n",
       "7                            Imperial College London         1391.0   \n",
       "8                              University of Chicago         2181.0   \n",
       "9  ETH Zurich – Swiss Federal Institute of Techno...         1317.0   \n",
       "\n",
       "   total inter  total student  \\\n",
       "0       7755.0          20409   \n",
       "1       6436.0          18389   \n",
       "2        596.0           2209   \n",
       "3       3486.0          15845   \n",
       "4       3800.0          11177   \n",
       "5       5285.0          20326   \n",
       "6       1909.0           7955   \n",
       "7       8721.0          15857   \n",
       "8       3381.0          13525   \n",
       "9       7309.0          19233   \n",
       "\n",
       "                                                 url  faculty student ratio  \\\n",
       "0       /world-university-rankings/university-oxford               0.089274   \n",
       "1    /world-university-rankings/university-cambridge               0.091740   \n",
       "2  /world-university-rankings/california-institut...               0.153916   \n",
       "3     /world-university-rankings/stanford-university               0.133354   \n",
       "4  /world-university-rankings/massachusetts-insti...               0.114968   \n",
       "5      /world-university-rankings/harvard-university               0.112368   \n",
       "6    /world-university-rankings/princeton-university               0.120427   \n",
       "7  /world-university-rankings/imperial-college-lo...               0.087722   \n",
       "8      /world-university-rankings/university-chicago               0.161257   \n",
       "9  /world-university-rankings/eth-zurich-swiss-fe...               0.068476   \n",
       "\n",
       "   inter student ratio  \n",
       "0             0.379979  \n",
       "1             0.349992  \n",
       "2             0.269805  \n",
       "3             0.220006  \n",
       "4             0.339984  \n",
       "5             0.260012  \n",
       "6             0.239975  \n",
       "7             0.549978  \n",
       "8             0.249982  \n",
       "9             0.380024  "
      ]
     },
     "metadata": {},
     "output_type": "display_data"
    },
    {
     "name": "stdout",
     "output_type": "stream",
     "text": [
      "\u001b[1m\u001b[4mSchools sorted by their faculty to student ratio\u001b[0m\n"
     ]
    },
    {
     "data": {
      "text/html": [
       "<div>\n",
       "<style>\n",
       "    .dataframe thead tr:only-child th {\n",
       "        text-align: right;\n",
       "    }\n",
       "\n",
       "    .dataframe thead th {\n",
       "        text-align: left;\n",
       "    }\n",
       "\n",
       "    .dataframe tbody tr th {\n",
       "        vertical-align: top;\n",
       "    }\n",
       "</style>\n",
       "<table border=\"1\" class=\"dataframe\">\n",
       "  <thead>\n",
       "    <tr style=\"text-align: right;\">\n",
       "      <th></th>\n",
       "      <th>title</th>\n",
       "      <th>faculty student ratio</th>\n",
       "    </tr>\n",
       "  </thead>\n",
       "  <tbody>\n",
       "    <tr>\n",
       "      <th>105</th>\n",
       "      <td>Vanderbilt University</td>\n",
       "      <td>0.303056</td>\n",
       "    </tr>\n",
       "    <tr>\n",
       "      <th>109</th>\n",
       "      <td>University of Copenhagen</td>\n",
       "      <td>0.243889</td>\n",
       "    </tr>\n",
       "    <tr>\n",
       "      <th>11</th>\n",
       "      <td>Yale University</td>\n",
       "      <td>0.232579</td>\n",
       "    </tr>\n",
       "    <tr>\n",
       "      <th>153</th>\n",
       "      <td>University of Rochester</td>\n",
       "      <td>0.232565</td>\n",
       "    </tr>\n",
       "    <tr>\n",
       "      <th>12</th>\n",
       "      <td>Johns Hopkins University</td>\n",
       "      <td>0.232546</td>\n",
       "    </tr>\n",
       "    <tr>\n",
       "      <th>97</th>\n",
       "      <td>Emory University</td>\n",
       "      <td>0.227291</td>\n",
       "    </tr>\n",
       "    <tr>\n",
       "      <th>16</th>\n",
       "      <td>Duke University</td>\n",
       "      <td>0.222208</td>\n",
       "    </tr>\n",
       "    <tr>\n",
       "      <th>114</th>\n",
       "      <td>École Polytechnique</td>\n",
       "      <td>0.196141</td>\n",
       "    </tr>\n",
       "    <tr>\n",
       "      <th>183</th>\n",
       "      <td>Scuola Normale Superiore di Pisa</td>\n",
       "      <td>0.192233</td>\n",
       "    </tr>\n",
       "    <tr>\n",
       "      <th>101</th>\n",
       "      <td>University of Pittsburgh</td>\n",
       "      <td>0.169492</td>\n",
       "    </tr>\n",
       "  </tbody>\n",
       "</table>\n",
       "</div>"
      ],
      "text/plain": [
       "                                title  faculty student ratio\n",
       "105             Vanderbilt University               0.303056\n",
       "109          University of Copenhagen               0.243889\n",
       "11                    Yale University               0.232579\n",
       "153           University of Rochester               0.232565\n",
       "12           Johns Hopkins University               0.232546\n",
       "97                   Emory University               0.227291\n",
       "16                    Duke University               0.222208\n",
       "114               École Polytechnique               0.196141\n",
       "183  Scuola Normale Superiore di Pisa               0.192233\n",
       "101          University of Pittsburgh               0.169492"
      ]
     },
     "metadata": {},
     "output_type": "display_data"
    },
    {
     "name": "stdout",
     "output_type": "stream",
     "text": [
      "\u001b[1m\u001b[4mSchools sorted by their international student ratio\u001b[0m\n"
     ]
    },
    {
     "data": {
      "text/html": [
       "<div>\n",
       "<style>\n",
       "    .dataframe thead tr:only-child th {\n",
       "        text-align: right;\n",
       "    }\n",
       "\n",
       "    .dataframe thead th {\n",
       "        text-align: left;\n",
       "    }\n",
       "\n",
       "    .dataframe tbody tr th {\n",
       "        vertical-align: top;\n",
       "    }\n",
       "</style>\n",
       "<table border=\"1\" class=\"dataframe\">\n",
       "  <thead>\n",
       "    <tr style=\"text-align: right;\">\n",
       "      <th></th>\n",
       "      <th>title</th>\n",
       "      <th>inter student ratio</th>\n",
       "    </tr>\n",
       "  </thead>\n",
       "  <tbody>\n",
       "    <tr>\n",
       "      <th>24</th>\n",
       "      <td>London School of Economics and Political Science</td>\n",
       "      <td>0.709985</td>\n",
       "    </tr>\n",
       "    <tr>\n",
       "      <th>178</th>\n",
       "      <td>University of Luxembourg</td>\n",
       "      <td>0.569934</td>\n",
       "    </tr>\n",
       "    <tr>\n",
       "      <th>7</th>\n",
       "      <td>Imperial College London</td>\n",
       "      <td>0.549978</td>\n",
       "    </tr>\n",
       "    <tr>\n",
       "      <th>37</th>\n",
       "      <td>École Polytechnique Fédérale de Lausanne</td>\n",
       "      <td>0.549960</td>\n",
       "    </tr>\n",
       "    <tr>\n",
       "      <th>102</th>\n",
       "      <td>Maastricht University</td>\n",
       "      <td>0.500030</td>\n",
       "    </tr>\n",
       "    <tr>\n",
       "      <th>15</th>\n",
       "      <td>University College London</td>\n",
       "      <td>0.490001</td>\n",
       "    </tr>\n",
       "    <tr>\n",
       "      <th>143</th>\n",
       "      <td>University of St Andrews</td>\n",
       "      <td>0.479956</td>\n",
       "    </tr>\n",
       "    <tr>\n",
       "      <th>23</th>\n",
       "      <td>Carnegie Mellon University</td>\n",
       "      <td>0.449984</td>\n",
       "    </tr>\n",
       "    <tr>\n",
       "      <th>120</th>\n",
       "      <td>Queen Mary University of London</td>\n",
       "      <td>0.449984</td>\n",
       "    </tr>\n",
       "    <tr>\n",
       "      <th>39</th>\n",
       "      <td>University of Hong Kong</td>\n",
       "      <td>0.420007</td>\n",
       "    </tr>\n",
       "  </tbody>\n",
       "</table>\n",
       "</div>"
      ],
      "text/plain": [
       "                                                title  inter student ratio\n",
       "24   London School of Economics and Political Science             0.709985\n",
       "178                          University of Luxembourg             0.569934\n",
       "7                             Imperial College London             0.549978\n",
       "37           École Polytechnique Fédérale de Lausanne             0.549960\n",
       "102                             Maastricht University             0.500030\n",
       "15                          University College London             0.490001\n",
       "143                          University of St Andrews             0.479956\n",
       "23                         Carnegie Mellon University             0.449984\n",
       "120                   Queen Mary University of London             0.449984\n",
       "39                            University of Hong Kong             0.420007"
      ]
     },
     "metadata": {},
     "output_type": "display_data"
    },
    {
     "data": {
      "image/png": "[encoded data removed]",
      "text/plain": [
       "<matplotlib.figure.Figure at 0x7f027c7e2e80>"
      ]
     },
     "metadata": {},
     "output_type": "display_data"
    }
   ],
   "source": [
    "print(BU_STR+color.BLUE+\"Analysis of faculty to student ratio and international student ratio per school\\n\"+END_STR)\n",
    "ratio_analysis_per_school(highereducation)"
   ]
  },
  {
   "cell_type": "markdown",
   "metadata": {},
   "source": [
    "The data obtained from this second website provides us with slightly different conclusions Vanderbuilt University and the University of Copenhagen are the best in terms of faculty to student ratio while LSE and the University of Luxembourg score the highest in proportion of international students."
   ]
  },
  {
   "cell_type": "code",
   "execution_count": 96,
   "metadata": {
    "ExecuteTime": {
     "end_time": "2017-10-25T16:09:40.004701Z",
     "start_time": "2017-10-25T16:09:39.659683Z"
    }
   },
   "outputs": [
    {
     "name": "stdout",
     "output_type": "stream",
     "text": [
      "\u001b[1m\u001b[4m\u001b[94mAnalysis of faculty to student ratio and international student ratio per country\n",
      "\u001b[0m\n",
      "\u001b[1m\u001b[4mResulting dataframe sorted by country\u001b[0m\n"
     ]
    },
    {
     "data": {
      "text/html": [
       "<div>\n",
       "<style>\n",
       "    .dataframe thead tr:only-child th {\n",
       "        text-align: right;\n",
       "    }\n",
       "\n",
       "    .dataframe thead th {\n",
       "        text-align: left;\n",
       "    }\n",
       "\n",
       "    .dataframe tbody tr th {\n",
       "        vertical-align: top;\n",
       "    }\n",
       "</style>\n",
       "<table border=\"1\" class=\"dataframe\">\n",
       "  <thead>\n",
       "    <tr style=\"text-align: right;\">\n",
       "      <th></th>\n",
       "      <th>country</th>\n",
       "      <th>total inter</th>\n",
       "      <th>total student</th>\n",
       "      <th>total faculty</th>\n",
       "      <th>faculty student ratio</th>\n",
       "      <th>inter student ratio</th>\n",
       "    </tr>\n",
       "  </thead>\n",
       "  <tbody>\n",
       "    <tr>\n",
       "      <th>0</th>\n",
       "      <td>Australia</td>\n",
       "      <td>83812.0</td>\n",
       "      <td>268630</td>\n",
       "      <td>9940.0</td>\n",
       "      <td>0.037003</td>\n",
       "      <td>0.311998</td>\n",
       "    </tr>\n",
       "    <tr>\n",
       "      <th>1</th>\n",
       "      <td>Austria</td>\n",
       "      <td>9198.0</td>\n",
       "      <td>35375</td>\n",
       "      <td>1701.0</td>\n",
       "      <td>0.048085</td>\n",
       "      <td>0.260014</td>\n",
       "    </tr>\n",
       "    <tr>\n",
       "      <th>2</th>\n",
       "      <td>Belgium</td>\n",
       "      <td>23769.0</td>\n",
       "      <td>130115</td>\n",
       "      <td>3428.0</td>\n",
       "      <td>0.026346</td>\n",
       "      <td>0.182677</td>\n",
       "    </tr>\n",
       "    <tr>\n",
       "      <th>3</th>\n",
       "      <td>Canada</td>\n",
       "      <td>55906.0</td>\n",
       "      <td>249401</td>\n",
       "      <td>13240.0</td>\n",
       "      <td>0.053087</td>\n",
       "      <td>0.224161</td>\n",
       "    </tr>\n",
       "    <tr>\n",
       "      <th>4</th>\n",
       "      <td>China</td>\n",
       "      <td>22883.0</td>\n",
       "      <td>253911</td>\n",
       "      <td>21390.0</td>\n",
       "      <td>0.084242</td>\n",
       "      <td>0.090122</td>\n",
       "    </tr>\n",
       "    <tr>\n",
       "      <th>5</th>\n",
       "      <td>Denmark</td>\n",
       "      <td>9327.0</td>\n",
       "      <td>64110</td>\n",
       "      <td>10598.0</td>\n",
       "      <td>0.165310</td>\n",
       "      <td>0.145484</td>\n",
       "    </tr>\n",
       "    <tr>\n",
       "      <th>6</th>\n",
       "      <td>Finland</td>\n",
       "      <td>3901.0</td>\n",
       "      <td>35276</td>\n",
       "      <td>2022.0</td>\n",
       "      <td>0.057319</td>\n",
       "      <td>0.110585</td>\n",
       "    </tr>\n",
       "    <tr>\n",
       "      <th>7</th>\n",
       "      <td>France</td>\n",
       "      <td>18975.0</td>\n",
       "      <td>99378</td>\n",
       "      <td>7437.0</td>\n",
       "      <td>0.074835</td>\n",
       "      <td>0.190938</td>\n",
       "    </tr>\n",
       "    <tr>\n",
       "      <th>8</th>\n",
       "      <td>Germany</td>\n",
       "      <td>87490.0</td>\n",
       "      <td>586364</td>\n",
       "      <td>15355.0</td>\n",
       "      <td>0.026187</td>\n",
       "      <td>0.149208</td>\n",
       "    </tr>\n",
       "    <tr>\n",
       "      <th>9</th>\n",
       "      <td>Hong Kong</td>\n",
       "      <td>25158.0</td>\n",
       "      <td>77663</td>\n",
       "      <td>4141.0</td>\n",
       "      <td>0.053320</td>\n",
       "      <td>0.323938</td>\n",
       "    </tr>\n",
       "  </tbody>\n",
       "</table>\n",
       "</div>"
      ],
      "text/plain": [
       "     country  total inter  total student  total faculty  \\\n",
       "0  Australia      83812.0         268630         9940.0   \n",
       "1    Austria       9198.0          35375         1701.0   \n",
       "2    Belgium      23769.0         130115         3428.0   \n",
       "3     Canada      55906.0         249401        13240.0   \n",
       "4      China      22883.0         253911        21390.0   \n",
       "5    Denmark       9327.0          64110        10598.0   \n",
       "6    Finland       3901.0          35276         2022.0   \n",
       "7     France      18975.0          99378         7437.0   \n",
       "8    Germany      87490.0         586364        15355.0   \n",
       "9  Hong Kong      25158.0          77663         4141.0   \n",
       "\n",
       "   faculty student ratio  inter student ratio  \n",
       "0               0.037003             0.311998  \n",
       "1               0.048085             0.260014  \n",
       "2               0.026346             0.182677  \n",
       "3               0.053087             0.224161  \n",
       "4               0.084242             0.090122  \n",
       "5               0.165310             0.145484  \n",
       "6               0.057319             0.110585  \n",
       "7               0.074835             0.190938  \n",
       "8               0.026187             0.149208  \n",
       "9               0.053320             0.323938  "
      ]
     },
     "metadata": {},
     "output_type": "display_data"
    },
    {
     "name": "stdout",
     "output_type": "stream",
     "text": [
      "\u001b[1m\u001b[4mcountry sorted by their faculty to student ratio\u001b[0m\n"
     ]
    },
    {
     "data": {
      "text/html": [
       "<div>\n",
       "<style>\n",
       "    .dataframe thead tr:only-child th {\n",
       "        text-align: right;\n",
       "    }\n",
       "\n",
       "    .dataframe thead th {\n",
       "        text-align: left;\n",
       "    }\n",
       "\n",
       "    .dataframe tbody tr th {\n",
       "        vertical-align: top;\n",
       "    }\n",
       "</style>\n",
       "<table border=\"1\" class=\"dataframe\">\n",
       "  <thead>\n",
       "    <tr style=\"text-align: right;\">\n",
       "      <th></th>\n",
       "      <th>country</th>\n",
       "      <th>faculty student ratio</th>\n",
       "    </tr>\n",
       "  </thead>\n",
       "  <tbody>\n",
       "    <tr>\n",
       "      <th>5</th>\n",
       "      <td>Denmark</td>\n",
       "      <td>0.165310</td>\n",
       "    </tr>\n",
       "    <tr>\n",
       "      <th>17</th>\n",
       "      <td>Russian Federation</td>\n",
       "      <td>0.136989</td>\n",
       "    </tr>\n",
       "    <tr>\n",
       "      <th>12</th>\n",
       "      <td>Japan</td>\n",
       "      <td>0.133351</td>\n",
       "    </tr>\n",
       "    <tr>\n",
       "      <th>11</th>\n",
       "      <td>Italy</td>\n",
       "      <td>0.131120</td>\n",
       "    </tr>\n",
       "    <tr>\n",
       "      <th>23</th>\n",
       "      <td>Switzerland</td>\n",
       "      <td>0.093174</td>\n",
       "    </tr>\n",
       "    <tr>\n",
       "      <th>26</th>\n",
       "      <td>United States</td>\n",
       "      <td>0.089329</td>\n",
       "    </tr>\n",
       "    <tr>\n",
       "      <th>24</th>\n",
       "      <td>Taiwan</td>\n",
       "      <td>0.086970</td>\n",
       "    </tr>\n",
       "    <tr>\n",
       "      <th>19</th>\n",
       "      <td>South Africa</td>\n",
       "      <td>0.085487</td>\n",
       "    </tr>\n",
       "    <tr>\n",
       "      <th>4</th>\n",
       "      <td>China</td>\n",
       "      <td>0.084242</td>\n",
       "    </tr>\n",
       "    <tr>\n",
       "      <th>7</th>\n",
       "      <td>France</td>\n",
       "      <td>0.074835</td>\n",
       "    </tr>\n",
       "  </tbody>\n",
       "</table>\n",
       "</div>"
      ],
      "text/plain": [
       "               country  faculty student ratio\n",
       "5              Denmark               0.165310\n",
       "17  Russian Federation               0.136989\n",
       "12               Japan               0.133351\n",
       "11               Italy               0.131120\n",
       "23         Switzerland               0.093174\n",
       "26       United States               0.089329\n",
       "24              Taiwan               0.086970\n",
       "19        South Africa               0.085487\n",
       "4                China               0.084242\n",
       "7               France               0.074835"
      ]
     },
     "metadata": {},
     "output_type": "display_data"
    },
    {
     "name": "stdout",
     "output_type": "stream",
     "text": [
      "\u001b[1m\u001b[4mcountry sorted by their international student ratio\u001b[0m\n"
     ]
    },
    {
     "data": {
      "text/html": [
       "<div>\n",
       "<style>\n",
       "    .dataframe thead tr:only-child th {\n",
       "        text-align: right;\n",
       "    }\n",
       "\n",
       "    .dataframe thead th {\n",
       "        text-align: left;\n",
       "    }\n",
       "\n",
       "    .dataframe tbody tr th {\n",
       "        vertical-align: top;\n",
       "    }\n",
       "</style>\n",
       "<table border=\"1\" class=\"dataframe\">\n",
       "  <thead>\n",
       "    <tr style=\"text-align: right;\">\n",
       "      <th></th>\n",
       "      <th>country</th>\n",
       "      <th>inter student ratio</th>\n",
       "    </tr>\n",
       "  </thead>\n",
       "  <tbody>\n",
       "    <tr>\n",
       "      <th>13</th>\n",
       "      <td>Luxembourg</td>\n",
       "      <td>0.569934</td>\n",
       "    </tr>\n",
       "    <tr>\n",
       "      <th>25</th>\n",
       "      <td>United Kingdom</td>\n",
       "      <td>0.357211</td>\n",
       "    </tr>\n",
       "    <tr>\n",
       "      <th>9</th>\n",
       "      <td>Hong Kong</td>\n",
       "      <td>0.323938</td>\n",
       "    </tr>\n",
       "    <tr>\n",
       "      <th>0</th>\n",
       "      <td>Australia</td>\n",
       "      <td>0.311998</td>\n",
       "    </tr>\n",
       "    <tr>\n",
       "      <th>18</th>\n",
       "      <td>Singapore</td>\n",
       "      <td>0.304558</td>\n",
       "    </tr>\n",
       "    <tr>\n",
       "      <th>23</th>\n",
       "      <td>Switzerland</td>\n",
       "      <td>0.303620</td>\n",
       "    </tr>\n",
       "    <tr>\n",
       "      <th>15</th>\n",
       "      <td>New Zealand</td>\n",
       "      <td>0.290003</td>\n",
       "    </tr>\n",
       "    <tr>\n",
       "      <th>10</th>\n",
       "      <td>Ireland</td>\n",
       "      <td>0.269976</td>\n",
       "    </tr>\n",
       "    <tr>\n",
       "      <th>1</th>\n",
       "      <td>Austria</td>\n",
       "      <td>0.260014</td>\n",
       "    </tr>\n",
       "    <tr>\n",
       "      <th>3</th>\n",
       "      <td>Canada</td>\n",
       "      <td>0.224161</td>\n",
       "    </tr>\n",
       "  </tbody>\n",
       "</table>\n",
       "</div>"
      ],
      "text/plain": [
       "           country  inter student ratio\n",
       "13      Luxembourg             0.569934\n",
       "25  United Kingdom             0.357211\n",
       "9        Hong Kong             0.323938\n",
       "0        Australia             0.311998\n",
       "18       Singapore             0.304558\n",
       "23     Switzerland             0.303620\n",
       "15     New Zealand             0.290003\n",
       "10         Ireland             0.269976\n",
       "1          Austria             0.260014\n",
       "3           Canada             0.224161"
      ]
     },
     "metadata": {},
     "output_type": "display_data"
    },
    {
     "data": {
      "image/png": "[encoded data removed]",
      "text/plain": [
       "<matplotlib.figure.Figure at 0x7f027ca6e320>"
      ]
     },
     "metadata": {},
     "output_type": "display_data"
    }
   ],
   "source": [
    "print(BU_STR+color.BLUE+\"Analysis of faculty to student ratio and international student ratio per country\\n\"+END_STR)\n",
    "ratio_analysis_per_column(highereducation, \"country\")"
   ]
  },
  {
   "cell_type": "markdown",
   "metadata": {},
   "source": [
    "Comparing countrywise, the top three are very similar to the ranking obtained from the data of the previous website."
   ]
  },
  {
   "cell_type": "code",
   "execution_count": 97,
   "metadata": {
    "ExecuteTime": {
     "end_time": "2017-10-25T16:09:40.359054Z",
     "start_time": "2017-10-25T16:09:40.005940Z"
    },
    "scrolled": false
   },
   "outputs": [
    {
     "name": "stdout",
     "output_type": "stream",
     "text": [
      "\u001b[1m\u001b[4m\u001b[94mAnalysis of faculty to student ratio and international student ratio per region\n",
      "\u001b[0m\n",
      "\u001b[1m\u001b[4mResulting dataframe sorted by region\u001b[0m\n"
     ]
    },
    {
     "data": {
      "text/html": [
       "<div>\n",
       "<style>\n",
       "    .dataframe thead tr:only-child th {\n",
       "        text-align: right;\n",
       "    }\n",
       "\n",
       "    .dataframe thead th {\n",
       "        text-align: left;\n",
       "    }\n",
       "\n",
       "    .dataframe tbody tr th {\n",
       "        vertical-align: top;\n",
       "    }\n",
       "</style>\n",
       "<table border=\"1\" class=\"dataframe\">\n",
       "  <thead>\n",
       "    <tr style=\"text-align: right;\">\n",
       "      <th></th>\n",
       "      <th>region</th>\n",
       "      <th>total inter</th>\n",
       "      <th>total student</th>\n",
       "      <th>total faculty</th>\n",
       "      <th>faculty student ratio</th>\n",
       "      <th>inter student ratio</th>\n",
       "    </tr>\n",
       "  </thead>\n",
       "  <tbody>\n",
       "    <tr>\n",
       "      <th>0</th>\n",
       "      <td>Africa</td>\n",
       "      <td>3740.0</td>\n",
       "      <td>20775</td>\n",
       "      <td>1776.0</td>\n",
       "      <td>0.085487</td>\n",
       "      <td>0.180024</td>\n",
       "    </tr>\n",
       "    <tr>\n",
       "      <th>1</th>\n",
       "      <td>Asia</td>\n",
       "      <td>78839.0</td>\n",
       "      <td>530949</td>\n",
       "      <td>42636.0</td>\n",
       "      <td>0.080301</td>\n",
       "      <td>0.148487</td>\n",
       "    </tr>\n",
       "    <tr>\n",
       "      <th>2</th>\n",
       "      <td>Europe</td>\n",
       "      <td>481576.0</td>\n",
       "      <td>2143623</td>\n",
       "      <td>126864.0</td>\n",
       "      <td>0.059182</td>\n",
       "      <td>0.224655</td>\n",
       "    </tr>\n",
       "    <tr>\n",
       "      <th>3</th>\n",
       "      <td>North America</td>\n",
       "      <td>336271.0</td>\n",
       "      <td>1954934</td>\n",
       "      <td>165594.0</td>\n",
       "      <td>0.084706</td>\n",
       "      <td>0.172011</td>\n",
       "    </tr>\n",
       "    <tr>\n",
       "      <th>4</th>\n",
       "      <td>Oceania</td>\n",
       "      <td>92613.0</td>\n",
       "      <td>298978</td>\n",
       "      <td>11554.0</td>\n",
       "      <td>0.038645</td>\n",
       "      <td>0.309765</td>\n",
       "    </tr>\n",
       "  </tbody>\n",
       "</table>\n",
       "</div>"
      ],
      "text/plain": [
       "          region  total inter  total student  total faculty  \\\n",
       "0         Africa       3740.0          20775         1776.0   \n",
       "1           Asia      78839.0         530949        42636.0   \n",
       "2         Europe     481576.0        2143623       126864.0   \n",
       "3  North America     336271.0        1954934       165594.0   \n",
       "4        Oceania      92613.0         298978        11554.0   \n",
       "\n",
       "   faculty student ratio  inter student ratio  \n",
       "0               0.085487             0.180024  \n",
       "1               0.080301             0.148487  \n",
       "2               0.059182             0.224655  \n",
       "3               0.084706             0.172011  \n",
       "4               0.038645             0.309765  "
      ]
     },
     "metadata": {},
     "output_type": "display_data"
    },
    {
     "name": "stdout",
     "output_type": "stream",
     "text": [
      "\u001b[1m\u001b[4mregion sorted by their faculty to student ratio\u001b[0m\n"
     ]
    },
    {
     "data": {
      "text/html": [
       "<div>\n",
       "<style>\n",
       "    .dataframe thead tr:only-child th {\n",
       "        text-align: right;\n",
       "    }\n",
       "\n",
       "    .dataframe thead th {\n",
       "        text-align: left;\n",
       "    }\n",
       "\n",
       "    .dataframe tbody tr th {\n",
       "        vertical-align: top;\n",
       "    }\n",
       "</style>\n",
       "<table border=\"1\" class=\"dataframe\">\n",
       "  <thead>\n",
       "    <tr style=\"text-align: right;\">\n",
       "      <th></th>\n",
       "      <th>region</th>\n",
       "      <th>faculty student ratio</th>\n",
       "    </tr>\n",
       "  </thead>\n",
       "  <tbody>\n",
       "    <tr>\n",
       "      <th>0</th>\n",
       "      <td>Africa</td>\n",
       "      <td>0.085487</td>\n",
       "    </tr>\n",
       "    <tr>\n",
       "      <th>3</th>\n",
       "      <td>North America</td>\n",
       "      <td>0.084706</td>\n",
       "    </tr>\n",
       "    <tr>\n",
       "      <th>1</th>\n",
       "      <td>Asia</td>\n",
       "      <td>0.080301</td>\n",
       "    </tr>\n",
       "    <tr>\n",
       "      <th>2</th>\n",
       "      <td>Europe</td>\n",
       "      <td>0.059182</td>\n",
       "    </tr>\n",
       "    <tr>\n",
       "      <th>4</th>\n",
       "      <td>Oceania</td>\n",
       "      <td>0.038645</td>\n",
       "    </tr>\n",
       "  </tbody>\n",
       "</table>\n",
       "</div>"
      ],
      "text/plain": [
       "          region  faculty student ratio\n",
       "0         Africa               0.085487\n",
       "3  North America               0.084706\n",
       "1           Asia               0.080301\n",
       "2         Europe               0.059182\n",
       "4        Oceania               0.038645"
      ]
     },
     "metadata": {},
     "output_type": "display_data"
    },
    {
     "name": "stdout",
     "output_type": "stream",
     "text": [
      "\u001b[1m\u001b[4mregion sorted by their international student ratio\u001b[0m\n"
     ]
    },
    {
     "data": {
      "text/html": [
       "<div>\n",
       "<style>\n",
       "    .dataframe thead tr:only-child th {\n",
       "        text-align: right;\n",
       "    }\n",
       "\n",
       "    .dataframe thead th {\n",
       "        text-align: left;\n",
       "    }\n",
       "\n",
       "    .dataframe tbody tr th {\n",
       "        vertical-align: top;\n",
       "    }\n",
       "</style>\n",
       "<table border=\"1\" class=\"dataframe\">\n",
       "  <thead>\n",
       "    <tr style=\"text-align: right;\">\n",
       "      <th></th>\n",
       "      <th>region</th>\n",
       "      <th>inter student ratio</th>\n",
       "    </tr>\n",
       "  </thead>\n",
       "  <tbody>\n",
       "    <tr>\n",
       "      <th>4</th>\n",
       "      <td>Oceania</td>\n",
       "      <td>0.309765</td>\n",
       "    </tr>\n",
       "    <tr>\n",
       "      <th>2</th>\n",
       "      <td>Europe</td>\n",
       "      <td>0.224655</td>\n",
       "    </tr>\n",
       "    <tr>\n",
       "      <th>0</th>\n",
       "      <td>Africa</td>\n",
       "      <td>0.180024</td>\n",
       "    </tr>\n",
       "    <tr>\n",
       "      <th>3</th>\n",
       "      <td>North America</td>\n",
       "      <td>0.172011</td>\n",
       "    </tr>\n",
       "    <tr>\n",
       "      <th>1</th>\n",
       "      <td>Asia</td>\n",
       "      <td>0.148487</td>\n",
       "    </tr>\n",
       "  </tbody>\n",
       "</table>\n",
       "</div>"
      ],
      "text/plain": [
       "          region  inter student ratio\n",
       "4        Oceania             0.309765\n",
       "2         Europe             0.224655\n",
       "0         Africa             0.180024\n",
       "3  North America             0.172011\n",
       "1           Asia             0.148487"
      ]
     },
     "metadata": {},
     "output_type": "display_data"
    },
    {
     "data": {
      "image/png": "[encoded data removed]",
      "text/plain": [
       "<matplotlib.figure.Figure at 0x7f027ccf2390>"
      ]
     },
     "metadata": {},
     "output_type": "display_data"
    }
   ],
   "source": [
    "print(BU_STR+color.BLUE+\"Analysis of faculty to student ratio and international student ratio per region\\n\"+END_STR)\n",
    "ratio_analysis_per_column(highereducation, \"region\")"
   ]
  },
  {
   "cell_type": "markdown",
   "metadata": {},
   "source": [
    "The ranking here sees more slight variations, with Asia becoming third for the ratio faculty/students after Africa and north America. The ranking based on the proportion of international students is consistent with the one obtained from data from Topuniversities.com"
   ]
  },
  {
   "cell_type": "markdown",
   "metadata": {},
   "source": [
    "# Combined analysis of the university rankings"
   ]
  },
  {
   "cell_type": "markdown",
   "metadata": {},
   "source": [
    "## Merging the two resulting DataFrames"
   ]
  },
  {
   "cell_type": "markdown",
   "metadata": {},
   "source": [
    "We now want to merge the to dataframes we obtained into a single one, by using the name of the university as a reference point.  \n",
    "We also want to keep the rank of each university in both website as a separate column in the resulting dataframe.\n"
   ]
  },
  {
   "cell_type": "code",
   "execution_count": 98,
   "metadata": {
    "ExecuteTime": {
     "end_time": "2017-10-25T16:09:40.370747Z",
     "start_time": "2017-10-25T16:09:40.360226Z"
    }
   },
   "outputs": [
    {
     "data": {
      "text/html": [
       "<div>\n",
       "<style>\n",
       "    .dataframe thead tr:only-child th {\n",
       "        text-align: right;\n",
       "    }\n",
       "\n",
       "    .dataframe thead th {\n",
       "        text-align: left;\n",
       "    }\n",
       "\n",
       "    .dataframe tbody tr th {\n",
       "        vertical-align: top;\n",
       "    }\n",
       "</style>\n",
       "<table border=\"1\" class=\"dataframe\">\n",
       "  <thead>\n",
       "    <tr style=\"text-align: right;\">\n",
       "      <th></th>\n",
       "      <th>country</th>\n",
       "      <th>inter faculty</th>\n",
       "      <th>rank</th>\n",
       "      <th>region</th>\n",
       "      <th>title</th>\n",
       "      <th>total faculty</th>\n",
       "      <th>total inter</th>\n",
       "      <th>total student</th>\n",
       "      <th>url</th>\n",
       "      <th>faculty student ratio</th>\n",
       "      <th>inter student ratio</th>\n",
       "    </tr>\n",
       "  </thead>\n",
       "  <tbody>\n",
       "    <tr>\n",
       "      <th>0</th>\n",
       "      <td>United States</td>\n",
       "      <td>1679.0</td>\n",
       "      <td>1</td>\n",
       "      <td>North America</td>\n",
       "      <td>Massachusetts Institute of Technology (MIT)</td>\n",
       "      <td>2982.0</td>\n",
       "      <td>3717.0</td>\n",
       "      <td>11067.0</td>\n",
       "      <td>/universities/massachusetts-institute-technolo...</td>\n",
       "      <td>0.26945</td>\n",
       "      <td>0.335863</td>\n",
       "    </tr>\n",
       "  </tbody>\n",
       "</table>\n",
       "</div>"
      ],
      "text/plain": [
       "         country  inter faculty  rank         region  \\\n",
       "0  United States         1679.0     1  North America   \n",
       "\n",
       "                                         title  total faculty  total inter  \\\n",
       "0  Massachusetts Institute of Technology (MIT)         2982.0       3717.0   \n",
       "\n",
       "   total student                                                url  \\\n",
       "0        11067.0  /universities/massachusetts-institute-technolo...   \n",
       "\n",
       "   faculty student ratio  inter student ratio  \n",
       "0                0.26945             0.335863  "
      ]
     },
     "execution_count": 98,
     "metadata": {},
     "output_type": "execute_result"
    }
   ],
   "source": [
    "topuniversities.head(1)"
   ]
  },
  {
   "cell_type": "code",
   "execution_count": 99,
   "metadata": {
    "ExecuteTime": {
     "end_time": "2017-10-25T16:09:40.387755Z",
     "start_time": "2017-10-25T16:09:40.371953Z"
    }
   },
   "outputs": [
    {
     "data": {
      "text/html": [
       "<div>\n",
       "<style>\n",
       "    .dataframe thead tr:only-child th {\n",
       "        text-align: right;\n",
       "    }\n",
       "\n",
       "    .dataframe thead th {\n",
       "        text-align: left;\n",
       "    }\n",
       "\n",
       "    .dataframe tbody tr th {\n",
       "        vertical-align: top;\n",
       "    }\n",
       "</style>\n",
       "<table border=\"1\" class=\"dataframe\">\n",
       "  <thead>\n",
       "    <tr style=\"text-align: right;\">\n",
       "      <th></th>\n",
       "      <th>country</th>\n",
       "      <th>rank</th>\n",
       "      <th>region</th>\n",
       "      <th>title</th>\n",
       "      <th>total faculty</th>\n",
       "      <th>total inter</th>\n",
       "      <th>total student</th>\n",
       "      <th>url</th>\n",
       "      <th>faculty student ratio</th>\n",
       "      <th>inter student ratio</th>\n",
       "    </tr>\n",
       "  </thead>\n",
       "  <tbody>\n",
       "    <tr>\n",
       "      <th>0</th>\n",
       "      <td>United Kingdom</td>\n",
       "      <td>1</td>\n",
       "      <td>Europe</td>\n",
       "      <td>University of Oxford</td>\n",
       "      <td>1822.0</td>\n",
       "      <td>7755.0</td>\n",
       "      <td>20409</td>\n",
       "      <td>/world-university-rankings/university-oxford</td>\n",
       "      <td>0.089274</td>\n",
       "      <td>0.379979</td>\n",
       "    </tr>\n",
       "  </tbody>\n",
       "</table>\n",
       "</div>"
      ],
      "text/plain": [
       "          country  rank  region                 title  total faculty  \\\n",
       "0  United Kingdom     1  Europe  University of Oxford         1822.0   \n",
       "\n",
       "   total inter  total student                                           url  \\\n",
       "0       7755.0          20409  /world-university-rankings/university-oxford   \n",
       "\n",
       "   faculty student ratio  inter student ratio  \n",
       "0               0.089274             0.379979  "
      ]
     },
     "execution_count": 99,
     "metadata": {},
     "output_type": "execute_result"
    }
   ],
   "source": [
    "highereducation.head(1)"
   ]
  },
  {
   "cell_type": "code",
   "execution_count": 100,
   "metadata": {
    "ExecuteTime": {
     "end_time": "2017-10-25T16:09:40.400588Z",
     "start_time": "2017-10-25T16:09:40.389095Z"
    },
    "collapsed": true
   },
   "outputs": [],
   "source": [
    "def compare_uni_titles(df1, df2):\n",
    "    \"\"\"\n",
    "    This function goes through the titles of the university in a ranking dataframe and print\n",
    "    the name of the university that have not been found in the other.\n",
    "    It should only be used as an indicator: some names might not be shared from one ranking to the other\n",
    "    \"\"\"\n",
    "    for title in df1[\"title\"]:\n",
    "        #print(title)\n",
    "        index = pd.Series([item == -1 for item in df2[\"title\"].str.find(title)])\n",
    "        if index.all():  \n",
    "            print(\"Not found:\", title)\n",
    "    print(\"---------------------------------------------------------------------------------------------\")\n",
    "    for title in df2[\"title\"]:\n",
    "        #print(title)\n",
    "        index = pd.Series([item == -1 for item in df1[\"title\"].str.find(title)])\n",
    "        if index.all():  \n",
    "            print(\"Not found:\", title)"
   ]
  },
  {
   "cell_type": "code",
   "execution_count": 101,
   "metadata": {
    "ExecuteTime": {
     "end_time": "2017-10-25T16:09:40.628801Z",
     "start_time": "2017-10-25T16:09:40.401862Z"
    },
    "run_control": {
     "marked": true
    },
    "scrolled": true
   },
   "outputs": [
    {
     "name": "stdout",
     "output_type": "stream",
     "text": [
      "Not found: ETH Zurich – Swiss Federal Institute of Technology Zurich\n",
      "Not found: LMU Munich\n",
      "Not found: King’s College London\n",
      "Not found: École Polytechnique Fédérale de Lausanne\n",
      "Not found: Karolinska Institute\n",
      "Not found: Heidelberg University\n",
      "Not found: Washington University in St Louis\n",
      "Not found: University of North Carolina at Chapel Hill\n",
      "Not found: Humboldt University of Berlin\n",
      "Not found: Wageningen University & Research\n",
      "Not found: Paris Sciences et Lettres – PSL Research University Paris\n",
      "Not found: University of Freiburg\n",
      "Not found: Free University of Berlin\n",
      "Not found: Technical University of Berlin\n",
      "Not found: University of Tübingen\n",
      "Not found: Korea Advanced Institute of Science and Technology (KAIST)\n",
      "Not found: University of Bonn\n",
      "Not found: Vanderbilt University\n",
      "Not found: University of Montreal\n",
      "Not found: École Polytechnique\n",
      "Not found: Indiana University\n",
      "Not found: Radboud University Nijmegen\n",
      "Not found: Georgetown University\n",
      "Not found: Pierre and Marie Curie University\n",
      "Not found: University of Mannheim\n",
      "Not found: Arizona State University\n",
      "Not found: Charité - Universitätsmedizin Berlin\n",
      "Not found: Université Catholique de Louvain\n",
      "Not found: Pohang University of Science and Technology\n",
      "Not found: Pompeu Fabra University\n",
      "Not found: University of Cologne\n",
      "Not found: Autonomous University of Barcelona\n",
      "Not found: University of Sussex\n",
      "Not found: University of Notre Dame\n",
      "Not found: Scuola Superiore Sant’Anna\n",
      "Not found: TU Dresden\n",
      "Not found: Ulm University\n",
      "Not found: Case Western Reserve University\n",
      "Not found: University of Leicester\n",
      "Not found: University of Arizona\n",
      "Not found: University of California, Santa Cruz\n",
      "Not found: University of Erlangen-Nuremberg\n",
      "Not found: Vrije Universiteit Amsterdam\n",
      "Not found: University of Würzburg\n",
      "Not found: University of Alabama at Birmingham\n",
      "Not found: Tufts University\n",
      "Not found: Rutgers, the State University of New Jersey\n",
      "Not found: University of Münster\n",
      "Not found: Université Libre de Bruxelles\n",
      "Not found: University of Luxembourg\n",
      "Not found: Paris-Sud University\n",
      "Not found: University of Miami\n",
      "Not found: University of Dundee\n",
      "Not found: University of East Anglia\n",
      "Not found: University of Massachusetts\n",
      "Not found: Northeastern University\n",
      "Not found: Tilburg University\n",
      "Not found: Paris-Sorbonne University – Paris 4\n",
      "Not found: Royal Holloway, University of London\n",
      "Not found: University of California, Riverside\n",
      "Not found: University of Gothenburg\n",
      "---------------------------------------------------------------------------------------------\n",
      "Not found: Massachusetts Institute of Technology (MIT)\n",
      "Not found: California Institute of Technology (Caltech)\n",
      "Not found: UCL (University College London)\n",
      "Not found: ETH Zurich - Swiss Federal Institute of Technology\n",
      "Not found: Nanyang Technological University, Singapore (NTU)\n",
      "Not found: Ecole Polytechnique Fédérale de Lausanne (EPFL)\n",
      "Not found: National University of Singapore (NUS)\n",
      "Not found: The Australian National University\n",
      "Not found: The University of Edinburgh\n",
      "Not found: King's College London\n",
      "Not found: The University of Hong Kong\n",
      "Not found: University of California, Berkeley (UCB)\n",
      "Not found: The University of Tokyo\n",
      "Not found: The Hong Kong University of Science and Technology\n",
      "Not found: University of California, Los Angeles (UCLA)\n",
      "Not found: The University of Manchester\n",
      "Not found: London School of Economics and Political Science (LSE)\n",
      "Not found: University of California, San Diego (UCSD)\n",
      "Not found: KAIST - Korea Advanced Institute of Science & Technology\n",
      "Not found: The University of Melbourne\n",
      "Not found: Ecole normale supérieure, Paris\n",
      "Not found: The University of New South Wales (UNSW Sydney)\n",
      "Not found: The Chinese University of Hong Kong (CUHK)\n",
      "Not found: The University of Queensland\n",
      "Not found: The University of Sydney\n",
      "Not found: New York University (NYU)\n",
      "Not found: Tokyo Institute of Technology\n",
      "Not found: The University of Warwick\n",
      "Not found: Ecole Polytechnique\n",
      "Not found: Osaka University\n",
      "Not found: Ludwig-Maximilians-Universität München\n",
      "Not found: Ruprecht-Karls-Universität Heidelberg\n",
      "Not found: Pohang University of Science And Technology (POSTECH)\n",
      "Not found: Universidad de Buenos Aires (UBA)\n",
      "Not found: Tohoku University\n",
      "Not found: National Taiwan University (NTU)\n",
      "Not found: University of North Carolina, Chapel Hill\n",
      "Not found: The University of Auckland\n",
      "Not found: The University of Sheffield\n",
      "Not found: The University of Nottingham\n",
      "Not found: The Ohio State University\n",
      "Not found: Trinity College Dublin, The University of Dublin\n",
      "Not found: Korea University\n",
      "Not found: The University of Western Australia\n",
      "Not found: The Hong Kong Polytechnic University\n",
      "Not found: Washington University in St. Louis\n",
      "Not found: Yonsei University\n",
      "Not found: KIT, Karlsruhe Institute of Technology\n",
      "Not found: The University of Adelaide\n",
      "Not found: Universiti Malaya (UM)\n",
      "Not found: Nagoya University\n",
      "Not found: Humboldt-Universität zu Berlin\n",
      "Not found: Universidade de São Paulo\n",
      "Not found: Universidad Nacional Autónoma de México  (UNAM)\n",
      "Not found: Hokkaido University\n",
      "Not found: Freie Universitaet Berlin\n",
      "Not found: Kyushu University\n",
      "Not found: Université de Montréal\n",
      "Not found: Université Pierre et Marie Curie (UPMC)\n",
      "Not found: Chalmers University of Technology\n",
      "Not found: University of California, Santa Barbara (UCSB)\n",
      "Not found: Pontificia Universidad Católica de Chile (UC)\n",
      "Not found: Technische Universität Berlin (TU Berlin)\n",
      "Not found: The Hebrew University of Jerusalem\n",
      "Not found: University of Otago\n",
      "Not found: University of Waterloo\n",
      "Not found: Université catholique de Louvain (UCL)\n",
      "Not found: Hanyang University\n",
      "Not found: Universitat de Barcelona\n",
      "Not found: The University of Exeter\n",
      "Not found: University of Bath\n",
      "Not found: National Tsing Hua University\n",
      "Not found: University of Bergen\n",
      "Not found: Eberhard Karls Universität Tübingen\n",
      "Not found: University College Dublin\n",
      "Not found: Politecnico di Milano\n",
      "Not found: Albert-Ludwigs-Universitaet Freiburg\n",
      "Not found: Indian Institute of Technology Delhi (IITD)\n",
      "Not found: King Fahd University of Petroleum & Minerals\n",
      "Not found: University of Technology Sydney\n",
      "Not found: CentraleSupélec\n",
      "Not found: Indian Institute of Technology Bombay (IITB)\n",
      "Not found: Vrije Universiteit Brussel (VUB)\n",
      "Not found: Universidade Estadual de Campinas (Unicamp)\n",
      "Not found: Vienna University of Technology\n",
      "Not found: Universidad Autónoma de Madrid\n",
      "Not found: Alma Mater Studiorum - University of Bologna\n",
      "Not found: University of Reading\n",
      "Not found: Indian Institute of Science (IISc) Bangalore\n",
      "Not found: Scuola Superiore Sant'Anna Pisa di Studi Universitari e di Perfezionamento\n",
      "Not found: Keio University CEMS MIM\n",
      "Not found: Universitat Autònoma de Barcelona\n",
      "Not found: Instituto Tecnológico y de Estudios Superiores de Monterrey\n"
     ]
    }
   ],
   "source": [
    "# Universities in topuniversities contain their acronyme, we want to remove it\n",
    "compare_uni_titles(highereducation, topuniversities)"
   ]
  },
  {
   "cell_type": "markdown",
   "metadata": {
    "ExecuteTime": {
     "end_time": "2017-10-25T16:09:40.632699Z",
     "start_time": "2017-10-25T16:09:40.630398Z"
    },
    "collapsed": true
   },
   "source": [
    "The result above are very troublesome: some university names are not written in English!\n",
    "Also, there's non-standard variation in the university names, would be hard to parse with regex!"
   ]
  },
  {
   "cell_type": "markdown",
   "metadata": {},
   "source": [
    "We look fo the name of the university on wikipedia and use the first result to obtain the actual title of the university"
   ]
  },
  {
   "cell_type": "code",
   "execution_count": 102,
   "metadata": {
    "ExecuteTime": {
     "end_time": "2017-10-25T16:09:40.651157Z",
     "start_time": "2017-10-25T16:09:40.643707Z"
    },
    "collapsed": true
   },
   "outputs": [],
   "source": [
    "def get_uni_name_from_wikipedia(name_in_df):\n",
    "    \"\"\"Search for the University on Wikipedia and return its name\"\"\"\n",
    "    wiki_page = wikipedia.page(wikipedia.search(name_in_df)[0])\n",
    "    return wiki_page.title"
   ]
  },
  {
   "cell_type": "code",
   "execution_count": 103,
   "metadata": {
    "ExecuteTime": {
     "end_time": "2017-10-25T16:16:13.834898Z",
     "start_time": "2017-10-25T16:09:40.652822Z"
    },
    "collapsed": true
   },
   "outputs": [],
   "source": [
    "if not USE_PICKLED_DATA:\n",
    "    topuniversities_good_name = topuniversities\n",
    "    for row in topuniversities_good_name.itertuples():\n",
    "        proper_name = get_uni_name_from_wikipedia(row.title)\n",
    "        topuniversities_good_name.set_value(row.Index, \"title\", proper_name)\n",
    "\n",
    "    # To work without having to pull everything down.\n",
    "    with open('top_uni_good_name.pickle', 'wb') as out:\n",
    "        pickle.dump(topuniversities_good_name, out)"
   ]
  },
  {
   "cell_type": "code",
   "execution_count": 104,
   "metadata": {
    "ExecuteTime": {
     "end_time": "2017-10-25T16:16:13.844940Z",
     "start_time": "2017-10-25T16:16:13.838987Z"
    },
    "collapsed": true
   },
   "outputs": [],
   "source": [
    "with open('top_uni_good_name.pickle', 'rb') as data_source:\n",
    "    topuniversities_good_name = pickle.load(data_source)"
   ]
  },
  {
   "cell_type": "code",
   "execution_count": 105,
   "metadata": {
    "ExecuteTime": {
     "end_time": "2017-10-25T16:19:17.975858Z",
     "start_time": "2017-10-25T16:16:13.846663Z"
    },
    "collapsed": true
   },
   "outputs": [],
   "source": [
    "if not USE_PICKLED_DATA:\n",
    "    highereducation_good_name = highereducation\n",
    "    for row in highereducation_good_name.itertuples():\n",
    "        proper_name = get_uni_name_from_wikipedia(row.title)\n",
    "        highereducation_good_name.set_value(row.Index, \"title\", proper_name)\n",
    "\n",
    "    # To work without having to pull everything down.\n",
    "    with open('higher_ed_good_name.pickle', 'wb') as out:\n",
    "        pickle.dump(highereducation_good_name, out)"
   ]
  },
  {
   "cell_type": "code",
   "execution_count": 106,
   "metadata": {
    "ExecuteTime": {
     "end_time": "2017-10-25T16:19:17.993740Z",
     "start_time": "2017-10-25T16:19:17.981680Z"
    },
    "collapsed": true
   },
   "outputs": [],
   "source": [
    "with open('higher_ed_good_name.pickle', 'rb') as data_source:\n",
    "    highereducation_good_name = pickle.load(data_source)"
   ]
  },
  {
   "cell_type": "code",
   "execution_count": 107,
   "metadata": {
    "ExecuteTime": {
     "end_time": "2017-10-25T16:19:18.235214Z",
     "start_time": "2017-10-25T16:19:17.998180Z"
    }
   },
   "outputs": [
    {
     "name": "stdout",
     "output_type": "stream",
     "text": [
      "Not found: UCLA School of Law\n",
      "Not found: École Normale Supérieure\n",
      "Not found: New York University School of Law\n",
      "Not found: Tokyo Institute of Technology\n",
      "Not found: Osaka University\n",
      "Not found: University of Buenos Aires\n",
      "Not found: Tohoku University\n",
      "Not found: Korea University\n",
      "Not found: Yonsei University\n",
      "Not found: University of Malaya\n",
      "Not found: Nagoya University\n",
      "Not found: University of São Paulo\n",
      "Not found: National Autonomous University of Mexico\n",
      "Not found: Hokkaido University\n",
      "Not found: Kyushu University\n",
      "Not found: Chalmers University of Technology\n",
      "Not found: Pontifical Catholic University of Chile\n",
      "Not found: Hebrew University of Jerusalem\n",
      "Not found: University of Otago\n",
      "Not found: University of Waterloo\n",
      "Not found: Hanyang University\n",
      "Not found: University of Bath\n",
      "Not found: National Tsing Hua University\n",
      "Not found: University of Bergen\n",
      "Not found: University College Dublin\n",
      "Not found: Polytechnic University of Milan\n",
      "Not found: Indian Institute of Technology Delhi\n",
      "Not found: King Fahd University of Petroleum and Minerals\n",
      "Not found: University of Technology Sydney\n",
      "Not found: CentraleSupélec\n",
      "Not found: Indian Institute of Technology Bombay\n",
      "Not found: Vrije Universiteit Brussel\n",
      "Not found: University of Campinas\n",
      "Not found: TU Wien\n",
      "Not found: Autonomous University of Madrid\n",
      "Not found: University of Bologna\n",
      "Not found: University of Reading\n",
      "Not found: Indian Institute of Science\n",
      "Not found: Global Alliance in Management Education\n",
      "Not found: Monterrey Institute of Technology and Higher Education\n",
      "---------------------------------------------------------------------------------------------\n",
      "Not found: University of California, Los Angeles\n",
      "Not found: Karolinska Institute\n",
      "Not found: Paris Dauphine University\n",
      "Not found: University of Bonn\n",
      "Not found: Vanderbilt University\n",
      "Not found: Indiana University\n",
      "Not found: Radboud University Nijmegen\n",
      "Not found: Georgetown University\n",
      "Not found: University of Mannheim\n",
      "Not found: Arizona State University\n",
      "Not found: Charité\n",
      "Not found: Pompeu Fabra University\n",
      "Not found: University of Cologne\n",
      "Not found: University of Sussex\n",
      "Not found: University of Notre Dame\n",
      "Not found: TU Dresden\n",
      "Not found: University of Ulm\n",
      "Not found: Case Western Reserve University\n",
      "Not found: University of Leicester\n",
      "Not found: University of Arizona\n",
      "Not found: University of California, Santa Cruz\n",
      "Not found: University of Erlangen-Nuremberg\n",
      "Not found: Vrije Universiteit Amsterdam\n",
      "Not found: University of Würzburg\n",
      "Not found: University of Alabama at Birmingham\n",
      "Not found: Tufts University\n",
      "Not found: Rutgers University\n",
      "Not found: University of Münster\n",
      "Not found: Université libre de Bruxelles\n",
      "Not found: University of Luxembourg\n",
      "Not found: University of Paris-Sud\n",
      "Not found: University of Miami\n",
      "Not found: University of Dundee\n",
      "Not found: University of East Anglia\n",
      "Not found: University of Massachusetts\n",
      "Not found: Northeastern University\n",
      "Not found: Tilburg University\n",
      "Not found: Paris-Sorbonne University Abu Dhabi\n",
      "Not found: Royal Holloway, University of London\n",
      "Not found: University of California, Riverside\n",
      "Not found: University of Gothenburg\n"
     ]
    }
   ],
   "source": [
    "compare_uni_titles(topuniversities_good_name, highereducation_good_name)"
   ]
  },
  {
   "cell_type": "markdown",
   "metadata": {},
   "source": [
    "There's still universities that are not shared between the two list, but it looks as it is not caused by \n",
    "an error in naming, but because they are effectively not in the other list. We will accept this result and proceed with the merge of the Dataframes."
   ]
  },
  {
   "cell_type": "code",
   "execution_count": 108,
   "metadata": {
    "ExecuteTime": {
     "end_time": "2017-10-25T16:19:18.240081Z",
     "start_time": "2017-10-25T16:19:18.236540Z"
    }
   },
   "outputs": [
    {
     "data": {
      "text/plain": [
       "Index(['country', 'inter faculty', 'rank', 'region', 'title', 'total faculty',\n",
       "       'total inter', 'total student', 'url', 'faculty student ratio',\n",
       "       'inter student ratio'],\n",
       "      dtype='object')"
      ]
     },
     "execution_count": 108,
     "metadata": {},
     "output_type": "execute_result"
    }
   ],
   "source": [
    "topuniversities_good_name.columns"
   ]
  },
  {
   "cell_type": "code",
   "execution_count": 109,
   "metadata": {
    "ExecuteTime": {
     "end_time": "2017-10-25T16:19:18.279143Z",
     "start_time": "2017-10-25T16:19:18.241390Z"
    }
   },
   "outputs": [
    {
     "data": {
      "text/html": [
       "<div>\n",
       "<style>\n",
       "    .dataframe thead tr:only-child th {\n",
       "        text-align: right;\n",
       "    }\n",
       "\n",
       "    .dataframe thead th {\n",
       "        text-align: left;\n",
       "    }\n",
       "\n",
       "    .dataframe tbody tr th {\n",
       "        vertical-align: top;\n",
       "    }\n",
       "</style>\n",
       "<table border=\"1\" class=\"dataframe\">\n",
       "  <thead>\n",
       "    <tr style=\"text-align: right;\">\n",
       "      <th></th>\n",
       "      <th>country</th>\n",
       "      <th>tu rank</th>\n",
       "      <th>region</th>\n",
       "      <th>title</th>\n",
       "      <th>tu total faculty</th>\n",
       "      <th>tu total inter</th>\n",
       "      <th>tu total student</th>\n",
       "      <th>faculty student ratio_x</th>\n",
       "      <th>inter student ratio_x</th>\n",
       "      <th>he rank</th>\n",
       "      <th>he total faculty</th>\n",
       "      <th>he total inter</th>\n",
       "      <th>he total student</th>\n",
       "      <th>faculty student ratio_y</th>\n",
       "      <th>inter student ratio_y</th>\n",
       "    </tr>\n",
       "  </thead>\n",
       "  <tbody>\n",
       "    <tr>\n",
       "      <th>0</th>\n",
       "      <td>United States</td>\n",
       "      <td>1.0</td>\n",
       "      <td>North America</td>\n",
       "      <td>Massachusetts Institute of Technology</td>\n",
       "      <td>2982.0</td>\n",
       "      <td>3717.0</td>\n",
       "      <td>11067.0</td>\n",
       "      <td>0.269450</td>\n",
       "      <td>0.335863</td>\n",
       "      <td>5.0</td>\n",
       "      <td>1285.0</td>\n",
       "      <td>3800.0</td>\n",
       "      <td>11177.0</td>\n",
       "      <td>0.114968</td>\n",
       "      <td>0.339984</td>\n",
       "    </tr>\n",
       "    <tr>\n",
       "      <th>1</th>\n",
       "      <td>United States</td>\n",
       "      <td>2.0</td>\n",
       "      <td>North America</td>\n",
       "      <td>Stanford University</td>\n",
       "      <td>4285.0</td>\n",
       "      <td>3611.0</td>\n",
       "      <td>15878.0</td>\n",
       "      <td>0.269870</td>\n",
       "      <td>0.227422</td>\n",
       "      <td>3.0</td>\n",
       "      <td>2113.0</td>\n",
       "      <td>3486.0</td>\n",
       "      <td>15845.0</td>\n",
       "      <td>0.133354</td>\n",
       "      <td>0.220006</td>\n",
       "    </tr>\n",
       "    <tr>\n",
       "      <th>2</th>\n",
       "      <td>United States</td>\n",
       "      <td>3.0</td>\n",
       "      <td>North America</td>\n",
       "      <td>Harvard University</td>\n",
       "      <td>4350.0</td>\n",
       "      <td>5266.0</td>\n",
       "      <td>22429.0</td>\n",
       "      <td>0.193945</td>\n",
       "      <td>0.234785</td>\n",
       "      <td>6.0</td>\n",
       "      <td>2284.0</td>\n",
       "      <td>5285.0</td>\n",
       "      <td>20326.0</td>\n",
       "      <td>0.112368</td>\n",
       "      <td>0.260012</td>\n",
       "    </tr>\n",
       "    <tr>\n",
       "      <th>3</th>\n",
       "      <td>United States</td>\n",
       "      <td>4.0</td>\n",
       "      <td>North America</td>\n",
       "      <td>California Institute of Technology</td>\n",
       "      <td>953.0</td>\n",
       "      <td>647.0</td>\n",
       "      <td>2255.0</td>\n",
       "      <td>0.422616</td>\n",
       "      <td>0.286918</td>\n",
       "      <td>3.0</td>\n",
       "      <td>340.0</td>\n",
       "      <td>596.0</td>\n",
       "      <td>2209.0</td>\n",
       "      <td>0.153916</td>\n",
       "      <td>0.269805</td>\n",
       "    </tr>\n",
       "    <tr>\n",
       "      <th>4</th>\n",
       "      <td>United Kingdom</td>\n",
       "      <td>5.0</td>\n",
       "      <td>Europe</td>\n",
       "      <td>University of Cambridge</td>\n",
       "      <td>5490.0</td>\n",
       "      <td>6699.0</td>\n",
       "      <td>18770.0</td>\n",
       "      <td>0.292488</td>\n",
       "      <td>0.356899</td>\n",
       "      <td>2.0</td>\n",
       "      <td>1687.0</td>\n",
       "      <td>6436.0</td>\n",
       "      <td>18389.0</td>\n",
       "      <td>0.091740</td>\n",
       "      <td>0.349992</td>\n",
       "    </tr>\n",
       "    <tr>\n",
       "      <th>5</th>\n",
       "      <td>United Kingdom</td>\n",
       "      <td>6.0</td>\n",
       "      <td>Europe</td>\n",
       "      <td>University of Oxford</td>\n",
       "      <td>6750.0</td>\n",
       "      <td>7353.0</td>\n",
       "      <td>19720.0</td>\n",
       "      <td>0.342292</td>\n",
       "      <td>0.372870</td>\n",
       "      <td>1.0</td>\n",
       "      <td>1822.0</td>\n",
       "      <td>7755.0</td>\n",
       "      <td>20409.0</td>\n",
       "      <td>0.089274</td>\n",
       "      <td>0.379979</td>\n",
       "    </tr>\n",
       "    <tr>\n",
       "      <th>6</th>\n",
       "      <td>United Kingdom</td>\n",
       "      <td>7.0</td>\n",
       "      <td>Europe</td>\n",
       "      <td>University College London</td>\n",
       "      <td>6345.0</td>\n",
       "      <td>14854.0</td>\n",
       "      <td>31080.0</td>\n",
       "      <td>0.204151</td>\n",
       "      <td>0.477928</td>\n",
       "      <td>16.0</td>\n",
       "      <td>2886.0</td>\n",
       "      <td>14849.0</td>\n",
       "      <td>30304.0</td>\n",
       "      <td>0.095235</td>\n",
       "      <td>0.490001</td>\n",
       "    </tr>\n",
       "    <tr>\n",
       "      <th>7</th>\n",
       "      <td>United Kingdom</td>\n",
       "      <td>8.0</td>\n",
       "      <td>Europe</td>\n",
       "      <td>Imperial College London</td>\n",
       "      <td>3930.0</td>\n",
       "      <td>8746.0</td>\n",
       "      <td>16090.0</td>\n",
       "      <td>0.244251</td>\n",
       "      <td>0.543567</td>\n",
       "      <td>8.0</td>\n",
       "      <td>1391.0</td>\n",
       "      <td>8721.0</td>\n",
       "      <td>15857.0</td>\n",
       "      <td>0.087722</td>\n",
       "      <td>0.549978</td>\n",
       "    </tr>\n",
       "    <tr>\n",
       "      <th>8</th>\n",
       "      <td>United States</td>\n",
       "      <td>9.0</td>\n",
       "      <td>North America</td>\n",
       "      <td>University of Chicago</td>\n",
       "      <td>2449.0</td>\n",
       "      <td>3379.0</td>\n",
       "      <td>13557.0</td>\n",
       "      <td>0.180645</td>\n",
       "      <td>0.249244</td>\n",
       "      <td>9.0</td>\n",
       "      <td>2181.0</td>\n",
       "      <td>3381.0</td>\n",
       "      <td>13525.0</td>\n",
       "      <td>0.161257</td>\n",
       "      <td>0.249982</td>\n",
       "    </tr>\n",
       "    <tr>\n",
       "      <th>9</th>\n",
       "      <td>Switzerland</td>\n",
       "      <td>10.0</td>\n",
       "      <td>Europe</td>\n",
       "      <td>ETH Zurich</td>\n",
       "      <td>2477.0</td>\n",
       "      <td>7563.0</td>\n",
       "      <td>19815.0</td>\n",
       "      <td>0.125006</td>\n",
       "      <td>0.381681</td>\n",
       "      <td>10.0</td>\n",
       "      <td>1317.0</td>\n",
       "      <td>7309.0</td>\n",
       "      <td>19233.0</td>\n",
       "      <td>0.068476</td>\n",
       "      <td>0.380024</td>\n",
       "    </tr>\n",
       "  </tbody>\n",
       "</table>\n",
       "</div>"
      ],
      "text/plain": [
       "          country  tu rank         region  \\\n",
       "0   United States      1.0  North America   \n",
       "1   United States      2.0  North America   \n",
       "2   United States      3.0  North America   \n",
       "3   United States      4.0  North America   \n",
       "4  United Kingdom      5.0         Europe   \n",
       "5  United Kingdom      6.0         Europe   \n",
       "6  United Kingdom      7.0         Europe   \n",
       "7  United Kingdom      8.0         Europe   \n",
       "8   United States      9.0  North America   \n",
       "9     Switzerland     10.0         Europe   \n",
       "\n",
       "                                   title  tu total faculty  tu total inter  \\\n",
       "0  Massachusetts Institute of Technology            2982.0          3717.0   \n",
       "1                    Stanford University            4285.0          3611.0   \n",
       "2                     Harvard University            4350.0          5266.0   \n",
       "3     California Institute of Technology             953.0           647.0   \n",
       "4                University of Cambridge            5490.0          6699.0   \n",
       "5                   University of Oxford            6750.0          7353.0   \n",
       "6              University College London            6345.0         14854.0   \n",
       "7                Imperial College London            3930.0          8746.0   \n",
       "8                  University of Chicago            2449.0          3379.0   \n",
       "9                             ETH Zurich            2477.0          7563.0   \n",
       "\n",
       "   tu total student  faculty student ratio_x  inter student ratio_x  he rank  \\\n",
       "0           11067.0                 0.269450               0.335863      5.0   \n",
       "1           15878.0                 0.269870               0.227422      3.0   \n",
       "2           22429.0                 0.193945               0.234785      6.0   \n",
       "3            2255.0                 0.422616               0.286918      3.0   \n",
       "4           18770.0                 0.292488               0.356899      2.0   \n",
       "5           19720.0                 0.342292               0.372870      1.0   \n",
       "6           31080.0                 0.204151               0.477928     16.0   \n",
       "7           16090.0                 0.244251               0.543567      8.0   \n",
       "8           13557.0                 0.180645               0.249244      9.0   \n",
       "9           19815.0                 0.125006               0.381681     10.0   \n",
       "\n",
       "   he total faculty  he total inter  he total student  \\\n",
       "0            1285.0          3800.0           11177.0   \n",
       "1            2113.0          3486.0           15845.0   \n",
       "2            2284.0          5285.0           20326.0   \n",
       "3             340.0           596.0            2209.0   \n",
       "4            1687.0          6436.0           18389.0   \n",
       "5            1822.0          7755.0           20409.0   \n",
       "6            2886.0         14849.0           30304.0   \n",
       "7            1391.0          8721.0           15857.0   \n",
       "8            2181.0          3381.0           13525.0   \n",
       "9            1317.0          7309.0           19233.0   \n",
       "\n",
       "   faculty student ratio_y  inter student ratio_y  \n",
       "0                 0.114968               0.339984  \n",
       "1                 0.133354               0.220006  \n",
       "2                 0.112368               0.260012  \n",
       "3                 0.153916               0.269805  \n",
       "4                 0.091740               0.349992  \n",
       "5                 0.089274               0.379979  \n",
       "6                 0.095235               0.490001  \n",
       "7                 0.087722               0.549978  \n",
       "8                 0.161257               0.249982  \n",
       "9                 0.068476               0.380024  "
      ]
     },
     "execution_count": 109,
     "metadata": {},
     "output_type": "execute_result"
    }
   ],
   "source": [
    "# Clean up the dataframe for the merge\n",
    "# Drop the url, not meaningfull anymore\n",
    "# We use try in case it was already deleted\n",
    "topuniversities_good_name.drop(\"url\", axis=1, inplace=True)\n",
    "highereducation_good_name.drop(\"url\", axis=1, inplace=True)\n",
    "\n",
    "# Drop the inter faculty from topuniversity, we don't have the info in\n",
    "# the other dataframe so its meaningless in the future\n",
    "\n",
    "topuniversities_good_name.drop(\"inter faculty\", axis=1, inplace=True)\n",
    "\n",
    "# Change the column names so its not automatic\n",
    "topuniversities_good_name.rename(columns={\n",
    "    \"rank\": \"tu rank\",\n",
    "    \"total faculty\": \"tu total faculty\",\n",
    "    \"total inter\": \"tu total inter\",\n",
    "    \"total student\": \"tu total student\",\n",
    "    \"inter faculty\": \"tu inter faculty\"\n",
    "}, inplace=True)\n",
    "\n",
    "highereducation_good_name.rename(columns={\n",
    "    \"rank\": \"he rank\",\n",
    "    \"total faculty\": \"he total faculty\",\n",
    "    \"total inter\": \"he total inter\",\n",
    "    \"total student\": \"he total student\"\n",
    "}, inplace=True)\n",
    "\n",
    "# Merge\n",
    "merged_rankings = pd.merge(topuniversities_good_name, highereducation_good_name,\n",
    "                           how='outer', on=[\"title\", \"country\", \"region\"] )\n",
    "merged_rankings.head(10)"
   ]
  },
  {
   "cell_type": "code",
   "execution_count": 110,
   "metadata": {
    "ExecuteTime": {
     "end_time": "2017-10-25T16:19:18.285000Z",
     "start_time": "2017-10-25T16:19:18.280518Z"
    },
    "collapsed": true
   },
   "outputs": [],
   "source": [
    "# Lets manage the column names\n",
    "new_cols=['region', 'country', 'title',\n",
    "          'tu rank', 'tu total faculty', 'tu total inter', 'tu total student',\n",
    "          'he rank', 'he total faculty', 'he total inter', 'he total student']\n",
    "merged_rankings = merged_rankings[new_cols]"
   ]
  },
  {
   "cell_type": "code",
   "execution_count": 112,
   "metadata": {
    "ExecuteTime": {
     "end_time": "2017-10-25T16:19:18.296769Z",
     "start_time": "2017-10-25T16:19:18.286569Z"
    }
   },
   "outputs": [
    {
     "ename": "ValueError",
     "evalue": "Shape of passed values is (11, 244), indices imply (12, 244)",
     "output_type": "error",
     "traceback": [
      "\u001b[0;31m---------------------------------------------------------------------------\u001b[0m",
      "\u001b[0;31mValueError\u001b[0m                                Traceback (most recent call last)",
      "\u001b[0;32m/home/vinz/anaconda3/lib/python3.6/site-packages/pandas/core/internals.py\u001b[0m in \u001b[0;36mcreate_block_manager_from_blocks\u001b[0;34m(blocks, axes)\u001b[0m\n\u001b[1;32m   4293\u001b[0m                 blocks = [make_block(values=blocks[0],\n\u001b[0;32m-> 4294\u001b[0;31m                                      placement=slice(0, len(axes[0])))]\n\u001b[0m\u001b[1;32m   4295\u001b[0m \u001b[0;34m\u001b[0m\u001b[0m\n",
      "\u001b[0;32m/home/vinz/anaconda3/lib/python3.6/site-packages/pandas/core/internals.py\u001b[0m in \u001b[0;36mmake_block\u001b[0;34m(values, placement, klass, ndim, dtype, fastpath)\u001b[0m\n\u001b[1;32m   2718\u001b[0m \u001b[0;34m\u001b[0m\u001b[0m\n\u001b[0;32m-> 2719\u001b[0;31m     \u001b[0;32mreturn\u001b[0m \u001b[0mklass\u001b[0m\u001b[0;34m(\u001b[0m\u001b[0mvalues\u001b[0m\u001b[0;34m,\u001b[0m \u001b[0mndim\u001b[0m\u001b[0;34m=\u001b[0m\u001b[0mndim\u001b[0m\u001b[0;34m,\u001b[0m \u001b[0mfastpath\u001b[0m\u001b[0;34m=\u001b[0m\u001b[0mfastpath\u001b[0m\u001b[0;34m,\u001b[0m \u001b[0mplacement\u001b[0m\u001b[0;34m=\u001b[0m\u001b[0mplacement\u001b[0m\u001b[0;34m)\u001b[0m\u001b[0;34m\u001b[0m\u001b[0m\n\u001b[0m\u001b[1;32m   2720\u001b[0m \u001b[0;34m\u001b[0m\u001b[0m\n",
      "\u001b[0;32m/home/vinz/anaconda3/lib/python3.6/site-packages/pandas/core/internals.py\u001b[0m in \u001b[0;36m__init__\u001b[0;34m(self, values, ndim, fastpath, placement, **kwargs)\u001b[0m\n\u001b[1;32m   1843\u001b[0m         super(ObjectBlock, self).__init__(values, ndim=ndim, fastpath=fastpath,\n\u001b[0;32m-> 1844\u001b[0;31m                                           placement=placement, **kwargs)\n\u001b[0m\u001b[1;32m   1845\u001b[0m \u001b[0;34m\u001b[0m\u001b[0m\n",
      "\u001b[0;32m/home/vinz/anaconda3/lib/python3.6/site-packages/pandas/core/internals.py\u001b[0m in \u001b[0;36m__init__\u001b[0;34m(self, values, placement, ndim, fastpath)\u001b[0m\n\u001b[1;32m    114\u001b[0m                              'implies %d' % (len(self.values),\n\u001b[0;32m--> 115\u001b[0;31m                                              len(self.mgr_locs)))\n\u001b[0m\u001b[1;32m    116\u001b[0m \u001b[0;34m\u001b[0m\u001b[0m\n",
      "\u001b[0;31mValueError\u001b[0m: Wrong number of items passed 11, placement implies 12",
      "\nDuring handling of the above exception, another exception occurred:\n",
      "\u001b[0;31mValueError\u001b[0m                                Traceback (most recent call last)",
      "\u001b[0;32m<ipython-input-112-90545deb8355>\u001b[0m in \u001b[0;36m<module>\u001b[0;34m()\u001b[0m\n\u001b[1;32m     10\u001b[0m merged_rankings = pd.DataFrame(data=merged_rankings.values,\n\u001b[1;32m     11\u001b[0m                                \u001b[0mindex\u001b[0m\u001b[0;34m=\u001b[0m\u001b[0mmerged_rankings\u001b[0m\u001b[0;34m.\u001b[0m\u001b[0mindex\u001b[0m\u001b[0;34m,\u001b[0m\u001b[0;34m\u001b[0m\u001b[0m\n\u001b[0;32m---> 12\u001b[0;31m                                columns=[first_column, second_column])\n\u001b[0m",
      "\u001b[0;32m/home/vinz/anaconda3/lib/python3.6/site-packages/pandas/core/frame.py\u001b[0m in \u001b[0;36m__init__\u001b[0;34m(self, data, index, columns, dtype, copy)\u001b[0m\n\u001b[1;32m    304\u001b[0m             \u001b[0;32melse\u001b[0m\u001b[0;34m:\u001b[0m\u001b[0;34m\u001b[0m\u001b[0m\n\u001b[1;32m    305\u001b[0m                 mgr = self._init_ndarray(data, index, columns, dtype=dtype,\n\u001b[0;32m--> 306\u001b[0;31m                                          copy=copy)\n\u001b[0m\u001b[1;32m    307\u001b[0m         \u001b[0;32melif\u001b[0m \u001b[0misinstance\u001b[0m\u001b[0;34m(\u001b[0m\u001b[0mdata\u001b[0m\u001b[0;34m,\u001b[0m \u001b[0;34m(\u001b[0m\u001b[0mlist\u001b[0m\u001b[0;34m,\u001b[0m \u001b[0mtypes\u001b[0m\u001b[0;34m.\u001b[0m\u001b[0mGeneratorType\u001b[0m\u001b[0;34m)\u001b[0m\u001b[0;34m)\u001b[0m\u001b[0;34m:\u001b[0m\u001b[0;34m\u001b[0m\u001b[0m\n\u001b[1;32m    308\u001b[0m             \u001b[0;32mif\u001b[0m \u001b[0misinstance\u001b[0m\u001b[0;34m(\u001b[0m\u001b[0mdata\u001b[0m\u001b[0;34m,\u001b[0m \u001b[0mtypes\u001b[0m\u001b[0;34m.\u001b[0m\u001b[0mGeneratorType\u001b[0m\u001b[0;34m)\u001b[0m\u001b[0;34m:\u001b[0m\u001b[0;34m\u001b[0m\u001b[0m\n",
      "\u001b[0;32m/home/vinz/anaconda3/lib/python3.6/site-packages/pandas/core/frame.py\u001b[0m in \u001b[0;36m_init_ndarray\u001b[0;34m(self, values, index, columns, dtype, copy)\u001b[0m\n\u001b[1;32m    481\u001b[0m             \u001b[0mvalues\u001b[0m \u001b[0;34m=\u001b[0m \u001b[0mmaybe_infer_to_datetimelike\u001b[0m\u001b[0;34m(\u001b[0m\u001b[0mvalues\u001b[0m\u001b[0;34m)\u001b[0m\u001b[0;34m\u001b[0m\u001b[0m\n\u001b[1;32m    482\u001b[0m \u001b[0;34m\u001b[0m\u001b[0m\n\u001b[0;32m--> 483\u001b[0;31m         \u001b[0;32mreturn\u001b[0m \u001b[0mcreate_block_manager_from_blocks\u001b[0m\u001b[0;34m(\u001b[0m\u001b[0;34m[\u001b[0m\u001b[0mvalues\u001b[0m\u001b[0;34m]\u001b[0m\u001b[0;34m,\u001b[0m \u001b[0;34m[\u001b[0m\u001b[0mcolumns\u001b[0m\u001b[0;34m,\u001b[0m \u001b[0mindex\u001b[0m\u001b[0;34m]\u001b[0m\u001b[0;34m)\u001b[0m\u001b[0;34m\u001b[0m\u001b[0m\n\u001b[0m\u001b[1;32m    484\u001b[0m \u001b[0;34m\u001b[0m\u001b[0m\n\u001b[1;32m    485\u001b[0m     \u001b[0;34m@\u001b[0m\u001b[0mproperty\u001b[0m\u001b[0;34m\u001b[0m\u001b[0m\n",
      "\u001b[0;32m/home/vinz/anaconda3/lib/python3.6/site-packages/pandas/core/internals.py\u001b[0m in \u001b[0;36mcreate_block_manager_from_blocks\u001b[0;34m(blocks, axes)\u001b[0m\n\u001b[1;32m   4301\u001b[0m         \u001b[0mblocks\u001b[0m \u001b[0;34m=\u001b[0m \u001b[0;34m[\u001b[0m\u001b[0mgetattr\u001b[0m\u001b[0;34m(\u001b[0m\u001b[0mb\u001b[0m\u001b[0;34m,\u001b[0m \u001b[0;34m'values'\u001b[0m\u001b[0;34m,\u001b[0m \u001b[0mb\u001b[0m\u001b[0;34m)\u001b[0m \u001b[0;32mfor\u001b[0m \u001b[0mb\u001b[0m \u001b[0;32min\u001b[0m \u001b[0mblocks\u001b[0m\u001b[0;34m]\u001b[0m\u001b[0;34m\u001b[0m\u001b[0m\n\u001b[1;32m   4302\u001b[0m         \u001b[0mtot_items\u001b[0m \u001b[0;34m=\u001b[0m \u001b[0msum\u001b[0m\u001b[0;34m(\u001b[0m\u001b[0mb\u001b[0m\u001b[0;34m.\u001b[0m\u001b[0mshape\u001b[0m\u001b[0;34m[\u001b[0m\u001b[0;36m0\u001b[0m\u001b[0;34m]\u001b[0m \u001b[0;32mfor\u001b[0m \u001b[0mb\u001b[0m \u001b[0;32min\u001b[0m \u001b[0mblocks\u001b[0m\u001b[0;34m)\u001b[0m\u001b[0;34m\u001b[0m\u001b[0m\n\u001b[0;32m-> 4303\u001b[0;31m         \u001b[0mconstruction_error\u001b[0m\u001b[0;34m(\u001b[0m\u001b[0mtot_items\u001b[0m\u001b[0;34m,\u001b[0m \u001b[0mblocks\u001b[0m\u001b[0;34m[\u001b[0m\u001b[0;36m0\u001b[0m\u001b[0;34m]\u001b[0m\u001b[0;34m.\u001b[0m\u001b[0mshape\u001b[0m\u001b[0;34m[\u001b[0m\u001b[0;36m1\u001b[0m\u001b[0;34m:\u001b[0m\u001b[0;34m]\u001b[0m\u001b[0;34m,\u001b[0m \u001b[0maxes\u001b[0m\u001b[0;34m,\u001b[0m \u001b[0me\u001b[0m\u001b[0;34m)\u001b[0m\u001b[0;34m\u001b[0m\u001b[0m\n\u001b[0m\u001b[1;32m   4304\u001b[0m \u001b[0;34m\u001b[0m\u001b[0m\n\u001b[1;32m   4305\u001b[0m \u001b[0;34m\u001b[0m\u001b[0m\n",
      "\u001b[0;32m/home/vinz/anaconda3/lib/python3.6/site-packages/pandas/core/internals.py\u001b[0m in \u001b[0;36mconstruction_error\u001b[0;34m(tot_items, block_shape, axes, e)\u001b[0m\n\u001b[1;32m   4278\u001b[0m         \u001b[0;32mraise\u001b[0m \u001b[0mValueError\u001b[0m\u001b[0;34m(\u001b[0m\u001b[0;34m\"Empty data passed with indices specified.\"\u001b[0m\u001b[0;34m)\u001b[0m\u001b[0;34m\u001b[0m\u001b[0m\n\u001b[1;32m   4279\u001b[0m     raise ValueError(\"Shape of passed values is {0}, indices imply {1}\".format(\n\u001b[0;32m-> 4280\u001b[0;31m         passed, implied))\n\u001b[0m\u001b[1;32m   4281\u001b[0m \u001b[0;34m\u001b[0m\u001b[0m\n\u001b[1;32m   4282\u001b[0m \u001b[0;34m\u001b[0m\u001b[0m\n",
      "\u001b[0;31mValueError\u001b[0m: Shape of passed values is (11, 244), indices imply (12, 244)"
     ]
    }
   ],
   "source": [
    "# Generate a new DataFrame with better labels for columns\n",
    "col_name_per_ranking = ['rank', 'total faculty', 'total inter', 'total student']\n",
    "\n",
    "first_column = [\"University Info\", \"University Info\", \"University Info\",\n",
    "                \"Top Universities\", \"Top Universities\", \"Top Universities\", \"Top Universities\", \"Top Universities\",\n",
    "                \"Higher Education\", \"Higher Education\", \"Higher Education\", \"Higher Education\"]\n",
    "\n",
    "second_column = [\"region\", \"country\", \"title\"] + col_name_per_ranking + [\"inter faculty\"] + col_name_per_ranking\n",
    "\n",
    "merged_rankings = pd.DataFrame(data=merged_rankings.values,\n",
    "                               index=merged_rankings.index,\n",
    "                               columns=[first_column, second_column])"
   ]
  },
  {
   "cell_type": "code",
   "execution_count": null,
   "metadata": {
    "ExecuteTime": {
     "end_time": "2017-10-25T16:19:18.320551Z",
     "start_time": "2017-10-25T16:19:18.298137Z"
    },
    "scrolled": false
   },
   "outputs": [],
   "source": [
    "merged_rankings.head(10)"
   ]
  },
  {
   "cell_type": "markdown",
   "metadata": {},
   "source": [
    "## Analysing the resulting data"
   ]
  },
  {
   "cell_type": "code",
   "execution_count": null,
   "metadata": {
    "ExecuteTime": {
     "end_time": "2017-10-25T16:19:18.346237Z",
     "start_time": "2017-10-25T16:19:18.330163Z"
    },
    "collapsed": true,
    "scrolled": false
   },
   "outputs": [],
   "source": [
    "# Add average column\n",
    "ranking_with_avg = merged_rankings\n",
    "for col in col_name_per_ranking:\n",
    "    ranking_with_avg[\"Average\", col] = ranking_with_avg[[(\"Top Universities\", col), (\"Higher Education\", col)]]\\\n",
    "                                                       .mean(axis=1)"
   ]
  },
  {
   "cell_type": "code",
   "execution_count": null,
   "metadata": {
    "ExecuteTime": {
     "end_time": "2017-10-25T16:19:18.375947Z",
     "start_time": "2017-10-25T16:19:18.347755Z"
    },
    "collapsed": true
   },
   "outputs": [],
   "source": [
    "# Add metrics to the average measurement\n",
    "ranking_with_metrics = ranking_with_avg\n",
    "ranking_with_metrics[\"Metrics\", \"faculty student ratio\"] = ranking_with_metrics[\"Average\", \"total faculty\"]/ranking_with_metrics[\"Average\", \"total student\"]\n",
    "ranking_with_metrics[\"Metrics\", \"inter student ratio\"] = ranking_with_metrics[\"Average\", \"total inter\"]/ranking_with_metrics[\"Average\", \"total student\"]\n",
    "ranking_with_metrics.head(10)"
   ]
  },
  {
   "cell_type": "code",
   "execution_count": null,
   "metadata": {
    "ExecuteTime": {
     "end_time": "2017-10-25T17:37:40.284297Z",
     "start_time": "2017-10-25T17:37:40.278728Z"
    },
    "collapsed": true,
    "scrolled": false
   },
   "outputs": [],
   "source": [
    "data = {\n",
    "    'tu rank': pd.to_numeric(ranking_with_metrics['Top Universities']['rank']),\n",
    "    'he rank': pd.to_numeric(ranking_with_metrics['Higher Education']['rank']),\n",
    "    'faculty student ratio': ranking_with_metrics['Metrics']['faculty student ratio'],\n",
    "    'international students ratio': ranking_with_metrics['Metrics']['inter student ratio']\n",
    "}"
   ]
  },
  {
   "cell_type": "code",
   "execution_count": null,
   "metadata": {
    "ExecuteTime": {
     "end_time": "2017-10-25T17:37:40.686122Z",
     "start_time": "2017-10-25T17:37:40.682188Z"
    },
    "collapsed": true
   },
   "outputs": [],
   "source": [
    "def set_tick_fontisize(ax, size):\n",
    "    \"\"\"Utility function to modify the size of the tick font\"\"\"\n",
    "    for tick in ax.get_xticklabels():\n",
    "        tick.set_fontsize(size)\n",
    "    for tick in ax.get_yticklabels():\n",
    "        tick.set_fontsize(size)"
   ]
  },
  {
   "cell_type": "code",
   "execution_count": null,
   "metadata": {
    "ExecuteTime": {
     "end_time": "2017-10-25T17:37:55.154154Z",
     "start_time": "2017-10-25T17:37:53.865028Z"
    },
    "collapsed": true,
    "scrolled": false
   },
   "outputs": [],
   "source": [
    "from itertools import combinations\n",
    "\n",
    "fig, axes = plt.subplots(nrows=3, ncols=2, figsize=(30, 50))\n",
    "\n",
    "# Iterate over all possible pairs\n",
    "for ax, (var1, var2) in zip(axes.flatten(), combinations(data, r=2)):\n",
    "    # Compute the correlation\n",
    "    corr = data[var1].corr(data[var2])\n",
    "    x = data[var1].values\n",
    "    y = data[var2].values\n",
    "    \n",
    "    x, y = zip(*sorted(zip(x, y), key=lambda t: t[0]))\n",
    "    \n",
    "    # Plot\n",
    "    ax.scatter(x, y)\n",
    "    ax.set_xlabel(var1, fontsize=20)\n",
    "    ax.set_ylabel(var2, fontsize=20)\n",
    "    ax.set_title('(' + var1 + ' , ' + var2 + ')\\n correlation = ' + str(corr), fontsize=30)\n",
    "    set_tick_fontisize(ax, 15)\n",
    "    \n",
    "plt.show()"
   ]
  },
  {
   "cell_type": "markdown",
   "metadata": {},
   "source": [
    "While keeping in mind that correlation only measures ***linear dependence*** of the variables, we observe that the ranks from the two websites are strongly correlated. Which seems reasonable. As they are dependent, we can equivalently pick one or the other to search for correlations.\n",
    "\n",
    "We decided not to test the correlation between obviously dependent variables such as (total student, international student ratio) or (total students, total faculty members) as it would not provide any interesting insight."
   ]
  },
  {
   "cell_type": "markdown",
   "metadata": {},
   "source": [
    "We try to find the correlation between the rank and the other features of our data."
   ]
  },
  {
   "cell_type": "code",
   "execution_count": null,
   "metadata": {
    "ExecuteTime": {
     "end_time": "2017-10-25T17:38:01.418854Z",
     "start_time": "2017-10-25T17:38:01.411213Z"
    },
    "collapsed": true
   },
   "outputs": [],
   "source": [
    "del data['tu rank']\n",
    "del data['he rank']\n",
    "rank = ranking_with_metrics['Average']['rank']\n",
    "data = {\n",
    "    **data,\n",
    "    'total faculty': ranking_with_metrics['Average']['total faculty'],\n",
    "    'total inter': ranking_with_metrics['Average']['total inter'],\n",
    "    'total student': ranking_with_metrics['Average']['total student']\n",
    "}"
   ]
  },
  {
   "cell_type": "code",
   "execution_count": null,
   "metadata": {
    "ExecuteTime": {
     "end_time": "2017-10-25T17:38:04.432603Z",
     "start_time": "2017-10-25T17:38:03.222985Z"
    },
    "collapsed": true,
    "scrolled": false
   },
   "outputs": [],
   "source": [
    "fig, axes = plt.subplots(nrows=3, ncols=2, figsize=(30, 50))\n",
    "\n",
    "# Iterate over all possible values to correlate with the rank\n",
    "for ax, var in zip(axes.flatten(), data):\n",
    "    # Compute correlation\n",
    "    corr = rank.corr(data[var])\n",
    "    x = data[var].values\n",
    "    \n",
    "    x, y = zip(*sorted(zip(x, rank.values), key=lambda t: t[0]))\n",
    "    \n",
    "    # Plot\n",
    "    ax.scatter(x, y)\n",
    "    ax.set_xlabel(var, fontsize=20)\n",
    "    ax.set_ylabel('rank', fontsize=20)\n",
    "    ax.set_title('(' + var + ' , rank )\\n correlation = ' + str(corr), fontsize=30)\n",
    "    set_tick_fontisize(ax, 15)\n",
    "    \n",
    "plt.show()"
   ]
  },
  {
   "cell_type": "code",
   "execution_count": null,
   "metadata": {
    "ExecuteTime": {
     "end_time": "2017-10-25T17:38:19.448938Z",
     "start_time": "2017-10-25T17:38:19.442072Z"
    },
    "collapsed": true
   },
   "outputs": [],
   "source": [
    "rank.describe()"
   ]
  },
  {
   "cell_type": "markdown",
   "metadata": {},
   "source": [
    "Once again, the rank does not seem to be linearly dependent on any of the metrics that we kept. Let's try to visualize triplets of parameters instead of pairs"
   ]
  },
  {
   "cell_type": "code",
   "execution_count": null,
   "metadata": {
    "ExecuteTime": {
     "end_time": "2017-10-25T17:38:38.208480Z",
     "start_time": "2017-10-25T17:38:37.716999Z"
    },
    "collapsed": true,
    "scrolled": false
   },
   "outputs": [],
   "source": [
    "# Check the relation between the metrics we studied before\n",
    "# and the ranking of the university\n",
    "fig = plt.figure(num=1,figsize=(10,10))\n",
    "ax = fig.add_subplot(111, projection='3d')\n",
    "top_uni_scatter = ax.scatter(\n",
    "    ranking_with_metrics[\"Metrics\", \"faculty student ratio\"].values.tolist(), \n",
    "    ranking_with_metrics[\"Metrics\", \"inter student ratio\"].values.tolist(),\n",
    "    ranking_with_metrics[\"Top Universities\", \"rank\"].values.tolist(),\n",
    "    c=ranking_with_metrics[\"Top Universities\", \"rank\"].values.tolist(),\n",
    "    cmap=\"autumn\", label='Top Universities'\n",
    ")\n",
    "higher_ed_scatter = ax.scatter(\n",
    "           ranking_with_metrics[\"Metrics\", \"faculty student ratio\"].values.tolist(), \n",
    "           ranking_with_metrics[\"Metrics\", \"inter student ratio\"].values.tolist(),\n",
    "           ranking_with_metrics[\"Higher Education\", \"rank\"].values.tolist(),\n",
    "           c=ranking_with_metrics[\"Higher Education\", \"rank\"].values.tolist(),\n",
    "           cmap=\"winter\", label='Higher Education'\n",
    ")\n",
    "\n",
    "ax.set_xlabel(\"Faculty to student ratio\")\n",
    "ax.set_ylabel(\"International student ratio\")\n",
    "ax.set_zlabel(\"Ranking\")\n",
    "ax.set_title(\"Ranking versus the Faculty to student and international student ratios\")\n",
    "top_uni_colorbar   = plt.colorbar(top_uni_scatter,fraction=0.02)#,pad=0.04)\n",
    "higher_ed_colorbar = plt.colorbar(higher_ed_scatter,fraction=0.02)#,pad=0.04)\n",
    "top_uni_colorbar.set_label(\"Top Universities\", labelpad=-35)\n",
    "higher_ed_colorbar.set_label(\"Higher Education\", labelpad=-35)\n",
    "plt.show()"
   ]
  },
  {
   "cell_type": "code",
   "execution_count": null,
   "metadata": {
    "ExecuteTime": {
     "end_time": "2017-10-25T17:38:45.110039Z",
     "start_time": "2017-10-25T17:38:44.554351Z"
    },
    "collapsed": true,
    "scrolled": false
   },
   "outputs": [],
   "source": [
    "# Check for correlation between the number of persons in a school\n",
    "# And its rating (size = better rating?)\n",
    "fig = plt.figure(num=1,figsize=(10,10))\n",
    "ax = fig.add_subplot(111, projection='3d')\n",
    "top_uni_scatter = ax.scatter(\n",
    "    ranking_with_metrics[\"Top Universities\", \"total faculty\"].values.tolist(), \n",
    "    ranking_with_metrics[\"Top Universities\", \"total student\"].values.tolist(),\n",
    "    ranking_with_metrics[\"Top Universities\", \"rank\"].values.tolist(),\n",
    "    c=ranking_with_metrics[\"Top Universities\", \"rank\"].values.tolist(),\n",
    "    cmap=\"autumn\", label='Top Universities'\n",
    ")\n",
    "higher_ed_scatter = ax.scatter(\n",
    "    ranking_with_metrics[\"Higher Education\", \"total faculty\"].values.tolist(), \n",
    "    ranking_with_metrics[\"Higher Education\", \"total student\"].values.tolist(),\n",
    "    ranking_with_metrics[\"Higher Education\", \"rank\"].values.tolist(),\n",
    "    c=ranking_with_metrics[\"Higher Education\", \"rank\"].values.tolist(),\n",
    "    cmap=\"winter\", label='Higher Education'\n",
    ")\n",
    "ax.set_xlabel(\"Total Number of Faculties\")\n",
    "ax.set_ylabel(\"Total Number of Students\")\n",
    "ax.set_zlabel(\"Ranking\")\n",
    "ax.set_title(\"Ranking versus the number of faculties and students\")\n",
    "top_uni_colorbar   = plt.colorbar(top_uni_scatter,fraction=0.02)#,pad=0.04)\n",
    "higher_ed_colorbar = plt.colorbar(higher_ed_scatter,fraction=0.02)#,pad=0.04)\n",
    "top_uni_colorbar.set_label(\"Top Universities\", labelpad=-35)\n",
    "higher_ed_colorbar.set_label(\"Higher Education\", labelpad=-35)\n",
    "plt.show()"
   ]
  },
  {
   "cell_type": "markdown",
   "metadata": {},
   "source": [
    "These plots look nice but are difficult to interpret because of perspective. Let's try to analyze the same correlations, but using 2D scatter plots. To represent the rank, we will use the size of the dot"
   ]
  },
  {
   "cell_type": "code",
   "execution_count": null,
   "metadata": {
    "ExecuteTime": {
     "end_time": "2017-10-25T17:38:54.072266Z",
     "start_time": "2017-10-25T17:38:54.060151Z"
    },
    "collapsed": true
   },
   "outputs": [],
   "source": [
    "rank = pd.to_numeric(ranking_with_metrics['Average']['rank']).values\n",
    "fac_r = ranking_with_metrics['Metrics']['faculty student ratio'].values\n",
    "inter_r = ranking_with_metrics['Metrics']['inter student ratio'].values"
   ]
  },
  {
   "cell_type": "code",
   "execution_count": null,
   "metadata": {
    "ExecuteTime": {
     "end_time": "2017-10-25T17:38:54.630916Z",
     "start_time": "2017-10-25T17:38:54.624702Z"
    },
    "collapsed": true
   },
   "outputs": [],
   "source": [
    "rank_fr_ir = sorted(zip(rank, fac_r, inter_r), key=lambda t: t[0])"
   ]
  },
  {
   "cell_type": "code",
   "execution_count": null,
   "metadata": {
    "ExecuteTime": {
     "end_time": "2017-10-25T18:43:28.429839Z",
     "start_time": "2017-10-25T18:43:28.427527Z"
    },
    "collapsed": true
   },
   "outputs": [],
   "source": [
    "# We define points that create the line to split the graph below\n",
    "# Those points where found visually\n",
    "split_line_points= [(0.25, 0.08), (0, 0.7)]"
   ]
  },
  {
   "cell_type": "code",
   "execution_count": null,
   "metadata": {
    "ExecuteTime": {
     "end_time": "2017-10-25T18:43:29.551079Z",
     "start_time": "2017-10-25T18:43:29.273893Z"
    },
    "collapsed": true,
    "scrolled": false
   },
   "outputs": [],
   "source": [
    "q3 = ranking_with_metrics['Average']['rank'].quantile(0.10)\n",
    "\n",
    "lower_r, lower_x, lower_y = zip(*filter(lambda t: t[0] > q3, rank_fr_ir))\n",
    "upper_r, upper_x, upper_y = zip(*filter(lambda t: t[0] < q3, rank_fr_ir))\n",
    "max_r = max(lower_r)\n",
    "\n",
    "fig, ax = plt.subplots(nrows=1, ncols=1, figsize=(15,15))\n",
    "\n",
    "# Plot top ranking universities\n",
    "ax.scatter(\n",
    "    upper_x,\n",
    "    upper_y,\n",
    "    s=[(max_r - r)*2  for r in upper_r],\n",
    "    marker='o',\n",
    "    c='orange',\n",
    "    label='Best ' + str(len(upper_r)) + ' Universities'\n",
    ")\n",
    "\n",
    "# Plot the others\n",
    "ax.scatter(\n",
    "    lower_x,\n",
    "    lower_y,\n",
    "    s=[(max_r - r)*2 for r in lower_r],\n",
    "    marker='o',\n",
    "    label='The remaining ' + str(len(lower_r)) + ' Universities'\n",
    ")\n",
    "ax.plot(split_line_points[0], split_line_points[1], c='r')\n",
    "ax.set_ylabel('Proportion of international students')\n",
    "ax.set_xlabel('Faculty members / students ratio')\n",
    "ax.set_title('Correlation between the rank and ratios of international students and faculty members\\n (bigger dot => best rank)')\n",
    "ax.legend()\n",
    "\n",
    "plt.show()"
   ]
  },
  {
   "cell_type": "markdown",
   "metadata": {},
   "source": [
    "While we failed to find a direct correlation between the rank and any other parameter and between any pair of parameters,\n",
    "In this plot we took the ratio of faculty members and the ratio of international students (the only pair that showed a positive correlation) and we tried to link to the rank using the dot size. We remark however that on the right of the red line, most of universities have a good ranking. Therefore we can assume that three variables are correlated."
   ]
  },
  {
   "cell_type": "markdown",
   "metadata": {},
   "source": [
    "According to the previous conclusion, we suppose that the \"best\" university maximizes the distance from the red line.\n",
    "\n",
    "We will therefore consider university as points whose coordinates are the two ratios and find the furthest point from the red line.\n",
    "To find the distance of a point $(u, v)$ from a line $ax + by + c = 0$, we apply the formula:\n",
    "\n",
    "$$\\frac{au + bv + c}{\\sqrt{a^2 + b^2}}$$\n",
    "\n",
    "We compute the coefficients $a,b,c$ and, for each university, its distance from the line:"
   ]
  },
  {
   "cell_type": "code",
   "execution_count": null,
   "metadata": {
    "ExecuteTime": {
     "end_time": "2017-10-25T18:43:34.839477Z",
     "start_time": "2017-10-25T18:43:34.830268Z"
    },
    "collapsed": true
   },
   "outputs": [],
   "source": [
    "def coefs_line(p1, p2):\n",
    "    \"\"\"\n",
    "    Computes the coefficients of a line of the from ax + by + c\n",
    "    passing through the points p1 and p2\n",
    "    \"\"\"\n",
    "    x1, y1 = p1\n",
    "    x2, y2 = p2\n",
    "    a = y1 - y2\n",
    "    b = -(x1 - x2)\n",
    "    c = (x1 * x2 - x2 * y1)\n",
    "    return a, b, c"
   ]
  },
  {
   "cell_type": "markdown",
   "metadata": {},
   "source": [
    "Also, we want to find if the point is to the left of the line or to the right. We will use the point in split_line_points as $p_1=(x_1, y_1)$ and $p2=(x_2, y_2)$. The point of interest will be written as $p_3=(x_3,y_3)$. To find the orientation of the point we use:\n",
    "\n",
    "$$s = (x_3 - x_1)(y_2 - y_1) - (y_3 - y_1)(x_2 - x_1)$$\n",
    "\n",
    "If $s<0$ the point is to the left, if $s=0$ the point is on the line, if $s>0$ the point is to the right.\n",
    "\n"
   ]
  },
  {
   "cell_type": "code",
   "execution_count": null,
   "metadata": {
    "ExecuteTime": {
     "end_time": "2017-10-25T18:43:37.468677Z",
     "start_time": "2017-10-25T18:43:37.461377Z"
    },
    "collapsed": true
   },
   "outputs": [],
   "source": [
    "def line_side(p1, p2, x3, y3):\n",
    "    \"\"\"\n",
    "    Arguments to line_side are three points represented as tuple\n",
    "    p1 and p2 represent the line.\n",
    "    It returns -1 if p3 is to the left, 0 if it is on the line \n",
    "    and 1 if it is to the right\n",
    "    \"\"\"\n",
    "    s = (x3 - p1[0]) * (p2[1] - p1[1]) - (y3 - p1[1]) * (p2[0] - p1[0])\n",
    "    return np.sign(s)"
   ]
  },
  {
   "cell_type": "code",
   "execution_count": null,
   "metadata": {
    "ExecuteTime": {
     "end_time": "2017-10-25T18:43:38.120462Z",
     "start_time": "2017-10-25T18:43:38.117703Z"
    },
    "collapsed": true
   },
   "outputs": [],
   "source": [
    "def distance_to_line(a, b, c, u, v):\n",
    "    \"\"\"\n",
    "    Computes the distance between the point (u, v) and the\n",
    "    line with equation ay + bx + c = 0\n",
    "    \"\"\"\n",
    "    return np.abs((a*u + b*v + c) / np.sqrt(a**2 + b**2))"
   ]
  },
  {
   "cell_type": "code",
   "execution_count": null,
   "metadata": {
    "ExecuteTime": {
     "end_time": "2017-10-25T18:43:41.229750Z",
     "start_time": "2017-10-25T18:43:41.226340Z"
    },
    "collapsed": true
   },
   "outputs": [],
   "source": [
    "def sided_distance_to_line(line_points, u, v):\n",
    "    \"\"\"\n",
    "    Computes the \"signed\" distance of the point (u, v) from the line.\n",
    "    Sign is plus if on the right of the line, minus otherwise\n",
    "    \"\"\"\n",
    "    a, b, c = coefs_line(line_points[0], line_points[1])\n",
    "    return line_side(line_points[0], line_points[1], u, v) * distance_to_line(a, b, c, u, v)"
   ]
  },
  {
   "cell_type": "code",
   "execution_count": null,
   "metadata": {
    "ExecuteTime": {
     "end_time": "2017-10-25T18:43:41.637431Z",
     "start_time": "2017-10-25T18:43:41.635036Z"
    },
    "collapsed": true,
    "run_control": {
     "marked": true
    }
   },
   "outputs": [],
   "source": [
    "a, b, c = coefs_line(split_line_points[0], split_line_points[1])"
   ]
  },
  {
   "cell_type": "code",
   "execution_count": null,
   "metadata": {
    "ExecuteTime": {
     "end_time": "2017-10-25T18:52:38.717747Z",
     "start_time": "2017-10-25T18:52:38.653609Z"
    },
    "collapsed": true
   },
   "outputs": [],
   "source": [
    "# Build necessary dataframe\n",
    "df = pd.DataFrame({\n",
    "    'rank': pd.to_numeric(ranking_with_metrics['Average']['rank']),\n",
    "    'faculty ratio': ranking_with_metrics['Metrics']['faculty student ratio'],\n",
    "    'international ratio': ranking_with_metrics['Metrics']['inter student ratio'],\n",
    "    'title': ranking_with_metrics['University Info']['title']\n",
    "})\n",
    "\n",
    "# We filter out the 'bad' schools, which have a rank greater than 25\n",
    "df = df.loc[df['rank'] < 25]\n",
    "\n",
    "#df['distance'] =  line_side(split_line_points[0], split_line_points[1], df['faculty ratio'], df['international ratio']) * np.abs((a * df['faculty ratio'] + b * df['international ratio'] + c) / np.sqrt(a**2 + b**2))\n",
    "df['distance'] = sided_distance_to_line(split_line_points, df['faculty ratio'], df['international ratio'])"
   ]
  },
  {
   "cell_type": "code",
   "execution_count": null,
   "metadata": {
    "ExecuteTime": {
     "end_time": "2017-10-25T18:52:39.882197Z",
     "start_time": "2017-10-25T18:52:39.870780Z"
    },
    "collapsed": true
   },
   "outputs": [],
   "source": [
    "display(df)"
   ]
  },
  {
   "cell_type": "code",
   "execution_count": null,
   "metadata": {
    "ExecuteTime": {
     "end_time": "2017-10-25T18:52:50.939466Z",
     "start_time": "2017-10-25T18:52:50.928804Z"
    },
    "collapsed": true
   },
   "outputs": [],
   "source": [
    "display(df.sort_values(['distance'], ascending=False).head(10))"
   ]
  },
  {
   "cell_type": "code",
   "execution_count": null,
   "metadata": {
    "ExecuteTime": {
     "end_time": "2017-10-25T18:53:01.184871Z",
     "start_time": "2017-10-25T18:53:01.176814Z"
    },
    "collapsed": true,
    "scrolled": true
   },
   "outputs": [],
   "source": [
    "df[df.distance == df.distance.max()]"
   ]
  },
  {
   "cell_type": "markdown",
   "metadata": {},
   "source": [
    "From this result we obtain the university that should be ranked number one considering the faculty ratio, the international ratio and the rank.\n",
    "The university is **California Institute of Technology**. \n",
    "\n",
    "Its rank is very good in the provided datasets too, which reassures us of our technique."
   ]
  }
 ],
 "metadata": {
  "kernelspec": {
   "display_name": "Python 3",
   "language": "python",
   "name": "python3"
  },
  "language_info": {
   "codemirror_mode": {
    "name": "ipython",
    "version": 3
   },
   "file_extension": ".py",
   "mimetype": "text/x-python",
   "name": "python",
   "nbconvert_exporter": "python",
   "pygments_lexer": "ipython3",
   "version": "3.6.1"
  },
  "toc": {
   "nav_menu": {},
   "number_sections": true,
   "sideBar": false,
   "skip_h1_title": false,
   "toc_cell": false,
   "toc_position": {
    "height": "29px",
    "left": "36px",
    "right": "804px",
    "top": "-35px",
    "width": "100px"
   },
   "toc_section_display": "none",
   "toc_window_display": true
  },
  "varInspector": {
   "cols": {
    "lenName": 16,
    "lenType": 16,
    "lenVar": 40
   },
   "kernels_config": {
    "python": {
     "delete_cmd_postfix": "",
     "delete_cmd_prefix": "del ",
     "library": "var_list.py",
     "varRefreshCmd": "print(var_dic_list())"
    },
    "r": {
     "delete_cmd_postfix": ") ",
     "delete_cmd_prefix": "rm(",
     "library": "var_list.r",
     "varRefreshCmd": "cat(var_dic_list()) "
    }
   },
   "types_to_exclude": [
    "module",
    "function",
    "builtin_function_or_method",
    "instance",
    "_Feature"
   ],
   "window_display": false
  }
 },
 "nbformat": 4,
 "nbformat_minor": 2
}
