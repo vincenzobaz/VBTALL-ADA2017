{
 "cells": [
  {
   "cell_type": "markdown",
   "metadata": {},
   "source": [
    "# Table of Contents\n",
    " <p><div class=\"lev1\"><a href=\"#Task-1.-Compiling-Ebola-Data\"><span class=\"toc-item-num\">Task 1.&nbsp;&nbsp;</span>Compiling Ebola Data</a></div>\n",
    " <div class=\"lev1\"><a href=\"#Task-2.-RNA-Sequences\"><span class=\"toc-item-num\">Task 2.&nbsp;&nbsp;</span>RNA Sequences</a></div>\n",
    " <div class=\"lev1\"><a href=\"#Task-3.-Class-War-in-Titanic\"><span class=\"toc-item-num\">Task 3.&nbsp;&nbsp;</span>Class War in Titanic</a></div></p>"
   ]
  },
  {
   "cell_type": "code",
   "execution_count": 793,
   "metadata": {
    "collapsed": true
   },
   "outputs": [],
   "source": [
    "import pandas as pd\n",
    "import os\n",
    "import numpy as np"
   ]
  },
  {
   "cell_type": "code",
   "execution_count": 794,
   "metadata": {
    "collapsed": true
   },
   "outputs": [],
   "source": [
    "DATA_FOLDER = \"/home/vinz/Desktop/ADA/ADA2017-Tutorials/02 - Intro to Pandas/Data\" # Use the data folder provided in Tutorial 02 - Intro to Pandas."
   ]
  },
  {
   "cell_type": "code",
   "execution_count": 795,
   "metadata": {},
   "outputs": [
    {
     "data": {
      "text/plain": [
       "float"
      ]
     },
     "execution_count": 795,
     "metadata": {},
     "output_type": "execute_result"
    }
   ],
   "source": [
    "type(np.nan)"
   ]
  },
  {
   "cell_type": "markdown",
   "metadata": {},
   "source": [
    "## Task 1. Compiling Ebola Data\n",
    "\n",
    "The `DATA_FOLDER/ebola` folder contains summarized reports of Ebola cases from three countries (Guinea, Liberia and Sierra Leone) during the recent outbreak of the disease in West Africa. For each country, there are daily reports that contain various information about the outbreak in several cities in each country.\n",
    "\n",
    "Use pandas to import these data files into a single `Dataframe`.\n",
    "Using this `DataFrame`, calculate for *each country*, the *daily average* per year of *new cases* and *deaths*.\n",
    "Make sure you handle all the different expressions for *new cases* and *deaths* that are used in the reports."
   ]
  },
  {
   "cell_type": "markdown",
   "metadata": {},
   "source": [
    "### Strategy\n",
    "\n",
    "We will import and wrangle the data for each country separately and then combine everything into a single data frame.\n",
    "\n",
    "As the data files already contain variables with nation wide statistics, we will use these values instead of manually aggregating the data city by city."
   ]
  },
  {
   "cell_type": "markdown",
   "metadata": {},
   "source": [
    "As specified on Mattermost, we track for both new cases and deaths the probable, suspected and confirmed values."
   ]
  },
  {
   "cell_type": "code",
   "execution_count": 796,
   "metadata": {
    "collapsed": true
   },
   "outputs": [],
   "source": [
    "def ebola_csv_iter(folder):\n",
    "    \"\"\"Utility function returning an iterator over the csv files in given folder\"\"\"\n",
    "    path = ''.join([DATA_FOLDER, '/ebola/', folder, '/'])\n",
    "    for file in os.listdir(path):\n",
    "        if file.endswith(\".csv\"):\n",
    "            yield file, ''.join([path, file])"
   ]
  },
  {
   "cell_type": "code",
   "execution_count": 797,
   "metadata": {
    "collapsed": true
   },
   "outputs": [],
   "source": [
    "def associate_to_country(country, df):\n",
    "    \"\"\"Adds a country super index to the provided dataframe\"\"\"\n",
    "    country = pd.DataFrame({\n",
    "        'Country': np.repeat(country, len(df)),\n",
    "        'Date': df.index\n",
    "    })\n",
    "    return country.merge(df, right_index=True, left_on='Date').set_index(['Country', 'Date'])"
   ]
  },
  {
   "cell_type": "code",
   "execution_count": 829,
   "metadata": {
    "collapsed": true
   },
   "outputs": [],
   "source": [
    "def parse_num(x):\n",
    "    try:\n",
    "        return np.float32(x)\n",
    "    except ValueError:\n",
    "        return np.nan"
   ]
  },
  {
   "cell_type": "markdown",
   "metadata": {},
   "source": [
    "### Guinea"
   ]
  },
  {
   "cell_type": "code",
   "execution_count": 799,
   "metadata": {
    "collapsed": true,
    "scrolled": false
   },
   "outputs": [],
   "source": [
    "dfs = {}\n",
    "tables_with_duplicates = []\n",
    "interesting_fields = {\n",
    "    #'New deaths registered today (confirmed)': 'Death confirmed',\n",
    "    #'New deaths registered today (probables)': 'Death probable',\n",
    "    #'New deaths registered today (suspects)': 'Death suspected',\n",
    "    'Total deaths of suspects': 'Death suspected',\n",
    "    'Total deaths of probables': 'Death probable',\n",
    "    'Total deaths of confirmed': 'Death confirmed',\n",
    "    'New cases of confirmed': 'New cases confirmed',\n",
    "    'New cases of probables': 'New cases probable', \n",
    "    'New cases of suspects': 'New cases suspected'\n",
    "}\n",
    "for file, path in ebola_csv_iter('guinea_data'):\n",
    "    df = pd.read_csv(path,\n",
    "                     parse_dates=['Date'],\n",
    "                     usecols=['Date', 'Description', 'Totals'],\n",
    "                     converters={'Totals': parse_num}, skip_blank_lines=True)\n",
    "    df.rename(columns={'Description': 'Variable', 'Totals': 'National'}, inplace=True)\n",
    "    # Check for duplicates\n",
    "    df = df[df.Variable.isin(interesting_fields)]\n",
    "    if len(df.Variable.unique()) != len(df.Variable):\n",
    "        tables_with_duplicates.append(file)\n",
    "    dfs[file] = df"
   ]
  },
  {
   "cell_type": "code",
   "execution_count": 800,
   "metadata": {},
   "outputs": [
    {
     "data": {
      "text/plain": [
       "[]"
      ]
     },
     "execution_count": 800,
     "metadata": {},
     "output_type": "execute_result"
    }
   ],
   "source": [
    "tables_with_duplicates"
   ]
  },
  {
   "cell_type": "markdown",
   "metadata": {},
   "source": [
    "As there are no duplicates, we can pivot all the dataframes to have a timeseries dataframe:"
   ]
  },
  {
   "cell_type": "code",
   "execution_count": 801,
   "metadata": {
    "collapsed": true
   },
   "outputs": [],
   "source": [
    "dfs = [df.pivot(index='Date', columns='Variable', values='National') for df in dfs.values()]"
   ]
  },
  {
   "cell_type": "code",
   "execution_count": 802,
   "metadata": {
    "collapsed": true,
    "scrolled": false
   },
   "outputs": [],
   "source": [
    "guinea = pd.concat(dfs).sort_index() # Create the data series: index=date\n",
    "guinea = associate_to_country('Guinea', guinea).rename(columns=interesting_fields)"
   ]
  },
  {
   "cell_type": "markdown",
   "metadata": {},
   "source": [
    "We started by using the fields:\n",
    "\n",
    " - `New deaths registered today (confirmed)`\n",
    " - `New deaths registered today (probables)`\n",
    " - `New deaths registered today (suspects)`\n",
    " \n",
    "but they were empty for all days except one. Therefore we decided to use the cumulated values and perform the subtraction to obtain daily counts:"
   ]
  },
  {
   "cell_type": "code",
   "execution_count": 803,
   "metadata": {
    "collapsed": true
   },
   "outputs": [],
   "source": [
    "deaths = guinea[['Death confirmed', 'Death probable', 'Death suspected']]\n",
    "cleaned = deaths - deaths.shift(1) # row_i - row_{i - 1}\n",
    "guinea.loc[:, ['Death confirmed', 'Death probable', 'Death suspected']] = cleaned"
   ]
  },
  {
   "cell_type": "markdown",
   "metadata": {},
   "source": [
    "This operation relies on a very important assumption. \n",
    "We repeat the same computation on the data concerning Liberia and Sierra Leone.\n",
    "We assume that, given that the counts are cumulative, if we are missing a value for day $j$ and we have a value for day $i > j$, the value for day $j$ is counted in day $i$. **In other words, even if data for some days is missing, the totals are correct.**"
   ]
  },
  {
   "cell_type": "markdown",
   "metadata": {},
   "source": [
    "**PROOFREADING**: .tail(5) show that the value is not really cumulative. Either we drop the last two lines or the third"
   ]
  },
  {
   "cell_type": "code",
   "execution_count": 804,
   "metadata": {},
   "outputs": [
    {
     "data": {
      "text/html": [
       "<div>\n",
       "<style>\n",
       "    .dataframe thead tr:only-child th {\n",
       "        text-align: right;\n",
       "    }\n",
       "\n",
       "    .dataframe thead th {\n",
       "        text-align: left;\n",
       "    }\n",
       "\n",
       "    .dataframe tbody tr th {\n",
       "        vertical-align: top;\n",
       "    }\n",
       "</style>\n",
       "<table border=\"1\" class=\"dataframe\">\n",
       "  <thead>\n",
       "    <tr style=\"text-align: right;\">\n",
       "      <th></th>\n",
       "      <th></th>\n",
       "      <th>New cases confirmed</th>\n",
       "      <th>New cases probable</th>\n",
       "      <th>New cases suspected</th>\n",
       "      <th>Death confirmed</th>\n",
       "      <th>Death probable</th>\n",
       "      <th>Death suspected</th>\n",
       "    </tr>\n",
       "    <tr>\n",
       "      <th>Country</th>\n",
       "      <th>Date</th>\n",
       "      <th></th>\n",
       "      <th></th>\n",
       "      <th></th>\n",
       "      <th></th>\n",
       "      <th></th>\n",
       "      <th></th>\n",
       "    </tr>\n",
       "  </thead>\n",
       "  <tbody>\n",
       "    <tr>\n",
       "      <th rowspan=\"5\" valign=\"top\">Guinea</th>\n",
       "      <th>2014-09-23</th>\n",
       "      <td>25.0</td>\n",
       "      <td>0.0</td>\n",
       "      <td>4.0</td>\n",
       "      <td>8.0</td>\n",
       "      <td>0.0</td>\n",
       "      <td>0.0</td>\n",
       "    </tr>\n",
       "    <tr>\n",
       "      <th>2014-09-24</th>\n",
       "      <td>20.0</td>\n",
       "      <td>0.0</td>\n",
       "      <td>8.0</td>\n",
       "      <td>5.0</td>\n",
       "      <td>0.0</td>\n",
       "      <td>0.0</td>\n",
       "    </tr>\n",
       "    <tr>\n",
       "      <th>2014-09-26</th>\n",
       "      <td>10.0</td>\n",
       "      <td>7.0</td>\n",
       "      <td>2.0</td>\n",
       "      <td>187.0</td>\n",
       "      <td>332.0</td>\n",
       "      <td>164.0</td>\n",
       "    </tr>\n",
       "    <tr>\n",
       "      <th>2014-09-30</th>\n",
       "      <td>11.0</td>\n",
       "      <td>0.0</td>\n",
       "      <td>4.0</td>\n",
       "      <td>-129.0</td>\n",
       "      <td>-319.0</td>\n",
       "      <td>NaN</td>\n",
       "    </tr>\n",
       "    <tr>\n",
       "      <th>2014-10-01</th>\n",
       "      <td>6.0</td>\n",
       "      <td>0.0</td>\n",
       "      <td>28.0</td>\n",
       "      <td>23.0</td>\n",
       "      <td>2.0</td>\n",
       "      <td>NaN</td>\n",
       "    </tr>\n",
       "  </tbody>\n",
       "</table>\n",
       "</div>"
      ],
      "text/plain": [
       "                    New cases confirmed  New cases probable  \\\n",
       "Country Date                                                  \n",
       "Guinea  2014-09-23                 25.0                 0.0   \n",
       "        2014-09-24                 20.0                 0.0   \n",
       "        2014-09-26                 10.0                 7.0   \n",
       "        2014-09-30                 11.0                 0.0   \n",
       "        2014-10-01                  6.0                 0.0   \n",
       "\n",
       "                    New cases suspected  Death confirmed  Death probable  \\\n",
       "Country Date                                                               \n",
       "Guinea  2014-09-23                  4.0              8.0             0.0   \n",
       "        2014-09-24                  8.0              5.0             0.0   \n",
       "        2014-09-26                  2.0            187.0           332.0   \n",
       "        2014-09-30                  4.0           -129.0          -319.0   \n",
       "        2014-10-01                 28.0             23.0             2.0   \n",
       "\n",
       "                    Death suspected  \n",
       "Country Date                         \n",
       "Guinea  2014-09-23              0.0  \n",
       "        2014-09-24              0.0  \n",
       "        2014-09-26            164.0  \n",
       "        2014-09-30              NaN  \n",
       "        2014-10-01              NaN  "
      ]
     },
     "execution_count": 804,
     "metadata": {},
     "output_type": "execute_result"
    }
   ],
   "source": [
    "guinea.tail(5)"
   ]
  },
  {
   "cell_type": "code",
   "execution_count": 805,
   "metadata": {
    "scrolled": false
   },
   "outputs": [
    {
     "data": {
      "text/html": [
       "<div>\n",
       "<style>\n",
       "    .dataframe thead tr:only-child th {\n",
       "        text-align: right;\n",
       "    }\n",
       "\n",
       "    .dataframe thead th {\n",
       "        text-align: left;\n",
       "    }\n",
       "\n",
       "    .dataframe tbody tr th {\n",
       "        vertical-align: top;\n",
       "    }\n",
       "</style>\n",
       "<table border=\"1\" class=\"dataframe\">\n",
       "  <thead>\n",
       "    <tr style=\"text-align: right;\">\n",
       "      <th></th>\n",
       "      <th></th>\n",
       "      <th>New cases confirmed</th>\n",
       "      <th>New cases probable</th>\n",
       "      <th>New cases suspected</th>\n",
       "      <th>Death confirmed</th>\n",
       "      <th>Death probable</th>\n",
       "      <th>Death suspected</th>\n",
       "    </tr>\n",
       "    <tr>\n",
       "      <th>Country</th>\n",
       "      <th>Date</th>\n",
       "      <th></th>\n",
       "      <th></th>\n",
       "      <th></th>\n",
       "      <th></th>\n",
       "      <th></th>\n",
       "      <th></th>\n",
       "    </tr>\n",
       "  </thead>\n",
       "  <tbody>\n",
       "    <tr>\n",
       "      <th rowspan=\"10\" valign=\"top\">Guinea</th>\n",
       "      <th>2014-08-04</th>\n",
       "      <td>4.0</td>\n",
       "      <td>0.0</td>\n",
       "      <td>5.0</td>\n",
       "      <td>NaN</td>\n",
       "      <td>NaN</td>\n",
       "      <td>NaN</td>\n",
       "    </tr>\n",
       "    <tr>\n",
       "      <th>2014-08-26</th>\n",
       "      <td>10.0</td>\n",
       "      <td>NaN</td>\n",
       "      <td>18.0</td>\n",
       "      <td>64.0</td>\n",
       "      <td>8.0</td>\n",
       "      <td>0.0</td>\n",
       "    </tr>\n",
       "    <tr>\n",
       "      <th>2014-08-27</th>\n",
       "      <td>10.0</td>\n",
       "      <td>0.0</td>\n",
       "      <td>12.0</td>\n",
       "      <td>2.0</td>\n",
       "      <td>1.0</td>\n",
       "      <td>0.0</td>\n",
       "    </tr>\n",
       "    <tr>\n",
       "      <th>2014-08-30</th>\n",
       "      <td>9.0</td>\n",
       "      <td>0.0</td>\n",
       "      <td>15.0</td>\n",
       "      <td>30.0</td>\n",
       "      <td>0.0</td>\n",
       "      <td>0.0</td>\n",
       "    </tr>\n",
       "    <tr>\n",
       "      <th>2014-08-31</th>\n",
       "      <td>29.0</td>\n",
       "      <td>8.0</td>\n",
       "      <td>9.0</td>\n",
       "      <td>13.0</td>\n",
       "      <td>8.0</td>\n",
       "      <td>0.0</td>\n",
       "    </tr>\n",
       "    <tr>\n",
       "      <th>2014-09-02</th>\n",
       "      <td>14.0</td>\n",
       "      <td>0.0</td>\n",
       "      <td>11.0</td>\n",
       "      <td>12.0</td>\n",
       "      <td>0.0</td>\n",
       "      <td>0.0</td>\n",
       "    </tr>\n",
       "    <tr>\n",
       "      <th>2014-09-04</th>\n",
       "      <td>17.0</td>\n",
       "      <td>0.0</td>\n",
       "      <td>13.0</td>\n",
       "      <td>19.0</td>\n",
       "      <td>1.0</td>\n",
       "      <td>1.0</td>\n",
       "    </tr>\n",
       "    <tr>\n",
       "      <th>2014-09-07</th>\n",
       "      <td>11.0</td>\n",
       "      <td>0.0</td>\n",
       "      <td>5.0</td>\n",
       "      <td>34.0</td>\n",
       "      <td>0.0</td>\n",
       "      <td>1.0</td>\n",
       "    </tr>\n",
       "    <tr>\n",
       "      <th>2014-09-08</th>\n",
       "      <td>11.0</td>\n",
       "      <td>0.0</td>\n",
       "      <td>5.0</td>\n",
       "      <td>0.0</td>\n",
       "      <td>0.0</td>\n",
       "      <td>0.0</td>\n",
       "    </tr>\n",
       "    <tr>\n",
       "      <th>2014-09-09</th>\n",
       "      <td>7.0</td>\n",
       "      <td>0.0</td>\n",
       "      <td>9.0</td>\n",
       "      <td>8.0</td>\n",
       "      <td>0.0</td>\n",
       "      <td>0.0</td>\n",
       "    </tr>\n",
       "  </tbody>\n",
       "</table>\n",
       "</div>"
      ],
      "text/plain": [
       "                    New cases confirmed  New cases probable  \\\n",
       "Country Date                                                  \n",
       "Guinea  2014-08-04                  4.0                 0.0   \n",
       "        2014-08-26                 10.0                 NaN   \n",
       "        2014-08-27                 10.0                 0.0   \n",
       "        2014-08-30                  9.0                 0.0   \n",
       "        2014-08-31                 29.0                 8.0   \n",
       "        2014-09-02                 14.0                 0.0   \n",
       "        2014-09-04                 17.0                 0.0   \n",
       "        2014-09-07                 11.0                 0.0   \n",
       "        2014-09-08                 11.0                 0.0   \n",
       "        2014-09-09                  7.0                 0.0   \n",
       "\n",
       "                    New cases suspected  Death confirmed  Death probable  \\\n",
       "Country Date                                                               \n",
       "Guinea  2014-08-04                  5.0              NaN             NaN   \n",
       "        2014-08-26                 18.0             64.0             8.0   \n",
       "        2014-08-27                 12.0              2.0             1.0   \n",
       "        2014-08-30                 15.0             30.0             0.0   \n",
       "        2014-08-31                  9.0             13.0             8.0   \n",
       "        2014-09-02                 11.0             12.0             0.0   \n",
       "        2014-09-04                 13.0             19.0             1.0   \n",
       "        2014-09-07                  5.0             34.0             0.0   \n",
       "        2014-09-08                  5.0              0.0             0.0   \n",
       "        2014-09-09                  9.0              8.0             0.0   \n",
       "\n",
       "                    Death suspected  \n",
       "Country Date                         \n",
       "Guinea  2014-08-04              NaN  \n",
       "        2014-08-26              0.0  \n",
       "        2014-08-27              0.0  \n",
       "        2014-08-30              0.0  \n",
       "        2014-08-31              0.0  \n",
       "        2014-09-02              0.0  \n",
       "        2014-09-04              1.0  \n",
       "        2014-09-07              1.0  \n",
       "        2014-09-08              0.0  \n",
       "        2014-09-09              0.0  "
      ]
     },
     "execution_count": 805,
     "metadata": {},
     "output_type": "execute_result"
    }
   ],
   "source": [
    "guinea.head(n=10)"
   ]
  },
  {
   "cell_type": "markdown",
   "metadata": {},
   "source": [
    "### Liberia"
   ]
  },
  {
   "cell_type": "code",
   "execution_count": 806,
   "metadata": {
    "collapsed": true,
    "scrolled": true
   },
   "outputs": [],
   "source": [
    "dfs = {}\n",
    "tables_with_duplicates = []\n",
    "interesting_fields = {\n",
    "    'Total death/s in confirmed cases': 'Death confirmed',\n",
    "    'Total death/s in probable cases': 'Death probable',\n",
    "    'Total death/s in suspected cases': 'Death suspected',\n",
    "    'New case/s (confirmed)': 'New cases confirmed',\n",
    "    'New Case/s (Probable)': 'New cases probable',\n",
    "    'New Case/s (Suspected)': 'New cases suspected'\n",
    "}\n",
    "for file, path in ebola_csv_iter('liberia_data'):\n",
    "    df = pd.read_csv(path,\n",
    "                     parse_dates=['Date'],\n",
    "                     usecols=['Date', 'Variable', 'National'],\n",
    "                     converters={'National': parse_num})\n",
    "    df = df[df.Variable.isin(interesting_fields)]\n",
    "    # Check for duplicates\n",
    "    if len(df.Variable.unique()) != len(df.Variable):\n",
    "        tables_with_duplicates.append(file)\n",
    "    dfs[file] = df"
   ]
  },
  {
   "cell_type": "markdown",
   "metadata": {},
   "source": [
    "We remark that only a data file contains duplicate variables for the same day. Before dropping the duplicates, we look at the duplicated lines:"
   ]
  },
  {
   "cell_type": "code",
   "execution_count": 807,
   "metadata": {},
   "outputs": [
    {
     "data": {
      "text/plain": [
       "['2014-10-04-v142.csv']"
      ]
     },
     "execution_count": 807,
     "metadata": {},
     "output_type": "execute_result"
    }
   ],
   "source": [
    "tables_with_duplicates"
   ]
  },
  {
   "cell_type": "code",
   "execution_count": 808,
   "metadata": {
    "scrolled": false
   },
   "outputs": [
    {
     "data": {
      "text/html": [
       "<div>\n",
       "<style>\n",
       "    .dataframe thead tr:only-child th {\n",
       "        text-align: right;\n",
       "    }\n",
       "\n",
       "    .dataframe thead th {\n",
       "        text-align: left;\n",
       "    }\n",
       "\n",
       "    .dataframe tbody tr th {\n",
       "        vertical-align: top;\n",
       "    }\n",
       "</style>\n",
       "<table border=\"1\" class=\"dataframe\">\n",
       "  <thead>\n",
       "    <tr style=\"text-align: right;\">\n",
       "      <th></th>\n",
       "      <th>Date</th>\n",
       "      <th>Variable</th>\n",
       "      <th>National</th>\n",
       "    </tr>\n",
       "  </thead>\n",
       "  <tbody>\n",
       "    <tr>\n",
       "      <th>17</th>\n",
       "      <td>2014-10-04</td>\n",
       "      <td>Total death/s in confirmed cases</td>\n",
       "      <td>1012.0</td>\n",
       "    </tr>\n",
       "    <tr>\n",
       "      <th>18</th>\n",
       "      <td>2014-10-04</td>\n",
       "      <td>Total death/s in probable cases</td>\n",
       "      <td>699.0</td>\n",
       "    </tr>\n",
       "    <tr>\n",
       "      <th>19</th>\n",
       "      <td>2014-10-04</td>\n",
       "      <td>Total death/s in suspected cases</td>\n",
       "      <td>488.0</td>\n",
       "    </tr>\n",
       "    <tr>\n",
       "      <th>34</th>\n",
       "      <td>2014-10-04</td>\n",
       "      <td>Total death/s in confirmed cases</td>\n",
       "      <td>1018.0</td>\n",
       "    </tr>\n",
       "    <tr>\n",
       "      <th>35</th>\n",
       "      <td>2014-10-04</td>\n",
       "      <td>Total death/s in probable cases</td>\n",
       "      <td>701.0</td>\n",
       "    </tr>\n",
       "    <tr>\n",
       "      <th>36</th>\n",
       "      <td>2014-10-04</td>\n",
       "      <td>Total death/s in suspected cases</td>\n",
       "      <td>491.0</td>\n",
       "    </tr>\n",
       "  </tbody>\n",
       "</table>\n",
       "</div>"
      ],
      "text/plain": [
       "         Date                          Variable  National\n",
       "17 2014-10-04  Total death/s in confirmed cases    1012.0\n",
       "18 2014-10-04   Total death/s in probable cases     699.0\n",
       "19 2014-10-04  Total death/s in suspected cases     488.0\n",
       "34 2014-10-04  Total death/s in confirmed cases    1018.0\n",
       "35 2014-10-04   Total death/s in probable cases     701.0\n",
       "36 2014-10-04  Total death/s in suspected cases     491.0"
      ]
     },
     "execution_count": 808,
     "metadata": {},
     "output_type": "execute_result"
    }
   ],
   "source": [
    "with_duplicates = dfs[tables_with_duplicates[0]]\n",
    "with_duplicates[with_duplicates.duplicated(keep=False, subset='Variable')]"
   ]
  },
  {
   "cell_type": "markdown",
   "metadata": {},
   "source": [
    "7 Variables are repeated twice."
   ]
  },
  {
   "cell_type": "code",
   "execution_count": 809,
   "metadata": {
    "collapsed": true
   },
   "outputs": [],
   "source": [
    "first = with_duplicates[with_duplicates.duplicated(keep='last', subset='Variable')][['Variable', 'National']]\n",
    "second = with_duplicates[with_duplicates.duplicated(keep='first', subset='Variable')][['Variable', 'National']]\n",
    "first = first.set_index('Variable')\n",
    "second = second.set_index('Variable')"
   ]
  },
  {
   "cell_type": "code",
   "execution_count": 810,
   "metadata": {},
   "outputs": [
    {
     "data": {
      "text/html": [
       "<div>\n",
       "<style>\n",
       "    .dataframe thead tr:only-child th {\n",
       "        text-align: right;\n",
       "    }\n",
       "\n",
       "    .dataframe thead th {\n",
       "        text-align: left;\n",
       "    }\n",
       "\n",
       "    .dataframe tbody tr th {\n",
       "        vertical-align: top;\n",
       "    }\n",
       "</style>\n",
       "<table border=\"1\" class=\"dataframe\">\n",
       "  <thead>\n",
       "    <tr style=\"text-align: right;\">\n",
       "      <th></th>\n",
       "      <th>National</th>\n",
       "    </tr>\n",
       "    <tr>\n",
       "      <th>Variable</th>\n",
       "      <th></th>\n",
       "    </tr>\n",
       "  </thead>\n",
       "  <tbody>\n",
       "    <tr>\n",
       "      <th>Total death/s in confirmed cases</th>\n",
       "      <td>6.0</td>\n",
       "    </tr>\n",
       "    <tr>\n",
       "      <th>Total death/s in probable cases</th>\n",
       "      <td>2.0</td>\n",
       "    </tr>\n",
       "    <tr>\n",
       "      <th>Total death/s in suspected cases</th>\n",
       "      <td>3.0</td>\n",
       "    </tr>\n",
       "  </tbody>\n",
       "</table>\n",
       "</div>"
      ],
      "text/plain": [
       "                                  National\n",
       "Variable                                  \n",
       "Total death/s in confirmed cases       6.0\n",
       "Total death/s in probable cases        2.0\n",
       "Total death/s in suspected cases       3.0"
      ]
     },
     "execution_count": 810,
     "metadata": {},
     "output_type": "execute_result"
    }
   ],
   "source": [
    "second - first"
   ]
  },
  {
   "cell_type": "markdown",
   "metadata": {},
   "source": [
    "We decided to keep the bigger values as the difference is not very relevant:"
   ]
  },
  {
   "cell_type": "code",
   "execution_count": 811,
   "metadata": {
    "collapsed": true
   },
   "outputs": [],
   "source": [
    "with_duplicates.drop_duplicates(subset='Variable', keep='last', inplace=True)"
   ]
  },
  {
   "cell_type": "code",
   "execution_count": 812,
   "metadata": {
    "collapsed": true
   },
   "outputs": [],
   "source": [
    "dfs = [df.pivot(index='Date', columns='Variable', values='National') for df in dfs.values()]"
   ]
  },
  {
   "cell_type": "code",
   "execution_count": 813,
   "metadata": {
    "collapsed": true
   },
   "outputs": [],
   "source": [
    "liberia = pd.concat(dfs).sort_index()\n",
    "liberia = associate_to_country('Liberia', liberia).rename(columns=interesting_fields)"
   ]
  },
  {
   "cell_type": "code",
   "execution_count": 814,
   "metadata": {
    "scrolled": false
   },
   "outputs": [
    {
     "data": {
      "text/html": [
       "<div>\n",
       "<style>\n",
       "    .dataframe thead tr:only-child th {\n",
       "        text-align: right;\n",
       "    }\n",
       "\n",
       "    .dataframe thead th {\n",
       "        text-align: left;\n",
       "    }\n",
       "\n",
       "    .dataframe tbody tr th {\n",
       "        vertical-align: top;\n",
       "    }\n",
       "</style>\n",
       "<table border=\"1\" class=\"dataframe\">\n",
       "  <thead>\n",
       "    <tr style=\"text-align: right;\">\n",
       "      <th></th>\n",
       "      <th></th>\n",
       "      <th>New cases probable</th>\n",
       "      <th>New cases suspected</th>\n",
       "      <th>New cases confirmed</th>\n",
       "      <th>Death confirmed</th>\n",
       "      <th>Death probable</th>\n",
       "      <th>Death suspected</th>\n",
       "    </tr>\n",
       "    <tr>\n",
       "      <th>Country</th>\n",
       "      <th>Date</th>\n",
       "      <th></th>\n",
       "      <th></th>\n",
       "      <th></th>\n",
       "      <th></th>\n",
       "      <th></th>\n",
       "      <th></th>\n",
       "    </tr>\n",
       "  </thead>\n",
       "  <tbody>\n",
       "    <tr>\n",
       "      <th rowspan=\"10\" valign=\"top\">Liberia</th>\n",
       "      <th>2014-06-16</th>\n",
       "      <td>1.0</td>\n",
       "      <td>2.0</td>\n",
       "      <td>1.0</td>\n",
       "      <td>8.0</td>\n",
       "      <td>6.0</td>\n",
       "      <td>2.0</td>\n",
       "    </tr>\n",
       "    <tr>\n",
       "      <th>2014-06-17</th>\n",
       "      <td>0.0</td>\n",
       "      <td>2.0</td>\n",
       "      <td>0.0</td>\n",
       "      <td>8.0</td>\n",
       "      <td>6.0</td>\n",
       "      <td>2.0</td>\n",
       "    </tr>\n",
       "    <tr>\n",
       "      <th>2014-06-22</th>\n",
       "      <td>0.0</td>\n",
       "      <td>5.0</td>\n",
       "      <td>5.0</td>\n",
       "      <td>16.0</td>\n",
       "      <td>8.0</td>\n",
       "      <td>1.0</td>\n",
       "    </tr>\n",
       "    <tr>\n",
       "      <th>2014-06-24</th>\n",
       "      <td>0.0</td>\n",
       "      <td>2.0</td>\n",
       "      <td>4.0</td>\n",
       "      <td>18.0</td>\n",
       "      <td>8.0</td>\n",
       "      <td>6.0</td>\n",
       "    </tr>\n",
       "    <tr>\n",
       "      <th>2014-06-25</th>\n",
       "      <td>1.0</td>\n",
       "      <td>4.0</td>\n",
       "      <td>2.0</td>\n",
       "      <td>20.0</td>\n",
       "      <td>8.0</td>\n",
       "      <td>9.0</td>\n",
       "    </tr>\n",
       "    <tr>\n",
       "      <th>2014-06-28</th>\n",
       "      <td>6.0</td>\n",
       "      <td>2.0</td>\n",
       "      <td>1.0</td>\n",
       "      <td>26.0</td>\n",
       "      <td>10.0</td>\n",
       "      <td>13.0</td>\n",
       "    </tr>\n",
       "    <tr>\n",
       "      <th>2014-06-29</th>\n",
       "      <td>0.0</td>\n",
       "      <td>0.0</td>\n",
       "      <td>2.0</td>\n",
       "      <td>26.0</td>\n",
       "      <td>10.0</td>\n",
       "      <td>13.0</td>\n",
       "    </tr>\n",
       "    <tr>\n",
       "      <th>2014-07-01</th>\n",
       "      <td>0.0</td>\n",
       "      <td>2.0</td>\n",
       "      <td>2.0</td>\n",
       "      <td>30.0</td>\n",
       "      <td>17.0</td>\n",
       "      <td>14.0</td>\n",
       "    </tr>\n",
       "    <tr>\n",
       "      <th>2014-07-02</th>\n",
       "      <td>3.0</td>\n",
       "      <td>1.0</td>\n",
       "      <td>0.0</td>\n",
       "      <td>32.0</td>\n",
       "      <td>20.0</td>\n",
       "      <td>14.0</td>\n",
       "    </tr>\n",
       "    <tr>\n",
       "      <th>2014-07-03</th>\n",
       "      <td>2.0</td>\n",
       "      <td>1.0</td>\n",
       "      <td>1.0</td>\n",
       "      <td>33.0</td>\n",
       "      <td>22.0</td>\n",
       "      <td>15.0</td>\n",
       "    </tr>\n",
       "  </tbody>\n",
       "</table>\n",
       "</div>"
      ],
      "text/plain": [
       "                    New cases probable  New cases suspected  \\\n",
       "Country Date                                                  \n",
       "Liberia 2014-06-16                 1.0                  2.0   \n",
       "        2014-06-17                 0.0                  2.0   \n",
       "        2014-06-22                 0.0                  5.0   \n",
       "        2014-06-24                 0.0                  2.0   \n",
       "        2014-06-25                 1.0                  4.0   \n",
       "        2014-06-28                 6.0                  2.0   \n",
       "        2014-06-29                 0.0                  0.0   \n",
       "        2014-07-01                 0.0                  2.0   \n",
       "        2014-07-02                 3.0                  1.0   \n",
       "        2014-07-03                 2.0                  1.0   \n",
       "\n",
       "                    New cases confirmed  Death confirmed  Death probable  \\\n",
       "Country Date                                                               \n",
       "Liberia 2014-06-16                  1.0              8.0             6.0   \n",
       "        2014-06-17                  0.0              8.0             6.0   \n",
       "        2014-06-22                  5.0             16.0             8.0   \n",
       "        2014-06-24                  4.0             18.0             8.0   \n",
       "        2014-06-25                  2.0             20.0             8.0   \n",
       "        2014-06-28                  1.0             26.0            10.0   \n",
       "        2014-06-29                  2.0             26.0            10.0   \n",
       "        2014-07-01                  2.0             30.0            17.0   \n",
       "        2014-07-02                  0.0             32.0            20.0   \n",
       "        2014-07-03                  1.0             33.0            22.0   \n",
       "\n",
       "                    Death suspected  \n",
       "Country Date                         \n",
       "Liberia 2014-06-16              2.0  \n",
       "        2014-06-17              2.0  \n",
       "        2014-06-22              1.0  \n",
       "        2014-06-24              6.0  \n",
       "        2014-06-25              9.0  \n",
       "        2014-06-28             13.0  \n",
       "        2014-06-29             13.0  \n",
       "        2014-07-01             14.0  \n",
       "        2014-07-02             14.0  \n",
       "        2014-07-03             15.0  "
      ]
     },
     "execution_count": 814,
     "metadata": {},
     "output_type": "execute_result"
    }
   ],
   "source": [
    "liberia.head(n=10)"
   ]
  },
  {
   "cell_type": "markdown",
   "metadata": {},
   "source": [
    "However in this dataframe, the three deaths columns are *cumulative*. We can therefore subtract the value from the previous line."
   ]
  },
  {
   "cell_type": "code",
   "execution_count": 815,
   "metadata": {
    "collapsed": true
   },
   "outputs": [],
   "source": [
    "deaths = liberia[['Death confirmed', 'Death probable', 'Death suspected']]\n",
    "cleaned = deaths - deaths.shift(1) # row_i - row_{i - 1}\n",
    "liberia.loc[:, ['Death confirmed', 'Death probable', 'Death suspected']] = cleaned"
   ]
  },
  {
   "cell_type": "code",
   "execution_count": 816,
   "metadata": {
    "collapsed": true
   },
   "outputs": [],
   "source": [
    "to_scale = liberia[-6:][['New cases probable', 'New cases suspected', 'New cases confirmed']]"
   ]
  },
  {
   "cell_type": "code",
   "execution_count": 817,
   "metadata": {
    "collapsed": true
   },
   "outputs": [],
   "source": [
    "liberia.loc[-6:, ['New cases probable', 'New cases suspected', 'New cases confirmed']] = to_scale - to_scale.shift(1)"
   ]
  },
  {
   "cell_type": "markdown",
   "metadata": {},
   "source": [
    "### Sierra Leone"
   ]
  },
  {
   "cell_type": "code",
   "execution_count": 818,
   "metadata": {
    "collapsed": true,
    "scrolled": false
   },
   "outputs": [],
   "source": [
    "dfs = {}\n",
    "tables_with_duplicates = []\n",
    "interesting_fields = {\n",
    "    'death_confirmed': 'Death confirmed',\n",
    "    'death_probable': 'Death probable',\n",
    "    'death_suspected': 'Death suspected',\n",
    "    'new_confirmed': 'New cases confirmed',\n",
    "    'new_probable': 'New cases probable',\n",
    "    'new_suspected': 'New cases suspected'\n",
    "}\n",
    "\n",
    "for file, path in ebola_csv_iter('sl_data'):\n",
    "    df = pd.read_csv(path,\n",
    "                     parse_dates=['date'],\n",
    "                     usecols=['date', 'variable', 'National'], \n",
    "                     converters={'National': parse_num})\n",
    "    df.rename(columns={'date': 'Date', 'variable': 'Variable'}, inplace=True)\n",
    "    df = df[df.Variable.isin(interesting_fields)]\n",
    "    if len(df.Variable.unique()) != len(df.Variable):\n",
    "        tables_with_duplicates.append(file)\n",
    "    dfs[file] = df"
   ]
  },
  {
   "cell_type": "code",
   "execution_count": 819,
   "metadata": {},
   "outputs": [
    {
     "data": {
      "text/plain": [
       "[]"
      ]
     },
     "execution_count": 819,
     "metadata": {},
     "output_type": "execute_result"
    }
   ],
   "source": [
    "tables_with_duplicates"
   ]
  },
  {
   "cell_type": "code",
   "execution_count": 820,
   "metadata": {
    "collapsed": true
   },
   "outputs": [],
   "source": [
    "dfs = [df.pivot(index='Date', columns='Variable', values='National') for df in dfs.values()]"
   ]
  },
  {
   "cell_type": "code",
   "execution_count": 821,
   "metadata": {
    "collapsed": true
   },
   "outputs": [],
   "source": [
    "sl = pd.concat(dfs).sort_index()\n",
    "sl = associate_to_country('Sierra Leone', sl).rename(columns=interesting_fields)"
   ]
  },
  {
   "cell_type": "code",
   "execution_count": 822,
   "metadata": {
    "scrolled": false
   },
   "outputs": [
    {
     "data": {
      "text/html": [
       "<div>\n",
       "<style>\n",
       "    .dataframe thead tr:only-child th {\n",
       "        text-align: right;\n",
       "    }\n",
       "\n",
       "    .dataframe thead th {\n",
       "        text-align: left;\n",
       "    }\n",
       "\n",
       "    .dataframe tbody tr th {\n",
       "        vertical-align: top;\n",
       "    }\n",
       "</style>\n",
       "<table border=\"1\" class=\"dataframe\">\n",
       "  <thead>\n",
       "    <tr style=\"text-align: right;\">\n",
       "      <th></th>\n",
       "      <th></th>\n",
       "      <th>Death confirmed</th>\n",
       "      <th>Death probable</th>\n",
       "      <th>Death suspected</th>\n",
       "      <th>New cases confirmed</th>\n",
       "      <th>New cases probable</th>\n",
       "      <th>New cases suspected</th>\n",
       "    </tr>\n",
       "    <tr>\n",
       "      <th>Country</th>\n",
       "      <th>Date</th>\n",
       "      <th></th>\n",
       "      <th></th>\n",
       "      <th></th>\n",
       "      <th></th>\n",
       "      <th></th>\n",
       "      <th></th>\n",
       "    </tr>\n",
       "  </thead>\n",
       "  <tbody>\n",
       "    <tr>\n",
       "      <th rowspan=\"10\" valign=\"top\">Sierra Leone</th>\n",
       "      <th>2014-08-12</th>\n",
       "      <td>264.0</td>\n",
       "      <td>34.0</td>\n",
       "      <td>5.0</td>\n",
       "      <td>11.0</td>\n",
       "      <td>1.0</td>\n",
       "      <td>10.0</td>\n",
       "    </tr>\n",
       "    <tr>\n",
       "      <th>2014-08-13</th>\n",
       "      <td>273.0</td>\n",
       "      <td>34.0</td>\n",
       "      <td>5.0</td>\n",
       "      <td>15.0</td>\n",
       "      <td>1.0</td>\n",
       "      <td>3.0</td>\n",
       "    </tr>\n",
       "    <tr>\n",
       "      <th>2014-08-14</th>\n",
       "      <td>280.0</td>\n",
       "      <td>34.0</td>\n",
       "      <td>5.0</td>\n",
       "      <td>13.0</td>\n",
       "      <td>2.0</td>\n",
       "      <td>0.0</td>\n",
       "    </tr>\n",
       "    <tr>\n",
       "      <th>2014-08-15</th>\n",
       "      <td>287.0</td>\n",
       "      <td>34.0</td>\n",
       "      <td>5.0</td>\n",
       "      <td>10.0</td>\n",
       "      <td>1.0</td>\n",
       "      <td>6.0</td>\n",
       "    </tr>\n",
       "    <tr>\n",
       "      <th>2014-08-16</th>\n",
       "      <td>297.0</td>\n",
       "      <td>34.0</td>\n",
       "      <td>5.0</td>\n",
       "      <td>18.0</td>\n",
       "      <td>0.0</td>\n",
       "      <td>3.0</td>\n",
       "    </tr>\n",
       "    <tr>\n",
       "      <th>2014-08-17</th>\n",
       "      <td>305.0</td>\n",
       "      <td>34.0</td>\n",
       "      <td>5.0</td>\n",
       "      <td>2.0</td>\n",
       "      <td>0.0</td>\n",
       "      <td>1.0</td>\n",
       "    </tr>\n",
       "    <tr>\n",
       "      <th>2014-08-18</th>\n",
       "      <td>312.0</td>\n",
       "      <td>34.0</td>\n",
       "      <td>5.0</td>\n",
       "      <td>5.0</td>\n",
       "      <td>15.0</td>\n",
       "      <td>40.0</td>\n",
       "    </tr>\n",
       "    <tr>\n",
       "      <th>2014-08-19</th>\n",
       "      <td>320.0</td>\n",
       "      <td>34.0</td>\n",
       "      <td>5.0</td>\n",
       "      <td>9.0</td>\n",
       "      <td>3.0</td>\n",
       "      <td>16.0</td>\n",
       "    </tr>\n",
       "    <tr>\n",
       "      <th>2014-08-20</th>\n",
       "      <td>322.0</td>\n",
       "      <td>34.0</td>\n",
       "      <td>5.0</td>\n",
       "      <td>4.0</td>\n",
       "      <td>0.0</td>\n",
       "      <td>1.0</td>\n",
       "    </tr>\n",
       "    <tr>\n",
       "      <th>2014-08-21</th>\n",
       "      <td>329.0</td>\n",
       "      <td>34.0</td>\n",
       "      <td>8.0</td>\n",
       "      <td>9.0</td>\n",
       "      <td>0.0</td>\n",
       "      <td>0.0</td>\n",
       "    </tr>\n",
       "  </tbody>\n",
       "</table>\n",
       "</div>"
      ],
      "text/plain": [
       "                         Death confirmed  Death probable  Death suspected  \\\n",
       "Country      Date                                                           \n",
       "Sierra Leone 2014-08-12            264.0            34.0              5.0   \n",
       "             2014-08-13            273.0            34.0              5.0   \n",
       "             2014-08-14            280.0            34.0              5.0   \n",
       "             2014-08-15            287.0            34.0              5.0   \n",
       "             2014-08-16            297.0            34.0              5.0   \n",
       "             2014-08-17            305.0            34.0              5.0   \n",
       "             2014-08-18            312.0            34.0              5.0   \n",
       "             2014-08-19            320.0            34.0              5.0   \n",
       "             2014-08-20            322.0            34.0              5.0   \n",
       "             2014-08-21            329.0            34.0              8.0   \n",
       "\n",
       "                         New cases confirmed  New cases probable  \\\n",
       "Country      Date                                                  \n",
       "Sierra Leone 2014-08-12                 11.0                 1.0   \n",
       "             2014-08-13                 15.0                 1.0   \n",
       "             2014-08-14                 13.0                 2.0   \n",
       "             2014-08-15                 10.0                 1.0   \n",
       "             2014-08-16                 18.0                 0.0   \n",
       "             2014-08-17                  2.0                 0.0   \n",
       "             2014-08-18                  5.0                15.0   \n",
       "             2014-08-19                  9.0                 3.0   \n",
       "             2014-08-20                  4.0                 0.0   \n",
       "             2014-08-21                  9.0                 0.0   \n",
       "\n",
       "                         New cases suspected  \n",
       "Country      Date                             \n",
       "Sierra Leone 2014-08-12                 10.0  \n",
       "             2014-08-13                  3.0  \n",
       "             2014-08-14                  0.0  \n",
       "             2014-08-15                  6.0  \n",
       "             2014-08-16                  3.0  \n",
       "             2014-08-17                  1.0  \n",
       "             2014-08-18                 40.0  \n",
       "             2014-08-19                 16.0  \n",
       "             2014-08-20                  1.0  \n",
       "             2014-08-21                  0.0  "
      ]
     },
     "execution_count": 822,
     "metadata": {},
     "output_type": "execute_result"
    }
   ],
   "source": [
    "sl.head(n=10)"
   ]
  },
  {
   "cell_type": "markdown",
   "metadata": {},
   "source": [
    "The fields concerning the number of deaths are cumulative. We apply the same treatment as in the previous cases:"
   ]
  },
  {
   "cell_type": "code",
   "execution_count": 823,
   "metadata": {
    "collapsed": true
   },
   "outputs": [],
   "source": [
    "deaths = sl[['Death confirmed', 'Death probable', 'Death suspected']]\n",
    "cleaned = deaths - deaths.shift(1) # row_i - row_{i - 1}\n",
    "sl.loc[:, ['Death confirmed', 'Death probable', 'Death suspected']] = cleaned"
   ]
  },
  {
   "cell_type": "code",
   "execution_count": 824,
   "metadata": {
    "collapsed": true
   },
   "outputs": [],
   "source": [
    "del dfs\n",
    "del tables_with_duplicates"
   ]
  },
  {
   "cell_type": "markdown",
   "metadata": {},
   "source": [
    "### Combining the data"
   ]
  },
  {
   "cell_type": "code",
   "execution_count": 825,
   "metadata": {
    "collapsed": true
   },
   "outputs": [],
   "source": [
    "# Concatenate all dataframes\n",
    "df = pd.concat([guinea, liberia, sl])"
   ]
  },
  {
   "cell_type": "markdown",
   "metadata": {},
   "source": [
    "### Computing means"
   ]
  },
  {
   "cell_type": "code",
   "execution_count": 826,
   "metadata": {
    "collapsed": true
   },
   "outputs": [],
   "source": [
    "import calendar\n",
    "\n",
    "def month_average(group):\n",
    "    # Obtain the number of days for the month of the group\n",
    "    date = group.index.get_level_values(1)[0]\n",
    "    days = calendar.monthrange(date.year, date.month)[1]\n",
    "    return group.sum() / days"
   ]
  },
  {
   "cell_type": "code",
   "execution_count": 827,
   "metadata": {
    "collapsed": true,
    "scrolled": true
   },
   "outputs": [],
   "source": [
    "# Compute mean per month per country. \n",
    "results = df.groupby(lambda row: (row[0], row[1].month))\\\n",
    "            .agg(month_average)\n",
    "\n",
    "# Give computation result a nice index\n",
    "results.index = pd.MultiIndex.from_tuples(results.index, names=['Country', 'Month'])\\\n",
    "                  .map(lambda i: (i[0], calendar.month_name[i[1]]))"
   ]
  },
  {
   "cell_type": "code",
   "execution_count": 828,
   "metadata": {
    "scrolled": false
   },
   "outputs": [
    {
     "data": {
      "text/html": [
       "<div>\n",
       "<style>\n",
       "    .dataframe thead tr:only-child th {\n",
       "        text-align: right;\n",
       "    }\n",
       "\n",
       "    .dataframe thead th {\n",
       "        text-align: left;\n",
       "    }\n",
       "\n",
       "    .dataframe tbody tr th {\n",
       "        vertical-align: top;\n",
       "    }\n",
       "</style>\n",
       "<table border=\"1\" class=\"dataframe\">\n",
       "  <thead>\n",
       "    <tr style=\"text-align: right;\">\n",
       "      <th></th>\n",
       "      <th></th>\n",
       "      <th>Death confirmed</th>\n",
       "      <th>Death probable</th>\n",
       "      <th>Death suspected</th>\n",
       "      <th>New cases confirmed</th>\n",
       "      <th>New cases probable</th>\n",
       "      <th>New cases suspected</th>\n",
       "    </tr>\n",
       "  </thead>\n",
       "  <tbody>\n",
       "    <tr>\n",
       "      <th rowspan=\"3\" valign=\"top\">Guinea</th>\n",
       "      <th>August</th>\n",
       "      <td>3.516129</td>\n",
       "      <td>0.548387</td>\n",
       "      <td>0.000000</td>\n",
       "      <td>2.000000</td>\n",
       "      <td>0.258065</td>\n",
       "      <td>1.903226</td>\n",
       "    </tr>\n",
       "    <tr>\n",
       "      <th>September</th>\n",
       "      <td>6.733333</td>\n",
       "      <td>0.833333</td>\n",
       "      <td>5.566667</td>\n",
       "      <td>6.933333</td>\n",
       "      <td>0.633333</td>\n",
       "      <td>2.900000</td>\n",
       "    </tr>\n",
       "    <tr>\n",
       "      <th>October</th>\n",
       "      <td>0.741935</td>\n",
       "      <td>0.064516</td>\n",
       "      <td>0.000000</td>\n",
       "      <td>0.193548</td>\n",
       "      <td>0.000000</td>\n",
       "      <td>0.903226</td>\n",
       "    </tr>\n",
       "    <tr>\n",
       "      <th rowspan=\"7\" valign=\"top\">Liberia</th>\n",
       "      <th>June</th>\n",
       "      <td>0.600000</td>\n",
       "      <td>0.133333</td>\n",
       "      <td>0.366667</td>\n",
       "      <td>0.500000</td>\n",
       "      <td>0.266667</td>\n",
       "      <td>0.566667</td>\n",
       "    </tr>\n",
       "    <tr>\n",
       "      <th>July</th>\n",
       "      <td>1.290323</td>\n",
       "      <td>1.612903</td>\n",
       "      <td>0.193548</td>\n",
       "      <td>0.645161</td>\n",
       "      <td>1.322581</td>\n",
       "      <td>1.064516</td>\n",
       "    </tr>\n",
       "    <tr>\n",
       "      <th>August</th>\n",
       "      <td>8.225806</td>\n",
       "      <td>9.354839</td>\n",
       "      <td>6.290323</td>\n",
       "      <td>1.580645</td>\n",
       "      <td>5.741935</td>\n",
       "      <td>3.483871</td>\n",
       "    </tr>\n",
       "    <tr>\n",
       "      <th>September</th>\n",
       "      <td>18.266667</td>\n",
       "      <td>9.000000</td>\n",
       "      <td>7.100000</td>\n",
       "      <td>4.933333</td>\n",
       "      <td>23.466667</td>\n",
       "      <td>22.666667</td>\n",
       "    </tr>\n",
       "    <tr>\n",
       "      <th>October</th>\n",
       "      <td>4.451613</td>\n",
       "      <td>1.548387</td>\n",
       "      <td>1.967742</td>\n",
       "      <td>1.096774</td>\n",
       "      <td>14.322581</td>\n",
       "      <td>21.322581</td>\n",
       "    </tr>\n",
       "    <tr>\n",
       "      <th>November</th>\n",
       "      <td>0.000000</td>\n",
       "      <td>0.000000</td>\n",
       "      <td>0.000000</td>\n",
       "      <td>1.300000</td>\n",
       "      <td>3.500000</td>\n",
       "      <td>8.433333</td>\n",
       "    </tr>\n",
       "    <tr>\n",
       "      <th>December</th>\n",
       "      <td>0.000000</td>\n",
       "      <td>0.000000</td>\n",
       "      <td>0.000000</td>\n",
       "      <td>2.870968</td>\n",
       "      <td>0.645161</td>\n",
       "      <td>1.258065</td>\n",
       "    </tr>\n",
       "    <tr>\n",
       "      <th rowspan=\"5\" valign=\"top\">Sierra Leone</th>\n",
       "      <th>August</th>\n",
       "      <td>3.096774</td>\n",
       "      <td>0.096774</td>\n",
       "      <td>0.096774</td>\n",
       "      <td>11.967742</td>\n",
       "      <td>0.741935</td>\n",
       "      <td>3.516129</td>\n",
       "    </tr>\n",
       "    <tr>\n",
       "      <th>September</th>\n",
       "      <td>4.266667</td>\n",
       "      <td>0.000000</td>\n",
       "      <td>0.000000</td>\n",
       "      <td>33.266667</td>\n",
       "      <td>0.000000</td>\n",
       "      <td>6.066667</td>\n",
       "    </tr>\n",
       "    <tr>\n",
       "      <th>October</th>\n",
       "      <td>16.774194</td>\n",
       "      <td>5.516129</td>\n",
       "      <td>4.709677</td>\n",
       "      <td>51.225806</td>\n",
       "      <td>0.774194</td>\n",
       "      <td>12.064516</td>\n",
       "    </tr>\n",
       "    <tr>\n",
       "      <th>November</th>\n",
       "      <td>11.933333</td>\n",
       "      <td>0.000000</td>\n",
       "      <td>0.000000</td>\n",
       "      <td>41.933333</td>\n",
       "      <td>0.000000</td>\n",
       "      <td>10.733333</td>\n",
       "    </tr>\n",
       "    <tr>\n",
       "      <th>December</th>\n",
       "      <td>6.838710</td>\n",
       "      <td>0.000000</td>\n",
       "      <td>0.000000</td>\n",
       "      <td>5.258065</td>\n",
       "      <td>0.000000</td>\n",
       "      <td>1.354839</td>\n",
       "    </tr>\n",
       "  </tbody>\n",
       "</table>\n",
       "</div>"
      ],
      "text/plain": [
       "                        Death confirmed  Death probable  Death suspected  \\\n",
       "Guinea       August            3.516129        0.548387         0.000000   \n",
       "             September         6.733333        0.833333         5.566667   \n",
       "             October           0.741935        0.064516         0.000000   \n",
       "Liberia      June              0.600000        0.133333         0.366667   \n",
       "             July              1.290323        1.612903         0.193548   \n",
       "             August            8.225806        9.354839         6.290323   \n",
       "             September        18.266667        9.000000         7.100000   \n",
       "             October           4.451613        1.548387         1.967742   \n",
       "             November          0.000000        0.000000         0.000000   \n",
       "             December          0.000000        0.000000         0.000000   \n",
       "Sierra Leone August            3.096774        0.096774         0.096774   \n",
       "             September         4.266667        0.000000         0.000000   \n",
       "             October          16.774194        5.516129         4.709677   \n",
       "             November         11.933333        0.000000         0.000000   \n",
       "             December          6.838710        0.000000         0.000000   \n",
       "\n",
       "                        New cases confirmed  New cases probable  \\\n",
       "Guinea       August                2.000000            0.258065   \n",
       "             September             6.933333            0.633333   \n",
       "             October               0.193548            0.000000   \n",
       "Liberia      June                  0.500000            0.266667   \n",
       "             July                  0.645161            1.322581   \n",
       "             August                1.580645            5.741935   \n",
       "             September             4.933333           23.466667   \n",
       "             October               1.096774           14.322581   \n",
       "             November              1.300000            3.500000   \n",
       "             December              2.870968            0.645161   \n",
       "Sierra Leone August               11.967742            0.741935   \n",
       "             September            33.266667            0.000000   \n",
       "             October              51.225806            0.774194   \n",
       "             November             41.933333            0.000000   \n",
       "             December              5.258065            0.000000   \n",
       "\n",
       "                        New cases suspected  \n",
       "Guinea       August                1.903226  \n",
       "             September             2.900000  \n",
       "             October               0.903226  \n",
       "Liberia      June                  0.566667  \n",
       "             July                  1.064516  \n",
       "             August                3.483871  \n",
       "             September            22.666667  \n",
       "             October              21.322581  \n",
       "             November              8.433333  \n",
       "             December              1.258065  \n",
       "Sierra Leone August                3.516129  \n",
       "             September             6.066667  \n",
       "             October              12.064516  \n",
       "             November             10.733333  \n",
       "             December              1.354839  "
      ]
     },
     "execution_count": 828,
     "metadata": {},
     "output_type": "execute_result"
    }
   ],
   "source": [
    "results"
   ]
  },
  {
   "cell_type": "markdown",
   "metadata": {},
   "source": [
    "## Task 2. RNA Sequences\n",
    "\n",
    "In the `DATA_FOLDER/microbiome` subdirectory, there are 9 spreadsheets of microbiome data that was acquired from high-throughput RNA sequencing procedures, along with a 10<sup>th</sup> file that describes the content of each. \n",
    "\n",
    "Use pandas to import the first 9 spreadsheets into a single `DataFrame`.\n",
    "Then, add the metadata information from the 10<sup>th</sup> spreadsheet as columns in the combined `DataFrame`.\n",
    "Make sure that the final `DataFrame` has a unique index and all the `NaN` values have been replaced by the tag `unknown`."
   ]
  },
  {
   "cell_type": "code",
   "execution_count": null,
   "metadata": {
    "collapsed": true
   },
   "outputs": [],
   "source": []
  },
  {
   "cell_type": "code",
   "execution_count": null,
   "metadata": {
    "collapsed": true
   },
   "outputs": [],
   "source": [
    "# Write your answer here"
   ]
  },
  {
   "cell_type": "markdown",
   "metadata": {},
   "source": [
    "## Task 3. Class War in Titanic\n",
    "\n",
    "Use pandas to import the data file `Data/titanic.xls`. It contains data on all the passengers that travelled on the Titanic."
   ]
  },
  {
   "cell_type": "code",
   "execution_count": null,
   "metadata": {
    "collapsed": true,
    "scrolled": false
   },
   "outputs": [],
   "source": [
    "from IPython.core.display import HTML\n",
    "HTML(filename=DATA_FOLDER+'/titanic.html')"
   ]
  },
  {
   "cell_type": "markdown",
   "metadata": {},
   "source": [
    "For each of the following questions state clearly your assumptions and discuss your findings:\n",
    "1. Describe the *type* and the *value range* of each attribute. Indicate and transform the attributes that can be `Categorical`. \n",
    "2. Plot histograms for the *travel class*, *embarkation port*, *sex* and *age* attributes. For the latter one, use *discrete decade intervals*. \n",
    "3. Calculate the proportion of passengers by *cabin floor*. Present your results in a *pie chart*.\n",
    "4. For each *travel class*, calculate the proportion of the passengers that survived. Present your results in *pie charts*.\n",
    "5. Calculate the proportion of the passengers that survived by *travel class* and *sex*. Present your results in *a single histogram*.\n",
    "6. Create 2 equally populated *age categories* and calculate survival proportions by *age category*, *travel class* and *sex*. Present your results in a `DataFrame` with unique index."
   ]
  },
  {
   "cell_type": "code",
   "execution_count": null,
   "metadata": {
    "collapsed": true
   },
   "outputs": [],
   "source": [
    "# Write your answer here"
   ]
  }
 ],
 "metadata": {
  "kernelspec": {
   "display_name": "Python 3",
   "language": "python",
   "name": "python3"
  },
  "language_info": {
   "codemirror_mode": {
    "name": "ipython",
    "version": 3
   },
   "file_extension": ".py",
   "mimetype": "text/x-python",
   "name": "python",
   "nbconvert_exporter": "python",
   "pygments_lexer": "ipython3",
   "version": "3.6.1"
  }
 },
 "nbformat": 4,
 "nbformat_minor": 2
}
