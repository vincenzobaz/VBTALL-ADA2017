{
 "cells": [
  {
   "cell_type": "markdown",
   "metadata": {},
   "source": [
    "# Table of Contents\n",
    " <p><div class=\"lev1\"><a href=\"#Task-1.-Compiling-Ebola-Data\"><span class=\"toc-item-num\">Task 1.&nbsp;&nbsp;</span>Compiling Ebola Data</a></div>\n",
    " <div class=\"lev1\"><a href=\"#Task-2.-RNA-Sequences\"><span class=\"toc-item-num\">Task 2.&nbsp;&nbsp;</span>RNA Sequences</a></div>\n",
    " <div class=\"lev1\"><a href=\"#Task-3.-Class-War-in-Titanic\"><span class=\"toc-item-num\">Task 3.&nbsp;&nbsp;</span>Class War in Titanic</a></div></p>"
   ]
  },
  {
   "cell_type": "code",
   "execution_count": 1,
   "metadata": {
    "collapsed": true
   },
   "outputs": [],
   "source": [
    "import pandas as pd\n",
    "import os\n",
    "import numpy as np"
   ]
  },
  {
   "cell_type": "code",
   "execution_count": 2,
   "metadata": {
    "collapsed": true
   },
   "outputs": [],
   "source": [
    "DATA_FOLDER = \"/home/vinz/Desktop/ADA/ADA2017-Tutorials/02 - Intro to Pandas/Data\" # Use the data folder provided in Tutorial 02 - Intro to Pandas."
   ]
  },
  {
   "cell_type": "markdown",
   "metadata": {},
   "source": [
    "## Task 1. Compiling Ebola Data\n",
    "\n",
    "The `DATA_FOLDER/ebola` folder contains summarized reports of Ebola cases from three countries (Guinea, Liberia and Sierra Leone) during the recent outbreak of the disease in West Africa. For each country, there are daily reports that contain various information about the outbreak in several cities in each country.\n",
    "\n",
    "Use pandas to import these data files into a single `Dataframe`.\n",
    "**Using this `DataFrame`, calculate for *each country*, the *daily average* per year of *new cases* and *deaths*.\n",
    "Make sure you handle all the different expressions for *new cases* and *deaths* that are used in the reports.**"
   ]
  },
  {
   "cell_type": "markdown",
   "metadata": {},
   "source": [
    "### Strategy\n",
    "\n",
    "We will import and wrangle the data for each country separately and then combine everything into a single data frame.\n",
    "\n",
    "As the data files already contain variables with nation wide statistics, we will use these values instead of manually aggregating the data city by city."
   ]
  },
  {
   "cell_type": "code",
   "execution_count": 3,
   "metadata": {
    "collapsed": true
   },
   "outputs": [],
   "source": [
    "def ebola_csv_iter(folder):\n",
    "    \"\"\"Utility function returning an iterator over the csv files in given folder\"\"\"\n",
    "    path = ''.join([DATA_FOLDER, '/ebola/', folder, '/'])\n",
    "    for file in os.listdir(path):\n",
    "        if file.endswith(\".csv\"):\n",
    "            yield file, ''.join([path, file])"
   ]
  },
  {
   "cell_type": "code",
   "execution_count": 4,
   "metadata": {
    "collapsed": true
   },
   "outputs": [],
   "source": [
    "def associate_to_country(country, df):\n",
    "    \"\"\"Adds a country super index to the provided dataframe\"\"\"\n",
    "    country = pd.DataFrame({\n",
    "        'Country': np.repeat(country, len(df)),\n",
    "        'Date': df.index\n",
    "    })\n",
    "    return country.merge(df, right_index=True, left_on='Date').set_index(['Country', 'Date'])"
   ]
  },
  {
   "cell_type": "markdown",
   "metadata": {},
   "source": [
    "### Guinea"
   ]
  },
  {
   "cell_type": "code",
   "execution_count": 5,
   "metadata": {
    "collapsed": true
   },
   "outputs": [],
   "source": [
    "def parse_num(x):\n",
    "    try:\n",
    "        return np.int32(x)\n",
    "    except ValueError:\n",
    "        #print('Unreadable number \\'', x, '\\'')\n",
    "        return np.nan"
   ]
  },
  {
   "cell_type": "code",
   "execution_count": 6,
   "metadata": {
    "scrolled": false
   },
   "outputs": [],
   "source": [
    "dfs = {}\n",
    "tables_with_duplicates = []\n",
    "interesting_fields = {\n",
    "    #'New deaths registered today (confirmed)': 'Death confirmed',\n",
    "    #'New deaths registered today (probables)': 'Death probable',\n",
    "    #'New deaths registered today (suspects)': 'Death suspected',\n",
    "    'Total deaths of suspects': 'Death suspected',\n",
    "    'Total deaths of probables': 'Death probable',\n",
    "    'Total deaths of confirmed': 'Death confirmed',\n",
    "    'New cases of confirmed': 'New cases confirmed',\n",
    "    'New cases of probables': 'New cases probable', \n",
    "    'New cases of suspects': 'New cases suspected'\n",
    "}\n",
    "for file, path in ebola_csv_iter('guinea_data'):\n",
    "    df = pd.read_csv(path,\n",
    "                     parse_dates=['Date'],\n",
    "                     usecols=['Date', 'Description', 'Totals'],\n",
    "                     converters={'Totals': parse_num})\n",
    "    df.rename(columns={'Description': 'Variable', 'Totals': 'National'}, inplace=True)\n",
    "    # Check for duplicates\n",
    "    df = df[df.Variable.isin(interesting_fields)]\n",
    "    if len(df.Variable.unique()) != len(df.Variable):\n",
    "        tables_with_duplicates.append(file)\n",
    "    dfs[file] = df"
   ]
  },
  {
   "cell_type": "code",
   "execution_count": 7,
   "metadata": {},
   "outputs": [
    {
     "data": {
      "text/plain": [
       "[]"
      ]
     },
     "execution_count": 7,
     "metadata": {},
     "output_type": "execute_result"
    }
   ],
   "source": [
    "tables_with_duplicates"
   ]
  },
  {
   "cell_type": "markdown",
   "metadata": {},
   "source": [
    "As there are no duplicates, we can pivot all the dataframes to have a timeseries dataframe:"
   ]
  },
  {
   "cell_type": "code",
   "execution_count": 8,
   "metadata": {
    "collapsed": true
   },
   "outputs": [],
   "source": [
    "dfs = [df.pivot(index='Date', columns='Variable', values='National') for df in dfs.values()]"
   ]
  },
  {
   "cell_type": "code",
   "execution_count": 9,
   "metadata": {
    "collapsed": true,
    "scrolled": false
   },
   "outputs": [],
   "source": [
    "guinea = pd.concat(dfs).sort_index() # Create the data series: index=date\n",
    "guinea = associate_to_country('Guinea', guinea).rename(columns=interesting_fields)"
   ]
  },
  {
   "cell_type": "markdown",
   "metadata": {},
   "source": [
    "We started by using the fields:\n",
    "\n",
    " - `New deaths registered today (confirmed)`\n",
    " - `New deaths registered today (probables)`\n",
    " - `New deaths registered today (suspects)`\n",
    " \n",
    "but they were empty for all days except one. Therefore we decided to use the cumulated values and perform the subtraction to obtain daily counts:"
   ]
  },
  {
   "cell_type": "code",
   "execution_count": 10,
   "metadata": {},
   "outputs": [
    {
     "data": {
      "text/html": [
       "<div>\n",
       "<style>\n",
       "    .dataframe thead tr:only-child th {\n",
       "        text-align: right;\n",
       "    }\n",
       "\n",
       "    .dataframe thead th {\n",
       "        text-align: left;\n",
       "    }\n",
       "\n",
       "    .dataframe tbody tr th {\n",
       "        vertical-align: top;\n",
       "    }\n",
       "</style>\n",
       "<table border=\"1\" class=\"dataframe\">\n",
       "  <thead>\n",
       "    <tr style=\"text-align: right;\">\n",
       "      <th></th>\n",
       "      <th></th>\n",
       "      <th>New cases confirmed</th>\n",
       "      <th>New cases probable</th>\n",
       "      <th>New cases suspected</th>\n",
       "      <th>Death confirmed</th>\n",
       "      <th>Death probable</th>\n",
       "      <th>Death suspected</th>\n",
       "    </tr>\n",
       "    <tr>\n",
       "      <th>Country</th>\n",
       "      <th>Date</th>\n",
       "      <th></th>\n",
       "      <th></th>\n",
       "      <th></th>\n",
       "      <th></th>\n",
       "      <th></th>\n",
       "      <th></th>\n",
       "    </tr>\n",
       "  </thead>\n",
       "  <tbody>\n",
       "    <tr>\n",
       "      <th rowspan=\"5\" valign=\"top\">Guinea</th>\n",
       "      <th>2014-09-23</th>\n",
       "      <td>25.0</td>\n",
       "      <td>0.0</td>\n",
       "      <td>4.0</td>\n",
       "      <td>476.0</td>\n",
       "      <td>162.0</td>\n",
       "      <td>5.0</td>\n",
       "    </tr>\n",
       "    <tr>\n",
       "      <th>2014-09-24</th>\n",
       "      <td>20.0</td>\n",
       "      <td>0.0</td>\n",
       "      <td>8.0</td>\n",
       "      <td>481.0</td>\n",
       "      <td>162.0</td>\n",
       "      <td>5.0</td>\n",
       "    </tr>\n",
       "    <tr>\n",
       "      <th>2014-09-26</th>\n",
       "      <td>10.0</td>\n",
       "      <td>7.0</td>\n",
       "      <td>2.0</td>\n",
       "      <td>668.0</td>\n",
       "      <td>494.0</td>\n",
       "      <td>169.0</td>\n",
       "    </tr>\n",
       "    <tr>\n",
       "      <th>2014-09-30</th>\n",
       "      <td>11.0</td>\n",
       "      <td>0.0</td>\n",
       "      <td>4.0</td>\n",
       "      <td>539.0</td>\n",
       "      <td>175.0</td>\n",
       "      <td>NaN</td>\n",
       "    </tr>\n",
       "    <tr>\n",
       "      <th>2014-10-01</th>\n",
       "      <td>6.0</td>\n",
       "      <td>0.0</td>\n",
       "      <td>28.0</td>\n",
       "      <td>562.0</td>\n",
       "      <td>177.0</td>\n",
       "      <td>0.0</td>\n",
       "    </tr>\n",
       "  </tbody>\n",
       "</table>\n",
       "</div>"
      ],
      "text/plain": [
       "                    New cases confirmed  New cases probable  \\\n",
       "Country Date                                                  \n",
       "Guinea  2014-09-23                 25.0                 0.0   \n",
       "        2014-09-24                 20.0                 0.0   \n",
       "        2014-09-26                 10.0                 7.0   \n",
       "        2014-09-30                 11.0                 0.0   \n",
       "        2014-10-01                  6.0                 0.0   \n",
       "\n",
       "                    New cases suspected  Death confirmed  Death probable  \\\n",
       "Country Date                                                               \n",
       "Guinea  2014-09-23                  4.0            476.0           162.0   \n",
       "        2014-09-24                  8.0            481.0           162.0   \n",
       "        2014-09-26                  2.0            668.0           494.0   \n",
       "        2014-09-30                  4.0            539.0           175.0   \n",
       "        2014-10-01                 28.0            562.0           177.0   \n",
       "\n",
       "                    Death suspected  \n",
       "Country Date                         \n",
       "Guinea  2014-09-23              5.0  \n",
       "        2014-09-24              5.0  \n",
       "        2014-09-26            169.0  \n",
       "        2014-09-30              NaN  \n",
       "        2014-10-01              0.0  "
      ]
     },
     "execution_count": 10,
     "metadata": {},
     "output_type": "execute_result"
    }
   ],
   "source": [
    "guinea.tail(5)"
   ]
  },
  {
   "cell_type": "code",
   "execution_count": 11,
   "metadata": {
    "collapsed": true
   },
   "outputs": [],
   "source": [
    "deaths = guinea[['Death confirmed', 'Death probable', 'Death suspected']]\n",
    "cleaned = deaths - deaths.shift(1) # row_i - row_{i - 1}\n",
    "guinea.loc[1:, ['Death confirmed', 'Death probable', 'Death suspected']] = cleaned[1:]"
   ]
  },
  {
   "cell_type": "code",
   "execution_count": 12,
   "metadata": {},
   "outputs": [
    {
     "data": {
      "text/html": [
       "<div>\n",
       "<style>\n",
       "    .dataframe thead tr:only-child th {\n",
       "        text-align: right;\n",
       "    }\n",
       "\n",
       "    .dataframe thead th {\n",
       "        text-align: left;\n",
       "    }\n",
       "\n",
       "    .dataframe tbody tr th {\n",
       "        vertical-align: top;\n",
       "    }\n",
       "</style>\n",
       "<table border=\"1\" class=\"dataframe\">\n",
       "  <thead>\n",
       "    <tr style=\"text-align: right;\">\n",
       "      <th></th>\n",
       "      <th></th>\n",
       "      <th>New cases confirmed</th>\n",
       "      <th>New cases probable</th>\n",
       "      <th>New cases suspected</th>\n",
       "      <th>Death confirmed</th>\n",
       "      <th>Death probable</th>\n",
       "      <th>Death suspected</th>\n",
       "    </tr>\n",
       "    <tr>\n",
       "      <th>Country</th>\n",
       "      <th>Date</th>\n",
       "      <th></th>\n",
       "      <th></th>\n",
       "      <th></th>\n",
       "      <th></th>\n",
       "      <th></th>\n",
       "      <th></th>\n",
       "    </tr>\n",
       "  </thead>\n",
       "  <tbody>\n",
       "    <tr>\n",
       "      <th rowspan=\"5\" valign=\"top\">Guinea</th>\n",
       "      <th>2014-09-23</th>\n",
       "      <td>25.0</td>\n",
       "      <td>0.0</td>\n",
       "      <td>4.0</td>\n",
       "      <td>8.0</td>\n",
       "      <td>0.0</td>\n",
       "      <td>0.0</td>\n",
       "    </tr>\n",
       "    <tr>\n",
       "      <th>2014-09-24</th>\n",
       "      <td>20.0</td>\n",
       "      <td>0.0</td>\n",
       "      <td>8.0</td>\n",
       "      <td>5.0</td>\n",
       "      <td>0.0</td>\n",
       "      <td>0.0</td>\n",
       "    </tr>\n",
       "    <tr>\n",
       "      <th>2014-09-26</th>\n",
       "      <td>10.0</td>\n",
       "      <td>7.0</td>\n",
       "      <td>2.0</td>\n",
       "      <td>187.0</td>\n",
       "      <td>332.0</td>\n",
       "      <td>164.0</td>\n",
       "    </tr>\n",
       "    <tr>\n",
       "      <th>2014-09-30</th>\n",
       "      <td>11.0</td>\n",
       "      <td>0.0</td>\n",
       "      <td>4.0</td>\n",
       "      <td>-129.0</td>\n",
       "      <td>-319.0</td>\n",
       "      <td>NaN</td>\n",
       "    </tr>\n",
       "    <tr>\n",
       "      <th>2014-10-01</th>\n",
       "      <td>6.0</td>\n",
       "      <td>0.0</td>\n",
       "      <td>28.0</td>\n",
       "      <td>23.0</td>\n",
       "      <td>2.0</td>\n",
       "      <td>NaN</td>\n",
       "    </tr>\n",
       "  </tbody>\n",
       "</table>\n",
       "</div>"
      ],
      "text/plain": [
       "                    New cases confirmed  New cases probable  \\\n",
       "Country Date                                                  \n",
       "Guinea  2014-09-23                 25.0                 0.0   \n",
       "        2014-09-24                 20.0                 0.0   \n",
       "        2014-09-26                 10.0                 7.0   \n",
       "        2014-09-30                 11.0                 0.0   \n",
       "        2014-10-01                  6.0                 0.0   \n",
       "\n",
       "                    New cases suspected  Death confirmed  Death probable  \\\n",
       "Country Date                                                               \n",
       "Guinea  2014-09-23                  4.0              8.0             0.0   \n",
       "        2014-09-24                  8.0              5.0             0.0   \n",
       "        2014-09-26                  2.0            187.0           332.0   \n",
       "        2014-09-30                  4.0           -129.0          -319.0   \n",
       "        2014-10-01                 28.0             23.0             2.0   \n",
       "\n",
       "                    Death suspected  \n",
       "Country Date                         \n",
       "Guinea  2014-09-23              0.0  \n",
       "        2014-09-24              0.0  \n",
       "        2014-09-26            164.0  \n",
       "        2014-09-30              NaN  \n",
       "        2014-10-01              NaN  "
      ]
     },
     "execution_count": 12,
     "metadata": {},
     "output_type": "execute_result"
    }
   ],
   "source": [
    "guinea.tail(5)"
   ]
  },
  {
   "cell_type": "markdown",
   "metadata": {},
   "source": [
    "**PROOFREADING**: The two .tail(5) show that the values are not really cumulative. Either we drop the last two lines or the thi"
   ]
  },
  {
   "cell_type": "code",
   "execution_count": 13,
   "metadata": {
    "scrolled": false
   },
   "outputs": [
    {
     "data": {
      "text/html": [
       "<div>\n",
       "<style>\n",
       "    .dataframe thead tr:only-child th {\n",
       "        text-align: right;\n",
       "    }\n",
       "\n",
       "    .dataframe thead th {\n",
       "        text-align: left;\n",
       "    }\n",
       "\n",
       "    .dataframe tbody tr th {\n",
       "        vertical-align: top;\n",
       "    }\n",
       "</style>\n",
       "<table border=\"1\" class=\"dataframe\">\n",
       "  <thead>\n",
       "    <tr style=\"text-align: right;\">\n",
       "      <th></th>\n",
       "      <th></th>\n",
       "      <th>New cases confirmed</th>\n",
       "      <th>New cases probable</th>\n",
       "      <th>New cases suspected</th>\n",
       "      <th>Death confirmed</th>\n",
       "      <th>Death probable</th>\n",
       "      <th>Death suspected</th>\n",
       "    </tr>\n",
       "    <tr>\n",
       "      <th>Country</th>\n",
       "      <th>Date</th>\n",
       "      <th></th>\n",
       "      <th></th>\n",
       "      <th></th>\n",
       "      <th></th>\n",
       "      <th></th>\n",
       "      <th></th>\n",
       "    </tr>\n",
       "  </thead>\n",
       "  <tbody>\n",
       "    <tr>\n",
       "      <th rowspan=\"10\" valign=\"top\">Guinea</th>\n",
       "      <th>2014-08-04</th>\n",
       "      <td>4.0</td>\n",
       "      <td>0.0</td>\n",
       "      <td>5.0</td>\n",
       "      <td>228.0</td>\n",
       "      <td>133.0</td>\n",
       "      <td>2.0</td>\n",
       "    </tr>\n",
       "    <tr>\n",
       "      <th>2014-08-26</th>\n",
       "      <td>10.0</td>\n",
       "      <td>NaN</td>\n",
       "      <td>18.0</td>\n",
       "      <td>64.0</td>\n",
       "      <td>8.0</td>\n",
       "      <td>0.0</td>\n",
       "    </tr>\n",
       "    <tr>\n",
       "      <th>2014-08-27</th>\n",
       "      <td>10.0</td>\n",
       "      <td>0.0</td>\n",
       "      <td>12.0</td>\n",
       "      <td>2.0</td>\n",
       "      <td>1.0</td>\n",
       "      <td>0.0</td>\n",
       "    </tr>\n",
       "    <tr>\n",
       "      <th>2014-08-30</th>\n",
       "      <td>9.0</td>\n",
       "      <td>0.0</td>\n",
       "      <td>15.0</td>\n",
       "      <td>30.0</td>\n",
       "      <td>0.0</td>\n",
       "      <td>0.0</td>\n",
       "    </tr>\n",
       "    <tr>\n",
       "      <th>2014-08-31</th>\n",
       "      <td>29.0</td>\n",
       "      <td>8.0</td>\n",
       "      <td>9.0</td>\n",
       "      <td>13.0</td>\n",
       "      <td>8.0</td>\n",
       "      <td>0.0</td>\n",
       "    </tr>\n",
       "    <tr>\n",
       "      <th>2014-09-02</th>\n",
       "      <td>14.0</td>\n",
       "      <td>0.0</td>\n",
       "      <td>11.0</td>\n",
       "      <td>12.0</td>\n",
       "      <td>0.0</td>\n",
       "      <td>0.0</td>\n",
       "    </tr>\n",
       "    <tr>\n",
       "      <th>2014-09-04</th>\n",
       "      <td>17.0</td>\n",
       "      <td>0.0</td>\n",
       "      <td>13.0</td>\n",
       "      <td>19.0</td>\n",
       "      <td>1.0</td>\n",
       "      <td>1.0</td>\n",
       "    </tr>\n",
       "    <tr>\n",
       "      <th>2014-09-07</th>\n",
       "      <td>11.0</td>\n",
       "      <td>0.0</td>\n",
       "      <td>5.0</td>\n",
       "      <td>34.0</td>\n",
       "      <td>0.0</td>\n",
       "      <td>1.0</td>\n",
       "    </tr>\n",
       "    <tr>\n",
       "      <th>2014-09-08</th>\n",
       "      <td>11.0</td>\n",
       "      <td>0.0</td>\n",
       "      <td>5.0</td>\n",
       "      <td>0.0</td>\n",
       "      <td>0.0</td>\n",
       "      <td>0.0</td>\n",
       "    </tr>\n",
       "    <tr>\n",
       "      <th>2014-09-09</th>\n",
       "      <td>7.0</td>\n",
       "      <td>0.0</td>\n",
       "      <td>9.0</td>\n",
       "      <td>8.0</td>\n",
       "      <td>0.0</td>\n",
       "      <td>0.0</td>\n",
       "    </tr>\n",
       "  </tbody>\n",
       "</table>\n",
       "</div>"
      ],
      "text/plain": [
       "                    New cases confirmed  New cases probable  \\\n",
       "Country Date                                                  \n",
       "Guinea  2014-08-04                  4.0                 0.0   \n",
       "        2014-08-26                 10.0                 NaN   \n",
       "        2014-08-27                 10.0                 0.0   \n",
       "        2014-08-30                  9.0                 0.0   \n",
       "        2014-08-31                 29.0                 8.0   \n",
       "        2014-09-02                 14.0                 0.0   \n",
       "        2014-09-04                 17.0                 0.0   \n",
       "        2014-09-07                 11.0                 0.0   \n",
       "        2014-09-08                 11.0                 0.0   \n",
       "        2014-09-09                  7.0                 0.0   \n",
       "\n",
       "                    New cases suspected  Death confirmed  Death probable  \\\n",
       "Country Date                                                               \n",
       "Guinea  2014-08-04                  5.0            228.0           133.0   \n",
       "        2014-08-26                 18.0             64.0             8.0   \n",
       "        2014-08-27                 12.0              2.0             1.0   \n",
       "        2014-08-30                 15.0             30.0             0.0   \n",
       "        2014-08-31                  9.0             13.0             8.0   \n",
       "        2014-09-02                 11.0             12.0             0.0   \n",
       "        2014-09-04                 13.0             19.0             1.0   \n",
       "        2014-09-07                  5.0             34.0             0.0   \n",
       "        2014-09-08                  5.0              0.0             0.0   \n",
       "        2014-09-09                  9.0              8.0             0.0   \n",
       "\n",
       "                    Death suspected  \n",
       "Country Date                         \n",
       "Guinea  2014-08-04              2.0  \n",
       "        2014-08-26              0.0  \n",
       "        2014-08-27              0.0  \n",
       "        2014-08-30              0.0  \n",
       "        2014-08-31              0.0  \n",
       "        2014-09-02              0.0  \n",
       "        2014-09-04              1.0  \n",
       "        2014-09-07              1.0  \n",
       "        2014-09-08              0.0  \n",
       "        2014-09-09              0.0  "
      ]
     },
     "execution_count": 13,
     "metadata": {},
     "output_type": "execute_result"
    }
   ],
   "source": [
    "guinea.head(n=10)"
   ]
  },
  {
   "cell_type": "markdown",
   "metadata": {},
   "source": [
    "### Liberia"
   ]
  },
  {
   "cell_type": "code",
   "execution_count": 14,
   "metadata": {
    "scrolled": true
   },
   "outputs": [],
   "source": [
    "dfs = {}\n",
    "tables_with_duplicates = []\n",
    "interesting_fields = {\n",
    "    'Total death/s in confirmed cases': 'Death confirmed',\n",
    "    'Total death/s in probable cases': 'Death probable',\n",
    "    'Total death/s in suspected cases': 'Death suspected',\n",
    "    'New case/s (confirmed)': 'New cases confirmed',\n",
    "    'New Case/s (Probable)': 'New cases probable',\n",
    "    'New Case/s (Suspected)': 'New cases suspected'\n",
    "}\n",
    "for file, path in ebola_csv_iter('liberia_data'):\n",
    "    df = pd.read_csv(path,\n",
    "                     parse_dates=['Date'],\n",
    "                     usecols=['Date', 'Variable', 'National'],\n",
    "                     converters={'National': parse_num})\n",
    "    df = df[df.Variable.isin(interesting_fields)]\n",
    "    # Check for duplicates\n",
    "    if len(df.Variable.unique()) != len(df.Variable):\n",
    "        tables_with_duplicates.append(file)\n",
    "    dfs[file] = df"
   ]
  },
  {
   "cell_type": "markdown",
   "metadata": {},
   "source": [
    "We remark that only a data file contains duplicate variables for the same day. Before dropping the duplicates, we look at the duplicated lines:"
   ]
  },
  {
   "cell_type": "code",
   "execution_count": 15,
   "metadata": {},
   "outputs": [
    {
     "data": {
      "text/plain": [
       "['2014-10-04-v142.csv']"
      ]
     },
     "execution_count": 15,
     "metadata": {},
     "output_type": "execute_result"
    }
   ],
   "source": [
    "tables_with_duplicates"
   ]
  },
  {
   "cell_type": "code",
   "execution_count": 16,
   "metadata": {
    "scrolled": false
   },
   "outputs": [
    {
     "data": {
      "text/html": [
       "<div>\n",
       "<style>\n",
       "    .dataframe thead tr:only-child th {\n",
       "        text-align: right;\n",
       "    }\n",
       "\n",
       "    .dataframe thead th {\n",
       "        text-align: left;\n",
       "    }\n",
       "\n",
       "    .dataframe tbody tr th {\n",
       "        vertical-align: top;\n",
       "    }\n",
       "</style>\n",
       "<table border=\"1\" class=\"dataframe\">\n",
       "  <thead>\n",
       "    <tr style=\"text-align: right;\">\n",
       "      <th></th>\n",
       "      <th>Date</th>\n",
       "      <th>Variable</th>\n",
       "      <th>National</th>\n",
       "    </tr>\n",
       "  </thead>\n",
       "  <tbody>\n",
       "    <tr>\n",
       "      <th>17</th>\n",
       "      <td>2014-10-04</td>\n",
       "      <td>Total death/s in confirmed cases</td>\n",
       "      <td>1012.0</td>\n",
       "    </tr>\n",
       "    <tr>\n",
       "      <th>18</th>\n",
       "      <td>2014-10-04</td>\n",
       "      <td>Total death/s in probable cases</td>\n",
       "      <td>699.0</td>\n",
       "    </tr>\n",
       "    <tr>\n",
       "      <th>19</th>\n",
       "      <td>2014-10-04</td>\n",
       "      <td>Total death/s in suspected cases</td>\n",
       "      <td>488.0</td>\n",
       "    </tr>\n",
       "    <tr>\n",
       "      <th>34</th>\n",
       "      <td>2014-10-04</td>\n",
       "      <td>Total death/s in confirmed cases</td>\n",
       "      <td>1018.0</td>\n",
       "    </tr>\n",
       "    <tr>\n",
       "      <th>35</th>\n",
       "      <td>2014-10-04</td>\n",
       "      <td>Total death/s in probable cases</td>\n",
       "      <td>701.0</td>\n",
       "    </tr>\n",
       "    <tr>\n",
       "      <th>36</th>\n",
       "      <td>2014-10-04</td>\n",
       "      <td>Total death/s in suspected cases</td>\n",
       "      <td>491.0</td>\n",
       "    </tr>\n",
       "  </tbody>\n",
       "</table>\n",
       "</div>"
      ],
      "text/plain": [
       "         Date                          Variable  National\n",
       "17 2014-10-04  Total death/s in confirmed cases    1012.0\n",
       "18 2014-10-04   Total death/s in probable cases     699.0\n",
       "19 2014-10-04  Total death/s in suspected cases     488.0\n",
       "34 2014-10-04  Total death/s in confirmed cases    1018.0\n",
       "35 2014-10-04   Total death/s in probable cases     701.0\n",
       "36 2014-10-04  Total death/s in suspected cases     491.0"
      ]
     },
     "execution_count": 16,
     "metadata": {},
     "output_type": "execute_result"
    }
   ],
   "source": [
    "with_duplicates = dfs[tables_with_duplicates[0]]\n",
    "with_duplicates[with_duplicates.duplicated(keep=False, subset='Variable')]"
   ]
  },
  {
   "cell_type": "markdown",
   "metadata": {},
   "source": [
    "7 Variables are repeated twice."
   ]
  },
  {
   "cell_type": "code",
   "execution_count": 17,
   "metadata": {
    "collapsed": true
   },
   "outputs": [],
   "source": [
    "first = with_duplicates[with_duplicates.duplicated(keep='last', subset='Variable')][['Variable', 'National']]\n",
    "second = with_duplicates[with_duplicates.duplicated(keep='first', subset='Variable')][['Variable', 'National']]\n",
    "first = first.set_index('Variable')\n",
    "second = second.set_index('Variable')"
   ]
  },
  {
   "cell_type": "code",
   "execution_count": 18,
   "metadata": {},
   "outputs": [
    {
     "data": {
      "text/html": [
       "<div>\n",
       "<style>\n",
       "    .dataframe thead tr:only-child th {\n",
       "        text-align: right;\n",
       "    }\n",
       "\n",
       "    .dataframe thead th {\n",
       "        text-align: left;\n",
       "    }\n",
       "\n",
       "    .dataframe tbody tr th {\n",
       "        vertical-align: top;\n",
       "    }\n",
       "</style>\n",
       "<table border=\"1\" class=\"dataframe\">\n",
       "  <thead>\n",
       "    <tr style=\"text-align: right;\">\n",
       "      <th></th>\n",
       "      <th>National</th>\n",
       "    </tr>\n",
       "    <tr>\n",
       "      <th>Variable</th>\n",
       "      <th></th>\n",
       "    </tr>\n",
       "  </thead>\n",
       "  <tbody>\n",
       "    <tr>\n",
       "      <th>Total death/s in confirmed cases</th>\n",
       "      <td>6.0</td>\n",
       "    </tr>\n",
       "    <tr>\n",
       "      <th>Total death/s in probable cases</th>\n",
       "      <td>2.0</td>\n",
       "    </tr>\n",
       "    <tr>\n",
       "      <th>Total death/s in suspected cases</th>\n",
       "      <td>3.0</td>\n",
       "    </tr>\n",
       "  </tbody>\n",
       "</table>\n",
       "</div>"
      ],
      "text/plain": [
       "                                  National\n",
       "Variable                                  \n",
       "Total death/s in confirmed cases       6.0\n",
       "Total death/s in probable cases        2.0\n",
       "Total death/s in suspected cases       3.0"
      ]
     },
     "execution_count": 18,
     "metadata": {},
     "output_type": "execute_result"
    }
   ],
   "source": [
    "second - first"
   ]
  },
  {
   "cell_type": "markdown",
   "metadata": {},
   "source": [
    "We decided to keep the bigger values as the difference is not very relevant:"
   ]
  },
  {
   "cell_type": "code",
   "execution_count": 19,
   "metadata": {
    "collapsed": true
   },
   "outputs": [],
   "source": [
    "with_duplicates.drop_duplicates(subset='Variable', keep='last', inplace=True)"
   ]
  },
  {
   "cell_type": "code",
   "execution_count": 20,
   "metadata": {
    "collapsed": true
   },
   "outputs": [],
   "source": [
    "dfs = [df.pivot(index='Date', columns='Variable', values='National') for df in dfs.values()]"
   ]
  },
  {
   "cell_type": "code",
   "execution_count": 21,
   "metadata": {},
   "outputs": [],
   "source": [
    "liberia = pd.concat(dfs).sort_index()\n",
    "liberia = associate_to_country('Liberia', liberia).rename(columns=interesting_fields)"
   ]
  },
  {
   "cell_type": "code",
   "execution_count": 22,
   "metadata": {
    "scrolled": false
   },
   "outputs": [
    {
     "data": {
      "text/html": [
       "<div>\n",
       "<style>\n",
       "    .dataframe thead tr:only-child th {\n",
       "        text-align: right;\n",
       "    }\n",
       "\n",
       "    .dataframe thead th {\n",
       "        text-align: left;\n",
       "    }\n",
       "\n",
       "    .dataframe tbody tr th {\n",
       "        vertical-align: top;\n",
       "    }\n",
       "</style>\n",
       "<table border=\"1\" class=\"dataframe\">\n",
       "  <thead>\n",
       "    <tr style=\"text-align: right;\">\n",
       "      <th></th>\n",
       "      <th></th>\n",
       "      <th>New cases probable</th>\n",
       "      <th>New cases suspected</th>\n",
       "      <th>New cases confirmed</th>\n",
       "      <th>Death confirmed</th>\n",
       "      <th>Death probable</th>\n",
       "      <th>Death suspected</th>\n",
       "    </tr>\n",
       "    <tr>\n",
       "      <th>Country</th>\n",
       "      <th>Date</th>\n",
       "      <th></th>\n",
       "      <th></th>\n",
       "      <th></th>\n",
       "      <th></th>\n",
       "      <th></th>\n",
       "      <th></th>\n",
       "    </tr>\n",
       "  </thead>\n",
       "  <tbody>\n",
       "    <tr>\n",
       "      <th rowspan=\"10\" valign=\"top\">Liberia</th>\n",
       "      <th>2014-06-16</th>\n",
       "      <td>1.0</td>\n",
       "      <td>2.0</td>\n",
       "      <td>1.0</td>\n",
       "      <td>8.0</td>\n",
       "      <td>6.0</td>\n",
       "      <td>2.0</td>\n",
       "    </tr>\n",
       "    <tr>\n",
       "      <th>2014-06-17</th>\n",
       "      <td>0.0</td>\n",
       "      <td>2.0</td>\n",
       "      <td>0.0</td>\n",
       "      <td>8.0</td>\n",
       "      <td>6.0</td>\n",
       "      <td>2.0</td>\n",
       "    </tr>\n",
       "    <tr>\n",
       "      <th>2014-06-22</th>\n",
       "      <td>0.0</td>\n",
       "      <td>5.0</td>\n",
       "      <td>5.0</td>\n",
       "      <td>16.0</td>\n",
       "      <td>8.0</td>\n",
       "      <td>1.0</td>\n",
       "    </tr>\n",
       "    <tr>\n",
       "      <th>2014-06-24</th>\n",
       "      <td>0.0</td>\n",
       "      <td>2.0</td>\n",
       "      <td>4.0</td>\n",
       "      <td>18.0</td>\n",
       "      <td>8.0</td>\n",
       "      <td>6.0</td>\n",
       "    </tr>\n",
       "    <tr>\n",
       "      <th>2014-06-25</th>\n",
       "      <td>1.0</td>\n",
       "      <td>4.0</td>\n",
       "      <td>2.0</td>\n",
       "      <td>20.0</td>\n",
       "      <td>8.0</td>\n",
       "      <td>9.0</td>\n",
       "    </tr>\n",
       "    <tr>\n",
       "      <th>2014-06-28</th>\n",
       "      <td>6.0</td>\n",
       "      <td>2.0</td>\n",
       "      <td>1.0</td>\n",
       "      <td>26.0</td>\n",
       "      <td>10.0</td>\n",
       "      <td>13.0</td>\n",
       "    </tr>\n",
       "    <tr>\n",
       "      <th>2014-06-29</th>\n",
       "      <td>0.0</td>\n",
       "      <td>0.0</td>\n",
       "      <td>2.0</td>\n",
       "      <td>26.0</td>\n",
       "      <td>10.0</td>\n",
       "      <td>13.0</td>\n",
       "    </tr>\n",
       "    <tr>\n",
       "      <th>2014-07-01</th>\n",
       "      <td>0.0</td>\n",
       "      <td>2.0</td>\n",
       "      <td>2.0</td>\n",
       "      <td>30.0</td>\n",
       "      <td>17.0</td>\n",
       "      <td>14.0</td>\n",
       "    </tr>\n",
       "    <tr>\n",
       "      <th>2014-07-02</th>\n",
       "      <td>3.0</td>\n",
       "      <td>1.0</td>\n",
       "      <td>0.0</td>\n",
       "      <td>32.0</td>\n",
       "      <td>20.0</td>\n",
       "      <td>14.0</td>\n",
       "    </tr>\n",
       "    <tr>\n",
       "      <th>2014-07-03</th>\n",
       "      <td>2.0</td>\n",
       "      <td>1.0</td>\n",
       "      <td>1.0</td>\n",
       "      <td>33.0</td>\n",
       "      <td>22.0</td>\n",
       "      <td>15.0</td>\n",
       "    </tr>\n",
       "  </tbody>\n",
       "</table>\n",
       "</div>"
      ],
      "text/plain": [
       "                    New cases probable  New cases suspected  \\\n",
       "Country Date                                                  \n",
       "Liberia 2014-06-16                 1.0                  2.0   \n",
       "        2014-06-17                 0.0                  2.0   \n",
       "        2014-06-22                 0.0                  5.0   \n",
       "        2014-06-24                 0.0                  2.0   \n",
       "        2014-06-25                 1.0                  4.0   \n",
       "        2014-06-28                 6.0                  2.0   \n",
       "        2014-06-29                 0.0                  0.0   \n",
       "        2014-07-01                 0.0                  2.0   \n",
       "        2014-07-02                 3.0                  1.0   \n",
       "        2014-07-03                 2.0                  1.0   \n",
       "\n",
       "                    New cases confirmed  Death confirmed  Death probable  \\\n",
       "Country Date                                                               \n",
       "Liberia 2014-06-16                  1.0              8.0             6.0   \n",
       "        2014-06-17                  0.0              8.0             6.0   \n",
       "        2014-06-22                  5.0             16.0             8.0   \n",
       "        2014-06-24                  4.0             18.0             8.0   \n",
       "        2014-06-25                  2.0             20.0             8.0   \n",
       "        2014-06-28                  1.0             26.0            10.0   \n",
       "        2014-06-29                  2.0             26.0            10.0   \n",
       "        2014-07-01                  2.0             30.0            17.0   \n",
       "        2014-07-02                  0.0             32.0            20.0   \n",
       "        2014-07-03                  1.0             33.0            22.0   \n",
       "\n",
       "                    Death suspected  \n",
       "Country Date                         \n",
       "Liberia 2014-06-16              2.0  \n",
       "        2014-06-17              2.0  \n",
       "        2014-06-22              1.0  \n",
       "        2014-06-24              6.0  \n",
       "        2014-06-25              9.0  \n",
       "        2014-06-28             13.0  \n",
       "        2014-06-29             13.0  \n",
       "        2014-07-01             14.0  \n",
       "        2014-07-02             14.0  \n",
       "        2014-07-03             15.0  "
      ]
     },
     "execution_count": 22,
     "metadata": {},
     "output_type": "execute_result"
    }
   ],
   "source": [
    "liberia.head(n=10)"
   ]
  },
  {
   "cell_type": "markdown",
   "metadata": {},
   "source": [
    "However in this dataframe, the three deaths columns are *cumulative*. We can therefore subtract the value from the previous line."
   ]
  },
  {
   "cell_type": "code",
   "execution_count": 23,
   "metadata": {},
   "outputs": [],
   "source": [
    "deaths = liberia[['Death confirmed', 'Death probable', 'Death suspected']]\n",
    "cleaned = deaths - deaths.shift(1) # row_i - row_{i - 1}\n",
    "liberia.loc[1:, ['Death confirmed', 'Death probable', 'Death suspected']] = cleaned[1:]"
   ]
  },
  {
   "cell_type": "markdown",
   "metadata": {},
   "source": [
    "### Sierra Leone"
   ]
  },
  {
   "cell_type": "code",
   "execution_count": 26,
   "metadata": {
    "scrolled": false
   },
   "outputs": [],
   "source": [
    "dfs = {}\n",
    "tables_with_duplicates = []\n",
    "interesting_fields = {\n",
    "    'death_confirmed': 'Death confirmed',\n",
    "    'death_probable': 'Death probable',\n",
    "    'death_suspected': 'Death suspected',\n",
    "    'new_confirmed': 'New cases confirmed',\n",
    "    'new_probable': 'New cases probable',\n",
    "    'new_suspected': 'New cases suspected'\n",
    "}\n",
    "\n",
    "for file, path in ebola_csv_iter('sl_data'):\n",
    "    df = pd.read_csv(path,\n",
    "                     parse_dates=['date'],\n",
    "                     usecols=['date', 'variable', 'National'], \n",
    "                     converters={'National': parse_num})\n",
    "    df.rename(columns={'date': 'Date', 'variable': 'Variable'}, inplace=True)\n",
    "    df = df[df.Variable.isin(interesting_fields)]\n",
    "    if len(df.Variable.unique()) != len(df.Variable):\n",
    "        tables_with_duplicates.append(file)\n",
    "    dfs[file] = df"
   ]
  },
  {
   "cell_type": "code",
   "execution_count": 27,
   "metadata": {},
   "outputs": [
    {
     "data": {
      "text/plain": [
       "[]"
      ]
     },
     "execution_count": 27,
     "metadata": {},
     "output_type": "execute_result"
    }
   ],
   "source": [
    "tables_with_duplicates"
   ]
  },
  {
   "cell_type": "code",
   "execution_count": 28,
   "metadata": {
    "collapsed": true
   },
   "outputs": [],
   "source": [
    "dfs = [df.pivot(index='Date', columns='Variable', values='National') for df in dfs.values()]"
   ]
  },
  {
   "cell_type": "code",
   "execution_count": 30,
   "metadata": {
    "collapsed": true
   },
   "outputs": [],
   "source": [
    "sl = pd.concat(dfs).sort_index()\n",
    "sl = associate_to_country('Sierra Leone', sl).rename(columns=interesting_fields)"
   ]
  },
  {
   "cell_type": "code",
   "execution_count": 33,
   "metadata": {
    "scrolled": false
   },
   "outputs": [
    {
     "data": {
      "text/html": [
       "<div>\n",
       "<style>\n",
       "    .dataframe thead tr:only-child th {\n",
       "        text-align: right;\n",
       "    }\n",
       "\n",
       "    .dataframe thead th {\n",
       "        text-align: left;\n",
       "    }\n",
       "\n",
       "    .dataframe tbody tr th {\n",
       "        vertical-align: top;\n",
       "    }\n",
       "</style>\n",
       "<table border=\"1\" class=\"dataframe\">\n",
       "  <thead>\n",
       "    <tr style=\"text-align: right;\">\n",
       "      <th></th>\n",
       "      <th></th>\n",
       "      <th>Death confirmed</th>\n",
       "      <th>Death probable</th>\n",
       "      <th>Death suspected</th>\n",
       "      <th>New cases confirmed</th>\n",
       "      <th>New cases probable</th>\n",
       "      <th>New cases suspected</th>\n",
       "    </tr>\n",
       "    <tr>\n",
       "      <th>Country</th>\n",
       "      <th>Date</th>\n",
       "      <th></th>\n",
       "      <th></th>\n",
       "      <th></th>\n",
       "      <th></th>\n",
       "      <th></th>\n",
       "      <th></th>\n",
       "    </tr>\n",
       "  </thead>\n",
       "  <tbody>\n",
       "    <tr>\n",
       "      <th rowspan=\"10\" valign=\"top\">Sierra Leone</th>\n",
       "      <th>2014-08-12</th>\n",
       "      <td>264.0</td>\n",
       "      <td>34.0</td>\n",
       "      <td>5.0</td>\n",
       "      <td>11.0</td>\n",
       "      <td>1.0</td>\n",
       "      <td>10.0</td>\n",
       "    </tr>\n",
       "    <tr>\n",
       "      <th>2014-08-13</th>\n",
       "      <td>273.0</td>\n",
       "      <td>34.0</td>\n",
       "      <td>5.0</td>\n",
       "      <td>15.0</td>\n",
       "      <td>1.0</td>\n",
       "      <td>3.0</td>\n",
       "    </tr>\n",
       "    <tr>\n",
       "      <th>2014-08-14</th>\n",
       "      <td>280.0</td>\n",
       "      <td>34.0</td>\n",
       "      <td>5.0</td>\n",
       "      <td>13.0</td>\n",
       "      <td>2.0</td>\n",
       "      <td>0.0</td>\n",
       "    </tr>\n",
       "    <tr>\n",
       "      <th>2014-08-15</th>\n",
       "      <td>287.0</td>\n",
       "      <td>34.0</td>\n",
       "      <td>5.0</td>\n",
       "      <td>10.0</td>\n",
       "      <td>1.0</td>\n",
       "      <td>6.0</td>\n",
       "    </tr>\n",
       "    <tr>\n",
       "      <th>2014-08-16</th>\n",
       "      <td>297.0</td>\n",
       "      <td>34.0</td>\n",
       "      <td>5.0</td>\n",
       "      <td>18.0</td>\n",
       "      <td>0.0</td>\n",
       "      <td>3.0</td>\n",
       "    </tr>\n",
       "    <tr>\n",
       "      <th>2014-08-17</th>\n",
       "      <td>305.0</td>\n",
       "      <td>34.0</td>\n",
       "      <td>5.0</td>\n",
       "      <td>2.0</td>\n",
       "      <td>0.0</td>\n",
       "      <td>1.0</td>\n",
       "    </tr>\n",
       "    <tr>\n",
       "      <th>2014-08-18</th>\n",
       "      <td>312.0</td>\n",
       "      <td>34.0</td>\n",
       "      <td>5.0</td>\n",
       "      <td>5.0</td>\n",
       "      <td>15.0</td>\n",
       "      <td>40.0</td>\n",
       "    </tr>\n",
       "    <tr>\n",
       "      <th>2014-08-19</th>\n",
       "      <td>320.0</td>\n",
       "      <td>34.0</td>\n",
       "      <td>5.0</td>\n",
       "      <td>9.0</td>\n",
       "      <td>3.0</td>\n",
       "      <td>16.0</td>\n",
       "    </tr>\n",
       "    <tr>\n",
       "      <th>2014-08-20</th>\n",
       "      <td>322.0</td>\n",
       "      <td>34.0</td>\n",
       "      <td>5.0</td>\n",
       "      <td>4.0</td>\n",
       "      <td>0.0</td>\n",
       "      <td>1.0</td>\n",
       "    </tr>\n",
       "    <tr>\n",
       "      <th>2014-08-21</th>\n",
       "      <td>329.0</td>\n",
       "      <td>34.0</td>\n",
       "      <td>8.0</td>\n",
       "      <td>9.0</td>\n",
       "      <td>0.0</td>\n",
       "      <td>0.0</td>\n",
       "    </tr>\n",
       "  </tbody>\n",
       "</table>\n",
       "</div>"
      ],
      "text/plain": [
       "                         Death confirmed  Death probable  Death suspected  \\\n",
       "Country      Date                                                           \n",
       "Sierra Leone 2014-08-12            264.0            34.0              5.0   \n",
       "             2014-08-13            273.0            34.0              5.0   \n",
       "             2014-08-14            280.0            34.0              5.0   \n",
       "             2014-08-15            287.0            34.0              5.0   \n",
       "             2014-08-16            297.0            34.0              5.0   \n",
       "             2014-08-17            305.0            34.0              5.0   \n",
       "             2014-08-18            312.0            34.0              5.0   \n",
       "             2014-08-19            320.0            34.0              5.0   \n",
       "             2014-08-20            322.0            34.0              5.0   \n",
       "             2014-08-21            329.0            34.0              8.0   \n",
       "\n",
       "                         New cases confirmed  New cases probable  \\\n",
       "Country      Date                                                  \n",
       "Sierra Leone 2014-08-12                 11.0                 1.0   \n",
       "             2014-08-13                 15.0                 1.0   \n",
       "             2014-08-14                 13.0                 2.0   \n",
       "             2014-08-15                 10.0                 1.0   \n",
       "             2014-08-16                 18.0                 0.0   \n",
       "             2014-08-17                  2.0                 0.0   \n",
       "             2014-08-18                  5.0                15.0   \n",
       "             2014-08-19                  9.0                 3.0   \n",
       "             2014-08-20                  4.0                 0.0   \n",
       "             2014-08-21                  9.0                 0.0   \n",
       "\n",
       "                         New cases suspected  \n",
       "Country      Date                             \n",
       "Sierra Leone 2014-08-12                 10.0  \n",
       "             2014-08-13                  3.0  \n",
       "             2014-08-14                  0.0  \n",
       "             2014-08-15                  6.0  \n",
       "             2014-08-16                  3.0  \n",
       "             2014-08-17                  1.0  \n",
       "             2014-08-18                 40.0  \n",
       "             2014-08-19                 16.0  \n",
       "             2014-08-20                  1.0  \n",
       "             2014-08-21                  0.0  "
      ]
     },
     "execution_count": 33,
     "metadata": {},
     "output_type": "execute_result"
    }
   ],
   "source": [
    "sl.head(n=10)"
   ]
  },
  {
   "cell_type": "code",
   "execution_count": 34,
   "metadata": {
    "collapsed": true
   },
   "outputs": [],
   "source": [
    "del dfs\n",
    "del tables_with_duplicates"
   ]
  },
  {
   "cell_type": "markdown",
   "metadata": {},
   "source": [
    "### Combining the data"
   ]
  },
  {
   "cell_type": "code",
   "execution_count": 35,
   "metadata": {},
   "outputs": [],
   "source": [
    "# Concatenate all dataframes\n",
    "df = pd.concat([guinea, liberia, sl])"
   ]
  },
  {
   "cell_type": "markdown",
   "metadata": {},
   "source": [
    "### Computing means"
   ]
  },
  {
   "cell_type": "code",
   "execution_count": 38,
   "metadata": {
    "collapsed": true,
    "scrolled": true
   },
   "outputs": [],
   "source": [
    "import calendar\n",
    "\n",
    "# Compute mean per month per country. \n",
    "# WARNING: TO CHECK\n",
    "results = df.groupby(lambda row: (row[0], row[1].month))\\\n",
    "            .mean()\n",
    "\n",
    "# Give computation result a nice index\n",
    "results.index = pd.MultiIndex.from_tuples(results.index, names=['Country', 'Month'])\\\n",
    "                  .map(lambda i: (i[0], calendar.month_name[i[1]]))"
   ]
  },
  {
   "cell_type": "code",
   "execution_count": 39,
   "metadata": {},
   "outputs": [
    {
     "data": {
      "text/html": [
       "<div>\n",
       "<style>\n",
       "    .dataframe thead tr:only-child th {\n",
       "        text-align: right;\n",
       "    }\n",
       "\n",
       "    .dataframe thead th {\n",
       "        text-align: left;\n",
       "    }\n",
       "\n",
       "    .dataframe tbody tr th {\n",
       "        vertical-align: top;\n",
       "    }\n",
       "</style>\n",
       "<table border=\"1\" class=\"dataframe\">\n",
       "  <thead>\n",
       "    <tr style=\"text-align: right;\">\n",
       "      <th></th>\n",
       "      <th></th>\n",
       "      <th>Death confirmed</th>\n",
       "      <th>Death probable</th>\n",
       "      <th>Death suspected</th>\n",
       "      <th>New cases confirmed</th>\n",
       "      <th>New cases probable</th>\n",
       "      <th>New cases suspected</th>\n",
       "    </tr>\n",
       "  </thead>\n",
       "  <tbody>\n",
       "    <tr>\n",
       "      <th rowspan=\"3\" valign=\"top\">Guinea</th>\n",
       "      <th>August</th>\n",
       "      <td>67.400000</td>\n",
       "      <td>30.000000</td>\n",
       "      <td>0.400000</td>\n",
       "      <td>12.400000</td>\n",
       "      <td>2.000000</td>\n",
       "      <td>11.800000</td>\n",
       "    </tr>\n",
       "    <tr>\n",
       "      <th>September</th>\n",
       "      <td>12.625000</td>\n",
       "      <td>1.562500</td>\n",
       "      <td>11.133333</td>\n",
       "      <td>13.000000</td>\n",
       "      <td>1.187500</td>\n",
       "      <td>5.437500</td>\n",
       "    </tr>\n",
       "    <tr>\n",
       "      <th>October</th>\n",
       "      <td>23.000000</td>\n",
       "      <td>2.000000</td>\n",
       "      <td>NaN</td>\n",
       "      <td>6.000000</td>\n",
       "      <td>0.000000</td>\n",
       "      <td>28.000000</td>\n",
       "    </tr>\n",
       "    <tr>\n",
       "      <th rowspan=\"7\" valign=\"top\">Liberia</th>\n",
       "      <th>June</th>\n",
       "      <td>3.714286</td>\n",
       "      <td>1.428571</td>\n",
       "      <td>1.857143</td>\n",
       "      <td>2.142857</td>\n",
       "      <td>1.142857</td>\n",
       "      <td>2.428571</td>\n",
       "    </tr>\n",
       "    <tr>\n",
       "      <th>July</th>\n",
       "      <td>3.636364</td>\n",
       "      <td>4.545455</td>\n",
       "      <td>0.545455</td>\n",
       "      <td>1.818182</td>\n",
       "      <td>3.727273</td>\n",
       "      <td>3.000000</td>\n",
       "    </tr>\n",
       "    <tr>\n",
       "      <th>August</th>\n",
       "      <td>28.333333</td>\n",
       "      <td>32.222222</td>\n",
       "      <td>21.666667</td>\n",
       "      <td>5.444444</td>\n",
       "      <td>19.777778</td>\n",
       "      <td>12.000000</td>\n",
       "    </tr>\n",
       "    <tr>\n",
       "      <th>September</th>\n",
       "      <td>24.909091</td>\n",
       "      <td>12.272727</td>\n",
       "      <td>9.681818</td>\n",
       "      <td>6.166667</td>\n",
       "      <td>29.333333</td>\n",
       "      <td>28.333333</td>\n",
       "    </tr>\n",
       "    <tr>\n",
       "      <th>October</th>\n",
       "      <td>27.600000</td>\n",
       "      <td>9.600000</td>\n",
       "      <td>12.200000</td>\n",
       "      <td>1.619048</td>\n",
       "      <td>17.760000</td>\n",
       "      <td>26.440000</td>\n",
       "    </tr>\n",
       "    <tr>\n",
       "      <th>November</th>\n",
       "      <td>NaN</td>\n",
       "      <td>NaN</td>\n",
       "      <td>NaN</td>\n",
       "      <td>7.800000</td>\n",
       "      <td>8.076923</td>\n",
       "      <td>19.461538</td>\n",
       "    </tr>\n",
       "    <tr>\n",
       "      <th>December</th>\n",
       "      <td>NaN</td>\n",
       "      <td>NaN</td>\n",
       "      <td>NaN</td>\n",
       "      <td>2169.375000</td>\n",
       "      <td>1359.000000</td>\n",
       "      <td>2297.500000</td>\n",
       "    </tr>\n",
       "    <tr>\n",
       "      <th rowspan=\"5\" valign=\"top\">Sierra Leone</th>\n",
       "      <th>August</th>\n",
       "      <td>326.500000</td>\n",
       "      <td>35.166667</td>\n",
       "      <td>7.166667</td>\n",
       "      <td>20.611111</td>\n",
       "      <td>1.277778</td>\n",
       "      <td>6.055556</td>\n",
       "    </tr>\n",
       "    <tr>\n",
       "      <th>September</th>\n",
       "      <td>476.148148</td>\n",
       "      <td>37.000000</td>\n",
       "      <td>11.000000</td>\n",
       "      <td>36.962963</td>\n",
       "      <td>0.000000</td>\n",
       "      <td>7.000000</td>\n",
       "    </tr>\n",
       "    <tr>\n",
       "      <th>October</th>\n",
       "      <td>905.464286</td>\n",
       "      <td>159.500000</td>\n",
       "      <td>97.392857</td>\n",
       "      <td>56.714286</td>\n",
       "      <td>0.888889</td>\n",
       "      <td>13.851852</td>\n",
       "    </tr>\n",
       "    <tr>\n",
       "      <th>November</th>\n",
       "      <td>1241.105263</td>\n",
       "      <td>208.000000</td>\n",
       "      <td>157.368421</td>\n",
       "      <td>66.210526</td>\n",
       "      <td>0.000000</td>\n",
       "      <td>23.000000</td>\n",
       "    </tr>\n",
       "    <tr>\n",
       "      <th>December</th>\n",
       "      <td>1643.500000</td>\n",
       "      <td>208.000000</td>\n",
       "      <td>158.000000</td>\n",
       "      <td>54.333333</td>\n",
       "      <td>0.000000</td>\n",
       "      <td>14.000000</td>\n",
       "    </tr>\n",
       "  </tbody>\n",
       "</table>\n",
       "</div>"
      ],
      "text/plain": [
       "                        Death confirmed  Death probable  Death suspected  \\\n",
       "Guinea       August           67.400000       30.000000         0.400000   \n",
       "             September        12.625000        1.562500        11.133333   \n",
       "             October          23.000000        2.000000              NaN   \n",
       "Liberia      June              3.714286        1.428571         1.857143   \n",
       "             July              3.636364        4.545455         0.545455   \n",
       "             August           28.333333       32.222222        21.666667   \n",
       "             September        24.909091       12.272727         9.681818   \n",
       "             October          27.600000        9.600000        12.200000   \n",
       "             November               NaN             NaN              NaN   \n",
       "             December               NaN             NaN              NaN   \n",
       "Sierra Leone August          326.500000       35.166667         7.166667   \n",
       "             September       476.148148       37.000000        11.000000   \n",
       "             October         905.464286      159.500000        97.392857   \n",
       "             November       1241.105263      208.000000       157.368421   \n",
       "             December       1643.500000      208.000000       158.000000   \n",
       "\n",
       "                        New cases confirmed  New cases probable  \\\n",
       "Guinea       August               12.400000            2.000000   \n",
       "             September            13.000000            1.187500   \n",
       "             October               6.000000            0.000000   \n",
       "Liberia      June                  2.142857            1.142857   \n",
       "             July                  1.818182            3.727273   \n",
       "             August                5.444444           19.777778   \n",
       "             September             6.166667           29.333333   \n",
       "             October               1.619048           17.760000   \n",
       "             November              7.800000            8.076923   \n",
       "             December           2169.375000         1359.000000   \n",
       "Sierra Leone August               20.611111            1.277778   \n",
       "             September            36.962963            0.000000   \n",
       "             October              56.714286            0.888889   \n",
       "             November             66.210526            0.000000   \n",
       "             December             54.333333            0.000000   \n",
       "\n",
       "                        New cases suspected  \n",
       "Guinea       August               11.800000  \n",
       "             September             5.437500  \n",
       "             October              28.000000  \n",
       "Liberia      June                  2.428571  \n",
       "             July                  3.000000  \n",
       "             August               12.000000  \n",
       "             September            28.333333  \n",
       "             October              26.440000  \n",
       "             November             19.461538  \n",
       "             December           2297.500000  \n",
       "Sierra Leone August                6.055556  \n",
       "             September             7.000000  \n",
       "             October              13.851852  \n",
       "             November             23.000000  \n",
       "             December             14.000000  "
      ]
     },
     "execution_count": 39,
     "metadata": {},
     "output_type": "execute_result"
    }
   ],
   "source": [
    "results"
   ]
  },
  {
   "cell_type": "markdown",
   "metadata": {},
   "source": [
    "## Task 2. RNA Sequences\n",
    "\n",
    "In the `DATA_FOLDER/microbiome` subdirectory, there are 9 spreadsheets of microbiome data that was acquired from high-throughput RNA sequencing procedures, along with a 10<sup>th</sup> file that describes the content of each. \n",
    "\n",
    "Use pandas to import the first 9 spreadsheets into a single `DataFrame`.\n",
    "Then, add the metadata information from the 10<sup>th</sup> spreadsheet as columns in the combined `DataFrame`.\n",
    "Make sure that the final `DataFrame` has a unique index and all the `NaN` values have been replaced by the tag `unknown`."
   ]
  },
  {
   "cell_type": "code",
   "execution_count": null,
   "metadata": {
    "collapsed": true
   },
   "outputs": [],
   "source": []
  },
  {
   "cell_type": "code",
   "execution_count": null,
   "metadata": {
    "collapsed": true
   },
   "outputs": [],
   "source": [
    "# Write your answer here"
   ]
  },
  {
   "cell_type": "markdown",
   "metadata": {},
   "source": [
    "## Task 3. Class War in Titanic\n",
    "\n",
    "Use pandas to import the data file `Data/titanic.xls`. It contains data on all the passengers that travelled on the Titanic."
   ]
  },
  {
   "cell_type": "code",
   "execution_count": null,
   "metadata": {
    "scrolled": false
   },
   "outputs": [],
   "source": [
    "from IPython.core.display import HTML\n",
    "HTML(filename=DATA_FOLDER+'/titanic.html')"
   ]
  },
  {
   "cell_type": "markdown",
   "metadata": {},
   "source": [
    "For each of the following questions state clearly your assumptions and discuss your findings:\n",
    "1. Describe the *type* and the *value range* of each attribute. Indicate and transform the attributes that can be `Categorical`. \n",
    "2. Plot histograms for the *travel class*, *embarkation port*, *sex* and *age* attributes. For the latter one, use *discrete decade intervals*. \n",
    "3. Calculate the proportion of passengers by *cabin floor*. Present your results in a *pie chart*.\n",
    "4. For each *travel class*, calculate the proportion of the passengers that survived. Present your results in *pie charts*.\n",
    "5. Calculate the proportion of the passengers that survived by *travel class* and *sex*. Present your results in *a single histogram*.\n",
    "6. Create 2 equally populated *age categories* and calculate survival proportions by *age category*, *travel class* and *sex*. Present your results in a `DataFrame` with unique index."
   ]
  },
  {
   "cell_type": "code",
   "execution_count": null,
   "metadata": {
    "collapsed": true
   },
   "outputs": [],
   "source": [
    "# Write your answer here"
   ]
  }
 ],
 "metadata": {
  "kernelspec": {
   "display_name": "Python 3",
   "language": "python",
   "name": "python3"
  },
  "language_info": {
   "codemirror_mode": {
    "name": "ipython",
    "version": 3
   },
   "file_extension": ".py",
   "mimetype": "text/x-python",
   "name": "python",
   "nbconvert_exporter": "python",
   "pygments_lexer": "ipython3",
   "version": "3.6.1"
  }
 },
 "nbformat": 4,
 "nbformat_minor": 2
}
